{
 "cells": [
  {
   "cell_type": "markdown",
   "id": "fc46c62a-499c-4b12-a65d-f40946f5f46f",
   "metadata": {},
   "source": [
    "# Beam center finder\n",
    "\n",
    "In SANS experiments, it is essential to find the center of the scattering pattern in order to allow symmetric summation of the scattering intensity around the beam (i.e. computing a one-dimensional $I(Q)$).\n",
    "As detector panels can move, the center of the beam will not always be located at the same place on the detector panel from one experiment to the next.\n",
    "\n",
    "Here we describe the beam center finding algorithm,\n",
    "which uses a combination of a center-of-mass calculation and an iterative refinement on a computed scattering cross-section to find the center of the scattering pattern."
   ]
  },
  {
   "cell_type": "code",
   "execution_count": null,
   "id": "f68a06b0-8982-43b2-b180-942c3dd49b5e",
   "metadata": {
    "tags": []
   },
   "outputs": [],
   "source": [
    "import scipp as sc\n",
    "from scipp.constants import g\n",
    "from ess import loki, sans\n",
    "from ess.logging import configure_workflow\n",
    "import scippneutron as scn\n",
    "import plopp as pp\n",
    "pp.patch_scipp()"
   ]
  },
  {
   "cell_type": "code",
   "execution_count": null,
   "id": "3356a55c-81d8-4d7a-8d38-dbc14accd1c5",
   "metadata": {
    "tags": []
   },
   "outputs": [],
   "source": [
    "logger = configure_workflow('sans_beam_center_finder', filename='sans.log')"
   ]
  },
  {
   "cell_type": "markdown",
   "id": "e84bd5a5-8bed-459b-ad8c-0d04aa6117e0",
   "metadata": {},
   "source": [
    "We begin by setting some parameters relevant to the current sample."
   ]
  },
  {
   "cell_type": "code",
   "execution_count": null,
   "id": "7224f0ed-b26e-42a8-8a24-3fccc7e0de19",
   "metadata": {
    "tags": []
   },
   "outputs": [],
   "source": [
    "# Include effects of gravity?\n",
    "gravity = True\n",
    "\n",
    "# Wavelength binning\n",
    "wavelength_bins = sc.linspace(dim='wavelength', start=2.0, stop=16.0, num=141, unit='angstrom')\n",
    "\n",
    "# Define Q binning\n",
    "q_bins = sc.linspace('Q', 0.02, 0.25, 65, unit='1/angstrom')\n",
    "\n",
    "# Define coordinate transformation graph\n",
    "graph = sans.conversions.sans_elastic(gravity=gravity)"
   ]
  },
  {
   "cell_type": "markdown",
   "id": "e42a73ba-5f47-44b9-b700-f8b947412b02",
   "metadata": {},
   "source": [
    "Next we load the data files for the sample and direct runs:"
   ]
  },
  {
   "cell_type": "code",
   "execution_count": null,
   "id": "323e7114-be3c-40ee-9661-6ec74439938f",
   "metadata": {
    "tags": []
   },
   "outputs": [],
   "source": [
    "sample = loki.io.load_sans2d(filename=loki.data.get_path('SANS2D00063114.hdf5'))\n",
    "direct = loki.io.load_sans2d(filename=loki.data.get_path('SANS2D00063091.hdf5'))\n",
    "# Add X, Y coordinates\n",
    "sample.coords['x'] = sample.coords['position'].fields.x\n",
    "sample.coords['y'] = sample.coords['position'].fields.y\n",
    "# Add gravity coordinate\n",
    "sample.coords[\"gravity\"] = sc.vector(value=[0, -1, 0]) * g"
   ]
  },
  {
   "cell_type": "markdown",
   "id": "1ae3315b-ab76-4fbc-9d6e-594b31d2fae6",
   "metadata": {},
   "source": [
    "### Masking bad pixels\n",
    "\n",
    "We create a quick image of the data (summing along the `tof` dimension) to inspect its contents.\n",
    "We see a diffuse scattering pattern, centered around a dark patch with an arm to the north-east; this is the sample holder.\n",
    "It is clear that the sample and the beam are not in the center of the panel, which is marked by the red dot"
   ]
  },
  {
   "cell_type": "code",
   "execution_count": null,
   "id": "c378ed3f-d2ef-4ef7-8fdc-28b1557d75ce",
   "metadata": {
    "tags": []
   },
   "outputs": [],
   "source": [
    "image = sample.sum('tof').copy().hist(y=120, x=128)\n",
    "p = image.plot(norm='log', aspect='equal')\n",
    "p.ax.plot(0, 0, 'o', color='red', ms=5)\n",
    "p"
   ]
  },
  {
   "cell_type": "markdown",
   "id": "25a4c118-65fd-4d90-89e9-2cf901239c56",
   "metadata": {},
   "source": [
    "To avoid skew in future comparisons of integrated intensities between the different regions of the detector panel,\n",
    "we mask out the sample holder, using a combination of a low-counts threshold and pixel locations."
   ]
  },
  {
   "cell_type": "code",
   "execution_count": null,
   "id": "b9f47105-ae09-4f84-9c33-c13072bea608",
   "metadata": {
    "tags": []
   },
   "outputs": [],
   "source": [
    "summed = sample.sum('tof')\n",
    "holder_mask = (summed.data < sc.scalar(100, unit='counts')) & \\\n",
    "              (sample.coords['x'] > sc.scalar(0, unit='m')) & \\\n",
    "              (sample.coords['x'] < sc.scalar(0.42, unit='m')) & \\\n",
    "              (sample.coords['y'] < sc.scalar(0.05, unit='m')) & \\\n",
    "              (sample.coords['y'] > sc.scalar(-0.15, unit='m'))\n",
    "sample.masks['holder_mask'] = holder_mask"
   ]
  },
  {
   "cell_type": "markdown",
   "id": "3db2d894-96d3-4a5b-8a7c-d8d442a358a6",
   "metadata": {},
   "source": [
    "We look at the image again, to verify we have masked the desired region\n",
    "(note that the part of the arm furthest away from the sample has not been masked, but this will not matter further down as more masks will be added)."
   ]
  },
  {
   "cell_type": "code",
   "execution_count": null,
   "id": "06428cba-9bd3-4552-885c-971eb3b2efa9",
   "metadata": {
    "tags": []
   },
   "outputs": [],
   "source": [
    "image = sample.sum('tof').copy().hist(y=120, x=128)\n",
    "p = image.plot(norm='log', aspect='equal')\n",
    "p.ax.plot(0, 0, 'o', color='red', ms=5)\n",
    "p"
   ]
  },
  {
   "cell_type": "markdown",
   "id": "0061b064-c348-4ef4-8d4c-03e729f69074",
   "metadata": {},
   "source": [
    "## Description of the procedure\n",
    "\n",
    "The procedure to determine the precise location of the beam center is the following:\n",
    "\n",
    "1. obtain an initial guess by computing the center-of-mass of the pixels, weighted by the counts on each pixel\n",
    "2. from that initial guess, divide the panel into 4 quadrants\n",
    "3. compute $I(Q)$ inside each quadrant and compute the residual difference between all 4 quadrants\n",
    "4. iteratively move the centre position and repeat 2. and 3. until all 4 $I(Q)$ curves lie on top of each other\n",
    "\n",
    "## Initial guess: center-of-mass calculation\n",
    "\n",
    "Computing the center-of-mass is straightforward using the vector `position` coordinate."
   ]
  },
  {
   "cell_type": "code",
   "execution_count": null,
   "id": "cccf23bb-2a18-4281-8816-85d1ab187635",
   "metadata": {
    "tags": []
   },
   "outputs": [],
   "source": [
    "# First sum the data along the 'tof' dimension\n",
    "summed = sample.sum('tof')\n",
    "\n",
    "# The weights are just the data counts in each pixel\n",
    "weights = sc.values(summed.data)\n",
    "\n",
    "# The center-of-mass is simply the weighted mean of the positions\n",
    "com = sc.sum(summed.coords['position'] * weights) / weights.sum()\n",
    "\n",
    "# We compute the shift between the incident beam direction and the center-of-mass\n",
    "incident_beam = sample.transform_coords('incident_beam', graph=graph).coords['incident_beam']\n",
    "n_beam = incident_beam / sc.norm(incident_beam)\n",
    "com_shift = com - sc.dot(com, n_beam) * n_beam\n",
    "com_shift"
   ]
  },
  {
   "cell_type": "markdown",
   "id": "bb5fa84f-024a-4320-bf98-eefd8a3e34cd",
   "metadata": {},
   "source": [
    "We can now plot the center-of-mass on the same image as before:"
   ]
  },
  {
   "cell_type": "code",
   "execution_count": null,
   "id": "2fba7083-25ef-4ffa-926c-1e24ee8103cd",
   "metadata": {
    "tags": []
   },
   "outputs": [],
   "source": [
    "xc = com_shift.fields.x\n",
    "yc = com_shift.fields.y\n",
    "p = image.plot(norm='log', aspect='equal')\n",
    "p.ax.plot(xc.value, yc.value, 'o', color='red', ms=5)\n",
    "p"
   ]
  },
  {
   "cell_type": "markdown",
   "id": "afbf9a8c-4fc7-4eb3-a477-111baa047b18",
   "metadata": {},
   "source": [
    "## Making 4 quadrants\n",
    "\n",
    "We divide the panel into 4 quadrants."
   ]
  },
  {
   "cell_type": "code",
   "execution_count": null,
   "id": "bfdb5422-4c71-4e65-a4be-e7fd6042c203",
   "metadata": {
    "tags": []
   },
   "outputs": [],
   "source": [
    "p = image.plot(norm='log', aspect='equal')\n",
    "p.ax.plot(xc.value, yc.value, 'o', color='red', ms=5)\n",
    "p.ax.axvline(xc.value, color='cyan')\n",
    "p.ax.axhline(yc.value, color='cyan')\n",
    "dx = 0.25\n",
    "p.ax.text(xc.value + dx, yc.value + dx, 'North-East', ha='center', va='center')\n",
    "p.ax.text(xc.value - dx, yc.value + dx, 'North-West', ha='center', va='center')\n",
    "p.ax.text(xc.value - dx, yc.value - dx, 'South-East', ha='center', va='center')\n",
    "p.ax.text(xc.value + dx, yc.value - dx, 'South-West', ha='center', va='center')\n",
    "p"
   ]
  },
  {
   "cell_type": "markdown",
   "id": "2c8c0d88-aeac-4d1f-921d-8f427da73efe",
   "metadata": {},
   "source": [
    "## Adding a circular mask\n",
    "\n",
    "It is evident from the figure above that some quadrants (the ones to the West) contain more pixels that others.\n",
    "They also extend further away from the center, which means that more pixels can contribute to a given $Q$ bin.\n",
    "To avoid introducing such bias when searching for the beam center, we add a circular mask onto the detector panel."
   ]
  },
  {
   "cell_type": "code",
   "execution_count": null,
   "id": "6a72ce92-1231-47c5-83a9-216cee6bc029",
   "metadata": {
    "tags": []
   },
   "outputs": [],
   "source": [
    "masking_radius = sc.scalar(0.35, unit='m')\n",
    "\n",
    "r = sc.sqrt(sc.midpoints(image.coords['x'] - xc)**2 +\n",
    "            sc.midpoints(image.coords['y'] - yc)**2)\n",
    "image.masks['circle'] = r > masking_radius\n",
    "\n",
    "p = image.plot(norm='log', aspect='equal')\n",
    "p.ax.plot(xc.value, yc.value, 'o', color='red', ms=5)\n",
    "p.ax.axvline(xc.value, color='cyan')\n",
    "p.ax.axhline(yc.value, color='cyan')\n",
    "p"
   ]
  },
  {
   "cell_type": "markdown",
   "id": "db8c835f-75ad-44e2-a49a-095c59c68863",
   "metadata": {},
   "source": [
    "## Converting to $Q$ inside each quadrant\n",
    "\n",
    "We now perform a full [$I(Q)$ reduction](../../instruments/loki/sans2d_to_I_of_Q.ipynb) inside each quadrant[$^1$](#footnote1).\n",
    "The reduction involves computing a normalizing term which, for the most part, does not depend on pixel positions.\n",
    "We therefore compute this once, before starting iterations to refine the position of the center.\n",
    "\n",
    "### First compute denominator to avoid loop over expensive compute"
   ]
  },
  {
   "cell_type": "code",
   "execution_count": null,
   "id": "6ad7b11e-3e51-438e-b492-104a18cda21c",
   "metadata": {
    "tags": []
   },
   "outputs": [],
   "source": [
    "# Extract monitor data\n",
    "sample_monitors = {\n",
    "    'incident': sample.attrs[\"monitor2\"].value,\n",
    "    'transmission': sample.attrs[\"monitor4\"].value\n",
    "}\n",
    "direct_monitors = {\n",
    "    'incident': direct.attrs[\"monitor2\"].value,\n",
    "    'transmission': direct.attrs[\"monitor4\"].value\n",
    "}\n",
    "# Define the range where monitor data is considered not to be noise\n",
    "non_background_range = sc.array(dims=['wavelength'], values=[0.7, 17.1], unit='angstrom')\n",
    "# Pre-process monitor data\n",
    "sample_monitors = sans.i_of_q.preprocess_monitor_data(\n",
    "    sample_monitors,\n",
    "    non_background_range=non_background_range,\n",
    "    wavelength_bins=wavelength_bins)\n",
    "direct_monitors = sans.i_of_q.preprocess_monitor_data(\n",
    "    direct_monitors,\n",
    "    non_background_range=non_background_range,\n",
    "    wavelength_bins=wavelength_bins)\n",
    "\n",
    "# Denominator is defined as:\n",
    "# pixel_solid_angles * Sample_T_monitor * Direct_I_monitor / Direct_T_monitor\n",
    "solid_angle = sans.normalization.solid_angle_of_rectangular_pixels(\n",
    "        sample,\n",
    "        pixel_width=sample.coords['pixel_width'],\n",
    "        pixel_height=sample.coords['pixel_height'])\n",
    "\n",
    "denominator = (solid_angle * sample_monitors['transmission'] *\n",
    "               direct_monitors['incident'] / direct_monitors['transmission'])\n",
    "# Convert wavelength coordinate to midpoints for future histogramming\n",
    "denominator.coords['wavelength'] = sc.midpoints(denominator.coords['wavelength'])\n",
    "denominator"
   ]
  },
  {
   "cell_type": "markdown",
   "id": "dccb7b71-8236-4509-b8b1-c20bedfac317",
   "metadata": {},
   "source": [
    "### Compute $I(Q)$ inside the 4 quadrants\n",
    "\n",
    "We begin by defining several parameters which are required to compute $I(Q)$."
   ]
  },
  {
   "cell_type": "code",
   "execution_count": null,
   "id": "6b960ad7-9068-4058-bb90-2df6bdbc4c3f",
   "metadata": {
    "tags": []
   },
   "outputs": [],
   "source": [
    "# Define 4 phi bins\n",
    "pi = sc.constants.pi.value\n",
    "phi_bins = sc.linspace('phi', -pi, pi, 5, unit='rad')\n",
    "\n",
    "# Name the quadrants\n",
    "quadrants = ['south-west', 'south-east', 'north-east', 'north-west']\n",
    "\n",
    "# Define a single wavelength band\n",
    "wavelength_bands = sc.concat(\n",
    "        [wavelength_bins.min(), wavelength_bins.max()], dim='wavelength')"
   ]
  },
  {
   "cell_type": "markdown",
   "id": "5c0ace9d-03f8-457e-a86c-efc9cd612631",
   "metadata": {},
   "source": [
    "We now define a function which will apply the center offset to the pixel coordinates,\n",
    "and compute $I(Q)$ inside each quadrant."
   ]
  },
  {
   "cell_type": "code",
   "execution_count": null,
   "id": "a5df078f-f1ed-444b-a3cb-6643005b617a",
   "metadata": {
    "tags": []
   },
   "outputs": [],
   "source": [
    "def to_q(xy, sample, denominator, graph, q_bins, masking_radius, gravity, wavelength_bands):\n",
    "    data = sample.copy(deep=False)\n",
    "    data.coords['position'] = sample.coords['position'].copy(deep=True)\n",
    "\n",
    "    # Offset the position according to the initial guess from the center-of-mass\n",
    "    coords = data.transform_coords(['cyl_x_unit_vector', 'cyl_y_unit_vector'], graph=graph).coords\n",
    "    center = xy[0] * coords['cyl_x_unit_vector'] + xy[1] * coords['cyl_y_unit_vector']\n",
    "    center.unit = data.coords['position'].unit\n",
    "    data.coords['position'] -= center\n",
    "    \n",
    "    # Add the circular mask\n",
    "    coords = data.transform_coords(['cylindrical_x', 'cylindrical_y'], graph=graph).coords\n",
    "    r = sc.sqrt(coords['cylindrical_x']**2 +\n",
    "                coords['cylindrical_y']**2)\n",
    "    data.masks['circle'] = r > masking_radius\n",
    "    \n",
    "    # Insert a copy of coords needed for conversion to Q.\n",
    "    for c in ['position', 'sample_position', 'source_position']:\n",
    "        denominator.coords[c] = data.coords[c]\n",
    "    denominator.masks['circle'] = data.masks['circle']\n",
    "    \n",
    "    phi = data.transform_coords('phi', graph=graph,\n",
    "                                keep_intermediate=False,\n",
    "                                keep_inputs=False).coords['phi']\n",
    "\n",
    "    out = {}\n",
    "    for i, quad in enumerate(quadrants):\n",
    "        # Select pixels based on phi\n",
    "        sel = (phi >= phi_bins[i]) & (phi < phi_bins[i+1])\n",
    "        # Data counts into Q bins\n",
    "        data_q = sans.i_of_q.convert_to_q_and_merge_spectra(\n",
    "            data=data[sel],\n",
    "            graph=graph,\n",
    "            q_bins=q_bins,\n",
    "            gravity=gravity,\n",
    "            wavelength_bands=wavelength_bands)\n",
    "        # Denominator counts into Q bins\n",
    "        denominator_q = sans.i_of_q.convert_to_q_and_merge_spectra(\n",
    "            data=denominator[sel],\n",
    "            graph=graph,\n",
    "            q_bins=q_bins,\n",
    "            gravity=gravity,\n",
    "            wavelength_bands=wavelength_bands)\n",
    "        # Normalize        \n",
    "        out[quad] = sans.normalization.normalize(numerator=data_q, denominator=denominator_q).hist()\n",
    "    return out"
   ]
  },
  {
   "cell_type": "markdown",
   "id": "6220bc54-ee38-4d8a-83fe-d88dce08dee9",
   "metadata": {},
   "source": [
    "Finally, we run the computation for all quadrants:"
   ]
  },
  {
   "cell_type": "code",
   "execution_count": null,
   "id": "1479159f-e887-48aa-9c33-06c82dad6fe6",
   "metadata": {
    "tags": []
   },
   "outputs": [],
   "source": [
    "grouped = to_q(xy=[com_shift.fields.x.value, com_shift.fields.y.value],\n",
    "               sample=sample,\n",
    "               denominator=denominator,\n",
    "               graph=graph,\n",
    "               q_bins=q_bins,\n",
    "               masking_radius=masking_radius,\n",
    "               gravity=gravity,\n",
    "               wavelength_bands=wavelength_bands)"
   ]
  },
  {
   "cell_type": "markdown",
   "id": "31e5b9f9-b0a3-4010-83e8-690fda6e3f76",
   "metadata": {},
   "source": [
    "We can now plot on the same figure all 4 $I(Q)$ curves for each quadrant."
   ]
  },
  {
   "cell_type": "code",
   "execution_count": null,
   "id": "007524f6-96b6-4bf7-9130-8d42db118b95",
   "metadata": {
    "tags": []
   },
   "outputs": [],
   "source": [
    "pp.plot(grouped, norm='log')"
   ]
  },
  {
   "cell_type": "markdown",
   "id": "db6a4f3e-3edf-4eae-8662-b971d9e6e19a",
   "metadata": {},
   "source": [
    "As we can see, the overlap between the curves from the 4 quadrants is not satisfactory.\n",
    "We will now use an iterative procedure to improve our initial guess, until a good overlap between the curves is found.\n",
    "\n",
    "For this, we first define a cost function, which gives us an idea of how good the overlap is:\n",
    "\n",
    "$$\n",
    "\\text{cost} = \\sum_{Q}\\frac{\\sum_{i=1}^{i=4} \\left|I(Q)_{i} - \\overline{I}(Q)\\right|}{\\overline{I}(Q)} ~,\n",
    "$$\n",
    "\n",
    "where $\\overline{I}(Q)$ is the mean intensity of the 4 quadrants as a function of $Q$."
   ]
  },
  {
   "cell_type": "code",
   "execution_count": null,
   "id": "301fe599-40df-4c2b-ab68-4ff59ce1239d",
   "metadata": {
    "tags": []
   },
   "outputs": [],
   "source": [
    "def cost(xy, sample, denominator, graph, q_bins, masking_radius, gravity, wavelength_bands):\n",
    "    data_q = to_q(xy=xy,\n",
    "                  sample=sample,\n",
    "                  denominator=denominator,\n",
    "                  graph=graph,\n",
    "                  q_bins=q_bins,\n",
    "                  masking_radius=masking_radius,\n",
    "                  gravity=gravity,\n",
    "                  wavelength_bands=wavelength_bands)\n",
    "    all_q = sc.concat(list(data_q.values()), dim='quadrant')\n",
    "    ref = sc.values(all_q.mean('quadrant'))\n",
    "    c = sc.abs(all_q - ref) / ref\n",
    "    out = c.sum().value\n",
    "    print(xy, out)\n",
    "    return out"
   ]
  },
  {
   "cell_type": "markdown",
   "id": "d7951a6a-3fa6-45ff-9e24-c55797efef31",
   "metadata": {},
   "source": [
    "Next, we use Scipy's [`minimize`](https://docs.scipy.org/doc/scipy/reference/generated/scipy.optimize.minimize.html)\n",
    "utility from the `optimize` module, to iteratively minimize the computed cost."
   ]
  },
  {
   "cell_type": "code",
   "execution_count": null,
   "id": "27898815-7742-4990-853f-15d665f0337e",
   "metadata": {
    "tags": []
   },
   "outputs": [],
   "source": [
    "from scipy.optimize import minimize\n",
    "\n",
    "# The minimizer works best if given bounds, which are the bounds of our detector panel\n",
    "x = sample.coords['position'].fields.x\n",
    "y = sample.coords['position'].fields.y\n",
    "res = minimize(cost,\n",
    "               x0=[com_shift.fields.x.value, com_shift.fields.y.value],\n",
    "               args=(sample, denominator, graph, q_bins, masking_radius, gravity, wavelength_bands),\n",
    "               bounds=[(x.min().value, x.max().value),\n",
    "                       (y.min().value, y.max().value)],\n",
    "               method='Nelder-Mead',\n",
    "               tol=0.1)\n",
    "res"
   ]
  },
  {
   "cell_type": "markdown",
   "id": "b8f125a8-38ec-4792-8e82-4d2b2e4860e4",
   "metadata": {},
   "source": [
    "Once the iterations completed, the returned object contains the best estimate for the beam center:"
   ]
  },
  {
   "cell_type": "code",
   "execution_count": null,
   "id": "81965cb9-bb34-4662-9210-e2904952759c",
   "metadata": {
    "tags": []
   },
   "outputs": [],
   "source": [
    "res.x"
   ]
  },
  {
   "cell_type": "markdown",
   "id": "9d7e7739-935d-46fa-88eb-5367d70f8278",
   "metadata": {},
   "source": [
    "We can now feed this value again into our `to_q` function, to inspect the $Q$ intensity in all 4 quadrants:"
   ]
  },
  {
   "cell_type": "code",
   "execution_count": null,
   "id": "bba5ad6e-294d-4549-8a2b-74e693f1f923",
   "metadata": {
    "tags": []
   },
   "outputs": [],
   "source": [
    "grouped = to_q(xy=[res.x[0], res.x[1]],\n",
    "               sample=sample,\n",
    "               denominator=denominator,\n",
    "               graph=graph,\n",
    "               q_bins=q_bins,\n",
    "               masking_radius=masking_radius,\n",
    "               gravity=gravity,\n",
    "               wavelength_bands=wavelength_bands)\n",
    "\n",
    "pp.plot(grouped, norm='log')"
   ]
  },
  {
   "cell_type": "markdown",
   "id": "389c0133-839d-46da-934c-bfcc5e2e5aab",
   "metadata": {},
   "source": [
    "The overlap between the curves is excellent, allowing us to safely perform an azimuthal summation of the counts around the beam center.\n",
    "\n",
    "As a consistency check, we plot the refined beam center position onto the detector panel image:"
   ]
  },
  {
   "cell_type": "code",
   "execution_count": null,
   "id": "f627d98e-5c3f-404e-b6f6-59ba2386a5bb",
   "metadata": {
    "tags": []
   },
   "outputs": [],
   "source": [
    "p = sample.sum('tof').copy().hist(y=120, x=128).plot(norm='log', aspect='equal')\n",
    "p.ax.plot(res.x[0], res.x[1], 'o', color='red', ms=5)\n",
    "p"
   ]
  },
  {
   "cell_type": "markdown",
   "id": "0c58240d-7034-4467-b86c-d2f985a86e8c",
   "metadata": {},
   "source": [
    "## Footnotes"
   ]
  },
  {
   "cell_type": "markdown",
   "id": "d723ce70-f424-477b-94e9-29d6fbed802e",
   "metadata": {},
   "source": [
    "<div id='footnote1'></div>\n",
    "\n",
    "1. In the full $I(Q)$ reduction, there is a term $D(\\lambda)$ in the normalization called the \"direct beam\" which gives the efficiency of the detectors as a function of wavelength.\n",
    "Because finding the beam center is required to compute the direct beam in the first place,\n",
    "we do not include this term in the computation of $I(Q)$ for finding the beam center.\n",
    "This changes the shape of the $I(Q)$ curve, but since it changes it in the same manner for all $\\phi$ angles,\n",
    "this does not affect the results for finding the beam center."
   ]
  }
 ],
 "metadata": {
  "kernelspec": {
   "display_name": "Python 3 (ipykernel)",
   "language": "python",
   "name": "python3"
  },
  "language_info": {
   "codemirror_mode": {
    "name": "ipython",
    "version": 3
   },
   "file_extension": ".py",
   "mimetype": "text/x-python",
   "name": "python",
   "nbconvert_exporter": "python",
   "pygments_lexer": "ipython3"
  }
 },
 "nbformat": 4,
 "nbformat_minor": 5
}
