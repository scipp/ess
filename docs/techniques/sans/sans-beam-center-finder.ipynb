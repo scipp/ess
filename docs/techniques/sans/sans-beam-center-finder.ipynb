{
 "cells": [
  {
   "cell_type": "markdown",
   "id": "fc46c62a-499c-4b12-a65d-f40946f5f46f",
   "metadata": {},
   "source": [
    "# Beam center finder\n",
    "\n",
    "In SANS experiments, it is essential to find the center of the scattering pattern in order to allow symmetric summation of the scattering intensity around the beam (i.e. computing a one-dimensional $I(Q)$).\n",
    "As detector panels can move, the center of the beam will not always be located at the same place on the detector panel from one experiment to the next.\n",
    "\n",
    "Here we describe the beam center finding algorithm,\n",
    "which uses a combination of a center-of-mass calculation and an iterative refinement on a computed scattering cross-section to find the center of the scattering pattern."
   ]
  },
  {
   "cell_type": "code",
   "execution_count": null,
   "id": "f68a06b0-8982-43b2-b180-942c3dd49b5e",
   "metadata": {
    "tags": []
   },
   "outputs": [],
   "source": [
    "import scipp as sc\n",
    "from scipp.constants import g\n",
    "from ess import loki, sans\n",
    "from ess.logging import configure_workflow\n",
    "import scippneutron as scn\n",
    "import numpy as np\n",
    "import plopp as pp"
   ]
  },
  {
   "cell_type": "code",
   "execution_count": null,
   "id": "3356a55c-81d8-4d7a-8d38-dbc14accd1c5",
   "metadata": {
    "tags": []
   },
   "outputs": [],
   "source": [
    "logger = configure_workflow('sans_beam_center_finder', filename='sans.log')"
   ]
  },
  {
   "cell_type": "markdown",
   "id": "e84bd5a5-8bed-459b-ad8c-0d04aa6117e0",
   "metadata": {},
   "source": [
    "We begin by setting some parameters relevant to the current sample."
   ]
  },
  {
   "cell_type": "code",
   "execution_count": null,
   "id": "7224f0ed-b26e-42a8-8a24-3fccc7e0de19",
   "metadata": {
    "tags": []
   },
   "outputs": [],
   "source": [
    "# Include effects of gravity?\n",
    "gravity = True\n",
    "\n",
    "# Wavelength binning\n",
    "wavelength_bins = sc.linspace(dim='wavelength', start=2.0, stop=16.0, num=141, unit='angstrom')\n",
    "\n",
    "# Define Q binning\n",
    "q_bins = sc.linspace('Q', 0.02, 0.25, 65, unit='1/angstrom')"
   ]
  },
  {
   "cell_type": "markdown",
   "id": "e42a73ba-5f47-44b9-b700-f8b947412b02",
   "metadata": {},
   "source": [
    "Next we load the data files for the sample and direct runs:"
   ]
  },
  {
   "cell_type": "code",
   "execution_count": null,
   "id": "323e7114-be3c-40ee-9661-6ec74439938f",
   "metadata": {
    "tags": []
   },
   "outputs": [],
   "source": [
    "sample = loki.io.load_sans2d(filename=loki.data.get_path('SANS2D00063114.hdf5'))\n",
    "direct = loki.io.load_sans2d(filename=loki.data.get_path('SANS2D00063091.hdf5'))\n",
    "# Add X, Y coordinates\n",
    "sample.coords['x'] = sample.coords['position'].fields.x\n",
    "sample.coords['y'] = sample.coords['position'].fields.y\n",
    "# Add gravity coordinate\n",
    "sample.coords[\"gravity\"] = sc.vector(value=[0, -1, 0]) * g"
   ]
  },
  {
   "cell_type": "markdown",
   "id": "1ae3315b-ab76-4fbc-9d6e-594b31d2fae6",
   "metadata": {},
   "source": [
    "### Masking bad pixels\n",
    "\n",
    "We create a quick image of the data (summing along the `tof` dimension) to inspect its contents.\n",
    "We see a diffuse scattering pattern, centered around a dark patch with an arm to the north-east; this is the sample holder.\n",
    "It is clear that the sample and the beam are not in the center of the panel, which is marked by the red dot"
   ]
  },
  {
   "cell_type": "code",
   "execution_count": null,
   "id": "c378ed3f-d2ef-4ef7-8fdc-28b1557d75ce",
   "metadata": {
    "tags": []
   },
   "outputs": [],
   "source": [
    "image = sample.sum('tof').copy().hist(y=120, x=128)\n",
    "p = image.plot(norm='log', aspect='equal')\n",
    "p.ax.plot(0, 0, 'o', color='red', ms=5)\n",
    "p"
   ]
  },
  {
   "cell_type": "markdown",
   "id": "25a4c118-65fd-4d90-89e9-2cf901239c56",
   "metadata": {},
   "source": [
    "To avoid skew in future comparisons of integrated intensities between the different regions of the detector panel,\n",
    "we mask out the sample holder, using a combination of a low-counts threshold and pixel locations."
   ]
  },
  {
   "cell_type": "code",
   "execution_count": null,
   "id": "b9f47105-ae09-4f84-9c33-c13072bea608",
   "metadata": {
    "tags": []
   },
   "outputs": [],
   "source": [
    "summed = sample.sum('tof')\n",
    "holder_mask = (summed.data < sc.scalar(100, unit='counts')) & \\\n",
    "              (sample.coords['x'] > sc.scalar(0, unit='m')) & \\\n",
    "              (sample.coords['x'] < sc.scalar(0.42, unit='m')) & \\\n",
    "              (sample.coords['y'] < sc.scalar(0.05, unit='m')) & \\\n",
    "              (sample.coords['y'] > sc.scalar(-0.15, unit='m'))\n",
    "sample.masks['holder_mask'] = holder_mask"
   ]
  },
  {
   "cell_type": "markdown",
   "id": "3db2d894-96d3-4a5b-8a7c-d8d442a358a6",
   "metadata": {},
   "source": [
    "We look at the image again, to verify we have masked the desired region\n",
    "(note that the part of the arm furthest away from the sample has not been masked, but this will not matter further down as more masks will be added)."
   ]
  },
  {
   "cell_type": "code",
   "execution_count": null,
   "id": "06428cba-9bd3-4552-885c-971eb3b2efa9",
   "metadata": {
    "tags": []
   },
   "outputs": [],
   "source": [
    "image = sample.sum('tof').copy().hist(y=120, x=128)\n",
    "p = image.plot(norm='log', aspect='equal')\n",
    "p.ax.plot(0, 0, 'o', color='red', ms=5)\n",
    "p"
   ]
  },
  {
   "cell_type": "markdown",
   "id": "0061b064-c348-4ef4-8d4c-03e729f69074",
   "metadata": {},
   "source": [
    "## Description of the procedure\n",
    "\n",
    "The procedure to determine the precise location of the beam center is the following:\n",
    "\n",
    "1. obtain an initial guess by computing the center-of-mass of the pixels, weighted by the counts on each pixel\n",
    "2. from that initial guess, divide the panel into 4 quadrants\n",
    "3. compute $I(Q)$ inside each quadrant and compute the residual difference between all 4 quadrants\n",
    "4. iteratively move the centre position and repeat 2. and 3. until all 4 $I(Q)$ curves lie on top of each other\n",
    "\n",
    "## Initial guess: center-of-mass calculation\n",
    "\n",
    "Computing the center-of-mass is straightforward using the vector `position` coordinate."
   ]
  },
  {
   "cell_type": "code",
   "execution_count": null,
   "id": "cccf23bb-2a18-4281-8816-85d1ab187635",
   "metadata": {
    "tags": []
   },
   "outputs": [],
   "source": [
    "# First sum the data along the 'tof' dimension\n",
    "summed = sample.sum('tof')\n",
    "\n",
    "# The weights are just the data counts in each pixel\n",
    "weights = sc.values(summed.data)\n",
    "\n",
    "# The center-of-mass is simply the weighted mean of the positions\n",
    "com = sc.sum(summed.coords['position'] * weights) / weights.sum()\n",
    "xc = com.fields.x\n",
    "yc = com.fields.y"
   ]
  },
  {
   "cell_type": "markdown",
   "id": "bb5fa84f-024a-4320-bf98-eefd8a3e34cd",
   "metadata": {},
   "source": [
    "We can now plot the center-of-mass on the same image as before:"
   ]
  },
  {
   "cell_type": "code",
   "execution_count": null,
   "id": "2fba7083-25ef-4ffa-926c-1e24ee8103cd",
   "metadata": {
    "tags": []
   },
   "outputs": [],
   "source": [
    "p = image.plot(norm='log', aspect='equal')\n",
    "p.ax.plot(xc.value, yc.value, 'o', color='red', ms=5)\n",
    "p"
   ]
  },
  {
   "cell_type": "markdown",
   "id": "afbf9a8c-4fc7-4eb3-a477-111baa047b18",
   "metadata": {},
   "source": [
    "## Making 4 quadrants\n",
    "\n",
    "We divide the panel into 4 quadrants.\n",
    "In the following plot, we slightly alter the count values to visualize the 4 groups of pixels."
   ]
  },
  {
   "cell_type": "code",
   "execution_count": null,
   "id": "bfdb5422-4c71-4e65-a4be-e7fd6042c203",
   "metadata": {
    "tags": []
   },
   "outputs": [],
   "source": [
    "pi = sc.constants.pi.value * sc.units.rad\n",
    "\n",
    "phi = sc.atan2(y=sc.midpoints(image.coords['y'] - yc),\n",
    "               x=sc.midpoints(image.coords['x'] - xc))\n",
    "\n",
    "image.data = image.data * (((phi+pi) / (0.5 * pi)).astype(int) + 1.0)\n",
    "p = image.plot(norm='log', aspect='equal')\n",
    "p.ax.plot(xc.value, yc.value, 'o', color='red', ms=5)\n",
    "dx = 0.25\n",
    "p.ax.text(xc.value + dx, yc.value + dx, 'North-East', ha='center', va='center')\n",
    "p.ax.text(xc.value - dx, yc.value + dx, 'North-West', ha='center', va='center')\n",
    "p.ax.text(xc.value - dx, yc.value - dx, 'South-East', ha='center', va='center')\n",
    "p.ax.text(xc.value + dx, yc.value - dx, 'South-West', ha='center', va='center')\n",
    "p"
   ]
  },
  {
   "cell_type": "markdown",
   "id": "2c8c0d88-aeac-4d1f-921d-8f427da73efe",
   "metadata": {},
   "source": [
    "## Adding a circular mask\n",
    "\n",
    "It is evident from the figure above that some quadrants (the ones to the West) contain more pixels that others.\n",
    "They also extend further away from the center, which means that more pixels can contribute to a given $Q$ bin.\n",
    "To avoid introducing such bias when searching for the beam center, we add a circular mask onto the detector panel."
   ]
  },
  {
   "cell_type": "code",
   "execution_count": null,
   "id": "6a72ce92-1231-47c5-83a9-216cee6bc029",
   "metadata": {
    "tags": []
   },
   "outputs": [],
   "source": [
    "masking_radius = sc.scalar(0.35, unit='m')\n",
    "\n",
    "r = sc.sqrt(sc.midpoints(image.coords['x'] - xc)**2 +\n",
    "            sc.midpoints(image.coords['y'] - yc)**2)\n",
    "image.masks['circle'] = r > masking_radius\n",
    "\n",
    "p = image.plot(norm='log', aspect='equal')\n",
    "p.ax.plot(xc.value, yc.value, 'o', color='red', ms=5)\n",
    "p"
   ]
  },
  {
   "cell_type": "markdown",
   "id": "db8c835f-75ad-44e2-a49a-095c59c68863",
   "metadata": {},
   "source": [
    "## Converting to $Q$ inside each quadrant\n",
    "\n",
    "We now perform a full [$I(Q)$ reduction](../../instruments/loki/sans2d_to_I_of_Q.ipynb) inside each quadrant.\n",
    "The reduction involves computing a normalizing term which, for the most part, does not depend on pixel positions.\n",
    "We therefore compute this once, before starting iterations to refine the position of the center.\n",
    "\n",
    "### First compute denominator to avoid loop over expensive compute"
   ]
  },
  {
   "cell_type": "code",
   "execution_count": null,
   "id": "6ad7b11e-3e51-438e-b492-104a18cda21c",
   "metadata": {
    "tags": []
   },
   "outputs": [],
   "source": [
    "# Extract monitor data\n",
    "sample_monitors = {\n",
    "    'incident': sample.attrs[\"monitor2\"].value,\n",
    "    'transmission': sample.attrs[\"monitor4\"].value\n",
    "}\n",
    "direct_monitors = {\n",
    "    'incident': direct.attrs[\"monitor2\"].value,\n",
    "    'transmission': direct.attrs[\"monitor4\"].value\n",
    "}\n",
    "# Define the range where monitor data is considered not to be noise\n",
    "non_background_range = sc.array(dims=['wavelength'], values=[0.7, 17.1], unit='angstrom')\n",
    "# Pre-process monitor data\n",
    "sample_monitors = sans.i_of_q.preprocess_monitor_data(\n",
    "    sample_monitors,\n",
    "    non_background_range=non_background_range,\n",
    "    wavelength_bins=wavelength_bins)\n",
    "direct_monitors = sans.i_of_q.preprocess_monitor_data(\n",
    "    direct_monitors,\n",
    "    non_background_range=non_background_range,\n",
    "    wavelength_bins=wavelength_bins)\n",
    "\n",
    "# Load the direct beam efficiency function for the main detector\n",
    "direct_beam = loki.io.load_rkh_wav(loki.data.get_path('DIRECT_SANS2D_REAR_34327_4m_8mm_16Feb16.dat'))\n",
    "\n",
    "# Compute the denominator used for normalization\n",
    "denominator = sans.i_of_q.normalization_denominator(\n",
    "        data=sample,\n",
    "        data_monitors=sample_monitors,\n",
    "        direct_monitors=direct_monitors,\n",
    "        direct_beam=direct_beam,\n",
    "        wavelength_bins=wavelength_bins)\n",
    "denominator"
   ]
  },
  {
   "cell_type": "markdown",
   "id": "dccb7b71-8236-4509-b8b1-c20bedfac317",
   "metadata": {},
   "source": [
    "### Compute $I(Q)$ inside the 4 quadrants\n",
    "\n",
    "We begin by defining several parameters which are required to compute $I(Q)$."
   ]
  },
  {
   "cell_type": "code",
   "execution_count": null,
   "id": "6b960ad7-9068-4058-bb90-2df6bdbc4c3f",
   "metadata": {
    "tags": []
   },
   "outputs": [],
   "source": [
    "# Define 4 phi bins\n",
    "phi_bins = sc.linspace('phi', -np.pi, np.pi, 5, unit='rad')\n",
    "\n",
    "# Name the quadrants\n",
    "quadrants = ['south-west', 'south-east', 'north-east', 'north-west']\n",
    "\n",
    "# Define coordinate transformation graph\n",
    "graph = sans.conversions.sans_elastic(gravity=gravity)\n",
    "\n",
    "# Define a single wavelength band\n",
    "wavelength_bands = sc.concat(\n",
    "        [wavelength_bins.min(), wavelength_bins.max()], dim='wavelength')"
   ]
  },
  {
   "cell_type": "markdown",
   "id": "5c0ace9d-03f8-457e-a86c-efc9cd612631",
   "metadata": {},
   "source": [
    "We now define a function which will apply the center offset to the pixel coordinates,\n",
    "and compute $I(Q)$ inside each quadrant."
   ]
  },
  {
   "cell_type": "code",
   "execution_count": null,
   "id": "a5df078f-f1ed-444b-a3cb-6643005b617a",
   "metadata": {
    "tags": []
   },
   "outputs": [],
   "source": [
    "def to_q(xy, sample, denominator, graph, q_bins, masking_radius, gravity, wavelength_bands):\n",
    "    # Make a copy of the original data\n",
    "    data = sc.DataArray(data=sample.data)\n",
    "    coord_list = ['position', 'sample_position', 'source_position']\n",
    "    for c in coord_list:\n",
    "        data.coords[c] = sample.coords[c].copy(deep=True)\n",
    "    # Offset the position according to the initial guess from the center-of-mass\n",
    "    u = data.coords['position'].unit\n",
    "    data.coords['position'].fields.x -= sc.scalar(xy[0], unit=u)\n",
    "    data.coords['position'].fields.y -= sc.scalar(xy[1], unit=u)\n",
    "    # Add the circular mask\n",
    "    r = sc.sqrt(data.coords['position'].fields.x**2 +\n",
    "                data.coords['position'].fields.y**2)\n",
    "    data.masks['circle'] = r > masking_radius\n",
    "    \n",
    "    # Insert a copy of coords needed for conversion to Q.\n",
    "    for c in coord_list:\n",
    "        denominator.coords[c] = data.coords[c]\n",
    "    denominator.masks['circle'] = data.masks['circle']\n",
    "    \n",
    "    # phi = (sc.atan2(y=data.coords['position'].fields.y,\n",
    "    #                 x=data.coords['position'].fields.x)  + phi_offset) % (2 * (pi.value * sc.units.rad))\n",
    "    phi = sc.atan2(y=data.coords['position'].fields.y,\n",
    "                   x=data.coords['position'].fields.x)\n",
    "\n",
    "    out = {}\n",
    "    for i, quad in enumerate(quadrants):\n",
    "        # Select pixels based on phi\n",
    "        sel = (phi >= phi_bins[i]) & (phi < phi_bins[i+1])\n",
    "        # Data counts into Q bins\n",
    "        data_q = sans.i_of_q.convert_to_q_and_merge_spectra(\n",
    "            data=data[sel],\n",
    "            graph=graph,\n",
    "            q_bins=q_bins,\n",
    "            gravity=gravity,\n",
    "            wavelength_bands=wavelength_bands)\n",
    "        # Denominator counts into Q bins\n",
    "        denominator_q = sans.i_of_q.convert_to_q_and_merge_spectra(\n",
    "            data=denominator[sel],\n",
    "            graph=graph,\n",
    "            q_bins=q_bins,\n",
    "            gravity=gravity,\n",
    "            wavelength_bands=wavelength_bands)\n",
    "        # Normalize        \n",
    "        out[quad] = sans.normalization.normalize(numerator=data_q, denominator=denominator_q).hist()\n",
    "    return out"
   ]
  },
  {
   "cell_type": "markdown",
   "id": "6220bc54-ee38-4d8a-83fe-d88dce08dee9",
   "metadata": {},
   "source": [
    "Finally, we run the computation for all quadrants:"
   ]
  },
  {
   "cell_type": "code",
   "execution_count": null,
   "id": "1479159f-e887-48aa-9c33-06c82dad6fe6",
   "metadata": {
    "tags": []
   },
   "outputs": [],
   "source": [
    "grouped = to_q(xy=[xc.value, yc.value],\n",
    "               sample=sample,\n",
    "               denominator=denominator,\n",
    "               graph=graph,\n",
    "               q_bins=q_bins,\n",
    "               masking_radius=masking_radius,\n",
    "               gravity=gravity,\n",
    "               wavelength_bands=wavelength_bands)\n",
    "\n",
    "grouped.keys()"
   ]
  },
  {
   "cell_type": "markdown",
   "id": "31e5b9f9-b0a3-4010-83e8-690fda6e3f76",
   "metadata": {},
   "source": [
    "We can now plot on the same figure all 4 $I(Q)$ curves for each quadrant\n",
    "(note that the count values have been divided by the total number of counts in each quadrant)."
   ]
  },
  {
   "cell_type": "code",
   "execution_count": null,
   "id": "72a43671-06d9-4f7d-8184-d65fca2ceb75",
   "metadata": {
    "tags": []
   },
   "outputs": [],
   "source": [
    "pp.plot(grouped, norm='log')"
   ]
  },
  {
   "cell_type": "markdown",
   "id": "6613309c-b3e7-4178-a497-b9bf57595394",
   "metadata": {},
   "source": [
    "As we can see, the overlap between the curves from the 4 quadrants is not satisfactory.\n",
    "We will now use an iterative procedure to improve our initial guess, until a good overlap between the curves is found.\n",
    "\n",
    "For this, we first define a cost function, which gives us an idea of how good the overlap is:\n",
    "\n",
    "$$\n",
    "\\text{cost} = \\sum_{Q}\\frac{\\sum_{i=1}^{i=3} \\left(I(Q)_{i} -I(Q)_{0}\\right)^2}{\\left(I(Q)_{0}\\right)^2} ~.\n",
    "$$"
   ]
  },
  {
   "cell_type": "code",
   "execution_count": null,
   "id": "301fe599-40df-4c2b-ab68-4ff59ce1239d",
   "metadata": {
    "tags": []
   },
   "outputs": [],
   "source": [
    "def cost(xy, sample, denominator, graph, q_bins, masking_radius, gravity, wavelength_bands):\n",
    "    data_q = to_q(xy=xy,\n",
    "               sample=sample,\n",
    "               denominator=denominator,\n",
    "               graph=graph,\n",
    "               q_bins=q_bins,\n",
    "               masking_radius=masking_radius,\n",
    "               gravity=gravity,\n",
    "               wavelength_bands=wavelength_bands)\n",
    "    ref = data_q['north-east']\n",
    "    c = ((data_q['north-west'] - ref)**2 + (data_q['south-west'] - ref)**2 +\n",
    "            (data_q['south-east'] - ref)**2) / ref**2\n",
    "    out = c.sum().value\n",
    "    print(xy, out)\n",
    "    return out"
   ]
  },
  {
   "cell_type": "markdown",
   "id": "d7951a6a-3fa6-45ff-9e24-c55797efef31",
   "metadata": {},
   "source": [
    "Next, we use Scipy's `minimize` utility from the `optimize` module, to iteratively minimize the computed cost."
   ]
  },
  {
   "cell_type": "code",
   "execution_count": null,
   "id": "27898815-7742-4990-853f-15d665f0337e",
   "metadata": {
    "tags": []
   },
   "outputs": [],
   "source": [
    "from scipy.optimize import minimize\n",
    "\n",
    "# The minimizer works best if given bounds, which are the bounds of our detector panel\n",
    "x = sample.coords['position'].fields.x\n",
    "y = sample.coords['position'].fields.y\n",
    "res = minimize(cost,\n",
    "               x0=[xc.value, yc.value],\n",
    "               args=(sample, denominator, graph, q_bins, masking_radius, gravity, wavelength_bands),\n",
    "               bounds=[(x.min().value, x.max().value),\n",
    "                       (y.min().value, y.max().value)],\n",
    "               method='Nelder-Mead',\n",
    "               tol=0.1)\n",
    "res"
   ]
  },
  {
   "cell_type": "markdown",
   "id": "b8f125a8-38ec-4792-8e82-4d2b2e4860e4",
   "metadata": {},
   "source": [
    "Once the iterations completed, the returned object contains the best estimate for the beam center:"
   ]
  },
  {
   "cell_type": "code",
   "execution_count": null,
   "id": "81965cb9-bb34-4662-9210-e2904952759c",
   "metadata": {
    "tags": []
   },
   "outputs": [],
   "source": [
    "res.x"
   ]
  },
  {
   "cell_type": "markdown",
   "id": "9d7e7739-935d-46fa-88eb-5367d70f8278",
   "metadata": {},
   "source": [
    "We can now feed this value again into our `to_q` function, to inspect the $Q$ intensity in all 4 quadrants:"
   ]
  },
  {
   "cell_type": "code",
   "execution_count": null,
   "id": "bba5ad6e-294d-4549-8a2b-74e693f1f923",
   "metadata": {
    "tags": []
   },
   "outputs": [],
   "source": [
    "grouped = to_q(xy=[res.x[0], res.x[1]],\n",
    "               sample=sample,\n",
    "               denominator=denominator,\n",
    "               graph=graph,\n",
    "               q_bins=q_bins,\n",
    "               masking_radius=masking_radius,\n",
    "               gravity=gravity,\n",
    "               wavelength_bands=wavelength_bands)\n",
    "\n",
    "pp.plot(grouped, norm='log')"
   ]
  },
  {
   "cell_type": "markdown",
   "id": "389c0133-839d-46da-934c-bfcc5e2e5aab",
   "metadata": {},
   "source": [
    "The overlap between the curves is excellent, allowing us to safely perform an azimuthal summation of the counts around the beam center.\n",
    "\n",
    "As a consistency check, we plot the refined beam center position onto the detector panel image:"
   ]
  },
  {
   "cell_type": "code",
   "execution_count": null,
   "id": "f627d98e-5c3f-404e-b6f6-59ba2386a5bb",
   "metadata": {
    "tags": []
   },
   "outputs": [],
   "source": [
    "p = sample.sum('tof').copy().hist(y=120, x=128).plot(norm='log', aspect='equal')\n",
    "p.ax.plot(res.x[0], res.x[1], 'o', color='red', ms=5)\n",
    "p"
   ]
  }
 ],
 "metadata": {
  "kernelspec": {
   "display_name": "Python 3 (ipykernel)",
   "language": "python",
   "name": "python3"
  },
  "language_info": {
   "codemirror_mode": {
    "name": "ipython",
    "version": 3
   },
   "file_extension": ".py",
   "mimetype": "text/x-python",
   "name": "python",
   "nbconvert_exporter": "python",
   "pygments_lexer": "ipython3"
  }
 },
 "nbformat": 4,
 "nbformat_minor": 5
}
