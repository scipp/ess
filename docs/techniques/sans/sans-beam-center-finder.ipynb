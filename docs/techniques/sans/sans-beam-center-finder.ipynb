{
 "cells": [
  {
   "cell_type": "markdown",
   "id": "fc46c62a-499c-4b12-a65d-f40946f5f46f",
   "metadata": {},
   "source": [
    "# Beam center finder\n",
    "\n",
    "Description of the beam center finding algorithm."
   ]
  },
  {
   "cell_type": "code",
   "execution_count": null,
   "id": "f68a06b0-8982-43b2-b180-942c3dd49b5e",
   "metadata": {},
   "outputs": [],
   "source": [
    "import scipp as sc\n",
    "from ess import loki, sans\n",
    "from ess.logging import configure_workflow\n",
    "import scippneutron as scn\n",
    "import numpy as np\n",
    "\n",
    "import plopp as pp\n",
    "pp.patch_scipp()"
   ]
  },
  {
   "cell_type": "code",
   "execution_count": null,
   "id": "3356a55c-81d8-4d7a-8d38-dbc14accd1c5",
   "metadata": {},
   "outputs": [],
   "source": [
    "logger = configure_workflow('sans_beam_center_finder', filename='sans.log')"
   ]
  },
  {
   "cell_type": "code",
   "execution_count": null,
   "id": "323e7114-be3c-40ee-9661-6ec74439938f",
   "metadata": {},
   "outputs": [],
   "source": [
    "# Load the data file\n",
    "sample = loki.io.load_sans2d(filename=loki.data.get_path('SANS2D00063114.nxs'))\n",
    "sample"
   ]
  },
  {
   "cell_type": "markdown",
   "id": "50fe99b2-f56f-4ab6-95e1-f211da3c7b26",
   "metadata": {},
   "source": [
    "By making a simple image from the detector panel,\n",
    "summing along the `tof` dimension,\n",
    "we can see that the signal from the beam is not in the centre of the panel (marked by the red dot).\n",
    "The centre of the beam is the dark circular region (create by the beam stop),\n",
    "to the lower right of the red dot, surrounded by a faint blurry ring of higher counts. "
   ]
  },
  {
   "cell_type": "code",
   "execution_count": null,
   "id": "06428cba-9bd3-4552-885c-971eb3b2efa9",
   "metadata": {},
   "outputs": [],
   "source": [
    "sample.coords['x'] = sample.coords['position'].fields.x\n",
    "sample.coords['y'] = sample.coords['position'].fields.y\n",
    "image = sample.bin(y=120, x=128).sum('tof')\n",
    "p = image.plot(norm='log', aspect='equal')\n",
    "p.ax.plot(0, 0, 'o', color='red', ms=5)\n",
    "p"
   ]
  },
  {
   "cell_type": "markdown",
   "id": "0061b064-c348-4ef4-8d4c-03e729f69074",
   "metadata": {},
   "source": [
    "## Description of the procedure\n",
    "\n",
    "The prodecure to determine the precise location of the beam center is the following:\n",
    "\n",
    "1. obtain an initial guess by computing the center-of-mass of the pixels, weighted by the counts on each pixel\n",
    "2. from that initial guess, divide the panel into 4 quadrants\n",
    "3. compute $I(Q)$ inside each quadrant and compute the residual difference between all 4 quadrants\n",
    "4. iteratively move the centre position and repeat 2. and 3. until all 4 $I(Q)$ curves lie on top of each other\n",
    "\n",
    "## Initial guess: center-of-mass calculation\n",
    "\n",
    "Computing the center-of-mass is straightforward using the vector `position` coordinate."
   ]
  },
  {
   "cell_type": "code",
   "execution_count": null,
   "id": "cccf23bb-2a18-4281-8816-85d1ab187635",
   "metadata": {},
   "outputs": [],
   "source": [
    "# First sum the data along the 'tof' dimension\n",
    "summed = sample.sum('tof')\n",
    "\n",
    "# The weights are just the data counts in each pixel\n",
    "weights = sc.values(summed.data)\n",
    "\n",
    "# The center-of-mass is simply the weighted mean of the positions\n",
    "com = sc.sum(summed.coords['position'] * weights) / weights.sum()\n",
    "xc = com.fields.x\n",
    "yc = com.fields.y"
   ]
  },
  {
   "cell_type": "markdown",
   "id": "bb5fa84f-024a-4320-bf98-eefd8a3e34cd",
   "metadata": {},
   "source": [
    "We can now plot the center-of-mass on the same image as before:"
   ]
  },
  {
   "cell_type": "code",
   "execution_count": null,
   "id": "2fba7083-25ef-4ffa-926c-1e24ee8103cd",
   "metadata": {},
   "outputs": [],
   "source": [
    "p = image.plot(norm='log', aspect='equal')\n",
    "p.ax.plot(xc.value, yc.value, 'o', color='red', ms=5)\n",
    "p"
   ]
  },
  {
   "cell_type": "markdown",
   "id": "afbf9a8c-4fc7-4eb3-a477-111baa047b18",
   "metadata": {},
   "source": [
    "## Making 4 quadrants\n",
    "\n",
    "We divide the panel into 4 quadrants.\n",
    "Because we will be tweaking the position of the center along the horizontal (`x`) and vertical (`y`) axes,\n",
    "we place diagonal boundaries for the quadrants, instead of aligning them with the `x` and `y` axes.\n",
    "\n",
    "In the following plot, we slightly alter the count values to visualize the 4 groups of pixels."
   ]
  },
  {
   "cell_type": "code",
   "execution_count": null,
   "id": "bfdb5422-4c71-4e65-a4be-e7fd6042c203",
   "metadata": {},
   "outputs": [],
   "source": [
    "pi = sc.constants.pi.value * sc.units.rad\n",
    "\n",
    "phi = sc.atan2(y=sc.midpoints(image.coords['y'] - yc),\n",
    "               x=sc.midpoints(image.coords['x'] - xc))\n",
    "phi_offset = pi / 4\n",
    "phi = (phi + phi_offset) % (2 * pi)\n",
    "\n",
    "image.data = image.data * ((phi / (2 * phi_offset)).astype(int) + 1.0)\n",
    "p = image.plot(norm='log', aspect='equal')\n",
    "p.ax.plot(xc.value, yc.value, 'o', color='red', ms=5)\n",
    "dx = 0.3\n",
    "p.ax.text(xc.value + dx, yc.value, 'Right', ha='center', va='center')\n",
    "p.ax.text(xc.value, yc.value + dx, 'Top', ha='center', va='center')\n",
    "p.ax.text(xc.value - dx, yc.value, 'Left', ha='center', va='center')\n",
    "p.ax.text(xc.value, yc.value - dx, 'Bottom', ha='center', va='center')\n",
    "p"
   ]
  },
  {
   "cell_type": "markdown",
   "id": "2c8c0d88-aeac-4d1f-921d-8f427da73efe",
   "metadata": {},
   "source": [
    "## Adding a circular mask\n",
    "\n",
    "It is evident from the figure above that some quadrants (e.g. `Top` and `Left`) contains more pixels that others.\n",
    "They also extend further away from the center, which means that more pixels can contribute to a given $Q$ bin.\n",
    "To avoid introducing such bias when searching for the beam center, we add a circular mask onto the detector panel."
   ]
  },
  {
   "cell_type": "code",
   "execution_count": null,
   "id": "6a72ce92-1231-47c5-83a9-216cee6bc029",
   "metadata": {},
   "outputs": [],
   "source": [
    "masking_radius = sc.scalar(0.35, unit='m')\n",
    "\n",
    "r = sc.sqrt(sc.midpoints(image.coords['x'] - xc)**2 +\n",
    "            sc.midpoints(image.coords['y'] - yc)**2)\n",
    "image.masks['circle'] = r > masking_radius\n",
    "\n",
    "p = image.plot(norm='log', aspect='equal')\n",
    "p.ax.plot(xc.value, yc.value, 'o', color='red', ms=5)\n",
    "p"
   ]
  },
  {
   "cell_type": "markdown",
   "id": "db8c835f-75ad-44e2-a49a-095c59c68863",
   "metadata": {},
   "source": [
    "## Converting to $Q$ inside each quadrant\n",
    "\n",
    "We now use Scipp's `transform_coords` to convert the data to $Q$, and sum the counts (using `groupby`) inside each quadrant.\n",
    "In this example, we include the effects of gravity in our calculation for $Q$."
   ]
  },
  {
   "cell_type": "code",
   "execution_count": null,
   "id": "6062af2e-bc03-4642-90c6-69c014a89ffa",
   "metadata": {},
   "outputs": [],
   "source": [
    "from scipp.constants import g\n",
    "sample.coords[\"gravity\"] = sc.vector(value=[0, -1, 0]) * g\n",
    "# Create the coordinate transformation graph\n",
    "graph, _ = sans.i_of_q.make_coordinate_transform_graphs(gravity=True, scatter=True)"
   ]
  },
  {
   "cell_type": "markdown",
   "id": "5c0ace9d-03f8-457e-a86c-efc9cd612631",
   "metadata": {},
   "source": [
    "We now define a function which will apply the center offset to the pixel coordinates,\n",
    "compute $Q$, and group the data counts into 4 phi bins."
   ]
  },
  {
   "cell_type": "code",
   "execution_count": null,
   "id": "a5df078f-f1ed-444b-a3cb-6643005b617a",
   "metadata": {},
   "outputs": [],
   "source": [
    "def to_q(xy, sample, graph, q_bins, masking_radius):\n",
    "    # Make a copy of the original data\n",
    "    data = sample.copy(deep=False)\n",
    "    data.coords['position'] = data.coords['position'].copy(deep=True)\n",
    "    # Offset the position according to the initial guess from the center-of-mass\n",
    "    u = data.coords['position'].unit\n",
    "    data.coords['position'].fields.x -= sc.scalar(xy[0], unit=u)\n",
    "    data.coords['position'].fields.y -= sc.scalar(xy[1], unit=u)\n",
    "    # Add the circular mask\n",
    "    r = sc.sqrt(data.coords['position'].fields.x**2 +\n",
    "                data.coords['position'].fields.y**2)\n",
    "    data.masks['m'] = r > masking_radius\n",
    "\n",
    "    # Convert to Q\n",
    "    da_q = data.transform_coords('Q', graph=graph)\n",
    "    # Request phi coordinate from transformation graph\n",
    "    da_phi = da_q.transform_coords('phi', graph=graph)\n",
    "    phi_offset = pi / 4\n",
    "    da_phi.coords['phi'] += phi_offset\n",
    "    # Histogram in Q\n",
    "    da_h = da_phi.hist(Q=q_bins)\n",
    "    # Group by phi\n",
    "    phi_bins = sc.linspace('phi', 0, np.pi * 2, 5, unit='rad') + phi_offset\n",
    "    return sc.groupby(da_h, group='phi', bins=phi_bins).sum('spectrum')"
   ]
  },
  {
   "cell_type": "code",
   "execution_count": null,
   "id": "1479159f-e887-48aa-9c33-06c82dad6fe6",
   "metadata": {},
   "outputs": [],
   "source": [
    "# Define Q binning\n",
    "q_bins = sc.linspace('Q', 0.02, 0.3, 101, unit='1/angstrom')\n",
    "\n",
    "grouped = to_q([xc.value, yc.value],\n",
    "               sample=sample,\n",
    "               graph=graph,\n",
    "               q_bins=q_bins,\n",
    "               masking_radius=masking_radius)\n",
    "grouped"
   ]
  },
  {
   "cell_type": "code",
   "execution_count": null,
   "id": "72a43671-06d9-4f7d-8184-d65fca2ceb75",
   "metadata": {},
   "outputs": [],
   "source": [
    "pp.plot(sc.collapse(grouped, keep='Q'), norm='log')"
   ]
  },
  {
   "cell_type": "markdown",
   "id": "6613309c-b3e7-4178-a497-b9bf57595394",
   "metadata": {},
   "source": [
    "As we can see, the overlap between the curves from the 4 quadrants is not satisfactory.\n",
    "We will now use an iterative procedure to improve our initial guess, until a good overlap between the curves is found.\n",
    "\n",
    "For this, we first define a cost function, which gives us an idea of how good the overlap is."
   ]
  },
  {
   "cell_type": "code",
   "execution_count": null,
   "id": "301fe599-40df-4c2b-ab68-4ff59ce1239d",
   "metadata": {},
   "outputs": [],
   "source": [
    "def cost(xy, sample, graph, q_bins, masking_radius):\n",
    "    da = to_q(xy,\n",
    "              sample=sample,\n",
    "              graph=graph,\n",
    "              q_bins=q_bins,\n",
    "              masking_radius=masking_radius)\n",
    "    ref = da['phi', 0]\n",
    "    cost = ((da['phi', 1] - ref)**2 + (da['phi', 2] - ref)**2 +\n",
    "            (da['phi', 3] - ref)**2) / ref**2\n",
    "    return cost.sum().value"
   ]
  },
  {
   "cell_type": "markdown",
   "id": "d7951a6a-3fa6-45ff-9e24-c55797efef31",
   "metadata": {},
   "source": [
    "Next, we use Scipy's `minimize` utility from the `optimize` module, to iteratively minimize the computed cost."
   ]
  },
  {
   "cell_type": "code",
   "execution_count": null,
   "id": "27898815-7742-4990-853f-15d665f0337e",
   "metadata": {},
   "outputs": [],
   "source": [
    "from scipy.optimize import minimize\n",
    "\n",
    "# The minimizer works best if given bounds, which are the bounds of our detector panel\n",
    "x = sample.coords['position'].fields.x\n",
    "y = sample.coords['position'].fields.y\n",
    "res = minimize(cost,\n",
    "               x0=[xc.value, yc.value],\n",
    "               args=(sample, graph, q_bins, masking_radius),\n",
    "               bounds=[(x.min().value, x.max().value),\n",
    "                       (y.min().value, y.max().value)],\n",
    "               method='Nelder-Mead',\n",
    "               tol=0.1)\n",
    "res"
   ]
  },
  {
   "cell_type": "markdown",
   "id": "b8f125a8-38ec-4792-8e82-4d2b2e4860e4",
   "metadata": {},
   "source": [
    "Once the iterations completed, the returned object contains the best estimate for the beam center:"
   ]
  },
  {
   "cell_type": "code",
   "execution_count": null,
   "id": "81965cb9-bb34-4662-9210-e2904952759c",
   "metadata": {},
   "outputs": [],
   "source": [
    "res.x"
   ]
  },
  {
   "cell_type": "markdown",
   "id": "9d7e7739-935d-46fa-88eb-5367d70f8278",
   "metadata": {},
   "source": [
    "We can now feed this value again into our `to_q` function, to inspect the $Q$ intensity in all 4 quadrants:"
   ]
  },
  {
   "cell_type": "code",
   "execution_count": null,
   "id": "21146a39-8dd6-4a15-a825-3fd0a657c8a2",
   "metadata": {},
   "outputs": [],
   "source": [
    "grouped = to_q(res.x,\n",
    "               sample=sample,\n",
    "               graph=graph,\n",
    "               q_bins=q_bins,\n",
    "               masking_radius=masking_radius)\n",
    "\n",
    "pp.plot(sc.collapse(grouped, keep='Q'), norm='log')"
   ]
  },
  {
   "cell_type": "markdown",
   "id": "389c0133-839d-46da-934c-bfcc5e2e5aab",
   "metadata": {},
   "source": [
    "The overlap between the curves is excellent, allowing us to safely perform an azimuthal summation of the counts around the beam center.\n",
    "\n",
    "As a consistency check, we plot the refined beam center position onto the detector panel image:"
   ]
  },
  {
   "cell_type": "code",
   "execution_count": null,
   "id": "f627d98e-5c3f-404e-b6f6-59ba2386a5bb",
   "metadata": {},
   "outputs": [],
   "source": [
    "sample.coords['x'] = sample.coords['position'].fields.x\n",
    "sample.coords['y'] = sample.coords['position'].fields.y\n",
    "image = sample.bin(y=120, x=128).sum('tof')\n",
    "p = image.plot(norm='log', aspect='equal')\n",
    "p.ax.plot(res.x[0], res.x[1], 'o', color='red', ms=5)\n",
    "p"
   ]
  }
 ],
 "metadata": {
  "kernelspec": {
   "display_name": "Python 3 (ipykernel)",
   "language": "python",
   "name": "python3"
  },
  "language_info": {
   "codemirror_mode": {
    "name": "ipython",
    "version": 3
   },
   "file_extension": ".py",
   "mimetype": "text/x-python",
   "name": "python",
   "nbconvert_exporter": "python",
   "pygments_lexer": "ipython3",
   "version": "3.8.12"
  }
 },
 "nbformat": 4,
 "nbformat_minor": 5
}
