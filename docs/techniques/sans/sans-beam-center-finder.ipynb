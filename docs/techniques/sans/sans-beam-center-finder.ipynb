{
 "cells": [
  {
   "cell_type": "markdown",
   "id": "fc46c62a-499c-4b12-a65d-f40946f5f46f",
   "metadata": {},
   "source": [
    "# Beam center finder\n",
    "\n",
    "In SANS experiments, it is essential to find the center of the scattering pattern in order to allow symmetric summation of the scattering intensity around the beam (i.e. computing a one-dimensional $I(Q)$).\n",
    "As detector panels can move, the center of the beam will not always be located at the same place on the detector panel from one experiment to the next.\n",
    "\n",
    "Here we describe the beam center finding algorithm,\n",
    "which uses a combination of a center-of-mass calculation and an iterative refinement on a computed scattering cross-section to find the center of the scattering pattern."
   ]
  },
  {
   "cell_type": "code",
   "execution_count": null,
   "id": "f68a06b0-8982-43b2-b180-942c3dd49b5e",
   "metadata": {
    "tags": []
   },
   "outputs": [],
   "source": [
    "import scipp as sc\n",
    "from scipp.constants import g\n",
    "from ess import loki, sans\n",
    "from ess.sans import beam_center_finder as bcf\n",
    "from ess.logging import configure_workflow\n",
    "import plopp as pp"
   ]
  },
  {
   "cell_type": "code",
   "execution_count": null,
   "id": "3356a55c-81d8-4d7a-8d38-dbc14accd1c5",
   "metadata": {
    "tags": []
   },
   "outputs": [],
   "source": [
    "logger = configure_workflow('sans_beam_center_finder', filename='sans.log')"
   ]
  },
  {
   "cell_type": "markdown",
   "id": "e84bd5a5-8bed-459b-ad8c-0d04aa6117e0",
   "metadata": {},
   "source": [
    "We begin by setting some parameters relevant to the current sample."
   ]
  },
  {
   "cell_type": "code",
   "execution_count": null,
   "id": "7224f0ed-b26e-42a8-8a24-3fccc7e0de19",
   "metadata": {
    "tags": []
   },
   "outputs": [],
   "source": [
    "# Include effects of gravity?\n",
    "gravity = True\n",
    "\n",
    "# Wavelength binning\n",
    "wavelength_bins = sc.linspace(\n",
    "    dim='wavelength', start=2.0, stop=16.0, num=141, unit='angstrom'\n",
    ")\n",
    "\n",
    "# Define Q binning\n",
    "q_bins = sc.linspace('Q', 0.02, 0.3, 71, unit='1/angstrom')\n",
    "\n",
    "# Define coordinate transformation graph\n",
    "graph = sans.conversions.sans_elastic(gravity=gravity)"
   ]
  },
  {
   "cell_type": "markdown",
   "id": "e42a73ba-5f47-44b9-b700-f8b947412b02",
   "metadata": {},
   "source": [
    "Next we load the data files for the sample and direct runs:"
   ]
  },
  {
   "cell_type": "code",
   "execution_count": null,
   "id": "323e7114-be3c-40ee-9661-6ec74439938f",
   "metadata": {
    "tags": []
   },
   "outputs": [],
   "source": [
    "sample = loki.io.load_sans2d(filename=loki.data.get_path('SANS2D00063114.hdf5'))\n",
    "direct = loki.io.load_sans2d(filename=loki.data.get_path('SANS2D00063091.hdf5'))\n",
    "# Add X, Y coordinates\n",
    "sample.coords['x'] = sample.coords['position'].fields.x\n",
    "sample.coords['y'] = sample.coords['position'].fields.y\n",
    "# Add gravity coordinate\n",
    "sample.coords[\"gravity\"] = sc.vector(value=[0, -1, 0]) * g"
   ]
  },
  {
   "cell_type": "markdown",
   "id": "1ae3315b-ab76-4fbc-9d6e-594b31d2fae6",
   "metadata": {},
   "source": [
    "### Masking bad pixels\n",
    "\n",
    "We create a quick image of the data (summing along the `tof` dimension) to inspect its contents.\n",
    "We see a diffuse scattering pattern, centered around a dark patch with an arm to the north-east; this is the sample holder.\n",
    "It is clear that the sample and the beam are not in the center of the panel, which is marked by the red dot"
   ]
  },
  {
   "cell_type": "code",
   "execution_count": null,
   "id": "c378ed3f-d2ef-4ef7-8fdc-28b1557d75ce",
   "metadata": {
    "tags": []
   },
   "outputs": [],
   "source": [
    "image = sample.sum('tof').copy().hist(y=120, x=128)\n",
    "p = image.plot(norm='log', aspect='equal')\n",
    "p.ax.plot(0, 0, 'o', color='red', ms=5)\n",
    "p"
   ]
  },
  {
   "cell_type": "markdown",
   "id": "25a4c118-65fd-4d90-89e9-2cf901239c56",
   "metadata": {},
   "source": [
    "To avoid skew in future comparisons of integrated intensities between the different regions of the detector panel,\n",
    "we mask out the sample holder, using a low-counts threshold.\n",
    "This also masks out the edges of the panel, which show visible artifacts.\n",
    "We also mask out a region in the bottom right corner where a group of hot pixels is apparent.\n",
    "Finally, there is a single hot pixel in the detector on the right edge of the panel with counts in excess of 1000,\n",
    "which we also remove."
   ]
  },
  {
   "cell_type": "code",
   "execution_count": null,
   "id": "b9f47105-ae09-4f84-9c33-c13072bea608",
   "metadata": {
    "tags": []
   },
   "outputs": [],
   "source": [
    "summed = sample.sum('tof')\n",
    "\n",
    "low_counts = summed.data < sc.scalar(70, unit='counts')\n",
    "high_counts = summed.data > sc.scalar(1000, unit='counts')\n",
    "lower_right = (sample.coords['x'] > sc.scalar(0.35, unit='m')) & (\n",
    "    sample.coords['y'] < sc.scalar(-0.4, unit='m')\n",
    ")\n",
    "\n",
    "sample.masks['low_counts'] = low_counts\n",
    "sample.masks['high_counts'] = high_counts\n",
    "sample.masks['lower_right'] = lower_right"
   ]
  },
  {
   "cell_type": "markdown",
   "id": "3db2d894-96d3-4a5b-8a7c-d8d442a358a6",
   "metadata": {},
   "source": [
    "We look at the image again, to verify we have masked the desired regions."
   ]
  },
  {
   "cell_type": "code",
   "execution_count": null,
   "id": "06428cba-9bd3-4552-885c-971eb3b2efa9",
   "metadata": {
    "tags": []
   },
   "outputs": [],
   "source": [
    "image = sample.sum('tof').copy().hist(y=120, x=128)\n",
    "p = image.plot(norm='log', aspect='equal')\n",
    "p.ax.plot(0, 0, 'o', color='red', ms=5)\n",
    "p"
   ]
  },
  {
   "cell_type": "markdown",
   "id": "0061b064-c348-4ef4-8d4c-03e729f69074",
   "metadata": {},
   "source": [
    "## Description of the procedure\n",
    "\n",
    "The procedure to determine the precise location of the beam center is the following:\n",
    "\n",
    "1. obtain an initial guess by computing the center-of-mass of the pixels, weighted by the counts on each pixel\n",
    "2. from that initial guess, divide the panel into 4 quadrants\n",
    "3. compute $I(Q)$ inside each quadrant and compute the residual difference between all 4 quadrants\n",
    "4. iteratively move the centre position and repeat 2. and 3. until all 4 $I(Q)$ curves lie on top of each other\n",
    "\n",
    "## Initial guess: center-of-mass calculation\n",
    "\n",
    "Computing the center-of-mass is straightforward using the vector `position` coordinate."
   ]
  },
  {
   "cell_type": "code",
   "execution_count": null,
   "id": "cccf23bb-2a18-4281-8816-85d1ab187635",
   "metadata": {
    "tags": []
   },
   "outputs": [],
   "source": [
    "com = bcf.center_of_mass(sample)\n",
    "\n",
    "# We compute the shift between the incident beam direction and the center-of-mass\n",
    "incident_beam = sample.transform_coords('incident_beam', graph=graph).coords[\n",
    "    'incident_beam'\n",
    "]\n",
    "n_beam = incident_beam / sc.norm(incident_beam)\n",
    "com_shift = com - sc.dot(com, n_beam) * n_beam\n",
    "com_shift"
   ]
  },
  {
   "cell_type": "markdown",
   "id": "bb5fa84f-024a-4320-bf98-eefd8a3e34cd",
   "metadata": {},
   "source": [
    "We can now plot the center-of-mass on the same image as before:"
   ]
  },
  {
   "cell_type": "code",
   "execution_count": null,
   "id": "2fba7083-25ef-4ffa-926c-1e24ee8103cd",
   "metadata": {
    "tags": []
   },
   "outputs": [],
   "source": [
    "xc = com_shift.fields.x\n",
    "yc = com_shift.fields.y\n",
    "p = image.plot(norm='log', aspect='equal')\n",
    "p.ax.plot(xc.value, yc.value, 'o', color='red', ms=5)\n",
    "p"
   ]
  },
  {
   "cell_type": "markdown",
   "id": "afbf9a8c-4fc7-4eb3-a477-111baa047b18",
   "metadata": {},
   "source": [
    "## Making 4 quadrants\n",
    "\n",
    "We divide the panel into 4 quadrants."
   ]
  },
  {
   "cell_type": "code",
   "execution_count": null,
   "id": "bfdb5422-4c71-4e65-a4be-e7fd6042c203",
   "metadata": {
    "tags": []
   },
   "outputs": [],
   "source": [
    "p = image.plot(norm='log', aspect='equal')\n",
    "p.ax.plot(xc.value, yc.value, 'o', color='red', ms=5)\n",
    "p.ax.axvline(xc.value, color='cyan')\n",
    "p.ax.axhline(yc.value, color='cyan')\n",
    "dx = 0.25\n",
    "p.ax.text(xc.value + dx, yc.value + dx, 'North-East', ha='center', va='center')\n",
    "p.ax.text(xc.value - dx, yc.value + dx, 'North-West', ha='center', va='center')\n",
    "p.ax.text(xc.value - dx, yc.value - dx, 'South-East', ha='center', va='center')\n",
    "p.ax.text(xc.value + dx, yc.value - dx, 'South-West', ha='center', va='center')\n",
    "p"
   ]
  },
  {
   "cell_type": "markdown",
   "id": "db8c835f-75ad-44e2-a49a-095c59c68863",
   "metadata": {},
   "source": [
    "## Converting to $Q$ inside each quadrant\n",
    "\n",
    "We now perform a full[$^1$](#footnote1) $I(Q)$ reduction (see [here](../../instruments/loki/sans2d_to_I_of_Q.ipynb) for more details) inside each quadrant.\n",
    "The reduction involves computing a normalizing term which, for the most part, does not depend on pixel positions.\n",
    "We therefore compute this once, before starting iterations to refine the position of the center.\n",
    "\n",
    "### First compute normalizing term to avoid loop over expensive compute\n",
    "\n",
    "To compute the denominator, we need to preprocess the monitor data from the sample and direct runs.\n",
    "This involved converting them to wavelength and removing any background noise from the signal."
   ]
  },
  {
   "cell_type": "code",
   "execution_count": null,
   "id": "2c1d2d3b-4206-44da-bcf8-9bb7a6a55b0e",
   "metadata": {
    "tags": []
   },
   "outputs": [],
   "source": [
    "# Extract monitor data\n",
    "sample_monitors = {\n",
    "    'incident': sample.attrs[\"monitor2\"].value,\n",
    "    'transmission': sample.attrs[\"monitor4\"].value,\n",
    "}\n",
    "direct_monitors = {\n",
    "    'incident': direct.attrs[\"monitor2\"].value,\n",
    "    'transmission': direct.attrs[\"monitor4\"].value,\n",
    "}\n",
    "# Define the range where monitor data is considered not to be noise\n",
    "non_background_range = sc.array(\n",
    "    dims=['wavelength'], values=[0.7, 17.1], unit='angstrom'\n",
    ")\n",
    "# Pre-process monitor data\n",
    "sample_monitors = sans.i_of_q.preprocess_monitor_data(\n",
    "    sample_monitors,\n",
    "    non_background_range=non_background_range,\n",
    "    wavelength_bins=wavelength_bins,\n",
    ")\n",
    "direct_monitors = sans.i_of_q.preprocess_monitor_data(\n",
    "    direct_monitors,\n",
    "    non_background_range=non_background_range,\n",
    "    wavelength_bins=wavelength_bins,\n",
    ")"
   ]
  },
  {
   "cell_type": "markdown",
   "id": "20c507ec-f91c-44e4-a7a5-f40213ef32de",
   "metadata": {},
   "source": [
    "We then feed this, along with the sample run data (needed to include the detector pixel solid angles),\n",
    "to a function which will compute the normalization term."
   ]
  },
  {
   "cell_type": "code",
   "execution_count": null,
   "id": "23ac1497-6f29-4bcf-99c1-a300133112f8",
   "metadata": {
    "tags": []
   },
   "outputs": [],
   "source": [
    "norm = sans.normalization.iofq_denominator(\n",
    "    data=sample,\n",
    "    data_transmission_monitor=sc.values(sample_monitors['transmission']),\n",
    "    direct_incident_monitor=sc.values(direct_monitors['incident']),\n",
    "    direct_transmission_monitor=sc.values(direct_monitors['transmission']),\n",
    ")\n",
    "\n",
    "norm"
   ]
  },
  {
   "cell_type": "markdown",
   "id": "dccb7b71-8236-4509-b8b1-c20bedfac317",
   "metadata": {},
   "source": [
    "### Compute $I(Q)$ inside the 4 quadrants\n",
    "\n",
    "We begin by defining several parameters which are required to compute $I(Q)$."
   ]
  },
  {
   "cell_type": "code",
   "execution_count": null,
   "id": "6b960ad7-9068-4058-bb90-2df6bdbc4c3f",
   "metadata": {
    "tags": []
   },
   "outputs": [],
   "source": [
    "# Define 4 phi bins\n",
    "pi = sc.constants.pi.value\n",
    "phi_bins = sc.linspace('phi', -pi, pi, 5, unit='rad')\n",
    "\n",
    "# Name the quadrants\n",
    "quadrants = ['south-west', 'south-east', 'north-east', 'north-west']\n",
    "\n",
    "# Define a wavelength range to use\n",
    "wavelength_range = sc.concat(\n",
    "    [wavelength_bins.min(), wavelength_bins.max()], dim='wavelength'\n",
    ")"
   ]
  },
  {
   "cell_type": "markdown",
   "id": "5c0ace9d-03f8-457e-a86c-efc9cd612631",
   "metadata": {},
   "source": [
    "We now use a function which will apply the center offset to the pixel coordinates,\n",
    "and compute $I(Q)$ inside each quadrant."
   ]
  },
  {
   "cell_type": "code",
   "execution_count": null,
   "id": "1479159f-e887-48aa-9c33-06c82dad6fe6",
   "metadata": {
    "tags": []
   },
   "outputs": [],
   "source": [
    "grouped = sans.beam_center_finder.iofq_in_quadrants(\n",
    "    xy=[com_shift.fields.x.value, com_shift.fields.y.value],\n",
    "    sample=sample,\n",
    "    norm=norm,\n",
    "    graph=graph,\n",
    "    q_bins=q_bins,\n",
    "    gravity=gravity,\n",
    "    wavelength_range=wavelength_range,\n",
    ")"
   ]
  },
  {
   "cell_type": "markdown",
   "id": "31e5b9f9-b0a3-4010-83e8-690fda6e3f76",
   "metadata": {},
   "source": [
    "We can now plot on the same figure all 4 $I(Q)$ curves for each quadrant."
   ]
  },
  {
   "cell_type": "code",
   "execution_count": null,
   "id": "007524f6-96b6-4bf7-9130-8d42db118b95",
   "metadata": {
    "tags": []
   },
   "outputs": [],
   "source": [
    "pp.plot(grouped, norm='log')"
   ]
  },
  {
   "cell_type": "markdown",
   "id": "db6a4f3e-3edf-4eae-8662-b971d9e6e19a",
   "metadata": {},
   "source": [
    "As we can see, the overlap between the curves from the 4 quadrants is not satisfactory.\n",
    "We will now use an iterative procedure to improve our initial guess, until a good overlap between the curves is found.\n",
    "\n",
    "For this, we first define a cost function `sans.beam_center_finder.cost`, which gives us an idea of how good the overlap is:\n",
    "\n",
    "$$\n",
    "\\text{cost} = \\frac{\\sum_{Q}\\sum_{i=1}^{i=4} \\overline{I}(Q)\\left(I(Q)_{i} - \\overline{I}(Q)\\right)^2}{\\sum_{Q}\\overline{I}(Q)} ~,\n",
    "$$\n",
    "\n",
    "where $\\overline{I}(Q)$ is the mean intensity of the 4 quadrants (represented by $i$) as a function of $Q$.\n",
    "This is basically a weighted mean of the square of the differences between the $I(Q)$ curves in the 4 quadrants with respect to $\\overline{I}(Q)$,\n",
    "and where the weights are $\\overline{I}(Q)$.\n",
    "\n",
    "Next, we iteratively minimize the computed cost\n",
    "(this is using Scipy's `optimize.minimize` utility internally;\n",
    "see [here](https://docs.scipy.org/doc/scipy/reference/generated/scipy.optimize.minimize.html) for more details)."
   ]
  },
  {
   "cell_type": "code",
   "execution_count": null,
   "id": "27898815-7742-4990-853f-15d665f0337e",
   "metadata": {
    "tags": []
   },
   "outputs": [],
   "source": [
    "# The minimizer works best if given bounds, which are the bounds of our detector panel\n",
    "x = sample.coords['position'].fields.x\n",
    "y = sample.coords['position'].fields.y\n",
    "\n",
    "res = bcf.minimize(\n",
    "    sans.beam_center_finder.cost,\n",
    "    x0=[com_shift.fields.x.value, com_shift.fields.y.value],\n",
    "    args=(sample, norm, graph, q_bins, gravity, wavelength_range),\n",
    "    bounds=[(x.min().value, x.max().value), (y.min().value, y.max().value)],\n",
    ")\n",
    "res"
   ]
  },
  {
   "cell_type": "markdown",
   "id": "b8f125a8-38ec-4792-8e82-4d2b2e4860e4",
   "metadata": {},
   "source": [
    "Once the iterations completed, the returned object contains the best estimate for the beam center:"
   ]
  },
  {
   "cell_type": "code",
   "execution_count": null,
   "id": "81965cb9-bb34-4662-9210-e2904952759c",
   "metadata": {
    "tags": []
   },
   "outputs": [],
   "source": [
    "res.x"
   ]
  },
  {
   "cell_type": "markdown",
   "id": "9d7e7739-935d-46fa-88eb-5367d70f8278",
   "metadata": {},
   "source": [
    "We can now feed this value again into our `iofq_in_quadrants` function, to inspect the $Q$ intensity in all 4 quadrants:"
   ]
  },
  {
   "cell_type": "code",
   "execution_count": null,
   "id": "bba5ad6e-294d-4549-8a2b-74e693f1f923",
   "metadata": {
    "tags": []
   },
   "outputs": [],
   "source": [
    "grouped = sans.beam_center_finder.iofq_in_quadrants(\n",
    "    xy=[res.x[0], res.x[1]],\n",
    "    sample=sample,\n",
    "    norm=norm,\n",
    "    graph=graph,\n",
    "    q_bins=q_bins,\n",
    "    gravity=gravity,\n",
    "    wavelength_range=wavelength_range,\n",
    ")\n",
    "\n",
    "pp.plot(grouped, norm='log')"
   ]
  },
  {
   "cell_type": "markdown",
   "id": "389c0133-839d-46da-934c-bfcc5e2e5aab",
   "metadata": {},
   "source": [
    "The overlap between the curves is excellent, allowing us to safely perform an azimuthal summation of the counts around the beam center.\n",
    "\n",
    "As a consistency check, we plot the refined beam center position onto the detector panel image:"
   ]
  },
  {
   "cell_type": "code",
   "execution_count": null,
   "id": "f627d98e-5c3f-404e-b6f6-59ba2386a5bb",
   "metadata": {
    "tags": []
   },
   "outputs": [],
   "source": [
    "p = sample.sum('tof').copy().hist(y=120, x=128).plot(norm='log', aspect='equal')\n",
    "p.ax.plot(res.x[0], res.x[1], 'o', color='red', ms=5)\n",
    "p"
   ]
  },
  {
   "cell_type": "markdown",
   "id": "0c58240d-7034-4467-b86c-d2f985a86e8c",
   "metadata": {},
   "source": [
    "## Footnotes"
   ]
  },
  {
   "cell_type": "markdown",
   "id": "d723ce70-f424-477b-94e9-29d6fbed802e",
   "metadata": {},
   "source": [
    "<div id='footnote1'></div>\n",
    "\n",
    "1. In the full $I(Q)$ reduction, there is a term $D(\\lambda)$ in the normalization called the \"direct beam\" which gives the efficiency of the detectors as a function of wavelength.\n",
    "Because finding the beam center is required to compute the direct beam in the first place,\n",
    "we do not include this term in the computation of $I(Q)$ for finding the beam center.\n",
    "This changes the shape of the $I(Q)$ curve, but since it changes it in the same manner for all $\\phi$ angles,\n",
    "this does not affect the results for finding the beam center."
   ]
  }
 ],
 "metadata": {
  "kernelspec": {
   "display_name": "Python 3 (ipykernel)",
   "language": "python",
   "name": "python3"
  },
  "language_info": {
   "codemirror_mode": {
    "name": "ipython",
    "version": 3
   },
   "file_extension": ".py",
   "mimetype": "text/x-python",
   "name": "python",
   "nbconvert_exporter": "python",
   "pygments_lexer": "ipython3"
  }
 },
 "nbformat": 4,
 "nbformat_minor": 5
}
