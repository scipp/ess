{
 "cells": [
  {
   "cell_type": "markdown",
   "id": "9a935df3-c816-4829-99c3-2afa979b7611",
   "metadata": {},
   "source": [
    "# Data reduction workflow for files generated on Larmor instrument\n",
    "\n",
    "Some addhoc approximations will need to be done in order to satisfy SANS2D workflow, e.g direct measurments, tramsmission fraction. "
   ]
  },
  {
   "cell_type": "code",
   "execution_count": 1,
   "id": "8c7f7cf7-0582-4953-a772-a0f87d1cf0e2",
   "metadata": {},
   "outputs": [],
   "source": [
    "import matplotlib.pyplot as plt\n",
    "import scipp as sc\n",
    "from ess import loki, sans\n",
    "import scippneutron as scn\n",
    "import plopp as pp\n",
    "%matplotlib widget"
   ]
  },
  {
   "cell_type": "markdown",
   "id": "7c6ffa2f-581e-4ed9-a269-5a0eacae9117",
   "metadata": {},
   "source": [
    "## Setting up scicat connection"
   ]
  },
  {
   "cell_type": "code",
   "execution_count": 2,
   "id": "0a21c993-e391-4293-b04d-26ba1a1411cf",
   "metadata": {},
   "outputs": [],
   "source": [
    "#TODO: Placeholder for now\n",
    "\n",
    "# import scitacean\n",
    "# scitacean.__version__\n",
    "\n",
    "\n",
    "# client = FakeClient(file_transfer=FakeFileTransfer(source_folder='/'))\n",
    "\n",
    "# direct_beam_uploaded = get_direct_beam(client)\n",
    "# sample_uploaded = get_sample(client, direct_beam_uploaded)\n",
    "\n",
    "# sample_remote = client.get_dataset(sample_uploaded.pid)\n",
    "# sample_local = client.download_files(sample_remote, target=\".\")\n"
   ]
  },
  {
   "cell_type": "markdown",
   "id": "bc207995-1b28-4efe-a934-ee7fc7def07d",
   "metadata": {},
   "source": [
    "### Load masks"
   ]
  },
  {
   "cell_type": "markdown",
   "id": "b5d36f11-9903-48f8-a626-86f137995681",
   "metadata": {},
   "source": [
    "## Define reduction workflow parameters\n",
    "\n",
    "We define here whether to include the effects of gravity,\n",
    "as well as common time-of-flight, wavelength and $Q$ bins for all the measurements.\n",
    "\n",
    "We also define a range of wavelengths for the monitors that are considered to not be part of the background."
   ]
  },
  {
   "cell_type": "code",
   "execution_count": 3,
   "id": "239166d6-d62f-46e9-8316-83c26f0f05ce",
   "metadata": {},
   "outputs": [],
   "source": [
    "# Include effects of gravity?\n",
    "gravity = True\n",
    "\n",
    "#TODO: Using same wavelengths bins as direct beam is defined for but it may be different range (0.9-13.5)\n",
    "wavelength_bins = sc.linspace(dim='wavelength', start=2.2, stop=12.0, num=50,\n",
    "                              unit='angstrom')\n",
    "\n",
    "q_bins = sc.linspace(dim='Q', start=0.004, stop=0.4, num=110, unit='1/angstrom')\n"
   ]
  },
  {
   "cell_type": "markdown",
   "id": "bafd7ab4-d478-4c96-8196-69029fb221c4",
   "metadata": {},
   "source": [
    "## Loading data files\n",
    "\n",
    "We load the following files:\n",
    "\n",
    "- The direct beam function for the main detector (gives detector efficiency as a function of wavelength)\n",
    "- The sample measurement\n",
    "- The direct measurement: this is the run with the empty sample holder/cuvette\n",
    "- the background measurement: this is the run with only the solvent which the sample is placed in"
   ]
  },
  {
   "cell_type": "code",
   "execution_count": 4,
   "id": "2854b56a-8105-412b-bae2-4fc3c527db0f",
   "metadata": {},
   "outputs": [],
   "source": [
    "#Loading Mantid\n",
    "# filename = '60393-mantid-add.nxs'\n",
    "# path = '/Users/wojciechpotrzebowski/SCIPP_SPACE/direct_beam_iterations_2023/'\n",
    "# mantid_sample = scn.load(f'{path}/{filename}')\n",
    "#mantid_sample"
   ]
  },
  {
   "cell_type": "code",
   "execution_count": 5,
   "id": "6b96d1fb-2972-4af1-999a-9cd9817ca3c1",
   "metadata": {},
   "outputs": [],
   "source": [
    "def add_runs(runs, data_path): \n",
    "    \"\"\"\n",
    "    Adding data and monitors from different runs. Iterates over list of runs. \n",
    "    Currently returning two data sets, however it may also be possible to create one in order to use workflows\n",
    "    \"\"\"\n",
    "    input_file1 = f'{data_path}/{runs[0]}-2022-02-28_2215.nxs'\n",
    "    #fixed_file1 = f'{input_file1[:-4]}_fixed.nxs'\n",
    "    data1 = scn.load_nexus(data_file=input_file1)\n",
    "    da1 = data1.squeeze().copy()\n",
    "    summed_data = da1\n",
    "    summed_monitors_1 = da1.attrs['monitor_1'].value\n",
    "    summed_monitors_2 = da1.attrs['monitor_2'].value\n",
    "    #TODO: Should I take tof min and max and use it for setting boundaries\n",
    "\n",
    "    start_tof = data1.coords['tof'][0].values\n",
    "    end_tof = data1.coords['tof'][-1].values\n",
    "    for run in runs[1:]: \n",
    "        input_file2 = f'{data_path}/{run}-2022-02-28_2215.nxs'\n",
    "        #fixed_file2 = f'{input_file2[:-4]}_fixed.nxs'\n",
    "        data2 = scn.load_nexus(data_file=input_file2)\n",
    "        if start_tof <  data2.coords['tof'][0].values:\n",
    "            start_tof =  data1.coords['tof'][0].values\n",
    "        if end_tof > data2.coords['tof'][-1].values:\n",
    "            end_tof = data2.coords['tof'][-1].values\n",
    "        da2 = data2.squeeze().copy()\n",
    "        summed_data = summed_data.bins.concatenate(da2)\n",
    "        summed_monitors_1 = summed_monitors_1.bins.concatenate(da2.attrs['monitor_1'].value)\n",
    "        summed_monitors_2 = summed_monitors_2.bins.concatenate(da2.attrs['monitor_2'].value)\n",
    "\n",
    "    edges=sc.linspace('tof', start_tof, end_tof, 2, unit='ns')\n",
    "    summed_binned_data = sc.bin(summed_data, tof=edges)\n",
    "\n",
    "    #Adding montors from first data set\n",
    "    summed_binned_data.attrs['monitor_1'] = data1.attrs['monitor_1']\n",
    "    summed_binned_data.attrs['monitor_2'] = data1.attrs['monitor_2']\n",
    "    return summed_binned_data"
   ]
  },
  {
   "cell_type": "code",
   "execution_count": 6,
   "id": "0868e927-86f6-45a0-8baf-c541f11cce48",
   "metadata": {},
   "outputs": [],
   "source": [
    "#direct_beam_copy = scn.load(f'{path}/flat_g4_final_15Jun23_10-17.nxs')"
   ]
  },
  {
   "cell_type": "code",
   "execution_count": 7,
   "id": "9394cf5c-ef29-4d50-b118-a30e5b44d8d2",
   "metadata": {},
   "outputs": [],
   "source": [
    "#direct_beam_copy['spectrum', 27000:40000].plot()"
   ]
  },
  {
   "cell_type": "code",
   "execution_count": 8,
   "id": "a84a6db6-ffe8-4eba-8cb5-75a1239686d6",
   "metadata": {},
   "outputs": [],
   "source": [
    "#sans.i_of_q.resample_direct_beam(direct_beam_copy, wavelength_bins)"
   ]
  },
  {
   "cell_type": "code",
   "execution_count": 9,
   "id": "fc8931ce-943a-4f49-a79b-d6ed1c4a0db3",
   "metadata": {},
   "outputs": [],
   "source": [
    "#direct_beam.masks['spectrum']"
   ]
  },
  {
   "cell_type": "code",
   "execution_count": 10,
   "id": "2ee60137-4d04-40e1-b4c0-3a54e2fffd02",
   "metadata": {},
   "outputs": [],
   "source": [
    "#direct_beam.sum('wavelength').plot()"
   ]
  },
  {
   "cell_type": "code",
   "execution_count": 11,
   "id": "0315d002-9cab-4ae4-8f63-c72a532f716b",
   "metadata": {},
   "outputs": [
    {
     "name": "stdout",
     "output_type": "stream",
     "text": [
      "FrameworkManager-[Notice] Welcome to Mantid 6.7.0\n",
      "FrameworkManager-[Notice] Please cite: http://dx.doi.org/10.1016/j.nima.2014.07.029 and this release: http://dx.doi.org/10.5286/Software/Mantid6.7\n",
      "DownloadInstrument-[Notice] All instrument definitions up to date\n",
      "Load-[Notice] Load started\n",
      "Load-[Notice] Load successful, Duration 12.53 seconds\n",
      "DeleteWorkspace-[Notice] DeleteWorkspace started\n",
      "DeleteWorkspace-[Notice] DeleteWorkspace successful, Duration 0.00 seconds\n"
     ]
    }
   ],
   "source": [
    "#ds_id = sc.Dataset()\n",
    "\n",
    "#sample_run_number = 60395\n",
    "sample_runs = [60250, 60264, 60292, 60308, 60322, 60339, 60353, 60367, 60381, 60395]\n",
    "sample_transmission_run_number = 60394\n",
    "#background_run_number = 60393\n",
    "background_runs = [ 60248, 60262, 60290, 60306, 60320, 60337, 60351, 60365, 60379,  60393]\n",
    "background_transmission_run_number = 60392\n",
    "empty_beam_run_number = 60392\n",
    "\n",
    "path = '/Users/wojciechpotrzebowski/SCIPP_SPACE/loki_detector_test/2022-06-24_calibrated_nexus_files/'\n",
    "#direct_beam = loki.io.load_rkh_wav(f'{path}/DirectBeam_20feb_full_v3.dat')\n",
    "direct_beam = scn.load(f'{path}/flat_g4_final_15Jun23_10-17.nxs')\n",
    "\n",
    "#sample = scn.load_nexus(data_file=f'{path}/{sample_run_number}-2022-02-28_2215.nxs')\n",
    "sample = add_runs(sample_runs, path)\n",
    "sample = sample.rename(detector_id = 'spectrum')\n",
    "\n",
    "\n",
    "#Mantid samples don't have montors, so we will need to pass them independently \n",
    "#sample = scn.load(f'{path}/{sample_run_number}-mantid-add.nxs')\n",
    "\n",
    "sample_trans = scn.load_nexus(data_file=f'{path}/{sample_transmission_run_number}-2022-02-28_2215.nxs')\n",
    "sample_trans = sample_trans.rename(detector_id = 'spectrum')\n",
    "\n",
    "#TODO: How about direct?\n",
    "#ds['direct'] = scn.load(filename=f'{path}/LARMOR000{background_run_number}.nxs')\n",
    "empty_beam = scn.load_nexus(data_file=f'{path}/{empty_beam_run_number}-2022-02-28_2215.nxs')\n",
    "empty_beam = empty_beam.rename(detector_id = 'spectrum')\n",
    "\n",
    "#background = scn.load_nexus(data_file=f'{path}/{background_run_number}-2022-02-28_2215.nxs')\n",
    "background = add_runs(background_runs, path)\n",
    "background = background.rename(detector_id = 'spectrum')\n",
    "#background = scn.load(f'{path}/{background_run_number}-mantid-add.nxs')\n",
    "\n",
    "background_trans = scn.load_nexus(data_file=f'{path}/{background_transmission_run_number}-2022-02-28_2215.nxs')\n",
    "background_trans = background_trans.rename(detector_id = 'spectrum')\n",
    "\n",
    "ds = {'sample': sample, 'sample_trans': sample_trans, 'empty_beam': empty_beam, \n",
    "      'background': background, 'background_trans': background_trans}\n"
   ]
  },
  {
   "cell_type": "markdown",
   "id": "e3b0b991-85c4-40fe-a903-74b43716a155",
   "metadata": {},
   "source": [
    "## Apply corrections to pixel positions\n",
    "\n",
    "We apply some corrections to the detector pixel and monitor positions,\n",
    "as the geometry stored in the file is inaccurate."
   ]
  },
  {
   "cell_type": "code",
   "execution_count": 12,
   "id": "b616d643-8504-4eda-ba7a-bb73b85e7b80",
   "metadata": {},
   "outputs": [],
   "source": [
    "#sample_position 0, 0, 0 wrt to source?\n",
    "# Now shift pixels positions to get the correct beam center\n",
    "for da in ds.values():\n",
    "    da.coords[\"sample_position\"] = sc.vector(value=[0.0, 0.0, 0.0], unit='m')\n",
    "    da.coords[\"source_position\"] = sc.vector(value=[0.0, 0.0, -25.61], unit='m')\n",
    "    #sample_pos_z_offset = 0.1 * sc.units.m\n",
    "    #bench_pos_y_offset = 0.001 * sc.units.m\n",
    "\n",
    "    da.coords[\"pixel_width\"] = 0.0075 * sc.units.m\n",
    "    da.coords[\"pixel_height\"] = 0.0117188 * sc.units.m\n",
    "\n",
    "    # -0.0035, -0.0035\n",
    "    x_offset = 0.028 * sc.units.m\n",
    "    y_offset = 0.01195 * sc.units.m\n",
    "    #x_offset = 0.0035 * sc.units.m\n",
    "    #y_offset = 0.0035 * sc.units.m\n",
    "    \n",
    "    # Now shift pixels positions to get the correct beam center\n",
    "    da.coords['position'].fields.x += x_offset\n",
    "    da.coords['position'].fields.y += y_offset\n",
    "\n",
    "#Direct beam treated separetly \n",
    "direct_beam.coords[\"sample_position\"] = sc.vector(value=[0.0, 0.0, 0.0], unit='m')\n",
    "direct_beam.coords[\"source_position\"] = sc.vector(value=[0.0, 0.0, -25.61], unit='m')\n",
    "direct_beam.coords[\"pixel_width\"] = 0.0075 * sc.units.m\n",
    "direct_beam.coords[\"pixel_height\"] = 0.0117188 * sc.units.m\n",
    "\n",
    "#x_offset = 0.028 * sc.units.m\n",
    "#y_offset = 0.01195 * sc.units.m\n",
    "\n",
    "#TODO: Check if necessary\n",
    "#x_offset = 0.0035 * sc.units.m\n",
    "#y_offset = 0.0035 * sc.units.m\n",
    "\n",
    "# Now shift pixels positions to get the correct beam center\n",
    "#direct_beam.coords['position'].fields.x += x_offset\n",
    "#direct_beam.coords['position'].fields.y += y_offset"
   ]
  },
  {
   "cell_type": "markdown",
   "id": "eeb81dd1-078a-495b-8cff-49c474be65dd",
   "metadata": {},
   "source": [
    "## Masking\n",
    "\n",
    "The next step is to mask noisy and saturated pixels,\n",
    "as well as a time-of-flight range that contains spurious artifacts from the beamline components.\n",
    "\n",
    "**Note:** We use programatic masks here and not those stored in xml files.\n",
    "\n",
    "### Mask bad pixels\n",
    "\n",
    "We mask the edges of the detector, which are usually noisy.\n",
    "We also mask the region close to the center of the beam,\n",
    "so as to not include saturated pixels in our data reduction."
   ]
  },
  {
   "cell_type": "code",
   "execution_count": 13,
   "id": "e54e6899-4842-4b91-82ab-15c5ceef5edb",
   "metadata": {},
   "outputs": [
    {
     "name": "stdout",
     "output_type": "stream",
     "text": [
      "LoadMask-[Notice] LoadMask started\n",
      "LoadInstrument-[Warning] The instrument definition filename does not contain _Definition. Your instrument name will be set to: LOKI_test.xml\n",
      "LoadMask-[Notice] LoadMask successful, Duration 0.41 seconds\n",
      "DeleteWorkspace-[Notice] DeleteWorkspace started\n",
      "DeleteWorkspace-[Notice] DeleteWorkspace successful, Duration 0.00 seconds\n",
      "LoadMask-[Notice] LoadMask started\n",
      "LoadInstrument-[Warning] The instrument definition filename does not contain _Definition. Your instrument name will be set to: LOKI_test.xml\n",
      "LoadMask-[Notice] LoadMask successful, Duration 0.44 seconds\n",
      "DeleteWorkspace-[Notice] DeleteWorkspace started\n",
      "DeleteWorkspace-[Notice] DeleteWorkspace successful, Duration 0.00 seconds\n"
     ]
    }
   ],
   "source": [
    "# def load_mask(idf_filename, mask_file):\n",
    "#     \"\"\"\n",
    "#     Loading individual mask file\n",
    "#     \"\"\"\n",
    "#     return scn.load(\n",
    "#         filename=idf_filename,\n",
    "#         mantid_alg=\"LoadMask\",\n",
    "#         mantid_args={\"InputFile\": mask_file},\n",
    "#     )\n",
    "\n",
    "# def load_and_apply_masks(idf_filename, mask_files, sample, background, spectrum_size):\n",
    "#     \"\"\"\n",
    "#     Loading masks files from the list and add them to sample and background\n",
    "#     \"\"\"\n",
    "#     for i, mask_file in enumerate(mask_files):\n",
    "#         mask_xml = load_mask(idf_filename, mask_file)\n",
    "#         sample.masks[f\"mask_{i}_xml\"] = mask_xml[\"spectrum\", :spectrum_size].data\n",
    "#         background.masks[f\"mask_{i}_xml\"] = mask_xml[\"spectrum\", :spectrum_size].data\n",
    "\n",
    "#Trying out Mantid masks \n",
    "idf_filename = f'{path}/LOKI_test.xml'\n",
    "mask_file = f'{path}/mask_new_July2022.xml'\n",
    "mask_all = scn.load(filename=idf_filename, mantid_alg=\"LoadMask\", mantid_args={\"InputFile\": mask_file})\n",
    "mask_file = f'{path}/mask_straws.xml' \n",
    "mask_straw = scn.load(filename=idf_filename, mantid_alg=\"LoadMask\", mantid_args={\"InputFile\": mask_file})\n",
    "\n",
    "mask_edges = (\n",
    "    (sc.abs(sample.coords['position'].fields.x - x_offset) > sc.scalar(0.45, unit='m')) |\n",
    "    (sc.abs(sample.coords['position'].fields.y - y_offset) > sc.scalar(0.45, unit='m')))\n",
    "\n",
    "mask_center = sc.sqrt(\n",
    "    sample.coords['position'].fields.x**2 +\n",
    "    sample.coords['position'].fields.y**2) < sc.scalar(0.035, unit='m')\n",
    "\n",
    "for da in ds.values():\n",
    "    #da.masks['edges'] = mask_edges\n",
    "    #da.masks['center'] = mask_center\n",
    "\n",
    "    da.masks['all'] = mask_all.data\n",
    "    da.masks['straws'] = mask_straw.data\n",
    "    #Added mask from direct beam\n",
    "    #da.masks['direct_beam'] = direct_beam.masks['spectrum']\n"
   ]
  },
  {
   "cell_type": "markdown",
   "id": "fbdf4c28-1135-4946-a07c-3fe70250a0e4",
   "metadata": {},
   "source": [
    "We can inspect that the coordinate corrections and masking were applied correctly by opening the instrument view."
   ]
  },
  {
   "cell_type": "code",
   "execution_count": 14,
   "id": "d323a004-1f4f-4c8a-9cd8-f81678bb9a91",
   "metadata": {},
   "outputs": [
    {
     "data": {
      "application/vnd.jupyter.widget-view+json": {
       "model_id": "1ddd6b08afa144ea97883c27e2cbeef4",
       "version_major": 2,
       "version_minor": 0
      },
      "text/plain": [
       "Box(children=(Figure(children=(HBar(children=(HTML(value=''),)), HBox(children=(VBar(children=(Toolbar(childre…"
      ]
     },
     "execution_count": 14,
     "metadata": {},
     "output_type": "execute_result"
    }
   ],
   "source": [
    "scn.instrument_view(sample.hist(), pixel_size=0.0075)"
   ]
  },
  {
   "cell_type": "code",
   "execution_count": 15,
   "id": "e019f507-702b-43dc-912a-1345b5cac7d9",
   "metadata": {},
   "outputs": [
    {
     "data": {
      "text/html": [
       "<div><!-- Original source from -->\n",
       "<!-- https://github.com/jsignell/xarray/blob/1d960933ab252e0f79f7e050e6c9261d55568057/xarray/static/html/icons-svg-inline.html -->\n",
       "<svg style=\"position: absolute; width: 0; height: 0; overflow: hidden\">\n",
       "<defs>\n",
       "<symbol id=\"icon-database\" viewBox=\"0 0 32 32\">\n",
       "<title>Show/Hide data repr</title>\n",
       "<path d=\"M16 0c-8.837 0-16 2.239-16 5v4c0 2.761 7.163 5 16 5s16-2.239 16-5v-4c0-2.761-7.163-5-16-5z\"></path>\n",
       "<path d=\"M16 17c-8.837 0-16-2.239-16-5v6c0 2.761 7.163 5 16 5s16-2.239 16-5v-6c0 2.761-7.163 5-16 5z\"></path>\n",
       "<path d=\"M16 26c-8.837 0-16-2.239-16-5v6c0 2.761 7.163 5 16 5s16-2.239 16-5v-6c0 2.761-7.163 5-16 5z\"></path>\n",
       "</symbol>\n",
       "<symbol id=\"icon-file-text2\" viewBox=\"0 0 32 32\">\n",
       "<title>Show/Hide attributes</title>\n",
       "<path d=\"M28.681 7.159c-0.694-0.947-1.662-2.053-2.724-3.116s-2.169-2.030-3.116-2.724c-1.612-1.182-2.393-1.319-2.841-1.319h-15.5c-1.378 0-2.5 1.121-2.5 2.5v27c0 1.378 1.122 2.5 2.5 2.5h23c1.378 0 2.5-1.122 2.5-2.5v-19.5c0-0.448-0.137-1.23-1.319-2.841zM24.543 5.457c0.959 0.959 1.712 1.825 2.268 2.543h-4.811v-4.811c0.718 0.556 1.584 1.309 2.543 2.268zM28 29.5c0 0.271-0.229 0.5-0.5 0.5h-23c-0.271 0-0.5-0.229-0.5-0.5v-27c0-0.271 0.229-0.5 0.5-0.5 0 0 15.499-0 15.5 0v7c0 0.552 0.448 1 1 1h7v19.5z\"></path>\n",
       "<path d=\"M23 26h-14c-0.552 0-1-0.448-1-1s0.448-1 1-1h14c0.552 0 1 0.448 1 1s-0.448 1-1 1z\"></path>\n",
       "<path d=\"M23 22h-14c-0.552 0-1-0.448-1-1s0.448-1 1-1h14c0.552 0 1 0.448 1 1s-0.448 1-1 1z\"></path>\n",
       "<path d=\"M23 18h-14c-0.552 0-1-0.448-1-1s0.448-1 1-1h14c0.552 0 1 0.448 1 1s-0.448 1-1 1z\"></path>\n",
       "</symbol>\n",
       "</defs>\n",
       "</svg><style id=\"scipp-style-sheet\">.sc-root{--sc-background-color0:var(--jp-layout-color0,#fff);--sc-background-color1:var(--jp-layout-color1,#fcfcfc);--sc-background-color2:var(--jp-layout-color2,#efefef);--sc-inverse-background-color0:var(--jp-inverse-layout-color4,#111);--sc-font-color0:var(--jp-content-font-color0,#000);--sc-font-color1:var(--jp-content-font-color1,#555);--sc-font-color2:var(--jp-content-font-color2,#888);--sc-font-color3:var(--jp-content-font-color3,#ccc);--sc-table-data-color:#f6d028;--sc-table-coords-color:#c6e590;--sc-table-masks-color:#c8c8c8;--sc-table-attrs-color:#ff5555;--sc-table-header-font-color:#111111;}.sc-wrap{font-size:14px;min-width:300px;max-width:800px;}.sc-var-attrs .sc-wrap{padding-left:3em;}.sc-header{padding-top:6px;padding-bottom:6px;margin-bottom:4px;border-bottom:solid 1px #ddd;}.sc-header > div,.sc-header > ul{display:inline;margin-top:0;margin-bottom:0;}.sc-obj-type,.sc-array-name{margin-left:2px;margin-right:10px;}.sc-obj-type{color:var(--sc-font-color1);}.sc-underlying-size{color:var(--sc-font-color2);}.sc-sections,.reveal .sc-sections{padding-left:0 !important;display:grid;grid-template-columns:150px auto auto auto 1fr 20px 20px;}.sc-section-item{display:contents;}.sc-section-item input{display:none;}.sc-section-item input:enabled + label{cursor:pointer;color:var(--sc-font-color1);}.sc-section-item input:enabled + label:hover{color:var(--sc-font-color0);}.sc-section-summary{grid-column:1;font-weight:500;}.sc-section-summary > span{display:inline-block;padding-left:0.5em;}.sc-section-summary-in:disabled + label{color:var(--sc-font-color1);}.sc-section-summary-in + label:before{display:inline-block;content:'►';font-size:11px;width:15px;text-align:center;}.sc-section-summary-in:disabled + label:before{color:var(--sc-font-color3);}.sc-section-summary-in:checked + label:before{content:'▼';}.sc-section-summary-in:checked + label > span{display:none;}.sc-section-summary,.sc-section-inline-details{padding-top:4px;padding-bottom:4px;}.sc-section-inline-details{grid-column:2 / 6;}.sc-section-details{display:none;grid-column:1 / -1;margin-bottom:5px;}.sc-section-summary-in:checked ~ .sc-section-details{display:contents;}.sc-array-wrap{grid-column:1 / -1;display:grid;grid-template-columns:20px auto;}.sc-array-wrap > label{grid-column:1;vertical-align:top;}.sc-preview{color:var(--sc-font-color2);}.sc-array-preview,.sc-array-data{padding:0 5px !important;grid-column:2;}.sc-array-data,.sc-array-in:checked ~ .sc-array-preview{display:none;}.sc-array-in:checked ~ .sc-array-data,.sc-array-preview{display:inline-block;}.sc-dim-list{display:inline-block !important;list-style:none;padding:0 !important;margin:0;}.sc-dim-list li{display:inline-block;padding:0;margin:0!important;}.sc-dim-list:before{content:'(';}.sc-dim-list:after{content:')';}.sc-dim-list li:not(:last-child):after{content:',';padding-right:5px;}.sc-dim-list li span,.sc-standalone-var-name > span span,.sc-var-name > span span{padding:0 !important;}.sc-aligned{font-weight:bold;}.sc-var-list,.sc-var-item,.reveal .sc-var-list,.reveal .sc-var-item{display:contents;}.sc-var-item > div,.sc-var-item label,.sc-var-item > .sc-var-name span{background-color:var(--sc-background-color1);margin-bottom:0;}.sc-var-item > .sc-var-name:hover span{padding-right:5px;}.sc-var-list > li:nth-child(odd) > div,.sc-var-list > li:nth-child(odd) > label,.sc-var-list > li:nth-child(odd) > .sc-var-name span{background-color:var(--sc-background-color2);}.sc-var-name{grid-column:1;}.sc-var-dims{grid-column:2;}.sc-var-dtype{grid-column:3;text-align:right;color:var(--sc-font-color2);}.sc-var-unit{grid-column:4;text-align:left;color:var(--sc-font-color1);max-width:50pt;text-overflow:ellipsis;}.sc-value-preview{grid-column:5;}.sc-var-preview-variances{text-align:right;}.sc-sections .sc-section-item .sc-section-summary,.sc-sections .sc-section-item .sc-section-inline-details,.sc-section-item .sc-var-list .sc-var-item > div,.sc-section-item .sc-var-list .sc-var-item > label,.sc-section-details .sc-var-list .sc-var-item > div,.sc-section-details .sc-var-list .sc-var-item > label{margin-top:0;margin-bottom:0;}.sc-var-name,.sc-var-dims,.sc-var-dtype,.sc-var-unit,.sc-preview,.sc-attrs dt{white-space:nowrap;overflow:hidden;text-overflow:ellipsis;padding-right:10px;}.sc-var-name:hover,.sc-var-dims:hover,.sc-var-dtype:hover,.sc-var-unit:hover,.sc-attrs dt:hover{overflow:visible;width:auto;z-index:1;}.sc-var-attrs{display:block;}.sc-var-data,.reveal .sc-var-data{display:none;}.sc-var-attrs,.sc-var-data{background-color:var(--sc-background-color0) !important;padding-bottom:5px !important;}.sc-var-attrs-in:checked ~ .sc-var-attrs{display:none;}.sc-var-data-in:checked ~ .sc-var-data{display:block;}.sc-var-data > table{float:right;}.sc-var-name span,.sc-var-data{padding-left:25px !important;}.sc-var-attrs,.sc-var-data{grid-column:1 / -1;}dl.sc-attrs{padding:0;margin:0;display:grid;grid-template-columns:125px auto;}.sc-attrs dt,dd{padding:0;margin:0;float:left;padding-right:10px;width:auto;}.sc-attrs dt{font-weight:normal;grid-column:1;}.sc-attrs dt:hover span{display:inline-block;padding-right:10px;}.sc-attrs dd{grid-column:2;white-space:pre-wrap;word-break:break-all;}.sc-icon-database,.sc-icon-file-text2{display:inline-block;vertical-align:middle;width:1em;height:1.5em !important;stroke-width:0;stroke:currentColor;fill:currentColor;}label.sc-hide-icon svg{opacity:0;}.sc-standalone-var-name{grid-column:1/3;}.sc-standalone-var-name span{padding-left:25px;padding-right:10px;}.sc-table{border-collapse:collapse;}.sc-title{font-weight:bold;font-size:1.5em;}.sc-subtitle{font-weight:normal;font-style:italic;text-align:left;font-size:1.2em;padding:1px;}.sc-table th,.sc-table td{border:1px solid var(--sc-inverse-background-color0);padding:0 5px 0 5px;}.sc-table th{text-align:center;}.sc-table tr{background-color:var(--sc-background-color1);text-align:right;}.sc-table tr:hover{background-color:var(--sc-background-color2);}.sc-table th.sc-data{background-color:var(--sc-table-data-color);color:var(--sc-table-header-font-color);}.sc-table th.sc-coords{background-color:var(--sc-table-coords-color);color:var(--sc-table-header-font-color);}.sc-table th.sc-masks{background-color:var(--sc-table-masks-color);color:var(--sc-table-header-font-color);}.sc-table th.sc-attrs{background-color:var(--sc-table-attrs-color);color:var(--sc-table-header-font-color);}.sc-table th.sc-subheader{background-color:var(--sc-background-color2);}.sc-table td.sc-padding{background-color:var(--sc-background-color1);border:0 solid var(--sc-background-color1);height:1.2em;}.sc-label{fill:var(--sc-font-color0,#444444);text-anchor:middle;}.sc-name{fill:var(--sc-font-color0,#111111);}.sc-inset-line{stroke:var(--sc-font-color1);stroke-width:0.05;stroke-dasharray:0.2,0.2;}.sc-log-wrap{height:25ex;resize:vertical;overflow-y:scroll;display:flex;flex-direction:column-reverse;border:1px solid;border-color:var(--jp-border-color2);background-color:var(--sc-background-color1);}div.sc-log{line-height:2.5ex;}table.sc-log{table-layout:auto;border-collapse:collapse;}tr.sc-log:nth-child(even){background-color:var(--sc-background-color0);}tr.sc-log > td{vertical-align:top;padding-bottom:0.5ex;}.sc-log-time-stamp{min-width:22ch;font-family:var(--jp-code-font-family);color:var(--sc-font-color2);}.sc-log-level{min-width:10ch;}tr.sc-log-debug td.sc-log-level{color:var(--jp-accent-color1);}tr.sc-log-info td.sc-log-level{color:var(--jp-info-color1);}tr.sc-log-warning td.sc-log-level{color:var(--jp-warn-color1);}tr.sc-log-error td.sc-log-level{font-weight:bold;color:var(--jp-error-color2);}tr.sc-log-critical td.sc-log-level{font-weight:bold;color:var(--sc-background-color0);background-color:var(--jp-error-color1);}.sc-log-message{white-space:pre-wrap;width:100%;}.sc-log-html-payload{white-space:normal;}.sc-log-name{padding-right:0.5em;text-align:right;white-space:pre-wrap;color:var(--sc-font-color3);}</style><div class='sc-wrap sc-root'><div class='sc-header'><div class='sc-obj-type'>scipp.DataArray (492.25 MB)</div></div><ul class='sc-sections'><li class='sc-section-item'><input id='section-65d27bc3-152b-4181-bb5f-d13e242e1546' class='sc-section-summary-in' type='checkbox' disabled ><label for='section-65d27bc3-152b-4181-bb5f-d13e242e1546' class='sc-section-summary'  title='Expand/collapse section'>Dimensions:</label><div class='sc-section-inline-details'><ul class='sc-dim-list'><li><span class='sc-has-index'>spectrum</span>: 458752</li><li><span class='sc-has-index'>tof</span>: 1</li></ul></div><div class='sc-section-details'></div></li><li class='sc-section-item'><input id='section-b8ff3b35-f54b-43c2-979a-3b7662d44701' class='sc-section-summary-in' type='checkbox'  checked><label for='section-b8ff3b35-f54b-43c2-979a-3b7662d44701' class='sc-section-summary' >Coordinates: <span>(8)</span></label><div class='sc-section-inline-details'></div><div class='sc-section-details'><ul class='sc-var-list'><li class='sc-var-item'><div class='sc-var-name'><span class='sc-aligned'>pixel_height</span></div><div class='sc-var-dims'>()</div><div class='sc-var-dtype'>float64</div><div class='sc-var-unit'>m</div><div class='sc-value-preview sc-preview'><span><div>0.0117188</div></span></div><input id='attrs-3fb0dff2-dd6e-42f6-8492-859e1a9e1f02' class='sc-var-attrs-in' type='checkbox' disabled><label for='attrs-3fb0dff2-dd6e-42f6-8492-859e1a9e1f02' class='sc-hide-icon' title='Show/Hide attributes'><svg class='icon sc-icon-file-text2'><use xlink:href='#icon-file-text2'></use></svg></label><input id='data-2ba6cad7-1f34-4362-abdc-fefd22f57417' class='sc-var-data-in' type='checkbox'><label for='data-2ba6cad7-1f34-4362-abdc-fefd22f57417' title='Show/Hide data repr'><svg class='icon sc-icon-database'><use xlink:href='#icon-database'></use></svg></label><pre class='sc-var-data'>Values:<br>array(0.0117188)</pre></span></li><li class='sc-var-item'><div class='sc-var-name'><span class='sc-aligned'>pixel_shape</span></div><div class='sc-var-dims'>()</div><div class='sc-var-dtype'>DatasetView</div><div class='sc-var-unit'></div><div class='sc-value-preview sc-preview'><span><div>binned data [len=1]</div></span></div><input id='attrs-cf9c9267-464a-4eb6-a396-99274a4efe50' class='sc-var-attrs-in' type='checkbox' disabled><label for='attrs-cf9c9267-464a-4eb6-a396-99274a4efe50' class='sc-hide-icon' title='Show/Hide attributes'><svg class='icon sc-icon-file-text2'><use xlink:href='#icon-file-text2'></use></svg></label><input id='data-0a904da8-b920-47e5-90af-1a3032d024b0' class='sc-var-data-in' type='checkbox'><label for='data-0a904da8-b920-47e5-90af-1a3032d024b0' title='Show/Hide data repr'><svg class='icon sc-icon-database'><use xlink:href='#icon-database'></use></svg></label><pre class='sc-var-data'>&lt;scipp.Variable&gt; ()  DatasetView        &lt;no unit&gt;  &lt;scipp.Dataset&gt;\n",
       "Dimensions: Sizes[cylinder:1, ]\n",
       "Data:\n",
       "  face1_center              vector3              [m]  (cylinder)  [(0, 0, 0)]\n",
       "  face1_edge                vector3              [m]  (cylinder)  [(0, -0.00257703, 0.00305923)]\n",
       "  face2_center              vector3              [m]  (cylinder)  [(0.00194919, 0, 0)]\n",
       "\n",
       "</pre></span></li><li class='sc-var-item'><div class='sc-var-name'><span class='sc-aligned'>pixel_width</span></div><div class='sc-var-dims'>()</div><div class='sc-var-dtype'>float64</div><div class='sc-var-unit'>m</div><div class='sc-value-preview sc-preview'><span><div>0.0075</div></span></div><input id='attrs-52f98042-a1cb-46e1-b206-4e7e84319e4c' class='sc-var-attrs-in' type='checkbox' disabled><label for='attrs-52f98042-a1cb-46e1-b206-4e7e84319e4c' class='sc-hide-icon' title='Show/Hide attributes'><svg class='icon sc-icon-file-text2'><use xlink:href='#icon-file-text2'></use></svg></label><input id='data-d08d23bf-393b-4e1a-9e25-5391d818fa02' class='sc-var-data-in' type='checkbox'><label for='data-d08d23bf-393b-4e1a-9e25-5391d818fa02' title='Show/Hide data repr'><svg class='icon sc-icon-database'><use xlink:href='#icon-database'></use></svg></label><pre class='sc-var-data'>Values:<br>array(0.0075)</pre></span></li><li class='sc-var-item'><div class='sc-var-name'><span class='sc-aligned'>position</span></div><div class='sc-var-dims'>(spectrum)</div><div class='sc-var-dtype'>vector3</div><div class='sc-var-unit'>m</div><div class='sc-value-preview sc-preview'><span><div>[-0.47102349  0.44636999  4.09132989], [-0.4690743   0.44636999  4.09132989], ..., [ 0.52306117 -0.41291     4.18544689], [ 0.5250103  -0.41291     4.18544689]</div></span></div><input id='attrs-991ece52-7df5-4337-acfe-aa8eb6af6c91' class='sc-var-attrs-in' type='checkbox' disabled><label for='attrs-991ece52-7df5-4337-acfe-aa8eb6af6c91' class='sc-hide-icon' title='Show/Hide attributes'><svg class='icon sc-icon-file-text2'><use xlink:href='#icon-file-text2'></use></svg></label><input id='data-96bc601e-274f-47bf-9ce5-cb5165a4086f' class='sc-var-data-in' type='checkbox'><label for='data-96bc601e-274f-47bf-9ce5-cb5165a4086f' title='Show/Hide data repr'><svg class='icon sc-icon-database'><use xlink:href='#icon-database'></use></svg></label><pre class='sc-var-data'>Values:<br>array([[-0.47102349,  0.44636999,  4.09132989],\n",
       "       [-0.4690743 ,  0.44636999,  4.09132989],\n",
       "       [-0.46712512,  0.44636999,  4.09132989],\n",
       "       ...,\n",
       "       [ 0.52111198, -0.41291   ,  4.18544689],\n",
       "       [ 0.52306117, -0.41291   ,  4.18544689],\n",
       "       [ 0.5250103 , -0.41291   ,  4.18544689]])</pre></span></li><li class='sc-var-item'><div class='sc-var-name'><span class='sc-aligned'>sample_position</span></div><div class='sc-var-dims'>()</div><div class='sc-var-dtype'>vector3</div><div class='sc-var-unit'>m</div><div class='sc-value-preview sc-preview'><span><div>[0. 0. 0.]</div></span></div><input id='attrs-344c9280-6f6f-48c8-8832-835cc387d9fe' class='sc-var-attrs-in' type='checkbox' disabled><label for='attrs-344c9280-6f6f-48c8-8832-835cc387d9fe' class='sc-hide-icon' title='Show/Hide attributes'><svg class='icon sc-icon-file-text2'><use xlink:href='#icon-file-text2'></use></svg></label><input id='data-903967b2-a798-49f3-b3de-12ff2bba16fb' class='sc-var-data-in' type='checkbox'><label for='data-903967b2-a798-49f3-b3de-12ff2bba16fb' title='Show/Hide data repr'><svg class='icon sc-icon-database'><use xlink:href='#icon-database'></use></svg></label><pre class='sc-var-data'>Values:<br>array([0., 0., 0.])</pre></span></li><li class='sc-var-item'><div class='sc-var-name'><span class='sc-aligned'>source_position</span></div><div class='sc-var-dims'>()</div><div class='sc-var-dtype'>vector3</div><div class='sc-var-unit'>m</div><div class='sc-value-preview sc-preview'><span><div>[  0.     0.   -25.61]</div></span></div><input id='attrs-8d8e93bf-43a0-42d2-9c59-d2bbd4e87613' class='sc-var-attrs-in' type='checkbox' disabled><label for='attrs-8d8e93bf-43a0-42d2-9c59-d2bbd4e87613' class='sc-hide-icon' title='Show/Hide attributes'><svg class='icon sc-icon-file-text2'><use xlink:href='#icon-file-text2'></use></svg></label><input id='data-b3769824-ce27-4c5a-9655-87b1bfe3e88e' class='sc-var-data-in' type='checkbox'><label for='data-b3769824-ce27-4c5a-9655-87b1bfe3e88e' title='Show/Hide data repr'><svg class='icon sc-icon-database'><use xlink:href='#icon-database'></use></svg></label><pre class='sc-var-data'>Values:<br>array([  0.  ,   0.  , -25.61])</pre></span></li><li class='sc-var-item'><div class='sc-var-name'><span class='sc-aligned'>spectrum</span></div><div class='sc-var-dims'>(spectrum)</div><div class='sc-var-dtype'>int32</div><div class='sc-var-unit'></div><div class='sc-value-preview sc-preview'><span><div>1, 2, ..., 458751, 458752</div></span></div><input id='attrs-beeaafc4-1e98-4aec-bc03-24eecf954fdd' class='sc-var-attrs-in' type='checkbox' disabled><label for='attrs-beeaafc4-1e98-4aec-bc03-24eecf954fdd' class='sc-hide-icon' title='Show/Hide attributes'><svg class='icon sc-icon-file-text2'><use xlink:href='#icon-file-text2'></use></svg></label><input id='data-428dc5ab-6260-41ef-8e22-2454f5a7b935' class='sc-var-data-in' type='checkbox'><label for='data-428dc5ab-6260-41ef-8e22-2454f5a7b935' title='Show/Hide data repr'><svg class='icon sc-icon-database'><use xlink:href='#icon-database'></use></svg></label><pre class='sc-var-data'>Values:<br>array([     1,      2,      3, ..., 458750, 458751, 458752], dtype=int32)</pre></span></li><li class='sc-var-item'><div class='sc-var-name'><span class='sc-aligned'>tof</span></div><div class='sc-var-dims'>(tof [bin-edge])</div><div class='sc-var-dtype'>float64</div><div class='sc-var-unit'>ns</div><div class='sc-value-preview sc-preview'><span><div>284.0, 1.000e+08</div></span></div><input id='attrs-0172a567-e088-44e1-9f10-447694188ac5' class='sc-var-attrs-in' type='checkbox' disabled><label for='attrs-0172a567-e088-44e1-9f10-447694188ac5' class='sc-hide-icon' title='Show/Hide attributes'><svg class='icon sc-icon-file-text2'><use xlink:href='#icon-file-text2'></use></svg></label><input id='data-1bc4987f-e74a-496f-adc3-f7db08744087' class='sc-var-data-in' type='checkbox'><label for='data-1bc4987f-e74a-496f-adc3-f7db08744087' title='Show/Hide data repr'><svg class='icon sc-icon-database'><use xlink:href='#icon-database'></use></svg></label><pre class='sc-var-data'>Values:<br>array([2.8400000e+02, 9.9999387e+07])</pre></span></li></ul></div></li><li class='sc-section-item'><input id='section-bbdfbe91-c005-4487-894d-b8a1edac6782' class='sc-section-summary-in' type='checkbox'  checked><label for='section-bbdfbe91-c005-4487-894d-b8a1edac6782' class='sc-section-summary' >Data: <span>(1)</span></label><div class='sc-section-inline-details'></div><div class='sc-section-details'><ul class='sc-var-list'><li class='sc-var-item'><div class='sc-var-name'><span></span></div><div class='sc-var-dims'>(spectrum, tof)</div><div class='sc-var-dtype'>DataArrayView</div><div class='sc-var-unit'></div><div class='sc-value-preview sc-preview'><span><div>binned data [len=0, len=0, ..., len=0, len=0]</div></span></div><input id='attrs-8cc55aa3-6d8f-4e8d-8f1b-48989e004e72' class='sc-var-attrs-in' type='checkbox' disabled><label for='attrs-8cc55aa3-6d8f-4e8d-8f1b-48989e004e72' class='sc-hide-icon' title='Show/Hide attributes'><svg class='icon sc-icon-file-text2'><use xlink:href='#icon-file-text2'></use></svg></label><input id='data-46fdda93-1f97-4a65-9901-db19cf78ff04' class='sc-var-data-in' type='checkbox'><label for='data-46fdda93-1f97-4a65-9901-db19cf78ff04' title='Show/Hide data repr'><svg class='icon sc-icon-database'><use xlink:href='#icon-database'></use></svg></label><pre class='sc-var-data'>dim=&#x27;event&#x27;,\n",
       "content=DataArray(\n",
       "          dims=(event: 17419279),\n",
       "          data=float32[counts],\n",
       "          coords={&#x27;tof&#x27;:int32[ns], &#x27;pulse_time&#x27;:datetime64[ns]})</pre></li></ul></div></li><li class='sc-section-item'><input id='section-9d1302aa-7df8-4146-8b7f-f0199ca31398' class='sc-section-summary-in' type='checkbox'  checked><label for='section-9d1302aa-7df8-4146-8b7f-f0199ca31398' class='sc-section-summary' >Masks: <span>(2)</span></label><div class='sc-section-inline-details'></div><div class='sc-section-details'><ul class='sc-var-list'><li class='sc-var-item'><div class='sc-var-name'><span>all</span></div><div class='sc-var-dims'>(spectrum)</div><div class='sc-var-dtype'>bool</div><div class='sc-var-unit'></div><div class='sc-value-preview sc-preview'><span><div>True, True, ..., True, True</div></span></div><input id='attrs-8480169a-a9b7-42d3-8428-ce063262765c' class='sc-var-attrs-in' type='checkbox' disabled><label for='attrs-8480169a-a9b7-42d3-8428-ce063262765c' class='sc-hide-icon' title='Show/Hide attributes'><svg class='icon sc-icon-file-text2'><use xlink:href='#icon-file-text2'></use></svg></label><input id='data-b54b9038-0843-44ca-986c-1e85e93031e2' class='sc-var-data-in' type='checkbox'><label for='data-b54b9038-0843-44ca-986c-1e85e93031e2' title='Show/Hide data repr'><svg class='icon sc-icon-database'><use xlink:href='#icon-database'></use></svg></label><pre class='sc-var-data'>Values:<br>array([ True,  True,  True, ...,  True,  True,  True])</pre></span></li><li class='sc-var-item'><div class='sc-var-name'><span>straws</span></div><div class='sc-var-dims'>(spectrum)</div><div class='sc-var-dtype'>bool</div><div class='sc-var-unit'></div><div class='sc-value-preview sc-preview'><span><div>False, False, ..., True, True</div></span></div><input id='attrs-e2fe83b3-ecd6-4189-ab94-b33464f7bd09' class='sc-var-attrs-in' type='checkbox' disabled><label for='attrs-e2fe83b3-ecd6-4189-ab94-b33464f7bd09' class='sc-hide-icon' title='Show/Hide attributes'><svg class='icon sc-icon-file-text2'><use xlink:href='#icon-file-text2'></use></svg></label><input id='data-da52e70b-2fbf-4909-9130-0fdd1cdf6e8b' class='sc-var-data-in' type='checkbox'><label for='data-da52e70b-2fbf-4909-9130-0fdd1cdf6e8b' title='Show/Hide data repr'><svg class='icon sc-icon-database'><use xlink:href='#icon-database'></use></svg></label><pre class='sc-var-data'>Values:<br>array([False, False, False, ...,  True,  True,  True])</pre></span></li></ul></div></li><li class='sc-section-item'><input id='section-56239dab-f0d5-43d4-b01b-c86b8a79d81e' class='sc-section-summary-in' type='checkbox'  checked><label for='section-56239dab-f0d5-43d4-b01b-c86b8a79d81e' class='sc-section-summary' >Attributes: <span>(8)</span></label><div class='sc-section-inline-details'></div><div class='sc-section-details'><ul class='sc-var-list'><li class='sc-var-item'><div class='sc-var-name'><span>base_position</span></div><div class='sc-var-dims'>(spectrum)</div><div class='sc-var-dtype'>vector3</div><div class='sc-var-unit'>m</div><div class='sc-value-preview sc-preview'><span><div>[ 0.      -0.00114 -0.00767], [ 0.00194919 -0.00114    -0.00767   ], ..., [ 0.99408466 -0.86041999  0.086447  ], [ 0.99603379 -0.86041999  0.086447  ]</div></span></div><input id='attrs-2c852e53-6459-4355-9c48-57158ce86dd3' class='sc-var-attrs-in' type='checkbox' disabled><label for='attrs-2c852e53-6459-4355-9c48-57158ce86dd3' class='sc-hide-icon' title='Show/Hide attributes'><svg class='icon sc-icon-file-text2'><use xlink:href='#icon-file-text2'></use></svg></label><input id='data-b8373db9-9eec-44e7-a7fd-892d7501bc4d' class='sc-var-data-in' type='checkbox'><label for='data-b8373db9-9eec-44e7-a7fd-892d7501bc4d' title='Show/Hide data repr'><svg class='icon sc-icon-database'><use xlink:href='#icon-database'></use></svg></label><pre class='sc-var-data'>Values:<br>array([[ 0.        , -0.00114   , -0.00767   ],\n",
       "       [ 0.00194919, -0.00114   , -0.00767   ],\n",
       "       [ 0.00389837, -0.00114   , -0.00767   ],\n",
       "       ...,\n",
       "       [ 0.99213547, -0.86041999,  0.086447  ],\n",
       "       [ 0.99408466, -0.86041999,  0.086447  ],\n",
       "       [ 0.99603379, -0.86041999,  0.086447  ]])</pre></li><li class='sc-var-item'><div class='sc-var-name'><span>end_time</span></div><div class='sc-var-dims'>()</div><div class='sc-var-dtype'>string</div><div class='sc-var-unit'></div><div class='sc-value-preview sc-preview'><span><div>2032-02-29T09:15:00.000Z</div></span></div><input id='attrs-4c375e4f-2495-4f09-8913-76a492f16ac3' class='sc-var-attrs-in' type='checkbox' disabled><label for='attrs-4c375e4f-2495-4f09-8913-76a492f16ac3' class='sc-hide-icon' title='Show/Hide attributes'><svg class='icon sc-icon-file-text2'><use xlink:href='#icon-file-text2'></use></svg></label><input id='data-f5d4a6e7-824a-481e-9c4a-4c6841d59e5f' class='sc-var-data-in' type='checkbox'><label for='data-f5d4a6e7-824a-481e-9c4a-4c6841d59e5f' title='Show/Hide data repr'><svg class='icon sc-icon-database'><use xlink:href='#icon-database'></use></svg></label><pre class='sc-var-data'>Values:<br>&#x27;2032-02-29T09:15:00.000Z&#x27;</pre></li><li class='sc-var-item'><div class='sc-var-name'><span>experiment_title</span></div><div class='sc-var-dims'>()</div><div class='sc-var-dtype'>string</div><div class='sc-var-unit'></div><div class='sc-value-preview sc-preview'><span><div>My experiment</div></span></div><input id='attrs-c0771554-ef71-4f4b-9705-a3646078138b' class='sc-var-attrs-in' type='checkbox' disabled><label for='attrs-c0771554-ef71-4f4b-9705-a3646078138b' class='sc-hide-icon' title='Show/Hide attributes'><svg class='icon sc-icon-file-text2'><use xlink:href='#icon-file-text2'></use></svg></label><input id='data-7b9ad4fa-f5af-49c4-935c-b1d28ae79065' class='sc-var-data-in' type='checkbox'><label for='data-7b9ad4fa-f5af-49c4-935c-b1d28ae79065' title='Show/Hide data repr'><svg class='icon sc-icon-database'><use xlink:href='#icon-database'></use></svg></label><pre class='sc-var-data'>Values:<br>&#x27;My experiment&#x27;</pre></li><li class='sc-var-item'><div class='sc-var-name'><span>monitor_1</span></div><div class='sc-var-dims'>()</div><div class='sc-var-dtype'>DataArray</div><div class='sc-var-unit'></div><div class='sc-value-preview sc-preview'><span><div>{dims=[tof: 1], unit=None, coords=[position]}</div></span></div><input id='attrs-0164d7e7-b461-4d5d-be86-faf658b99644' class='sc-var-attrs-in' type='checkbox' disabled><label for='attrs-0164d7e7-b461-4d5d-be86-faf658b99644' class='sc-hide-icon' title='Show/Hide attributes'><svg class='icon sc-icon-file-text2'><use xlink:href='#icon-file-text2'></use></svg></label><input id='data-c14a69ad-b6f3-4a79-9e31-c3d050a5bc85' class='sc-var-data-in' type='checkbox'><label for='data-c14a69ad-b6f3-4a79-9e31-c3d050a5bc85' title='Show/Hide data repr'><svg class='icon sc-icon-database'><use xlink:href='#icon-database'></use></svg></label><pre class='sc-var-data'>Values:<br>&lt;scipp.DataArray&gt;\n",
       "Dimensions: Sizes[tof:1, ]\n",
       "Coordinates:\n",
       "* position                  vector3              [m]  ()  (0, 0, -15.7905)\n",
       "Data:\n",
       "                          DataArrayView        &lt;no unit&gt;  (tof)  binned data: dim=&#x27;event&#x27;, content=DataArray(\n",
       "          dims=(event: 10193766),\n",
       "          data=float32[counts],\n",
       "          coords={&#x27;tof&#x27;:int32[ns], &#x27;detector_id&#x27;:int32, &#x27;pulse_time&#x27;:datetime64[ns]})\n",
       "\n",
       "</pre></li><li class='sc-var-item'><div class='sc-var-name'><span>monitor_2</span></div><div class='sc-var-dims'>()</div><div class='sc-var-dtype'>DataArray</div><div class='sc-var-unit'></div><div class='sc-value-preview sc-preview'><span><div>{dims=[tof: 1], unit=None, coords=[position]}</div></span></div><input id='attrs-df5bffbe-e9fa-44d8-853b-4616f79ae1f7' class='sc-var-attrs-in' type='checkbox' disabled><label for='attrs-df5bffbe-e9fa-44d8-853b-4616f79ae1f7' class='sc-hide-icon' title='Show/Hide attributes'><svg class='icon sc-icon-file-text2'><use xlink:href='#icon-file-text2'></use></svg></label><input id='data-65291ce2-9fb1-479c-b5a8-847105e74c7d' class='sc-var-data-in' type='checkbox'><label for='data-65291ce2-9fb1-479c-b5a8-847105e74c7d' title='Show/Hide data repr'><svg class='icon sc-icon-database'><use xlink:href='#icon-database'></use></svg></label><pre class='sc-var-data'>Values:<br>&lt;scipp.DataArray&gt;\n",
       "Dimensions: Sizes[tof:1, ]\n",
       "Coordinates:\n",
       "* position                  vector3              [m]  ()  (0, 0, 0.15)\n",
       "Data:\n",
       "                          DataArrayView        &lt;no unit&gt;  (tof)  binned data: dim=&#x27;event&#x27;, content=DataArray(\n",
       "          dims=(event: 72455),\n",
       "          data=float32[counts],\n",
       "          coords={&#x27;tof&#x27;:int32[ns], &#x27;detector_id&#x27;:int32, &#x27;pulse_time&#x27;:datetime64[ns]})\n",
       "\n",
       "</pre></li><li class='sc-var-item'><div class='sc-var-name'><span>position_transformations</span></div><div class='sc-var-dims'>()</div><div class='sc-var-dtype'>Variable</div><div class='sc-var-unit'></div><div class='sc-value-preview sc-preview'><span><div>&lt;scipp.Variable&gt; ()  translation3              [m]  (-0.499023, 0.43556, 4.099)</div></span></div><input id='attrs-f58d9f15-e9d8-41ad-8835-067be317387c' class='sc-var-attrs-in' type='checkbox' disabled><label for='attrs-f58d9f15-e9d8-41ad-8835-067be317387c' class='sc-hide-icon' title='Show/Hide attributes'><svg class='icon sc-icon-file-text2'><use xlink:href='#icon-file-text2'></use></svg></label><input id='data-093bbcb8-a6e2-4b43-879e-d8be8f8d3ee0' class='sc-var-data-in' type='checkbox'><label for='data-093bbcb8-a6e2-4b43-879e-d8be8f8d3ee0' title='Show/Hide data repr'><svg class='icon sc-icon-database'><use xlink:href='#icon-database'></use></svg></label><pre class='sc-var-data'>Values:<br>&lt;scipp.Variable&gt; ()  translation3              [m]  (-0.499023, 0.43556, 4.099)</pre></li><li class='sc-var-item'><div class='sc-var-name'><span>source</span></div><div class='sc-var-dims'>()</div><div class='sc-var-dtype'>PyObject</div><div class='sc-var-unit'></div><div class='sc-value-preview sc-preview'><span><div>DataGroup(sizes={}, keys=[&#x27;name&#x27;, &#x27;probe&#x27;, &#x27;type&#x27;, &#x27;depends_on&#x27;])</div></span></div><input id='attrs-d0cba1ce-ac41-4338-9234-87105a8425b8' class='sc-var-attrs-in' type='checkbox' disabled><label for='attrs-d0cba1ce-ac41-4338-9234-87105a8425b8' class='sc-hide-icon' title='Show/Hide attributes'><svg class='icon sc-icon-file-text2'><use xlink:href='#icon-file-text2'></use></svg></label><input id='data-32b5045e-2905-4986-9d5c-2ab2c36c0f90' class='sc-var-data-in' type='checkbox'><label for='data-32b5045e-2905-4986-9d5c-2ab2c36c0f90' title='Show/Hide data repr'><svg class='icon sc-icon-database'><use xlink:href='#icon-database'></use></svg></label><pre class='sc-var-data'>Values:<br>DataGroup(sizes={}, keys=[\n",
       "    name: moderato,\n",
       "    probe: neutro,\n",
       "    type: Spallation Neutron Sourc,\n",
       "    depends_on: Variable({}),\n",
       "])</pre></li><li class='sc-var-item'><div class='sc-var-name'><span>start_time</span></div><div class='sc-var-dims'>()</div><div class='sc-var-dtype'>string</div><div class='sc-var-unit'></div><div class='sc-value-preview sc-preview'><span><div>2022-02-28T21:15:00.000Z</div></span></div><input id='attrs-76b7d0a5-8216-4935-9480-433a85a5ef3a' class='sc-var-attrs-in' type='checkbox' disabled><label for='attrs-76b7d0a5-8216-4935-9480-433a85a5ef3a' class='sc-hide-icon' title='Show/Hide attributes'><svg class='icon sc-icon-file-text2'><use xlink:href='#icon-file-text2'></use></svg></label><input id='data-3caa600c-f6c1-48c7-b98c-36878ae0f528' class='sc-var-data-in' type='checkbox'><label for='data-3caa600c-f6c1-48c7-b98c-36878ae0f528' title='Show/Hide data repr'><svg class='icon sc-icon-database'><use xlink:href='#icon-database'></use></svg></label><pre class='sc-var-data'>Values:<br>&#x27;2022-02-28T21:15:00.000Z&#x27;</pre></li></ul></div></li></ul></div></div>"
      ],
      "text/plain": [
       "<scipp.DataArray>\n",
       "Dimensions: Sizes[spectrum:458752, tof:1, ]\n",
       "Coordinates:\n",
       "* pixel_height              float64              [m]  ()  0.0117188\n",
       "* pixel_shape             DatasetView        <no unit>  ()  <scipp.Dataset>\n",
       "Dimensions: Sizes[cylinder:1, ]\n",
       "Data:\n",
       "  face1_center              vector3              [m]  (cylinder)  [(0, 0, 0)]\n",
       "  face1_edge                vector3              [m]  (cylinder)  [(0, -0.00257703, 0.00305923)]\n",
       "  face2_center              vector3              [m]  (cylinder)  [(0.00194919, 0, 0)]\n",
       "\n",
       "\n",
       "* pixel_width               float64              [m]  ()  0.0075\n",
       "* position                  vector3              [m]  (spectrum)  [(-0.471023, 0.44637, 4.09133), (-0.469074, 0.44637, 4.09133), ..., (0.523061, -0.41291, 4.18545), (0.52501, -0.41291, 4.18545)]\n",
       "* sample_position           vector3              [m]  ()  (0, 0, 0)\n",
       "* source_position           vector3              [m]  ()  (0, 0, -25.61)\n",
       "* spectrum                    int32        <no unit>  (spectrum)  [1, 2, ..., 458751, 458752]\n",
       "* tof                       float64             [ns]  (tof [bin-edge])  [284, 9.99994e+07]\n",
       "Data:\n",
       "                          DataArrayView        <no unit>  (spectrum, tof)  binned data: dim='event', content=DataArray(\n",
       "          dims=(event: 17419279),\n",
       "          data=float32[counts],\n",
       "          coords={'tof':int32[ns], 'pulse_time':datetime64[ns]})\n",
       "Masks:\n",
       "  all                          bool        <no unit>  (spectrum)  [True, True, ..., True, True]\n",
       "  straws                       bool        <no unit>  (spectrum)  [False, False, ..., True, True]\n",
       "Attributes:\n",
       "  base_position             vector3              [m]  (spectrum)  [(0, -0.00114, -0.00767), (0.00194919, -0.00114, -0.00767), ..., (0.994085, -0.86042, 0.086447), (0.996034, -0.86042, 0.086447)]\n",
       "  end_time                   string        <no unit>  ()  \"2032-02-29T09:15:00.000Z\"\n",
       "  experiment_title           string        <no unit>  ()  \"My experiment\"\n",
       "  monitor_1               DataArray        <no unit>  ()  DataArray(dims=(tof: 1), dtype=DataArrayView)\n",
       "  monitor_2               DataArray        <no unit>  ()  DataArray(dims=(tof: 1), dtype=DataArrayView)\n",
       "  position_transformations Variable        <no unit>  ()  Variable(dims=(), dtype=translation3, unit=m)\n",
       "  source                   PyObject        <no unit>  ()  DataGroup(sizes={}, keys=['name', 'probe', 'type', 'depends_on'])\n",
       "  start_time                 string        <no unit>  ()  \"2022-02-28T21:15:00.000Z\"\n"
      ]
     },
     "execution_count": 15,
     "metadata": {},
     "output_type": "execute_result"
    }
   ],
   "source": [
    "sample"
   ]
  },
  {
   "cell_type": "markdown",
   "id": "eef1cb3a-d3e8-4d5c-88fa-3ea5e3cdeb01",
   "metadata": {},
   "source": [
    "### Mask Bragg peaks in wavelength\n",
    "\n",
    "We will now take out the time regions with Bragg peaks from the beam stop and detector window, although in reality the peaks appear only close to the beam stop, and will make little difference to\n",
    "\n",
    "This could be implemented as masking specific time bins for a specific region in space, but for now we keep it simple."
   ]
  },
  {
   "cell_type": "code",
   "execution_count": 16,
   "id": "dd51368b-82b4-447d-a36a-345f134db264",
   "metadata": {},
   "outputs": [],
   "source": [
    "#TODO: This needs to be established\n",
    "# wavelength_mask = sc.DataArray(\n",
    "#     data=sc.array(dims=['wavelength'], values=[True]),\n",
    "#     coords={\n",
    "#         'wavelength': sc.array(\n",
    "#             dims=['wavelength'], values=[2.21, 2.59], unit='angstrom'\n",
    "#         )\n",
    "#     },\n",
    "# )\n",
    "wavelength_mask = None"
   ]
  },
  {
   "cell_type": "code",
   "execution_count": 17,
   "id": "a0f807ae-dc15-41cc-92ad-d4f5fb569d2b",
   "metadata": {},
   "outputs": [],
   "source": [
    "#empty_beam.attrs[\"monitor_1\"].value.hist(tof=200).plot()"
   ]
  },
  {
   "cell_type": "markdown",
   "id": "173949b2-3ed5-4a37-9b40-a63491db7865",
   "metadata": {},
   "source": [
    "### Preprocess monitor"
   ]
  },
  {
   "cell_type": "code",
   "execution_count": 18,
   "id": "59591c9f-4d8c-47e9-a75f-0a5fd6d7e3ec",
   "metadata": {},
   "outputs": [],
   "source": [
    "monitors = {}\n",
    "for key, da in ds.items():\n",
    "    #TODO: Check this histogramming!\n",
    "    monitors[f'{key}-incident'] = da.attrs[\"monitor_1\"].value.hist(tof=200)\n",
    "    monitors[f'{key}-transmission'] = da.attrs[\"monitor_2\"].value.hist(tof=200)\n",
    "    monitors[f'{key}-incident'].coords['source_position'] = sc.vector(value=[0.0, 0.0, -9.8195], unit='m')\n",
    "    monitors[f'{key}-transmission'].coords['source_position'] = sc.vector(value=[0.0, 0.0, -25.76], unit='m')\n",
    "    monitors[f'{key}-incident'].coords['position'] = sc.vector(value=[0.0, 0.0, 0.0], unit='m')\n",
    "    monitors[f'{key}-transmission'].coords['position'] = sc.vector(value=[0.0, 0.0, 0.0], unit='m')"
   ]
  },
  {
   "cell_type": "code",
   "execution_count": 19,
   "id": "fc8f3af2-d9bf-4f6d-a165-08e6502ad317",
   "metadata": {},
   "outputs": [],
   "source": [
    "monitor_graph = sans.conversions.sans_monitor()\n",
    "\n",
    "monitors = {\n",
    "     key: mon.transform_coords('wavelength', graph=monitor_graph)\n",
    "     for key, mon in monitors.items()\n",
    "}"
   ]
  },
  {
   "cell_type": "code",
   "execution_count": 20,
   "id": "45cbbb91-3611-4c74-95bc-e2ce1dd72fdf",
   "metadata": {},
   "outputs": [
    {
     "data": {
      "application/vnd.jupyter.widget-view+json": {
       "model_id": "5c4bdecccf1348c083d75ff7bce727d0",
       "version_major": 2,
       "version_minor": 0
      },
      "text/plain": [
       "InteractiveFig(children=(HBar(), HBox(children=(VBar(children=(Toolbar(children=(ButtonTool(icon='home', layou…"
      ]
     },
     "execution_count": 20,
     "metadata": {},
     "output_type": "execute_result"
    }
   ],
   "source": [
    "sc.plot(monitors, norm='log', grid=True)"
   ]
  },
  {
   "cell_type": "code",
   "execution_count": 21,
   "id": "a25919ad-ea90-42d1-9b19-ec2d6c4446bc",
   "metadata": {},
   "outputs": [],
   "source": [
    "\n",
    "# Define range outside of which monitor data is considered to be background\n",
    "non_background_range = sc.array(\n",
    "    dims=['wavelength'], values=[0.6, 13.7], unit='angstrom'\n",
    ")\n",
    "\n",
    "#TODO: It may be required that monitors are histogrammed\n",
    "# Run preprocessing\n",
    "monitors = sans.i_of_q.preprocess_monitor_data(\n",
    "    monitors, non_background_range=non_background_range, wavelength_bins=wavelength_bins\n",
    ")\n",
    "\n",
    "# Unpack monitors to make steps below easier\n",
    "sample_monitors = {\n",
    "    'incident': monitors['sample_trans-incident'],\n",
    "    'transmission': monitors['sample_trans-transmission'],\n",
    "}\n",
    "\n",
    "empty_beam_monitors = {\n",
    "    'incident': monitors['empty_beam-incident'],\n",
    "    'transmission': monitors['empty_beam-transmission'],\n",
    "}\n",
    "\n",
    "#Check this! It seems from Mantid code sample_monitors are the same as backgrounds\n",
    "background_monitors = {\n",
    "    'incident': monitors['background_trans-incident'],\n",
    "    'transmission': monitors['background_trans-transmission'],\n",
    "}"
   ]
  },
  {
   "cell_type": "markdown",
   "id": "6496e729-0417-4f66-9f3d-76ef83057488",
   "metadata": {},
   "source": [
    "### Trying out with Mantid extracted monitors"
   ]
  },
  {
   "cell_type": "code",
   "execution_count": 22,
   "id": "250711f3-4e78-4892-8126-ae08f183b7bc",
   "metadata": {},
   "outputs": [
    {
     "name": "stdout",
     "output_type": "stream",
     "text": [
      "Load-[Notice] Load started\n",
      "Load-[Notice] Load successful, Duration 0.08 seconds\n",
      "DeleteWorkspace-[Notice] DeleteWorkspace started\n",
      "DeleteWorkspace-[Notice] DeleteWorkspace successful, Duration 0.00 seconds\n",
      "Load-[Notice] Load started\n",
      "Load-[Notice] Load successful, Duration 0.09 seconds\n",
      "DeleteWorkspace-[Notice] DeleteWorkspace started\n",
      "DeleteWorkspace-[Notice] DeleteWorkspace successful, Duration 0.00 seconds\n",
      "Load-[Notice] Load started\n",
      "Load-[Notice] Load successful, Duration 0.06 seconds\n",
      "DeleteWorkspace-[Notice] DeleteWorkspace started\n",
      "DeleteWorkspace-[Notice] DeleteWorkspace successful, Duration 0.00 seconds\n",
      "Load-[Notice] Load started\n",
      "Load-[Notice] Load successful, Duration 0.06 seconds\n",
      "DeleteWorkspace-[Notice] DeleteWorkspace started\n",
      "DeleteWorkspace-[Notice] DeleteWorkspace successful, Duration 0.00 seconds\n"
     ]
    }
   ],
   "source": [
    "mantid_empty_beam_incident = scn.load(f'{path}/empty_beam-incident.nxs')\n",
    "mantid_empty_beam_transmission = scn.load(f'{path}/empty_beam-transmission.nxs')\n",
    "mantid_sample_trans_incident = scn.load(f'{path}/sample_trans-incident.nxs')\n",
    "mantid_sample_trans_transmission = scn.load(f'{path}/sample_trans-transmission.nxs')"
   ]
  },
  {
   "cell_type": "code",
   "execution_count": 23,
   "id": "af5e8cdd-a9ee-4e62-a228-1b8ff9587448",
   "metadata": {},
   "outputs": [],
   "source": [
    "mantid_empty_beam_incident = mantid_empty_beam_incident.rebin(wavelength=wavelength_bins)\n",
    "mantid_empty_beam_transmission = mantid_empty_beam_transmission.rebin(wavelength=wavelength_bins)\n",
    "mantid_sample_trans_incident = mantid_sample_trans_incident.rebin(wavelength=wavelength_bins)\n",
    "mantid_sample_trans_transmission = mantid_sample_trans_transmission.rebin(wavelength=wavelength_bins)"
   ]
  },
  {
   "cell_type": "code",
   "execution_count": 24,
   "id": "577dc47a-8740-46f8-9f3d-bb5fac3c3933",
   "metadata": {},
   "outputs": [],
   "source": [
    "mantid_empty_beam_incident.coords['position'] = empty_beam_monitors['incident'].coords['position']\n",
    "mantid_empty_beam_incident.coords['source_position'] = empty_beam_monitors['incident'].coords['source_position']\n",
    "mantid_empty_beam_incident.coords['sample_position'] =  sc.vector(value=[0.0, 0.0, 0.0], unit='m')\n",
    "mantid_empty_beam_incident.coords['Ltotal'] =  empty_beam_monitors['incident'].coords['Ltotal']\n",
    "mantid_empty_beam_incident.variances = None\n",
    "\n",
    "mantid_empty_beam_transmission.coords['position'] = empty_beam_monitors['transmission'].coords['position']\n",
    "mantid_empty_beam_transmission.coords['source_position'] = empty_beam_monitors['transmission'].coords['source_position']\n",
    "mantid_empty_beam_transmission.coords['sample_position'] = sc.vector(value=[0.0, 0.0, 0.0], unit='m')\n",
    "mantid_empty_beam_transmission.coords['Ltotal'] = empty_beam_monitors['transmission'].coords['Ltotal']\n",
    "mantid_empty_beam_transmission.variances = None\n",
    "\n",
    "mantid_sample_trans_incident.coords['position'] = sample_monitors['incident'].coords['position']\n",
    "mantid_sample_trans_incident.coords['source_position'] = sample_monitors['incident'].coords['source_position']\n",
    "mantid_sample_trans_incident.coords['sample_position'] = sc.vector(value=[0.0, 0.0, 0.0], unit='m')\n",
    "mantid_sample_trans_incident.coords['Ltotal'] = sample_monitors['incident'].coords['Ltotal']\n",
    "mantid_sample_trans_incident.variances = None\n",
    "\n",
    "mantid_sample_trans_transmission.coords['position'] = sample_monitors['transmission'].coords['position']\n",
    "mantid_sample_trans_transmission.coords['source_position'] = sample_monitors['transmission'].coords['source_position']\n",
    "mantid_sample_trans_transmission.coords['sample_position'] = sc.vector(value=[0.0, 0.0, 0.0], unit='m')\n",
    "mantid_sample_trans_transmission.coords['Ltotal'] = sample_monitors['transmission'].coords['Ltotal']\n",
    "mantid_sample_trans_transmission.variances = None\n"
   ]
  },
  {
   "cell_type": "code",
   "execution_count": 25,
   "id": "2d2862a7-dd12-451d-9da5-ca5dd8b21902",
   "metadata": {},
   "outputs": [],
   "source": [
    "sample_monitors = {'incident': mantid_sample_trans_incident, 'transmission': mantid_sample_trans_transmission}\n",
    "empty_beam_monitors = {'incident': mantid_empty_beam_incident, 'transmission': mantid_empty_beam_transmission}\n",
    "background_monitors = {'incident': mantid_empty_beam_incident, 'transmission': mantid_empty_beam_transmission}"
   ]
  },
  {
   "cell_type": "markdown",
   "id": "9bac49fc-5c7c-418b-95a0-2c3d58ef53e6",
   "metadata": {},
   "source": [
    "### Direct beam midpoints\n",
    "This operation is needed for performing interpolation. Later, this can probably be dome i_of_q module, however we still need to see what exactly the format of direct beam function would be. "
   ]
  },
  {
   "cell_type": "code",
   "execution_count": 26,
   "id": "f6e7f69d-bfac-4b12-8bea-bc3ed548506f",
   "metadata": {},
   "outputs": [],
   "source": [
    "direct_beam = direct_beam.rebin(wavelength=wavelength_bins)\n",
    "direct_beam.coords['wavelength'] = sc.midpoints(direct_beam.coords['wavelength'])"
   ]
  },
  {
   "cell_type": "code",
   "execution_count": 27,
   "id": "f93f181d-3b4d-45d9-b259-b9dcc9510f4f",
   "metadata": {},
   "outputs": [],
   "source": [
    "# direct_beam_copy['spectrum', 323737].plot()"
   ]
  },
  {
   "cell_type": "code",
   "execution_count": 28,
   "id": "80af6851-4d60-49bc-a6b5-bfd267440142",
   "metadata": {},
   "outputs": [],
   "source": [
    "direct_beam_selected = direct_beam['spectrum', 173162]"
   ]
  },
  {
   "cell_type": "code",
   "execution_count": 29,
   "id": "7425c7b6-dcd5-4d85-b448-83aaaca66b82",
   "metadata": {},
   "outputs": [
    {
     "data": {
      "application/vnd.jupyter.widget-view+json": {
       "model_id": "16189efdb26b483b9a191e7b7286e0ea",
       "version_major": 2,
       "version_minor": 0
      },
      "text/plain": [
       "InteractiveFig(children=(HBar(), HBox(children=(VBar(children=(Toolbar(children=(ButtonTool(icon='home', layou…"
      ]
     },
     "execution_count": 29,
     "metadata": {},
     "output_type": "execute_result"
    }
   ],
   "source": [
    "direct_beam_selected.plot()"
   ]
  },
  {
   "cell_type": "markdown",
   "id": "bd654363-31ea-4caf-aea0-79973e2f4882",
   "metadata": {},
   "source": [
    "### Debugging check"
   ]
  },
  {
   "cell_type": "code",
   "execution_count": 30,
   "id": "7f80d814-b6f2-4fd5-86c9-2d931c63fffa",
   "metadata": {},
   "outputs": [],
   "source": [
    "# graph = sans.conversions.sans_elastic(gravity=gravity)\n",
    "# data = ds['sample'].transform_coords(\"wavelength\", graph=graph)\n",
    "# signal_over_monitor_threshold = 0.1\n",
    "# if wavelength_mask is not None:\n",
    "#     # If we have binned data and the wavelength coord is multi-dimensional, we need\n",
    "#     # to make a single wavelength bin before we can mask the range.\n",
    "#     if data.bins is not None:\n",
    "#         dim = wavelength_mask.dim\n",
    "#         if (dim in data.bins.coords) and (dim in data.coords):\n",
    "#             data = data.bin({dim: 1})\n",
    "#     data = sans.common.mask_range(data, wavelength_mask)\n",
    "#     data_monitors = {\n",
    "#             key: sans.common.mask_range(mon, wavelength_mask) for key, mon in sample_monitors.items()\n",
    "#         }\n",
    "#     direct_monitors = {\n",
    "#             key: sans.common.mask_range(mon, wavelength_mask)\n",
    "#             for key, mon in empty_beam_monitors.items()\n",
    "#         }\n",
    "\n",
    "# # Compute normalizing term\n",
    "# direct_beam = sans.i_of_q.resample_direct_beam(\n",
    "#         direct_beam=direct_beam_selected, wavelength_bins=wavelength_bins\n",
    "#     )\n",
    "\n",
    "# signal_over_monitor_threshold = 0.5\n",
    "# denominator = sans.normalization.iofq_denominator(\n",
    "#         data=data,\n",
    "#         data_transmission_monitor=data_monitors['transmission'],\n",
    "#         direct_incident_monitor=direct_monitors['incident'],\n",
    "#         direct_transmission_monitor=direct_monitors['transmission'],\n",
    "#         direct_beam=direct_beam,\n",
    "#         signal_over_monitor_threshold=signal_over_monitor_threshold,\n",
    "# )\n",
    "\n",
    "# for coord in ['position', 'sample_position', 'source_position']:\n",
    "#     denominator.coords[coord] = data.meta[coord]\n",
    "\n",
    "#     # In the case where no wavelength bands are requested, we create a single wavelength\n",
    "#     # band to make sure we select the correct wavelength range that corresponds to\n",
    "#     # wavelength_bins\n",
    "\n",
    "\n",
    "# wavelength_bands = sc.concat([wavelength_bins.min(), wavelength_bins.max()], dim='wavelength')"
   ]
  },
  {
   "cell_type": "code",
   "execution_count": 31,
   "id": "38983d33-08e9-4588-97bb-26e264dd1cb3",
   "metadata": {},
   "outputs": [],
   "source": [
    "#pp.superplot(denominator)"
   ]
  },
  {
   "cell_type": "code",
   "execution_count": 32,
   "id": "1bb92157-44e8-4d3a-bc9b-641184c8075b",
   "metadata": {},
   "outputs": [],
   "source": [
    "#pp.superplot(denominator.transpose())"
   ]
  },
  {
   "cell_type": "code",
   "execution_count": 33,
   "id": "cc94b35f-8065-4066-b78c-7669122904aa",
   "metadata": {},
   "outputs": [],
   "source": [
    "# data_q = sans.i_of_q.convert_to_q_and_merge_spectra(\n",
    "#         data=data,\n",
    "#         graph=graph,\n",
    "#         wavelength_bands=wavelength_bands,\n",
    "#         q_bins=q_bins,\n",
    "#         gravity=gravity,\n",
    "#     )"
   ]
  },
  {
   "cell_type": "code",
   "execution_count": 34,
   "id": "70d01fdb-b0f5-45b8-9db7-149088b1cbec",
   "metadata": {},
   "outputs": [],
   "source": [
    "# denominator_q = sans.i_of_q.convert_to_q_and_merge_spectra(\n",
    "#         data=denominator,\n",
    "#         graph=graph,\n",
    "#         wavelength_bands=wavelength_bands,\n",
    "#         q_bins=q_bins,\n",
    "#         gravity=gravity,\n",
    "#     )"
   ]
  },
  {
   "cell_type": "code",
   "execution_count": 35,
   "id": "2b9287b5-b487-4c0e-9e33-2f68e8496403",
   "metadata": {},
   "outputs": [],
   "source": [
    "#data_q.hist().plot()"
   ]
  },
  {
   "cell_type": "code",
   "execution_count": 36,
   "id": "f7abd6b0-971b-4f34-bf31-bb3d6bb5739c",
   "metadata": {},
   "outputs": [],
   "source": [
    "#denominator_q.plot()"
   ]
  },
  {
   "cell_type": "code",
   "execution_count": 37,
   "id": "f3cd480b-aaed-4eb2-b09b-4690e838ac97",
   "metadata": {},
   "outputs": [],
   "source": [
    "#normalized = sans.normalization.normalize(numerator=data_q, denominator=denominator_q)"
   ]
  },
  {
   "cell_type": "code",
   "execution_count": 38,
   "id": "f139f24d-09a1-42eb-b228-93f75fd145bc",
   "metadata": {},
   "outputs": [],
   "source": [
    "#normalized = data_q/denominator_q"
   ]
  },
  {
   "cell_type": "code",
   "execution_count": 39,
   "id": "2e730796-3fb9-403b-990b-87234062c484",
   "metadata": {},
   "outputs": [],
   "source": [
    "#normalized.hist().plot()"
   ]
  },
  {
   "cell_type": "code",
   "execution_count": 40,
   "id": "eb3589c7-cb49-477c-acd0-b0291c7cb10b",
   "metadata": {},
   "outputs": [],
   "source": [
    "#wavelength_mask = None"
   ]
  },
  {
   "cell_type": "code",
   "execution_count": 41,
   "id": "652aa470-74fe-4036-90e5-4eeead429831",
   "metadata": {},
   "outputs": [
    {
     "name": "stderr",
     "output_type": "stream",
     "text": [
      "An interpolation was performed on the direct_beam function. The variances in the direct_beam function have been dropped.\n"
     ]
    }
   ],
   "source": [
    "#NOTE: direct monitors is the same as sample (and backgroud)\n",
    "sample_q = sans.to_I_of_Q(data=ds['sample'],\n",
    "    data_monitors=sample_monitors,\n",
    "    direct_monitors=empty_beam_monitors,\n",
    "    direct_beam=direct_beam,\n",
    "    wavelength_bins=wavelength_bins,\n",
    "    q_bins=q_bins,\n",
    "    gravity=gravity,\n",
    "    wavelength_mask=wavelength_mask)"
   ]
  },
  {
   "cell_type": "code",
   "execution_count": 42,
   "id": "e0b15b9c-3ecf-4ff2-9d5d-9797ed36d199",
   "metadata": {},
   "outputs": [
    {
     "data": {
      "text/html": [
       "<div><!-- Original source from -->\n",
       "<!-- https://github.com/jsignell/xarray/blob/1d960933ab252e0f79f7e050e6c9261d55568057/xarray/static/html/icons-svg-inline.html -->\n",
       "<svg style=\"position: absolute; width: 0; height: 0; overflow: hidden\">\n",
       "<defs>\n",
       "<symbol id=\"icon-database\" viewBox=\"0 0 32 32\">\n",
       "<title>Show/Hide data repr</title>\n",
       "<path d=\"M16 0c-8.837 0-16 2.239-16 5v4c0 2.761 7.163 5 16 5s16-2.239 16-5v-4c0-2.761-7.163-5-16-5z\"></path>\n",
       "<path d=\"M16 17c-8.837 0-16-2.239-16-5v6c0 2.761 7.163 5 16 5s16-2.239 16-5v-6c0 2.761-7.163 5-16 5z\"></path>\n",
       "<path d=\"M16 26c-8.837 0-16-2.239-16-5v6c0 2.761 7.163 5 16 5s16-2.239 16-5v-6c0 2.761-7.163 5-16 5z\"></path>\n",
       "</symbol>\n",
       "<symbol id=\"icon-file-text2\" viewBox=\"0 0 32 32\">\n",
       "<title>Show/Hide attributes</title>\n",
       "<path d=\"M28.681 7.159c-0.694-0.947-1.662-2.053-2.724-3.116s-2.169-2.030-3.116-2.724c-1.612-1.182-2.393-1.319-2.841-1.319h-15.5c-1.378 0-2.5 1.121-2.5 2.5v27c0 1.378 1.122 2.5 2.5 2.5h23c1.378 0 2.5-1.122 2.5-2.5v-19.5c0-0.448-0.137-1.23-1.319-2.841zM24.543 5.457c0.959 0.959 1.712 1.825 2.268 2.543h-4.811v-4.811c0.718 0.556 1.584 1.309 2.543 2.268zM28 29.5c0 0.271-0.229 0.5-0.5 0.5h-23c-0.271 0-0.5-0.229-0.5-0.5v-27c0-0.271 0.229-0.5 0.5-0.5 0 0 15.499-0 15.5 0v7c0 0.552 0.448 1 1 1h7v19.5z\"></path>\n",
       "<path d=\"M23 26h-14c-0.552 0-1-0.448-1-1s0.448-1 1-1h14c0.552 0 1 0.448 1 1s-0.448 1-1 1z\"></path>\n",
       "<path d=\"M23 22h-14c-0.552 0-1-0.448-1-1s0.448-1 1-1h14c0.552 0 1 0.448 1 1s-0.448 1-1 1z\"></path>\n",
       "<path d=\"M23 18h-14c-0.552 0-1-0.448-1-1s0.448-1 1-1h14c0.552 0 1 0.448 1 1s-0.448 1-1 1z\"></path>\n",
       "</symbol>\n",
       "</defs>\n",
       "</svg><style id=\"scipp-style-sheet\">.sc-root{--sc-background-color0:var(--jp-layout-color0,#fff);--sc-background-color1:var(--jp-layout-color1,#fcfcfc);--sc-background-color2:var(--jp-layout-color2,#efefef);--sc-inverse-background-color0:var(--jp-inverse-layout-color4,#111);--sc-font-color0:var(--jp-content-font-color0,#000);--sc-font-color1:var(--jp-content-font-color1,#555);--sc-font-color2:var(--jp-content-font-color2,#888);--sc-font-color3:var(--jp-content-font-color3,#ccc);--sc-table-data-color:#f6d028;--sc-table-coords-color:#c6e590;--sc-table-masks-color:#c8c8c8;--sc-table-attrs-color:#ff5555;--sc-table-header-font-color:#111111;}.sc-wrap{font-size:14px;min-width:300px;max-width:800px;}.sc-var-attrs .sc-wrap{padding-left:3em;}.sc-header{padding-top:6px;padding-bottom:6px;margin-bottom:4px;border-bottom:solid 1px #ddd;}.sc-header > div,.sc-header > ul{display:inline;margin-top:0;margin-bottom:0;}.sc-obj-type,.sc-array-name{margin-left:2px;margin-right:10px;}.sc-obj-type{color:var(--sc-font-color1);}.sc-underlying-size{color:var(--sc-font-color2);}.sc-sections,.reveal .sc-sections{padding-left:0 !important;display:grid;grid-template-columns:150px auto auto auto 1fr 20px 20px;}.sc-section-item{display:contents;}.sc-section-item input{display:none;}.sc-section-item input:enabled + label{cursor:pointer;color:var(--sc-font-color1);}.sc-section-item input:enabled + label:hover{color:var(--sc-font-color0);}.sc-section-summary{grid-column:1;font-weight:500;}.sc-section-summary > span{display:inline-block;padding-left:0.5em;}.sc-section-summary-in:disabled + label{color:var(--sc-font-color1);}.sc-section-summary-in + label:before{display:inline-block;content:'►';font-size:11px;width:15px;text-align:center;}.sc-section-summary-in:disabled + label:before{color:var(--sc-font-color3);}.sc-section-summary-in:checked + label:before{content:'▼';}.sc-section-summary-in:checked + label > span{display:none;}.sc-section-summary,.sc-section-inline-details{padding-top:4px;padding-bottom:4px;}.sc-section-inline-details{grid-column:2 / 6;}.sc-section-details{display:none;grid-column:1 / -1;margin-bottom:5px;}.sc-section-summary-in:checked ~ .sc-section-details{display:contents;}.sc-array-wrap{grid-column:1 / -1;display:grid;grid-template-columns:20px auto;}.sc-array-wrap > label{grid-column:1;vertical-align:top;}.sc-preview{color:var(--sc-font-color2);}.sc-array-preview,.sc-array-data{padding:0 5px !important;grid-column:2;}.sc-array-data,.sc-array-in:checked ~ .sc-array-preview{display:none;}.sc-array-in:checked ~ .sc-array-data,.sc-array-preview{display:inline-block;}.sc-dim-list{display:inline-block !important;list-style:none;padding:0 !important;margin:0;}.sc-dim-list li{display:inline-block;padding:0;margin:0!important;}.sc-dim-list:before{content:'(';}.sc-dim-list:after{content:')';}.sc-dim-list li:not(:last-child):after{content:',';padding-right:5px;}.sc-dim-list li span,.sc-standalone-var-name > span span,.sc-var-name > span span{padding:0 !important;}.sc-aligned{font-weight:bold;}.sc-var-list,.sc-var-item,.reveal .sc-var-list,.reveal .sc-var-item{display:contents;}.sc-var-item > div,.sc-var-item label,.sc-var-item > .sc-var-name span{background-color:var(--sc-background-color1);margin-bottom:0;}.sc-var-item > .sc-var-name:hover span{padding-right:5px;}.sc-var-list > li:nth-child(odd) > div,.sc-var-list > li:nth-child(odd) > label,.sc-var-list > li:nth-child(odd) > .sc-var-name span{background-color:var(--sc-background-color2);}.sc-var-name{grid-column:1;}.sc-var-dims{grid-column:2;}.sc-var-dtype{grid-column:3;text-align:right;color:var(--sc-font-color2);}.sc-var-unit{grid-column:4;text-align:left;color:var(--sc-font-color1);max-width:50pt;text-overflow:ellipsis;}.sc-value-preview{grid-column:5;}.sc-var-preview-variances{text-align:right;}.sc-sections .sc-section-item .sc-section-summary,.sc-sections .sc-section-item .sc-section-inline-details,.sc-section-item .sc-var-list .sc-var-item > div,.sc-section-item .sc-var-list .sc-var-item > label,.sc-section-details .sc-var-list .sc-var-item > div,.sc-section-details .sc-var-list .sc-var-item > label{margin-top:0;margin-bottom:0;}.sc-var-name,.sc-var-dims,.sc-var-dtype,.sc-var-unit,.sc-preview,.sc-attrs dt{white-space:nowrap;overflow:hidden;text-overflow:ellipsis;padding-right:10px;}.sc-var-name:hover,.sc-var-dims:hover,.sc-var-dtype:hover,.sc-var-unit:hover,.sc-attrs dt:hover{overflow:visible;width:auto;z-index:1;}.sc-var-attrs{display:block;}.sc-var-data,.reveal .sc-var-data{display:none;}.sc-var-attrs,.sc-var-data{background-color:var(--sc-background-color0) !important;padding-bottom:5px !important;}.sc-var-attrs-in:checked ~ .sc-var-attrs{display:none;}.sc-var-data-in:checked ~ .sc-var-data{display:block;}.sc-var-data > table{float:right;}.sc-var-name span,.sc-var-data{padding-left:25px !important;}.sc-var-attrs,.sc-var-data{grid-column:1 / -1;}dl.sc-attrs{padding:0;margin:0;display:grid;grid-template-columns:125px auto;}.sc-attrs dt,dd{padding:0;margin:0;float:left;padding-right:10px;width:auto;}.sc-attrs dt{font-weight:normal;grid-column:1;}.sc-attrs dt:hover span{display:inline-block;padding-right:10px;}.sc-attrs dd{grid-column:2;white-space:pre-wrap;word-break:break-all;}.sc-icon-database,.sc-icon-file-text2{display:inline-block;vertical-align:middle;width:1em;height:1.5em !important;stroke-width:0;stroke:currentColor;fill:currentColor;}label.sc-hide-icon svg{opacity:0;}.sc-standalone-var-name{grid-column:1/3;}.sc-standalone-var-name span{padding-left:25px;padding-right:10px;}.sc-table{border-collapse:collapse;}.sc-title{font-weight:bold;font-size:1.5em;}.sc-subtitle{font-weight:normal;font-style:italic;text-align:left;font-size:1.2em;padding:1px;}.sc-table th,.sc-table td{border:1px solid var(--sc-inverse-background-color0);padding:0 5px 0 5px;}.sc-table th{text-align:center;}.sc-table tr{background-color:var(--sc-background-color1);text-align:right;}.sc-table tr:hover{background-color:var(--sc-background-color2);}.sc-table th.sc-data{background-color:var(--sc-table-data-color);color:var(--sc-table-header-font-color);}.sc-table th.sc-coords{background-color:var(--sc-table-coords-color);color:var(--sc-table-header-font-color);}.sc-table th.sc-masks{background-color:var(--sc-table-masks-color);color:var(--sc-table-header-font-color);}.sc-table th.sc-attrs{background-color:var(--sc-table-attrs-color);color:var(--sc-table-header-font-color);}.sc-table th.sc-subheader{background-color:var(--sc-background-color2);}.sc-table td.sc-padding{background-color:var(--sc-background-color1);border:0 solid var(--sc-background-color1);height:1.2em;}.sc-label{fill:var(--sc-font-color0,#444444);text-anchor:middle;}.sc-name{fill:var(--sc-font-color0,#111111);}.sc-inset-line{stroke:var(--sc-font-color1);stroke-width:0.05;stroke-dasharray:0.2,0.2;}.sc-log-wrap{height:25ex;resize:vertical;overflow-y:scroll;display:flex;flex-direction:column-reverse;border:1px solid;border-color:var(--jp-border-color2);background-color:var(--sc-background-color1);}div.sc-log{line-height:2.5ex;}table.sc-log{table-layout:auto;border-collapse:collapse;}tr.sc-log:nth-child(even){background-color:var(--sc-background-color0);}tr.sc-log > td{vertical-align:top;padding-bottom:0.5ex;}.sc-log-time-stamp{min-width:22ch;font-family:var(--jp-code-font-family);color:var(--sc-font-color2);}.sc-log-level{min-width:10ch;}tr.sc-log-debug td.sc-log-level{color:var(--jp-accent-color1);}tr.sc-log-info td.sc-log-level{color:var(--jp-info-color1);}tr.sc-log-warning td.sc-log-level{color:var(--jp-warn-color1);}tr.sc-log-error td.sc-log-level{font-weight:bold;color:var(--jp-error-color2);}tr.sc-log-critical td.sc-log-level{font-weight:bold;color:var(--sc-background-color0);background-color:var(--jp-error-color1);}.sc-log-message{white-space:pre-wrap;width:100%;}.sc-log-html-payload{white-space:normal;}.sc-log-name{padding-right:0.5em;text-align:right;white-space:pre-wrap;color:var(--sc-font-color3);}</style><div class='sc-wrap sc-root'><div class='sc-header'><div class='sc-obj-type'>scipp.DataArray (355.69 MB)</div></div><ul class='sc-sections'><li class='sc-section-item'><input id='section-d1fedeac-f3ed-41fe-a0dc-49e63b7ca3cf' class='sc-section-summary-in' type='checkbox' disabled ><label for='section-d1fedeac-f3ed-41fe-a0dc-49e63b7ca3cf' class='sc-section-summary'  title='Expand/collapse section'>Dimensions:</label><div class='sc-section-inline-details'><ul class='sc-dim-list'><li><span class='sc-has-index'>spectrum</span>: 458752</li><li><span class='sc-has-index'>wavelength</span>: 49</li></ul></div><div class='sc-section-details'></div></li><li class='sc-section-item'><input id='section-588d73eb-6a9b-4869-84c2-9f5734f6b886' class='sc-section-summary-in' type='checkbox'  checked><label for='section-588d73eb-6a9b-4869-84c2-9f5734f6b886' class='sc-section-summary' >Coordinates: <span>(7)</span></label><div class='sc-section-inline-details'></div><div class='sc-section-details'><ul class='sc-var-list'><li class='sc-var-item'><div class='sc-var-name'><span class='sc-aligned'>pixel_height</span></div><div class='sc-var-dims'>()</div><div class='sc-var-dtype'>float64</div><div class='sc-var-unit'>m</div><div class='sc-value-preview sc-preview'><span><div>0.0117188</div></span></div><input id='attrs-8befd3ca-0b88-49e1-b973-a50403807dbc' class='sc-var-attrs-in' type='checkbox' disabled><label for='attrs-8befd3ca-0b88-49e1-b973-a50403807dbc' class='sc-hide-icon' title='Show/Hide attributes'><svg class='icon sc-icon-file-text2'><use xlink:href='#icon-file-text2'></use></svg></label><input id='data-700b7e87-e1ad-4e64-8842-a6683e718dd1' class='sc-var-data-in' type='checkbox'><label for='data-700b7e87-e1ad-4e64-8842-a6683e718dd1' title='Show/Hide data repr'><svg class='icon sc-icon-database'><use xlink:href='#icon-database'></use></svg></label><pre class='sc-var-data'>Values:<br>array(0.0117188)</pre></span></li><li class='sc-var-item'><div class='sc-var-name'><span class='sc-aligned'>pixel_width</span></div><div class='sc-var-dims'>()</div><div class='sc-var-dtype'>float64</div><div class='sc-var-unit'>m</div><div class='sc-value-preview sc-preview'><span><div>0.0075</div></span></div><input id='attrs-34f7c249-79d6-4bb5-9919-8cfb2fc0c846' class='sc-var-attrs-in' type='checkbox' disabled><label for='attrs-34f7c249-79d6-4bb5-9919-8cfb2fc0c846' class='sc-hide-icon' title='Show/Hide attributes'><svg class='icon sc-icon-file-text2'><use xlink:href='#icon-file-text2'></use></svg></label><input id='data-38fa34d8-82a3-46ef-b1f0-0ad182927e27' class='sc-var-data-in' type='checkbox'><label for='data-38fa34d8-82a3-46ef-b1f0-0ad182927e27' title='Show/Hide data repr'><svg class='icon sc-icon-database'><use xlink:href='#icon-database'></use></svg></label><pre class='sc-var-data'>Values:<br>array(0.0075)</pre></span></li><li class='sc-var-item'><div class='sc-var-name'><span class='sc-aligned'>position</span></div><div class='sc-var-dims'>(spectrum)</div><div class='sc-var-dtype'>vector3</div><div class='sc-var-unit'>m</div><div class='sc-value-preview sc-preview'><span><div>[ 0.47552344  0.45481185 29.40405757], [ 0.47357031  0.45481185 29.40405757], ..., [-0.52057031 -0.40446916 29.49816725], [-0.52252344 -0.40446916 29.49816725]</div></span></div><input id='attrs-84b54c4b-b207-45ec-8abc-54fbf0480e56' class='sc-var-attrs-in' type='checkbox' disabled><label for='attrs-84b54c4b-b207-45ec-8abc-54fbf0480e56' class='sc-hide-icon' title='Show/Hide attributes'><svg class='icon sc-icon-file-text2'><use xlink:href='#icon-file-text2'></use></svg></label><input id='data-ef263bb3-23ef-407c-86b1-1cb7b54de549' class='sc-var-data-in' type='checkbox'><label for='data-ef263bb3-23ef-407c-86b1-1cb7b54de549' title='Show/Hide data repr'><svg class='icon sc-icon-database'><use xlink:href='#icon-database'></use></svg></label><pre class='sc-var-data'>Values:<br>array([[ 0.47552344,  0.45481185, 29.40405757],\n",
       "       [ 0.47357031,  0.45481185, 29.40405757],\n",
       "       [ 0.47161719,  0.45481185, 29.40405757],\n",
       "       ...,\n",
       "       [-0.51861719, -0.40446916, 29.49816725],\n",
       "       [-0.52057031, -0.40446916, 29.49816725],\n",
       "       [-0.52252344, -0.40446916, 29.49816725]])</pre></span></li><li class='sc-var-item'><div class='sc-var-name'><span class='sc-aligned'>sample_position</span></div><div class='sc-var-dims'>()</div><div class='sc-var-dtype'>vector3</div><div class='sc-var-unit'>m</div><div class='sc-value-preview sc-preview'><span><div>[0. 0. 0.]</div></span></div><input id='attrs-a92bc489-03bb-47f9-9de3-0a9620511afc' class='sc-var-attrs-in' type='checkbox' disabled><label for='attrs-a92bc489-03bb-47f9-9de3-0a9620511afc' class='sc-hide-icon' title='Show/Hide attributes'><svg class='icon sc-icon-file-text2'><use xlink:href='#icon-file-text2'></use></svg></label><input id='data-e20b6642-6ea4-48d4-a21e-c4cb6034568a' class='sc-var-data-in' type='checkbox'><label for='data-e20b6642-6ea4-48d4-a21e-c4cb6034568a' title='Show/Hide data repr'><svg class='icon sc-icon-database'><use xlink:href='#icon-database'></use></svg></label><pre class='sc-var-data'>Values:<br>array([0., 0., 0.])</pre></span></li><li class='sc-var-item'><div class='sc-var-name'><span class='sc-aligned'>source_position</span></div><div class='sc-var-dims'>()</div><div class='sc-var-dtype'>vector3</div><div class='sc-var-unit'>m</div><div class='sc-value-preview sc-preview'><span><div>[  0.     0.   -25.61]</div></span></div><input id='attrs-23d4aec9-d4a0-4464-9c40-4f49d4f36dc0' class='sc-var-attrs-in' type='checkbox' disabled><label for='attrs-23d4aec9-d4a0-4464-9c40-4f49d4f36dc0' class='sc-hide-icon' title='Show/Hide attributes'><svg class='icon sc-icon-file-text2'><use xlink:href='#icon-file-text2'></use></svg></label><input id='data-2514ac4c-b29f-4bc5-ae55-5c2a98babfb3' class='sc-var-data-in' type='checkbox'><label for='data-2514ac4c-b29f-4bc5-ae55-5c2a98babfb3' title='Show/Hide data repr'><svg class='icon sc-icon-database'><use xlink:href='#icon-database'></use></svg></label><pre class='sc-var-data'>Values:<br>array([  0.  ,   0.  , -25.61])</pre></span></li><li class='sc-var-item'><div class='sc-var-name'><span class='sc-aligned'>spectrum</span></div><div class='sc-var-dims'>(spectrum)</div><div class='sc-var-dtype'>int32</div><div class='sc-var-unit'></div><div class='sc-value-preview sc-preview'><span><div>1, 2, ..., 458751, 458752</div></span></div><input id='attrs-72ccdbb8-3cf7-462e-81a9-77160449f407' class='sc-var-attrs-in' type='checkbox' disabled><label for='attrs-72ccdbb8-3cf7-462e-81a9-77160449f407' class='sc-hide-icon' title='Show/Hide attributes'><svg class='icon sc-icon-file-text2'><use xlink:href='#icon-file-text2'></use></svg></label><input id='data-88f806ef-5c3f-4064-9f13-6939c0753f84' class='sc-var-data-in' type='checkbox'><label for='data-88f806ef-5c3f-4064-9f13-6939c0753f84' title='Show/Hide data repr'><svg class='icon sc-icon-database'><use xlink:href='#icon-database'></use></svg></label><pre class='sc-var-data'>Values:<br>array([     1,      2,      3, ..., 458750, 458751, 458752], dtype=int32)</pre></span></li><li class='sc-var-item'><div class='sc-var-name'><span class='sc-aligned'>wavelength</span></div><div class='sc-var-dims'>(wavelength)</div><div class='sc-var-dtype'>float64</div><div class='sc-var-unit'>Å</div><div class='sc-value-preview sc-preview'><span><div>2.300, 2.5, ..., 11.700, 11.9</div></span></div><input id='attrs-3423cff0-4e9f-4302-b679-37dfc68e341f' class='sc-var-attrs-in' type='checkbox' disabled><label for='attrs-3423cff0-4e9f-4302-b679-37dfc68e341f' class='sc-hide-icon' title='Show/Hide attributes'><svg class='icon sc-icon-file-text2'><use xlink:href='#icon-file-text2'></use></svg></label><input id='data-96ab19c8-b985-4e7d-b281-17c404e04047' class='sc-var-data-in' type='checkbox'><label for='data-96ab19c8-b985-4e7d-b281-17c404e04047' title='Show/Hide data repr'><svg class='icon sc-icon-database'><use xlink:href='#icon-database'></use></svg></label><pre class='sc-var-data'>Values:<br>array([ 2.3,  2.5,  2.7,  2.9,  3.1,  3.3,  3.5,  3.7,  3.9,  4.1,  4.3,\n",
       "        4.5,  4.7,  4.9,  5.1,  5.3,  5.5,  5.7,  5.9,  6.1,  6.3,  6.5,\n",
       "        6.7,  6.9,  7.1,  7.3,  7.5,  7.7,  7.9,  8.1,  8.3,  8.5,  8.7,\n",
       "        8.9,  9.1,  9.3,  9.5,  9.7,  9.9, 10.1, 10.3, 10.5, 10.7, 10.9,\n",
       "       11.1, 11.3, 11.5, 11.7, 11.9])</pre></span></li></ul></div></li><li class='sc-section-item'><input id='section-b028065d-e671-4d4c-89ab-f6b84e931564' class='sc-section-summary-in' type='checkbox'  checked><label for='section-b028065d-e671-4d4c-89ab-f6b84e931564' class='sc-section-summary' >Data: <span>(1)</span></label><div class='sc-section-inline-details'></div><div class='sc-section-details'><ul class='sc-var-list'><li class='sc-var-item'><div class='sc-var-name'><span></span></div><div class='sc-var-dims'>(spectrum, wavelength)</div><div class='sc-var-dtype'>float64</div><div class='sc-var-unit'>𝟙</div><div class='sc-value-preview sc-preview'><span><div>0.0, 0.0, ..., 0.0, 0.0</div></span><span><div>σ = 0.0, 0.0, ..., 0.0, 0.0</div></span></div><input id='attrs-146afe2e-1866-4a0d-8b0f-3c4a3f4e5947' class='sc-var-attrs-in' type='checkbox' disabled><label for='attrs-146afe2e-1866-4a0d-8b0f-3c4a3f4e5947' class='sc-hide-icon' title='Show/Hide attributes'><svg class='icon sc-icon-file-text2'><use xlink:href='#icon-file-text2'></use></svg></label><input id='data-45e96c2b-acf6-4cf7-827d-9c3bb084863b' class='sc-var-data-in' type='checkbox'><label for='data-45e96c2b-acf6-4cf7-827d-9c3bb084863b' title='Show/Hide data repr'><svg class='icon sc-icon-database'><use xlink:href='#icon-database'></use></svg></label><pre class='sc-var-data'>Values:<br>array([[0., 0., 0., ..., 0., 0., 0.],\n",
       "       [0., 0., 0., ..., 0., 0., 0.],\n",
       "       [0., 0., 0., ..., 0., 0., 0.],\n",
       "       ...,\n",
       "       [0., 0., 0., ..., 0., 0., 0.],\n",
       "       [0., 0., 0., ..., 0., 0., 0.],\n",
       "       [0., 0., 0., ..., 0., 0., 0.]])<br><br>Variances (σ²):<br>array([[0., 0., 0., ..., 0., 0., 0.],\n",
       "       [0., 0., 0., ..., 0., 0., 0.],\n",
       "       [0., 0., 0., ..., 0., 0., 0.],\n",
       "       ...,\n",
       "       [0., 0., 0., ..., 0., 0., 0.],\n",
       "       [0., 0., 0., ..., 0., 0., 0.],\n",
       "       [0., 0., 0., ..., 0., 0., 0.]])</pre></li></ul></div></li><li class='sc-section-item'><input id='section-6d0ba247-227b-43bf-898d-7c95f1061a04' class='sc-section-summary-in' type='checkbox'  checked><label for='section-6d0ba247-227b-43bf-898d-7c95f1061a04' class='sc-section-summary' >Masks: <span>(1)</span></label><div class='sc-section-inline-details'></div><div class='sc-section-details'><ul class='sc-var-list'><li class='sc-var-item'><div class='sc-var-name'><span>spectrum</span></div><div class='sc-var-dims'>(spectrum)</div><div class='sc-var-dtype'>bool</div><div class='sc-var-unit'></div><div class='sc-value-preview sc-preview'><span><div>True, True, ..., True, True</div></span></div><input id='attrs-88d68ef9-9438-4f17-9605-a714926b6d8b' class='sc-var-attrs-in' type='checkbox' disabled><label for='attrs-88d68ef9-9438-4f17-9605-a714926b6d8b' class='sc-hide-icon' title='Show/Hide attributes'><svg class='icon sc-icon-file-text2'><use xlink:href='#icon-file-text2'></use></svg></label><input id='data-f49df99e-091e-4819-aae9-ca02acb0d037' class='sc-var-data-in' type='checkbox'><label for='data-f49df99e-091e-4819-aae9-ca02acb0d037' title='Show/Hide data repr'><svg class='icon sc-icon-database'><use xlink:href='#icon-database'></use></svg></label><pre class='sc-var-data'>Values:<br>array([ True,  True,  True, ...,  True,  True,  True])</pre></span></li></ul></div></li><li class='sc-section-item'><input id='section-150be6cb-6a8b-4b51-a086-3371d637c2d7' class='sc-section-summary-in' type='checkbox'  checked><label for='section-150be6cb-6a8b-4b51-a086-3371d637c2d7' class='sc-section-summary' >Attributes: <span>(9)</span></label><div class='sc-section-inline-details'></div><div class='sc-section-details'><ul class='sc-var-list'><li class='sc-var-item'><div class='sc-var-name'><span>TimeUnit</span></div><div class='sc-var-dims'>()</div><div class='sc-var-dtype'>string</div><div class='sc-var-unit'>𝟙</div><div class='sc-value-preview sc-preview'><span><div>Micro Seconds</div></span></div><input id='attrs-f3db2740-4000-4cf1-b872-0ad5f1b9e6bf' class='sc-var-attrs-in' type='checkbox' disabled><label for='attrs-f3db2740-4000-4cf1-b872-0ad5f1b9e6bf' class='sc-hide-icon' title='Show/Hide attributes'><svg class='icon sc-icon-file-text2'><use xlink:href='#icon-file-text2'></use></svg></label><input id='data-7c1499cf-3eb9-44b8-95a4-a48fffd9a963' class='sc-var-data-in' type='checkbox'><label for='data-7c1499cf-3eb9-44b8-95a4-a48fffd9a963' title='Show/Hide data repr'><svg class='icon sc-icon-database'><use xlink:href='#icon-database'></use></svg></label><pre class='sc-var-data'>Values:<br>&#x27;Micro Seconds&#x27;</pre></li><li class='sc-var-item'><div class='sc-var-name'><span>deltaE-mode</span></div><div class='sc-var-dims'>()</div><div class='sc-var-dtype'>string</div><div class='sc-var-unit'>𝟙</div><div class='sc-value-preview sc-preview'><span><div>Elastic</div></span></div><input id='attrs-67b74975-164d-404c-86f3-a1f8846231f9' class='sc-var-attrs-in' type='checkbox' disabled><label for='attrs-67b74975-164d-404c-86f3-a1f8846231f9' class='sc-hide-icon' title='Show/Hide attributes'><svg class='icon sc-icon-file-text2'><use xlink:href='#icon-file-text2'></use></svg></label><input id='data-1b4ee0f8-9298-422e-9885-20eecd9e258d' class='sc-var-data-in' type='checkbox'><label for='data-1b4ee0f8-9298-422e-9885-20eecd9e258d' title='Show/Hide data repr'><svg class='icon sc-icon-database'><use xlink:href='#icon-database'></use></svg></label><pre class='sc-var-data'>Values:<br>&#x27;Elastic&#x27;</pre></li><li class='sc-var-item'><div class='sc-var-name'><span>end_time</span></div><div class='sc-var-dims'>()</div><div class='sc-var-dtype'>string</div><div class='sc-var-unit'>𝟙</div><div class='sc-value-preview sc-preview'><span><div>2022-04-14T13:25:19.880580000</div></span></div><input id='attrs-0ae84fa5-241d-4764-ad57-04110d99491b' class='sc-var-attrs-in' type='checkbox' disabled><label for='attrs-0ae84fa5-241d-4764-ad57-04110d99491b' class='sc-hide-icon' title='Show/Hide attributes'><svg class='icon sc-icon-file-text2'><use xlink:href='#icon-file-text2'></use></svg></label><input id='data-ec061750-1f14-477a-a537-21b681ec40d6' class='sc-var-data-in' type='checkbox'><label for='data-ec061750-1f14-477a-a537-21b681ec40d6' title='Show/Hide data repr'><svg class='icon sc-icon-database'><use xlink:href='#icon-database'></use></svg></label><pre class='sc-var-data'>Values:<br>&#x27;2022-04-14T13:25:19.880580000&#x27;</pre></li><li class='sc-var-item'><div class='sc-var-name'><span>instrument_name</span></div><div class='sc-var-dims'>()</div><div class='sc-var-dtype'>string</div><div class='sc-var-unit'></div><div class='sc-value-preview sc-preview'><span><div>LOKI_test.xml</div></span></div><input id='attrs-c1465de3-d3a1-44f2-b422-980116051d8a' class='sc-var-attrs-in' type='checkbox' disabled><label for='attrs-c1465de3-d3a1-44f2-b422-980116051d8a' class='sc-hide-icon' title='Show/Hide attributes'><svg class='icon sc-icon-file-text2'><use xlink:href='#icon-file-text2'></use></svg></label><input id='data-6a11aec2-b483-4d0e-9031-936a96476e8a' class='sc-var-data-in' type='checkbox'><label for='data-6a11aec2-b483-4d0e-9031-936a96476e8a' title='Show/Hide data repr'><svg class='icon sc-icon-database'><use xlink:href='#icon-database'></use></svg></label><pre class='sc-var-data'>Values:<br>&#x27;LOKI_test.xml&#x27;</pre></li><li class='sc-var-item'><div class='sc-var-name'><span>run_number</span></div><div class='sc-var-dims'>()</div><div class='sc-var-dtype'>string</div><div class='sc-var-unit'>𝟙</div><div class='sc-value-preview sc-preview'><span><div>1</div></span></div><input id='attrs-042de8d6-e0ae-4440-9be0-1d03762fbab9' class='sc-var-attrs-in' type='checkbox' disabled><label for='attrs-042de8d6-e0ae-4440-9be0-1d03762fbab9' class='sc-hide-icon' title='Show/Hide attributes'><svg class='icon sc-icon-file-text2'><use xlink:href='#icon-file-text2'></use></svg></label><input id='data-33dc5f73-78ad-4f79-8dd1-aa52e22508ba' class='sc-var-data-in' type='checkbox'><label for='data-33dc5f73-78ad-4f79-8dd1-aa52e22508ba' title='Show/Hide data repr'><svg class='icon sc-icon-database'><use xlink:href='#icon-database'></use></svg></label><pre class='sc-var-data'>Values:<br>&#x27;1&#x27;</pre></li><li class='sc-var-item'><div class='sc-var-name'><span>run_start</span></div><div class='sc-var-dims'>()</div><div class='sc-var-dtype'>string</div><div class='sc-var-unit'>𝟙</div><div class='sc-value-preview sc-preview'><span><div>2022-04-14T13:25:19.880580000</div></span></div><input id='attrs-a513b71e-b575-4166-a2c9-11dca05957a6' class='sc-var-attrs-in' type='checkbox' disabled><label for='attrs-a513b71e-b575-4166-a2c9-11dca05957a6' class='sc-hide-icon' title='Show/Hide attributes'><svg class='icon sc-icon-file-text2'><use xlink:href='#icon-file-text2'></use></svg></label><input id='data-98a11e7c-823b-4f3c-88c9-584f1abf2b28' class='sc-var-data-in' type='checkbox'><label for='data-98a11e7c-823b-4f3c-88c9-584f1abf2b28' title='Show/Hide data repr'><svg class='icon sc-icon-database'><use xlink:href='#icon-database'></use></svg></label><pre class='sc-var-data'>Values:<br>&#x27;2022-04-14T13:25:19.880580000&#x27;</pre></li><li class='sc-var-item'><div class='sc-var-name'><span>run_title</span></div><div class='sc-var-dims'>()</div><div class='sc-var-dtype'>string</div><div class='sc-var-unit'>𝟙</div><div class='sc-value-preview sc-preview'><span><div></div></span></div><input id='attrs-4a9ead5d-7440-4952-a371-c27019b4e5ec' class='sc-var-attrs-in' type='checkbox' disabled><label for='attrs-4a9ead5d-7440-4952-a371-c27019b4e5ec' class='sc-hide-icon' title='Show/Hide attributes'><svg class='icon sc-icon-file-text2'><use xlink:href='#icon-file-text2'></use></svg></label><input id='data-65e938ed-4b55-480f-a125-a70dcc6146ba' class='sc-var-data-in' type='checkbox'><label for='data-65e938ed-4b55-480f-a125-a70dcc6146ba' title='Show/Hide data repr'><svg class='icon sc-icon-database'><use xlink:href='#icon-database'></use></svg></label><pre class='sc-var-data'>Values:<br>&#x27;&#x27;</pre></li><li class='sc-var-item'><div class='sc-var-name'><span>sample</span></div><div class='sc-var-dims'>()</div><div class='sc-var-dtype'>PyObject</div><div class='sc-var-unit'></div><div class='sc-value-preview sc-preview'><span><div>&lt;mantid.api._api.Sample object at 0x7fcc1aa12580&gt;</div></span></div><input id='attrs-feb14bd3-a8b7-4bdc-bb8d-ee156c81cad8' class='sc-var-attrs-in' type='checkbox' disabled><label for='attrs-feb14bd3-a8b7-4bdc-bb8d-ee156c81cad8' class='sc-hide-icon' title='Show/Hide attributes'><svg class='icon sc-icon-file-text2'><use xlink:href='#icon-file-text2'></use></svg></label><input id='data-8161cd5c-6f61-46d5-89dd-291f13dd9d84' class='sc-var-data-in' type='checkbox'><label for='data-8161cd5c-6f61-46d5-89dd-291f13dd9d84' title='Show/Hide data repr'><svg class='icon sc-icon-database'><use xlink:href='#icon-database'></use></svg></label><pre class='sc-var-data'>Values:<br>&lt;mantid.api._api.Sample object at 0x7fcc1aa12580&gt;</pre></li><li class='sc-var-item'><div class='sc-var-name'><span>start_time</span></div><div class='sc-var-dims'>()</div><div class='sc-var-dtype'>string</div><div class='sc-var-unit'>𝟙</div><div class='sc-value-preview sc-preview'><span><div>2022-04-14T13:25:19.880580000</div></span></div><input id='attrs-10da8ff6-9359-4203-8f41-54b0e1943839' class='sc-var-attrs-in' type='checkbox' disabled><label for='attrs-10da8ff6-9359-4203-8f41-54b0e1943839' class='sc-hide-icon' title='Show/Hide attributes'><svg class='icon sc-icon-file-text2'><use xlink:href='#icon-file-text2'></use></svg></label><input id='data-6613aac2-1ab0-478d-bf96-85e3beec4d30' class='sc-var-data-in' type='checkbox'><label for='data-6613aac2-1ab0-478d-bf96-85e3beec4d30' title='Show/Hide data repr'><svg class='icon sc-icon-database'><use xlink:href='#icon-database'></use></svg></label><pre class='sc-var-data'>Values:<br>&#x27;2022-04-14T13:25:19.880580000&#x27;</pre></li></ul></div></li></ul></div></div>"
      ],
      "text/plain": [
       "<scipp.DataArray>\n",
       "Dimensions: Sizes[spectrum:458752, wavelength:49, ]\n",
       "Coordinates:\n",
       "* pixel_height              float64              [m]  ()  0.0117188\n",
       "* pixel_width               float64              [m]  ()  0.0075\n",
       "* position                  vector3              [m]  (spectrum)  [(0.475523, 0.454812, 29.4041), (0.47357, 0.454812, 29.4041), ..., (-0.52057, -0.404469, 29.4982), (-0.522523, -0.404469, 29.4982)]\n",
       "* sample_position           vector3              [m]  ()  (0, 0, 0)\n",
       "* source_position           vector3              [m]  ()  (0, 0, -25.61)\n",
       "* spectrum                    int32        <no unit>  (spectrum)  [1, 2, ..., 458751, 458752]\n",
       "* wavelength                float64             [Å]  (wavelength)  [2.3, 2.5, ..., 11.7, 11.9]\n",
       "Data:\n",
       "                            float64  [dimensionless]  (spectrum, wavelength)  [0, 0, ..., 0, 0]  [0, 0, ..., 0, 0]\n",
       "Masks:\n",
       "  spectrum                     bool        <no unit>  (spectrum)  [True, True, ..., True, True]\n",
       "Attributes:\n",
       "  TimeUnit                   string  [dimensionless]  ()  \"Micro Seconds\"\n",
       "  deltaE-mode                string  [dimensionless]  ()  \"Elastic\"\n",
       "  end_time                   string  [dimensionless]  ()  \"2022-04-14T13:25:19.880580000\"\n",
       "  instrument_name            string        <no unit>  ()  \"LOKI_test.xml\"\n",
       "  run_number                 string  [dimensionless]  ()  \"1\"\n",
       "  run_start                  string  [dimensionless]  ()  \"2022-04-14T13:25:19.880580000\"\n",
       "  run_title                  string  [dimensionless]  ()  \"\"\n",
       "  sample                   PyObject        <no unit>  ()  <mantid.api._api.Sample object at 0x7fcc1aa12580>\n",
       "  start_time                 string  [dimensionless]  ()  \"2022-04-14T13:25:19.880580000\"\n"
      ]
     },
     "execution_count": 42,
     "metadata": {},
     "output_type": "execute_result"
    }
   ],
   "source": [
    "direct_beam"
   ]
  },
  {
   "cell_type": "code",
   "execution_count": 43,
   "id": "dba9fe02-5c65-4142-b94b-ccca2df879e2",
   "metadata": {},
   "outputs": [
    {
     "name": "stderr",
     "output_type": "stream",
     "text": [
      "An interpolation was performed on the direct_beam function. The variances in the direct_beam function have been dropped.\n"
     ]
    }
   ],
   "source": [
    "background_q = sans.to_I_of_Q(data=ds['background'],\n",
    "    data_monitors=background_monitors,\n",
    "    direct_monitors=empty_beam_monitors,\n",
    "    direct_beam=direct_beam,\n",
    "    wavelength_bins=wavelength_bins,\n",
    "    q_bins=q_bins,\n",
    "    gravity=gravity,\n",
    "    wavelength_mask=wavelength_mask)"
   ]
  },
  {
   "cell_type": "markdown",
   "id": "d88ac17e-233f-42ff-bc0c-930f797af1c1",
   "metadata": {},
   "source": [
    "We are now in a position to subtract the background from the sample measurement:"
   ]
  },
  {
   "cell_type": "code",
   "execution_count": 44,
   "id": "f3715d62-e58b-410a-97cd-cfc16bc32a28",
   "metadata": {},
   "outputs": [],
   "source": [
    "result = sample_q.bins.sum() - background_q.bins.sum()"
   ]
  },
  {
   "cell_type": "code",
   "execution_count": 45,
   "id": "af479d15-eec2-40e1-ab2f-816ef1000be7",
   "metadata": {},
   "outputs": [
    {
     "data": {
      "application/vnd.jupyter.widget-view+json": {
       "model_id": "6b1b9765198e490db309ab006f59a8f3",
       "version_major": 2,
       "version_minor": 0
      },
      "text/plain": [
       "InteractiveFig(children=(HBar(), HBox(children=(VBar(children=(Toolbar(children=(ButtonTool(icon='home', layou…"
      ]
     },
     "execution_count": 45,
     "metadata": {},
     "output_type": "execute_result"
    }
   ],
   "source": [
    "background_q.bins.sum().plot()"
   ]
  },
  {
   "cell_type": "code",
   "execution_count": 46,
   "id": "68ec0502-76a1-4e4d-8730-c9089befc207",
   "metadata": {},
   "outputs": [
    {
     "name": "stderr",
     "output_type": "stream",
     "text": [
      "An interpolation was performed on the direct_beam function. The variances in the direct_beam function have been dropped.\n"
     ]
    }
   ],
   "source": [
    "#NOTE: direct monitors is the same as sample (and backgroud)\n",
    "sample_q_selected = sans.to_I_of_Q(data=ds['sample'],\n",
    "    data_monitors=sample_monitors,\n",
    "    direct_monitors=empty_beam_monitors,\n",
    "    direct_beam=direct_beam_selected,\n",
    "    wavelength_bins=wavelength_bins,\n",
    "    q_bins=q_bins,\n",
    "    gravity=gravity,\n",
    "    wavelength_mask=wavelength_mask)"
   ]
  },
  {
   "cell_type": "code",
   "execution_count": 47,
   "id": "861cb159-adf1-46d9-9d31-9c4642dfcb35",
   "metadata": {},
   "outputs": [
    {
     "name": "stderr",
     "output_type": "stream",
     "text": [
      "An interpolation was performed on the direct_beam function. The variances in the direct_beam function have been dropped.\n"
     ]
    }
   ],
   "source": [
    "background_q_selected = sans.to_I_of_Q(data=ds['background'],\n",
    "    data_monitors=background_monitors,\n",
    "    direct_monitors=empty_beam_monitors,\n",
    "    direct_beam=direct_beam_selected,\n",
    "    wavelength_bins=wavelength_bins,\n",
    "    q_bins=q_bins,\n",
    "    gravity=gravity,\n",
    "    wavelength_mask=wavelength_mask)"
   ]
  },
  {
   "cell_type": "code",
   "execution_count": 48,
   "id": "b9d854f3-4cc4-4888-8460-88a2ca02a0be",
   "metadata": {},
   "outputs": [],
   "source": [
    "result_selected = sample_q_selected.bins.sum() - background_q_selected.bins.sum()"
   ]
  },
  {
   "cell_type": "code",
   "execution_count": 49,
   "id": "2a300aef-c8b6-4757-9b15-6b4b61ad5e06",
   "metadata": {},
   "outputs": [
    {
     "data": {
      "application/vnd.jupyter.widget-view+json": {
       "model_id": "bd9b6c63ef7a4ae0a970fdfcc63b0ac9",
       "version_major": 2,
       "version_minor": 0
      },
      "text/plain": [
       "InteractiveFig(children=(HBar(), HBox(children=(VBar(children=(Toolbar(children=(ButtonTool(icon='home', layou…"
      ]
     },
     "execution_count": 49,
     "metadata": {},
     "output_type": "execute_result"
    }
   ],
   "source": [
    "result_selected.plot()"
   ]
  },
  {
   "cell_type": "code",
   "execution_count": 50,
   "id": "3b07086d-eeb2-4b19-932c-763dd0042608",
   "metadata": {},
   "outputs": [
    {
     "data": {
      "application/vnd.jupyter.widget-view+json": {
       "model_id": "7e210c65540040698f970d983166189b",
       "version_major": 2,
       "version_minor": 0
      },
      "text/plain": [
       "InteractiveFig(children=(HBar(), HBox(children=(VBar(children=(Toolbar(children=(ButtonTool(icon='home', layou…"
      ]
     },
     "execution_count": 50,
     "metadata": {},
     "output_type": "execute_result"
    }
   ],
   "source": [
    "sc.plot({'selected': result_selected, 'full': result})"
   ]
  },
  {
   "cell_type": "code",
   "execution_count": 51,
   "id": "45eb3c94-db8f-4a74-9b49-208399feb12b",
   "metadata": {},
   "outputs": [
    {
     "name": "stdout",
     "output_type": "stream",
     "text": [
      "Load-[Notice] Load started\n",
      "ISISRunLogs-[Warning] Cannot find period log. Logs will be not be filtered by current period\n",
      "ISISRunLogs-[Warning] Cannot find periods log. Logs will be not be filtered by current period\n",
      "Load-[Notice] Load successful, Duration 0.96 seconds\n",
      "DeleteWorkspace-[Notice] DeleteWorkspace started\n",
      "DeleteWorkspace-[Notice] DeleteWorkspace successful, Duration 0.00 seconds\n"
     ]
    }
   ],
   "source": [
    "mantid_result = scn.load(f'{path}/ISIS_polymer_mantid_no_solid_angle.nxs')"
   ]
  },
  {
   "cell_type": "code",
   "execution_count": 52,
   "id": "2f11cd8a-5487-4cbf-afb4-c97830bbc2e6",
   "metadata": {},
   "outputs": [],
   "source": [
    "mantid_result.data.unit = 'counts'"
   ]
  },
  {
   "cell_type": "code",
   "execution_count": 64,
   "id": "3fb94b9e-93cc-41bc-afde-adc9db78549e",
   "metadata": {},
   "outputs": [
    {
     "data": {
      "application/vnd.jupyter.widget-view+json": {
       "model_id": "386ca5e2255f4b3193d6d7b2ae197f03",
       "version_major": 2,
       "version_minor": 0
      },
      "text/plain": [
       "InteractiveFig(children=(HBar(), HBox(children=(VBar(children=(Toolbar(children=(ButtonTool(icon='home', layou…"
      ]
     },
     "execution_count": 64,
     "metadata": {},
     "output_type": "execute_result"
    }
   ],
   "source": [
    "sc.plot({'scipp': result, 'mantid': 0.000007*mantid_result})"
   ]
  },
  {
   "cell_type": "markdown",
   "id": "57679ad0-d04a-4c30-a2b3-78e9800f5ae0",
   "metadata": {},
   "source": [
    "<div class=\"alert alert-info\">\n",
    "\n",
    "**Note**\n",
    "\n",
    "Instead of `.bins.sum()`,\n",
    "one could use `sc.histogram()` above to define different `Q` bins compared to the ones defined at the top of the notebook.\n",
    "This can be done in event mode, see [here](https://scipp.github.io/user-guide/binned-data/computation.html#Subtraction).\n",
    "\n",
    "There may be performance advantages to first use a coarse `Q` binning when the computing `I(Q)` numerator,\n",
    "and use finer binning for the final results.\n",
    "\n",
    "</div>"
   ]
  },
  {
   "cell_type": "markdown",
   "id": "5c270fd9-beee-4abd-a51a-4d16ad54922e",
   "metadata": {},
   "source": [
    "## Wavelength bands\n",
    "\n",
    "It is often useful to process the data in a small number (~10) of separate wavelength bands.\n",
    "\n",
    "This can be achieved by requesting 10 bands from the `to_I_of_Q` workflow via the `wavelength_bands` argument."
   ]
  },
  {
   "cell_type": "code",
   "execution_count": 54,
   "id": "ca7e75fe-29f6-44c9-88c2-43d870044b4c",
   "metadata": {},
   "outputs": [
    {
     "name": "stderr",
     "output_type": "stream",
     "text": [
      "An interpolation was performed on the direct_beam function. The variances in the direct_beam function have been dropped.\n",
      "An interpolation was performed on the direct_beam function. The variances in the direct_beam function have been dropped.\n"
     ]
    },
    {
     "data": {
      "text/html": [
       "<div><!-- Original source from -->\n",
       "<!-- https://github.com/jsignell/xarray/blob/1d960933ab252e0f79f7e050e6c9261d55568057/xarray/static/html/icons-svg-inline.html -->\n",
       "<svg style=\"position: absolute; width: 0; height: 0; overflow: hidden\">\n",
       "<defs>\n",
       "<symbol id=\"icon-database\" viewBox=\"0 0 32 32\">\n",
       "<title>Show/Hide data repr</title>\n",
       "<path d=\"M16 0c-8.837 0-16 2.239-16 5v4c0 2.761 7.163 5 16 5s16-2.239 16-5v-4c0-2.761-7.163-5-16-5z\"></path>\n",
       "<path d=\"M16 17c-8.837 0-16-2.239-16-5v6c0 2.761 7.163 5 16 5s16-2.239 16-5v-6c0 2.761-7.163 5-16 5z\"></path>\n",
       "<path d=\"M16 26c-8.837 0-16-2.239-16-5v6c0 2.761 7.163 5 16 5s16-2.239 16-5v-6c0 2.761-7.163 5-16 5z\"></path>\n",
       "</symbol>\n",
       "<symbol id=\"icon-file-text2\" viewBox=\"0 0 32 32\">\n",
       "<title>Show/Hide attributes</title>\n",
       "<path d=\"M28.681 7.159c-0.694-0.947-1.662-2.053-2.724-3.116s-2.169-2.030-3.116-2.724c-1.612-1.182-2.393-1.319-2.841-1.319h-15.5c-1.378 0-2.5 1.121-2.5 2.5v27c0 1.378 1.122 2.5 2.5 2.5h23c1.378 0 2.5-1.122 2.5-2.5v-19.5c0-0.448-0.137-1.23-1.319-2.841zM24.543 5.457c0.959 0.959 1.712 1.825 2.268 2.543h-4.811v-4.811c0.718 0.556 1.584 1.309 2.543 2.268zM28 29.5c0 0.271-0.229 0.5-0.5 0.5h-23c-0.271 0-0.5-0.229-0.5-0.5v-27c0-0.271 0.229-0.5 0.5-0.5 0 0 15.499-0 15.5 0v7c0 0.552 0.448 1 1 1h7v19.5z\"></path>\n",
       "<path d=\"M23 26h-14c-0.552 0-1-0.448-1-1s0.448-1 1-1h14c0.552 0 1 0.448 1 1s-0.448 1-1 1z\"></path>\n",
       "<path d=\"M23 22h-14c-0.552 0-1-0.448-1-1s0.448-1 1-1h14c0.552 0 1 0.448 1 1s-0.448 1-1 1z\"></path>\n",
       "<path d=\"M23 18h-14c-0.552 0-1-0.448-1-1s0.448-1 1-1h14c0.552 0 1 0.448 1 1s-0.448 1-1 1z\"></path>\n",
       "</symbol>\n",
       "</defs>\n",
       "</svg><style id=\"scipp-style-sheet\">.sc-root{--sc-background-color0:var(--jp-layout-color0,#fff);--sc-background-color1:var(--jp-layout-color1,#fcfcfc);--sc-background-color2:var(--jp-layout-color2,#efefef);--sc-inverse-background-color0:var(--jp-inverse-layout-color4,#111);--sc-font-color0:var(--jp-content-font-color0,#000);--sc-font-color1:var(--jp-content-font-color1,#555);--sc-font-color2:var(--jp-content-font-color2,#888);--sc-font-color3:var(--jp-content-font-color3,#ccc);--sc-table-data-color:#f6d028;--sc-table-coords-color:#c6e590;--sc-table-masks-color:#c8c8c8;--sc-table-attrs-color:#ff5555;--sc-table-header-font-color:#111111;}.sc-wrap{font-size:14px;min-width:300px;max-width:800px;}.sc-var-attrs .sc-wrap{padding-left:3em;}.sc-header{padding-top:6px;padding-bottom:6px;margin-bottom:4px;border-bottom:solid 1px #ddd;}.sc-header > div,.sc-header > ul{display:inline;margin-top:0;margin-bottom:0;}.sc-obj-type,.sc-array-name{margin-left:2px;margin-right:10px;}.sc-obj-type{color:var(--sc-font-color1);}.sc-underlying-size{color:var(--sc-font-color2);}.sc-sections,.reveal .sc-sections{padding-left:0 !important;display:grid;grid-template-columns:150px auto auto auto 1fr 20px 20px;}.sc-section-item{display:contents;}.sc-section-item input{display:none;}.sc-section-item input:enabled + label{cursor:pointer;color:var(--sc-font-color1);}.sc-section-item input:enabled + label:hover{color:var(--sc-font-color0);}.sc-section-summary{grid-column:1;font-weight:500;}.sc-section-summary > span{display:inline-block;padding-left:0.5em;}.sc-section-summary-in:disabled + label{color:var(--sc-font-color1);}.sc-section-summary-in + label:before{display:inline-block;content:'►';font-size:11px;width:15px;text-align:center;}.sc-section-summary-in:disabled + label:before{color:var(--sc-font-color3);}.sc-section-summary-in:checked + label:before{content:'▼';}.sc-section-summary-in:checked + label > span{display:none;}.sc-section-summary,.sc-section-inline-details{padding-top:4px;padding-bottom:4px;}.sc-section-inline-details{grid-column:2 / 6;}.sc-section-details{display:none;grid-column:1 / -1;margin-bottom:5px;}.sc-section-summary-in:checked ~ .sc-section-details{display:contents;}.sc-array-wrap{grid-column:1 / -1;display:grid;grid-template-columns:20px auto;}.sc-array-wrap > label{grid-column:1;vertical-align:top;}.sc-preview{color:var(--sc-font-color2);}.sc-array-preview,.sc-array-data{padding:0 5px !important;grid-column:2;}.sc-array-data,.sc-array-in:checked ~ .sc-array-preview{display:none;}.sc-array-in:checked ~ .sc-array-data,.sc-array-preview{display:inline-block;}.sc-dim-list{display:inline-block !important;list-style:none;padding:0 !important;margin:0;}.sc-dim-list li{display:inline-block;padding:0;margin:0!important;}.sc-dim-list:before{content:'(';}.sc-dim-list:after{content:')';}.sc-dim-list li:not(:last-child):after{content:',';padding-right:5px;}.sc-dim-list li span,.sc-standalone-var-name > span span,.sc-var-name > span span{padding:0 !important;}.sc-aligned{font-weight:bold;}.sc-var-list,.sc-var-item,.reveal .sc-var-list,.reveal .sc-var-item{display:contents;}.sc-var-item > div,.sc-var-item label,.sc-var-item > .sc-var-name span{background-color:var(--sc-background-color1);margin-bottom:0;}.sc-var-item > .sc-var-name:hover span{padding-right:5px;}.sc-var-list > li:nth-child(odd) > div,.sc-var-list > li:nth-child(odd) > label,.sc-var-list > li:nth-child(odd) > .sc-var-name span{background-color:var(--sc-background-color2);}.sc-var-name{grid-column:1;}.sc-var-dims{grid-column:2;}.sc-var-dtype{grid-column:3;text-align:right;color:var(--sc-font-color2);}.sc-var-unit{grid-column:4;text-align:left;color:var(--sc-font-color1);max-width:50pt;text-overflow:ellipsis;}.sc-value-preview{grid-column:5;}.sc-var-preview-variances{text-align:right;}.sc-sections .sc-section-item .sc-section-summary,.sc-sections .sc-section-item .sc-section-inline-details,.sc-section-item .sc-var-list .sc-var-item > div,.sc-section-item .sc-var-list .sc-var-item > label,.sc-section-details .sc-var-list .sc-var-item > div,.sc-section-details .sc-var-list .sc-var-item > label{margin-top:0;margin-bottom:0;}.sc-var-name,.sc-var-dims,.sc-var-dtype,.sc-var-unit,.sc-preview,.sc-attrs dt{white-space:nowrap;overflow:hidden;text-overflow:ellipsis;padding-right:10px;}.sc-var-name:hover,.sc-var-dims:hover,.sc-var-dtype:hover,.sc-var-unit:hover,.sc-attrs dt:hover{overflow:visible;width:auto;z-index:1;}.sc-var-attrs{display:block;}.sc-var-data,.reveal .sc-var-data{display:none;}.sc-var-attrs,.sc-var-data{background-color:var(--sc-background-color0) !important;padding-bottom:5px !important;}.sc-var-attrs-in:checked ~ .sc-var-attrs{display:none;}.sc-var-data-in:checked ~ .sc-var-data{display:block;}.sc-var-data > table{float:right;}.sc-var-name span,.sc-var-data{padding-left:25px !important;}.sc-var-attrs,.sc-var-data{grid-column:1 / -1;}dl.sc-attrs{padding:0;margin:0;display:grid;grid-template-columns:125px auto;}.sc-attrs dt,dd{padding:0;margin:0;float:left;padding-right:10px;width:auto;}.sc-attrs dt{font-weight:normal;grid-column:1;}.sc-attrs dt:hover span{display:inline-block;padding-right:10px;}.sc-attrs dd{grid-column:2;white-space:pre-wrap;word-break:break-all;}.sc-icon-database,.sc-icon-file-text2{display:inline-block;vertical-align:middle;width:1em;height:1.5em !important;stroke-width:0;stroke:currentColor;fill:currentColor;}label.sc-hide-icon svg{opacity:0;}.sc-standalone-var-name{grid-column:1/3;}.sc-standalone-var-name span{padding-left:25px;padding-right:10px;}.sc-table{border-collapse:collapse;}.sc-title{font-weight:bold;font-size:1.5em;}.sc-subtitle{font-weight:normal;font-style:italic;text-align:left;font-size:1.2em;padding:1px;}.sc-table th,.sc-table td{border:1px solid var(--sc-inverse-background-color0);padding:0 5px 0 5px;}.sc-table th{text-align:center;}.sc-table tr{background-color:var(--sc-background-color1);text-align:right;}.sc-table tr:hover{background-color:var(--sc-background-color2);}.sc-table th.sc-data{background-color:var(--sc-table-data-color);color:var(--sc-table-header-font-color);}.sc-table th.sc-coords{background-color:var(--sc-table-coords-color);color:var(--sc-table-header-font-color);}.sc-table th.sc-masks{background-color:var(--sc-table-masks-color);color:var(--sc-table-header-font-color);}.sc-table th.sc-attrs{background-color:var(--sc-table-attrs-color);color:var(--sc-table-header-font-color);}.sc-table th.sc-subheader{background-color:var(--sc-background-color2);}.sc-table td.sc-padding{background-color:var(--sc-background-color1);border:0 solid var(--sc-background-color1);height:1.2em;}.sc-label{fill:var(--sc-font-color0,#444444);text-anchor:middle;}.sc-name{fill:var(--sc-font-color0,#111111);}.sc-inset-line{stroke:var(--sc-font-color1);stroke-width:0.05;stroke-dasharray:0.2,0.2;}.sc-log-wrap{height:25ex;resize:vertical;overflow-y:scroll;display:flex;flex-direction:column-reverse;border:1px solid;border-color:var(--jp-border-color2);background-color:var(--sc-background-color1);}div.sc-log{line-height:2.5ex;}table.sc-log{table-layout:auto;border-collapse:collapse;}tr.sc-log:nth-child(even){background-color:var(--sc-background-color0);}tr.sc-log > td{vertical-align:top;padding-bottom:0.5ex;}.sc-log-time-stamp{min-width:22ch;font-family:var(--jp-code-font-family);color:var(--sc-font-color2);}.sc-log-level{min-width:10ch;}tr.sc-log-debug td.sc-log-level{color:var(--jp-accent-color1);}tr.sc-log-info td.sc-log-level{color:var(--jp-info-color1);}tr.sc-log-warning td.sc-log-level{color:var(--jp-warn-color1);}tr.sc-log-error td.sc-log-level{font-weight:bold;color:var(--jp-error-color2);}tr.sc-log-critical td.sc-log-level{font-weight:bold;color:var(--sc-background-color0);background-color:var(--jp-error-color1);}.sc-log-message{white-space:pre-wrap;width:100%;}.sc-log-html-payload{white-space:normal;}.sc-log-name{padding-right:0.5em;text-align:right;white-space:pre-wrap;color:var(--sc-font-color3);}</style><div class='sc-wrap sc-root'><div class='sc-header'><div class='sc-obj-type'>scipp.DataArray (13.51 KB)</div></div><ul class='sc-sections'><li class='sc-section-item'><input id='section-a88b4ca4-a843-4b76-8419-30d94259d191' class='sc-section-summary-in' type='checkbox' disabled ><label for='section-a88b4ca4-a843-4b76-8419-30d94259d191' class='sc-section-summary'  title='Expand/collapse section'>Dimensions:</label><div class='sc-section-inline-details'><ul class='sc-dim-list'><li><span class='sc-has-index'>Q</span>: 109</li><li><span class='sc-has-index'>wavelength</span>: 10</li></ul></div><div class='sc-section-details'></div></li><li class='sc-section-item'><input id='section-1c2800b3-e3ce-4c65-9611-db94614beeb6' class='sc-section-summary-in' type='checkbox'  checked><label for='section-1c2800b3-e3ce-4c65-9611-db94614beeb6' class='sc-section-summary' >Coordinates: <span>(10)</span></label><div class='sc-section-inline-details'></div><div class='sc-section-details'><ul class='sc-var-list'><li class='sc-var-item'><div class='sc-var-name'><span>L1</span></div><div class='sc-var-dims'>()</div><div class='sc-var-dtype'>float64</div><div class='sc-var-unit'>m</div><div class='sc-value-preview sc-preview'><span><div>25.61</div></span></div><input id='attrs-d403151b-43ab-487e-9a07-7dddb1fce92a' class='sc-var-attrs-in' type='checkbox' disabled><label for='attrs-d403151b-43ab-487e-9a07-7dddb1fce92a' class='sc-hide-icon' title='Show/Hide attributes'><svg class='icon sc-icon-file-text2'><use xlink:href='#icon-file-text2'></use></svg></label><input id='data-397cb5db-a7d8-4e32-96a0-8b0ee1a4548a' class='sc-var-data-in' type='checkbox'><label for='data-397cb5db-a7d8-4e32-96a0-8b0ee1a4548a' title='Show/Hide data repr'><svg class='icon sc-icon-database'><use xlink:href='#icon-database'></use></svg></label><pre class='sc-var-data'>Values:<br>array(25.61)</pre></span></li><li class='sc-var-item'><div class='sc-var-name'><span class='sc-aligned'>Q</span></div><div class='sc-var-dims'>(Q [bin-edge])</div><div class='sc-var-dtype'>float64</div><div class='sc-var-unit'>1/Å</div><div class='sc-value-preview sc-preview'><span><div>0.004, 0.008, ..., 0.396, 0.4</div></span></div><input id='attrs-b0c6e219-b4c3-4822-99c6-3454788e35ac' class='sc-var-attrs-in' type='checkbox' disabled><label for='attrs-b0c6e219-b4c3-4822-99c6-3454788e35ac' class='sc-hide-icon' title='Show/Hide attributes'><svg class='icon sc-icon-file-text2'><use xlink:href='#icon-file-text2'></use></svg></label><input id='data-c2fad4c6-dd6f-42a2-9764-5ae202e8a448' class='sc-var-data-in' type='checkbox'><label for='data-c2fad4c6-dd6f-42a2-9764-5ae202e8a448' title='Show/Hide data repr'><svg class='icon sc-icon-database'><use xlink:href='#icon-database'></use></svg></label><pre class='sc-var-data'>Values:<br>array([0.004     , 0.00763303, 0.01126606, 0.01489908, 0.01853211,\n",
       "       0.02216514, 0.02579817, 0.02943119, 0.03306422, 0.03669725,\n",
       "       0.04033028, 0.0439633 , 0.04759633, 0.05122936, 0.05486239,\n",
       "       0.05849541, 0.06212844, 0.06576147, 0.0693945 , 0.07302752,\n",
       "       0.07666055, 0.08029358, 0.08392661, 0.08755963, 0.09119266,\n",
       "       0.09482569, 0.09845872, 0.10209174, 0.10572477, 0.1093578 ,\n",
       "       0.11299083, 0.11662385, 0.12025688, 0.12388991, 0.12752294,\n",
       "       0.13115596, 0.13478899, 0.13842202, 0.14205505, 0.14568807,\n",
       "       0.1493211 , 0.15295413, 0.15658716, 0.16022018, 0.16385321,\n",
       "       0.16748624, 0.17111927, 0.17475229, 0.17838532, 0.18201835,\n",
       "       0.18565138, 0.1892844 , 0.19291743, 0.19655046, 0.20018349,\n",
       "       0.20381651, 0.20744954, 0.21108257, 0.2147156 , 0.21834862,\n",
       "       0.22198165, 0.22561468, 0.22924771, 0.23288073, 0.23651376,\n",
       "       0.24014679, 0.24377982, 0.24741284, 0.25104587, 0.2546789 ,\n",
       "       0.25831193, 0.26194495, 0.26557798, 0.26921101, 0.27284404,\n",
       "       0.27647706, 0.28011009, 0.28374312, 0.28737615, 0.29100917,\n",
       "       0.2946422 , 0.29827523, 0.30190826, 0.30554128, 0.30917431,\n",
       "       0.31280734, 0.31644037, 0.32007339, 0.32370642, 0.32733945,\n",
       "       0.33097248, 0.3346055 , 0.33823853, 0.34187156, 0.34550459,\n",
       "       0.34913761, 0.35277064, 0.35640367, 0.3600367 , 0.36366972,\n",
       "       0.36730275, 0.37093578, 0.37456881, 0.37820183, 0.38183486,\n",
       "       0.38546789, 0.38910092, 0.39273394, 0.39636697, 0.4       ])</pre></span></li><li class='sc-var-item'><div class='sc-var-name'><span>gravity</span></div><div class='sc-var-dims'>()</div><div class='sc-var-dtype'>vector3</div><div class='sc-var-unit'>m/s^2</div><div class='sc-value-preview sc-preview'><span><div>[ 0.      -9.80665  0.     ]</div></span></div><input id='attrs-2f90b10a-7b26-43d1-abbe-d489f3927254' class='sc-var-attrs-in' type='checkbox' disabled><label for='attrs-2f90b10a-7b26-43d1-abbe-d489f3927254' class='sc-hide-icon' title='Show/Hide attributes'><svg class='icon sc-icon-file-text2'><use xlink:href='#icon-file-text2'></use></svg></label><input id='data-cf5417cf-b3bc-4050-a2c2-01ed93372c22' class='sc-var-data-in' type='checkbox'><label for='data-cf5417cf-b3bc-4050-a2c2-01ed93372c22' title='Show/Hide data repr'><svg class='icon sc-icon-database'><use xlink:href='#icon-database'></use></svg></label><pre class='sc-var-data'>Values:<br>array([ 0.     , -9.80665,  0.     ])</pre></span></li><li class='sc-var-item'><div class='sc-var-name'><span>incident_beam</span></div><div class='sc-var-dims'>()</div><div class='sc-var-dtype'>vector3</div><div class='sc-var-unit'>m</div><div class='sc-value-preview sc-preview'><span><div>[ 0.    0.   25.61]</div></span></div><input id='attrs-a6f8bf9e-a676-4165-96c3-0173a24e9c6d' class='sc-var-attrs-in' type='checkbox' disabled><label for='attrs-a6f8bf9e-a676-4165-96c3-0173a24e9c6d' class='sc-hide-icon' title='Show/Hide attributes'><svg class='icon sc-icon-file-text2'><use xlink:href='#icon-file-text2'></use></svg></label><input id='data-ff572106-ad81-49e1-b328-ae01d5c729c9' class='sc-var-data-in' type='checkbox'><label for='data-ff572106-ad81-49e1-b328-ae01d5c729c9' title='Show/Hide data repr'><svg class='icon sc-icon-database'><use xlink:href='#icon-database'></use></svg></label><pre class='sc-var-data'>Values:<br>array([ 0.  ,  0.  , 25.61])</pre></span></li><li class='sc-var-item'><div class='sc-var-name'><span class='sc-aligned'>pixel_height</span></div><div class='sc-var-dims'>()</div><div class='sc-var-dtype'>float64</div><div class='sc-var-unit'>m</div><div class='sc-value-preview sc-preview'><span><div>0.0117188</div></span></div><input id='attrs-6eb2b81d-338f-4fd1-b27c-f299e13e0af1' class='sc-var-attrs-in' type='checkbox' disabled><label for='attrs-6eb2b81d-338f-4fd1-b27c-f299e13e0af1' class='sc-hide-icon' title='Show/Hide attributes'><svg class='icon sc-icon-file-text2'><use xlink:href='#icon-file-text2'></use></svg></label><input id='data-89790537-12d4-4784-84e1-e4b1b96542a6' class='sc-var-data-in' type='checkbox'><label for='data-89790537-12d4-4784-84e1-e4b1b96542a6' title='Show/Hide data repr'><svg class='icon sc-icon-database'><use xlink:href='#icon-database'></use></svg></label><pre class='sc-var-data'>Values:<br>array(0.0117188)</pre></span></li><li class='sc-var-item'><div class='sc-var-name'><span class='sc-aligned'>pixel_shape</span></div><div class='sc-var-dims'>()</div><div class='sc-var-dtype'>DatasetView</div><div class='sc-var-unit'></div><div class='sc-value-preview sc-preview'><span><div>binned data [len=1]</div></span></div><input id='attrs-27d0dd61-d8fe-4af2-9daa-777d7958d205' class='sc-var-attrs-in' type='checkbox' disabled><label for='attrs-27d0dd61-d8fe-4af2-9daa-777d7958d205' class='sc-hide-icon' title='Show/Hide attributes'><svg class='icon sc-icon-file-text2'><use xlink:href='#icon-file-text2'></use></svg></label><input id='data-3f0dccfe-fd57-49f3-a69f-514d4461083c' class='sc-var-data-in' type='checkbox'><label for='data-3f0dccfe-fd57-49f3-a69f-514d4461083c' title='Show/Hide data repr'><svg class='icon sc-icon-database'><use xlink:href='#icon-database'></use></svg></label><pre class='sc-var-data'>&lt;scipp.Variable&gt; ()  DatasetView        &lt;no unit&gt;  &lt;scipp.Dataset&gt;\n",
       "Dimensions: Sizes[cylinder:1, ]\n",
       "Data:\n",
       "  face1_center              vector3              [m]  (cylinder)  [(0, 0, 0)]\n",
       "  face1_edge                vector3              [m]  (cylinder)  [(0, -0.00257703, 0.00305923)]\n",
       "  face2_center              vector3              [m]  (cylinder)  [(0.00194919, 0, 0)]\n",
       "\n",
       "</pre></span></li><li class='sc-var-item'><div class='sc-var-name'><span class='sc-aligned'>pixel_width</span></div><div class='sc-var-dims'>()</div><div class='sc-var-dtype'>float64</div><div class='sc-var-unit'>m</div><div class='sc-value-preview sc-preview'><span><div>0.0075</div></span></div><input id='attrs-9be88fb2-4a0f-427a-9c8e-655f7003567b' class='sc-var-attrs-in' type='checkbox' disabled><label for='attrs-9be88fb2-4a0f-427a-9c8e-655f7003567b' class='sc-hide-icon' title='Show/Hide attributes'><svg class='icon sc-icon-file-text2'><use xlink:href='#icon-file-text2'></use></svg></label><input id='data-cfdc02d7-63d6-42f8-8e71-d4095ac2ad3c' class='sc-var-data-in' type='checkbox'><label for='data-cfdc02d7-63d6-42f8-8e71-d4095ac2ad3c' title='Show/Hide data repr'><svg class='icon sc-icon-database'><use xlink:href='#icon-database'></use></svg></label><pre class='sc-var-data'>Values:<br>array(0.0075)</pre></span></li><li class='sc-var-item'><div class='sc-var-name'><span>sample_position</span></div><div class='sc-var-dims'>()</div><div class='sc-var-dtype'>vector3</div><div class='sc-var-unit'>m</div><div class='sc-value-preview sc-preview'><span><div>[0. 0. 0.]</div></span></div><input id='attrs-a2df0518-0230-4b27-9dac-f2f50033b410' class='sc-var-attrs-in' type='checkbox' disabled><label for='attrs-a2df0518-0230-4b27-9dac-f2f50033b410' class='sc-hide-icon' title='Show/Hide attributes'><svg class='icon sc-icon-file-text2'><use xlink:href='#icon-file-text2'></use></svg></label><input id='data-7697c046-5110-4cb0-ad99-2947beb0ff89' class='sc-var-data-in' type='checkbox'><label for='data-7697c046-5110-4cb0-ad99-2947beb0ff89' title='Show/Hide data repr'><svg class='icon sc-icon-database'><use xlink:href='#icon-database'></use></svg></label><pre class='sc-var-data'>Values:<br>array([0., 0., 0.])</pre></span></li><li class='sc-var-item'><div class='sc-var-name'><span>source_position</span></div><div class='sc-var-dims'>()</div><div class='sc-var-dtype'>vector3</div><div class='sc-var-unit'>m</div><div class='sc-value-preview sc-preview'><span><div>[  0.     0.   -25.61]</div></span></div><input id='attrs-cfcd7693-57e5-43e7-b53d-5915e4e684f5' class='sc-var-attrs-in' type='checkbox' disabled><label for='attrs-cfcd7693-57e5-43e7-b53d-5915e4e684f5' class='sc-hide-icon' title='Show/Hide attributes'><svg class='icon sc-icon-file-text2'><use xlink:href='#icon-file-text2'></use></svg></label><input id='data-2eb1cd43-b8ec-4b01-98f8-9f6192980e12' class='sc-var-data-in' type='checkbox'><label for='data-2eb1cd43-b8ec-4b01-98f8-9f6192980e12' title='Show/Hide data repr'><svg class='icon sc-icon-database'><use xlink:href='#icon-database'></use></svg></label><pre class='sc-var-data'>Values:<br>array([  0.  ,   0.  , -25.61])</pre></span></li><li class='sc-var-item'><div class='sc-var-name'><span class='sc-aligned'>wavelength</span></div><div class='sc-var-dims'>(wavelength [bin-edge])</div><div class='sc-var-dtype'>float64</div><div class='sc-var-unit'>Å</div><div class='sc-value-preview sc-preview'><span><div>2.2, 3.18, ..., 11.02, 12.0</div></span></div><input id='attrs-2450acc7-acff-44fb-8d0e-b2b392581f72' class='sc-var-attrs-in' type='checkbox' disabled><label for='attrs-2450acc7-acff-44fb-8d0e-b2b392581f72' class='sc-hide-icon' title='Show/Hide attributes'><svg class='icon sc-icon-file-text2'><use xlink:href='#icon-file-text2'></use></svg></label><input id='data-979342a7-55b8-46c4-8b1c-9d643b845dbd' class='sc-var-data-in' type='checkbox'><label for='data-979342a7-55b8-46c4-8b1c-9d643b845dbd' title='Show/Hide data repr'><svg class='icon sc-icon-database'><use xlink:href='#icon-database'></use></svg></label><pre class='sc-var-data'>Values:<br>array([ 2.2 ,  3.18,  4.16,  5.14,  6.12,  7.1 ,  8.08,  9.06, 10.04,\n",
       "       11.02, 12.  ])</pre></span></li></ul></div></li><li class='sc-section-item'><input id='section-77e3e8f7-df1e-484b-a9f2-fcdf01341c1e' class='sc-section-summary-in' type='checkbox'  checked><label for='section-77e3e8f7-df1e-484b-a9f2-fcdf01341c1e' class='sc-section-summary' >Data: <span>(1)</span></label><div class='sc-section-inline-details'></div><div class='sc-section-details'><ul class='sc-var-list'><li class='sc-var-item'><div class='sc-var-name'><span></span></div><div class='sc-var-dims'>(Q, wavelength)</div><div class='sc-var-dtype'>float32</div><div class='sc-var-unit'>counts</div><div class='sc-value-preview sc-preview'><span><div>0.0, 0.0, ..., 0.0, 0.0</div></span></div><input id='attrs-bc1de931-d24e-4243-9a15-77b25b1761a9' class='sc-var-attrs-in' type='checkbox' disabled><label for='attrs-bc1de931-d24e-4243-9a15-77b25b1761a9' class='sc-hide-icon' title='Show/Hide attributes'><svg class='icon sc-icon-file-text2'><use xlink:href='#icon-file-text2'></use></svg></label><input id='data-2afea4fc-4ccc-47e8-b161-bb5d3ba5eaf4' class='sc-var-data-in' type='checkbox'><label for='data-2afea4fc-4ccc-47e8-b161-bb5d3ba5eaf4' title='Show/Hide data repr'><svg class='icon sc-icon-database'><use xlink:href='#icon-database'></use></svg></label><pre class='sc-var-data'>Values:<br>array([[0.        , 0.        , 0.        , ..., 0.00014843, 0.00013951,\n",
       "        0.00012269],\n",
       "       [0.        , 0.00018428, 0.00018661, ..., 0.00013342, 0.00012795,\n",
       "        0.0001199 ],\n",
       "       [0.00053659, 0.00020966, 0.00017955, ..., 0.0001243 , 0.00012059,\n",
       "        0.00010977],\n",
       "       ...,\n",
       "       [0.        , 0.        , 0.        , ..., 0.        , 0.        ,\n",
       "        0.        ],\n",
       "       [0.        , 0.        , 0.        , ..., 0.        , 0.        ,\n",
       "        0.        ],\n",
       "       [0.        , 0.        , 0.        , ..., 0.        , 0.        ,\n",
       "        0.        ]], dtype=float32)</pre></li></ul></div></li><li class='sc-section-item'><input id='section-f2cff022-9eca-485e-bd27-952571a9f2bd' class='sc-section-summary-in' type='checkbox'  checked><label for='section-f2cff022-9eca-485e-bd27-952571a9f2bd' class='sc-section-summary' >Attributes: <span>(5)</span></label><div class='sc-section-inline-details'></div><div class='sc-section-details'><ul class='sc-var-list'><li class='sc-var-item'><div class='sc-var-name'><span>end_time</span></div><div class='sc-var-dims'>()</div><div class='sc-var-dtype'>string</div><div class='sc-var-unit'></div><div class='sc-value-preview sc-preview'><span><div>2032-02-29T09:15:00.000Z</div></span></div><input id='attrs-ca920801-64fe-44ad-8e95-e6b03ce5b79c' class='sc-var-attrs-in' type='checkbox' disabled><label for='attrs-ca920801-64fe-44ad-8e95-e6b03ce5b79c' class='sc-hide-icon' title='Show/Hide attributes'><svg class='icon sc-icon-file-text2'><use xlink:href='#icon-file-text2'></use></svg></label><input id='data-942181be-7079-4b9b-a46f-7619eb07ec2e' class='sc-var-data-in' type='checkbox'><label for='data-942181be-7079-4b9b-a46f-7619eb07ec2e' title='Show/Hide data repr'><svg class='icon sc-icon-database'><use xlink:href='#icon-database'></use></svg></label><pre class='sc-var-data'>Values:<br>&#x27;2032-02-29T09:15:00.000Z&#x27;</pre></li><li class='sc-var-item'><div class='sc-var-name'><span>experiment_title</span></div><div class='sc-var-dims'>()</div><div class='sc-var-dtype'>string</div><div class='sc-var-unit'></div><div class='sc-value-preview sc-preview'><span><div>My experiment</div></span></div><input id='attrs-4314bcdb-7066-45d7-9ca4-aa914d86afa5' class='sc-var-attrs-in' type='checkbox' disabled><label for='attrs-4314bcdb-7066-45d7-9ca4-aa914d86afa5' class='sc-hide-icon' title='Show/Hide attributes'><svg class='icon sc-icon-file-text2'><use xlink:href='#icon-file-text2'></use></svg></label><input id='data-806eb4cc-851b-4d36-8fb9-cfc4cf5f4344' class='sc-var-data-in' type='checkbox'><label for='data-806eb4cc-851b-4d36-8fb9-cfc4cf5f4344' title='Show/Hide data repr'><svg class='icon sc-icon-database'><use xlink:href='#icon-database'></use></svg></label><pre class='sc-var-data'>Values:<br>&#x27;My experiment&#x27;</pre></li><li class='sc-var-item'><div class='sc-var-name'><span>position_transformations</span></div><div class='sc-var-dims'>()</div><div class='sc-var-dtype'>Variable</div><div class='sc-var-unit'></div><div class='sc-value-preview sc-preview'><span><div>&lt;scipp.Variable&gt; ()  translation3              [m]  (-0.499023, 0.43556, 4.099)</div></span></div><input id='attrs-2740218f-9f9e-4423-ab4f-c8c12a3e83c3' class='sc-var-attrs-in' type='checkbox' disabled><label for='attrs-2740218f-9f9e-4423-ab4f-c8c12a3e83c3' class='sc-hide-icon' title='Show/Hide attributes'><svg class='icon sc-icon-file-text2'><use xlink:href='#icon-file-text2'></use></svg></label><input id='data-92c0eada-7170-47ac-a258-279f3fc7f91a' class='sc-var-data-in' type='checkbox'><label for='data-92c0eada-7170-47ac-a258-279f3fc7f91a' title='Show/Hide data repr'><svg class='icon sc-icon-database'><use xlink:href='#icon-database'></use></svg></label><pre class='sc-var-data'>Values:<br>&lt;scipp.Variable&gt; ()  translation3              [m]  (-0.499023, 0.43556, 4.099)</pre></li><li class='sc-var-item'><div class='sc-var-name'><span>source</span></div><div class='sc-var-dims'>()</div><div class='sc-var-dtype'>PyObject</div><div class='sc-var-unit'></div><div class='sc-value-preview sc-preview'><span><div>DataGroup(sizes={}, keys=[&#x27;name&#x27;, &#x27;probe&#x27;, &#x27;type&#x27;, &#x27;depends_on&#x27;])</div></span></div><input id='attrs-b0069640-1ab9-4cd3-88f2-2100be3fa303' class='sc-var-attrs-in' type='checkbox' disabled><label for='attrs-b0069640-1ab9-4cd3-88f2-2100be3fa303' class='sc-hide-icon' title='Show/Hide attributes'><svg class='icon sc-icon-file-text2'><use xlink:href='#icon-file-text2'></use></svg></label><input id='data-35d37d95-fd3f-4211-8c73-ad7cac71bc7c' class='sc-var-data-in' type='checkbox'><label for='data-35d37d95-fd3f-4211-8c73-ad7cac71bc7c' title='Show/Hide data repr'><svg class='icon sc-icon-database'><use xlink:href='#icon-database'></use></svg></label><pre class='sc-var-data'>Values:<br>DataGroup(sizes={}, keys=[\n",
       "    name: moderato,\n",
       "    probe: neutro,\n",
       "    type: Spallation Neutron Sourc,\n",
       "    depends_on: Variable({}),\n",
       "])</pre></li><li class='sc-var-item'><div class='sc-var-name'><span>start_time</span></div><div class='sc-var-dims'>()</div><div class='sc-var-dtype'>string</div><div class='sc-var-unit'></div><div class='sc-value-preview sc-preview'><span><div>2022-02-28T21:15:00.000Z</div></span></div><input id='attrs-48847f1e-ce63-4599-bbfd-ae3a1571faea' class='sc-var-attrs-in' type='checkbox' disabled><label for='attrs-48847f1e-ce63-4599-bbfd-ae3a1571faea' class='sc-hide-icon' title='Show/Hide attributes'><svg class='icon sc-icon-file-text2'><use xlink:href='#icon-file-text2'></use></svg></label><input id='data-2728633a-59f2-4145-bb6d-e7ae0b1dced3' class='sc-var-data-in' type='checkbox'><label for='data-2728633a-59f2-4145-bb6d-e7ae0b1dced3' title='Show/Hide data repr'><svg class='icon sc-icon-database'><use xlink:href='#icon-database'></use></svg></label><pre class='sc-var-data'>Values:<br>&#x27;2022-02-28T21:15:00.000Z&#x27;</pre></li></ul></div></li></ul></div></div>"
      ],
      "text/plain": [
       "<scipp.DataArray>\n",
       "Dimensions: Sizes[Q:109, wavelength:10, ]\n",
       "Coordinates:\n",
       "  L1                        float64              [m]  ()  25.61\n",
       "* Q                         float64           [1/Å]  (Q [bin-edge])  [0.004, 0.00763303, ..., 0.396367, 0.4]\n",
       "  gravity                   vector3          [m/s^2]  ()  (0, -9.80665, 0)\n",
       "  incident_beam             vector3              [m]  ()  (0, 0, 25.61)\n",
       "* pixel_height              float64              [m]  ()  0.0117188\n",
       "* pixel_shape             DatasetView        <no unit>  ()  <scipp.Dataset>\n",
       "Dimensions: Sizes[cylinder:1, ]\n",
       "Data:\n",
       "  face1_center              vector3              [m]  (cylinder)  [(0, 0, 0)]\n",
       "  face1_edge                vector3              [m]  (cylinder)  [(0, -0.00257703, 0.00305923)]\n",
       "  face2_center              vector3              [m]  (cylinder)  [(0.00194919, 0, 0)]\n",
       "\n",
       "\n",
       "* pixel_width               float64              [m]  ()  0.0075\n",
       "  sample_position           vector3              [m]  ()  (0, 0, 0)\n",
       "  source_position           vector3              [m]  ()  (0, 0, -25.61)\n",
       "* wavelength                float64             [Å]  (wavelength [bin-edge])  [2.2, 3.18, ..., 11.02, 12]\n",
       "Data:\n",
       "                            float32         [counts]  (Q, wavelength)  [0, 0, ..., 0, 0]\n",
       "Attributes:\n",
       "  end_time                   string        <no unit>  ()  \"2032-02-29T09:15:00.000Z\"\n",
       "  experiment_title           string        <no unit>  ()  \"My experiment\"\n",
       "  position_transformations Variable        <no unit>  ()  Variable(dims=(), dtype=translation3, unit=m)\n",
       "  source                   PyObject        <no unit>  ()  DataGroup(sizes={}, keys=['name', 'probe', 'type', 'depends_on'])\n",
       "  start_time                 string        <no unit>  ()  \"2022-02-28T21:15:00.000Z\"\n"
      ]
     },
     "execution_count": 54,
     "metadata": {},
     "output_type": "execute_result"
    }
   ],
   "source": [
    "wavelength_bands = sc.linspace(dim='wavelength', start=2.2, stop=12.0, num=11,\n",
    "                               unit='angstrom')\n",
    "\n",
    "sample_slices = sans.to_I_of_Q(data=ds['sample'],\n",
    "    data_monitors=sample_monitors,\n",
    "    direct_monitors=sample_monitors,\n",
    "    direct_beam=direct_beam,\n",
    "    wavelength_bins=wavelength_bins,\n",
    "    q_bins=q_bins,\n",
    "    gravity=gravity,\n",
    "    wavelength_bands=wavelength_bands,\n",
    "    wavelength_mask=wavelength_mask)\n",
    "\n",
    "background_slices = sans.to_I_of_Q(data=ds['background'],\n",
    "    data_monitors=background_monitors,\n",
    "    direct_monitors=background_monitors,\n",
    "    direct_beam=direct_beam,\n",
    "    wavelength_bins=wavelength_bins,\n",
    "    q_bins=q_bins,\n",
    "    gravity=gravity,\n",
    "    wavelength_bands=wavelength_bands,\n",
    "    wavelength_mask=wavelength_mask)\n",
    "\n",
    "result_slices = sample_slices.bins.sum() - background_slices.bins.sum()\n",
    "result_slices"
   ]
  },
  {
   "cell_type": "code",
   "execution_count": 55,
   "id": "60c03e8c-4533-471e-8483-3c0c555fae7d",
   "metadata": {},
   "outputs": [
    {
     "data": {
      "application/vnd.jupyter.widget-view+json": {
       "model_id": "2715c5aaeed6401589f9cf1bbb4c219e",
       "version_major": 2,
       "version_minor": 0
      },
      "text/plain": [
       "InteractiveFig(children=(HBar(), HBox(children=(VBar(children=(Toolbar(children=(ButtonTool(icon='home', layou…"
      ]
     },
     "execution_count": 55,
     "metadata": {},
     "output_type": "execute_result"
    },
    {
     "data": {
      "application/vnd.jupyter.widget-view+json": {
       "model_id": "ec772cb7970746fda38b09d19ed816ed",
       "version_major": 2,
       "version_minor": 0
      },
      "image/png": "[encoded data removed]",
      "text/html": [
       "\n",
       "            <div style=\"display: inline-block;\">\n",
       "                <div class=\"jupyter-widgets widget-label\" style=\"text-align: center;\">\n",
       "                    Figure\n",
       "                </div>\n",
       "                <img src='data:image/png;base64,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' width=1000.0/>\n",
       "            </div>\n",
       "        "
      ],
      "text/plain": [
       "Canvas(toolbar=Toolbar(toolitems=[('Home', 'Reset original view', 'home', 'home'), ('Back', 'Back to previous …"
      ]
     },
     "metadata": {},
     "output_type": "display_data"
    }
   ],
   "source": [
    "collapsed = sc.collapse(result_slices, keep='Q')\n",
    "\n",
    "fig2, ax2 = plt.subplots(1, 2, figsize=(10, 4))\n",
    "sc.plot(collapsed, ax=ax2[0])\n",
    "sc.plot(collapsed, norm='log', ax=ax2[1])\n"
   ]
  },
  {
   "cell_type": "markdown",
   "id": "99eb897c-416e-479b-b714-4421149ca8f7",
   "metadata": {},
   "source": [
    "## Adding reduced data to scicat"
   ]
  },
  {
   "cell_type": "code",
   "execution_count": 56,
   "id": "7fc4bc46-a92b-4b1f-926b-f2adb4bb8c19",
   "metadata": {},
   "outputs": [],
   "source": [
    "\n",
    "\n",
    "# reduced = sample_local.derive()\n",
    "\n",
    "# reduced.add_local_files('./offspec.ort', base_path='.')\n",
    "# reduced.contact_email = 'andrew.mccluskey@ess.eu'\n",
    "# reduced.input_datasets.append(direct_beam_local.pid)\n",
    "# reduced.name = 'Reduced reflectometry data from QCS sample'\n",
    "# reduced.used_software = ['scipp-23.01.1']\n",
    "# reduced.investigator = 'Andrew R. McCluskey'\n",
    "# reduced.owner_group = sample_local.owner_group\n",
    "\n",
    "# reduced_up = client.upload_new_dataset_now(reduced)\n",
    "\n"
   ]
  },
  {
   "cell_type": "markdown",
   "id": "50c9e31c-c174-4db8-8f1b-aa87e8f81408",
   "metadata": {},
   "source": [
    "## References"
   ]
  },
  {
   "cell_type": "markdown",
   "id": "88bd6494-80f4-4bf7-b026-f14a1849bf53",
   "metadata": {},
   "source": [
    "<div id=\"manasi2021\"></div>\n",
    "\n",
    "Manasi I., Andalibi M. R., Atri R. S., Hooton J., King S. M., Edler K. J., **2021**,\n",
    "*Self-assembly of ionic and non-ionic surfactants in type IV cerium nitrate and urea based deep eutectic solvent*,\n",
    "[J. Chem. Phys. 155, 084902](https://doi.org/10.1063/5.0059238)"
   ]
  }
 ],
 "metadata": {
  "kernelspec": {
   "display_name": "Python 3 (ipykernel)",
   "language": "python",
   "name": "python3"
  },
  "language_info": {
   "codemirror_mode": {
    "name": "ipython",
    "version": 3
   },
   "file_extension": ".py",
   "mimetype": "text/x-python",
   "name": "python",
   "nbconvert_exporter": "python",
   "pygments_lexer": "ipython3",
   "version": "3.8.17"
  }
 },
 "nbformat": 4,
 "nbformat_minor": 5
}
