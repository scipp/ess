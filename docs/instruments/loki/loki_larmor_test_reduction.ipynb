{
 "cells": [
  {
   "cell_type": "markdown",
   "id": "9a935df3-c816-4829-99c3-2afa979b7611",
   "metadata": {},
   "source": [
    "# Data reduction workflow for files generated on Larmor instrument\n",
    "\n",
    "Some addhoc approximations will need to be done in order to satisfy SANS2D workflow, e.g direct measurments, tramsmission fraction. "
   ]
  },
  {
   "cell_type": "code",
   "execution_count": null,
   "id": "8c7f7cf7-0582-4953-a772-a0f87d1cf0e2",
   "metadata": {},
   "outputs": [],
   "source": [
    "import matplotlib.pyplot as plt\n",
    "import scipp as sc\n",
    "from ess import loki, sans\n",
    "import scippneutron as scn\n",
    "import plopp as pp"
   ]
  },
  {
   "cell_type": "markdown",
   "id": "b5d36f11-9903-48f8-a626-86f137995681",
   "metadata": {},
   "source": [
    "## Define reduction workflow parameters\n",
    "\n",
    "We define here whether to include the effects of gravity,\n",
    "as well as common time-of-flight, wavelength and $Q$ bins for all the measurements.\n",
    "\n",
    "We also define a range of wavelengths for the monitors that are considered to not be part of the background."
   ]
  },
  {
   "cell_type": "code",
   "execution_count": null,
   "id": "239166d6-d62f-46e9-8316-83c26f0f05ce",
   "metadata": {},
   "outputs": [],
   "source": [
    "# Include effects of gravity?\n",
    "gravity = True\n",
    "\n",
    "wavelength_bins = sc.linspace(dim='wavelength', start=0.9, stop=13.5, num=110,\n",
    "                              unit='angstrom')\n",
    "\n",
    "q_bins = sc.linspace(dim='Q', start=0.008, stop=0.6, num=55, unit='1/angstrom')\n",
    "\n",
    "# Define the range of wavelengths for the monitors that are considered\n",
    "# to not be part of the background - this will need to be changed\n",
    "monitor_non_background_range = sc.array(dims=['wavelength'],\n",
    "                                        values=[0.7, 17.1], unit='angstrom')"
   ]
  },
  {
   "cell_type": "markdown",
   "id": "bafd7ab4-d478-4c96-8196-69029fb221c4",
   "metadata": {},
   "source": [
    "## Loading data files\n",
    "\n",
    "We load the following files:\n",
    "\n",
    "- The direct beam function for the main detector (gives detector efficiency as a function of wavelength)\n",
    "- The sample measurement\n",
    "- The direct measurement: this is the run with the empty sample holder/cuvette\n",
    "- the background measurement: this is the run with only the solvent which the sample is placed in"
   ]
  },
  {
   "cell_type": "code",
   "execution_count": null,
   "id": "0315d002-9cab-4ae4-8f63-c72a532f716b",
   "metadata": {},
   "outputs": [],
   "source": [
    "#ds_id = sc.Dataset()\n",
    "\n",
    "sample_run_number = 60345\n",
    "sample_transmission_run_number = 60344\n",
    "background_run_number = 60337\n",
    "background_transmission_run_number = 60336\n",
    "\n",
    "path = '/Users/wojciechpotrzebowski/SCIPP_SPACE/loki_detector_test/2022-06-24_calibrated_nexus_files/'\n",
    "direct_beam = loki.io.load_rkh_wav(f'{path}/DirectBeam_20feb_full_v3.dat')\n",
    "#direct_beam = scn.load(f'{path}/flat_g4_final_15Jun23_10-17.nxs')\n",
    "\n",
    "sample = scn.load_nexus(data_file=f'{path}/{sample_run_number}-2022-02-28_2215.nxs')\n",
    "sample = sample.rename(detector_id = 'spectrum')\n",
    "\n",
    "\n",
    "sample_trans = scn.load_nexus(data_file=f'{path}/{sample_transmission_run_number}-2022-02-28_2215.nxs')\n",
    "sample_trans = sample_trans.rename(detector_id = 'spectrum')\n",
    "\n",
    "#TODO: How about direct?\n",
    "#ds['direct'] = scn.load(filename=f'{path}/LARMOR000{background_run_number}.nxs')\n",
    "\n",
    "background = scn.load_nexus(data_file=f'{path}/{background_run_number}-2022-02-28_2215.nxs')\n",
    "background = background.rename(detector_id = 'spectrum')\n",
    "\n",
    "background_trans = scn.load_nexus(data_file=f'{path}/{background_transmission_run_number}-2022-02-28_2215.nxs')\n",
    "background_trans = background_trans.rename(detector_id = 'spectrum')\n",
    "\n",
    "ds = {'sample': sample, 'sample_trans':sample_trans, 'background': background, 'background_trans': background_trans}"
   ]
  },
  {
   "cell_type": "code",
   "execution_count": null,
   "id": "02d826d7-cc71-46b5-88a0-646f1631cfe9",
   "metadata": {},
   "outputs": [],
   "source": [
    "# #TODO: Check if this step is necessary?\n",
    "# for key in ds.keys():\n",
    "#     ds[key] = ds[key].rename(detector_id = 'spectrum')\n",
    "# #ds = ds.copy()"
   ]
  },
  {
   "cell_type": "markdown",
   "id": "e3b0b991-85c4-40fe-a903-74b43716a155",
   "metadata": {},
   "source": [
    "## Apply corrections to pixel positions\n",
    "\n",
    "We apply some corrections to the detector pixel and monitor positions,\n",
    "as the geometry stored in the file is inaccurate."
   ]
  },
  {
   "cell_type": "code",
   "execution_count": null,
   "id": "b616d643-8504-4eda-ba7a-bb73b85e7b80",
   "metadata": {},
   "outputs": [],
   "source": [
    "#sample_position 0, 0, 0 wrt to source?\n",
    "# Now shift pixels positions to get the correct beam center\n",
    "for da in ds.values():\n",
    "    da.coords[\"sample_position\"] = sc.vector(value=[0.0, 0.0, 0.0], unit='m')\n",
    "    #sample_pos_z_offset = 0.1 * sc.units.m\n",
    "    #bench_pos_y_offset = 0.001 * sc.units.m\n",
    "\n",
    "    da.coords[\"pixel_width\"] = 0.0075 * sc.units.m\n",
    "    da.coords[\"pixel_height\"] = 0.0117188 * sc.units.m\n",
    "\n",
    "    x_offset = 0.028 * sc.units.m\n",
    "    y_offset = 0.01195 * sc.units.m\n",
    "\n",
    "    # Now shift pixels positions to get the correct beam center\n",
    "    da.coords['position'].fields.x += x_offset\n",
    "    da.coords['position'].fields.y += y_offset\n"
   ]
  },
  {
   "cell_type": "markdown",
   "id": "eeb81dd1-078a-495b-8cff-49c474be65dd",
   "metadata": {},
   "source": [
    "## Masking\n",
    "\n",
    "The next step is to mask noisy and saturated pixels,\n",
    "as well as a time-of-flight range that contains spurious artifacts from the beamline components.\n",
    "\n",
    "**Note:** We use programatic masks here and not those stored in xml files.\n",
    "\n",
    "### Mask bad pixels\n",
    "\n",
    "We mask the edges of the detector, which are usually noisy.\n",
    "We also mask the region close to the center of the beam,\n",
    "so as to not include saturated pixels in our data reduction."
   ]
  },
  {
   "cell_type": "code",
   "execution_count": null,
   "id": "e54e6899-4842-4b91-82ab-15c5ceef5edb",
   "metadata": {},
   "outputs": [],
   "source": [
    "mask_edges = (\n",
    "    (sc.abs(sample.coords['position'].fields.x - x_offset) > sc.scalar(0.45, unit='m')) |\n",
    "    (sc.abs(sample.coords['position'].fields.y - y_offset) > sc.scalar(0.45, unit='m')))\n",
    "\n",
    "mask_center = sc.sqrt(\n",
    "    sample.coords['position'].fields.x**2 +\n",
    "    sample.coords['position'].fields.y**2) < sc.scalar(0.035, unit='m')\n",
    "\n",
    "for da in ds.values():\n",
    "    da.masks['edges'] = mask_edges\n",
    "    da.masks['center'] = mask_center\n"
   ]
  },
  {
   "cell_type": "markdown",
   "id": "fbdf4c28-1135-4946-a07c-3fe70250a0e4",
   "metadata": {},
   "source": [
    "We can inspect that the coordinate corrections and masking were applied correctly by opening the instrument view."
   ]
  },
  {
   "cell_type": "code",
   "execution_count": null,
   "id": "d323a004-1f4f-4c8a-9cd8-f81678bb9a91",
   "metadata": {},
   "outputs": [],
   "source": [
    "scn.instrument_view(sample.hist(), pixel_size=0.0075)"
   ]
  },
  {
   "cell_type": "markdown",
   "id": "eef1cb3a-d3e8-4d5c-88fa-3ea5e3cdeb01",
   "metadata": {},
   "source": [
    "### Mask Bragg peaks in wavelength\n",
    "\n",
    "We will now take out the time regions with Bragg peaks from the beam stop and detector window, although in reality the peaks appear only close to the beam stop, and will make little difference to\n",
    "\n",
    "This could be implemented as masking specific time bins for a specific region in space, but for now we keep it simple."
   ]
  },
  {
   "cell_type": "code",
   "execution_count": null,
   "id": "dd51368b-82b4-447d-a36a-345f134db264",
   "metadata": {},
   "outputs": [],
   "source": [
    "#TODO: This needs to be established\n",
    "wavelength_mask = sc.DataArray(\n",
    "    data=sc.array(dims=['wavelength'], values=[True]),\n",
    "    coords={\n",
    "        'wavelength': sc.array(\n",
    "            dims=['wavelength'], values=[2.21, 2.59], unit='angstrom'\n",
    "        )\n",
    "    },\n",
    ")"
   ]
  },
  {
   "cell_type": "markdown",
   "id": "173949b2-3ed5-4a37-9b40-a63491db7865",
   "metadata": {},
   "source": [
    "### Preprocess monitor"
   ]
  },
  {
   "cell_type": "code",
   "execution_count": null,
   "id": "a25919ad-ea90-42d1-9b19-ec2d6c4446bc",
   "metadata": {},
   "outputs": [],
   "source": [
    "monitors = {}\n",
    "for key, da in ds.items():\n",
    "    #TODO: Check this histogramming!\n",
    "    monitors[f'{key}-incident'] = da.attrs[\"monitor_1\"].value.hist(tof=200)\n",
    "    monitors[f'{key}-transmission'] = da.attrs[\"monitor_2\"].value.hist(tof=200)\n",
    "    monitors[f'{key}-incident'].coords['source_position'] = sc.vector(value=[0.0, 0.0, -25.61], unit='m')\n",
    "    monitors[f'{key}-transmission'].coords['source_position'] = sc.vector(value=[0.0, 0.0, -25.61], unit='m')\n",
    "    monitors[f'{key}-incident'].coords['position'] = sc.vector(value=[0.0, 0.0, 0.0], unit='m')\n",
    "    monitors[f'{key}-transmission'].coords['position'] = sc.vector(value=[0.0, 0.0, 0.0], unit='m')\n",
    "\n",
    "# Define range outside of which monitor data is considered to be background\n",
    "non_background_range = sc.array(\n",
    "    dims=['wavelength'], values=[0.1, 5.5], unit='angstrom'\n",
    ")\n",
    "\n",
    "#TODO: It may be required that monitors are histogrammed\n",
    "# Run preprocessing\n",
    "monitors = sans.i_of_q.preprocess_monitor_data(\n",
    "    monitors, non_background_range=non_background_range, wavelength_bins=wavelength_bins\n",
    ")\n",
    "\n",
    "# Unpack monitors to make steps below easier\n",
    "sample_monitors = {\n",
    "    'incident': monitors['sample-incident'],\n",
    "    'transmission': monitors['sample-transmission'],\n",
    "}\n",
    "\n",
    "background_monitors = {\n",
    "    'incident': monitors['background-incident'],\n",
    "    'transmission': monitors['background-transmission'],\n",
    "}"
   ]
  },
  {
   "cell_type": "code",
   "execution_count": null,
   "id": "652aa470-74fe-4036-90e5-4eeead429831",
   "metadata": {},
   "outputs": [],
   "source": [
    "#NOTE: direct monitors is the same as sample (and backgroud)\n",
    "sample_q = sans.to_I_of_Q(data=ds['sample'],\n",
    "    data_monitors=sample_monitors,\n",
    "    direct_monitors=sample_monitors,\n",
    "    direct_beam=direct_beam,\n",
    "    wavelength_bins=wavelength_bins,\n",
    "    q_bins=q_bins,\n",
    "    gravity=gravity,\n",
    "    wavelength_mask=wavelength_mask)"
   ]
  },
  {
   "cell_type": "code",
   "execution_count": null,
   "id": "dba9fe02-5c65-4142-b94b-ccca2df879e2",
   "metadata": {},
   "outputs": [],
   "source": [
    "background_q = sans.to_I_of_Q(data=ds['background'],\n",
    "    data_monitors=background_monitors,\n",
    "    direct_monitors=background_monitors,\n",
    "    direct_beam=direct_beam,\n",
    "    wavelength_bins=wavelength_bins,\n",
    "    q_bins=q_bins,\n",
    "    gravity=gravity,\n",
    "    wavelength_mask=wavelength_mask)"
   ]
  },
  {
   "cell_type": "markdown",
   "id": "d88ac17e-233f-42ff-bc0c-930f797af1c1",
   "metadata": {},
   "source": [
    "We are now in a position to subtract the background from the sample measurement:"
   ]
  },
  {
   "cell_type": "code",
   "execution_count": null,
   "id": "f3715d62-e58b-410a-97cd-cfc16bc32a28",
   "metadata": {},
   "outputs": [],
   "source": [
    "result = sample_q.bins.sum() - background_q.bins.sum()\n",
    "result"
   ]
  },
  {
   "cell_type": "code",
   "execution_count": null,
   "id": "674d479d-714f-412d-94e6-7469bd36b04c",
   "metadata": {},
   "outputs": [],
   "source": [
    "background_q.hist().plot()"
   ]
  },
  {
   "cell_type": "markdown",
   "id": "57679ad0-d04a-4c30-a2b3-78e9800f5ae0",
   "metadata": {},
   "source": [
    "<div class=\"alert alert-info\">\n",
    "\n",
    "**Note**\n",
    "\n",
    "Instead of `.bins.sum()`,\n",
    "one could use `sc.histogram()` above to define different `Q` bins compared to the ones defined at the top of the notebook.\n",
    "This can be done in event mode, see [here](https://scipp.github.io/user-guide/binned-data/computation.html#Subtraction).\n",
    "\n",
    "There may be performance advantages to first use a coarse `Q` binning when the computing `I(Q)` numerator,\n",
    "and use finer binning for the final results.\n",
    "\n",
    "</div>"
   ]
  },
  {
   "cell_type": "markdown",
   "id": "5c270fd9-beee-4abd-a51a-4d16ad54922e",
   "metadata": {},
   "source": [
    "## Wavelength bands\n",
    "\n",
    "It is often useful to process the data in a small number (~10) of separate wavelength bands.\n",
    "\n",
    "This can be achieved by requesting 10 bands from the `to_I_of_Q` workflow via the `wavelength_bands` argument."
   ]
  },
  {
   "cell_type": "code",
   "execution_count": null,
   "id": "ca7e75fe-29f6-44c9-88c2-43d870044b4c",
   "metadata": {},
   "outputs": [],
   "source": [
    "wavelength_bands = sc.linspace(dim='wavelength', start=2.0, stop=16.0, num=11,\n",
    "                               unit='angstrom')\n",
    "\n",
    "sample_slices = sans.to_I_of_Q(data=ds['sample'],\n",
    "    data_monitors=sample_monitors,\n",
    "    direct_monitors=sample_monitors,\n",
    "    direct_beam=direct_beam,\n",
    "    wavelength_bins=wavelength_bins,\n",
    "    q_bins=q_bins,\n",
    "    gravity=gravity,\n",
    "    wavelength_bands=wavelength_bands,\n",
    "    wavelength_mask=wavelength_mask)\n",
    "\n",
    "background_slices = sans.to_I_of_Q(data=ds['background'],\n",
    "    data_monitors=background_monitors,\n",
    "    direct_monitors=background_monitors,\n",
    "    direct_beam=direct_beam,\n",
    "    wavelength_bins=wavelength_bins,\n",
    "    q_bins=q_bins,\n",
    "    gravity=gravity,\n",
    "    wavelength_bands=wavelength_bands,\n",
    "    wavelength_mask=wavelength_mask)\n",
    "\n",
    "result_slices = sample_slices.bins.sum() - background_slices.bins.sum()\n",
    "result_slices"
   ]
  },
  {
   "cell_type": "code",
   "execution_count": null,
   "id": "60c03e8c-4533-471e-8483-3c0c555fae7d",
   "metadata": {},
   "outputs": [],
   "source": [
    "collapsed = sc.collapse(result_slices, keep='Q')\n",
    "\n",
    "fig2, ax2 = plt.subplots(1, 2, figsize=(10, 4))\n",
    "sc.plot(collapsed, ax=ax2[0])\n",
    "sc.plot(collapsed, norm='log', ax=ax2[1])\n"
   ]
  },
  {
   "cell_type": "markdown",
   "id": "50c9e31c-c174-4db8-8f1b-aa87e8f81408",
   "metadata": {},
   "source": [
    "## References"
   ]
  },
  {
   "cell_type": "markdown",
   "id": "88bd6494-80f4-4bf7-b026-f14a1849bf53",
   "metadata": {},
   "source": [
    "<div id=\"manasi2021\"></div>\n",
    "\n",
    "Manasi I., Andalibi M. R., Atri R. S., Hooton J., King S. M., Edler K. J., **2021**,\n",
    "*Self-assembly of ionic and non-ionic surfactants in type IV cerium nitrate and urea based deep eutectic solvent*,\n",
    "[J. Chem. Phys. 155, 084902](https://doi.org/10.1063/5.0059238)"
   ]
  }
 ],
 "metadata": {
  "kernelspec": {
   "display_name": "Python 3 (ipykernel)",
   "language": "python",
   "name": "python3"
  },
  "language_info": {
   "codemirror_mode": {
    "name": "ipython",
    "version": 3
   },
   "file_extension": ".py",
   "mimetype": "text/x-python",
   "name": "python",
   "nbconvert_exporter": "python",
   "pygments_lexer": "ipython3",
   "version": "3.8.17"
  }
 },
 "nbformat": 4,
 "nbformat_minor": 5
}
