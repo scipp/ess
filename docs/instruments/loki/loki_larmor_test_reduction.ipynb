{
 "cells": [
  {
   "cell_type": "markdown",
   "id": "9a935df3-c816-4829-99c3-2afa979b7611",
   "metadata": {},
   "source": [
    "# Data reduction workflow for files generated on Larmor instrument\n",
    "\n",
    "Some addhoc approximations will need to be done in order to satisfy SANS2D workflow, e.g direct measurments, tramsmission fraction. "
   ]
  },
  {
   "cell_type": "code",
   "execution_count": null,
   "id": "8c7f7cf7-0582-4953-a772-a0f87d1cf0e2",
   "metadata": {},
   "outputs": [],
   "source": [
    "import matplotlib.pyplot as plt\n",
    "import scipp as sc\n",
    "from ess import loki, sans\n",
    "import scippneutron as scn\n",
    "import plopp as pp\n",
    "pp.patch_scipp()"
   ]
  },
  {
   "cell_type": "markdown",
   "id": "b5d36f11-9903-48f8-a626-86f137995681",
   "metadata": {},
   "source": [
    "## Define reduction workflow parameters\n",
    "\n",
    "We define here whether to include the effects of gravity,\n",
    "as well as common time-of-flight, wavelength and $Q$ bins for all the measurements.\n",
    "\n",
    "We also define a range of wavelengths for the monitors that are considered to not be part of the background."
   ]
  },
  {
   "cell_type": "code",
   "execution_count": null,
   "id": "239166d6-d62f-46e9-8316-83c26f0f05ce",
   "metadata": {},
   "outputs": [],
   "source": [
    "# Include effects of gravity?\n",
    "gravity = True\n",
    "\n",
    "#TODO: Check whether this one is needed.\n",
    "tof_bins = sc.linspace(dim='tof', start=0, stop=100000, num=2, unit='us')\n",
    "tof_bins = sc.to_unit(tof_bins, 'ns')\n",
    "wavelength_bins = sc.linspace(dim='wavelength', start=0.9, stop=13.5, num=110,\n",
    "                              unit='angstrom')\n",
    "\n",
    "q_bins = sc.linspace(dim='Q', start=0.008, stop=0.6, num=55, unit='1/angstrom')\n",
    "\n",
    "# Define the range of wavelengths for the monitors that are considered\n",
    "# to not be part of the background - this will need to be changed\n",
    "monitor_non_background_range = sc.array(dims=['wavelength'],\n",
    "                                        values=[0.7, 17.1], unit='angstrom')"
   ]
  },
  {
   "cell_type": "markdown",
   "id": "bafd7ab4-d478-4c96-8196-69029fb221c4",
   "metadata": {},
   "source": [
    "## Loading data files\n",
    "\n",
    "We load the following files:\n",
    "\n",
    "- The direct beam function for the main detector (gives detector efficiency as a function of wavelength)\n",
    "- The sample measurement\n",
    "- The direct measurement: this is the run with the empty sample holder/cuvette\n",
    "- the background measurement: this is the run with only the solvent which the sample is placed in"
   ]
  },
  {
   "cell_type": "code",
   "execution_count": null,
   "id": "0315d002-9cab-4ae4-8f63-c72a532f716b",
   "metadata": {},
   "outputs": [],
   "source": [
    "ds_id = sc.Dataset()\n",
    "\n",
    "sample_run_number = 60345\n",
    "sample_transmission_run_number = 60344\n",
    "background_run_number = 60337\n",
    "background_transmission_run_number = 60336\n",
    "\n",
    "path = '/Users/wojciechpotrzebowski/SCIPP_SPACE/loki_detector_test/2022-06-24_calibrated_nexus_files/'\n",
    "direct_beam = loki.io.load_rkh_wav(f'{path}/DirectBeam_20feb_full_v3.dat')\n",
    "\n",
    "out = scn.load_nexus(data_file=f'{path}/{sample_run_number}-2022-02-28_2215_fixed.nxs')\n",
    "out = out.bin({tof_bins.dim: tof_bins})\n",
    "ds_id['sample'] = out \n",
    "#edges=sc.linspace('tof', 91, 1e8, 100, unit='ns')\n",
    "#binned_data = sc.bin(sample, edges=[edges])\n",
    "#ds['sample'] = binned_data\n",
    "\n",
    "out = scn.load_nexus(data_file=f'{path}/{sample_transmission_run_number}-2022-02-28_2215_fixed.nxs')\n",
    "out = out.bin({tof_bins.dim: tof_bins})\n",
    "ds_id['sample_transmission'] = out\n",
    "#binned_data = sc.bin(sample_transmission, edges=[edges])\n",
    "#ds['sample_transmission'] = binned_data\n",
    "\n",
    "#TODO: How about direct?\n",
    "#ds['direct'] = scn.load(filename=f'{path}/LARMOR000{background_run_number}.nxs')\n",
    "\n",
    "out = scn.load_nexus(data_file=f'{path}/{background_run_number}-2022-02-28_2215_fixed.nxs')\n",
    "out = out.bin({tof_bins.dim: tof_bins})\n",
    "ds_id['background'] = out\n",
    "\n",
    "out = scn.load_nexus(data_file=f'{path}/{background_transmission_run_number}-2022-02-28_2215_fixed.nxs')\n",
    "out = out.bin({tof_bins.dim: tof_bins})\n",
    "ds_id['background_transmission'] = out\n"
   ]
  },
  {
   "cell_type": "code",
   "execution_count": null,
   "id": "02d826d7-cc71-46b5-88a0-646f1631cfe9",
   "metadata": {},
   "outputs": [],
   "source": [
    "ds = ds_id.rename(detector_id = 'spectrum')\n",
    "ds = ds.copy()"
   ]
  },
  {
   "cell_type": "markdown",
   "id": "e3b0b991-85c4-40fe-a903-74b43716a155",
   "metadata": {},
   "source": [
    "## Apply corrections to pixel positions\n",
    "\n",
    "We apply some corrections to the detector pixel and monitor positions,\n",
    "as the geometry stored in the file is inaccurate."
   ]
  },
  {
   "cell_type": "code",
   "execution_count": null,
   "id": "b616d643-8504-4eda-ba7a-bb73b85e7b80",
   "metadata": {},
   "outputs": [],
   "source": [
    "#sample_position 0, 0, 0 wrt to source?\n",
    "ds.coords[\"sample_position\"] = sc.vector(value=[0.0, 0.0, 0.0], unit='m')\n",
    "#sample_pos_z_offset = 0.1 * sc.units.m\n",
    "#bench_pos_y_offset = 0.001 * sc.units.m\n",
    "\n",
    "ds.coords[\"pixel_width\"] = 0.0075 * sc.units.m\n",
    "ds.coords[\"pixel_height\"] = 0.0117188 * sc.units.m\n",
    "\n",
    "x_offset = 0.028 * sc.units.m\n",
    "y_offset = 0.01195 * sc.units.m\n",
    "\n",
    "# Now shift pixels positions to get the correct beam center\n",
    "ds.coords['position'].fields.x += x_offset\n",
    "ds.coords['position'].fields.y += y_offset\n",
    "# Change sample position\n",
    "#ds.coords[\"sample_position\"].fields.z += sample_pos_z_offset\n",
    "# Apply bench offset to pixel positions\n",
    "#ds.coords[\"position\"].fields.y += bench_pos_y_offset\n",
    "\n",
    "#TOOD: We don't have this one either\n",
    "#for key in ds:\n",
    "#    ds[key].attrs[\"monitor4\"].value.coords[\"position\"].fields.z += monitor4_pos_z_offset"
   ]
  },
  {
   "cell_type": "code",
   "execution_count": null,
   "id": "8f1105f5-1cae-430b-b61e-ae0b9085f7c7",
   "metadata": {},
   "outputs": [],
   "source": [
    "#Need to histogram in order to make plopp instrument view working\n",
    "start_tof = ds.coords['tof'][0].values\n",
    "end_tof = ds.coords['tof'][-1].values\n",
    "nbins = 5\n",
    "tof_edges = sc.linspace(dim='tof', start=start_tof, stop=end_tof, num=nbins, unit='ns')\n",
    "# histogrammed = ds.hist(tof=tof_edges)\n",
    "# scn.instrument_view(histogrammed['sample']['tof', 1], pixel_size=0.01)"
   ]
  },
  {
   "cell_type": "code",
   "execution_count": null,
   "id": "f32755a5-8767-47b5-8522-a0d0921a77af",
   "metadata": {},
   "outputs": [],
   "source": [
    "# sample = histogrammed['sample'].copy(deep=False)\n",
    "\n",
    "# sample.coords['x'] = sample.coords['position'].fields.x\n",
    "# sample.coords['y'] = sample.coords['position'].fields.y\n",
    "# sample.coords['z'] = sample.coords['position'].fields.z\n",
    "\n",
    "# in_node = pp.input_node(sample)\n",
    "# in_node.name = 'Input node'\n",
    "\n",
    "# import ipywidgets as ipw\n",
    "# # Make a range slider\n",
    "# slider = ipw.IntSlider(max=nbins-1,\n",
    "#                             description='tof bin',\n",
    "#                             layout={'width': '400px'})\n",
    "\n",
    "# slider_node = pp.widget_node(slider)\n",
    "# slider_node.name = 'Slider node'\n",
    "\n",
    "# slice_node = pp.node(\n",
    "#     lambda da, ind: da['tof', ind])(da=in_node, ind=slider_node)\n",
    "# slice_node.name = 'Slice by tof'\n",
    "\n",
    "\n",
    "# fig3d = pp.figure3d(slice_node, x='x', y='y', z='z', norm='log', pixel_size=0.01)\n",
    "\n",
    "# from plopp.widgets import Box, ToggleTool, TriCutTool\n",
    "# tri_cutter = TriCutTool(fig3d)\n",
    "\n",
    "# fig3d.toolbar['cut3d'] = ToggleTool(callback=tri_cutter.toggle_visibility,\n",
    "#                                       icon='cube',\n",
    "#                                       tooltip='Hide/show spatial cutting tool')\n",
    "\n",
    "# pp.widgets.Box([fig3d,  tri_cutter, slider])"
   ]
  },
  {
   "cell_type": "code",
   "execution_count": null,
   "id": "6ba3b804-34b3-4aca-a36c-bf8bc5312f08",
   "metadata": {},
   "outputs": [],
   "source": [
    "# scn.instrument_view(histogrammed['sample']['tof', 1], pixel_size=0.01)"
   ]
  },
  {
   "cell_type": "markdown",
   "id": "eeb81dd1-078a-495b-8cff-49c474be65dd",
   "metadata": {},
   "source": [
    "## Masking\n",
    "\n",
    "The next step is to mask noisy and saturated pixels,\n",
    "as well as a time-of-flight range that contains spurious artifacts from the beamline components.\n",
    "\n",
    "**Note:** We use programatic masks here and not those stored in xml files.\n",
    "\n",
    "### Mask bad pixels\n",
    "\n",
    "We mask the edges of the detector, which are usually noisy.\n",
    "We also mask the region close to the center of the beam,\n",
    "so as to not include saturated pixels in our data reduction."
   ]
  },
  {
   "cell_type": "code",
   "execution_count": null,
   "id": "e54e6899-4842-4b91-82ab-15c5ceef5edb",
   "metadata": {},
   "outputs": [],
   "source": [
    "mask_edges = (\n",
    "    (sc.abs(ds.coords['position'].fields.x - x_offset) > sc.scalar(0.45, unit='m')) |\n",
    "    (sc.abs(ds.coords['position'].fields.y - y_offset) > sc.scalar(0.45, unit='m')))\n",
    "\n",
    "mask_center = sc.sqrt(\n",
    "    ds.coords['position'].fields.x**2 +\n",
    "    ds.coords['position'].fields.y**2) < sc.scalar(0.035, unit='m')\n",
    "\n",
    "\n",
    "for key in ds:\n",
    "    ds[key].masks['edges'] = mask_edges\n",
    "    ds[key].masks['center'] = mask_center"
   ]
  },
  {
   "cell_type": "markdown",
   "id": "fbdf4c28-1135-4946-a07c-3fe70250a0e4",
   "metadata": {},
   "source": [
    "We can inspect that the coordinate corrections and masking were applied correctly by opening the instrument view."
   ]
  },
  {
   "cell_type": "code",
   "execution_count": null,
   "id": "d323a004-1f4f-4c8a-9cd8-f81678bb9a91",
   "metadata": {},
   "outputs": [],
   "source": [
    "histogrammed = ds.hist(tof=tof_edges)\n",
    "scn.instrument_view(histogrammed['sample']['tof', 1], pixel_size=0.01)"
   ]
  },
  {
   "cell_type": "markdown",
   "id": "eef1cb3a-d3e8-4d5c-88fa-3ea5e3cdeb01",
   "metadata": {},
   "source": [
    "### Mask in time-of-flight\n",
    "\n",
    "This could be implemented as masking specific time bins for a specific region in space,\n",
    "but for now we keep it simple."
   ]
  },
  {
   "cell_type": "code",
   "execution_count": null,
   "id": "cf0c7256-3ae7-49c3-a4bf-851e0326c011",
   "metadata": {},
   "outputs": [],
   "source": [
    "# tof = data.coords['tof']\n",
    "# tof_masked_region = sc.less(tof['tof',1:], 1500.0 * sc.units.us) | \\\n",
    "#                          (sc.greater(tof['tof',:-1], 17500.0 * sc.units.us) & \\\n",
    "#                           sc.less(tof['tof',1:], 19000.0 * sc.units.us))\n",
    "\n",
    "# for key in ds:\n",
    "#     ds[key].masks['bins'] = tof_masked_region\n",
    "    \n",
    "\n",
    "mask_tof_min = sc.scalar(17500.0, unit='us')\n",
    "mask_tof_max = sc.scalar(19000.0, unit='us')\n",
    "\n",
    "mask_tof_min = sc.to_unit(mask_tof_min, 'ns')\n",
    "mask_tof_max = sc.to_unit(mask_tof_max, 'ns')\n",
    "\n",
    "tof_masked_region = sc.concat([ds.coords['tof']['tof', 0],\n",
    "                               mask_tof_min, mask_tof_max,\n",
    "                               ds.coords['tof']['tof', -1]], dim='tof')\n",
    "\n",
    "binned = sc.Dataset()\n",
    "for key in ds:\n",
    "    binned[key] = sc.bin(ds[key], edges=[tof_masked_region])\n",
    "    binned[key].masks['bragg_peaks'] = sc.array(dims=['tof'], values=[False, True, False])\n",
    "    binned[key].attrs['monitor_1'].values.coords['source_position'] = sc.vector(value=[0.0, 0.0, -25.61], unit='m')\n",
    "    binned[key].attrs['monitor_2'].values.coords['source_position'] = sc.vector(value=[0.0, 0.0, -25.61], unit='m')\n",
    "#binned"
   ]
  },
  {
   "cell_type": "markdown",
   "id": "79435dc5-e3a9-4c70-b6d2-ff486c500fd2",
   "metadata": {},
   "source": [
    "## Use to_I_of_Q workflow\n",
    "\n",
    "We now reduce the sample and the background measurements to `Q` using the `sans.to_I_of_Q` workflow.\n",
    "\n",
    "In that process,\n",
    "the intensity as a function of `Q` is normalized using the direct measurement and direct beam function.\n",
    "\n",
    "The workflow needs monitor data from the sample, background, and direct runs to compute the normalization.\n",
    "It accepts those in the form of a dictionaries:"
   ]
  },
  {
   "cell_type": "code",
   "execution_count": null,
   "id": "cb4c64dd-7ed8-4a78-876b-2c312e9cdde2",
   "metadata": {},
   "outputs": [],
   "source": [
    "#TODO: It needs to be sorted out\n",
    "sample_monitors = {'incident': binned['sample'].attrs[\"monitor_1\"].value,\n",
    "                   'transmission': binned['sample'].attrs[\"monitor_2\"].value}\n",
    "\n",
    "background_monitors = {'incident': binned['background'].attrs[\"monitor_1\"].value,\n",
    "                       'transmission': binned['background'].attrs[\"monitor_2\"].value}"
   ]
  },
  {
   "cell_type": "code",
   "execution_count": null,
   "id": "31a7d5fb-00aa-46cf-adfa-3cc1b189eb03",
   "metadata": {},
   "outputs": [],
   "source": [
    "start_tof = ds.coords['tof'][0].values\n",
    "end_tof = ds.coords['tof'][-1].values\n",
    "nbins = 481\n",
    "tof_edges = sc.linspace(dim='tof', start=start_tof, stop=end_tof, num=nbins, unit='ns')\n"
   ]
  },
  {
   "cell_type": "code",
   "execution_count": null,
   "id": "fc687ab8-7892-48ad-91c2-0503e235c7fc",
   "metadata": {},
   "outputs": [],
   "source": [
    "sample_monitors['incident']= sample_monitors['incident'].hist(tof=tof_edges)\n",
    "sample_monitors['transmission']= sample_monitors['transmission'].hist(tof=tof_edges)\n",
    "background_monitors['incident']= background_monitors['incident'].hist(tof=tof_edges)\n",
    "background_monitors['transmission']= background_monitors['transmission'].hist(tof=tof_edges)"
   ]
  },
  {
   "cell_type": "markdown",
   "id": "9c1879dd-adf0-4cff-a00f-187d604a21e4",
   "metadata": {},
   "source": [
    "We then call the workflow on the sample and direct runs:"
   ]
  },
  {
   "cell_type": "code",
   "execution_count": null,
   "id": "652aa470-74fe-4036-90e5-4eeead429831",
   "metadata": {},
   "outputs": [],
   "source": [
    "#NOTE: direct monitors is the same as sample (and backgroud)\n",
    "sample_q = sans.to_I_of_Q(data=binned['sample'],\n",
    "    data_monitors=sample_monitors,\n",
    "    direct_monitors=sample_monitors,\n",
    "    direct_beam=direct_beam,\n",
    "    wavelength_bins=wavelength_bins,\n",
    "    q_bins=q_bins,\n",
    "    gravity=gravity,\n",
    "    monitor_non_background_range=monitor_non_background_range)"
   ]
  },
  {
   "cell_type": "code",
   "execution_count": null,
   "id": "dba9fe02-5c65-4142-b94b-ccca2df879e2",
   "metadata": {},
   "outputs": [],
   "source": [
    "background_q = sans.to_I_of_Q(data=binned['background'],\n",
    "    data_monitors=background_monitors,\n",
    "    direct_monitors=background_monitors,\n",
    "    direct_beam=direct_beam,\n",
    "    wavelength_bins=wavelength_bins,\n",
    "    q_bins=q_bins,\n",
    "    gravity=gravity,\n",
    "    monitor_non_background_range=monitor_non_background_range)"
   ]
  },
  {
   "cell_type": "markdown",
   "id": "d88ac17e-233f-42ff-bc0c-930f797af1c1",
   "metadata": {},
   "source": [
    "We are now in a position to subtract the background from the sample measurement:"
   ]
  },
  {
   "cell_type": "code",
   "execution_count": null,
   "id": "f3715d62-e58b-410a-97cd-cfc16bc32a28",
   "metadata": {},
   "outputs": [],
   "source": [
    "result = sample_q.bins.sum() - background_q.bins.sum()\n",
    "result.plot()"
   ]
  },
  {
   "cell_type": "code",
   "execution_count": null,
   "id": "4e3d8e09-465d-4470-8e1b-a3bc6ff4f374",
   "metadata": {},
   "outputs": [],
   "source": [
    "#fig1, ax1 = plt.subplots(1, 2, figsize=(10, 4))\n",
    "#sc.plot(result, ax=ax1[0])\n",
    "#sc.plot(result, norm='log', ax=ax1[1])\n",
    "#fig1"
   ]
  },
  {
   "cell_type": "markdown",
   "id": "57679ad0-d04a-4c30-a2b3-78e9800f5ae0",
   "metadata": {},
   "source": [
    "<div class=\"alert alert-info\">\n",
    "\n",
    "**Note**\n",
    "\n",
    "Instead of `.bins.sum()`,\n",
    "one could use `sc.histogram()` above to define different `Q` bins compared to the ones defined at the top of the notebook.\n",
    "This can be done in event mode, see [here](https://scipp.github.io/user-guide/binned-data/computation.html#Subtraction).\n",
    "\n",
    "There may be performance advantages to first use a coarse `Q` binning when the computing `I(Q)` numerator,\n",
    "and use finer binning for the final results.\n",
    "\n",
    "</div>"
   ]
  },
  {
   "cell_type": "markdown",
   "id": "5c270fd9-beee-4abd-a51a-4d16ad54922e",
   "metadata": {},
   "source": [
    "## Wavelength bands\n",
    "\n",
    "It is often useful to process the data in a small number (~10) of separate wavelength bands.\n",
    "\n",
    "This can be achieved by requesting 10 bands from the `to_I_of_Q` workflow via the `wavelength_bands` argument."
   ]
  },
  {
   "cell_type": "code",
   "execution_count": null,
   "id": "ca7e75fe-29f6-44c9-88c2-43d870044b4c",
   "metadata": {},
   "outputs": [],
   "source": [
    "wavelength_bands = sc.linspace(dim='wavelength', start=2.0, stop=16.0, num=11,\n",
    "                               unit='angstrom')\n",
    "\n",
    "sample_slices = sans.to_I_of_Q(data=binned['sample'],\n",
    "    data_monitors=sample_monitors,\n",
    "    direct_monitors=direct_monitors,\n",
    "    direct_beam=direct_beam,\n",
    "    wavelength_bins=wavelength_bins,\n",
    "    q_bins=q_bins,\n",
    "    gravity=gravity,\n",
    "    wavelength_bands=wavelength_bands,\n",
    "    monitor_non_background_range=monitor_non_background_range)\n",
    "\n",
    "background_slices = sans.to_I_of_Q(data=binned['background'],\n",
    "    data_monitors=background_monitors,\n",
    "    direct_monitors=direct_monitors,\n",
    "    direct_beam=direct_beam,\n",
    "    wavelength_bins=wavelength_bins,\n",
    "    q_bins=q_bins,\n",
    "    gravity=gravity,\n",
    "    wavelength_bands=wavelength_bands,\n",
    "    monitor_non_background_range=monitor_non_background_range)\n",
    "\n",
    "result_slices = sample_slices.bins.sum() - background_slices.bins.sum()\n",
    "result_slices"
   ]
  },
  {
   "cell_type": "code",
   "execution_count": null,
   "id": "60c03e8c-4533-471e-8483-3c0c555fae7d",
   "metadata": {},
   "outputs": [],
   "source": [
    "collapsed = sc.collapse(result_slices, keep='Q')\n",
    "\n",
    "fig2, ax2 = plt.subplots(1, 2, figsize=(10, 4))\n",
    "sc.plot(collapsed, ax=ax2[0])\n",
    "sc.plot(collapsed, norm='log', legend=False, ax=ax2[1])\n",
    "fig2"
   ]
  },
  {
   "cell_type": "markdown",
   "id": "50c9e31c-c174-4db8-8f1b-aa87e8f81408",
   "metadata": {},
   "source": [
    "## References"
   ]
  },
  {
   "cell_type": "markdown",
   "id": "88bd6494-80f4-4bf7-b026-f14a1849bf53",
   "metadata": {},
   "source": [
    "<div id=\"manasi2021\"></div>\n",
    "\n",
    "Manasi I., Andalibi M. R., Atri R. S., Hooton J., King S. M., Edler K. J., **2021**,\n",
    "*Self-assembly of ionic and non-ionic surfactants in type IV cerium nitrate and urea based deep eutectic solvent*,\n",
    "[J. Chem. Phys. 155, 084902](https://doi.org/10.1063/5.0059238)"
   ]
  }
 ],
 "metadata": {
  "kernelspec": {
   "display_name": "Python 3 (ipykernel)",
   "language": "python",
   "name": "python3"
  },
  "language_info": {
   "codemirror_mode": {
    "name": "ipython",
    "version": 3
   },
   "file_extension": ".py",
   "mimetype": "text/x-python",
   "name": "python",
   "nbconvert_exporter": "python",
   "pygments_lexer": "ipython3",
   "version": "3.8.17"
  }
 },
 "nbformat": 4,
 "nbformat_minor": 5
}
