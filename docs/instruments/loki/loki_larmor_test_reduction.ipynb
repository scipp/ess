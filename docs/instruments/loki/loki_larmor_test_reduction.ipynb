{
 "cells": [
  {
   "cell_type": "markdown",
   "id": "9a935df3-c816-4829-99c3-2afa979b7611",
   "metadata": {},
   "source": [
    "# Data reduction workflow for files generated on Larmor instrument\n",
    "\n",
    "Notebook applies pixel dependent direct beam to data reduction workflow developed for SANS2D.\n",
    "There are few modifications comapred to standard workflow\n",
    "* Direct beam function has been generate by Mantid\n",
    "* summation of event from multiple runs (done in function)\n",
    "* Masking curremtly uses Mantid masks (for debugging purposes) but it is anticpated that scipp masks will be used\n",
    "* Processed monitors are taken from Mantid directly (however code for processing monitors in scipp is also there).\n",
    "\n",
    "Notes\n",
    "* There was a small change in code required to make pixel-dependent direct beam work (https://github.com/scipp/ess/blob/bed91cd51e3979c7fe9df4903d35008db472ef01/src/ess/sans/normalization.py#L160). In addition direct beam from Mantid has to be rebined and midpoints were generated \n",
    "* While technically pixel-depent seems to work there are some differances between scipp and Mantid results. Apart from overall scaling of the final results that has to be fudged, there is difference in high Q region of the final result  "
   ]
  },
  {
   "cell_type": "code",
   "execution_count": 1,
   "id": "8c7f7cf7-0582-4953-a772-a0f87d1cf0e2",
   "metadata": {},
   "outputs": [],
   "source": [
    "import matplotlib.pyplot as plt\n",
    "import scipp as sc\n",
    "from ess import loki, sans\n",
    "import scippneutron as scn\n",
    "import plopp as pp\n",
    "%matplotlib widget"
   ]
  },
  {
   "cell_type": "markdown",
   "id": "b5d36f11-9903-48f8-a626-86f137995681",
   "metadata": {},
   "source": [
    "## Define reduction workflow parameters\n",
    "\n",
    "We define here whether to include the effects of gravity,\n",
    "as well as common time-of-flight, wavelength and $Q$ bins for all the measurements.\n",
    "\n",
    "We also define a range of wavelengths for the monitors that are considered to not be part of the background."
   ]
  },
  {
   "cell_type": "code",
   "execution_count": 2,
   "id": "239166d6-d62f-46e9-8316-83c26f0f05ce",
   "metadata": {},
   "outputs": [],
   "source": [
    "# Include effects of gravity?\n",
    "gravity = True\n",
    "\n",
    "#TODO: Using same wavelengths bins as direct beam is defined for but it may be different range (0.9-13.5)\n",
    "wavelength_bins = sc.linspace(dim='wavelength', start=2.2, stop=12.0, num=50,\n",
    "                              unit='angstrom')\n",
    "\n",
    "q_bins = sc.linspace(dim='Q', start=0.004, stop=0.4, num=110, unit='1/angstrom')\n"
   ]
  },
  {
   "cell_type": "markdown",
   "id": "bafd7ab4-d478-4c96-8196-69029fb221c4",
   "metadata": {},
   "source": [
    "## Loading data files\n",
    "\n",
    "We load the following files:\n",
    "\n",
    "- The direct beam function for the main detector (gives detector efficiency as a function of wavelength)\n",
    "- The sample measurement\n",
    "- The direct measurement: this is the run with the empty sample holder/cuvette\n",
    "- the background measurement: this is the run with only the solvent which the sample is placed in"
   ]
  },
  {
   "cell_type": "code",
   "execution_count": 3,
   "id": "6b96d1fb-2972-4af1-999a-9cd9817ca3c1",
   "metadata": {},
   "outputs": [],
   "source": [
    "def add_runs(runs, data_path): \n",
    "    \"\"\"\n",
    "    Adding data and monitors from different runs. Iterates over list of runs. \n",
    "    Currently returning two data sets, however it may also be possible to create one in order to use workflows\n",
    "    \"\"\"\n",
    "    input_file1 = f'{data_path}/{runs[0]}-2022-02-28_2215.nxs'\n",
    "    #fixed_file1 = f'{input_file1[:-4]}_fixed.nxs'\n",
    "    data1 = scn.load_nexus(data_file=input_file1)\n",
    "    da1 = data1.squeeze().copy()\n",
    "    summed_data = da1\n",
    "    summed_monitors_1 = da1.attrs['monitor_1'].value\n",
    "    summed_monitors_2 = da1.attrs['monitor_2'].value\n",
    "    #TODO: Should I take tof min and max and use it for setting boundaries\n",
    "\n",
    "    start_tof = data1.coords['tof'][0].values\n",
    "    end_tof = data1.coords['tof'][-1].values\n",
    "    for run in runs[1:]: \n",
    "        input_file2 = f'{data_path}/{run}-2022-02-28_2215.nxs'\n",
    "        #fixed_file2 = f'{input_file2[:-4]}_fixed.nxs'\n",
    "        data2 = scn.load_nexus(data_file=input_file2)\n",
    "        if start_tof <  data2.coords['tof'][0].values:\n",
    "            start_tof =  data1.coords['tof'][0].values\n",
    "        if end_tof > data2.coords['tof'][-1].values:\n",
    "            end_tof = data2.coords['tof'][-1].values\n",
    "        da2 = data2.squeeze().copy()\n",
    "        summed_data = summed_data.bins.concatenate(da2)\n",
    "        summed_monitors_1 = summed_monitors_1.bins.concatenate(da2.attrs['monitor_1'].value)\n",
    "        summed_monitors_2 = summed_monitors_2.bins.concatenate(da2.attrs['monitor_2'].value)\n",
    "\n",
    "    edges=sc.linspace('tof', start_tof, end_tof, 2, unit='ns')\n",
    "    summed_binned_data = sc.bin(summed_data, tof=edges)\n",
    "\n",
    "    #Adding montors from first data set\n",
    "    summed_binned_data.attrs['monitor_1'] = data1.attrs['monitor_1']\n",
    "    summed_binned_data.attrs['monitor_2'] = data1.attrs['monitor_2']\n",
    "    return summed_binned_data"
   ]
  },
  {
   "cell_type": "code",
   "execution_count": 4,
   "id": "0315d002-9cab-4ae4-8f63-c72a532f716b",
   "metadata": {},
   "outputs": [
    {
     "name": "stdout",
     "output_type": "stream",
     "text": [
      "FrameworkManager-[Notice] Welcome to Mantid 6.7.0\n",
      "FrameworkManager-[Notice] Please cite: http://dx.doi.org/10.1016/j.nima.2014.07.029 and this release: http://dx.doi.org/10.5286/Software/Mantid6.7\n",
      "DownloadInstrument-[Notice] All instrument definitions up to date\n",
      "Load-[Notice] Load started\n",
      "Load-[Notice] Load successful, Duration 12.62 seconds\n",
      "DeleteWorkspace-[Notice] DeleteWorkspace started\n",
      "DeleteWorkspace-[Notice] DeleteWorkspace successful, Duration 0.00 seconds\n"
     ]
    }
   ],
   "source": [
    "#sample_run_number = 60395\n",
    "sample_runs = [60250, 60264, 60292, 60308, 60322, 60339, 60353, 60367, 60381, 60395]\n",
    "sample_transmission_run_number = 60394\n",
    "#background_run_number = 60393\n",
    "background_runs = [ 60248, 60262, 60290, 60306, 60320, 60337, 60351, 60365, 60379,  60393]\n",
    "background_transmission_run_number = 60392\n",
    "empty_beam_run_number = 60392\n",
    "\n",
    "path = '/Users/wojciechpotrzebowski/SCIPP_SPACE/loki_detector_test/2022-06-24_calibrated_nexus_files/'\n",
    "#direct_beam = loki.io.load_rkh_wav(f'{path}/DirectBeam_20feb_full_v3.dat')\n",
    "direct_beam = scn.load(f'{path}/flat_g4_final_15Jun23_10-17.nxs')\n",
    "\n",
    "#sample = scn.load_nexus(data_file=f'{path}/{sample_run_number}-2022-02-28_2215.nxs')\n",
    "sample = add_runs(sample_runs, path)\n",
    "sample = sample.rename(detector_id = 'spectrum')\n",
    "\n",
    "\n",
    "#Mantid samples don't have montors, so we will need to pass them independently \n",
    "#sample = scn.load(f'{path}/{sample_run_number}-mantid-add.nxs')\n",
    "\n",
    "sample_trans = scn.load_nexus(data_file=f'{path}/{sample_transmission_run_number}-2022-02-28_2215.nxs')\n",
    "sample_trans = sample_trans.rename(detector_id = 'spectrum')\n",
    "\n",
    "#TODO: How about direct?\n",
    "#ds['direct'] = scn.load(filename=f'{path}/LARMOR000{background_run_number}.nxs')\n",
    "empty_beam = scn.load_nexus(data_file=f'{path}/{empty_beam_run_number}-2022-02-28_2215.nxs')\n",
    "empty_beam = empty_beam.rename(detector_id = 'spectrum')\n",
    "\n",
    "#background = scn.load_nexus(data_file=f'{path}/{background_run_number}-2022-02-28_2215.nxs')\n",
    "background = add_runs(background_runs, path)\n",
    "background = background.rename(detector_id = 'spectrum')\n",
    "#background = scn.load(f'{path}/{background_run_number}-mantid-add.nxs')\n",
    "\n",
    "background_trans = scn.load_nexus(data_file=f'{path}/{background_transmission_run_number}-2022-02-28_2215.nxs')\n",
    "background_trans = background_trans.rename(detector_id = 'spectrum')\n",
    "\n",
    "ds = {'sample': sample, 'sample_trans': sample_trans, 'empty_beam': empty_beam, \n",
    "      'background': background, 'background_trans': background_trans}\n"
   ]
  },
  {
   "cell_type": "markdown",
   "id": "e3b0b991-85c4-40fe-a903-74b43716a155",
   "metadata": {},
   "source": [
    "## Apply corrections to pixel positions\n",
    "\n",
    "We apply some corrections to the detector pixel and monitor positions,\n",
    "as the geometry stored in the file is inaccurate."
   ]
  },
  {
   "cell_type": "code",
   "execution_count": 5,
   "id": "b616d643-8504-4eda-ba7a-bb73b85e7b80",
   "metadata": {},
   "outputs": [],
   "source": [
    "#sample_position 0, 0, 0 wrt to source?\n",
    "# Now shift pixels positions to get the correct beam center\n",
    "\n",
    "for da in ds.values():\n",
    "    da.coords[\"sample_position\"] = sc.vector(value=[0.0, 0.0, 0.0], unit='m')\n",
    "    da.coords[\"source_position\"] = sc.vector(value=[0.0, 0.0, -25.61], unit='m')\n",
    "    #sample_pos_z_offset = 0.1 * sc.units.m\n",
    "    #bench_pos_y_offset = 0.001 * sc.units.m\n",
    "\n",
    "    #NOTE: Hack to make solid angle correction invisible\n",
    "    #L2 = scn.L2(da)\n",
    "    \n",
    "    #Values taken from Mantid Nexus file but cannot be true\n",
    "    #da.coords[\"pixel_width\"] = 4.144 * sc.units.m\n",
    "    #da.coords[\"pixel_height\"] = 4.144 * sc.units.m\n",
    "    da.coords[\"pixel_width\"] = 0.0075 * sc.units.m\n",
    "    da.coords[\"pixel_height\"] = 0.0117188 * sc.units.m\n",
    "\n",
    "    #These values have been fudged to make reasonable beam center position and reasonable match with Mantid!\n",
    "    x_offset = 0.028 * sc.units.m\n",
    "    y_offset = 0.01195 * sc.units.m\n",
    "    z_offset = -0.29 * sc.units.m #0.349\n",
    "    \n",
    "    # Now shift pixels positions to get the correct beam center\n",
    "    da.coords['position'].fields.x += x_offset\n",
    "    da.coords['position'].fields.y += y_offset\n",
    "    da.coords['position'].fields.z += z_offset\n",
    "\n",
    "for coord in ['position', 'sample_position', 'source_position']:\n",
    "    direct_beam.coords[coord] = ds['sample'].meta[coord]\n",
    "direct_beam.coords[\"pixel_width\"] = 0.0075 * sc.units.m\n",
    "direct_beam.coords[\"pixel_height\"] = 0.0117188 * sc.units.m\n"
   ]
  },
  {
   "cell_type": "markdown",
   "id": "eeb81dd1-078a-495b-8cff-49c474be65dd",
   "metadata": {},
   "source": [
    "## Masking\n",
    "\n",
    "The next step is to mask noisy and saturated pixels,\n",
    "as well as a time-of-flight range that contains spurious artifacts from the beamline components.\n",
    "\n",
    "**Note:** We use programatic masks here and not those stored in xml files.\n",
    "\n",
    "### Mask bad pixels\n",
    "\n",
    "We mask the edges of the detector, which are usually noisy.\n",
    "We also mask the region close to the center of the beam,\n",
    "so as to not include saturated pixels in our data reduction."
   ]
  },
  {
   "cell_type": "code",
   "execution_count": 6,
   "id": "e54e6899-4842-4b91-82ab-15c5ceef5edb",
   "metadata": {},
   "outputs": [
    {
     "name": "stdout",
     "output_type": "stream",
     "text": [
      "LoadMask-[Notice] LoadMask started\n",
      "LoadInstrument-[Warning] The instrument definition filename does not contain _Definition. Your instrument name will be set to: LOKI_test.xml\n",
      "LoadMask-[Notice] LoadMask successful, Duration 0.38 seconds\n",
      "DeleteWorkspace-[Notice] DeleteWorkspace started\n",
      "DeleteWorkspace-[Notice] DeleteWorkspace successful, Duration 0.00 seconds\n",
      "LoadMask-[Notice] LoadMask started\n",
      "LoadInstrument-[Warning] The instrument definition filename does not contain _Definition. Your instrument name will be set to: LOKI_test.xml\n",
      "LoadMask-[Notice] LoadMask successful, Duration 0.41 seconds\n",
      "DeleteWorkspace-[Notice] DeleteWorkspace started\n",
      "DeleteWorkspace-[Notice] DeleteWorkspace successful, Duration 0.00 seconds\n"
     ]
    }
   ],
   "source": [
    "#Loading Mantid masks\n",
    "idf_filename = f'{path}/LOKI_test.xml'\n",
    "mask_file = f'{path}/mask_new_July2022.xml'\n",
    "mask_all = scn.load(filename=idf_filename, mantid_alg=\"LoadMask\", mantid_args={\"InputFile\": mask_file})\n",
    "mask_file = f'{path}/mask_straws.xml' \n",
    "mask_straw = scn.load(filename=idf_filename, mantid_alg=\"LoadMask\", mantid_args={\"InputFile\": mask_file})\n",
    "\n",
    "mask_edges = (\n",
    "    (sc.abs(sample.coords['position'].fields.x - x_offset) > sc.scalar(0.45, unit='m')) |\n",
    "    (sc.abs(sample.coords['position'].fields.y - y_offset) > sc.scalar(0.45, unit='m')))\n",
    "\n",
    "mask_center = sc.sqrt(\n",
    "    sample.coords['position'].fields.x**2 +\n",
    "    sample.coords['position'].fields.y**2) < sc.scalar(0.035, unit='m')\n",
    "\n",
    "for da in ds.values():\n",
    "    #da.masks['edges'] = mask_edges\n",
    "    #da.masks['center'] = mask_center\n",
    "\n",
    "    da.masks['all'] = mask_all.data\n",
    "    da.masks['straws'] = mask_straw.data\n",
    "    #Added mask from direct beam\n",
    "    #da.masks['direct_beam'] = direct_beam.masks['spectrum']\n"
   ]
  },
  {
   "cell_type": "markdown",
   "id": "fbdf4c28-1135-4946-a07c-3fe70250a0e4",
   "metadata": {},
   "source": [
    "We can inspect that the coordinate corrections and masking were applied correctly by opening the instrument view."
   ]
  },
  {
   "cell_type": "code",
   "execution_count": 7,
   "id": "d323a004-1f4f-4c8a-9cd8-f81678bb9a91",
   "metadata": {},
   "outputs": [
    {
     "data": {
      "application/vnd.jupyter.widget-view+json": {
       "model_id": "80884748adf04e228e146104a41f0abe",
       "version_major": 2,
       "version_minor": 0
      },
      "text/plain": [
       "Box(children=(Figure(children=(HBar(children=(HTML(value=''),)), HBox(children=(VBar(children=(Toolbar(childre…"
      ]
     },
     "execution_count": 7,
     "metadata": {},
     "output_type": "execute_result"
    }
   ],
   "source": [
    "scn.instrument_view(sample.hist(), pixel_size=0.0075)"
   ]
  },
  {
   "cell_type": "markdown",
   "id": "eef1cb3a-d3e8-4d5c-88fa-3ea5e3cdeb01",
   "metadata": {},
   "source": [
    "### Mask Bragg peaks in wavelength\n",
    "\n",
    "We will now take out the time regions with Bragg peaks from the beam stop and detector window, although in reality the peaks appear only close to the beam stop, and will make little difference to\n",
    "\n",
    "This could be implemented as masking specific time bins for a specific region in space, but for now we keep it simple."
   ]
  },
  {
   "cell_type": "code",
   "execution_count": 8,
   "id": "dd51368b-82b4-447d-a36a-345f134db264",
   "metadata": {},
   "outputs": [],
   "source": [
    "#TODO: This needs to be established\n",
    "# wavelength_mask = sc.DataArray(\n",
    "#     data=sc.array(dims=['wavelength'], values=[True]),\n",
    "#     coords={\n",
    "#         'wavelength': sc.array(\n",
    "#             dims=['wavelength'], values=[2.21, 2.59], unit='angstrom'\n",
    "#         )\n",
    "#     },\n",
    "# )\n",
    "\n",
    "#Again to reproduce Mantid workflow no mask has been set\n",
    "wavelength_mask = None"
   ]
  },
  {
   "cell_type": "markdown",
   "id": "173949b2-3ed5-4a37-9b40-a63491db7865",
   "metadata": {},
   "source": [
    "### Preprocess monitor"
   ]
  },
  {
   "cell_type": "code",
   "execution_count": 9,
   "id": "59591c9f-4d8c-47e9-a75f-0a5fd6d7e3ec",
   "metadata": {},
   "outputs": [],
   "source": [
    "monitors = {}\n",
    "for key, da in ds.items():\n",
    "    #TODO: Check this histogramming!\n",
    "    monitors[f'{key}-incident'] = da.attrs[\"monitor_1\"].value.hist(tof=200)\n",
    "    monitors[f'{key}-transmission'] = da.attrs[\"monitor_2\"].value.hist(tof=200)\n",
    "    monitors[f'{key}-incident'].coords['source_position'] = sc.vector(value=[0.0, 0.0, -9.8195], unit='m')\n",
    "    monitors[f'{key}-transmission'].coords['source_position'] = sc.vector(value=[0.0, 0.0, -25.76], unit='m')\n",
    "    monitors[f'{key}-incident'].coords['position'] = sc.vector(value=[0.0, 0.0, 0.0], unit='m')\n",
    "    monitors[f'{key}-transmission'].coords['position'] = sc.vector(value=[0.0, 0.0, 0.0], unit='m')"
   ]
  },
  {
   "cell_type": "code",
   "execution_count": 10,
   "id": "fc8f3af2-d9bf-4f6d-a165-08e6502ad317",
   "metadata": {},
   "outputs": [],
   "source": [
    "monitor_graph = sans.conversions.sans_monitor()\n",
    "\n",
    "monitors = {\n",
    "     key: mon.transform_coords('wavelength', graph=monitor_graph)\n",
    "     for key, mon in monitors.items()\n",
    "}"
   ]
  },
  {
   "cell_type": "code",
   "execution_count": 11,
   "id": "45cbbb91-3611-4c74-95bc-e2ce1dd72fdf",
   "metadata": {},
   "outputs": [
    {
     "data": {
      "application/vnd.jupyter.widget-view+json": {
       "model_id": "408748ec209d432a820fe6bb35b14e4c",
       "version_major": 2,
       "version_minor": 0
      },
      "text/plain": [
       "InteractiveFig(children=(HBar(), HBox(children=(VBar(children=(Toolbar(children=(ButtonTool(icon='home', layou…"
      ]
     },
     "execution_count": 11,
     "metadata": {},
     "output_type": "execute_result"
    }
   ],
   "source": [
    "sc.plot(monitors, norm='log', grid=True)"
   ]
  },
  {
   "cell_type": "code",
   "execution_count": 12,
   "id": "a25919ad-ea90-42d1-9b19-ec2d6c4446bc",
   "metadata": {},
   "outputs": [],
   "source": [
    "\n",
    "# Define range outside of which monitor data is considered to be background\n",
    "non_background_range = sc.array(\n",
    "    dims=['wavelength'], values=[0.6, 13.7], unit='angstrom'\n",
    ")\n",
    "\n",
    "#TODO: It may be required that monitors are histogrammed\n",
    "# Run preprocessing\n",
    "monitors = sans.i_of_q.preprocess_monitor_data(\n",
    "    monitors, non_background_range=non_background_range, wavelength_bins=wavelength_bins\n",
    ")\n",
    "\n",
    "# Unpack monitors to make steps below easier\n",
    "sample_monitors = {\n",
    "    'incident': monitors['sample_trans-incident'],\n",
    "    'transmission': monitors['sample_trans-transmission'],\n",
    "}\n",
    "\n",
    "empty_beam_monitors = {\n",
    "    'incident': monitors['empty_beam-incident'],\n",
    "    'transmission': monitors['empty_beam-transmission'],\n",
    "}\n",
    "\n",
    "#Check this! It seems from Mantid code sample_monitors are the same as backgrounds\n",
    "background_monitors = {\n",
    "    'incident': monitors['background_trans-incident'],\n",
    "    'transmission': monitors['background_trans-transmission'],\n",
    "}"
   ]
  },
  {
   "cell_type": "markdown",
   "id": "6496e729-0417-4f66-9f3d-76ef83057488",
   "metadata": {},
   "source": [
    "### Loading Mantid monitors (temporary/debugging solution)"
   ]
  },
  {
   "cell_type": "code",
   "execution_count": 13,
   "id": "250711f3-4e78-4892-8126-ae08f183b7bc",
   "metadata": {},
   "outputs": [
    {
     "name": "stdout",
     "output_type": "stream",
     "text": [
      "Load-[Notice] Load started\n",
      "Load-[Notice] Load successful, Duration 0.08 seconds\n",
      "DeleteWorkspace-[Notice] DeleteWorkspace started\n",
      "DeleteWorkspace-[Notice] DeleteWorkspace successful, Duration 0.00 seconds\n",
      "Load-[Notice] Load started\n",
      "Load-[Notice] Load successful, Duration 0.08 seconds\n",
      "DeleteWorkspace-[Notice] DeleteWorkspace started\n",
      "DeleteWorkspace-[Notice] DeleteWorkspace successful, Duration 0.00 seconds\n",
      "Load-[Notice] Load started\n",
      "Load-[Notice] Load successful, Duration 0.06 seconds\n",
      "DeleteWorkspace-[Notice] DeleteWorkspace started\n",
      "DeleteWorkspace-[Notice] DeleteWorkspace successful, Duration 0.00 seconds\n",
      "Load-[Notice] Load started\n",
      "Load-[Notice] Load successful, Duration 0.06 seconds\n",
      "DeleteWorkspace-[Notice] DeleteWorkspace started\n",
      "DeleteWorkspace-[Notice] DeleteWorkspace successful, Duration 0.00 seconds\n"
     ]
    }
   ],
   "source": [
    "mantid_empty_beam_incident = scn.load(f'{path}/empty_beam-incident.nxs')\n",
    "mantid_empty_beam_transmission = scn.load(f'{path}/empty_beam-transmission.nxs')\n",
    "mantid_sample_trans_incident = scn.load(f'{path}/sample_trans-incident.nxs')\n",
    "mantid_sample_trans_transmission = scn.load(f'{path}/sample_trans-transmission.nxs')"
   ]
  },
  {
   "cell_type": "code",
   "execution_count": 14,
   "id": "8f079ae7-289b-454e-bddc-b27102044b46",
   "metadata": {},
   "outputs": [],
   "source": [
    "mantid_empty_beam_incident = mantid_empty_beam_incident.rebin(wavelength=wavelength_bins)\n",
    "mantid_empty_beam_transmission = mantid_empty_beam_transmission.rebin(wavelength=wavelength_bins)\n",
    "mantid_sample_trans_incident = mantid_sample_trans_incident.rebin(wavelength=wavelength_bins)\n",
    "mantid_sample_trans_transmission = mantid_sample_trans_transmission.rebin(wavelength=wavelength_bins)"
   ]
  },
  {
   "cell_type": "code",
   "execution_count": 15,
   "id": "577dc47a-8740-46f8-9f3d-bb5fac3c3933",
   "metadata": {},
   "outputs": [],
   "source": [
    "mantid_empty_beam_incident.coords['position'] = empty_beam_monitors['incident'].coords['position']\n",
    "mantid_empty_beam_incident.coords['source_position'] = empty_beam_monitors['incident'].coords['source_position']\n",
    "mantid_empty_beam_incident.coords['Ltotal'] =  empty_beam_monitors['incident'].coords['Ltotal']\n",
    "\n",
    "mantid_empty_beam_transmission.coords['position'] = empty_beam_monitors['transmission'].coords['position']\n",
    "mantid_empty_beam_transmission.coords['source_position'] = empty_beam_monitors['transmission'].coords['source_position']\n",
    "mantid_empty_beam_transmission.coords['Ltotal'] = empty_beam_monitors['transmission'].coords['Ltotal']\n",
    "\n",
    "mantid_sample_trans_incident.coords['position'] = sample_monitors['incident'].coords['position']\n",
    "mantid_sample_trans_incident.coords['source_position'] = sample_monitors['incident'].coords['source_position']\n",
    "mantid_sample_trans_incident.coords['Ltotal'] = sample_monitors['incident'].coords['Ltotal']\n",
    "\n",
    "mantid_sample_trans_transmission.coords['position'] = sample_monitors['transmission'].coords['position']\n",
    "mantid_sample_trans_transmission.coords['source_position'] = sample_monitors['transmission'].coords['source_position']\n",
    "mantid_sample_trans_transmission.coords['Ltotal'] = sample_monitors['transmission'].coords['Ltotal']\n",
    "\n",
    "for mantid_monitor in [mantid_empty_beam_incident, mantid_empty_beam_transmission, mantid_sample_trans_incident, mantid_sample_trans_transmission]:\n",
    "    mantid_monitor.coords['sample_position'] =  sc.vector(value=[0.0, 0.0, 0.0], unit='m')\n",
    "    mantid_monitor.variances = None"
   ]
  },
  {
   "cell_type": "code",
   "execution_count": 16,
   "id": "2d2862a7-dd12-451d-9da5-ca5dd8b21902",
   "metadata": {},
   "outputs": [],
   "source": [
    "sample_monitors = {'incident': mantid_sample_trans_incident, 'transmission': mantid_sample_trans_transmission}\n",
    "empty_beam_monitors = {'incident': mantid_empty_beam_incident, 'transmission': mantid_empty_beam_transmission}\n",
    "background_monitors = {'incident': mantid_empty_beam_incident, 'transmission': mantid_empty_beam_transmission}"
   ]
  },
  {
   "cell_type": "markdown",
   "id": "9bac49fc-5c7c-418b-95a0-2c3d58ef53e6",
   "metadata": {},
   "source": [
    "### Direct beam midpoints\n",
    "This operation is needed for performing interpolation. Later, this can probably be dome i_of_q module, however we still need to see what exactly the format of direct beam function would be. "
   ]
  },
  {
   "cell_type": "code",
   "execution_count": 17,
   "id": "f6e7f69d-bfac-4b12-8bea-bc3ed548506f",
   "metadata": {},
   "outputs": [],
   "source": [
    "direct_beam = direct_beam.rebin(wavelength=wavelength_bins)\n",
    "direct_beam.coords['wavelength'] = sc.midpoints(direct_beam.coords['wavelength'])"
   ]
  },
  {
   "cell_type": "code",
   "execution_count": 18,
   "id": "80af6851-4d60-49bc-a6b5-bfd267440142",
   "metadata": {},
   "outputs": [],
   "source": [
    "#Selecting single spectra for debugging purposes\n",
    "direct_beam_selected = direct_beam['spectrum', 173162]"
   ]
  },
  {
   "cell_type": "code",
   "execution_count": 19,
   "id": "7425c7b6-dcd5-4d85-b448-83aaaca66b82",
   "metadata": {},
   "outputs": [
    {
     "data": {
      "application/vnd.jupyter.widget-view+json": {
       "model_id": "c533ae684b164571b26f983b8091f5c2",
       "version_major": 2,
       "version_minor": 0
      },
      "text/plain": [
       "InteractiveFig(children=(HBar(), HBox(children=(VBar(children=(Toolbar(children=(ButtonTool(icon='home', layou…"
      ]
     },
     "execution_count": 19,
     "metadata": {},
     "output_type": "execute_result"
    }
   ],
   "source": [
    "direct_beam_selected.plot()"
   ]
  },
  {
   "cell_type": "code",
   "execution_count": 22,
   "id": "652aa470-74fe-4036-90e5-4eeead429831",
   "metadata": {},
   "outputs": [
    {
     "name": "stderr",
     "output_type": "stream",
     "text": [
      "An interpolation was performed on the direct_beam function. The variances in the direct_beam function have been dropped.\n"
     ]
    }
   ],
   "source": [
    "#NOTE: direct monitors is the same as sample (and backgroud)\n",
    "sample_q = sans.to_I_of_Q(data=ds['sample'],\n",
    "    data_monitors=sample_monitors,\n",
    "    direct_monitors=empty_beam_monitors,\n",
    "    direct_beam=direct_beam,\n",
    "    wavelength_bins=wavelength_bins,\n",
    "    q_bins=q_bins,\n",
    "    gravity=gravity,\n",
    "    wavelength_mask=wavelength_mask)"
   ]
  },
  {
   "cell_type": "code",
   "execution_count": 23,
   "id": "dba9fe02-5c65-4142-b94b-ccca2df879e2",
   "metadata": {},
   "outputs": [
    {
     "name": "stderr",
     "output_type": "stream",
     "text": [
      "An interpolation was performed on the direct_beam function. The variances in the direct_beam function have been dropped.\n"
     ]
    }
   ],
   "source": [
    "background_q = sans.to_I_of_Q(data=ds['background'],\n",
    "    data_monitors=background_monitors,\n",
    "    direct_monitors=empty_beam_monitors,\n",
    "    direct_beam=direct_beam,\n",
    "    wavelength_bins=wavelength_bins,\n",
    "    q_bins=q_bins,\n",
    "    gravity=gravity,\n",
    "    wavelength_mask=wavelength_mask)"
   ]
  },
  {
   "cell_type": "markdown",
   "id": "d88ac17e-233f-42ff-bc0c-930f797af1c1",
   "metadata": {},
   "source": [
    "We are now in a position to subtract the background from the sample measurement:"
   ]
  },
  {
   "cell_type": "code",
   "execution_count": 24,
   "id": "f3715d62-e58b-410a-97cd-cfc16bc32a28",
   "metadata": {},
   "outputs": [],
   "source": [
    "result = sample_q.bins.sum() - background_q.bins.sum()"
   ]
  },
  {
   "cell_type": "code",
   "execution_count": 25,
   "id": "af479d15-eec2-40e1-ab2f-816ef1000be7",
   "metadata": {},
   "outputs": [
    {
     "data": {
      "application/vnd.jupyter.widget-view+json": {
       "model_id": "6f5e196d32ec47feb7f9e468cd5365ce",
       "version_major": 2,
       "version_minor": 0
      },
      "text/plain": [
       "InteractiveFig(children=(HBar(), HBox(children=(VBar(children=(Toolbar(children=(ButtonTool(icon='home', layou…"
      ]
     },
     "execution_count": 25,
     "metadata": {},
     "output_type": "execute_result"
    }
   ],
   "source": [
    "background_q.bins.sum().plot()"
   ]
  },
  {
   "cell_type": "code",
   "execution_count": 26,
   "id": "68ec0502-76a1-4e4d-8730-c9089befc207",
   "metadata": {},
   "outputs": [
    {
     "name": "stderr",
     "output_type": "stream",
     "text": [
      "An interpolation was performed on the direct_beam function. The variances in the direct_beam function have been dropped.\n"
     ]
    }
   ],
   "source": [
    "#NOTE: direct monitors is the same as sample (and backgroud)\n",
    "sample_q_selected = sans.to_I_of_Q(data=ds['sample'],\n",
    "    data_monitors=sample_monitors,\n",
    "    direct_monitors=empty_beam_monitors,\n",
    "    direct_beam=direct_beam_selected,\n",
    "    wavelength_bins=wavelength_bins,\n",
    "    q_bins=q_bins,\n",
    "    gravity=gravity,\n",
    "    wavelength_mask=wavelength_mask)"
   ]
  },
  {
   "cell_type": "code",
   "execution_count": 27,
   "id": "861cb159-adf1-46d9-9d31-9c4642dfcb35",
   "metadata": {},
   "outputs": [
    {
     "name": "stderr",
     "output_type": "stream",
     "text": [
      "An interpolation was performed on the direct_beam function. The variances in the direct_beam function have been dropped.\n"
     ]
    }
   ],
   "source": [
    "background_q_selected = sans.to_I_of_Q(data=ds['background'],\n",
    "    data_monitors=background_monitors,\n",
    "    direct_monitors=empty_beam_monitors,\n",
    "    direct_beam=direct_beam_selected,\n",
    "    wavelength_bins=wavelength_bins,\n",
    "    q_bins=q_bins,\n",
    "    gravity=gravity,\n",
    "    wavelength_mask=wavelength_mask)"
   ]
  },
  {
   "cell_type": "code",
   "execution_count": 28,
   "id": "b9d854f3-4cc4-4888-8460-88a2ca02a0be",
   "metadata": {},
   "outputs": [],
   "source": [
    "result_selected = sample_q_selected.bins.sum() - background_q_selected.bins.sum()"
   ]
  },
  {
   "cell_type": "code",
   "execution_count": 29,
   "id": "2a300aef-c8b6-4757-9b15-6b4b61ad5e06",
   "metadata": {},
   "outputs": [
    {
     "data": {
      "application/vnd.jupyter.widget-view+json": {
       "model_id": "c11f345e07a04a90bc01f333c69938aa",
       "version_major": 2,
       "version_minor": 0
      },
      "text/plain": [
       "InteractiveFig(children=(HBar(), HBox(children=(VBar(children=(Toolbar(children=(ButtonTool(icon='home', layou…"
      ]
     },
     "execution_count": 29,
     "metadata": {},
     "output_type": "execute_result"
    }
   ],
   "source": [
    "result_selected.plot()"
   ]
  },
  {
   "cell_type": "code",
   "execution_count": 30,
   "id": "3b07086d-eeb2-4b19-932c-763dd0042608",
   "metadata": {},
   "outputs": [
    {
     "data": {
      "application/vnd.jupyter.widget-view+json": {
       "model_id": "1c5891edd6704e54beba9895ac726fc8",
       "version_major": 2,
       "version_minor": 0
      },
      "text/plain": [
       "InteractiveFig(children=(HBar(), HBox(children=(VBar(children=(Toolbar(children=(ButtonTool(icon='home', layou…"
      ]
     },
     "execution_count": 30,
     "metadata": {},
     "output_type": "execute_result"
    }
   ],
   "source": [
    "sc.plot({'selected': result_selected, 'full': result})"
   ]
  },
  {
   "cell_type": "code",
   "execution_count": 31,
   "id": "45eb3c94-db8f-4a74-9b49-208399feb12b",
   "metadata": {},
   "outputs": [
    {
     "name": "stdout",
     "output_type": "stream",
     "text": [
      "Load-[Notice] Load started\n",
      "ISISRunLogs-[Warning] Cannot find period log. Logs will be not be filtered by current period\n",
      "ISISRunLogs-[Warning] Cannot find periods log. Logs will be not be filtered by current period\n",
      "Load-[Notice] Load successful, Duration 0.91 seconds\n",
      "DeleteWorkspace-[Notice] DeleteWorkspace started\n",
      "DeleteWorkspace-[Notice] DeleteWorkspace successful, Duration 0.00 seconds\n"
     ]
    }
   ],
   "source": [
    "mantid_result = scn.load(f'{path}/ISIS_polymer_mantid_no_solid_angle.nxs')"
   ]
  },
  {
   "cell_type": "code",
   "execution_count": 32,
   "id": "2f11cd8a-5487-4cbf-afb4-c97830bbc2e6",
   "metadata": {},
   "outputs": [],
   "source": [
    "mantid_result.data.unit = 'counts'"
   ]
  },
  {
   "cell_type": "code",
   "execution_count": 33,
   "id": "3fb94b9e-93cc-41bc-afde-adc9db78549e",
   "metadata": {},
   "outputs": [
    {
     "data": {
      "application/vnd.jupyter.widget-view+json": {
       "model_id": "468bc06fba5b46cbbff1789724abeaf7",
       "version_major": 2,
       "version_minor": 0
      },
      "text/plain": [
       "InteractiveFig(children=(HBar(), HBox(children=(VBar(children=(Toolbar(children=(ButtonTool(icon='home', layou…"
      ]
     },
     "execution_count": 33,
     "metadata": {},
     "output_type": "execute_result"
    }
   ],
   "source": [
    "sc.plot({'scipp': result, 'mantid': 6e-6 * mantid_result})"
   ]
  },
  {
   "cell_type": "markdown",
   "id": "57679ad0-d04a-4c30-a2b3-78e9800f5ae0",
   "metadata": {},
   "source": [
    "<div class=\"alert alert-info\">\n",
    "\n",
    "**Note**\n",
    "\n",
    "Instead of `.bins.sum()`,\n",
    "one could use `sc.histogram()` above to define different `Q` bins compared to the ones defined at the top of the notebook.\n",
    "This can be done in event mode, see [here](https://scipp.github.io/user-guide/binned-data/computation.html#Subtraction).\n",
    "\n",
    "There may be performance advantages to first use a coarse `Q` binning when the computing `I(Q)` numerator,\n",
    "and use finer binning for the final results.\n",
    "\n",
    "</div>"
   ]
  },
  {
   "cell_type": "markdown",
   "id": "5c270fd9-beee-4abd-a51a-4d16ad54922e",
   "metadata": {},
   "source": [
    "## Wavelength bands\n",
    "\n",
    "It is often useful to process the data in a small number (~10) of separate wavelength bands.\n",
    "\n",
    "This can be achieved by requesting 10 bands from the `to_I_of_Q` workflow via the `wavelength_bands` argument."
   ]
  },
  {
   "cell_type": "code",
   "execution_count": 34,
   "id": "ca7e75fe-29f6-44c9-88c2-43d870044b4c",
   "metadata": {},
   "outputs": [
    {
     "name": "stderr",
     "output_type": "stream",
     "text": [
      "An interpolation was performed on the direct_beam function. The variances in the direct_beam function have been dropped.\n",
      "An interpolation was performed on the direct_beam function. The variances in the direct_beam function have been dropped.\n"
     ]
    },
    {
     "data": {
      "text/html": [
       "<div><!-- Original source from -->\n",
       "<!-- https://github.com/jsignell/xarray/blob/1d960933ab252e0f79f7e050e6c9261d55568057/xarray/static/html/icons-svg-inline.html -->\n",
       "<svg style=\"position: absolute; width: 0; height: 0; overflow: hidden\">\n",
       "<defs>\n",
       "<symbol id=\"icon-database\" viewBox=\"0 0 32 32\">\n",
       "<title>Show/Hide data repr</title>\n",
       "<path d=\"M16 0c-8.837 0-16 2.239-16 5v4c0 2.761 7.163 5 16 5s16-2.239 16-5v-4c0-2.761-7.163-5-16-5z\"></path>\n",
       "<path d=\"M16 17c-8.837 0-16-2.239-16-5v6c0 2.761 7.163 5 16 5s16-2.239 16-5v-6c0 2.761-7.163 5-16 5z\"></path>\n",
       "<path d=\"M16 26c-8.837 0-16-2.239-16-5v6c0 2.761 7.163 5 16 5s16-2.239 16-5v-6c0 2.761-7.163 5-16 5z\"></path>\n",
       "</symbol>\n",
       "<symbol id=\"icon-file-text2\" viewBox=\"0 0 32 32\">\n",
       "<title>Show/Hide attributes</title>\n",
       "<path d=\"M28.681 7.159c-0.694-0.947-1.662-2.053-2.724-3.116s-2.169-2.030-3.116-2.724c-1.612-1.182-2.393-1.319-2.841-1.319h-15.5c-1.378 0-2.5 1.121-2.5 2.5v27c0 1.378 1.122 2.5 2.5 2.5h23c1.378 0 2.5-1.122 2.5-2.5v-19.5c0-0.448-0.137-1.23-1.319-2.841zM24.543 5.457c0.959 0.959 1.712 1.825 2.268 2.543h-4.811v-4.811c0.718 0.556 1.584 1.309 2.543 2.268zM28 29.5c0 0.271-0.229 0.5-0.5 0.5h-23c-0.271 0-0.5-0.229-0.5-0.5v-27c0-0.271 0.229-0.5 0.5-0.5 0 0 15.499-0 15.5 0v7c0 0.552 0.448 1 1 1h7v19.5z\"></path>\n",
       "<path d=\"M23 26h-14c-0.552 0-1-0.448-1-1s0.448-1 1-1h14c0.552 0 1 0.448 1 1s-0.448 1-1 1z\"></path>\n",
       "<path d=\"M23 22h-14c-0.552 0-1-0.448-1-1s0.448-1 1-1h14c0.552 0 1 0.448 1 1s-0.448 1-1 1z\"></path>\n",
       "<path d=\"M23 18h-14c-0.552 0-1-0.448-1-1s0.448-1 1-1h14c0.552 0 1 0.448 1 1s-0.448 1-1 1z\"></path>\n",
       "</symbol>\n",
       "</defs>\n",
       "</svg><style id=\"scipp-style-sheet\">.sc-root{--sc-background-color0:var(--jp-layout-color0,#fff);--sc-background-color1:var(--jp-layout-color1,#fcfcfc);--sc-background-color2:var(--jp-layout-color2,#efefef);--sc-inverse-background-color0:var(--jp-inverse-layout-color4,#111);--sc-font-color0:var(--jp-content-font-color0,#000);--sc-font-color1:var(--jp-content-font-color1,#555);--sc-font-color2:var(--jp-content-font-color2,#888);--sc-font-color3:var(--jp-content-font-color3,#ccc);--sc-table-data-color:#f6d028;--sc-table-coords-color:#c6e590;--sc-table-masks-color:#c8c8c8;--sc-table-attrs-color:#ff5555;--sc-table-header-font-color:#111111;}.sc-wrap{font-size:14px;min-width:300px;max-width:800px;}.sc-var-attrs .sc-wrap{padding-left:3em;}.sc-header{padding-top:6px;padding-bottom:6px;margin-bottom:4px;border-bottom:solid 1px #ddd;}.sc-header > div,.sc-header > ul{display:inline;margin-top:0;margin-bottom:0;}.sc-obj-type,.sc-array-name{margin-left:2px;margin-right:10px;}.sc-obj-type{color:var(--sc-font-color1);}.sc-underlying-size{color:var(--sc-font-color2);}.sc-sections,.reveal .sc-sections{padding-left:0 !important;display:grid;grid-template-columns:150px auto auto auto 1fr 20px 20px;}.sc-section-item{display:contents;}.sc-section-item input{display:none;}.sc-section-item input:enabled + label{cursor:pointer;color:var(--sc-font-color1);}.sc-section-item input:enabled + label:hover{color:var(--sc-font-color0);}.sc-section-summary{grid-column:1;font-weight:500;}.sc-section-summary > span{display:inline-block;padding-left:0.5em;}.sc-section-summary-in:disabled + label{color:var(--sc-font-color1);}.sc-section-summary-in + label:before{display:inline-block;content:'►';font-size:11px;width:15px;text-align:center;}.sc-section-summary-in:disabled + label:before{color:var(--sc-font-color3);}.sc-section-summary-in:checked + label:before{content:'▼';}.sc-section-summary-in:checked + label > span{display:none;}.sc-section-summary,.sc-section-inline-details{padding-top:4px;padding-bottom:4px;}.sc-section-inline-details{grid-column:2 / 6;}.sc-section-details{display:none;grid-column:1 / -1;margin-bottom:5px;}.sc-section-summary-in:checked ~ .sc-section-details{display:contents;}.sc-array-wrap{grid-column:1 / -1;display:grid;grid-template-columns:20px auto;}.sc-array-wrap > label{grid-column:1;vertical-align:top;}.sc-preview{color:var(--sc-font-color2);}.sc-array-preview,.sc-array-data{padding:0 5px !important;grid-column:2;}.sc-array-data,.sc-array-in:checked ~ .sc-array-preview{display:none;}.sc-array-in:checked ~ .sc-array-data,.sc-array-preview{display:inline-block;}.sc-dim-list{display:inline-block !important;list-style:none;padding:0 !important;margin:0;}.sc-dim-list li{display:inline-block;padding:0;margin:0!important;}.sc-dim-list:before{content:'(';}.sc-dim-list:after{content:')';}.sc-dim-list li:not(:last-child):after{content:',';padding-right:5px;}.sc-dim-list li span,.sc-standalone-var-name > span span,.sc-var-name > span span{padding:0 !important;}.sc-aligned{font-weight:bold;}.sc-var-list,.sc-var-item,.reveal .sc-var-list,.reveal .sc-var-item{display:contents;}.sc-var-item > div,.sc-var-item label,.sc-var-item > .sc-var-name span{background-color:var(--sc-background-color1);margin-bottom:0;}.sc-var-item > .sc-var-name:hover span{padding-right:5px;}.sc-var-list > li:nth-child(odd) > div,.sc-var-list > li:nth-child(odd) > label,.sc-var-list > li:nth-child(odd) > .sc-var-name span{background-color:var(--sc-background-color2);}.sc-var-name{grid-column:1;}.sc-var-dims{grid-column:2;}.sc-var-dtype{grid-column:3;text-align:right;color:var(--sc-font-color2);}.sc-var-unit{grid-column:4;text-align:left;color:var(--sc-font-color1);max-width:50pt;text-overflow:ellipsis;}.sc-value-preview{grid-column:5;}.sc-var-preview-variances{text-align:right;}.sc-sections .sc-section-item .sc-section-summary,.sc-sections .sc-section-item .sc-section-inline-details,.sc-section-item .sc-var-list .sc-var-item > div,.sc-section-item .sc-var-list .sc-var-item > label,.sc-section-details .sc-var-list .sc-var-item > div,.sc-section-details .sc-var-list .sc-var-item > label{margin-top:0;margin-bottom:0;}.sc-var-name,.sc-var-dims,.sc-var-dtype,.sc-var-unit,.sc-preview,.sc-attrs dt{white-space:nowrap;overflow:hidden;text-overflow:ellipsis;padding-right:10px;}.sc-var-name:hover,.sc-var-dims:hover,.sc-var-dtype:hover,.sc-var-unit:hover,.sc-attrs dt:hover{overflow:visible;width:auto;z-index:1;}.sc-var-attrs{display:block;}.sc-var-data,.reveal .sc-var-data{display:none;}.sc-var-attrs,.sc-var-data{background-color:var(--sc-background-color0) !important;padding-bottom:5px !important;}.sc-var-attrs-in:checked ~ .sc-var-attrs{display:none;}.sc-var-data-in:checked ~ .sc-var-data{display:block;}.sc-var-data > table{float:right;}.sc-var-name span,.sc-var-data{padding-left:25px !important;}.sc-var-attrs,.sc-var-data{grid-column:1 / -1;}dl.sc-attrs{padding:0;margin:0;display:grid;grid-template-columns:125px auto;}.sc-attrs dt,dd{padding:0;margin:0;float:left;padding-right:10px;width:auto;}.sc-attrs dt{font-weight:normal;grid-column:1;}.sc-attrs dt:hover span{display:inline-block;padding-right:10px;}.sc-attrs dd{grid-column:2;white-space:pre-wrap;word-break:break-all;}.sc-icon-database,.sc-icon-file-text2{display:inline-block;vertical-align:middle;width:1em;height:1.5em !important;stroke-width:0;stroke:currentColor;fill:currentColor;}label.sc-hide-icon svg{opacity:0;}.sc-standalone-var-name{grid-column:1/3;}.sc-standalone-var-name span{padding-left:25px;padding-right:10px;}.sc-table{border-collapse:collapse;}.sc-title{font-weight:bold;font-size:1.5em;}.sc-subtitle{font-weight:normal;font-style:italic;text-align:left;font-size:1.2em;padding:1px;}.sc-table th,.sc-table td{border:1px solid var(--sc-inverse-background-color0);padding:0 5px 0 5px;}.sc-table th{text-align:center;}.sc-table tr{background-color:var(--sc-background-color1);text-align:right;}.sc-table tr:hover{background-color:var(--sc-background-color2);}.sc-table th.sc-data{background-color:var(--sc-table-data-color);color:var(--sc-table-header-font-color);}.sc-table th.sc-coords{background-color:var(--sc-table-coords-color);color:var(--sc-table-header-font-color);}.sc-table th.sc-masks{background-color:var(--sc-table-masks-color);color:var(--sc-table-header-font-color);}.sc-table th.sc-attrs{background-color:var(--sc-table-attrs-color);color:var(--sc-table-header-font-color);}.sc-table th.sc-subheader{background-color:var(--sc-background-color2);}.sc-table td.sc-padding{background-color:var(--sc-background-color1);border:0 solid var(--sc-background-color1);height:1.2em;}.sc-label{fill:var(--sc-font-color0,#444444);text-anchor:middle;}.sc-name{fill:var(--sc-font-color0,#111111);}.sc-inset-line{stroke:var(--sc-font-color1);stroke-width:0.05;stroke-dasharray:0.2,0.2;}.sc-log-wrap{height:25ex;resize:vertical;overflow-y:scroll;display:flex;flex-direction:column-reverse;border:1px solid;border-color:var(--jp-border-color2);background-color:var(--sc-background-color1);}div.sc-log{line-height:2.5ex;}table.sc-log{table-layout:auto;border-collapse:collapse;}tr.sc-log:nth-child(even){background-color:var(--sc-background-color0);}tr.sc-log > td{vertical-align:top;padding-bottom:0.5ex;}.sc-log-time-stamp{min-width:22ch;font-family:var(--jp-code-font-family);color:var(--sc-font-color2);}.sc-log-level{min-width:10ch;}tr.sc-log-debug td.sc-log-level{color:var(--jp-accent-color1);}tr.sc-log-info td.sc-log-level{color:var(--jp-info-color1);}tr.sc-log-warning td.sc-log-level{color:var(--jp-warn-color1);}tr.sc-log-error td.sc-log-level{font-weight:bold;color:var(--jp-error-color2);}tr.sc-log-critical td.sc-log-level{font-weight:bold;color:var(--sc-background-color0);background-color:var(--jp-error-color1);}.sc-log-message{white-space:pre-wrap;width:100%;}.sc-log-html-payload{white-space:normal;}.sc-log-name{padding-right:0.5em;text-align:right;white-space:pre-wrap;color:var(--sc-font-color3);}</style><div class='sc-wrap sc-root'><div class='sc-header'><div class='sc-obj-type'>scipp.DataArray (13.08 KB)</div></div><ul class='sc-sections'><li class='sc-section-item'><input id='section-11d6a97a-f051-4044-a469-6082b092d014' class='sc-section-summary-in' type='checkbox' disabled ><label for='section-11d6a97a-f051-4044-a469-6082b092d014' class='sc-section-summary'  title='Expand/collapse section'>Dimensions:</label><div class='sc-section-inline-details'><ul class='sc-dim-list'><li><span class='sc-has-index'>Q</span>: 109</li><li><span class='sc-has-index'>wavelength</span>: 9</li></ul></div><div class='sc-section-details'></div></li><li class='sc-section-item'><input id='section-e81bc9dd-5d65-43aa-afdd-68b619fbfd0f' class='sc-section-summary-in' type='checkbox'  checked><label for='section-e81bc9dd-5d65-43aa-afdd-68b619fbfd0f' class='sc-section-summary' >Coordinates: <span>(10)</span></label><div class='sc-section-inline-details'></div><div class='sc-section-details'><ul class='sc-var-list'><li class='sc-var-item'><div class='sc-var-name'><span>L1</span></div><div class='sc-var-dims'>()</div><div class='sc-var-dtype'>float64</div><div class='sc-var-unit'>m</div><div class='sc-value-preview sc-preview'><span><div>25.61</div></span></div><input id='attrs-e3dfe94c-786c-4331-9f68-f57675150393' class='sc-var-attrs-in' type='checkbox' disabled><label for='attrs-e3dfe94c-786c-4331-9f68-f57675150393' class='sc-hide-icon' title='Show/Hide attributes'><svg class='icon sc-icon-file-text2'><use xlink:href='#icon-file-text2'></use></svg></label><input id='data-33d8683c-3856-4262-a525-c91f4b92d65f' class='sc-var-data-in' type='checkbox'><label for='data-33d8683c-3856-4262-a525-c91f4b92d65f' title='Show/Hide data repr'><svg class='icon sc-icon-database'><use xlink:href='#icon-database'></use></svg></label><pre class='sc-var-data'>Values:<br>array(25.61)</pre></span></li><li class='sc-var-item'><div class='sc-var-name'><span class='sc-aligned'>Q</span></div><div class='sc-var-dims'>(Q [bin-edge])</div><div class='sc-var-dtype'>float64</div><div class='sc-var-unit'>1/Å</div><div class='sc-value-preview sc-preview'><span><div>0.004, 0.008, ..., 0.396, 0.4</div></span></div><input id='attrs-3f95614d-61d5-4f9a-a9df-418bbbe56863' class='sc-var-attrs-in' type='checkbox' disabled><label for='attrs-3f95614d-61d5-4f9a-a9df-418bbbe56863' class='sc-hide-icon' title='Show/Hide attributes'><svg class='icon sc-icon-file-text2'><use xlink:href='#icon-file-text2'></use></svg></label><input id='data-f60b6fe3-d62c-4c0e-846f-0e9838cb55ff' class='sc-var-data-in' type='checkbox'><label for='data-f60b6fe3-d62c-4c0e-846f-0e9838cb55ff' title='Show/Hide data repr'><svg class='icon sc-icon-database'><use xlink:href='#icon-database'></use></svg></label><pre class='sc-var-data'>Values:<br>array([0.004     , 0.00763303, 0.01126606, 0.01489908, 0.01853211,\n",
       "       0.02216514, 0.02579817, 0.02943119, 0.03306422, 0.03669725,\n",
       "       0.04033028, 0.0439633 , 0.04759633, 0.05122936, 0.05486239,\n",
       "       0.05849541, 0.06212844, 0.06576147, 0.0693945 , 0.07302752,\n",
       "       0.07666055, 0.08029358, 0.08392661, 0.08755963, 0.09119266,\n",
       "       0.09482569, 0.09845872, 0.10209174, 0.10572477, 0.1093578 ,\n",
       "       0.11299083, 0.11662385, 0.12025688, 0.12388991, 0.12752294,\n",
       "       0.13115596, 0.13478899, 0.13842202, 0.14205505, 0.14568807,\n",
       "       0.1493211 , 0.15295413, 0.15658716, 0.16022018, 0.16385321,\n",
       "       0.16748624, 0.17111927, 0.17475229, 0.17838532, 0.18201835,\n",
       "       0.18565138, 0.1892844 , 0.19291743, 0.19655046, 0.20018349,\n",
       "       0.20381651, 0.20744954, 0.21108257, 0.2147156 , 0.21834862,\n",
       "       0.22198165, 0.22561468, 0.22924771, 0.23288073, 0.23651376,\n",
       "       0.24014679, 0.24377982, 0.24741284, 0.25104587, 0.2546789 ,\n",
       "       0.25831193, 0.26194495, 0.26557798, 0.26921101, 0.27284404,\n",
       "       0.27647706, 0.28011009, 0.28374312, 0.28737615, 0.29100917,\n",
       "       0.2946422 , 0.29827523, 0.30190826, 0.30554128, 0.30917431,\n",
       "       0.31280734, 0.31644037, 0.32007339, 0.32370642, 0.32733945,\n",
       "       0.33097248, 0.3346055 , 0.33823853, 0.34187156, 0.34550459,\n",
       "       0.34913761, 0.35277064, 0.35640367, 0.3600367 , 0.36366972,\n",
       "       0.36730275, 0.37093578, 0.37456881, 0.37820183, 0.38183486,\n",
       "       0.38546789, 0.38910092, 0.39273394, 0.39636697, 0.4       ])</pre></span></li><li class='sc-var-item'><div class='sc-var-name'><span>gravity</span></div><div class='sc-var-dims'>()</div><div class='sc-var-dtype'>vector3</div><div class='sc-var-unit'>m/s^2</div><div class='sc-value-preview sc-preview'><span><div>[ 0.      -9.80665  0.     ]</div></span></div><input id='attrs-7a2c5e72-2b08-4c49-8473-9b3ab642d9ae' class='sc-var-attrs-in' type='checkbox' disabled><label for='attrs-7a2c5e72-2b08-4c49-8473-9b3ab642d9ae' class='sc-hide-icon' title='Show/Hide attributes'><svg class='icon sc-icon-file-text2'><use xlink:href='#icon-file-text2'></use></svg></label><input id='data-3fe14fe3-6748-43b3-8a39-34a641a3a08e' class='sc-var-data-in' type='checkbox'><label for='data-3fe14fe3-6748-43b3-8a39-34a641a3a08e' title='Show/Hide data repr'><svg class='icon sc-icon-database'><use xlink:href='#icon-database'></use></svg></label><pre class='sc-var-data'>Values:<br>array([ 0.     , -9.80665,  0.     ])</pre></span></li><li class='sc-var-item'><div class='sc-var-name'><span>incident_beam</span></div><div class='sc-var-dims'>()</div><div class='sc-var-dtype'>vector3</div><div class='sc-var-unit'>m</div><div class='sc-value-preview sc-preview'><span><div>[ 0.    0.   25.61]</div></span></div><input id='attrs-12bde3ea-e40a-47df-a5c5-7b31929ff3ec' class='sc-var-attrs-in' type='checkbox' disabled><label for='attrs-12bde3ea-e40a-47df-a5c5-7b31929ff3ec' class='sc-hide-icon' title='Show/Hide attributes'><svg class='icon sc-icon-file-text2'><use xlink:href='#icon-file-text2'></use></svg></label><input id='data-7fd21b19-7dbe-4ff9-923c-96c392f04747' class='sc-var-data-in' type='checkbox'><label for='data-7fd21b19-7dbe-4ff9-923c-96c392f04747' title='Show/Hide data repr'><svg class='icon sc-icon-database'><use xlink:href='#icon-database'></use></svg></label><pre class='sc-var-data'>Values:<br>array([ 0.  ,  0.  , 25.61])</pre></span></li><li class='sc-var-item'><div class='sc-var-name'><span class='sc-aligned'>pixel_height</span></div><div class='sc-var-dims'>()</div><div class='sc-var-dtype'>float64</div><div class='sc-var-unit'>m</div><div class='sc-value-preview sc-preview'><span><div>0.0117188</div></span></div><input id='attrs-3fb78ffa-cac6-49e2-b1af-ee2b85574aff' class='sc-var-attrs-in' type='checkbox' disabled><label for='attrs-3fb78ffa-cac6-49e2-b1af-ee2b85574aff' class='sc-hide-icon' title='Show/Hide attributes'><svg class='icon sc-icon-file-text2'><use xlink:href='#icon-file-text2'></use></svg></label><input id='data-3c8eac45-ef21-4ead-8d81-4b56beff51a7' class='sc-var-data-in' type='checkbox'><label for='data-3c8eac45-ef21-4ead-8d81-4b56beff51a7' title='Show/Hide data repr'><svg class='icon sc-icon-database'><use xlink:href='#icon-database'></use></svg></label><pre class='sc-var-data'>Values:<br>array(0.0117188)</pre></span></li><li class='sc-var-item'><div class='sc-var-name'><span class='sc-aligned'>pixel_shape</span></div><div class='sc-var-dims'>()</div><div class='sc-var-dtype'>DatasetView</div><div class='sc-var-unit'></div><div class='sc-value-preview sc-preview'><span><div>binned data [len=1]</div></span></div><input id='attrs-c70d30f0-de4e-480b-9ec3-68ecd4cbaf2c' class='sc-var-attrs-in' type='checkbox' disabled><label for='attrs-c70d30f0-de4e-480b-9ec3-68ecd4cbaf2c' class='sc-hide-icon' title='Show/Hide attributes'><svg class='icon sc-icon-file-text2'><use xlink:href='#icon-file-text2'></use></svg></label><input id='data-5255ef5a-82b0-467a-aed1-316b47b8ce42' class='sc-var-data-in' type='checkbox'><label for='data-5255ef5a-82b0-467a-aed1-316b47b8ce42' title='Show/Hide data repr'><svg class='icon sc-icon-database'><use xlink:href='#icon-database'></use></svg></label><pre class='sc-var-data'>&lt;scipp.Variable&gt; ()  DatasetView        &lt;no unit&gt;  &lt;scipp.Dataset&gt;\n",
       "Dimensions: Sizes[cylinder:1, ]\n",
       "Data:\n",
       "  face1_center              vector3              [m]  (cylinder)  [(0, 0, 0)]\n",
       "  face1_edge                vector3              [m]  (cylinder)  [(0, -0.00257703, 0.00305923)]\n",
       "  face2_center              vector3              [m]  (cylinder)  [(0.00194919, 0, 0)]\n",
       "\n",
       "</pre></span></li><li class='sc-var-item'><div class='sc-var-name'><span class='sc-aligned'>pixel_width</span></div><div class='sc-var-dims'>()</div><div class='sc-var-dtype'>float64</div><div class='sc-var-unit'>m</div><div class='sc-value-preview sc-preview'><span><div>0.0075</div></span></div><input id='attrs-3eae6cd1-70a5-4d8f-a4d4-5decfd40be4d' class='sc-var-attrs-in' type='checkbox' disabled><label for='attrs-3eae6cd1-70a5-4d8f-a4d4-5decfd40be4d' class='sc-hide-icon' title='Show/Hide attributes'><svg class='icon sc-icon-file-text2'><use xlink:href='#icon-file-text2'></use></svg></label><input id='data-26673989-310b-4af4-adae-36d43d28f01f' class='sc-var-data-in' type='checkbox'><label for='data-26673989-310b-4af4-adae-36d43d28f01f' title='Show/Hide data repr'><svg class='icon sc-icon-database'><use xlink:href='#icon-database'></use></svg></label><pre class='sc-var-data'>Values:<br>array(0.0075)</pre></span></li><li class='sc-var-item'><div class='sc-var-name'><span>sample_position</span></div><div class='sc-var-dims'>()</div><div class='sc-var-dtype'>vector3</div><div class='sc-var-unit'>m</div><div class='sc-value-preview sc-preview'><span><div>[0. 0. 0.]</div></span></div><input id='attrs-801a46b4-2d90-4e6d-a771-2b5ce6000d6c' class='sc-var-attrs-in' type='checkbox' disabled><label for='attrs-801a46b4-2d90-4e6d-a771-2b5ce6000d6c' class='sc-hide-icon' title='Show/Hide attributes'><svg class='icon sc-icon-file-text2'><use xlink:href='#icon-file-text2'></use></svg></label><input id='data-0646d198-04de-4c70-86ad-51db0d00b918' class='sc-var-data-in' type='checkbox'><label for='data-0646d198-04de-4c70-86ad-51db0d00b918' title='Show/Hide data repr'><svg class='icon sc-icon-database'><use xlink:href='#icon-database'></use></svg></label><pre class='sc-var-data'>Values:<br>array([0., 0., 0.])</pre></span></li><li class='sc-var-item'><div class='sc-var-name'><span>source_position</span></div><div class='sc-var-dims'>()</div><div class='sc-var-dtype'>vector3</div><div class='sc-var-unit'>m</div><div class='sc-value-preview sc-preview'><span><div>[  0.     0.   -25.61]</div></span></div><input id='attrs-543284cc-d9cd-47c0-8fca-dedfc5845efc' class='sc-var-attrs-in' type='checkbox' disabled><label for='attrs-543284cc-d9cd-47c0-8fca-dedfc5845efc' class='sc-hide-icon' title='Show/Hide attributes'><svg class='icon sc-icon-file-text2'><use xlink:href='#icon-file-text2'></use></svg></label><input id='data-b8e6e1d2-5d35-406c-bae4-10ca6ede91ed' class='sc-var-data-in' type='checkbox'><label for='data-b8e6e1d2-5d35-406c-bae4-10ca6ede91ed' title='Show/Hide data repr'><svg class='icon sc-icon-database'><use xlink:href='#icon-database'></use></svg></label><pre class='sc-var-data'>Values:<br>array([  0.  ,   0.  , -25.61])</pre></span></li><li class='sc-var-item'><div class='sc-var-name'><span class='sc-aligned'>wavelength</span></div><div class='sc-var-dims'>(wavelength [bin-edge])</div><div class='sc-var-dtype'>float64</div><div class='sc-var-unit'>Å</div><div class='sc-value-preview sc-preview'><span><div>2.2, 3.289, ..., 10.911, 12.0</div></span></div><input id='attrs-e55fd379-9fc6-48d8-9f07-81c483c04f3d' class='sc-var-attrs-in' type='checkbox' disabled><label for='attrs-e55fd379-9fc6-48d8-9f07-81c483c04f3d' class='sc-hide-icon' title='Show/Hide attributes'><svg class='icon sc-icon-file-text2'><use xlink:href='#icon-file-text2'></use></svg></label><input id='data-b4771273-2078-4fc5-a9be-574723dc001a' class='sc-var-data-in' type='checkbox'><label for='data-b4771273-2078-4fc5-a9be-574723dc001a' title='Show/Hide data repr'><svg class='icon sc-icon-database'><use xlink:href='#icon-database'></use></svg></label><pre class='sc-var-data'>Values:<br>array([ 2.2       ,  3.28888889,  4.37777778,  5.46666667,  6.55555556,\n",
       "        7.64444444,  8.73333333,  9.82222222, 10.91111111, 12.        ])</pre></span></li></ul></div></li><li class='sc-section-item'><input id='section-7a319134-e7af-4d83-9767-a2c0d6827981' class='sc-section-summary-in' type='checkbox'  checked><label for='section-7a319134-e7af-4d83-9767-a2c0d6827981' class='sc-section-summary' >Data: <span>(1)</span></label><div class='sc-section-inline-details'></div><div class='sc-section-details'><ul class='sc-var-list'><li class='sc-var-item'><div class='sc-var-name'><span></span></div><div class='sc-var-dims'>(Q, wavelength)</div><div class='sc-var-dtype'>float32</div><div class='sc-var-unit'>counts</div><div class='sc-value-preview sc-preview'><span><div>0.0, 0.0, ..., 0.0, 0.0</div></span></div><input id='attrs-0f38128d-9268-479b-9ccf-50d9bdd2d257' class='sc-var-attrs-in' type='checkbox' disabled><label for='attrs-0f38128d-9268-479b-9ccf-50d9bdd2d257' class='sc-hide-icon' title='Show/Hide attributes'><svg class='icon sc-icon-file-text2'><use xlink:href='#icon-file-text2'></use></svg></label><input id='data-a6c077cc-0f5a-44fa-bacd-c47496c0f7a1' class='sc-var-data-in' type='checkbox'><label for='data-a6c077cc-0f5a-44fa-bacd-c47496c0f7a1' title='Show/Hide data repr'><svg class='icon sc-icon-database'><use xlink:href='#icon-database'></use></svg></label><pre class='sc-var-data'>Values:<br>array([[0.00000000e+00, 0.00000000e+00, 0.00000000e+00, 0.00000000e+00,\n",
       "        2.17382272e-04, 1.33965237e-04, 1.49243657e-04, 1.15825089e-04,\n",
       "        1.27853520e-04],\n",
       "       [0.00000000e+00, 0.00000000e+00, 2.22366813e-04, 1.51400513e-04,\n",
       "        1.62564829e-04, 1.26237777e-04, 1.42125165e-04, 1.09261433e-04,\n",
       "        1.21592835e-04],\n",
       "       [0.00000000e+00, 1.88615973e-04, 1.90095190e-04, 1.43755693e-04,\n",
       "        1.53775138e-04, 1.20555298e-04, 1.32333793e-04, 1.04294995e-04,\n",
       "        1.12261892e-04],\n",
       "       [3.72548908e-04, 1.71388965e-04, 1.73754815e-04, 1.29310880e-04,\n",
       "        1.41216529e-04, 1.08902066e-04, 1.21489706e-04, 9.49626337e-05,\n",
       "        1.04466912e-04],\n",
       "       [3.22118547e-04, 1.58743860e-04, 1.56488066e-04, 1.17151350e-04,\n",
       "        1.26241255e-04, 9.85969164e-05, 1.08542103e-04, 8.47433475e-05,\n",
       "        9.33797564e-05],\n",
       "       [2.67848111e-04, 1.40876538e-04, 1.39608659e-04, 1.03415397e-04,\n",
       "        1.13273221e-04, 8.80637745e-05, 9.68441964e-05, 7.63383287e-05,\n",
       "        8.47968695e-05],\n",
       "       [2.38681678e-04, 1.24437647e-04, 1.22629324e-04, 9.13744661e-05,\n",
       "        9.98302348e-05, 7.74850996e-05, 8.61965236e-05, 6.75537594e-05,\n",
       "        7.47138401e-05],\n",
       "       [2.11448933e-04, 1.10247158e-04, 1.07183245e-04, 7.98997426e-05,\n",
       "        8.82987806e-05, 6.78892975e-05, 7.51225962e-05, 5.95802449e-05,\n",
       "        6.58507051e-05],\n",
       "       [1.87403741e-04, 9.53816707e-05, 9.41191684e-05, 6.94520277e-05,\n",
       "        7.67026213e-05, 6.01514039e-05, 6.60619844e-05, 5.21843285e-05,\n",
       "        5.84218687e-05],\n",
       "       [1.63590317e-04, 8.40059074e-05, 8.11823120e-05, 6.13172888e-05,\n",
       "        6.73750619e-05, 5.24136085e-05, 5.78015643e-05, 4.53988141e-05,\n",
       "        5.07476398e-05],\n",
       "       [1.42950084e-04, 7.31039181e-05, 7.17578732e-05, 5.39037355e-05,\n",
       "        5.90197342e-05, 4.57987153e-05, 5.11574362e-05, 3.98095654e-05,\n",
       "        4.54126348e-05],\n",
       "       [1.26467407e-04, 6.44334214e-05, 6.27225163e-05, 4.68212529e-05,\n",
       "        5.16894979e-05, 4.04260536e-05, 4.47683051e-05, 3.59176156e-05,\n",
       "        3.96775067e-05],\n",
       "       [1.11005036e-04, 5.62345522e-05, 5.53427235e-05, 4.17107476e-05,\n",
       "        4.57577698e-05, 3.59834994e-05, 3.99618548e-05, 3.18420025e-05,\n",
       "        3.68518995e-05],\n",
       "       [9.79388788e-05, 5.00321003e-05, 4.95379318e-05, 3.68395413e-05,\n",
       "        4.06045001e-05, 3.19210085e-05, 3.58067118e-05, 2.82655346e-05,\n",
       "        3.22578198e-05],\n",
       "       [8.73016834e-05, 4.49718427e-05, 4.34094400e-05, 3.28156457e-05,\n",
       "        3.62123174e-05, 2.87272178e-05, 3.17993763e-05, 2.52741011e-05,\n",
       "        2.99396434e-05],\n",
       "       [7.82293791e-05, 4.01313373e-05, 3.98352713e-05, 2.93316771e-05,\n",
       "        3.23863351e-05, 2.53625749e-05, 2.90119551e-05, 2.31537088e-05,\n",
       "        2.77814506e-05],\n",
       "       [7.06201536e-05, 3.60688937e-05, 3.52091411e-05, 2.66924562e-05,\n",
       "        2.95607133e-05, 2.32831626e-05, 2.67878495e-05, 2.06335662e-05,\n",
       "        2.50047196e-05],\n",
       "       [6.38987913e-05, 3.24311659e-05, 3.18856364e-05, 2.38632438e-05,\n",
       "        2.68057811e-05, 2.13014882e-05, 2.35394527e-05, 1.89762577e-05,\n",
       "        2.52409136e-05],\n",
       "       [5.75989652e-05, 2.97614552e-05, 2.87404782e-05, 2.17425240e-05,\n",
       "        2.41988128e-05, 1.90982919e-05, 2.19502181e-05, 1.67465787e-05,\n",
       "        2.22570234e-05],\n",
       "       [5.28629862e-05, 2.68978856e-05, 2.63099391e-05, 2.00255326e-05,\n",
       "        2.25119693e-05, 1.72094842e-05, 2.06030472e-05, 1.71337015e-05,\n",
       "        0.00000000e+00],\n",
       "       [4.83721778e-05, 2.45637257e-05, 2.41972339e-05, 1.81768173e-05,\n",
       "        2.04576572e-05, 1.65054280e-05, 1.93678152e-05, 1.51167224e-05,\n",
       "        0.00000000e+00],\n",
       "       [4.39446230e-05, 2.27732980e-05, 2.18812947e-05, 1.68172446e-05,\n",
       "        1.88318718e-05, 1.48174931e-05, 1.83606080e-05, 3.08379390e-06,\n",
       "        0.00000000e+00],\n",
       "       [4.11670371e-05, 2.08325455e-05, 2.04608477e-05, 1.55381731e-05,\n",
       "        1.76007343e-05, 1.36009958e-05, 1.81720679e-05, 0.00000000e+00,\n",
       "        0.00000000e+00],\n",
       "       [3.77808756e-05, 1.92480602e-05, 1.90369883e-05, 1.42413364e-05,\n",
       "        1.61149364e-05, 1.21626972e-05, 1.92941825e-05, 0.00000000e+00,\n",
       "        0.00000000e+00],\n",
       "       [3.51041635e-05, 1.79414310e-05, 1.75045679e-05, 1.32662790e-05,\n",
       "        1.51244576e-05, 1.12398402e-05, 0.00000000e+00, 0.00000000e+00,\n",
       "        0.00000000e+00],\n",
       "       [3.26160261e-05, 1.66176487e-05, 1.63561363e-05, 1.24265762e-05,\n",
       "        1.41056789e-05, 1.04956052e-05, 0.00000000e+00, 0.00000000e+00,\n",
       "        0.00000000e+00],\n",
       "       [3.04577970e-05, 1.55183698e-05, 1.53215478e-05, 1.14416835e-05,\n",
       "        1.34014654e-05, 1.03803595e-05, 0.00000000e+00, 0.00000000e+00,\n",
       "        0.00000000e+00],\n",
       "       [2.81882367e-05, 1.45121094e-05, 1.42202343e-05, 1.07443475e-05,\n",
       "        1.31594070e-05, 5.45667308e-06, 0.00000000e+00, 0.00000000e+00,\n",
       "        0.00000000e+00],\n",
       "       [2.65297531e-05, 1.37060024e-05, 1.33599588e-05, 1.00009265e-05,\n",
       "        1.18223152e-05, 0.00000000e+00, 0.00000000e+00, 0.00000000e+00,\n",
       "        0.00000000e+00],\n",
       "       [2.50439862e-05, 1.28475713e-05, 1.25690212e-05, 9.32382409e-06,\n",
       "        1.08268823e-05, 0.00000000e+00, 0.00000000e+00, 0.00000000e+00,\n",
       "        0.00000000e+00],\n",
       "       [2.34485051e-05, 1.20996028e-05, 1.18352682e-05, 8.56602583e-06,\n",
       "        1.06898678e-05, 0.00000000e+00, 0.00000000e+00, 0.00000000e+00,\n",
       "        0.00000000e+00],\n",
       "       [2.23607367e-05, 1.14669219e-05, 1.11803556e-05, 8.09257290e-06,\n",
       "        1.32964915e-05, 0.00000000e+00, 0.00000000e+00, 0.00000000e+00,\n",
       "        0.00000000e+00],\n",
       "       [2.07942412e-05, 1.07486667e-05, 1.04132860e-05, 7.40718315e-06,\n",
       "        5.43038841e-05, 0.00000000e+00, 0.00000000e+00, 0.00000000e+00,\n",
       "        0.00000000e+00],\n",
       "       [1.99406386e-05, 1.03524226e-05, 9.88827560e-06, 7.13143663e-06,\n",
       "        0.00000000e+00, 0.00000000e+00, 0.00000000e+00, 0.00000000e+00,\n",
       "        0.00000000e+00],\n",
       "       [1.87628139e-05, 9.69305893e-06, 9.54246934e-06, 6.38647498e-06,\n",
       "        0.00000000e+00, 0.00000000e+00, 0.00000000e+00, 0.00000000e+00,\n",
       "        0.00000000e+00],\n",
       "       [1.77244201e-05, 9.20295679e-06, 8.86726684e-06, 5.70670272e-06,\n",
       "        0.00000000e+00, 0.00000000e+00, 0.00000000e+00, 0.00000000e+00,\n",
       "        0.00000000e+00],\n",
       "       [1.67205817e-05, 8.78428091e-06, 8.40013672e-06, 5.53271730e-06,\n",
       "        0.00000000e+00, 0.00000000e+00, 0.00000000e+00, 0.00000000e+00,\n",
       "        0.00000000e+00],\n",
       "       [1.60704913e-05, 8.40821212e-06, 8.17831369e-06, 4.95873110e-06,\n",
       "        0.00000000e+00, 0.00000000e+00, 0.00000000e+00, 0.00000000e+00,\n",
       "        0.00000000e+00],\n",
       "       [1.54044974e-05, 7.95201777e-06, 7.95401593e-06, 3.42872272e-06,\n",
       "        0.00000000e+00, 0.00000000e+00, 0.00000000e+00, 0.00000000e+00,\n",
       "        0.00000000e+00],\n",
       "       [1.44972910e-05, 7.46075193e-06, 7.63743446e-06, 0.00000000e+00,\n",
       "        0.00000000e+00, 0.00000000e+00, 0.00000000e+00, 0.00000000e+00,\n",
       "        0.00000000e+00],\n",
       "       [1.39013546e-05, 7.22952291e-06, 7.25659083e-06, 0.00000000e+00,\n",
       "        0.00000000e+00, 0.00000000e+00, 0.00000000e+00, 0.00000000e+00,\n",
       "        0.00000000e+00],\n",
       "       [1.33704871e-05, 6.89321905e-06, 7.13782219e-06, 0.00000000e+00,\n",
       "        0.00000000e+00, 0.00000000e+00, 0.00000000e+00, 0.00000000e+00,\n",
       "        0.00000000e+00],\n",
       "       [1.26137602e-05, 6.65516927e-06, 7.14429825e-06, 0.00000000e+00,\n",
       "        0.00000000e+00, 0.00000000e+00, 0.00000000e+00, 0.00000000e+00,\n",
       "        0.00000000e+00],\n",
       "       [1.22895144e-05, 6.37247012e-06, 6.66975848e-06, 0.00000000e+00,\n",
       "        0.00000000e+00, 0.00000000e+00, 0.00000000e+00, 0.00000000e+00,\n",
       "        0.00000000e+00],\n",
       "       [1.18594908e-05, 6.03651824e-06, 6.14697410e-06, 0.00000000e+00,\n",
       "        0.00000000e+00, 0.00000000e+00, 0.00000000e+00, 0.00000000e+00,\n",
       "        0.00000000e+00],\n",
       "       [1.12884882e-05, 5.95179790e-06, 6.44888632e-06, 0.00000000e+00,\n",
       "        0.00000000e+00, 0.00000000e+00, 0.00000000e+00, 0.00000000e+00,\n",
       "        0.00000000e+00],\n",
       "       [1.08023278e-05, 5.75730292e-06, 7.62506625e-06, 0.00000000e+00,\n",
       "        0.00000000e+00, 0.00000000e+00, 0.00000000e+00, 0.00000000e+00,\n",
       "        0.00000000e+00],\n",
       "       [1.06830066e-05, 5.47873333e-06, 6.77007347e-06, 0.00000000e+00,\n",
       "        0.00000000e+00, 0.00000000e+00, 0.00000000e+00, 0.00000000e+00,\n",
       "        0.00000000e+00],\n",
       "       [1.02076256e-05, 5.32829290e-06, 1.77961647e-05, 0.00000000e+00,\n",
       "        0.00000000e+00, 0.00000000e+00, 0.00000000e+00, 0.00000000e+00,\n",
       "        0.00000000e+00],\n",
       "       [9.98437554e-06, 5.02168177e-06,            inf, 0.00000000e+00,\n",
       "        0.00000000e+00, 0.00000000e+00, 0.00000000e+00, 0.00000000e+00,\n",
       "        0.00000000e+00],\n",
       "       [9.52733899e-06, 4.75197385e-06, 0.00000000e+00, 0.00000000e+00,\n",
       "        0.00000000e+00, 0.00000000e+00, 0.00000000e+00, 0.00000000e+00,\n",
       "        0.00000000e+00],\n",
       "       [9.39580332e-06, 4.37152812e-06, 0.00000000e+00, 0.00000000e+00,\n",
       "        0.00000000e+00, 0.00000000e+00, 0.00000000e+00, 0.00000000e+00,\n",
       "        0.00000000e+00],\n",
       "       [9.03409909e-06, 3.89436946e-06, 0.00000000e+00, 0.00000000e+00,\n",
       "        0.00000000e+00, 0.00000000e+00, 0.00000000e+00, 0.00000000e+00,\n",
       "        0.00000000e+00],\n",
       "       [8.53994516e-06, 4.06967229e-06, 0.00000000e+00, 0.00000000e+00,\n",
       "        0.00000000e+00, 0.00000000e+00, 0.00000000e+00, 0.00000000e+00,\n",
       "        0.00000000e+00],\n",
       "       [8.45954582e-06, 3.95051302e-06, 0.00000000e+00, 0.00000000e+00,\n",
       "        0.00000000e+00, 0.00000000e+00, 0.00000000e+00, 0.00000000e+00,\n",
       "        0.00000000e+00],\n",
       "       [8.18751141e-06, 3.57575414e-06, 0.00000000e+00, 0.00000000e+00,\n",
       "        0.00000000e+00, 0.00000000e+00, 0.00000000e+00, 0.00000000e+00,\n",
       "        0.00000000e+00],\n",
       "       [8.06336539e-06, 3.40579754e-06, 0.00000000e+00, 0.00000000e+00,\n",
       "        0.00000000e+00, 0.00000000e+00, 0.00000000e+00, 0.00000000e+00,\n",
       "        0.00000000e+00],\n",
       "       [7.79144557e-06, 3.49566562e-06, 0.00000000e+00, 0.00000000e+00,\n",
       "        0.00000000e+00, 0.00000000e+00, 0.00000000e+00, 0.00000000e+00,\n",
       "        0.00000000e+00],\n",
       "       [7.44734734e-06, 3.07243999e-06, 0.00000000e+00, 0.00000000e+00,\n",
       "        0.00000000e+00, 0.00000000e+00, 0.00000000e+00, 0.00000000e+00,\n",
       "        0.00000000e+00],\n",
       "       [7.48878392e-06, 2.81990242e-06, 0.00000000e+00, 0.00000000e+00,\n",
       "        0.00000000e+00, 0.00000000e+00, 0.00000000e+00, 0.00000000e+00,\n",
       "        0.00000000e+00],\n",
       "       [7.16177556e-06, 2.72554394e-06, 0.00000000e+00, 0.00000000e+00,\n",
       "        0.00000000e+00, 0.00000000e+00, 0.00000000e+00, 0.00000000e+00,\n",
       "        0.00000000e+00],\n",
       "       [7.12489918e-06, 2.52886775e-06, 0.00000000e+00, 0.00000000e+00,\n",
       "        0.00000000e+00, 0.00000000e+00, 0.00000000e+00, 0.00000000e+00,\n",
       "        0.00000000e+00],\n",
       "       [7.01447789e-06, 1.64711696e-06, 0.00000000e+00, 0.00000000e+00,\n",
       "        0.00000000e+00, 0.00000000e+00, 0.00000000e+00, 0.00000000e+00,\n",
       "        0.00000000e+00],\n",
       "       [6.73801514e-06, 1.94128484e-06, 0.00000000e+00, 0.00000000e+00,\n",
       "        0.00000000e+00, 0.00000000e+00, 0.00000000e+00, 0.00000000e+00,\n",
       "        0.00000000e+00],\n",
       "       [6.62144475e-06, 1.38710971e-06, 0.00000000e+00, 0.00000000e+00,\n",
       "        0.00000000e+00, 0.00000000e+00, 0.00000000e+00, 0.00000000e+00,\n",
       "        0.00000000e+00],\n",
       "       [6.67415088e-06, 5.48374317e-07, 0.00000000e+00, 0.00000000e+00,\n",
       "        0.00000000e+00, 0.00000000e+00, 0.00000000e+00, 0.00000000e+00,\n",
       "        0.00000000e+00],\n",
       "       [6.60792239e-06, 0.00000000e+00, 0.00000000e+00, 0.00000000e+00,\n",
       "        0.00000000e+00, 0.00000000e+00, 0.00000000e+00, 0.00000000e+00,\n",
       "        0.00000000e+00],\n",
       "       [6.50450102e-06, 0.00000000e+00, 0.00000000e+00, 0.00000000e+00,\n",
       "        0.00000000e+00, 0.00000000e+00, 0.00000000e+00, 0.00000000e+00,\n",
       "        0.00000000e+00],\n",
       "       [6.21823574e-06, 0.00000000e+00, 0.00000000e+00, 0.00000000e+00,\n",
       "        0.00000000e+00, 0.00000000e+00, 0.00000000e+00, 0.00000000e+00,\n",
       "        0.00000000e+00],\n",
       "       [6.45285081e-06, 0.00000000e+00, 0.00000000e+00, 0.00000000e+00,\n",
       "        0.00000000e+00, 0.00000000e+00, 0.00000000e+00, 0.00000000e+00,\n",
       "        0.00000000e+00],\n",
       "       [6.20676610e-06, 0.00000000e+00, 0.00000000e+00, 0.00000000e+00,\n",
       "        0.00000000e+00, 0.00000000e+00, 0.00000000e+00, 0.00000000e+00,\n",
       "        0.00000000e+00],\n",
       "       [6.30513387e-06, 0.00000000e+00, 0.00000000e+00, 0.00000000e+00,\n",
       "        0.00000000e+00, 0.00000000e+00, 0.00000000e+00, 0.00000000e+00,\n",
       "        0.00000000e+00],\n",
       "       [6.02298633e-06, 0.00000000e+00, 0.00000000e+00, 0.00000000e+00,\n",
       "        0.00000000e+00, 0.00000000e+00, 0.00000000e+00, 0.00000000e+00,\n",
       "        0.00000000e+00],\n",
       "       [6.06382719e-06, 0.00000000e+00, 0.00000000e+00, 0.00000000e+00,\n",
       "        0.00000000e+00, 0.00000000e+00, 0.00000000e+00, 0.00000000e+00,\n",
       "        0.00000000e+00],\n",
       "       [5.96264726e-06, 0.00000000e+00, 0.00000000e+00, 0.00000000e+00,\n",
       "        0.00000000e+00, 0.00000000e+00, 0.00000000e+00, 0.00000000e+00,\n",
       "        0.00000000e+00],\n",
       "       [5.87201384e-06, 0.00000000e+00, 0.00000000e+00, 0.00000000e+00,\n",
       "        0.00000000e+00, 0.00000000e+00, 0.00000000e+00, 0.00000000e+00,\n",
       "        0.00000000e+00],\n",
       "       [5.60730496e-06, 0.00000000e+00, 0.00000000e+00, 0.00000000e+00,\n",
       "        0.00000000e+00, 0.00000000e+00, 0.00000000e+00, 0.00000000e+00,\n",
       "        0.00000000e+00],\n",
       "       [6.02053387e-06, 0.00000000e+00, 0.00000000e+00, 0.00000000e+00,\n",
       "        0.00000000e+00, 0.00000000e+00, 0.00000000e+00, 0.00000000e+00,\n",
       "        0.00000000e+00],\n",
       "       [5.50697223e-06, 0.00000000e+00, 0.00000000e+00, 0.00000000e+00,\n",
       "        0.00000000e+00, 0.00000000e+00, 0.00000000e+00, 0.00000000e+00,\n",
       "        0.00000000e+00],\n",
       "       [5.54799362e-06, 0.00000000e+00, 0.00000000e+00, 0.00000000e+00,\n",
       "        0.00000000e+00, 0.00000000e+00, 0.00000000e+00, 0.00000000e+00,\n",
       "        0.00000000e+00],\n",
       "       [6.24125278e-06, 0.00000000e+00, 0.00000000e+00, 0.00000000e+00,\n",
       "        0.00000000e+00, 0.00000000e+00, 0.00000000e+00, 0.00000000e+00,\n",
       "        0.00000000e+00],\n",
       "       [5.58934016e-06, 0.00000000e+00, 0.00000000e+00, 0.00000000e+00,\n",
       "        0.00000000e+00, 0.00000000e+00, 0.00000000e+00, 0.00000000e+00,\n",
       "        0.00000000e+00],\n",
       "       [6.06909225e-06, 0.00000000e+00, 0.00000000e+00, 0.00000000e+00,\n",
       "        0.00000000e+00, 0.00000000e+00, 0.00000000e+00, 0.00000000e+00,\n",
       "        0.00000000e+00],\n",
       "       [5.42605085e-06, 0.00000000e+00, 0.00000000e+00, 0.00000000e+00,\n",
       "        0.00000000e+00, 0.00000000e+00, 0.00000000e+00, 0.00000000e+00,\n",
       "        0.00000000e+00],\n",
       "       [5.43048782e-06, 0.00000000e+00, 0.00000000e+00, 0.00000000e+00,\n",
       "        0.00000000e+00, 0.00000000e+00, 0.00000000e+00, 0.00000000e+00,\n",
       "        0.00000000e+00],\n",
       "       [5.10675272e-06, 0.00000000e+00, 0.00000000e+00, 0.00000000e+00,\n",
       "        0.00000000e+00, 0.00000000e+00, 0.00000000e+00, 0.00000000e+00,\n",
       "        0.00000000e+00],\n",
       "       [5.55224506e-06, 0.00000000e+00, 0.00000000e+00, 0.00000000e+00,\n",
       "        0.00000000e+00, 0.00000000e+00, 0.00000000e+00, 0.00000000e+00,\n",
       "        0.00000000e+00],\n",
       "       [6.16772240e-06, 0.00000000e+00, 0.00000000e+00, 0.00000000e+00,\n",
       "        0.00000000e+00, 0.00000000e+00, 0.00000000e+00, 0.00000000e+00,\n",
       "        0.00000000e+00],\n",
       "       [5.41187819e-06, 0.00000000e+00, 0.00000000e+00, 0.00000000e+00,\n",
       "        0.00000000e+00, 0.00000000e+00, 0.00000000e+00, 0.00000000e+00,\n",
       "        0.00000000e+00],\n",
       "       [4.71037038e-06, 0.00000000e+00, 0.00000000e+00, 0.00000000e+00,\n",
       "        0.00000000e+00, 0.00000000e+00, 0.00000000e+00, 0.00000000e+00,\n",
       "        0.00000000e+00],\n",
       "       [5.00629540e-06, 0.00000000e+00, 0.00000000e+00, 0.00000000e+00,\n",
       "        0.00000000e+00, 0.00000000e+00, 0.00000000e+00, 0.00000000e+00,\n",
       "        0.00000000e+00],\n",
       "       [6.40800954e-06, 0.00000000e+00, 0.00000000e+00, 0.00000000e+00,\n",
       "        0.00000000e+00, 0.00000000e+00, 0.00000000e+00, 0.00000000e+00,\n",
       "        0.00000000e+00],\n",
       "       [6.60821206e-06, 0.00000000e+00, 0.00000000e+00, 0.00000000e+00,\n",
       "        0.00000000e+00, 0.00000000e+00, 0.00000000e+00, 0.00000000e+00,\n",
       "        0.00000000e+00],\n",
       "       [5.23983681e-06, 0.00000000e+00, 0.00000000e+00, 0.00000000e+00,\n",
       "        0.00000000e+00, 0.00000000e+00, 0.00000000e+00, 0.00000000e+00,\n",
       "        0.00000000e+00],\n",
       "       [9.97554162e-06, 0.00000000e+00, 0.00000000e+00, 0.00000000e+00,\n",
       "        0.00000000e+00, 0.00000000e+00, 0.00000000e+00, 0.00000000e+00,\n",
       "        0.00000000e+00],\n",
       "       [3.18173225e-05, 0.00000000e+00, 0.00000000e+00, 0.00000000e+00,\n",
       "        0.00000000e+00, 0.00000000e+00, 0.00000000e+00, 0.00000000e+00,\n",
       "        0.00000000e+00],\n",
       "       [           nan, 0.00000000e+00, 0.00000000e+00, 0.00000000e+00,\n",
       "        0.00000000e+00, 0.00000000e+00, 0.00000000e+00, 0.00000000e+00,\n",
       "        0.00000000e+00],\n",
       "       [           nan, 0.00000000e+00, 0.00000000e+00, 0.00000000e+00,\n",
       "        0.00000000e+00, 0.00000000e+00, 0.00000000e+00, 0.00000000e+00,\n",
       "        0.00000000e+00],\n",
       "       [          -inf, 0.00000000e+00, 0.00000000e+00, 0.00000000e+00,\n",
       "        0.00000000e+00, 0.00000000e+00, 0.00000000e+00, 0.00000000e+00,\n",
       "        0.00000000e+00],\n",
       "       [0.00000000e+00, 0.00000000e+00, 0.00000000e+00, 0.00000000e+00,\n",
       "        0.00000000e+00, 0.00000000e+00, 0.00000000e+00, 0.00000000e+00,\n",
       "        0.00000000e+00],\n",
       "       [0.00000000e+00, 0.00000000e+00, 0.00000000e+00, 0.00000000e+00,\n",
       "        0.00000000e+00, 0.00000000e+00, 0.00000000e+00, 0.00000000e+00,\n",
       "        0.00000000e+00],\n",
       "       [0.00000000e+00, 0.00000000e+00, 0.00000000e+00, 0.00000000e+00,\n",
       "        0.00000000e+00, 0.00000000e+00, 0.00000000e+00, 0.00000000e+00,\n",
       "        0.00000000e+00],\n",
       "       [0.00000000e+00, 0.00000000e+00, 0.00000000e+00, 0.00000000e+00,\n",
       "        0.00000000e+00, 0.00000000e+00, 0.00000000e+00, 0.00000000e+00,\n",
       "        0.00000000e+00],\n",
       "       [0.00000000e+00, 0.00000000e+00, 0.00000000e+00, 0.00000000e+00,\n",
       "        0.00000000e+00, 0.00000000e+00, 0.00000000e+00, 0.00000000e+00,\n",
       "        0.00000000e+00],\n",
       "       [0.00000000e+00, 0.00000000e+00, 0.00000000e+00, 0.00000000e+00,\n",
       "        0.00000000e+00, 0.00000000e+00, 0.00000000e+00, 0.00000000e+00,\n",
       "        0.00000000e+00],\n",
       "       [0.00000000e+00, 0.00000000e+00, 0.00000000e+00, 0.00000000e+00,\n",
       "        0.00000000e+00, 0.00000000e+00, 0.00000000e+00, 0.00000000e+00,\n",
       "        0.00000000e+00],\n",
       "       [0.00000000e+00, 0.00000000e+00, 0.00000000e+00, 0.00000000e+00,\n",
       "        0.00000000e+00, 0.00000000e+00, 0.00000000e+00, 0.00000000e+00,\n",
       "        0.00000000e+00],\n",
       "       [0.00000000e+00, 0.00000000e+00, 0.00000000e+00, 0.00000000e+00,\n",
       "        0.00000000e+00, 0.00000000e+00, 0.00000000e+00, 0.00000000e+00,\n",
       "        0.00000000e+00],\n",
       "       [0.00000000e+00, 0.00000000e+00, 0.00000000e+00, 0.00000000e+00,\n",
       "        0.00000000e+00, 0.00000000e+00, 0.00000000e+00, 0.00000000e+00,\n",
       "        0.00000000e+00]], dtype=float32)</pre></li></ul></div></li><li class='sc-section-item'><input id='section-b36a434e-0ff4-456c-89b5-c60dea6293b4' class='sc-section-summary-in' type='checkbox'  checked><label for='section-b36a434e-0ff4-456c-89b5-c60dea6293b4' class='sc-section-summary' >Attributes: <span>(5)</span></label><div class='sc-section-inline-details'></div><div class='sc-section-details'><ul class='sc-var-list'><li class='sc-var-item'><div class='sc-var-name'><span>end_time</span></div><div class='sc-var-dims'>()</div><div class='sc-var-dtype'>string</div><div class='sc-var-unit'></div><div class='sc-value-preview sc-preview'><span><div>2032-02-29T09:15:00.000Z</div></span></div><input id='attrs-61cf7ee4-129b-4b5c-b359-3cd93fed9112' class='sc-var-attrs-in' type='checkbox' disabled><label for='attrs-61cf7ee4-129b-4b5c-b359-3cd93fed9112' class='sc-hide-icon' title='Show/Hide attributes'><svg class='icon sc-icon-file-text2'><use xlink:href='#icon-file-text2'></use></svg></label><input id='data-69fa4860-1652-4288-b0e2-0a1653b05ab6' class='sc-var-data-in' type='checkbox'><label for='data-69fa4860-1652-4288-b0e2-0a1653b05ab6' title='Show/Hide data repr'><svg class='icon sc-icon-database'><use xlink:href='#icon-database'></use></svg></label><pre class='sc-var-data'>Values:<br>&#x27;2032-02-29T09:15:00.000Z&#x27;</pre></li><li class='sc-var-item'><div class='sc-var-name'><span>experiment_title</span></div><div class='sc-var-dims'>()</div><div class='sc-var-dtype'>string</div><div class='sc-var-unit'></div><div class='sc-value-preview sc-preview'><span><div>My experiment</div></span></div><input id='attrs-87969355-1cc6-4cd6-8477-2ef5db21c1bc' class='sc-var-attrs-in' type='checkbox' disabled><label for='attrs-87969355-1cc6-4cd6-8477-2ef5db21c1bc' class='sc-hide-icon' title='Show/Hide attributes'><svg class='icon sc-icon-file-text2'><use xlink:href='#icon-file-text2'></use></svg></label><input id='data-14285d57-271d-4493-a613-5647d97dbc09' class='sc-var-data-in' type='checkbox'><label for='data-14285d57-271d-4493-a613-5647d97dbc09' title='Show/Hide data repr'><svg class='icon sc-icon-database'><use xlink:href='#icon-database'></use></svg></label><pre class='sc-var-data'>Values:<br>&#x27;My experiment&#x27;</pre></li><li class='sc-var-item'><div class='sc-var-name'><span>position_transformations</span></div><div class='sc-var-dims'>()</div><div class='sc-var-dtype'>Variable</div><div class='sc-var-unit'></div><div class='sc-value-preview sc-preview'><span><div>&lt;scipp.Variable&gt; ()  translation3              [m]  (-0.499023, 0.43556, 4.099)</div></span></div><input id='attrs-14a885e7-2754-4653-b8b5-2b937306bd66' class='sc-var-attrs-in' type='checkbox' disabled><label for='attrs-14a885e7-2754-4653-b8b5-2b937306bd66' class='sc-hide-icon' title='Show/Hide attributes'><svg class='icon sc-icon-file-text2'><use xlink:href='#icon-file-text2'></use></svg></label><input id='data-6e15bad2-39aa-443d-94ec-e5663b402d05' class='sc-var-data-in' type='checkbox'><label for='data-6e15bad2-39aa-443d-94ec-e5663b402d05' title='Show/Hide data repr'><svg class='icon sc-icon-database'><use xlink:href='#icon-database'></use></svg></label><pre class='sc-var-data'>Values:<br>&lt;scipp.Variable&gt; ()  translation3              [m]  (-0.499023, 0.43556, 4.099)</pre></li><li class='sc-var-item'><div class='sc-var-name'><span>source</span></div><div class='sc-var-dims'>()</div><div class='sc-var-dtype'>PyObject</div><div class='sc-var-unit'></div><div class='sc-value-preview sc-preview'><span><div>DataGroup(sizes={}, keys=[&#x27;name&#x27;, &#x27;probe&#x27;, &#x27;type&#x27;, &#x27;depends_on&#x27;])</div></span></div><input id='attrs-bfe5e282-9383-4fa4-99a2-31c456d2f67f' class='sc-var-attrs-in' type='checkbox' disabled><label for='attrs-bfe5e282-9383-4fa4-99a2-31c456d2f67f' class='sc-hide-icon' title='Show/Hide attributes'><svg class='icon sc-icon-file-text2'><use xlink:href='#icon-file-text2'></use></svg></label><input id='data-85b2c61a-0e3c-40b4-8f99-6340e63fd560' class='sc-var-data-in' type='checkbox'><label for='data-85b2c61a-0e3c-40b4-8f99-6340e63fd560' title='Show/Hide data repr'><svg class='icon sc-icon-database'><use xlink:href='#icon-database'></use></svg></label><pre class='sc-var-data'>Values:<br>DataGroup(sizes={}, keys=[\n",
       "    name: moderato,\n",
       "    probe: neutro,\n",
       "    type: Spallation Neutron Sourc,\n",
       "    depends_on: Variable({}),\n",
       "])</pre></li><li class='sc-var-item'><div class='sc-var-name'><span>start_time</span></div><div class='sc-var-dims'>()</div><div class='sc-var-dtype'>string</div><div class='sc-var-unit'></div><div class='sc-value-preview sc-preview'><span><div>2022-02-28T21:15:00.000Z</div></span></div><input id='attrs-940a0c2d-8561-4fdc-8448-bc8f59ce9292' class='sc-var-attrs-in' type='checkbox' disabled><label for='attrs-940a0c2d-8561-4fdc-8448-bc8f59ce9292' class='sc-hide-icon' title='Show/Hide attributes'><svg class='icon sc-icon-file-text2'><use xlink:href='#icon-file-text2'></use></svg></label><input id='data-d6a9f650-2951-466d-bedf-ab963bc54729' class='sc-var-data-in' type='checkbox'><label for='data-d6a9f650-2951-466d-bedf-ab963bc54729' title='Show/Hide data repr'><svg class='icon sc-icon-database'><use xlink:href='#icon-database'></use></svg></label><pre class='sc-var-data'>Values:<br>&#x27;2022-02-28T21:15:00.000Z&#x27;</pre></li></ul></div></li></ul></div></div>"
      ],
      "text/plain": [
       "<scipp.DataArray>\n",
       "Dimensions: Sizes[Q:109, wavelength:9, ]\n",
       "Coordinates:\n",
       "  L1                        float64              [m]  ()  25.61\n",
       "* Q                         float64           [1/Å]  (Q [bin-edge])  [0.004, 0.00763303, ..., 0.396367, 0.4]\n",
       "  gravity                   vector3          [m/s^2]  ()  (0, -9.80665, 0)\n",
       "  incident_beam             vector3              [m]  ()  (0, 0, 25.61)\n",
       "* pixel_height              float64              [m]  ()  0.0117188\n",
       "* pixel_shape             DatasetView        <no unit>  ()  <scipp.Dataset>\n",
       "Dimensions: Sizes[cylinder:1, ]\n",
       "Data:\n",
       "  face1_center              vector3              [m]  (cylinder)  [(0, 0, 0)]\n",
       "  face1_edge                vector3              [m]  (cylinder)  [(0, -0.00257703, 0.00305923)]\n",
       "  face2_center              vector3              [m]  (cylinder)  [(0.00194919, 0, 0)]\n",
       "\n",
       "\n",
       "* pixel_width               float64              [m]  ()  0.0075\n",
       "  sample_position           vector3              [m]  ()  (0, 0, 0)\n",
       "  source_position           vector3              [m]  ()  (0, 0, -25.61)\n",
       "* wavelength                float64             [Å]  (wavelength [bin-edge])  [2.2, 3.28889, ..., 10.9111, 12]\n",
       "Data:\n",
       "                            float32         [counts]  (Q, wavelength)  [0, 0, ..., 0, 0]\n",
       "Attributes:\n",
       "  end_time                   string        <no unit>  ()  \"2032-02-29T09:15:00.000Z\"\n",
       "  experiment_title           string        <no unit>  ()  \"My experiment\"\n",
       "  position_transformations Variable        <no unit>  ()  Variable(dims=(), dtype=translation3, unit=m)\n",
       "  source                   PyObject        <no unit>  ()  DataGroup(sizes={}, keys=['name', 'probe', 'type', 'depends_on'])\n",
       "  start_time                 string        <no unit>  ()  \"2022-02-28T21:15:00.000Z\"\n"
      ]
     },
     "execution_count": 34,
     "metadata": {},
     "output_type": "execute_result"
    }
   ],
   "source": [
    "wavelength_bands = sc.linspace(dim='wavelength', start=2.2, stop=12.0, num=10,\n",
    "                               unit='angstrom')\n",
    "\n",
    "sample_slices = sans.to_I_of_Q(data=ds['sample'],\n",
    "    data_monitors=sample_monitors,\n",
    "    direct_monitors=sample_monitors,\n",
    "    direct_beam=direct_beam,\n",
    "    wavelength_bins=wavelength_bins,\n",
    "    q_bins=q_bins,\n",
    "    gravity=gravity,\n",
    "    wavelength_bands=wavelength_bands,\n",
    "    wavelength_mask=wavelength_mask)\n",
    "\n",
    "background_slices = sans.to_I_of_Q(data=ds['background'],\n",
    "    data_monitors=background_monitors,\n",
    "    direct_monitors=background_monitors,\n",
    "    direct_beam=direct_beam,\n",
    "    wavelength_bins=wavelength_bins,\n",
    "    q_bins=q_bins,\n",
    "    gravity=gravity,\n",
    "    wavelength_bands=wavelength_bands,\n",
    "    wavelength_mask=wavelength_mask)\n",
    "\n",
    "result_slices = sample_slices.bins.sum() - background_slices.bins.sum()\n",
    "result_slices"
   ]
  },
  {
   "cell_type": "code",
   "execution_count": 35,
   "id": "60c03e8c-4533-471e-8483-3c0c555fae7d",
   "metadata": {},
   "outputs": [
    {
     "data": {
      "application/vnd.jupyter.widget-view+json": {
       "model_id": "14832cb0ec6f40e3a7713cea129b67b1",
       "version_major": 2,
       "version_minor": 0
      },
      "text/plain": [
       "InteractiveFig(children=(HBar(), HBox(children=(VBar(children=(Toolbar(children=(ButtonTool(icon='home', layou…"
      ]
     },
     "execution_count": 35,
     "metadata": {},
     "output_type": "execute_result"
    },
    {
     "data": {
      "application/vnd.jupyter.widget-view+json": {
       "model_id": "e08d31b2f0fc41f283a7b64223b39509",
       "version_major": 2,
       "version_minor": 0
      },
      "image/png": "[encoded data removed]",
      "text/html": [
       "\n",
       "            <div style=\"display: inline-block;\">\n",
       "                <div class=\"jupyter-widgets widget-label\" style=\"text-align: center;\">\n",
       "                    Figure\n",
       "                </div>\n",
       "                <img src='data:image/png;base64,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' width=1000.0/>\n",
       "            </div>\n",
       "        "
      ],
      "text/plain": [
       "Canvas(toolbar=Toolbar(toolitems=[('Home', 'Reset original view', 'home', 'home'), ('Back', 'Back to previous …"
      ]
     },
     "metadata": {},
     "output_type": "display_data"
    }
   ],
   "source": [
    "collapsed = sc.collapse(result_slices, keep='Q')\n",
    "\n",
    "fig2, ax2 = plt.subplots(1, 2, figsize=(10, 4))\n",
    "sc.plot(collapsed, ax=ax2[0])\n",
    "sc.plot(collapsed, norm='log', ax=ax2[1])\n"
   ]
  },
  {
   "cell_type": "markdown",
   "id": "e4169420-cf1a-4a45-a1f9-f36f00e7ee12",
   "metadata": {},
   "source": [
    "### Benchmarking with Mantid (for a single slice)\n",
    "- Comparision of denominator\n",
    "- Comparison of nominator\n",
    "- Comparison of slice/check if division works the same in scipp and mantid"
   ]
  },
  {
   "cell_type": "code",
   "execution_count": 36,
   "id": "9cffccb3-403e-4a1f-a8fe-68ca1b9e9e91",
   "metadata": {},
   "outputs": [
    {
     "name": "stderr",
     "output_type": "stream",
     "text": [
      "An interpolation was performed on the direct_beam function. The variances in the direct_beam function have been dropped.\n"
     ]
    }
   ],
   "source": [
    "#Calculating denominator for a slice\n",
    "graph = sans.conversions.sans_elastic(gravity=gravity)\n",
    "direct_beam = sans.i_of_q.resample_direct_beam(\n",
    "         direct_beam=direct_beam, wavelength_bins=wavelength_bins)\n",
    "\n",
    "denominator_wav = sans.normalization.iofq_denominator(\n",
    "    data=ds['sample'],\n",
    "    data_transmission_monitor=sample_monitors['transmission'],\n",
    "    direct_incident_monitor=empty_beam_monitors['incident'],\n",
    "    direct_transmission_monitor=empty_beam_monitors['transmission'],\n",
    "    direct_beam=direct_beam\n",
    ")\n",
    "\n",
    "# Insert a copy of coords needed for conversion to Q.\n",
    "# TODO: can this be avoided by copying the Q coords from the converted numerator?\n",
    "for coord in ['position', 'sample_position', 'source_position']:\n",
    "    denominator_wav.coords[coord] = ds['sample'].meta[coord]\n",
    "\n",
    "\n",
    "denominator_q_bands = sans.i_of_q.convert_to_q_and_merge_spectra(\n",
    "        data=denominator_wav,\n",
    "        graph=graph,\n",
    "        wavelength_bands=wavelength_bands,\n",
    "        q_bins=q_bins,\n",
    "        gravity=gravity,\n",
    "    )"
   ]
  },
  {
   "cell_type": "code",
   "execution_count": 37,
   "id": "eeb7256f-2fff-43a6-a55a-cc27f8e5eafc",
   "metadata": {},
   "outputs": [],
   "source": [
    "nominator_q_bands = sans.i_of_q.convert_to_q_and_merge_spectra(\n",
    "        data=ds['sample'],\n",
    "        graph=graph,\n",
    "        wavelength_bands=wavelength_bands,\n",
    "        q_bins=q_bins,\n",
    "        gravity=gravity,\n",
    "    )"
   ]
  },
  {
   "cell_type": "code",
   "execution_count": 38,
   "id": "25ecb231-586c-41f6-8c13-90c381b9078e",
   "metadata": {},
   "outputs": [
    {
     "name": "stdout",
     "output_type": "stream",
     "text": [
      "Load-[Notice] Load started\n",
      "ISISRunLogs-[Warning] Cannot find period log. Logs will be not be filtered by current period\n",
      "ISISRunLogs-[Warning] Cannot find periods log. Logs will be not be filtered by current period\n",
      "Load-[Notice] Load successful, Duration 0.77 seconds\n",
      "DeleteWorkspace-[Notice] DeleteWorkspace started\n",
      "DeleteWorkspace-[Notice] DeleteWorkspace successful, Duration 0.00 seconds\n"
     ]
    }
   ],
   "source": [
    "mantid_denominator_band_1 = scn.load(f'{path}/denominator_2-3.18_sa.nxs')\n",
    "mantid_denominator_band_1.data.unit = 'dimensionless'"
   ]
  },
  {
   "cell_type": "code",
   "execution_count": 39,
   "id": "ee787829-90c2-4f02-99a3-6d7f26956617",
   "metadata": {},
   "outputs": [
    {
     "data": {
      "application/vnd.jupyter.widget-view+json": {
       "model_id": "7b82a84518d041d980485231a164af6a",
       "version_major": 2,
       "version_minor": 0
      },
      "text/plain": [
       "InteractiveFig(children=(HBar(), HBox(children=(VBar(children=(Toolbar(children=(ButtonTool(icon='home', layou…"
      ]
     },
     "execution_count": 39,
     "metadata": {},
     "output_type": "execute_result"
    }
   ],
   "source": [
    "sc.plot({'scipp denominator': denominator_q_bands['wavelength', 0], \n",
    "         'mantid denominator' :  1.3e11*mantid_denominator_band_1})"
   ]
  },
  {
   "cell_type": "code",
   "execution_count": 40,
   "id": "d44eee64-c162-43f4-86dd-1fece80c5b73",
   "metadata": {},
   "outputs": [
    {
     "name": "stdout",
     "output_type": "stream",
     "text": [
      "Load-[Notice] Load started\n",
      "ISISRunLogs-[Warning] Cannot find period log. Logs will be not be filtered by current period\n",
      "ISISRunLogs-[Warning] Cannot find periods log. Logs will be not be filtered by current period\n",
      "Load-[Notice] Load successful, Duration 0.76 seconds\n",
      "DeleteWorkspace-[Notice] DeleteWorkspace started\n",
      "DeleteWorkspace-[Notice] DeleteWorkspace successful, Duration 0.00 seconds\n"
     ]
    }
   ],
   "source": [
    "mantid_nominator_band_1= scn.load(f'{path}/ISIS_polymer_slice_0_nominator.nxs')\n",
    "                                     "
   ]
  },
  {
   "cell_type": "code",
   "execution_count": 41,
   "id": "072b90cb-9a9b-4bf5-b3a8-86631d63034e",
   "metadata": {},
   "outputs": [
    {
     "data": {
      "application/vnd.jupyter.widget-view+json": {
       "model_id": "d46700d62ec540e1b2d1594d44bdb245",
       "version_major": 2,
       "version_minor": 0
      },
      "text/plain": [
       "InteractiveFig(children=(HBar(), HBox(children=(VBar(children=(Toolbar(children=(ButtonTool(icon='home', layou…"
      ]
     },
     "execution_count": 41,
     "metadata": {},
     "output_type": "execute_result"
    }
   ],
   "source": [
    "sc.plot({'scipp nominator 0': nominator_q_bands['wavelength', 0].bins.sum(), \n",
    "         'mantid nominator 0':  1.45*mantid_nominator_band_1})"
   ]
  },
  {
   "cell_type": "code",
   "execution_count": 42,
   "id": "ace6ebd7-ae8f-4259-9534-e286d1e1a6b6",
   "metadata": {},
   "outputs": [
    {
     "name": "stdout",
     "output_type": "stream",
     "text": [
      "Load-[Notice] Load started\n",
      "ISISRunLogs-[Warning] Cannot find period log. Logs will be not be filtered by current period\n",
      "ISISRunLogs-[Warning] Cannot find periods log. Logs will be not be filtered by current period\n",
      "Load-[Notice] Load successful, Duration 0.72 seconds\n",
      "DeleteWorkspace-[Notice] DeleteWorkspace started\n",
      "DeleteWorkspace-[Notice] DeleteWorkspace successful, Duration 0.00 seconds\n"
     ]
    }
   ],
   "source": [
    "mantid_slice_0 = scn.load(f'{path}/ISIS_polymer_slice_0.nxs')"
   ]
  },
  {
   "cell_type": "code",
   "execution_count": 43,
   "id": "1d1f24c9-b026-432b-9324-2c59cc671f6f",
   "metadata": {},
   "outputs": [],
   "source": [
    "scipp_slice_0 = nominator_q_bands['wavelength', 0].bins.sum()/denominator_q_bands['wavelength', 0]"
   ]
  },
  {
   "cell_type": "code",
   "execution_count": 44,
   "id": "3f369797-0223-43be-9c93-3eac72c96a79",
   "metadata": {},
   "outputs": [
    {
     "data": {
      "application/vnd.jupyter.widget-view+json": {
       "model_id": "158d587ecf41439cb19edef8c979a559",
       "version_major": 2,
       "version_minor": 0
      },
      "text/plain": [
       "InteractiveFig(children=(HBar(), HBox(children=(VBar(children=(Toolbar(children=(ButtonTool(icon='home', layou…"
      ]
     },
     "execution_count": 44,
     "metadata": {},
     "output_type": "execute_result"
    }
   ],
   "source": [
    "result_slices['wavelength', 0].plot()\n",
    "sc.plot({'scipp calculated slice 0': scipp_slice_0,\n",
    "         'mantid slice 0':  1e-11*mantid_slice_0})\n",
    "         #'mantid calculated slice 0': 9e-12*mantid_nominator_band_1/mantid_denominator_band_1})\n",
    "# sc.plot({'scipp slice 0': result_slices['wavelength', 0],\n",
    "#          'scipp calculated slice 0': scipp_slice_0,\n",
    "#          'mantid slice 0':  9e-12*mantid_slice_0})\n",
    "#          #'mantid calculated slice 0': 9e-12*mantid_nominator_band_1/mantid_denominator_band_1})"
   ]
  },
  {
   "cell_type": "markdown",
   "id": "993a0aab-4474-445f-a3aa-e440dc33eba9",
   "metadata": {},
   "source": [
    "Note: Scipp division applied mantid nomimator/denominator gives the same result as from Mantid suggesting that the difference is related to the computation of nominator and denominator. It seems to me that differences come from the shift in coordinates position in scipp and mantid. It doesn't seem like there is a linear shift though."
   ]
  },
  {
   "cell_type": "code",
   "execution_count": 46,
   "id": "4875372c-d495-4443-9f09-22d09bc4d53b",
   "metadata": {},
   "outputs": [
    {
     "name": "stdout",
     "output_type": "stream",
     "text": [
      "Load-[Notice] Load started\n",
      "ISISRunLogs-[Warning] Cannot find period log. Logs will be not be filtered by current period\n",
      "ISISRunLogs-[Warning] Cannot find periods log. Logs will be not be filtered by current period\n",
      "Load-[Notice] Load successful, Duration 1.16 seconds\n",
      "DeleteWorkspace-[Notice] DeleteWorkspace started\n",
      "DeleteWorkspace-[Notice] DeleteWorkspace successful, Duration 0.00 seconds\n"
     ]
    }
   ],
   "source": [
    "mantid_sample = scn.load(f'{path}/mantid_sample.nxs')"
   ]
  },
  {
   "cell_type": "code",
   "execution_count": 47,
   "id": "539f2dfc-d149-4a76-a06a-dab3e32b65e3",
   "metadata": {},
   "outputs": [
    {
     "data": {
      "text/html": [
       "<div><!-- Original source from -->\n",
       "<!-- https://github.com/jsignell/xarray/blob/1d960933ab252e0f79f7e050e6c9261d55568057/xarray/static/html/icons-svg-inline.html -->\n",
       "<svg style=\"position: absolute; width: 0; height: 0; overflow: hidden\">\n",
       "<defs>\n",
       "<symbol id=\"icon-database\" viewBox=\"0 0 32 32\">\n",
       "<title>Show/Hide data repr</title>\n",
       "<path d=\"M16 0c-8.837 0-16 2.239-16 5v4c0 2.761 7.163 5 16 5s16-2.239 16-5v-4c0-2.761-7.163-5-16-5z\"></path>\n",
       "<path d=\"M16 17c-8.837 0-16-2.239-16-5v6c0 2.761 7.163 5 16 5s16-2.239 16-5v-6c0 2.761-7.163 5-16 5z\"></path>\n",
       "<path d=\"M16 26c-8.837 0-16-2.239-16-5v6c0 2.761 7.163 5 16 5s16-2.239 16-5v-6c0 2.761-7.163 5-16 5z\"></path>\n",
       "</symbol>\n",
       "<symbol id=\"icon-file-text2\" viewBox=\"0 0 32 32\">\n",
       "<title>Show/Hide attributes</title>\n",
       "<path d=\"M28.681 7.159c-0.694-0.947-1.662-2.053-2.724-3.116s-2.169-2.030-3.116-2.724c-1.612-1.182-2.393-1.319-2.841-1.319h-15.5c-1.378 0-2.5 1.121-2.5 2.5v27c0 1.378 1.122 2.5 2.5 2.5h23c1.378 0 2.5-1.122 2.5-2.5v-19.5c0-0.448-0.137-1.23-1.319-2.841zM24.543 5.457c0.959 0.959 1.712 1.825 2.268 2.543h-4.811v-4.811c0.718 0.556 1.584 1.309 2.543 2.268zM28 29.5c0 0.271-0.229 0.5-0.5 0.5h-23c-0.271 0-0.5-0.229-0.5-0.5v-27c0-0.271 0.229-0.5 0.5-0.5 0 0 15.499-0 15.5 0v7c0 0.552 0.448 1 1 1h7v19.5z\"></path>\n",
       "<path d=\"M23 26h-14c-0.552 0-1-0.448-1-1s0.448-1 1-1h14c0.552 0 1 0.448 1 1s-0.448 1-1 1z\"></path>\n",
       "<path d=\"M23 22h-14c-0.552 0-1-0.448-1-1s0.448-1 1-1h14c0.552 0 1 0.448 1 1s-0.448 1-1 1z\"></path>\n",
       "<path d=\"M23 18h-14c-0.552 0-1-0.448-1-1s0.448-1 1-1h14c0.552 0 1 0.448 1 1s-0.448 1-1 1z\"></path>\n",
       "</symbol>\n",
       "</defs>\n",
       "</svg><style id=\"scipp-style-sheet\">.sc-root{--sc-background-color0:var(--jp-layout-color0,#fff);--sc-background-color1:var(--jp-layout-color1,#fcfcfc);--sc-background-color2:var(--jp-layout-color2,#efefef);--sc-inverse-background-color0:var(--jp-inverse-layout-color4,#111);--sc-font-color0:var(--jp-content-font-color0,#000);--sc-font-color1:var(--jp-content-font-color1,#555);--sc-font-color2:var(--jp-content-font-color2,#888);--sc-font-color3:var(--jp-content-font-color3,#ccc);--sc-table-data-color:#f6d028;--sc-table-coords-color:#c6e590;--sc-table-masks-color:#c8c8c8;--sc-table-attrs-color:#ff5555;--sc-table-header-font-color:#111111;}.sc-wrap{font-size:14px;min-width:300px;max-width:800px;}.sc-var-attrs .sc-wrap{padding-left:3em;}.sc-header{padding-top:6px;padding-bottom:6px;margin-bottom:4px;border-bottom:solid 1px #ddd;}.sc-header > div,.sc-header > ul{display:inline;margin-top:0;margin-bottom:0;}.sc-obj-type,.sc-array-name{margin-left:2px;margin-right:10px;}.sc-obj-type{color:var(--sc-font-color1);}.sc-underlying-size{color:var(--sc-font-color2);}.sc-sections,.reveal .sc-sections{padding-left:0 !important;display:grid;grid-template-columns:150px auto auto auto 1fr 20px 20px;}.sc-section-item{display:contents;}.sc-section-item input{display:none;}.sc-section-item input:enabled + label{cursor:pointer;color:var(--sc-font-color1);}.sc-section-item input:enabled + label:hover{color:var(--sc-font-color0);}.sc-section-summary{grid-column:1;font-weight:500;}.sc-section-summary > span{display:inline-block;padding-left:0.5em;}.sc-section-summary-in:disabled + label{color:var(--sc-font-color1);}.sc-section-summary-in + label:before{display:inline-block;content:'►';font-size:11px;width:15px;text-align:center;}.sc-section-summary-in:disabled + label:before{color:var(--sc-font-color3);}.sc-section-summary-in:checked + label:before{content:'▼';}.sc-section-summary-in:checked + label > span{display:none;}.sc-section-summary,.sc-section-inline-details{padding-top:4px;padding-bottom:4px;}.sc-section-inline-details{grid-column:2 / 6;}.sc-section-details{display:none;grid-column:1 / -1;margin-bottom:5px;}.sc-section-summary-in:checked ~ .sc-section-details{display:contents;}.sc-array-wrap{grid-column:1 / -1;display:grid;grid-template-columns:20px auto;}.sc-array-wrap > label{grid-column:1;vertical-align:top;}.sc-preview{color:var(--sc-font-color2);}.sc-array-preview,.sc-array-data{padding:0 5px !important;grid-column:2;}.sc-array-data,.sc-array-in:checked ~ .sc-array-preview{display:none;}.sc-array-in:checked ~ .sc-array-data,.sc-array-preview{display:inline-block;}.sc-dim-list{display:inline-block !important;list-style:none;padding:0 !important;margin:0;}.sc-dim-list li{display:inline-block;padding:0;margin:0!important;}.sc-dim-list:before{content:'(';}.sc-dim-list:after{content:')';}.sc-dim-list li:not(:last-child):after{content:',';padding-right:5px;}.sc-dim-list li span,.sc-standalone-var-name > span span,.sc-var-name > span span{padding:0 !important;}.sc-aligned{font-weight:bold;}.sc-var-list,.sc-var-item,.reveal .sc-var-list,.reveal .sc-var-item{display:contents;}.sc-var-item > div,.sc-var-item label,.sc-var-item > .sc-var-name span{background-color:var(--sc-background-color1);margin-bottom:0;}.sc-var-item > .sc-var-name:hover span{padding-right:5px;}.sc-var-list > li:nth-child(odd) > div,.sc-var-list > li:nth-child(odd) > label,.sc-var-list > li:nth-child(odd) > .sc-var-name span{background-color:var(--sc-background-color2);}.sc-var-name{grid-column:1;}.sc-var-dims{grid-column:2;}.sc-var-dtype{grid-column:3;text-align:right;color:var(--sc-font-color2);}.sc-var-unit{grid-column:4;text-align:left;color:var(--sc-font-color1);max-width:50pt;text-overflow:ellipsis;}.sc-value-preview{grid-column:5;}.sc-var-preview-variances{text-align:right;}.sc-sections .sc-section-item .sc-section-summary,.sc-sections .sc-section-item .sc-section-inline-details,.sc-section-item .sc-var-list .sc-var-item > div,.sc-section-item .sc-var-list .sc-var-item > label,.sc-section-details .sc-var-list .sc-var-item > div,.sc-section-details .sc-var-list .sc-var-item > label{margin-top:0;margin-bottom:0;}.sc-var-name,.sc-var-dims,.sc-var-dtype,.sc-var-unit,.sc-preview,.sc-attrs dt{white-space:nowrap;overflow:hidden;text-overflow:ellipsis;padding-right:10px;}.sc-var-name:hover,.sc-var-dims:hover,.sc-var-dtype:hover,.sc-var-unit:hover,.sc-attrs dt:hover{overflow:visible;width:auto;z-index:1;}.sc-var-attrs{display:block;}.sc-var-data,.reveal .sc-var-data{display:none;}.sc-var-attrs,.sc-var-data{background-color:var(--sc-background-color0) !important;padding-bottom:5px !important;}.sc-var-attrs-in:checked ~ .sc-var-attrs{display:none;}.sc-var-data-in:checked ~ .sc-var-data{display:block;}.sc-var-data > table{float:right;}.sc-var-name span,.sc-var-data{padding-left:25px !important;}.sc-var-attrs,.sc-var-data{grid-column:1 / -1;}dl.sc-attrs{padding:0;margin:0;display:grid;grid-template-columns:125px auto;}.sc-attrs dt,dd{padding:0;margin:0;float:left;padding-right:10px;width:auto;}.sc-attrs dt{font-weight:normal;grid-column:1;}.sc-attrs dt:hover span{display:inline-block;padding-right:10px;}.sc-attrs dd{grid-column:2;white-space:pre-wrap;word-break:break-all;}.sc-icon-database,.sc-icon-file-text2{display:inline-block;vertical-align:middle;width:1em;height:1.5em !important;stroke-width:0;stroke:currentColor;fill:currentColor;}label.sc-hide-icon svg{opacity:0;}.sc-standalone-var-name{grid-column:1/3;}.sc-standalone-var-name span{padding-left:25px;padding-right:10px;}.sc-table{border-collapse:collapse;}.sc-title{font-weight:bold;font-size:1.5em;}.sc-subtitle{font-weight:normal;font-style:italic;text-align:left;font-size:1.2em;padding:1px;}.sc-table th,.sc-table td{border:1px solid var(--sc-inverse-background-color0);padding:0 5px 0 5px;}.sc-table th{text-align:center;}.sc-table tr{background-color:var(--sc-background-color1);text-align:right;}.sc-table tr:hover{background-color:var(--sc-background-color2);}.sc-table th.sc-data{background-color:var(--sc-table-data-color);color:var(--sc-table-header-font-color);}.sc-table th.sc-coords{background-color:var(--sc-table-coords-color);color:var(--sc-table-header-font-color);}.sc-table th.sc-masks{background-color:var(--sc-table-masks-color);color:var(--sc-table-header-font-color);}.sc-table th.sc-attrs{background-color:var(--sc-table-attrs-color);color:var(--sc-table-header-font-color);}.sc-table th.sc-subheader{background-color:var(--sc-background-color2);}.sc-table td.sc-padding{background-color:var(--sc-background-color1);border:0 solid var(--sc-background-color1);height:1.2em;}.sc-label{fill:var(--sc-font-color0,#444444);text-anchor:middle;}.sc-name{fill:var(--sc-font-color0,#111111);}.sc-inset-line{stroke:var(--sc-font-color1);stroke-width:0.05;stroke-dasharray:0.2,0.2;}.sc-log-wrap{height:25ex;resize:vertical;overflow-y:scroll;display:flex;flex-direction:column-reverse;border:1px solid;border-color:var(--jp-border-color2);background-color:var(--sc-background-color1);}div.sc-log{line-height:2.5ex;}table.sc-log{table-layout:auto;border-collapse:collapse;}tr.sc-log:nth-child(even){background-color:var(--sc-background-color0);}tr.sc-log > td{vertical-align:top;padding-bottom:0.5ex;}.sc-log-time-stamp{min-width:22ch;font-family:var(--jp-code-font-family);color:var(--sc-font-color2);}.sc-log-level{min-width:10ch;}tr.sc-log-debug td.sc-log-level{color:var(--jp-accent-color1);}tr.sc-log-info td.sc-log-level{color:var(--jp-info-color1);}tr.sc-log-warning td.sc-log-level{color:var(--jp-warn-color1);}tr.sc-log-error td.sc-log-level{font-weight:bold;color:var(--jp-error-color2);}tr.sc-log-critical td.sc-log-level{font-weight:bold;color:var(--sc-background-color0);background-color:var(--jp-error-color1);}.sc-log-message{white-space:pre-wrap;width:100%;}.sc-log-html-payload{white-space:normal;}.sc-log-name{padding-right:0.5em;text-align:right;white-space:pre-wrap;color:var(--sc-font-color3);}</style><div class='sc-wrap sc-root'><div class='sc-header'><div class='sc-obj-type'>scipp.DataArray (354.16 MB)</div></div><ul class='sc-sections'><li class='sc-section-item'><input id='section-f6fb9a0d-ce76-4843-bde8-57e135a6cd72' class='sc-section-summary-in' type='checkbox' disabled ><label for='section-f6fb9a0d-ce76-4843-bde8-57e135a6cd72' class='sc-section-summary'  title='Expand/collapse section'>Dimensions:</label><div class='sc-section-inline-details'><ul class='sc-dim-list'><li><span class='sc-has-index'>spectrum</span>: 458752</li><li><span class='sc-has-index'>wavelength</span>: 1</li></ul></div><div class='sc-section-details'></div></li><li class='sc-section-item'><input id='section-0419bebd-dcbe-4842-8322-dbd5ce9c7e7c' class='sc-section-summary-in' type='checkbox'  checked><label for='section-0419bebd-dcbe-4842-8322-dbd5ce9c7e7c' class='sc-section-summary' >Coordinates: <span>(5)</span></label><div class='sc-section-inline-details'></div><div class='sc-section-details'><ul class='sc-var-list'><li class='sc-var-item'><div class='sc-var-name'><span class='sc-aligned'>position</span></div><div class='sc-var-dims'>(spectrum)</div><div class='sc-var-dtype'>vector3</div><div class='sc-var-unit'>m</div><div class='sc-value-preview sc-preview'><span><div>[ 0.45102344  0.44636185 29.40405757], [ 0.44907031  0.44636185 29.40405757], ..., [-0.54507031 -0.41291916 29.49816725], [-0.54702344 -0.41291916 29.49816725]</div></span></div><input id='attrs-8d91129f-6fd3-4a93-a1b9-5470066c7119' class='sc-var-attrs-in' type='checkbox' disabled><label for='attrs-8d91129f-6fd3-4a93-a1b9-5470066c7119' class='sc-hide-icon' title='Show/Hide attributes'><svg class='icon sc-icon-file-text2'><use xlink:href='#icon-file-text2'></use></svg></label><input id='data-62eb5233-e9b4-4085-856a-048fb0daa936' class='sc-var-data-in' type='checkbox'><label for='data-62eb5233-e9b4-4085-856a-048fb0daa936' title='Show/Hide data repr'><svg class='icon sc-icon-database'><use xlink:href='#icon-database'></use></svg></label><pre class='sc-var-data'>Values:<br>array([[ 0.45102344,  0.44636185, 29.40405757],\n",
       "       [ 0.44907031,  0.44636185, 29.40405757],\n",
       "       [ 0.44711719,  0.44636185, 29.40405757],\n",
       "       ...,\n",
       "       [-0.54311719, -0.41291916, 29.49816725],\n",
       "       [-0.54507031, -0.41291916, 29.49816725],\n",
       "       [-0.54702344, -0.41291916, 29.49816725]])</pre></span></li><li class='sc-var-item'><div class='sc-var-name'><span class='sc-aligned'>sample_position</span></div><div class='sc-var-dims'>()</div><div class='sc-var-dtype'>vector3</div><div class='sc-var-unit'>m</div><div class='sc-value-preview sc-preview'><span><div>[ 0.    0.   25.61]</div></span></div><input id='attrs-e45b3e26-8dd8-4674-84a5-f1bab0e576dd' class='sc-var-attrs-in' type='checkbox' disabled><label for='attrs-e45b3e26-8dd8-4674-84a5-f1bab0e576dd' class='sc-hide-icon' title='Show/Hide attributes'><svg class='icon sc-icon-file-text2'><use xlink:href='#icon-file-text2'></use></svg></label><input id='data-a9ff6fe0-7867-45fc-a7c8-802d16350756' class='sc-var-data-in' type='checkbox'><label for='data-a9ff6fe0-7867-45fc-a7c8-802d16350756' title='Show/Hide data repr'><svg class='icon sc-icon-database'><use xlink:href='#icon-database'></use></svg></label><pre class='sc-var-data'>Values:<br>array([ 0.  ,  0.  , 25.61])</pre></span></li><li class='sc-var-item'><div class='sc-var-name'><span class='sc-aligned'>source_position</span></div><div class='sc-var-dims'>()</div><div class='sc-var-dtype'>vector3</div><div class='sc-var-unit'>m</div><div class='sc-value-preview sc-preview'><span><div>[0. 0. 0.]</div></span></div><input id='attrs-755cd576-a0d0-46b2-87c9-f632d7856156' class='sc-var-attrs-in' type='checkbox' disabled><label for='attrs-755cd576-a0d0-46b2-87c9-f632d7856156' class='sc-hide-icon' title='Show/Hide attributes'><svg class='icon sc-icon-file-text2'><use xlink:href='#icon-file-text2'></use></svg></label><input id='data-50bfe4b3-ea11-4131-9728-37a26180e2c8' class='sc-var-data-in' type='checkbox'><label for='data-50bfe4b3-ea11-4131-9728-37a26180e2c8' title='Show/Hide data repr'><svg class='icon sc-icon-database'><use xlink:href='#icon-database'></use></svg></label><pre class='sc-var-data'>Values:<br>array([0., 0., 0.])</pre></span></li><li class='sc-var-item'><div class='sc-var-name'><span class='sc-aligned'>spectrum</span></div><div class='sc-var-dims'>(spectrum)</div><div class='sc-var-dtype'>int32</div><div class='sc-var-unit'></div><div class='sc-value-preview sc-preview'><span><div>1, 2, ..., 458751, 458752</div></span></div><input id='attrs-6d006aa4-ed92-4a64-9c3e-66a2915792e0' class='sc-var-attrs-in' type='checkbox' disabled><label for='attrs-6d006aa4-ed92-4a64-9c3e-66a2915792e0' class='sc-hide-icon' title='Show/Hide attributes'><svg class='icon sc-icon-file-text2'><use xlink:href='#icon-file-text2'></use></svg></label><input id='data-80184a18-18bb-4a8c-8a5e-9cd06759de48' class='sc-var-data-in' type='checkbox'><label for='data-80184a18-18bb-4a8c-8a5e-9cd06759de48' title='Show/Hide data repr'><svg class='icon sc-icon-database'><use xlink:href='#icon-database'></use></svg></label><pre class='sc-var-data'>Values:<br>array([     1,      2,      3, ..., 458750, 458751, 458752], dtype=int32)</pre></span></li><li class='sc-var-item'><div class='sc-var-name'><span class='sc-aligned'>wavelength</span></div><div class='sc-var-dims'>(wavelength [bin-edge])</div><div class='sc-var-dtype'>float64</div><div class='sc-var-unit'>Å</div><div class='sc-value-preview sc-preview'><span><div>2.2, 12.0</div></span></div><input id='attrs-b4029a02-6dc5-4682-a889-a14ff6a33125' class='sc-var-attrs-in' type='checkbox' disabled><label for='attrs-b4029a02-6dc5-4682-a889-a14ff6a33125' class='sc-hide-icon' title='Show/Hide attributes'><svg class='icon sc-icon-file-text2'><use xlink:href='#icon-file-text2'></use></svg></label><input id='data-60dea8d3-af98-4b8b-9f4a-82530ce34255' class='sc-var-data-in' type='checkbox'><label for='data-60dea8d3-af98-4b8b-9f4a-82530ce34255' title='Show/Hide data repr'><svg class='icon sc-icon-database'><use xlink:href='#icon-database'></use></svg></label><pre class='sc-var-data'>Values:<br>array([ 2.2, 12. ])</pre></span></li></ul></div></li><li class='sc-section-item'><input id='section-0f869c7c-1d29-484d-8ae6-81f5cf5e3d0a' class='sc-section-summary-in' type='checkbox'  checked><label for='section-0f869c7c-1d29-484d-8ae6-81f5cf5e3d0a' class='sc-section-summary' >Data: <span>(1)</span></label><div class='sc-section-inline-details'></div><div class='sc-section-details'><ul class='sc-var-list'><li class='sc-var-item'><div class='sc-var-name'><span></span></div><div class='sc-var-dims'>(spectrum, wavelength)</div><div class='sc-var-dtype'>DataArrayView</div><div class='sc-var-unit'></div><div class='sc-value-preview sc-preview'><span><div>binned data [len=0, len=0, ..., len=0, len=0]</div></span></div><input id='attrs-747ee8c8-2fe5-4a46-b1f6-1d758e7c9d5c' class='sc-var-attrs-in' type='checkbox' disabled><label for='attrs-747ee8c8-2fe5-4a46-b1f6-1d758e7c9d5c' class='sc-hide-icon' title='Show/Hide attributes'><svg class='icon sc-icon-file-text2'><use xlink:href='#icon-file-text2'></use></svg></label><input id='data-6d94c75e-804a-4490-8a67-46563d5d2ce0' class='sc-var-data-in' type='checkbox'><label for='data-6d94c75e-804a-4490-8a67-46563d5d2ce0' title='Show/Hide data repr'><svg class='icon sc-icon-database'><use xlink:href='#icon-database'></use></svg></label><pre class='sc-var-data'>dim=&#x27;event&#x27;,\n",
       "content=DataArray(\n",
       "          dims=(event: 14613075),\n",
       "          data=float32[counts],\n",
       "          coords={&#x27;wavelength&#x27;:float64[Å], &#x27;pulse_time&#x27;:datetime64[ns]})</pre></li></ul></div></li><li class='sc-section-item'><input id='section-0858e298-301c-45b5-83f8-a3dc5a22e6f0' class='sc-section-summary-in' type='checkbox'  checked><label for='section-0858e298-301c-45b5-83f8-a3dc5a22e6f0' class='sc-section-summary' >Masks: <span>(1)</span></label><div class='sc-section-inline-details'></div><div class='sc-section-details'><ul class='sc-var-list'><li class='sc-var-item'><div class='sc-var-name'><span>spectrum</span></div><div class='sc-var-dims'>(spectrum)</div><div class='sc-var-dtype'>bool</div><div class='sc-var-unit'></div><div class='sc-value-preview sc-preview'><span><div>True, True, ..., True, True</div></span></div><input id='attrs-f5ee515c-c104-4d0c-944e-8a6ed4381b69' class='sc-var-attrs-in' type='checkbox' disabled><label for='attrs-f5ee515c-c104-4d0c-944e-8a6ed4381b69' class='sc-hide-icon' title='Show/Hide attributes'><svg class='icon sc-icon-file-text2'><use xlink:href='#icon-file-text2'></use></svg></label><input id='data-b6f0b147-f11a-479a-b9b0-5aeaf4e35324' class='sc-var-data-in' type='checkbox'><label for='data-b6f0b147-f11a-479a-b9b0-5aeaf4e35324' title='Show/Hide data repr'><svg class='icon sc-icon-database'><use xlink:href='#icon-database'></use></svg></label><pre class='sc-var-data'>Values:<br>array([ True,  True,  True, ...,  True,  True,  True])</pre></span></li></ul></div></li><li class='sc-section-item'><input id='section-7cff55c5-a35f-487b-8d97-dc09250bdea7' class='sc-section-summary-in' type='checkbox'  ><label for='section-7cff55c5-a35f-487b-8d97-dc09250bdea7' class='sc-section-summary' >Attributes: <span>(10)</span></label><div class='sc-section-inline-details'></div><div class='sc-section-details'><ul class='sc-var-list'><li class='sc-var-item'><div class='sc-var-name'><span>Filename</span></div><div class='sc-var-dims'>()</div><div class='sc-var-dtype'>string</div><div class='sc-var-unit'>𝟙</div><div class='sc-value-preview sc-preview'><span><div>/Users/judithhouston/Documents/ESS/LoKi/Design_documents/Detector/Larmor2022/...</div></span></div><input id='attrs-bde40d7c-5406-483c-8cca-e99d43b53f5e' class='sc-var-attrs-in' type='checkbox' disabled><label for='attrs-bde40d7c-5406-483c-8cca-e99d43b53f5e' class='sc-hide-icon' title='Show/Hide attributes'><svg class='icon sc-icon-file-text2'><use xlink:href='#icon-file-text2'></use></svg></label><input id='data-261f1e3d-bb2e-450f-91d8-ebfe06a4310e' class='sc-var-data-in' type='checkbox'><label for='data-261f1e3d-bb2e-450f-91d8-ebfe06a4310e' title='Show/Hide data repr'><svg class='icon sc-icon-database'><use xlink:href='#icon-database'></use></svg></label><pre class='sc-var-data'>Values:<br>&#x27;/Users/judithhouston/Documents/ESS/LoKi/Design_documents/Detector/Larmor2022/DATA/mantid_alldata/60250-2022-02-28_2215_mantid.nxs&#x27;</pre></li><li class='sc-var-item'><div class='sc-var-name'><span>deltaE-mode</span></div><div class='sc-var-dims'>()</div><div class='sc-var-dtype'>string</div><div class='sc-var-unit'>𝟙</div><div class='sc-value-preview sc-preview'><span><div>Elastic</div></span></div><input id='attrs-11bd71ec-5245-4412-8e17-510f2cdcfe2e' class='sc-var-attrs-in' type='checkbox' disabled><label for='attrs-11bd71ec-5245-4412-8e17-510f2cdcfe2e' class='sc-hide-icon' title='Show/Hide attributes'><svg class='icon sc-icon-file-text2'><use xlink:href='#icon-file-text2'></use></svg></label><input id='data-dba36893-806e-420a-aa6e-d1dc1bd32878' class='sc-var-data-in' type='checkbox'><label for='data-dba36893-806e-420a-aa6e-d1dc1bd32878' title='Show/Hide data repr'><svg class='icon sc-icon-database'><use xlink:href='#icon-database'></use></svg></label><pre class='sc-var-data'>Values:<br>&#x27;Elastic&#x27;</pre></li><li class='sc-var-item'><div class='sc-var-name'><span>end_time</span></div><div class='sc-var-dims'>()</div><div class='sc-var-dtype'>string</div><div class='sc-var-unit'>𝟙</div><div class='sc-value-preview sc-preview'><span><div>2032-02-29T09:15:00</div></span></div><input id='attrs-7e9a6259-cab6-4663-9e1e-8249656c40d9' class='sc-var-attrs-in' type='checkbox' disabled><label for='attrs-7e9a6259-cab6-4663-9e1e-8249656c40d9' class='sc-hide-icon' title='Show/Hide attributes'><svg class='icon sc-icon-file-text2'><use xlink:href='#icon-file-text2'></use></svg></label><input id='data-d4a16bf5-ff24-4bfb-9bfa-5eec9d940a95' class='sc-var-data-in' type='checkbox'><label for='data-d4a16bf5-ff24-4bfb-9bfa-5eec9d940a95' title='Show/Hide data repr'><svg class='icon sc-icon-database'><use xlink:href='#icon-database'></use></svg></label><pre class='sc-var-data'>Values:<br>&#x27;2032-02-29T09:15:00&#x27;</pre></li><li class='sc-var-item'><div class='sc-var-name'><span>experiment_identifier</span></div><div class='sc-var-dims'>()</div><div class='sc-var-dtype'>string</div><div class='sc-var-unit'>𝟙</div><div class='sc-value-preview sc-preview'><span><div>p1234</div></span></div><input id='attrs-153cb507-f31c-4be0-a8e3-59c91bf043ec' class='sc-var-attrs-in' type='checkbox' disabled><label for='attrs-153cb507-f31c-4be0-a8e3-59c91bf043ec' class='sc-hide-icon' title='Show/Hide attributes'><svg class='icon sc-icon-file-text2'><use xlink:href='#icon-file-text2'></use></svg></label><input id='data-7cf453df-08ee-4efc-8866-e4685fc171d9' class='sc-var-data-in' type='checkbox'><label for='data-7cf453df-08ee-4efc-8866-e4685fc171d9' title='Show/Hide data repr'><svg class='icon sc-icon-database'><use xlink:href='#icon-database'></use></svg></label><pre class='sc-var-data'>Values:<br>&#x27;p1234&#x27;</pre></li><li class='sc-var-item'><div class='sc-var-name'><span>instrument_name</span></div><div class='sc-var-dims'>()</div><div class='sc-var-dtype'>string</div><div class='sc-var-unit'></div><div class='sc-value-preview sc-preview'><span><div>LOKI_test.xml</div></span></div><input id='attrs-aa4e357d-8f20-4786-996e-d324bd42dee3' class='sc-var-attrs-in' type='checkbox' disabled><label for='attrs-aa4e357d-8f20-4786-996e-d324bd42dee3' class='sc-hide-icon' title='Show/Hide attributes'><svg class='icon sc-icon-file-text2'><use xlink:href='#icon-file-text2'></use></svg></label><input id='data-86c44af6-37c5-430c-b33a-b98fa4205379' class='sc-var-data-in' type='checkbox'><label for='data-86c44af6-37c5-430c-b33a-b98fa4205379' title='Show/Hide data repr'><svg class='icon sc-icon-database'><use xlink:href='#icon-database'></use></svg></label><pre class='sc-var-data'>Values:<br>&#x27;LOKI_test.xml&#x27;</pre></li><li class='sc-var-item'><div class='sc-var-name'><span>run_start</span></div><div class='sc-var-dims'>()</div><div class='sc-var-dtype'>string</div><div class='sc-var-unit'>𝟙</div><div class='sc-value-preview sc-preview'><span><div>2022-02-28T21:15:00</div></span></div><input id='attrs-3e1c237d-7523-4da6-8a31-14a67b3722c1' class='sc-var-attrs-in' type='checkbox' disabled><label for='attrs-3e1c237d-7523-4da6-8a31-14a67b3722c1' class='sc-hide-icon' title='Show/Hide attributes'><svg class='icon sc-icon-file-text2'><use xlink:href='#icon-file-text2'></use></svg></label><input id='data-26c655f2-2ac1-42b1-a0a6-dbb392d17f2e' class='sc-var-data-in' type='checkbox'><label for='data-26c655f2-2ac1-42b1-a0a6-dbb392d17f2e' title='Show/Hide data repr'><svg class='icon sc-icon-database'><use xlink:href='#icon-database'></use></svg></label><pre class='sc-var-data'>Values:<br>&#x27;2022-02-28T21:15:00&#x27;</pre></li><li class='sc-var-item'><div class='sc-var-name'><span>run_title</span></div><div class='sc-var-dims'>()</div><div class='sc-var-dtype'>string</div><div class='sc-var-unit'>𝟙</div><div class='sc-value-preview sc-preview'><span><div>My experiment</div></span></div><input id='attrs-8f8a6dba-422b-45a4-b6ec-f867cf2c2d46' class='sc-var-attrs-in' type='checkbox' disabled><label for='attrs-8f8a6dba-422b-45a4-b6ec-f867cf2c2d46' class='sc-hide-icon' title='Show/Hide attributes'><svg class='icon sc-icon-file-text2'><use xlink:href='#icon-file-text2'></use></svg></label><input id='data-fc10514b-6607-4880-8da6-c2ae692f806d' class='sc-var-data-in' type='checkbox'><label for='data-fc10514b-6607-4880-8da6-c2ae692f806d' title='Show/Hide data repr'><svg class='icon sc-icon-database'><use xlink:href='#icon-database'></use></svg></label><pre class='sc-var-data'>Values:<br>&#x27;My experiment&#x27;</pre></li><li class='sc-var-item'><div class='sc-var-name'><span>running</span></div><div class='sc-var-dims'>()</div><div class='sc-var-dtype'>DataArray</div><div class='sc-var-unit'></div><div class='sc-value-preview sc-preview'><span><div>{dims=[time: 1], coords=[time]}</div></span></div><input id='attrs-eb96bf96-e712-4ae5-aff6-4abfd5e35e2c' class='sc-var-attrs-in' type='checkbox' disabled><label for='attrs-eb96bf96-e712-4ae5-aff6-4abfd5e35e2c' class='sc-hide-icon' title='Show/Hide attributes'><svg class='icon sc-icon-file-text2'><use xlink:href='#icon-file-text2'></use></svg></label><input id='data-2d34a081-96a1-494b-89c4-d670ab4e6458' class='sc-var-data-in' type='checkbox'><label for='data-2d34a081-96a1-494b-89c4-d670ab4e6458' title='Show/Hide data repr'><svg class='icon sc-icon-database'><use xlink:href='#icon-database'></use></svg></label><pre class='sc-var-data'>Values:<br>&lt;scipp.DataArray&gt;\n",
       "Dimensions: Sizes[time:1, ]\n",
       "Coordinates:\n",
       "* time                    datetime64             [ns]  (time)  [1990-01-01T00:00:00.000000000]\n",
       "Data:\n",
       "                               bool  [dimensionless]  (time)  [True]\n",
       "\n",
       "</pre></li><li class='sc-var-item'><div class='sc-var-name'><span>sample</span></div><div class='sc-var-dims'>()</div><div class='sc-var-dtype'>PyObject</div><div class='sc-var-unit'></div><div class='sc-value-preview sc-preview'><span><div>&lt;mantid.api._api.Sample object at 0x7fbc9dbdec10&gt;</div></span></div><input id='attrs-f160affa-03f1-4d37-aa32-f6bb9a17298a' class='sc-var-attrs-in' type='checkbox' disabled><label for='attrs-f160affa-03f1-4d37-aa32-f6bb9a17298a' class='sc-hide-icon' title='Show/Hide attributes'><svg class='icon sc-icon-file-text2'><use xlink:href='#icon-file-text2'></use></svg></label><input id='data-9f7e847e-0a06-4bfc-9267-c9ef6a40e344' class='sc-var-data-in' type='checkbox'><label for='data-9f7e847e-0a06-4bfc-9267-c9ef6a40e344' title='Show/Hide data repr'><svg class='icon sc-icon-database'><use xlink:href='#icon-database'></use></svg></label><pre class='sc-var-data'>Values:<br>&lt;mantid.api._api.Sample object at 0x7fbc9dbdec10&gt;</pre></li><li class='sc-var-item'><div class='sc-var-name'><span>start_time</span></div><div class='sc-var-dims'>()</div><div class='sc-var-dtype'>string</div><div class='sc-var-unit'>𝟙</div><div class='sc-value-preview sc-preview'><span><div>2022-02-28T21:15:00</div></span></div><input id='attrs-a374167a-d597-4170-874a-321a33f6a905' class='sc-var-attrs-in' type='checkbox' disabled><label for='attrs-a374167a-d597-4170-874a-321a33f6a905' class='sc-hide-icon' title='Show/Hide attributes'><svg class='icon sc-icon-file-text2'><use xlink:href='#icon-file-text2'></use></svg></label><input id='data-bfeec078-6c46-4be8-9303-0068f3891a55' class='sc-var-data-in' type='checkbox'><label for='data-bfeec078-6c46-4be8-9303-0068f3891a55' title='Show/Hide data repr'><svg class='icon sc-icon-database'><use xlink:href='#icon-database'></use></svg></label><pre class='sc-var-data'>Values:<br>&#x27;2022-02-28T21:15:00&#x27;</pre></li></ul></div></li></ul></div></div>"
      ],
      "text/plain": [
       "<scipp.DataArray>\n",
       "Dimensions: Sizes[spectrum:458752, wavelength:1, ]\n",
       "Coordinates:\n",
       "* position                  vector3              [m]  (spectrum)  [(0.451023, 0.446362, 29.4041), (0.44907, 0.446362, 29.4041), ..., (-0.54507, -0.412919, 29.4982), (-0.547023, -0.412919, 29.4982)]\n",
       "* sample_position           vector3              [m]  ()  (0, 0, 25.61)\n",
       "* source_position           vector3              [m]  ()  (0, 0, 0)\n",
       "* spectrum                    int32        <no unit>  (spectrum)  [1, 2, ..., 458751, 458752]\n",
       "* wavelength                float64             [Å]  (wavelength [bin-edge])  [2.2, 12]\n",
       "Data:\n",
       "                          DataArrayView        <no unit>  (spectrum, wavelength)  binned data: dim='event', content=DataArray(\n",
       "          dims=(event: 14613075),\n",
       "          data=float32[counts],\n",
       "          coords={'wavelength':float64[Å], 'pulse_time':datetime64[ns]})\n",
       "Masks:\n",
       "  spectrum                     bool        <no unit>  (spectrum)  [True, True, ..., True, True]\n",
       "Attributes:\n",
       "  Filename                   string  [dimensionless]  ()  \"/Users/judithhouston/Documents/ESS/LoKi/Design_documents/Detector/Larmor2022/...\"\n",
       "  deltaE-mode                string  [dimensionless]  ()  \"Elastic\"\n",
       "  end_time                   string  [dimensionless]  ()  \"2032-02-29T09:15:00\"\n",
       "  experiment_identifier      string  [dimensionless]  ()  \"p1234\"\n",
       "  instrument_name            string        <no unit>  ()  \"LOKI_test.xml\"\n",
       "  run_start                  string  [dimensionless]  ()  \"2022-02-28T21:15:00\"\n",
       "  run_title                  string  [dimensionless]  ()  \"My experiment\"\n",
       "  running                 DataArray        <no unit>  ()  DataArray(dims=(time: 1), dtype=bool, unit=dimensionless)\n",
       "  sample                   PyObject        <no unit>  ()  <mantid.api._api.Sample object at 0x7fbc9dbdec10>\n",
       "  start_time                 string  [dimensionless]  ()  \"2022-02-28T21:15:00\"\n"
      ]
     },
     "execution_count": 47,
     "metadata": {},
     "output_type": "execute_result"
    }
   ],
   "source": [
    "mantid_sample "
   ]
  },
  {
   "cell_type": "code",
   "execution_count": 49,
   "id": "201122ba-faef-4a53-ad55-1ad49b480271",
   "metadata": {},
   "outputs": [
    {
     "data": {
      "text/html": [
       "<div><!-- Original source from -->\n",
       "<!-- https://github.com/jsignell/xarray/blob/1d960933ab252e0f79f7e050e6c9261d55568057/xarray/static/html/icons-svg-inline.html -->\n",
       "<svg style=\"position: absolute; width: 0; height: 0; overflow: hidden\">\n",
       "<defs>\n",
       "<symbol id=\"icon-database\" viewBox=\"0 0 32 32\">\n",
       "<title>Show/Hide data repr</title>\n",
       "<path d=\"M16 0c-8.837 0-16 2.239-16 5v4c0 2.761 7.163 5 16 5s16-2.239 16-5v-4c0-2.761-7.163-5-16-5z\"></path>\n",
       "<path d=\"M16 17c-8.837 0-16-2.239-16-5v6c0 2.761 7.163 5 16 5s16-2.239 16-5v-6c0 2.761-7.163 5-16 5z\"></path>\n",
       "<path d=\"M16 26c-8.837 0-16-2.239-16-5v6c0 2.761 7.163 5 16 5s16-2.239 16-5v-6c0 2.761-7.163 5-16 5z\"></path>\n",
       "</symbol>\n",
       "<symbol id=\"icon-file-text2\" viewBox=\"0 0 32 32\">\n",
       "<title>Show/Hide attributes</title>\n",
       "<path d=\"M28.681 7.159c-0.694-0.947-1.662-2.053-2.724-3.116s-2.169-2.030-3.116-2.724c-1.612-1.182-2.393-1.319-2.841-1.319h-15.5c-1.378 0-2.5 1.121-2.5 2.5v27c0 1.378 1.122 2.5 2.5 2.5h23c1.378 0 2.5-1.122 2.5-2.5v-19.5c0-0.448-0.137-1.23-1.319-2.841zM24.543 5.457c0.959 0.959 1.712 1.825 2.268 2.543h-4.811v-4.811c0.718 0.556 1.584 1.309 2.543 2.268zM28 29.5c0 0.271-0.229 0.5-0.5 0.5h-23c-0.271 0-0.5-0.229-0.5-0.5v-27c0-0.271 0.229-0.5 0.5-0.5 0 0 15.499-0 15.5 0v7c0 0.552 0.448 1 1 1h7v19.5z\"></path>\n",
       "<path d=\"M23 26h-14c-0.552 0-1-0.448-1-1s0.448-1 1-1h14c0.552 0 1 0.448 1 1s-0.448 1-1 1z\"></path>\n",
       "<path d=\"M23 22h-14c-0.552 0-1-0.448-1-1s0.448-1 1-1h14c0.552 0 1 0.448 1 1s-0.448 1-1 1z\"></path>\n",
       "<path d=\"M23 18h-14c-0.552 0-1-0.448-1-1s0.448-1 1-1h14c0.552 0 1 0.448 1 1s-0.448 1-1 1z\"></path>\n",
       "</symbol>\n",
       "</defs>\n",
       "</svg><style id=\"scipp-style-sheet\">.sc-root{--sc-background-color0:var(--jp-layout-color0,#fff);--sc-background-color1:var(--jp-layout-color1,#fcfcfc);--sc-background-color2:var(--jp-layout-color2,#efefef);--sc-inverse-background-color0:var(--jp-inverse-layout-color4,#111);--sc-font-color0:var(--jp-content-font-color0,#000);--sc-font-color1:var(--jp-content-font-color1,#555);--sc-font-color2:var(--jp-content-font-color2,#888);--sc-font-color3:var(--jp-content-font-color3,#ccc);--sc-table-data-color:#f6d028;--sc-table-coords-color:#c6e590;--sc-table-masks-color:#c8c8c8;--sc-table-attrs-color:#ff5555;--sc-table-header-font-color:#111111;}.sc-wrap{font-size:14px;min-width:300px;max-width:800px;}.sc-var-attrs .sc-wrap{padding-left:3em;}.sc-header{padding-top:6px;padding-bottom:6px;margin-bottom:4px;border-bottom:solid 1px #ddd;}.sc-header > div,.sc-header > ul{display:inline;margin-top:0;margin-bottom:0;}.sc-obj-type,.sc-array-name{margin-left:2px;margin-right:10px;}.sc-obj-type{color:var(--sc-font-color1);}.sc-underlying-size{color:var(--sc-font-color2);}.sc-sections,.reveal .sc-sections{padding-left:0 !important;display:grid;grid-template-columns:150px auto auto auto 1fr 20px 20px;}.sc-section-item{display:contents;}.sc-section-item input{display:none;}.sc-section-item input:enabled + label{cursor:pointer;color:var(--sc-font-color1);}.sc-section-item input:enabled + label:hover{color:var(--sc-font-color0);}.sc-section-summary{grid-column:1;font-weight:500;}.sc-section-summary > span{display:inline-block;padding-left:0.5em;}.sc-section-summary-in:disabled + label{color:var(--sc-font-color1);}.sc-section-summary-in + label:before{display:inline-block;content:'►';font-size:11px;width:15px;text-align:center;}.sc-section-summary-in:disabled + label:before{color:var(--sc-font-color3);}.sc-section-summary-in:checked + label:before{content:'▼';}.sc-section-summary-in:checked + label > span{display:none;}.sc-section-summary,.sc-section-inline-details{padding-top:4px;padding-bottom:4px;}.sc-section-inline-details{grid-column:2 / 6;}.sc-section-details{display:none;grid-column:1 / -1;margin-bottom:5px;}.sc-section-summary-in:checked ~ .sc-section-details{display:contents;}.sc-array-wrap{grid-column:1 / -1;display:grid;grid-template-columns:20px auto;}.sc-array-wrap > label{grid-column:1;vertical-align:top;}.sc-preview{color:var(--sc-font-color2);}.sc-array-preview,.sc-array-data{padding:0 5px !important;grid-column:2;}.sc-array-data,.sc-array-in:checked ~ .sc-array-preview{display:none;}.sc-array-in:checked ~ .sc-array-data,.sc-array-preview{display:inline-block;}.sc-dim-list{display:inline-block !important;list-style:none;padding:0 !important;margin:0;}.sc-dim-list li{display:inline-block;padding:0;margin:0!important;}.sc-dim-list:before{content:'(';}.sc-dim-list:after{content:')';}.sc-dim-list li:not(:last-child):after{content:',';padding-right:5px;}.sc-dim-list li span,.sc-standalone-var-name > span span,.sc-var-name > span span{padding:0 !important;}.sc-aligned{font-weight:bold;}.sc-var-list,.sc-var-item,.reveal .sc-var-list,.reveal .sc-var-item{display:contents;}.sc-var-item > div,.sc-var-item label,.sc-var-item > .sc-var-name span{background-color:var(--sc-background-color1);margin-bottom:0;}.sc-var-item > .sc-var-name:hover span{padding-right:5px;}.sc-var-list > li:nth-child(odd) > div,.sc-var-list > li:nth-child(odd) > label,.sc-var-list > li:nth-child(odd) > .sc-var-name span{background-color:var(--sc-background-color2);}.sc-var-name{grid-column:1;}.sc-var-dims{grid-column:2;}.sc-var-dtype{grid-column:3;text-align:right;color:var(--sc-font-color2);}.sc-var-unit{grid-column:4;text-align:left;color:var(--sc-font-color1);max-width:50pt;text-overflow:ellipsis;}.sc-value-preview{grid-column:5;}.sc-var-preview-variances{text-align:right;}.sc-sections .sc-section-item .sc-section-summary,.sc-sections .sc-section-item .sc-section-inline-details,.sc-section-item .sc-var-list .sc-var-item > div,.sc-section-item .sc-var-list .sc-var-item > label,.sc-section-details .sc-var-list .sc-var-item > div,.sc-section-details .sc-var-list .sc-var-item > label{margin-top:0;margin-bottom:0;}.sc-var-name,.sc-var-dims,.sc-var-dtype,.sc-var-unit,.sc-preview,.sc-attrs dt{white-space:nowrap;overflow:hidden;text-overflow:ellipsis;padding-right:10px;}.sc-var-name:hover,.sc-var-dims:hover,.sc-var-dtype:hover,.sc-var-unit:hover,.sc-attrs dt:hover{overflow:visible;width:auto;z-index:1;}.sc-var-attrs{display:block;}.sc-var-data,.reveal .sc-var-data{display:none;}.sc-var-attrs,.sc-var-data{background-color:var(--sc-background-color0) !important;padding-bottom:5px !important;}.sc-var-attrs-in:checked ~ .sc-var-attrs{display:none;}.sc-var-data-in:checked ~ .sc-var-data{display:block;}.sc-var-data > table{float:right;}.sc-var-name span,.sc-var-data{padding-left:25px !important;}.sc-var-attrs,.sc-var-data{grid-column:1 / -1;}dl.sc-attrs{padding:0;margin:0;display:grid;grid-template-columns:125px auto;}.sc-attrs dt,dd{padding:0;margin:0;float:left;padding-right:10px;width:auto;}.sc-attrs dt{font-weight:normal;grid-column:1;}.sc-attrs dt:hover span{display:inline-block;padding-right:10px;}.sc-attrs dd{grid-column:2;white-space:pre-wrap;word-break:break-all;}.sc-icon-database,.sc-icon-file-text2{display:inline-block;vertical-align:middle;width:1em;height:1.5em !important;stroke-width:0;stroke:currentColor;fill:currentColor;}label.sc-hide-icon svg{opacity:0;}.sc-standalone-var-name{grid-column:1/3;}.sc-standalone-var-name span{padding-left:25px;padding-right:10px;}.sc-table{border-collapse:collapse;}.sc-title{font-weight:bold;font-size:1.5em;}.sc-subtitle{font-weight:normal;font-style:italic;text-align:left;font-size:1.2em;padding:1px;}.sc-table th,.sc-table td{border:1px solid var(--sc-inverse-background-color0);padding:0 5px 0 5px;}.sc-table th{text-align:center;}.sc-table tr{background-color:var(--sc-background-color1);text-align:right;}.sc-table tr:hover{background-color:var(--sc-background-color2);}.sc-table th.sc-data{background-color:var(--sc-table-data-color);color:var(--sc-table-header-font-color);}.sc-table th.sc-coords{background-color:var(--sc-table-coords-color);color:var(--sc-table-header-font-color);}.sc-table th.sc-masks{background-color:var(--sc-table-masks-color);color:var(--sc-table-header-font-color);}.sc-table th.sc-attrs{background-color:var(--sc-table-attrs-color);color:var(--sc-table-header-font-color);}.sc-table th.sc-subheader{background-color:var(--sc-background-color2);}.sc-table td.sc-padding{background-color:var(--sc-background-color1);border:0 solid var(--sc-background-color1);height:1.2em;}.sc-label{fill:var(--sc-font-color0,#444444);text-anchor:middle;}.sc-name{fill:var(--sc-font-color0,#111111);}.sc-inset-line{stroke:var(--sc-font-color1);stroke-width:0.05;stroke-dasharray:0.2,0.2;}.sc-log-wrap{height:25ex;resize:vertical;overflow-y:scroll;display:flex;flex-direction:column-reverse;border:1px solid;border-color:var(--jp-border-color2);background-color:var(--sc-background-color1);}div.sc-log{line-height:2.5ex;}table.sc-log{table-layout:auto;border-collapse:collapse;}tr.sc-log:nth-child(even){background-color:var(--sc-background-color0);}tr.sc-log > td{vertical-align:top;padding-bottom:0.5ex;}.sc-log-time-stamp{min-width:22ch;font-family:var(--jp-code-font-family);color:var(--sc-font-color2);}.sc-log-level{min-width:10ch;}tr.sc-log-debug td.sc-log-level{color:var(--jp-accent-color1);}tr.sc-log-info td.sc-log-level{color:var(--jp-info-color1);}tr.sc-log-warning td.sc-log-level{color:var(--jp-warn-color1);}tr.sc-log-error td.sc-log-level{font-weight:bold;color:var(--jp-error-color2);}tr.sc-log-critical td.sc-log-level{font-weight:bold;color:var(--sc-background-color0);background-color:var(--jp-error-color1);}.sc-log-message{white-space:pre-wrap;width:100%;}.sc-log-html-payload{white-space:normal;}.sc-log-name{padding-right:0.5em;text-align:right;white-space:pre-wrap;color:var(--sc-font-color3);}</style><div class='sc-wrap sc-root'><div class='sc-header'><div class='sc-obj-type'>scipp.DataArray (492.25 MB)</div></div><ul class='sc-sections'><li class='sc-section-item'><input id='section-a5b061ea-cc95-44de-acf5-b5b64599aa26' class='sc-section-summary-in' type='checkbox' disabled ><label for='section-a5b061ea-cc95-44de-acf5-b5b64599aa26' class='sc-section-summary'  title='Expand/collapse section'>Dimensions:</label><div class='sc-section-inline-details'><ul class='sc-dim-list'><li><span class='sc-has-index'>spectrum</span>: 458752</li><li><span class='sc-has-index'>tof</span>: 1</li></ul></div><div class='sc-section-details'></div></li><li class='sc-section-item'><input id='section-3899d957-be63-4f43-893b-4695df514662' class='sc-section-summary-in' type='checkbox'  checked><label for='section-3899d957-be63-4f43-893b-4695df514662' class='sc-section-summary' >Coordinates: <span>(8)</span></label><div class='sc-section-inline-details'></div><div class='sc-section-details'><ul class='sc-var-list'><li class='sc-var-item'><div class='sc-var-name'><span class='sc-aligned'>pixel_height</span></div><div class='sc-var-dims'>()</div><div class='sc-var-dtype'>float64</div><div class='sc-var-unit'>m</div><div class='sc-value-preview sc-preview'><span><div>0.0117188</div></span></div><input id='attrs-3befbf49-7155-46a0-9d02-a9cb8cd6d23e' class='sc-var-attrs-in' type='checkbox' disabled><label for='attrs-3befbf49-7155-46a0-9d02-a9cb8cd6d23e' class='sc-hide-icon' title='Show/Hide attributes'><svg class='icon sc-icon-file-text2'><use xlink:href='#icon-file-text2'></use></svg></label><input id='data-eed162bf-11c6-4589-97cb-a160a8500bcf' class='sc-var-data-in' type='checkbox'><label for='data-eed162bf-11c6-4589-97cb-a160a8500bcf' title='Show/Hide data repr'><svg class='icon sc-icon-database'><use xlink:href='#icon-database'></use></svg></label><pre class='sc-var-data'>Values:<br>array(0.0117188)</pre></span></li><li class='sc-var-item'><div class='sc-var-name'><span class='sc-aligned'>pixel_shape</span></div><div class='sc-var-dims'>()</div><div class='sc-var-dtype'>DatasetView</div><div class='sc-var-unit'></div><div class='sc-value-preview sc-preview'><span><div>binned data [len=1]</div></span></div><input id='attrs-ec964f8b-d3c1-47e1-8aff-ca86edac7307' class='sc-var-attrs-in' type='checkbox' disabled><label for='attrs-ec964f8b-d3c1-47e1-8aff-ca86edac7307' class='sc-hide-icon' title='Show/Hide attributes'><svg class='icon sc-icon-file-text2'><use xlink:href='#icon-file-text2'></use></svg></label><input id='data-834506c3-2d29-47e4-b3f0-f70b48321b7d' class='sc-var-data-in' type='checkbox'><label for='data-834506c3-2d29-47e4-b3f0-f70b48321b7d' title='Show/Hide data repr'><svg class='icon sc-icon-database'><use xlink:href='#icon-database'></use></svg></label><pre class='sc-var-data'>&lt;scipp.Variable&gt; ()  DatasetView        &lt;no unit&gt;  &lt;scipp.Dataset&gt;\n",
       "Dimensions: Sizes[cylinder:1, ]\n",
       "Data:\n",
       "  face1_center              vector3              [m]  (cylinder)  [(0, 0, 0)]\n",
       "  face1_edge                vector3              [m]  (cylinder)  [(0, -0.00257703, 0.00305923)]\n",
       "  face2_center              vector3              [m]  (cylinder)  [(0.00194919, 0, 0)]\n",
       "\n",
       "</pre></span></li><li class='sc-var-item'><div class='sc-var-name'><span class='sc-aligned'>pixel_width</span></div><div class='sc-var-dims'>()</div><div class='sc-var-dtype'>float64</div><div class='sc-var-unit'>m</div><div class='sc-value-preview sc-preview'><span><div>0.0075</div></span></div><input id='attrs-e5bfc664-d20b-45b1-ab99-936c5e23a31b' class='sc-var-attrs-in' type='checkbox' disabled><label for='attrs-e5bfc664-d20b-45b1-ab99-936c5e23a31b' class='sc-hide-icon' title='Show/Hide attributes'><svg class='icon sc-icon-file-text2'><use xlink:href='#icon-file-text2'></use></svg></label><input id='data-1880f1bc-3411-4907-9b6e-15e461265d64' class='sc-var-data-in' type='checkbox'><label for='data-1880f1bc-3411-4907-9b6e-15e461265d64' title='Show/Hide data repr'><svg class='icon sc-icon-database'><use xlink:href='#icon-database'></use></svg></label><pre class='sc-var-data'>Values:<br>array(0.0075)</pre></span></li><li class='sc-var-item'><div class='sc-var-name'><span class='sc-aligned'>position</span></div><div class='sc-var-dims'>(spectrum)</div><div class='sc-var-dtype'>vector3</div><div class='sc-var-unit'>m</div><div class='sc-value-preview sc-preview'><span><div>[-0.47102349  0.44636999  3.80132989], [-0.4690743   0.44636999  3.80132989], ..., [ 0.52306117 -0.41291     3.89544689], [ 0.5250103  -0.41291     3.89544689]</div></span></div><input id='attrs-419ef486-f23f-4eae-a68f-d20c2778e88f' class='sc-var-attrs-in' type='checkbox' disabled><label for='attrs-419ef486-f23f-4eae-a68f-d20c2778e88f' class='sc-hide-icon' title='Show/Hide attributes'><svg class='icon sc-icon-file-text2'><use xlink:href='#icon-file-text2'></use></svg></label><input id='data-cacd9738-ba53-409e-a66f-2d37e23e60cb' class='sc-var-data-in' type='checkbox'><label for='data-cacd9738-ba53-409e-a66f-2d37e23e60cb' title='Show/Hide data repr'><svg class='icon sc-icon-database'><use xlink:href='#icon-database'></use></svg></label><pre class='sc-var-data'>Values:<br>array([[-0.47102349,  0.44636999,  3.80132989],\n",
       "       [-0.4690743 ,  0.44636999,  3.80132989],\n",
       "       [-0.46712512,  0.44636999,  3.80132989],\n",
       "       ...,\n",
       "       [ 0.52111198, -0.41291   ,  3.89544689],\n",
       "       [ 0.52306117, -0.41291   ,  3.89544689],\n",
       "       [ 0.5250103 , -0.41291   ,  3.89544689]])</pre></span></li><li class='sc-var-item'><div class='sc-var-name'><span class='sc-aligned'>sample_position</span></div><div class='sc-var-dims'>()</div><div class='sc-var-dtype'>vector3</div><div class='sc-var-unit'>m</div><div class='sc-value-preview sc-preview'><span><div>[0. 0. 0.]</div></span></div><input id='attrs-4441f652-af0f-4de7-91f1-efd561fa7c2e' class='sc-var-attrs-in' type='checkbox' disabled><label for='attrs-4441f652-af0f-4de7-91f1-efd561fa7c2e' class='sc-hide-icon' title='Show/Hide attributes'><svg class='icon sc-icon-file-text2'><use xlink:href='#icon-file-text2'></use></svg></label><input id='data-307c1d37-636d-4149-af61-af51b026907b' class='sc-var-data-in' type='checkbox'><label for='data-307c1d37-636d-4149-af61-af51b026907b' title='Show/Hide data repr'><svg class='icon sc-icon-database'><use xlink:href='#icon-database'></use></svg></label><pre class='sc-var-data'>Values:<br>array([0., 0., 0.])</pre></span></li><li class='sc-var-item'><div class='sc-var-name'><span class='sc-aligned'>source_position</span></div><div class='sc-var-dims'>()</div><div class='sc-var-dtype'>vector3</div><div class='sc-var-unit'>m</div><div class='sc-value-preview sc-preview'><span><div>[  0.     0.   -25.61]</div></span></div><input id='attrs-80029fb8-4177-4f34-b8ea-a9ddddb97671' class='sc-var-attrs-in' type='checkbox' disabled><label for='attrs-80029fb8-4177-4f34-b8ea-a9ddddb97671' class='sc-hide-icon' title='Show/Hide attributes'><svg class='icon sc-icon-file-text2'><use xlink:href='#icon-file-text2'></use></svg></label><input id='data-e728bc47-5956-47f6-abe5-374fc36a8707' class='sc-var-data-in' type='checkbox'><label for='data-e728bc47-5956-47f6-abe5-374fc36a8707' title='Show/Hide data repr'><svg class='icon sc-icon-database'><use xlink:href='#icon-database'></use></svg></label><pre class='sc-var-data'>Values:<br>array([  0.  ,   0.  , -25.61])</pre></span></li><li class='sc-var-item'><div class='sc-var-name'><span class='sc-aligned'>spectrum</span></div><div class='sc-var-dims'>(spectrum)</div><div class='sc-var-dtype'>int32</div><div class='sc-var-unit'></div><div class='sc-value-preview sc-preview'><span><div>1, 2, ..., 458751, 458752</div></span></div><input id='attrs-1273585e-40b8-4988-8a67-2cd510b779be' class='sc-var-attrs-in' type='checkbox' disabled><label for='attrs-1273585e-40b8-4988-8a67-2cd510b779be' class='sc-hide-icon' title='Show/Hide attributes'><svg class='icon sc-icon-file-text2'><use xlink:href='#icon-file-text2'></use></svg></label><input id='data-34a7e450-27ec-44e8-afd1-eaf7101b17d7' class='sc-var-data-in' type='checkbox'><label for='data-34a7e450-27ec-44e8-afd1-eaf7101b17d7' title='Show/Hide data repr'><svg class='icon sc-icon-database'><use xlink:href='#icon-database'></use></svg></label><pre class='sc-var-data'>Values:<br>array([     1,      2,      3, ..., 458750, 458751, 458752], dtype=int32)</pre></span></li><li class='sc-var-item'><div class='sc-var-name'><span class='sc-aligned'>tof</span></div><div class='sc-var-dims'>(tof [bin-edge])</div><div class='sc-var-dtype'>float64</div><div class='sc-var-unit'>ns</div><div class='sc-value-preview sc-preview'><span><div>284.0, 1.000e+08</div></span></div><input id='attrs-5862cf72-7652-465f-b27e-1eed0f0281b2' class='sc-var-attrs-in' type='checkbox' disabled><label for='attrs-5862cf72-7652-465f-b27e-1eed0f0281b2' class='sc-hide-icon' title='Show/Hide attributes'><svg class='icon sc-icon-file-text2'><use xlink:href='#icon-file-text2'></use></svg></label><input id='data-bf445dc1-3390-4814-92f9-063961a02a67' class='sc-var-data-in' type='checkbox'><label for='data-bf445dc1-3390-4814-92f9-063961a02a67' title='Show/Hide data repr'><svg class='icon sc-icon-database'><use xlink:href='#icon-database'></use></svg></label><pre class='sc-var-data'>Values:<br>array([2.8400000e+02, 9.9999387e+07])</pre></span></li></ul></div></li><li class='sc-section-item'><input id='section-d69c5b8b-6b79-4e80-bf00-5767a1be7461' class='sc-section-summary-in' type='checkbox'  checked><label for='section-d69c5b8b-6b79-4e80-bf00-5767a1be7461' class='sc-section-summary' >Data: <span>(1)</span></label><div class='sc-section-inline-details'></div><div class='sc-section-details'><ul class='sc-var-list'><li class='sc-var-item'><div class='sc-var-name'><span></span></div><div class='sc-var-dims'>(spectrum, tof)</div><div class='sc-var-dtype'>DataArrayView</div><div class='sc-var-unit'></div><div class='sc-value-preview sc-preview'><span><div>binned data [len=0, len=0, ..., len=0, len=0]</div></span></div><input id='attrs-c24f1d66-dfab-4e42-946e-7e46d8a574ba' class='sc-var-attrs-in' type='checkbox' disabled><label for='attrs-c24f1d66-dfab-4e42-946e-7e46d8a574ba' class='sc-hide-icon' title='Show/Hide attributes'><svg class='icon sc-icon-file-text2'><use xlink:href='#icon-file-text2'></use></svg></label><input id='data-3395d8aa-ee71-48c1-ac6b-7b161ed0e148' class='sc-var-data-in' type='checkbox'><label for='data-3395d8aa-ee71-48c1-ac6b-7b161ed0e148' title='Show/Hide data repr'><svg class='icon sc-icon-database'><use xlink:href='#icon-database'></use></svg></label><pre class='sc-var-data'>dim=&#x27;event&#x27;,\n",
       "content=DataArray(\n",
       "          dims=(event: 17419279),\n",
       "          data=float32[counts],\n",
       "          coords={&#x27;tof&#x27;:int32[ns], &#x27;pulse_time&#x27;:datetime64[ns]})</pre></li></ul></div></li><li class='sc-section-item'><input id='section-9c95f3b0-d2ca-438c-88d1-3c8f02a6697f' class='sc-section-summary-in' type='checkbox'  checked><label for='section-9c95f3b0-d2ca-438c-88d1-3c8f02a6697f' class='sc-section-summary' >Masks: <span>(2)</span></label><div class='sc-section-inline-details'></div><div class='sc-section-details'><ul class='sc-var-list'><li class='sc-var-item'><div class='sc-var-name'><span>all</span></div><div class='sc-var-dims'>(spectrum)</div><div class='sc-var-dtype'>bool</div><div class='sc-var-unit'></div><div class='sc-value-preview sc-preview'><span><div>True, True, ..., True, True</div></span></div><input id='attrs-f3175678-d4cd-42a2-a3ae-ba7c1ff673c8' class='sc-var-attrs-in' type='checkbox' disabled><label for='attrs-f3175678-d4cd-42a2-a3ae-ba7c1ff673c8' class='sc-hide-icon' title='Show/Hide attributes'><svg class='icon sc-icon-file-text2'><use xlink:href='#icon-file-text2'></use></svg></label><input id='data-f85e7e38-e366-4e1e-9934-717374fd7de3' class='sc-var-data-in' type='checkbox'><label for='data-f85e7e38-e366-4e1e-9934-717374fd7de3' title='Show/Hide data repr'><svg class='icon sc-icon-database'><use xlink:href='#icon-database'></use></svg></label><pre class='sc-var-data'>Values:<br>array([ True,  True,  True, ...,  True,  True,  True])</pre></span></li><li class='sc-var-item'><div class='sc-var-name'><span>straws</span></div><div class='sc-var-dims'>(spectrum)</div><div class='sc-var-dtype'>bool</div><div class='sc-var-unit'></div><div class='sc-value-preview sc-preview'><span><div>False, False, ..., True, True</div></span></div><input id='attrs-9226bfe9-bef1-4486-b073-c805e6dbb54a' class='sc-var-attrs-in' type='checkbox' disabled><label for='attrs-9226bfe9-bef1-4486-b073-c805e6dbb54a' class='sc-hide-icon' title='Show/Hide attributes'><svg class='icon sc-icon-file-text2'><use xlink:href='#icon-file-text2'></use></svg></label><input id='data-87b94146-0676-4f9a-9568-a4f5ad5bf95e' class='sc-var-data-in' type='checkbox'><label for='data-87b94146-0676-4f9a-9568-a4f5ad5bf95e' title='Show/Hide data repr'><svg class='icon sc-icon-database'><use xlink:href='#icon-database'></use></svg></label><pre class='sc-var-data'>Values:<br>array([False, False, False, ...,  True,  True,  True])</pre></span></li></ul></div></li><li class='sc-section-item'><input id='section-3a8fc506-bace-44b1-a58a-9b8b999094d4' class='sc-section-summary-in' type='checkbox'  checked><label for='section-3a8fc506-bace-44b1-a58a-9b8b999094d4' class='sc-section-summary' >Attributes: <span>(8)</span></label><div class='sc-section-inline-details'></div><div class='sc-section-details'><ul class='sc-var-list'><li class='sc-var-item'><div class='sc-var-name'><span>base_position</span></div><div class='sc-var-dims'>(spectrum)</div><div class='sc-var-dtype'>vector3</div><div class='sc-var-unit'>m</div><div class='sc-value-preview sc-preview'><span><div>[ 0.      -0.00114 -0.00767], [ 0.00194919 -0.00114    -0.00767   ], ..., [ 0.99408466 -0.86041999  0.086447  ], [ 0.99603379 -0.86041999  0.086447  ]</div></span></div><input id='attrs-e955a65b-bd84-44d9-8b07-de8231985840' class='sc-var-attrs-in' type='checkbox' disabled><label for='attrs-e955a65b-bd84-44d9-8b07-de8231985840' class='sc-hide-icon' title='Show/Hide attributes'><svg class='icon sc-icon-file-text2'><use xlink:href='#icon-file-text2'></use></svg></label><input id='data-b0dd1bc6-4db7-4bd6-baf0-1a67553cdae1' class='sc-var-data-in' type='checkbox'><label for='data-b0dd1bc6-4db7-4bd6-baf0-1a67553cdae1' title='Show/Hide data repr'><svg class='icon sc-icon-database'><use xlink:href='#icon-database'></use></svg></label><pre class='sc-var-data'>Values:<br>array([[ 0.        , -0.00114   , -0.00767   ],\n",
       "       [ 0.00194919, -0.00114   , -0.00767   ],\n",
       "       [ 0.00389837, -0.00114   , -0.00767   ],\n",
       "       ...,\n",
       "       [ 0.99213547, -0.86041999,  0.086447  ],\n",
       "       [ 0.99408466, -0.86041999,  0.086447  ],\n",
       "       [ 0.99603379, -0.86041999,  0.086447  ]])</pre></li><li class='sc-var-item'><div class='sc-var-name'><span>end_time</span></div><div class='sc-var-dims'>()</div><div class='sc-var-dtype'>string</div><div class='sc-var-unit'></div><div class='sc-value-preview sc-preview'><span><div>2032-02-29T09:15:00.000Z</div></span></div><input id='attrs-7189c7ea-b4f0-43d3-b0d7-639995e01c1b' class='sc-var-attrs-in' type='checkbox' disabled><label for='attrs-7189c7ea-b4f0-43d3-b0d7-639995e01c1b' class='sc-hide-icon' title='Show/Hide attributes'><svg class='icon sc-icon-file-text2'><use xlink:href='#icon-file-text2'></use></svg></label><input id='data-9b0cab47-10c5-4222-ad8b-dca08981f33b' class='sc-var-data-in' type='checkbox'><label for='data-9b0cab47-10c5-4222-ad8b-dca08981f33b' title='Show/Hide data repr'><svg class='icon sc-icon-database'><use xlink:href='#icon-database'></use></svg></label><pre class='sc-var-data'>Values:<br>&#x27;2032-02-29T09:15:00.000Z&#x27;</pre></li><li class='sc-var-item'><div class='sc-var-name'><span>experiment_title</span></div><div class='sc-var-dims'>()</div><div class='sc-var-dtype'>string</div><div class='sc-var-unit'></div><div class='sc-value-preview sc-preview'><span><div>My experiment</div></span></div><input id='attrs-203bd457-360f-4cb2-b323-aeae1f126418' class='sc-var-attrs-in' type='checkbox' disabled><label for='attrs-203bd457-360f-4cb2-b323-aeae1f126418' class='sc-hide-icon' title='Show/Hide attributes'><svg class='icon sc-icon-file-text2'><use xlink:href='#icon-file-text2'></use></svg></label><input id='data-da8c1b39-6c8f-422c-9b74-0992804b3579' class='sc-var-data-in' type='checkbox'><label for='data-da8c1b39-6c8f-422c-9b74-0992804b3579' title='Show/Hide data repr'><svg class='icon sc-icon-database'><use xlink:href='#icon-database'></use></svg></label><pre class='sc-var-data'>Values:<br>&#x27;My experiment&#x27;</pre></li><li class='sc-var-item'><div class='sc-var-name'><span>monitor_1</span></div><div class='sc-var-dims'>()</div><div class='sc-var-dtype'>DataArray</div><div class='sc-var-unit'></div><div class='sc-value-preview sc-preview'><span><div>{dims=[tof: 1], unit=None, coords=[position]}</div></span></div><input id='attrs-cf6b942c-b18f-4c5f-8298-b475619a5b2e' class='sc-var-attrs-in' type='checkbox' disabled><label for='attrs-cf6b942c-b18f-4c5f-8298-b475619a5b2e' class='sc-hide-icon' title='Show/Hide attributes'><svg class='icon sc-icon-file-text2'><use xlink:href='#icon-file-text2'></use></svg></label><input id='data-48ce237c-1a42-4802-b955-da3af60b494c' class='sc-var-data-in' type='checkbox'><label for='data-48ce237c-1a42-4802-b955-da3af60b494c' title='Show/Hide data repr'><svg class='icon sc-icon-database'><use xlink:href='#icon-database'></use></svg></label><pre class='sc-var-data'>Values:<br>&lt;scipp.DataArray&gt;\n",
       "Dimensions: Sizes[tof:1, ]\n",
       "Coordinates:\n",
       "* position                  vector3              [m]  ()  (0, 0, -15.7905)\n",
       "Data:\n",
       "                          DataArrayView        &lt;no unit&gt;  (tof)  binned data: dim=&#x27;event&#x27;, content=DataArray(\n",
       "          dims=(event: 10193766),\n",
       "          data=float32[counts],\n",
       "          coords={&#x27;tof&#x27;:int32[ns], &#x27;detector_id&#x27;:int32, &#x27;pulse_time&#x27;:datetime64[ns]})\n",
       "\n",
       "</pre></li><li class='sc-var-item'><div class='sc-var-name'><span>monitor_2</span></div><div class='sc-var-dims'>()</div><div class='sc-var-dtype'>DataArray</div><div class='sc-var-unit'></div><div class='sc-value-preview sc-preview'><span><div>{dims=[tof: 1], unit=None, coords=[position]}</div></span></div><input id='attrs-b837403d-29a2-46a0-8e60-d9a7979f63ab' class='sc-var-attrs-in' type='checkbox' disabled><label for='attrs-b837403d-29a2-46a0-8e60-d9a7979f63ab' class='sc-hide-icon' title='Show/Hide attributes'><svg class='icon sc-icon-file-text2'><use xlink:href='#icon-file-text2'></use></svg></label><input id='data-de98c524-97ff-4557-a700-d84c320f24ad' class='sc-var-data-in' type='checkbox'><label for='data-de98c524-97ff-4557-a700-d84c320f24ad' title='Show/Hide data repr'><svg class='icon sc-icon-database'><use xlink:href='#icon-database'></use></svg></label><pre class='sc-var-data'>Values:<br>&lt;scipp.DataArray&gt;\n",
       "Dimensions: Sizes[tof:1, ]\n",
       "Coordinates:\n",
       "* position                  vector3              [m]  ()  (0, 0, 0.15)\n",
       "Data:\n",
       "                          DataArrayView        &lt;no unit&gt;  (tof)  binned data: dim=&#x27;event&#x27;, content=DataArray(\n",
       "          dims=(event: 72455),\n",
       "          data=float32[counts],\n",
       "          coords={&#x27;tof&#x27;:int32[ns], &#x27;detector_id&#x27;:int32, &#x27;pulse_time&#x27;:datetime64[ns]})\n",
       "\n",
       "</pre></li><li class='sc-var-item'><div class='sc-var-name'><span>position_transformations</span></div><div class='sc-var-dims'>()</div><div class='sc-var-dtype'>Variable</div><div class='sc-var-unit'></div><div class='sc-value-preview sc-preview'><span><div>&lt;scipp.Variable&gt; ()  translation3              [m]  (-0.499023, 0.43556, 4.099)</div></span></div><input id='attrs-363d30b8-1da0-4364-9273-4ed4b2454f52' class='sc-var-attrs-in' type='checkbox' disabled><label for='attrs-363d30b8-1da0-4364-9273-4ed4b2454f52' class='sc-hide-icon' title='Show/Hide attributes'><svg class='icon sc-icon-file-text2'><use xlink:href='#icon-file-text2'></use></svg></label><input id='data-e3765fca-036b-4a24-a2f1-9d4adf873850' class='sc-var-data-in' type='checkbox'><label for='data-e3765fca-036b-4a24-a2f1-9d4adf873850' title='Show/Hide data repr'><svg class='icon sc-icon-database'><use xlink:href='#icon-database'></use></svg></label><pre class='sc-var-data'>Values:<br>&lt;scipp.Variable&gt; ()  translation3              [m]  (-0.499023, 0.43556, 4.099)</pre></li><li class='sc-var-item'><div class='sc-var-name'><span>source</span></div><div class='sc-var-dims'>()</div><div class='sc-var-dtype'>PyObject</div><div class='sc-var-unit'></div><div class='sc-value-preview sc-preview'><span><div>DataGroup(sizes={}, keys=[&#x27;name&#x27;, &#x27;probe&#x27;, &#x27;type&#x27;, &#x27;depends_on&#x27;])</div></span></div><input id='attrs-056dfe9a-881c-4a5d-94d3-e377b090c2a7' class='sc-var-attrs-in' type='checkbox' disabled><label for='attrs-056dfe9a-881c-4a5d-94d3-e377b090c2a7' class='sc-hide-icon' title='Show/Hide attributes'><svg class='icon sc-icon-file-text2'><use xlink:href='#icon-file-text2'></use></svg></label><input id='data-bcdf5e5f-ecc5-41e2-9080-be02be9420ec' class='sc-var-data-in' type='checkbox'><label for='data-bcdf5e5f-ecc5-41e2-9080-be02be9420ec' title='Show/Hide data repr'><svg class='icon sc-icon-database'><use xlink:href='#icon-database'></use></svg></label><pre class='sc-var-data'>Values:<br>DataGroup(sizes={}, keys=[\n",
       "    name: moderato,\n",
       "    probe: neutro,\n",
       "    type: Spallation Neutron Sourc,\n",
       "    depends_on: Variable({}),\n",
       "])</pre></li><li class='sc-var-item'><div class='sc-var-name'><span>start_time</span></div><div class='sc-var-dims'>()</div><div class='sc-var-dtype'>string</div><div class='sc-var-unit'></div><div class='sc-value-preview sc-preview'><span><div>2022-02-28T21:15:00.000Z</div></span></div><input id='attrs-2ee815af-4e8f-4a7b-9e0d-5e3a7a16f889' class='sc-var-attrs-in' type='checkbox' disabled><label for='attrs-2ee815af-4e8f-4a7b-9e0d-5e3a7a16f889' class='sc-hide-icon' title='Show/Hide attributes'><svg class='icon sc-icon-file-text2'><use xlink:href='#icon-file-text2'></use></svg></label><input id='data-103dcf3f-55a9-4d39-8d5c-0c5037d95d95' class='sc-var-data-in' type='checkbox'><label for='data-103dcf3f-55a9-4d39-8d5c-0c5037d95d95' title='Show/Hide data repr'><svg class='icon sc-icon-database'><use xlink:href='#icon-database'></use></svg></label><pre class='sc-var-data'>Values:<br>&#x27;2022-02-28T21:15:00.000Z&#x27;</pre></li></ul></div></li></ul></div></div>"
      ],
      "text/plain": [
       "<scipp.DataArray>\n",
       "Dimensions: Sizes[spectrum:458752, tof:1, ]\n",
       "Coordinates:\n",
       "* pixel_height              float64              [m]  ()  0.0117188\n",
       "* pixel_shape             DatasetView        <no unit>  ()  <scipp.Dataset>\n",
       "Dimensions: Sizes[cylinder:1, ]\n",
       "Data:\n",
       "  face1_center              vector3              [m]  (cylinder)  [(0, 0, 0)]\n",
       "  face1_edge                vector3              [m]  (cylinder)  [(0, -0.00257703, 0.00305923)]\n",
       "  face2_center              vector3              [m]  (cylinder)  [(0.00194919, 0, 0)]\n",
       "\n",
       "\n",
       "* pixel_width               float64              [m]  ()  0.0075\n",
       "* position                  vector3              [m]  (spectrum)  [(-0.471023, 0.44637, 3.80133), (-0.469074, 0.44637, 3.80133), ..., (0.523061, -0.41291, 3.89545), (0.52501, -0.41291, 3.89545)]\n",
       "* sample_position           vector3              [m]  ()  (0, 0, 0)\n",
       "* source_position           vector3              [m]  ()  (0, 0, -25.61)\n",
       "* spectrum                    int32        <no unit>  (spectrum)  [1, 2, ..., 458751, 458752]\n",
       "* tof                       float64             [ns]  (tof [bin-edge])  [284, 9.99994e+07]\n",
       "Data:\n",
       "                          DataArrayView        <no unit>  (spectrum, tof)  binned data: dim='event', content=DataArray(\n",
       "          dims=(event: 17419279),\n",
       "          data=float32[counts],\n",
       "          coords={'tof':int32[ns], 'pulse_time':datetime64[ns]})\n",
       "Masks:\n",
       "  all                          bool        <no unit>  (spectrum)  [True, True, ..., True, True]\n",
       "  straws                       bool        <no unit>  (spectrum)  [False, False, ..., True, True]\n",
       "Attributes:\n",
       "  base_position             vector3              [m]  (spectrum)  [(0, -0.00114, -0.00767), (0.00194919, -0.00114, -0.00767), ..., (0.994085, -0.86042, 0.086447), (0.996034, -0.86042, 0.086447)]\n",
       "  end_time                   string        <no unit>  ()  \"2032-02-29T09:15:00.000Z\"\n",
       "  experiment_title           string        <no unit>  ()  \"My experiment\"\n",
       "  monitor_1               DataArray        <no unit>  ()  DataArray(dims=(tof: 1), dtype=DataArrayView)\n",
       "  monitor_2               DataArray        <no unit>  ()  DataArray(dims=(tof: 1), dtype=DataArrayView)\n",
       "  position_transformations Variable        <no unit>  ()  Variable(dims=(), dtype=translation3, unit=m)\n",
       "  source                   PyObject        <no unit>  ()  DataGroup(sizes={}, keys=['name', 'probe', 'type', 'depends_on'])\n",
       "  start_time                 string        <no unit>  ()  \"2022-02-28T21:15:00.000Z\"\n"
      ]
     },
     "execution_count": 49,
     "metadata": {},
     "output_type": "execute_result"
    }
   ],
   "source": [
    "ds['sample']"
   ]
  },
  {
   "cell_type": "code",
   "execution_count": null,
   "id": "9cbfba2a-5318-4c02-8ec6-76fdb906c30f",
   "metadata": {},
   "outputs": [],
   "source": []
  }
 ],
 "metadata": {
  "kernelspec": {
   "display_name": "Python 3 (ipykernel)",
   "language": "python",
   "name": "python3"
  },
  "language_info": {
   "codemirror_mode": {
    "name": "ipython",
    "version": 3
   },
   "file_extension": ".py",
   "mimetype": "text/x-python",
   "name": "python",
   "nbconvert_exporter": "python",
   "pygments_lexer": "ipython3",
   "version": "3.8.17"
  }
 },
 "nbformat": 4,
 "nbformat_minor": 5
}
