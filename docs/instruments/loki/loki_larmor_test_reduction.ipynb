{
 "cells": [
  {
   "cell_type": "markdown",
   "id": "9a935df3-c816-4829-99c3-2afa979b7611",
   "metadata": {},
   "source": [
    "# Data reduction workflow for files generated on Larmor instrument\n",
    "\n",
    "Notebook applies pixel dependent direct beam to data reduction workflow developed for SANS2D.\n",
    "There are few modifications comapred to standard workflow\n",
    "* Direct beam function has been generate by Mantid\n",
    "* summation of event from multiple runs (done in function)\n",
    "* Masking curremtly uses Mantid masks (for debugging purposes) but it is anticpated that scipp masks will be used\n",
    "* Processed monitors are taken from Mantid directly (however code for processing monitors in scipp is also there).\n",
    "\n",
    "Notes\n",
    "* There was a small change in code required to make pixel-dependent direct beam work (https://github.com/scipp/ess/blob/bed91cd51e3979c7fe9df4903d35008db472ef01/src/ess/sans/normalization.py#L160). In addition direct beam from Mantid has to be rebined and midpoints were generated \n",
    "* While technically pixel-depent seems to work there are some differances between scipp and Mantid results. Apart from overall scaling of the final results that has to be fudged, there is difference in high Q region of the final result  "
   ]
  },
  {
   "cell_type": "code",
   "execution_count": 1,
   "id": "8c7f7cf7-0582-4953-a772-a0f87d1cf0e2",
   "metadata": {},
   "outputs": [],
   "source": [
    "import matplotlib.pyplot as plt\n",
    "import scipp as sc\n",
    "from ess import loki, sans\n",
    "import scippneutron as scn\n",
    "import plopp as pp\n",
    "%matplotlib widget"
   ]
  },
  {
   "cell_type": "markdown",
   "id": "7c6ffa2f-581e-4ed9-a269-5a0eacae9117",
   "metadata": {},
   "source": [
    "## Setting up scicat connection"
   ]
  },
  {
   "cell_type": "code",
   "execution_count": 2,
   "id": "0a21c993-e391-4293-b04d-26ba1a1411cf",
   "metadata": {},
   "outputs": [],
   "source": [
    "#TODO: Placeholder for scicat interface\n",
    "\n",
    "# import scitacean\n",
    "# scitacean.__version__\n",
    "\n",
    "\n",
    "# client = FakeClient(file_transfer=FakeFileTransfer(source_folder='/'))\n",
    "\n",
    "# direct_beam_uploaded = get_direct_beam(client)\n",
    "# sample_uploaded = get_sample(client, direct_beam_uploaded)\n",
    "\n",
    "# sample_remote = client.get_dataset(sample_uploaded.pid)\n",
    "# sample_local = client.download_files(sample_remote, target=\".\")\n"
   ]
  },
  {
   "cell_type": "markdown",
   "id": "bc207995-1b28-4efe-a934-ee7fc7def07d",
   "metadata": {},
   "source": [
    "### Load masks"
   ]
  },
  {
   "cell_type": "markdown",
   "id": "b5d36f11-9903-48f8-a626-86f137995681",
   "metadata": {},
   "source": [
    "## Define reduction workflow parameters\n",
    "\n",
    "We define here whether to include the effects of gravity,\n",
    "as well as common time-of-flight, wavelength and $Q$ bins for all the measurements.\n",
    "\n",
    "We also define a range of wavelengths for the monitors that are considered to not be part of the background."
   ]
  },
  {
   "cell_type": "code",
   "execution_count": 3,
   "id": "239166d6-d62f-46e9-8316-83c26f0f05ce",
   "metadata": {},
   "outputs": [],
   "source": [
    "# Include effects of gravity?\n",
    "gravity = True\n",
    "\n",
    "#TODO: Using same wavelengths bins as direct beam is defined for but it may be different range (0.9-13.5)\n",
    "wavelength_bins = sc.linspace(dim='wavelength', start=2.2, stop=12.0, num=50,\n",
    "                              unit='angstrom')\n",
    "\n",
    "q_bins = sc.linspace(dim='Q', start=0.004, stop=0.4, num=110, unit='1/angstrom')\n"
   ]
  },
  {
   "cell_type": "markdown",
   "id": "bafd7ab4-d478-4c96-8196-69029fb221c4",
   "metadata": {},
   "source": [
    "## Loading data files\n",
    "\n",
    "We load the following files:\n",
    "\n",
    "- The direct beam function for the main detector (gives detector efficiency as a function of wavelength)\n",
    "- The sample measurement\n",
    "- The direct measurement: this is the run with the empty sample holder/cuvette\n",
    "- the background measurement: this is the run with only the solvent which the sample is placed in"
   ]
  },
  {
   "cell_type": "code",
   "execution_count": 4,
   "id": "2854b56a-8105-412b-bae2-4fc3c527db0f",
   "metadata": {},
   "outputs": [],
   "source": [
    "#Loading Mantid\n",
    "# filename = '60393-mantid-add.nxs'\n",
    "# path = '/Users/wojciechpotrzebowski/SCIPP_SPACE/direct_beam_iterations_2023/'\n",
    "# mantid_sample = scn.load(f'{path}/{filename}')\n",
    "#mantid_sample"
   ]
  },
  {
   "cell_type": "code",
   "execution_count": 5,
   "id": "6b96d1fb-2972-4af1-999a-9cd9817ca3c1",
   "metadata": {},
   "outputs": [],
   "source": [
    "def add_runs(runs, data_path): \n",
    "    \"\"\"\n",
    "    Adding data and monitors from different runs. Iterates over list of runs. \n",
    "    Currently returning two data sets, however it may also be possible to create one in order to use workflows\n",
    "    \"\"\"\n",
    "    input_file1 = f'{data_path}/{runs[0]}-2022-02-28_2215.nxs'\n",
    "    #fixed_file1 = f'{input_file1[:-4]}_fixed.nxs'\n",
    "    data1 = scn.load_nexus(data_file=input_file1)\n",
    "    da1 = data1.squeeze().copy()\n",
    "    summed_data = da1\n",
    "    summed_monitors_1 = da1.attrs['monitor_1'].value\n",
    "    summed_monitors_2 = da1.attrs['monitor_2'].value\n",
    "    #TODO: Should I take tof min and max and use it for setting boundaries\n",
    "\n",
    "    start_tof = data1.coords['tof'][0].values\n",
    "    end_tof = data1.coords['tof'][-1].values\n",
    "    for run in runs[1:]: \n",
    "        input_file2 = f'{data_path}/{run}-2022-02-28_2215.nxs'\n",
    "        #fixed_file2 = f'{input_file2[:-4]}_fixed.nxs'\n",
    "        data2 = scn.load_nexus(data_file=input_file2)\n",
    "        if start_tof <  data2.coords['tof'][0].values:\n",
    "            start_tof =  data1.coords['tof'][0].values\n",
    "        if end_tof > data2.coords['tof'][-1].values:\n",
    "            end_tof = data2.coords['tof'][-1].values\n",
    "        da2 = data2.squeeze().copy()\n",
    "        summed_data = summed_data.bins.concatenate(da2)\n",
    "        summed_monitors_1 = summed_monitors_1.bins.concatenate(da2.attrs['monitor_1'].value)\n",
    "        summed_monitors_2 = summed_monitors_2.bins.concatenate(da2.attrs['monitor_2'].value)\n",
    "\n",
    "    edges=sc.linspace('tof', start_tof, end_tof, 2, unit='ns')\n",
    "    summed_binned_data = sc.bin(summed_data, tof=edges)\n",
    "\n",
    "    #Adding montors from first data set\n",
    "    summed_binned_data.attrs['monitor_1'] = data1.attrs['monitor_1']\n",
    "    summed_binned_data.attrs['monitor_2'] = data1.attrs['monitor_2']\n",
    "    return summed_binned_data"
   ]
  },
  {
   "cell_type": "code",
   "execution_count": 6,
   "id": "0315d002-9cab-4ae4-8f63-c72a532f716b",
   "metadata": {},
   "outputs": [
    {
     "name": "stdout",
     "output_type": "stream",
     "text": [
      "FrameworkManager-[Notice] Welcome to Mantid 6.7.0\n",
      "FrameworkManager-[Notice] Please cite: http://dx.doi.org/10.1016/j.nima.2014.07.029 and this release: http://dx.doi.org/10.5286/Software/Mantid6.7\n",
      "DownloadInstrument-[Notice] All instrument definitions up to date\n",
      "Load-[Notice] Load started\n",
      "Load-[Notice] Load successful, Duration 12.80 seconds\n",
      "DeleteWorkspace-[Notice] DeleteWorkspace started\n",
      "DeleteWorkspace-[Notice] DeleteWorkspace successful, Duration 0.00 seconds\n"
     ]
    }
   ],
   "source": [
    "#sample_run_number = 60395\n",
    "sample_runs = [60250, 60264, 60292, 60308, 60322, 60339, 60353, 60367, 60381, 60395]\n",
    "sample_transmission_run_number = 60394\n",
    "#background_run_number = 60393\n",
    "background_runs = [ 60248, 60262, 60290, 60306, 60320, 60337, 60351, 60365, 60379,  60393]\n",
    "background_transmission_run_number = 60392\n",
    "empty_beam_run_number = 60392\n",
    "\n",
    "path = '/Users/wojciechpotrzebowski/SCIPP_SPACE/loki_detector_test/2022-06-24_calibrated_nexus_files/'\n",
    "#direct_beam = loki.io.load_rkh_wav(f'{path}/DirectBeam_20feb_full_v3.dat')\n",
    "direct_beam = scn.load(f'{path}/flat_g4_final_15Jun23_10-17.nxs')\n",
    "\n",
    "#sample = scn.load_nexus(data_file=f'{path}/{sample_run_number}-2022-02-28_2215.nxs')\n",
    "sample = add_runs(sample_runs, path)\n",
    "sample = sample.rename(detector_id = 'spectrum')\n",
    "\n",
    "\n",
    "#Mantid samples don't have montors, so we will need to pass them independently \n",
    "#sample = scn.load(f'{path}/{sample_run_number}-mantid-add.nxs')\n",
    "\n",
    "sample_trans = scn.load_nexus(data_file=f'{path}/{sample_transmission_run_number}-2022-02-28_2215.nxs')\n",
    "sample_trans = sample_trans.rename(detector_id = 'spectrum')\n",
    "\n",
    "#TODO: How about direct?\n",
    "#ds['direct'] = scn.load(filename=f'{path}/LARMOR000{background_run_number}.nxs')\n",
    "empty_beam = scn.load_nexus(data_file=f'{path}/{empty_beam_run_number}-2022-02-28_2215.nxs')\n",
    "empty_beam = empty_beam.rename(detector_id = 'spectrum')\n",
    "\n",
    "#background = scn.load_nexus(data_file=f'{path}/{background_run_number}-2022-02-28_2215.nxs')\n",
    "background = add_runs(background_runs, path)\n",
    "background = background.rename(detector_id = 'spectrum')\n",
    "#background = scn.load(f'{path}/{background_run_number}-mantid-add.nxs')\n",
    "\n",
    "background_trans = scn.load_nexus(data_file=f'{path}/{background_transmission_run_number}-2022-02-28_2215.nxs')\n",
    "background_trans = background_trans.rename(detector_id = 'spectrum')\n",
    "\n",
    "ds = {'sample': sample, 'sample_trans': sample_trans, 'empty_beam': empty_beam, \n",
    "      'background': background, 'background_trans': background_trans}\n"
   ]
  },
  {
   "cell_type": "markdown",
   "id": "e3b0b991-85c4-40fe-a903-74b43716a155",
   "metadata": {},
   "source": [
    "## Apply corrections to pixel positions\n",
    "\n",
    "We apply some corrections to the detector pixel and monitor positions,\n",
    "as the geometry stored in the file is inaccurate."
   ]
  },
  {
   "cell_type": "code",
   "execution_count": 7,
   "id": "b616d643-8504-4eda-ba7a-bb73b85e7b80",
   "metadata": {},
   "outputs": [],
   "source": [
    "#sample_position 0, 0, 0 wrt to source?\n",
    "# Now shift pixels positions to get the correct beam center\n",
    "\n",
    "for da in ds.values():\n",
    "    da.coords[\"sample_position\"] = sc.vector(value=[0.0, 0.0, 0.0], unit='m')\n",
    "    da.coords[\"source_position\"] = sc.vector(value=[0.0, 0.0, -25.61], unit='m')\n",
    "    #sample_pos_z_offset = 0.1 * sc.units.m\n",
    "    #bench_pos_y_offset = 0.001 * sc.units.m\n",
    "\n",
    "    #NOTE: Hack to make solid angle correction invisible\n",
    "    #L2 = scn.L2(da)\n",
    "    \n",
    "    #Values taken from Mantid Nexus file but cannot be true\n",
    "    da.coords[\"pixel_width\"] = 4.144 * sc.units.m\n",
    "    da.coords[\"pixel_height\"] = 4.144 * sc.units.m\n",
    "\n",
    "    x_offset = 0.028 * sc.units.m\n",
    "    y_offset = 0.01195 * sc.units.m\n",
    "    z_offset = -0.349 * sc.units.m\n",
    "    \n",
    "    # Now shift pixels positions to get the correct beam center\n",
    "    da.coords['position'].fields.x += x_offset\n",
    "    da.coords['position'].fields.y += y_offset\n",
    "    da.coords['position'].fields.z += z_offset\n",
    "#Direct beam treated separetly \n",
    "#direct_beam.coords[\"sample_position\"] = sc.vector(value=[0.0, 0.0, 0.0], unit='m')\n",
    "#direct_beam.coords[\"source_position\"] = sc.vector(value=[0.0, 0.0, -25.61], unit='m')\n",
    "# z_offset = -25.26939 * sc.units.m\n",
    "# direct_beam.coords['position'].fields.z += z_offset\n",
    "\n",
    "for coord in ['position', 'sample_position', 'source_position']:\n",
    "    direct_beam.coords[coord] = ds['sample'].meta[coord]\n",
    "direct_beam.coords[\"pixel_width\"] = 4.144 * sc.units.m\n",
    "direct_beam.coords[\"pixel_height\"] = 4.144 * sc.units.m\n"
   ]
  },
  {
   "cell_type": "markdown",
   "id": "eeb81dd1-078a-495b-8cff-49c474be65dd",
   "metadata": {},
   "source": [
    "## Masking\n",
    "\n",
    "The next step is to mask noisy and saturated pixels,\n",
    "as well as a time-of-flight range that contains spurious artifacts from the beamline components.\n",
    "\n",
    "**Note:** We use programatic masks here and not those stored in xml files.\n",
    "\n",
    "### Mask bad pixels\n",
    "\n",
    "We mask the edges of the detector, which are usually noisy.\n",
    "We also mask the region close to the center of the beam,\n",
    "so as to not include saturated pixels in our data reduction."
   ]
  },
  {
   "cell_type": "code",
   "execution_count": 8,
   "id": "e54e6899-4842-4b91-82ab-15c5ceef5edb",
   "metadata": {},
   "outputs": [
    {
     "name": "stdout",
     "output_type": "stream",
     "text": [
      "LoadMask-[Notice] LoadMask started\n",
      "LoadInstrument-[Warning] The instrument definition filename does not contain _Definition. Your instrument name will be set to: LOKI_test.xml\n",
      "LoadMask-[Notice] LoadMask successful, Duration 0.38 seconds\n",
      "DeleteWorkspace-[Notice] DeleteWorkspace started\n",
      "DeleteWorkspace-[Notice] DeleteWorkspace successful, Duration 0.00 seconds\n",
      "LoadMask-[Notice] LoadMask started\n",
      "LoadInstrument-[Warning] The instrument definition filename does not contain _Definition. Your instrument name will be set to: LOKI_test.xml\n",
      "LoadMask-[Notice] LoadMask successful, Duration 0.41 seconds\n",
      "DeleteWorkspace-[Notice] DeleteWorkspace started\n",
      "DeleteWorkspace-[Notice] DeleteWorkspace successful, Duration 0.00 seconds\n"
     ]
    }
   ],
   "source": [
    "#Loading Mantid masks\n",
    "idf_filename = f'{path}/LOKI_test.xml'\n",
    "mask_file = f'{path}/mask_new_July2022.xml'\n",
    "mask_all = scn.load(filename=idf_filename, mantid_alg=\"LoadMask\", mantid_args={\"InputFile\": mask_file})\n",
    "mask_file = f'{path}/mask_straws.xml' \n",
    "mask_straw = scn.load(filename=idf_filename, mantid_alg=\"LoadMask\", mantid_args={\"InputFile\": mask_file})\n",
    "\n",
    "mask_edges = (\n",
    "    (sc.abs(sample.coords['position'].fields.x - x_offset) > sc.scalar(0.45, unit='m')) |\n",
    "    (sc.abs(sample.coords['position'].fields.y - y_offset) > sc.scalar(0.45, unit='m')))\n",
    "\n",
    "mask_center = sc.sqrt(\n",
    "    sample.coords['position'].fields.x**2 +\n",
    "    sample.coords['position'].fields.y**2) < sc.scalar(0.035, unit='m')\n",
    "\n",
    "for da in ds.values():\n",
    "    #da.masks['edges'] = mask_edges\n",
    "    #da.masks['center'] = mask_center\n",
    "\n",
    "    da.masks['all'] = mask_all.data\n",
    "    da.masks['straws'] = mask_straw.data\n",
    "    #Added mask from direct beam\n",
    "    #da.masks['direct_beam'] = direct_beam.masks['spectrum']\n"
   ]
  },
  {
   "cell_type": "markdown",
   "id": "fbdf4c28-1135-4946-a07c-3fe70250a0e4",
   "metadata": {},
   "source": [
    "We can inspect that the coordinate corrections and masking were applied correctly by opening the instrument view."
   ]
  },
  {
   "cell_type": "code",
   "execution_count": 9,
   "id": "d323a004-1f4f-4c8a-9cd8-f81678bb9a91",
   "metadata": {},
   "outputs": [
    {
     "data": {
      "application/vnd.jupyter.widget-view+json": {
       "model_id": "f41d1008d61e48bfacd4162e82bd1f5b",
       "version_major": 2,
       "version_minor": 0
      },
      "text/plain": [
       "Box(children=(Figure(children=(HBar(children=(HTML(value=''),)), HBox(children=(VBar(children=(Toolbar(childre…"
      ]
     },
     "execution_count": 9,
     "metadata": {},
     "output_type": "execute_result"
    }
   ],
   "source": [
    "scn.instrument_view(sample.hist(), pixel_size=0.0075)"
   ]
  },
  {
   "cell_type": "markdown",
   "id": "eef1cb3a-d3e8-4d5c-88fa-3ea5e3cdeb01",
   "metadata": {},
   "source": [
    "### Mask Bragg peaks in wavelength\n",
    "\n",
    "We will now take out the time regions with Bragg peaks from the beam stop and detector window, although in reality the peaks appear only close to the beam stop, and will make little difference to\n",
    "\n",
    "This could be implemented as masking specific time bins for a specific region in space, but for now we keep it simple."
   ]
  },
  {
   "cell_type": "code",
   "execution_count": 10,
   "id": "dd51368b-82b4-447d-a36a-345f134db264",
   "metadata": {},
   "outputs": [],
   "source": [
    "#TODO: This needs to be established\n",
    "# wavelength_mask = sc.DataArray(\n",
    "#     data=sc.array(dims=['wavelength'], values=[True]),\n",
    "#     coords={\n",
    "#         'wavelength': sc.array(\n",
    "#             dims=['wavelength'], values=[2.21, 2.59], unit='angstrom'\n",
    "#         )\n",
    "#     },\n",
    "# )\n",
    "\n",
    "#Again to reproduce Mantid workflow no mask has been set\n",
    "wavelength_mask = None"
   ]
  },
  {
   "cell_type": "markdown",
   "id": "173949b2-3ed5-4a37-9b40-a63491db7865",
   "metadata": {},
   "source": [
    "### Preprocess monitor"
   ]
  },
  {
   "cell_type": "code",
   "execution_count": 11,
   "id": "59591c9f-4d8c-47e9-a75f-0a5fd6d7e3ec",
   "metadata": {},
   "outputs": [],
   "source": [
    "monitors = {}\n",
    "for key, da in ds.items():\n",
    "    #TODO: Check this histogramming!\n",
    "    monitors[f'{key}-incident'] = da.attrs[\"monitor_1\"].value.hist(tof=200)\n",
    "    monitors[f'{key}-transmission'] = da.attrs[\"monitor_2\"].value.hist(tof=200)\n",
    "    monitors[f'{key}-incident'].coords['source_position'] = sc.vector(value=[0.0, 0.0, -9.8195], unit='m')\n",
    "    monitors[f'{key}-transmission'].coords['source_position'] = sc.vector(value=[0.0, 0.0, -25.76], unit='m')\n",
    "    monitors[f'{key}-incident'].coords['position'] = sc.vector(value=[0.0, 0.0, 0.0], unit='m')\n",
    "    monitors[f'{key}-transmission'].coords['position'] = sc.vector(value=[0.0, 0.0, 0.0], unit='m')"
   ]
  },
  {
   "cell_type": "code",
   "execution_count": 12,
   "id": "fc8f3af2-d9bf-4f6d-a165-08e6502ad317",
   "metadata": {},
   "outputs": [],
   "source": [
    "monitor_graph = sans.conversions.sans_monitor()\n",
    "\n",
    "monitors = {\n",
    "     key: mon.transform_coords('wavelength', graph=monitor_graph)\n",
    "     for key, mon in monitors.items()\n",
    "}"
   ]
  },
  {
   "cell_type": "code",
   "execution_count": 13,
   "id": "45cbbb91-3611-4c74-95bc-e2ce1dd72fdf",
   "metadata": {},
   "outputs": [
    {
     "data": {
      "application/vnd.jupyter.widget-view+json": {
       "model_id": "a55da74a507e49d3984e622cec46e9ef",
       "version_major": 2,
       "version_minor": 0
      },
      "text/plain": [
       "InteractiveFig(children=(HBar(), HBox(children=(VBar(children=(Toolbar(children=(ButtonTool(icon='home', layou…"
      ]
     },
     "execution_count": 13,
     "metadata": {},
     "output_type": "execute_result"
    }
   ],
   "source": [
    "sc.plot(monitors, norm='log', grid=True)"
   ]
  },
  {
   "cell_type": "code",
   "execution_count": 14,
   "id": "a25919ad-ea90-42d1-9b19-ec2d6c4446bc",
   "metadata": {},
   "outputs": [],
   "source": [
    "\n",
    "# Define range outside of which monitor data is considered to be background\n",
    "non_background_range = sc.array(\n",
    "    dims=['wavelength'], values=[0.6, 13.7], unit='angstrom'\n",
    ")\n",
    "\n",
    "#TODO: It may be required that monitors are histogrammed\n",
    "# Run preprocessing\n",
    "monitors = sans.i_of_q.preprocess_monitor_data(\n",
    "    monitors, non_background_range=non_background_range, wavelength_bins=wavelength_bins\n",
    ")\n",
    "\n",
    "# Unpack monitors to make steps below easier\n",
    "sample_monitors = {\n",
    "    'incident': monitors['sample_trans-incident'],\n",
    "    'transmission': monitors['sample_trans-transmission'],\n",
    "}\n",
    "\n",
    "empty_beam_monitors = {\n",
    "    'incident': monitors['empty_beam-incident'],\n",
    "    'transmission': monitors['empty_beam-transmission'],\n",
    "}\n",
    "\n",
    "#Check this! It seems from Mantid code sample_monitors are the same as backgrounds\n",
    "background_monitors = {\n",
    "    'incident': monitors['background_trans-incident'],\n",
    "    'transmission': monitors['background_trans-transmission'],\n",
    "}"
   ]
  },
  {
   "cell_type": "markdown",
   "id": "6496e729-0417-4f66-9f3d-76ef83057488",
   "metadata": {},
   "source": [
    "### Trying out with Mantid extracted monitors"
   ]
  },
  {
   "cell_type": "code",
   "execution_count": 15,
   "id": "250711f3-4e78-4892-8126-ae08f183b7bc",
   "metadata": {},
   "outputs": [
    {
     "name": "stdout",
     "output_type": "stream",
     "text": [
      "Load-[Notice] Load started\n",
      "Load-[Notice] Load successful, Duration 0.08 seconds\n",
      "DeleteWorkspace-[Notice] DeleteWorkspace started\n",
      "DeleteWorkspace-[Notice] DeleteWorkspace successful, Duration 0.00 seconds\n",
      "Load-[Notice] Load started\n",
      "Load-[Notice] Load successful, Duration 0.08 seconds\n",
      "DeleteWorkspace-[Notice] DeleteWorkspace started\n",
      "DeleteWorkspace-[Notice] DeleteWorkspace successful, Duration 0.00 seconds\n",
      "Load-[Notice] Load started\n",
      "Load-[Notice] Load successful, Duration 0.06 seconds\n",
      "DeleteWorkspace-[Notice] DeleteWorkspace started\n",
      "DeleteWorkspace-[Notice] DeleteWorkspace successful, Duration 0.00 seconds\n",
      "Load-[Notice] Load started\n",
      "Load-[Notice] Load successful, Duration 0.06 seconds\n",
      "DeleteWorkspace-[Notice] DeleteWorkspace started\n",
      "DeleteWorkspace-[Notice] DeleteWorkspace successful, Duration 0.00 seconds\n"
     ]
    }
   ],
   "source": [
    "mantid_empty_beam_incident = scn.load(f'{path}/empty_beam-incident.nxs')\n",
    "mantid_empty_beam_transmission = scn.load(f'{path}/empty_beam-transmission.nxs')\n",
    "mantid_sample_trans_incident = scn.load(f'{path}/sample_trans-incident.nxs')\n",
    "mantid_sample_trans_transmission = scn.load(f'{path}/sample_trans-transmission.nxs')"
   ]
  },
  {
   "cell_type": "code",
   "execution_count": 16,
   "id": "8f079ae7-289b-454e-bddc-b27102044b46",
   "metadata": {},
   "outputs": [],
   "source": [
    "mantid_empty_beam_incident = mantid_empty_beam_incident.rebin(wavelength=wavelength_bins)\n",
    "mantid_empty_beam_transmission = mantid_empty_beam_transmission.rebin(wavelength=wavelength_bins)\n",
    "mantid_sample_trans_incident = mantid_sample_trans_incident.rebin(wavelength=wavelength_bins)\n",
    "mantid_sample_trans_transmission = mantid_sample_trans_transmission.rebin(wavelength=wavelength_bins)"
   ]
  },
  {
   "cell_type": "code",
   "execution_count": 17,
   "id": "577dc47a-8740-46f8-9f3d-bb5fac3c3933",
   "metadata": {},
   "outputs": [],
   "source": [
    "mantid_empty_beam_incident.coords['position'] = empty_beam_monitors['incident'].coords['position']\n",
    "mantid_empty_beam_incident.coords['source_position'] = empty_beam_monitors['incident'].coords['source_position']\n",
    "mantid_empty_beam_incident.coords['Ltotal'] =  empty_beam_monitors['incident'].coords['Ltotal']\n",
    "\n",
    "mantid_empty_beam_transmission.coords['position'] = empty_beam_monitors['transmission'].coords['position']\n",
    "mantid_empty_beam_transmission.coords['source_position'] = empty_beam_monitors['transmission'].coords['source_position']\n",
    "mantid_empty_beam_transmission.coords['Ltotal'] = empty_beam_monitors['transmission'].coords['Ltotal']\n",
    "\n",
    "mantid_sample_trans_incident.coords['position'] = sample_monitors['incident'].coords['position']\n",
    "mantid_sample_trans_incident.coords['source_position'] = sample_monitors['incident'].coords['source_position']\n",
    "mantid_sample_trans_incident.coords['Ltotal'] = sample_monitors['incident'].coords['Ltotal']\n",
    "\n",
    "mantid_sample_trans_transmission.coords['position'] = sample_monitors['transmission'].coords['position']\n",
    "mantid_sample_trans_transmission.coords['source_position'] = sample_monitors['transmission'].coords['source_position']\n",
    "mantid_sample_trans_transmission.coords['Ltotal'] = sample_monitors['transmission'].coords['Ltotal']\n",
    "\n",
    "for mantid_monitor in [mantid_empty_beam_incident, mantid_empty_beam_transmission, mantid_sample_trans_incident, mantid_sample_trans_transmission]:\n",
    "    mantid_monitor.coords['sample_position'] =  sc.vector(value=[0.0, 0.0, 0.0], unit='m')\n",
    "    mantid_monitor.variances = None"
   ]
  },
  {
   "cell_type": "code",
   "execution_count": 18,
   "id": "2d2862a7-dd12-451d-9da5-ca5dd8b21902",
   "metadata": {},
   "outputs": [],
   "source": [
    "sample_monitors = {'incident': mantid_sample_trans_incident, 'transmission': mantid_sample_trans_transmission}\n",
    "empty_beam_monitors = {'incident': mantid_empty_beam_incident, 'transmission': mantid_empty_beam_transmission}\n",
    "background_monitors = {'incident': mantid_empty_beam_incident, 'transmission': mantid_empty_beam_transmission}"
   ]
  },
  {
   "cell_type": "markdown",
   "id": "9bac49fc-5c7c-418b-95a0-2c3d58ef53e6",
   "metadata": {},
   "source": [
    "### Direct beam midpoints\n",
    "This operation is needed for performing interpolation. Later, this can probably be dome i_of_q module, however we still need to see what exactly the format of direct beam function would be. "
   ]
  },
  {
   "cell_type": "code",
   "execution_count": 19,
   "id": "f6e7f69d-bfac-4b12-8bea-bc3ed548506f",
   "metadata": {},
   "outputs": [],
   "source": [
    "direct_beam = direct_beam.rebin(wavelength=wavelength_bins)\n",
    "direct_beam.coords['wavelength'] = sc.midpoints(direct_beam.coords['wavelength'])"
   ]
  },
  {
   "cell_type": "code",
   "execution_count": 20,
   "id": "f93f181d-3b4d-45d9-b259-b9dcc9510f4f",
   "metadata": {},
   "outputs": [],
   "source": [
    "# direct_beam_copy['spectrum', 323737].plot()"
   ]
  },
  {
   "cell_type": "code",
   "execution_count": 21,
   "id": "80af6851-4d60-49bc-a6b5-bfd267440142",
   "metadata": {},
   "outputs": [],
   "source": [
    "direct_beam_selected = direct_beam['spectrum', 173162]"
   ]
  },
  {
   "cell_type": "code",
   "execution_count": 22,
   "id": "7425c7b6-dcd5-4d85-b448-83aaaca66b82",
   "metadata": {},
   "outputs": [
    {
     "data": {
      "application/vnd.jupyter.widget-view+json": {
       "model_id": "516dda574e2a4ea1aaddb580dc1a6df3",
       "version_major": 2,
       "version_minor": 0
      },
      "text/plain": [
       "InteractiveFig(children=(HBar(), HBox(children=(VBar(children=(Toolbar(children=(ButtonTool(icon='home', layou…"
      ]
     },
     "execution_count": 22,
     "metadata": {},
     "output_type": "execute_result"
    }
   ],
   "source": [
    "direct_beam_selected.plot()"
   ]
  },
  {
   "cell_type": "markdown",
   "id": "bd654363-31ea-4caf-aea0-79973e2f4882",
   "metadata": {},
   "source": [
    "### Debugging check"
   ]
  },
  {
   "cell_type": "code",
   "execution_count": 23,
   "id": "7f80d814-b6f2-4fd5-86c9-2d931c63fffa",
   "metadata": {},
   "outputs": [],
   "source": [
    "#graph = sans.conversions.sans_elastic(gravity=gravity)\n",
    "# data = ds['sample'].transform_coords(\"wavelength\", graph=graph)\n",
    "# signal_over_monitor_threshold = 0.1\n",
    "# if wavelength_mask is not None:\n",
    "#     # If we have binned data and the wavelength coord is multi-dimensional, we need\n",
    "#     # to make a single wavelength bin before we can mask the range.\n",
    "#     if data.bins is not None:\n",
    "#         dim = wavelength_mask.dim\n",
    "#         if (dim in data.bins.coords) and (dim in data.coords):\n",
    "#             data = data.bin({dim: 1})\n",
    "#     data = sans.common.mask_range(data, wavelength_mask)\n",
    "#     data_monitors = {\n",
    "#             key: sans.common.mask_range(mon, wavelength_mask) for key, mon in sample_monitors.items()\n",
    "#         }\n",
    "#     direct_monitors = {\n",
    "#             key: sans.common.mask_range(mon, wavelength_mask)\n",
    "#             for key, mon in empty_beam_monitors.items()\n",
    "#         }\n",
    "\n",
    "# # Compute normalizing term\n",
    "#direct_beam = sans.i_of_q.resample_direct_beam(\n",
    "#         direct_beam=direct_beam, wavelength_bins=wavelength_bins)\n",
    "\n",
    "# signal_over_monitor_threshold = 0.5\n",
    "# denominator = sans.normalization.iofq_denominator(\n",
    "#         data=ds['sample'],\n",
    "#         data_transmission_monitor=sample_monitors['transmission'],\n",
    "#         direct_incident_monitor=empty_beam_monitors['incident'],\n",
    "#         direct_transmission_monitor=empty_beam_monitors['transmission'],\n",
    "#         direct_beam=direct_beam,\n",
    "# )\n",
    "\n",
    "# for coord in ['position', 'sample_position', 'source_position']:\n",
    "#     denominator.coords[coord] = data.meta[coord]\n",
    "\n",
    "#     # In the case where no wavelength bands are requested, we create a single wavelength\n",
    "#     # band to make sure we select the correct wavelength range that corresponds to\n",
    "#     # wavelength_bins\n",
    "\n",
    "\n",
    "# wavelength_bands = sc.concat([wavelength_bins.min(), wavelength_bins.max()], dim='wavelength')"
   ]
  },
  {
   "cell_type": "code",
   "execution_count": 24,
   "id": "4e34fc04-e731-488b-92e5-7ff08cefe088",
   "metadata": {},
   "outputs": [
    {
     "data": {
      "text/html": [
       "<div><!-- Original source from -->\n",
       "<!-- https://github.com/jsignell/xarray/blob/1d960933ab252e0f79f7e050e6c9261d55568057/xarray/static/html/icons-svg-inline.html -->\n",
       "<svg style=\"position: absolute; width: 0; height: 0; overflow: hidden\">\n",
       "<defs>\n",
       "<symbol id=\"icon-database\" viewBox=\"0 0 32 32\">\n",
       "<title>Show/Hide data repr</title>\n",
       "<path d=\"M16 0c-8.837 0-16 2.239-16 5v4c0 2.761 7.163 5 16 5s16-2.239 16-5v-4c0-2.761-7.163-5-16-5z\"></path>\n",
       "<path d=\"M16 17c-8.837 0-16-2.239-16-5v6c0 2.761 7.163 5 16 5s16-2.239 16-5v-6c0 2.761-7.163 5-16 5z\"></path>\n",
       "<path d=\"M16 26c-8.837 0-16-2.239-16-5v6c0 2.761 7.163 5 16 5s16-2.239 16-5v-6c0 2.761-7.163 5-16 5z\"></path>\n",
       "</symbol>\n",
       "<symbol id=\"icon-file-text2\" viewBox=\"0 0 32 32\">\n",
       "<title>Show/Hide attributes</title>\n",
       "<path d=\"M28.681 7.159c-0.694-0.947-1.662-2.053-2.724-3.116s-2.169-2.030-3.116-2.724c-1.612-1.182-2.393-1.319-2.841-1.319h-15.5c-1.378 0-2.5 1.121-2.5 2.5v27c0 1.378 1.122 2.5 2.5 2.5h23c1.378 0 2.5-1.122 2.5-2.5v-19.5c0-0.448-0.137-1.23-1.319-2.841zM24.543 5.457c0.959 0.959 1.712 1.825 2.268 2.543h-4.811v-4.811c0.718 0.556 1.584 1.309 2.543 2.268zM28 29.5c0 0.271-0.229 0.5-0.5 0.5h-23c-0.271 0-0.5-0.229-0.5-0.5v-27c0-0.271 0.229-0.5 0.5-0.5 0 0 15.499-0 15.5 0v7c0 0.552 0.448 1 1 1h7v19.5z\"></path>\n",
       "<path d=\"M23 26h-14c-0.552 0-1-0.448-1-1s0.448-1 1-1h14c0.552 0 1 0.448 1 1s-0.448 1-1 1z\"></path>\n",
       "<path d=\"M23 22h-14c-0.552 0-1-0.448-1-1s0.448-1 1-1h14c0.552 0 1 0.448 1 1s-0.448 1-1 1z\"></path>\n",
       "<path d=\"M23 18h-14c-0.552 0-1-0.448-1-1s0.448-1 1-1h14c0.552 0 1 0.448 1 1s-0.448 1-1 1z\"></path>\n",
       "</symbol>\n",
       "</defs>\n",
       "</svg><style id=\"scipp-style-sheet\">.sc-root{--sc-background-color0:var(--jp-layout-color0,#fff);--sc-background-color1:var(--jp-layout-color1,#fcfcfc);--sc-background-color2:var(--jp-layout-color2,#efefef);--sc-inverse-background-color0:var(--jp-inverse-layout-color4,#111);--sc-font-color0:var(--jp-content-font-color0,#000);--sc-font-color1:var(--jp-content-font-color1,#555);--sc-font-color2:var(--jp-content-font-color2,#888);--sc-font-color3:var(--jp-content-font-color3,#ccc);--sc-table-data-color:#f6d028;--sc-table-coords-color:#c6e590;--sc-table-masks-color:#c8c8c8;--sc-table-attrs-color:#ff5555;--sc-table-header-font-color:#111111;}.sc-wrap{font-size:14px;min-width:300px;max-width:800px;}.sc-var-attrs .sc-wrap{padding-left:3em;}.sc-header{padding-top:6px;padding-bottom:6px;margin-bottom:4px;border-bottom:solid 1px #ddd;}.sc-header > div,.sc-header > ul{display:inline;margin-top:0;margin-bottom:0;}.sc-obj-type,.sc-array-name{margin-left:2px;margin-right:10px;}.sc-obj-type{color:var(--sc-font-color1);}.sc-underlying-size{color:var(--sc-font-color2);}.sc-sections,.reveal .sc-sections{padding-left:0 !important;display:grid;grid-template-columns:150px auto auto auto 1fr 20px 20px;}.sc-section-item{display:contents;}.sc-section-item input{display:none;}.sc-section-item input:enabled + label{cursor:pointer;color:var(--sc-font-color1);}.sc-section-item input:enabled + label:hover{color:var(--sc-font-color0);}.sc-section-summary{grid-column:1;font-weight:500;}.sc-section-summary > span{display:inline-block;padding-left:0.5em;}.sc-section-summary-in:disabled + label{color:var(--sc-font-color1);}.sc-section-summary-in + label:before{display:inline-block;content:'►';font-size:11px;width:15px;text-align:center;}.sc-section-summary-in:disabled + label:before{color:var(--sc-font-color3);}.sc-section-summary-in:checked + label:before{content:'▼';}.sc-section-summary-in:checked + label > span{display:none;}.sc-section-summary,.sc-section-inline-details{padding-top:4px;padding-bottom:4px;}.sc-section-inline-details{grid-column:2 / 6;}.sc-section-details{display:none;grid-column:1 / -1;margin-bottom:5px;}.sc-section-summary-in:checked ~ .sc-section-details{display:contents;}.sc-array-wrap{grid-column:1 / -1;display:grid;grid-template-columns:20px auto;}.sc-array-wrap > label{grid-column:1;vertical-align:top;}.sc-preview{color:var(--sc-font-color2);}.sc-array-preview,.sc-array-data{padding:0 5px !important;grid-column:2;}.sc-array-data,.sc-array-in:checked ~ .sc-array-preview{display:none;}.sc-array-in:checked ~ .sc-array-data,.sc-array-preview{display:inline-block;}.sc-dim-list{display:inline-block !important;list-style:none;padding:0 !important;margin:0;}.sc-dim-list li{display:inline-block;padding:0;margin:0!important;}.sc-dim-list:before{content:'(';}.sc-dim-list:after{content:')';}.sc-dim-list li:not(:last-child):after{content:',';padding-right:5px;}.sc-dim-list li span,.sc-standalone-var-name > span span,.sc-var-name > span span{padding:0 !important;}.sc-aligned{font-weight:bold;}.sc-var-list,.sc-var-item,.reveal .sc-var-list,.reveal .sc-var-item{display:contents;}.sc-var-item > div,.sc-var-item label,.sc-var-item > .sc-var-name span{background-color:var(--sc-background-color1);margin-bottom:0;}.sc-var-item > .sc-var-name:hover span{padding-right:5px;}.sc-var-list > li:nth-child(odd) > div,.sc-var-list > li:nth-child(odd) > label,.sc-var-list > li:nth-child(odd) > .sc-var-name span{background-color:var(--sc-background-color2);}.sc-var-name{grid-column:1;}.sc-var-dims{grid-column:2;}.sc-var-dtype{grid-column:3;text-align:right;color:var(--sc-font-color2);}.sc-var-unit{grid-column:4;text-align:left;color:var(--sc-font-color1);max-width:50pt;text-overflow:ellipsis;}.sc-value-preview{grid-column:5;}.sc-var-preview-variances{text-align:right;}.sc-sections .sc-section-item .sc-section-summary,.sc-sections .sc-section-item .sc-section-inline-details,.sc-section-item .sc-var-list .sc-var-item > div,.sc-section-item .sc-var-list .sc-var-item > label,.sc-section-details .sc-var-list .sc-var-item > div,.sc-section-details .sc-var-list .sc-var-item > label{margin-top:0;margin-bottom:0;}.sc-var-name,.sc-var-dims,.sc-var-dtype,.sc-var-unit,.sc-preview,.sc-attrs dt{white-space:nowrap;overflow:hidden;text-overflow:ellipsis;padding-right:10px;}.sc-var-name:hover,.sc-var-dims:hover,.sc-var-dtype:hover,.sc-var-unit:hover,.sc-attrs dt:hover{overflow:visible;width:auto;z-index:1;}.sc-var-attrs{display:block;}.sc-var-data,.reveal .sc-var-data{display:none;}.sc-var-attrs,.sc-var-data{background-color:var(--sc-background-color0) !important;padding-bottom:5px !important;}.sc-var-attrs-in:checked ~ .sc-var-attrs{display:none;}.sc-var-data-in:checked ~ .sc-var-data{display:block;}.sc-var-data > table{float:right;}.sc-var-name span,.sc-var-data{padding-left:25px !important;}.sc-var-attrs,.sc-var-data{grid-column:1 / -1;}dl.sc-attrs{padding:0;margin:0;display:grid;grid-template-columns:125px auto;}.sc-attrs dt,dd{padding:0;margin:0;float:left;padding-right:10px;width:auto;}.sc-attrs dt{font-weight:normal;grid-column:1;}.sc-attrs dt:hover span{display:inline-block;padding-right:10px;}.sc-attrs dd{grid-column:2;white-space:pre-wrap;word-break:break-all;}.sc-icon-database,.sc-icon-file-text2{display:inline-block;vertical-align:middle;width:1em;height:1.5em !important;stroke-width:0;stroke:currentColor;fill:currentColor;}label.sc-hide-icon svg{opacity:0;}.sc-standalone-var-name{grid-column:1/3;}.sc-standalone-var-name span{padding-left:25px;padding-right:10px;}.sc-table{border-collapse:collapse;}.sc-title{font-weight:bold;font-size:1.5em;}.sc-subtitle{font-weight:normal;font-style:italic;text-align:left;font-size:1.2em;padding:1px;}.sc-table th,.sc-table td{border:1px solid var(--sc-inverse-background-color0);padding:0 5px 0 5px;}.sc-table th{text-align:center;}.sc-table tr{background-color:var(--sc-background-color1);text-align:right;}.sc-table tr:hover{background-color:var(--sc-background-color2);}.sc-table th.sc-data{background-color:var(--sc-table-data-color);color:var(--sc-table-header-font-color);}.sc-table th.sc-coords{background-color:var(--sc-table-coords-color);color:var(--sc-table-header-font-color);}.sc-table th.sc-masks{background-color:var(--sc-table-masks-color);color:var(--sc-table-header-font-color);}.sc-table th.sc-attrs{background-color:var(--sc-table-attrs-color);color:var(--sc-table-header-font-color);}.sc-table th.sc-subheader{background-color:var(--sc-background-color2);}.sc-table td.sc-padding{background-color:var(--sc-background-color1);border:0 solid var(--sc-background-color1);height:1.2em;}.sc-label{fill:var(--sc-font-color0,#444444);text-anchor:middle;}.sc-name{fill:var(--sc-font-color0,#111111);}.sc-inset-line{stroke:var(--sc-font-color1);stroke-width:0.05;stroke-dasharray:0.2,0.2;}.sc-log-wrap{height:25ex;resize:vertical;overflow-y:scroll;display:flex;flex-direction:column-reverse;border:1px solid;border-color:var(--jp-border-color2);background-color:var(--sc-background-color1);}div.sc-log{line-height:2.5ex;}table.sc-log{table-layout:auto;border-collapse:collapse;}tr.sc-log:nth-child(even){background-color:var(--sc-background-color0);}tr.sc-log > td{vertical-align:top;padding-bottom:0.5ex;}.sc-log-time-stamp{min-width:22ch;font-family:var(--jp-code-font-family);color:var(--sc-font-color2);}.sc-log-level{min-width:10ch;}tr.sc-log-debug td.sc-log-level{color:var(--jp-accent-color1);}tr.sc-log-info td.sc-log-level{color:var(--jp-info-color1);}tr.sc-log-warning td.sc-log-level{color:var(--jp-warn-color1);}tr.sc-log-error td.sc-log-level{font-weight:bold;color:var(--jp-error-color2);}tr.sc-log-critical td.sc-log-level{font-weight:bold;color:var(--sc-background-color0);background-color:var(--jp-error-color1);}.sc-log-message{white-space:pre-wrap;width:100%;}.sc-log-html-payload{white-space:normal;}.sc-log-name{padding-right:0.5em;text-align:right;white-space:pre-wrap;color:var(--sc-font-color3);}</style><div class='sc-wrap sc-root'><div class='sc-header'><div class='sc-obj-type'>scipp.DataArray (355.69 MB)</div></div><ul class='sc-sections'><li class='sc-section-item'><input id='section-4f9f8aae-de53-487f-9185-47717d1b0892' class='sc-section-summary-in' type='checkbox' disabled ><label for='section-4f9f8aae-de53-487f-9185-47717d1b0892' class='sc-section-summary'  title='Expand/collapse section'>Dimensions:</label><div class='sc-section-inline-details'><ul class='sc-dim-list'><li><span class='sc-has-index'>spectrum</span>: 458752</li><li><span class='sc-has-index'>wavelength</span>: 49</li></ul></div><div class='sc-section-details'></div></li><li class='sc-section-item'><input id='section-1062c99d-504e-478b-a33c-012bec2019f8' class='sc-section-summary-in' type='checkbox'  checked><label for='section-1062c99d-504e-478b-a33c-012bec2019f8' class='sc-section-summary' >Coordinates: <span>(7)</span></label><div class='sc-section-inline-details'></div><div class='sc-section-details'><ul class='sc-var-list'><li class='sc-var-item'><div class='sc-var-name'><span class='sc-aligned'>pixel_height</span></div><div class='sc-var-dims'>()</div><div class='sc-var-dtype'>float64</div><div class='sc-var-unit'>m</div><div class='sc-value-preview sc-preview'><span><div>4.144</div></span></div><input id='attrs-61bf224c-f1ab-4cb4-b473-47ac2bb02c70' class='sc-var-attrs-in' type='checkbox' disabled><label for='attrs-61bf224c-f1ab-4cb4-b473-47ac2bb02c70' class='sc-hide-icon' title='Show/Hide attributes'><svg class='icon sc-icon-file-text2'><use xlink:href='#icon-file-text2'></use></svg></label><input id='data-65583ca3-bf40-400f-ab46-1565797e1b2e' class='sc-var-data-in' type='checkbox'><label for='data-65583ca3-bf40-400f-ab46-1565797e1b2e' title='Show/Hide data repr'><svg class='icon sc-icon-database'><use xlink:href='#icon-database'></use></svg></label><pre class='sc-var-data'>Values:<br>array(4.144)</pre></span></li><li class='sc-var-item'><div class='sc-var-name'><span class='sc-aligned'>pixel_width</span></div><div class='sc-var-dims'>()</div><div class='sc-var-dtype'>float64</div><div class='sc-var-unit'>m</div><div class='sc-value-preview sc-preview'><span><div>4.144</div></span></div><input id='attrs-08be3dc7-39a7-4ead-b66f-293f0ad90f2d' class='sc-var-attrs-in' type='checkbox' disabled><label for='attrs-08be3dc7-39a7-4ead-b66f-293f0ad90f2d' class='sc-hide-icon' title='Show/Hide attributes'><svg class='icon sc-icon-file-text2'><use xlink:href='#icon-file-text2'></use></svg></label><input id='data-0a4a65c3-f2e2-4080-b1bd-ab6c222bcb91' class='sc-var-data-in' type='checkbox'><label for='data-0a4a65c3-f2e2-4080-b1bd-ab6c222bcb91' title='Show/Hide data repr'><svg class='icon sc-icon-database'><use xlink:href='#icon-database'></use></svg></label><pre class='sc-var-data'>Values:<br>array(4.144)</pre></span></li><li class='sc-var-item'><div class='sc-var-name'><span class='sc-aligned'>position</span></div><div class='sc-var-dims'>(spectrum)</div><div class='sc-var-dtype'>vector3</div><div class='sc-var-unit'>m</div><div class='sc-value-preview sc-preview'><span><div>[-0.47102349  0.44636999  3.74232989], [-0.4690743   0.44636999  3.74232989], ..., [ 0.52306117 -0.41291     3.83644689], [ 0.5250103  -0.41291     3.83644689]</div></span></div><input id='attrs-59c04e8a-0a68-465c-b4f5-a22f8532b458' class='sc-var-attrs-in' type='checkbox' disabled><label for='attrs-59c04e8a-0a68-465c-b4f5-a22f8532b458' class='sc-hide-icon' title='Show/Hide attributes'><svg class='icon sc-icon-file-text2'><use xlink:href='#icon-file-text2'></use></svg></label><input id='data-21947e0c-6c07-40aa-a471-131b9fbf8808' class='sc-var-data-in' type='checkbox'><label for='data-21947e0c-6c07-40aa-a471-131b9fbf8808' title='Show/Hide data repr'><svg class='icon sc-icon-database'><use xlink:href='#icon-database'></use></svg></label><pre class='sc-var-data'>Values:<br>array([[-0.47102349,  0.44636999,  3.74232989],\n",
       "       [-0.4690743 ,  0.44636999,  3.74232989],\n",
       "       [-0.46712512,  0.44636999,  3.74232989],\n",
       "       ...,\n",
       "       [ 0.52111198, -0.41291   ,  3.83644689],\n",
       "       [ 0.52306117, -0.41291   ,  3.83644689],\n",
       "       [ 0.5250103 , -0.41291   ,  3.83644689]])</pre></span></li><li class='sc-var-item'><div class='sc-var-name'><span class='sc-aligned'>sample_position</span></div><div class='sc-var-dims'>()</div><div class='sc-var-dtype'>vector3</div><div class='sc-var-unit'>m</div><div class='sc-value-preview sc-preview'><span><div>[0. 0. 0.]</div></span></div><input id='attrs-7b9287a6-2e4c-4f1d-ac44-4b4fe05165dd' class='sc-var-attrs-in' type='checkbox' disabled><label for='attrs-7b9287a6-2e4c-4f1d-ac44-4b4fe05165dd' class='sc-hide-icon' title='Show/Hide attributes'><svg class='icon sc-icon-file-text2'><use xlink:href='#icon-file-text2'></use></svg></label><input id='data-8b1a1e84-8da2-4717-9cad-ef83d155fea3' class='sc-var-data-in' type='checkbox'><label for='data-8b1a1e84-8da2-4717-9cad-ef83d155fea3' title='Show/Hide data repr'><svg class='icon sc-icon-database'><use xlink:href='#icon-database'></use></svg></label><pre class='sc-var-data'>Values:<br>array([0., 0., 0.])</pre></span></li><li class='sc-var-item'><div class='sc-var-name'><span class='sc-aligned'>source_position</span></div><div class='sc-var-dims'>()</div><div class='sc-var-dtype'>vector3</div><div class='sc-var-unit'>m</div><div class='sc-value-preview sc-preview'><span><div>[  0.     0.   -25.61]</div></span></div><input id='attrs-19a772df-eb79-4fe6-b4f8-a7bc0e595663' class='sc-var-attrs-in' type='checkbox' disabled><label for='attrs-19a772df-eb79-4fe6-b4f8-a7bc0e595663' class='sc-hide-icon' title='Show/Hide attributes'><svg class='icon sc-icon-file-text2'><use xlink:href='#icon-file-text2'></use></svg></label><input id='data-45e965d0-fb60-4d80-927a-e6326890b21c' class='sc-var-data-in' type='checkbox'><label for='data-45e965d0-fb60-4d80-927a-e6326890b21c' title='Show/Hide data repr'><svg class='icon sc-icon-database'><use xlink:href='#icon-database'></use></svg></label><pre class='sc-var-data'>Values:<br>array([  0.  ,   0.  , -25.61])</pre></span></li><li class='sc-var-item'><div class='sc-var-name'><span class='sc-aligned'>spectrum</span></div><div class='sc-var-dims'>(spectrum)</div><div class='sc-var-dtype'>int32</div><div class='sc-var-unit'></div><div class='sc-value-preview sc-preview'><span><div>1, 2, ..., 458751, 458752</div></span></div><input id='attrs-a9719801-4a4e-4de2-9563-0962a8958945' class='sc-var-attrs-in' type='checkbox' disabled><label for='attrs-a9719801-4a4e-4de2-9563-0962a8958945' class='sc-hide-icon' title='Show/Hide attributes'><svg class='icon sc-icon-file-text2'><use xlink:href='#icon-file-text2'></use></svg></label><input id='data-68ea644d-cde5-4012-a8e2-754229c317e7' class='sc-var-data-in' type='checkbox'><label for='data-68ea644d-cde5-4012-a8e2-754229c317e7' title='Show/Hide data repr'><svg class='icon sc-icon-database'><use xlink:href='#icon-database'></use></svg></label><pre class='sc-var-data'>Values:<br>array([     1,      2,      3, ..., 458750, 458751, 458752], dtype=int32)</pre></span></li><li class='sc-var-item'><div class='sc-var-name'><span class='sc-aligned'>wavelength</span></div><div class='sc-var-dims'>(wavelength)</div><div class='sc-var-dtype'>float64</div><div class='sc-var-unit'>Å</div><div class='sc-value-preview sc-preview'><span><div>2.300, 2.5, ..., 11.700, 11.9</div></span></div><input id='attrs-606b586e-891e-4325-9042-a7e7ff6ee44c' class='sc-var-attrs-in' type='checkbox' disabled><label for='attrs-606b586e-891e-4325-9042-a7e7ff6ee44c' class='sc-hide-icon' title='Show/Hide attributes'><svg class='icon sc-icon-file-text2'><use xlink:href='#icon-file-text2'></use></svg></label><input id='data-ff0b6113-df59-4d87-9ee5-755daea81df3' class='sc-var-data-in' type='checkbox'><label for='data-ff0b6113-df59-4d87-9ee5-755daea81df3' title='Show/Hide data repr'><svg class='icon sc-icon-database'><use xlink:href='#icon-database'></use></svg></label><pre class='sc-var-data'>Values:<br>array([ 2.3,  2.5,  2.7,  2.9,  3.1,  3.3,  3.5,  3.7,  3.9,  4.1,  4.3,\n",
       "        4.5,  4.7,  4.9,  5.1,  5.3,  5.5,  5.7,  5.9,  6.1,  6.3,  6.5,\n",
       "        6.7,  6.9,  7.1,  7.3,  7.5,  7.7,  7.9,  8.1,  8.3,  8.5,  8.7,\n",
       "        8.9,  9.1,  9.3,  9.5,  9.7,  9.9, 10.1, 10.3, 10.5, 10.7, 10.9,\n",
       "       11.1, 11.3, 11.5, 11.7, 11.9])</pre></span></li></ul></div></li><li class='sc-section-item'><input id='section-adbb937a-cb38-4067-ac61-d363cb6bdfd1' class='sc-section-summary-in' type='checkbox'  checked><label for='section-adbb937a-cb38-4067-ac61-d363cb6bdfd1' class='sc-section-summary' >Data: <span>(1)</span></label><div class='sc-section-inline-details'></div><div class='sc-section-details'><ul class='sc-var-list'><li class='sc-var-item'><div class='sc-var-name'><span></span></div><div class='sc-var-dims'>(spectrum, wavelength)</div><div class='sc-var-dtype'>float64</div><div class='sc-var-unit'>𝟙</div><div class='sc-value-preview sc-preview'><span><div>0.0, 0.0, ..., 0.0, 0.0</div></span><span><div>σ = 0.0, 0.0, ..., 0.0, 0.0</div></span></div><input id='attrs-1042e571-5fb0-4f1b-bd96-7904d83e99ec' class='sc-var-attrs-in' type='checkbox' disabled><label for='attrs-1042e571-5fb0-4f1b-bd96-7904d83e99ec' class='sc-hide-icon' title='Show/Hide attributes'><svg class='icon sc-icon-file-text2'><use xlink:href='#icon-file-text2'></use></svg></label><input id='data-aa59c44c-e866-4ec2-b857-6e0e46be261b' class='sc-var-data-in' type='checkbox'><label for='data-aa59c44c-e866-4ec2-b857-6e0e46be261b' title='Show/Hide data repr'><svg class='icon sc-icon-database'><use xlink:href='#icon-database'></use></svg></label><pre class='sc-var-data'>Values:<br>array([[0., 0., 0., ..., 0., 0., 0.],\n",
       "       [0., 0., 0., ..., 0., 0., 0.],\n",
       "       [0., 0., 0., ..., 0., 0., 0.],\n",
       "       ...,\n",
       "       [0., 0., 0., ..., 0., 0., 0.],\n",
       "       [0., 0., 0., ..., 0., 0., 0.],\n",
       "       [0., 0., 0., ..., 0., 0., 0.]])<br><br>Variances (σ²):<br>array([[0., 0., 0., ..., 0., 0., 0.],\n",
       "       [0., 0., 0., ..., 0., 0., 0.],\n",
       "       [0., 0., 0., ..., 0., 0., 0.],\n",
       "       ...,\n",
       "       [0., 0., 0., ..., 0., 0., 0.],\n",
       "       [0., 0., 0., ..., 0., 0., 0.],\n",
       "       [0., 0., 0., ..., 0., 0., 0.]])</pre></li></ul></div></li><li class='sc-section-item'><input id='section-23e93f45-0cc1-42f7-b9c5-f573496fdf84' class='sc-section-summary-in' type='checkbox'  checked><label for='section-23e93f45-0cc1-42f7-b9c5-f573496fdf84' class='sc-section-summary' >Masks: <span>(1)</span></label><div class='sc-section-inline-details'></div><div class='sc-section-details'><ul class='sc-var-list'><li class='sc-var-item'><div class='sc-var-name'><span>spectrum</span></div><div class='sc-var-dims'>(spectrum)</div><div class='sc-var-dtype'>bool</div><div class='sc-var-unit'></div><div class='sc-value-preview sc-preview'><span><div>True, True, ..., True, True</div></span></div><input id='attrs-fa199db2-7520-4c78-a6b9-84fdbdfa8f10' class='sc-var-attrs-in' type='checkbox' disabled><label for='attrs-fa199db2-7520-4c78-a6b9-84fdbdfa8f10' class='sc-hide-icon' title='Show/Hide attributes'><svg class='icon sc-icon-file-text2'><use xlink:href='#icon-file-text2'></use></svg></label><input id='data-971c4f09-9ff4-41b1-874c-23e762106d4b' class='sc-var-data-in' type='checkbox'><label for='data-971c4f09-9ff4-41b1-874c-23e762106d4b' title='Show/Hide data repr'><svg class='icon sc-icon-database'><use xlink:href='#icon-database'></use></svg></label><pre class='sc-var-data'>Values:<br>array([ True,  True,  True, ...,  True,  True,  True])</pre></span></li></ul></div></li><li class='sc-section-item'><input id='section-c4b23ecb-bf29-4fe3-a246-ebe5d5dfed9a' class='sc-section-summary-in' type='checkbox'  checked><label for='section-c4b23ecb-bf29-4fe3-a246-ebe5d5dfed9a' class='sc-section-summary' >Attributes: <span>(9)</span></label><div class='sc-section-inline-details'></div><div class='sc-section-details'><ul class='sc-var-list'><li class='sc-var-item'><div class='sc-var-name'><span>TimeUnit</span></div><div class='sc-var-dims'>()</div><div class='sc-var-dtype'>string</div><div class='sc-var-unit'>𝟙</div><div class='sc-value-preview sc-preview'><span><div>Micro Seconds</div></span></div><input id='attrs-282cce6b-5a3e-4d21-8870-3c4a3ab5c9eb' class='sc-var-attrs-in' type='checkbox' disabled><label for='attrs-282cce6b-5a3e-4d21-8870-3c4a3ab5c9eb' class='sc-hide-icon' title='Show/Hide attributes'><svg class='icon sc-icon-file-text2'><use xlink:href='#icon-file-text2'></use></svg></label><input id='data-d4ad3d48-de47-4933-ac54-ecbfe9df5b1a' class='sc-var-data-in' type='checkbox'><label for='data-d4ad3d48-de47-4933-ac54-ecbfe9df5b1a' title='Show/Hide data repr'><svg class='icon sc-icon-database'><use xlink:href='#icon-database'></use></svg></label><pre class='sc-var-data'>Values:<br>&#x27;Micro Seconds&#x27;</pre></li><li class='sc-var-item'><div class='sc-var-name'><span>deltaE-mode</span></div><div class='sc-var-dims'>()</div><div class='sc-var-dtype'>string</div><div class='sc-var-unit'>𝟙</div><div class='sc-value-preview sc-preview'><span><div>Elastic</div></span></div><input id='attrs-d9a6aa22-ba4b-41b3-932a-c07e5fb1b550' class='sc-var-attrs-in' type='checkbox' disabled><label for='attrs-d9a6aa22-ba4b-41b3-932a-c07e5fb1b550' class='sc-hide-icon' title='Show/Hide attributes'><svg class='icon sc-icon-file-text2'><use xlink:href='#icon-file-text2'></use></svg></label><input id='data-3167080b-481d-48f1-90a8-a68eb876da37' class='sc-var-data-in' type='checkbox'><label for='data-3167080b-481d-48f1-90a8-a68eb876da37' title='Show/Hide data repr'><svg class='icon sc-icon-database'><use xlink:href='#icon-database'></use></svg></label><pre class='sc-var-data'>Values:<br>&#x27;Elastic&#x27;</pre></li><li class='sc-var-item'><div class='sc-var-name'><span>end_time</span></div><div class='sc-var-dims'>()</div><div class='sc-var-dtype'>string</div><div class='sc-var-unit'>𝟙</div><div class='sc-value-preview sc-preview'><span><div>2022-04-14T13:25:19.880580000</div></span></div><input id='attrs-ca226414-196a-4e93-b9a3-40a81b9682c4' class='sc-var-attrs-in' type='checkbox' disabled><label for='attrs-ca226414-196a-4e93-b9a3-40a81b9682c4' class='sc-hide-icon' title='Show/Hide attributes'><svg class='icon sc-icon-file-text2'><use xlink:href='#icon-file-text2'></use></svg></label><input id='data-48049c81-a672-4a5c-8e02-3e75c16c9764' class='sc-var-data-in' type='checkbox'><label for='data-48049c81-a672-4a5c-8e02-3e75c16c9764' title='Show/Hide data repr'><svg class='icon sc-icon-database'><use xlink:href='#icon-database'></use></svg></label><pre class='sc-var-data'>Values:<br>&#x27;2022-04-14T13:25:19.880580000&#x27;</pre></li><li class='sc-var-item'><div class='sc-var-name'><span>instrument_name</span></div><div class='sc-var-dims'>()</div><div class='sc-var-dtype'>string</div><div class='sc-var-unit'></div><div class='sc-value-preview sc-preview'><span><div>LOKI_test.xml</div></span></div><input id='attrs-7ae14291-4573-4862-8df2-184f57cb721d' class='sc-var-attrs-in' type='checkbox' disabled><label for='attrs-7ae14291-4573-4862-8df2-184f57cb721d' class='sc-hide-icon' title='Show/Hide attributes'><svg class='icon sc-icon-file-text2'><use xlink:href='#icon-file-text2'></use></svg></label><input id='data-b49d5549-821c-40e3-a2ac-7b5c1e92f188' class='sc-var-data-in' type='checkbox'><label for='data-b49d5549-821c-40e3-a2ac-7b5c1e92f188' title='Show/Hide data repr'><svg class='icon sc-icon-database'><use xlink:href='#icon-database'></use></svg></label><pre class='sc-var-data'>Values:<br>&#x27;LOKI_test.xml&#x27;</pre></li><li class='sc-var-item'><div class='sc-var-name'><span>run_number</span></div><div class='sc-var-dims'>()</div><div class='sc-var-dtype'>string</div><div class='sc-var-unit'>𝟙</div><div class='sc-value-preview sc-preview'><span><div>1</div></span></div><input id='attrs-e7b3274f-39a7-4fb7-bda9-bba458db36a1' class='sc-var-attrs-in' type='checkbox' disabled><label for='attrs-e7b3274f-39a7-4fb7-bda9-bba458db36a1' class='sc-hide-icon' title='Show/Hide attributes'><svg class='icon sc-icon-file-text2'><use xlink:href='#icon-file-text2'></use></svg></label><input id='data-0541b279-ddd0-43cb-b3aa-c961d3e2abc5' class='sc-var-data-in' type='checkbox'><label for='data-0541b279-ddd0-43cb-b3aa-c961d3e2abc5' title='Show/Hide data repr'><svg class='icon sc-icon-database'><use xlink:href='#icon-database'></use></svg></label><pre class='sc-var-data'>Values:<br>&#x27;1&#x27;</pre></li><li class='sc-var-item'><div class='sc-var-name'><span>run_start</span></div><div class='sc-var-dims'>()</div><div class='sc-var-dtype'>string</div><div class='sc-var-unit'>𝟙</div><div class='sc-value-preview sc-preview'><span><div>2022-04-14T13:25:19.880580000</div></span></div><input id='attrs-e34333d7-e6ea-49dd-a142-54ed2f3bdb7c' class='sc-var-attrs-in' type='checkbox' disabled><label for='attrs-e34333d7-e6ea-49dd-a142-54ed2f3bdb7c' class='sc-hide-icon' title='Show/Hide attributes'><svg class='icon sc-icon-file-text2'><use xlink:href='#icon-file-text2'></use></svg></label><input id='data-7fa7571a-497b-4857-903f-cb81a711e2e2' class='sc-var-data-in' type='checkbox'><label for='data-7fa7571a-497b-4857-903f-cb81a711e2e2' title='Show/Hide data repr'><svg class='icon sc-icon-database'><use xlink:href='#icon-database'></use></svg></label><pre class='sc-var-data'>Values:<br>&#x27;2022-04-14T13:25:19.880580000&#x27;</pre></li><li class='sc-var-item'><div class='sc-var-name'><span>run_title</span></div><div class='sc-var-dims'>()</div><div class='sc-var-dtype'>string</div><div class='sc-var-unit'>𝟙</div><div class='sc-value-preview sc-preview'><span><div></div></span></div><input id='attrs-a77597d2-5381-42a8-83f0-0c2aece4bbee' class='sc-var-attrs-in' type='checkbox' disabled><label for='attrs-a77597d2-5381-42a8-83f0-0c2aece4bbee' class='sc-hide-icon' title='Show/Hide attributes'><svg class='icon sc-icon-file-text2'><use xlink:href='#icon-file-text2'></use></svg></label><input id='data-7517c682-4102-4d5d-ac69-082519e98888' class='sc-var-data-in' type='checkbox'><label for='data-7517c682-4102-4d5d-ac69-082519e98888' title='Show/Hide data repr'><svg class='icon sc-icon-database'><use xlink:href='#icon-database'></use></svg></label><pre class='sc-var-data'>Values:<br>&#x27;&#x27;</pre></li><li class='sc-var-item'><div class='sc-var-name'><span>sample</span></div><div class='sc-var-dims'>()</div><div class='sc-var-dtype'>PyObject</div><div class='sc-var-unit'></div><div class='sc-value-preview sc-preview'><span><div>&lt;mantid.api._api.Sample object at 0x7fa4f49ba0b0&gt;</div></span></div><input id='attrs-e21f19ce-d6b2-440f-afcc-820158611dd1' class='sc-var-attrs-in' type='checkbox' disabled><label for='attrs-e21f19ce-d6b2-440f-afcc-820158611dd1' class='sc-hide-icon' title='Show/Hide attributes'><svg class='icon sc-icon-file-text2'><use xlink:href='#icon-file-text2'></use></svg></label><input id='data-15fad566-ca66-4404-8088-6abb1d73ba0b' class='sc-var-data-in' type='checkbox'><label for='data-15fad566-ca66-4404-8088-6abb1d73ba0b' title='Show/Hide data repr'><svg class='icon sc-icon-database'><use xlink:href='#icon-database'></use></svg></label><pre class='sc-var-data'>Values:<br>&lt;mantid.api._api.Sample object at 0x7fa4f49ba0b0&gt;</pre></li><li class='sc-var-item'><div class='sc-var-name'><span>start_time</span></div><div class='sc-var-dims'>()</div><div class='sc-var-dtype'>string</div><div class='sc-var-unit'>𝟙</div><div class='sc-value-preview sc-preview'><span><div>2022-04-14T13:25:19.880580000</div></span></div><input id='attrs-a252930b-be9e-4b95-9056-df079bdc130b' class='sc-var-attrs-in' type='checkbox' disabled><label for='attrs-a252930b-be9e-4b95-9056-df079bdc130b' class='sc-hide-icon' title='Show/Hide attributes'><svg class='icon sc-icon-file-text2'><use xlink:href='#icon-file-text2'></use></svg></label><input id='data-16140298-d734-40c7-80c2-84e5cd76aed9' class='sc-var-data-in' type='checkbox'><label for='data-16140298-d734-40c7-80c2-84e5cd76aed9' title='Show/Hide data repr'><svg class='icon sc-icon-database'><use xlink:href='#icon-database'></use></svg></label><pre class='sc-var-data'>Values:<br>&#x27;2022-04-14T13:25:19.880580000&#x27;</pre></li></ul></div></li></ul></div></div>"
      ],
      "text/plain": [
       "<scipp.DataArray>\n",
       "Dimensions: Sizes[spectrum:458752, wavelength:49, ]\n",
       "Coordinates:\n",
       "* pixel_height              float64              [m]  ()  4.144\n",
       "* pixel_width               float64              [m]  ()  4.144\n",
       "* position                  vector3              [m]  (spectrum)  [(-0.471023, 0.44637, 3.74233), (-0.469074, 0.44637, 3.74233), ..., (0.523061, -0.41291, 3.83645), (0.52501, -0.41291, 3.83645)]\n",
       "* sample_position           vector3              [m]  ()  (0, 0, 0)\n",
       "* source_position           vector3              [m]  ()  (0, 0, -25.61)\n",
       "* spectrum                    int32        <no unit>  (spectrum)  [1, 2, ..., 458751, 458752]\n",
       "* wavelength                float64             [Å]  (wavelength)  [2.3, 2.5, ..., 11.7, 11.9]\n",
       "Data:\n",
       "                            float64  [dimensionless]  (spectrum, wavelength)  [0, 0, ..., 0, 0]  [0, 0, ..., 0, 0]\n",
       "Masks:\n",
       "  spectrum                     bool        <no unit>  (spectrum)  [True, True, ..., True, True]\n",
       "Attributes:\n",
       "  TimeUnit                   string  [dimensionless]  ()  \"Micro Seconds\"\n",
       "  deltaE-mode                string  [dimensionless]  ()  \"Elastic\"\n",
       "  end_time                   string  [dimensionless]  ()  \"2022-04-14T13:25:19.880580000\"\n",
       "  instrument_name            string        <no unit>  ()  \"LOKI_test.xml\"\n",
       "  run_number                 string  [dimensionless]  ()  \"1\"\n",
       "  run_start                  string  [dimensionless]  ()  \"2022-04-14T13:25:19.880580000\"\n",
       "  run_title                  string  [dimensionless]  ()  \"\"\n",
       "  sample                   PyObject        <no unit>  ()  <mantid.api._api.Sample object at 0x7fa4f49ba0b0>\n",
       "  start_time                 string  [dimensionless]  ()  \"2022-04-14T13:25:19.880580000\"\n"
      ]
     },
     "execution_count": 24,
     "metadata": {},
     "output_type": "execute_result"
    }
   ],
   "source": [
    "direct_beam"
   ]
  },
  {
   "cell_type": "code",
   "execution_count": 25,
   "id": "38983d33-08e9-4588-97bb-26e264dd1cb3",
   "metadata": {},
   "outputs": [],
   "source": [
    "#pp.superplot(denominator)"
   ]
  },
  {
   "cell_type": "code",
   "execution_count": 26,
   "id": "1bb92157-44e8-4d3a-bc9b-641184c8075b",
   "metadata": {},
   "outputs": [],
   "source": [
    "#pp.superplot(denominator.transpose())"
   ]
  },
  {
   "cell_type": "code",
   "execution_count": 27,
   "id": "cc94b35f-8065-4066-b78c-7669122904aa",
   "metadata": {},
   "outputs": [],
   "source": [
    "# data_q = sans.i_of_q.convert_to_q_and_merge_spectra(\n",
    "#         data=data,\n",
    "#         graph=graph,\n",
    "#         wavelength_bands=wavelength_bands,\n",
    "#         q_bins=q_bins,\n",
    "#         gravity=gravity,\n",
    "#     )"
   ]
  },
  {
   "cell_type": "code",
   "execution_count": 28,
   "id": "70d01fdb-b0f5-45b8-9db7-149088b1cbec",
   "metadata": {},
   "outputs": [],
   "source": [
    "# denominator_q = sans.i_of_q.convert_to_q_and_merge_spectra(\n",
    "#         data=denominator,\n",
    "#         graph=graph,\n",
    "#         wavelength_bands=wavelength_bands,\n",
    "#         q_bins=q_bins,\n",
    "#         gravity=gravity,\n",
    "#     )"
   ]
  },
  {
   "cell_type": "code",
   "execution_count": 29,
   "id": "652aa470-74fe-4036-90e5-4eeead429831",
   "metadata": {},
   "outputs": [
    {
     "name": "stderr",
     "output_type": "stream",
     "text": [
      "An interpolation was performed on the direct_beam function. The variances in the direct_beam function have been dropped.\n"
     ]
    }
   ],
   "source": [
    "#NOTE: direct monitors is the same as sample (and backgroud)\n",
    "sample_q = sans.to_I_of_Q(data=ds['sample'],\n",
    "    data_monitors=sample_monitors,\n",
    "    direct_monitors=empty_beam_monitors,\n",
    "    direct_beam=direct_beam,\n",
    "    wavelength_bins=wavelength_bins,\n",
    "    q_bins=q_bins,\n",
    "    gravity=gravity,\n",
    "    wavelength_mask=wavelength_mask)"
   ]
  },
  {
   "cell_type": "code",
   "execution_count": 30,
   "id": "dba9fe02-5c65-4142-b94b-ccca2df879e2",
   "metadata": {},
   "outputs": [
    {
     "name": "stderr",
     "output_type": "stream",
     "text": [
      "An interpolation was performed on the direct_beam function. The variances in the direct_beam function have been dropped.\n"
     ]
    }
   ],
   "source": [
    "background_q = sans.to_I_of_Q(data=ds['background'],\n",
    "    data_monitors=background_monitors,\n",
    "    direct_monitors=empty_beam_monitors,\n",
    "    direct_beam=direct_beam,\n",
    "    wavelength_bins=wavelength_bins,\n",
    "    q_bins=q_bins,\n",
    "    gravity=gravity,\n",
    "    wavelength_mask=wavelength_mask)"
   ]
  },
  {
   "cell_type": "markdown",
   "id": "d88ac17e-233f-42ff-bc0c-930f797af1c1",
   "metadata": {},
   "source": [
    "We are now in a position to subtract the background from the sample measurement:"
   ]
  },
  {
   "cell_type": "code",
   "execution_count": 31,
   "id": "f3715d62-e58b-410a-97cd-cfc16bc32a28",
   "metadata": {},
   "outputs": [],
   "source": [
    "result = sample_q.bins.sum() - background_q.bins.sum()"
   ]
  },
  {
   "cell_type": "code",
   "execution_count": 32,
   "id": "af479d15-eec2-40e1-ab2f-816ef1000be7",
   "metadata": {},
   "outputs": [
    {
     "data": {
      "application/vnd.jupyter.widget-view+json": {
       "model_id": "bdb457d0457849719b70759d54ffa23a",
       "version_major": 2,
       "version_minor": 0
      },
      "text/plain": [
       "InteractiveFig(children=(HBar(), HBox(children=(VBar(children=(Toolbar(children=(ButtonTool(icon='home', layou…"
      ]
     },
     "execution_count": 32,
     "metadata": {},
     "output_type": "execute_result"
    }
   ],
   "source": [
    "background_q.bins.sum().plot()"
   ]
  },
  {
   "cell_type": "code",
   "execution_count": 33,
   "id": "68ec0502-76a1-4e4d-8730-c9089befc207",
   "metadata": {},
   "outputs": [
    {
     "name": "stderr",
     "output_type": "stream",
     "text": [
      "An interpolation was performed on the direct_beam function. The variances in the direct_beam function have been dropped.\n"
     ]
    }
   ],
   "source": [
    "#NOTE: direct monitors is the same as sample (and backgroud)\n",
    "sample_q_selected = sans.to_I_of_Q(data=ds['sample'],\n",
    "    data_monitors=sample_monitors,\n",
    "    direct_monitors=empty_beam_monitors,\n",
    "    direct_beam=direct_beam_selected,\n",
    "    wavelength_bins=wavelength_bins,\n",
    "    q_bins=q_bins,\n",
    "    gravity=gravity,\n",
    "    wavelength_mask=wavelength_mask)"
   ]
  },
  {
   "cell_type": "code",
   "execution_count": 34,
   "id": "861cb159-adf1-46d9-9d31-9c4642dfcb35",
   "metadata": {},
   "outputs": [
    {
     "name": "stderr",
     "output_type": "stream",
     "text": [
      "An interpolation was performed on the direct_beam function. The variances in the direct_beam function have been dropped.\n"
     ]
    }
   ],
   "source": [
    "background_q_selected = sans.to_I_of_Q(data=ds['background'],\n",
    "    data_monitors=background_monitors,\n",
    "    direct_monitors=empty_beam_monitors,\n",
    "    direct_beam=direct_beam_selected,\n",
    "    wavelength_bins=wavelength_bins,\n",
    "    q_bins=q_bins,\n",
    "    gravity=gravity,\n",
    "    wavelength_mask=wavelength_mask)"
   ]
  },
  {
   "cell_type": "code",
   "execution_count": 35,
   "id": "b9d854f3-4cc4-4888-8460-88a2ca02a0be",
   "metadata": {},
   "outputs": [],
   "source": [
    "result_selected = sample_q_selected.bins.sum() - background_q_selected.bins.sum()"
   ]
  },
  {
   "cell_type": "code",
   "execution_count": 36,
   "id": "2a300aef-c8b6-4757-9b15-6b4b61ad5e06",
   "metadata": {},
   "outputs": [
    {
     "data": {
      "application/vnd.jupyter.widget-view+json": {
       "model_id": "22fa177a53ae4858920cb95e118db2fa",
       "version_major": 2,
       "version_minor": 0
      },
      "text/plain": [
       "InteractiveFig(children=(HBar(), HBox(children=(VBar(children=(Toolbar(children=(ButtonTool(icon='home', layou…"
      ]
     },
     "execution_count": 36,
     "metadata": {},
     "output_type": "execute_result"
    }
   ],
   "source": [
    "result_selected.plot()"
   ]
  },
  {
   "cell_type": "code",
   "execution_count": 37,
   "id": "3b07086d-eeb2-4b19-932c-763dd0042608",
   "metadata": {},
   "outputs": [
    {
     "data": {
      "application/vnd.jupyter.widget-view+json": {
       "model_id": "f1e284d5af0b4d67a3da2c5f02b1f67d",
       "version_major": 2,
       "version_minor": 0
      },
      "text/plain": [
       "InteractiveFig(children=(HBar(), HBox(children=(VBar(children=(Toolbar(children=(ButtonTool(icon='home', layou…"
      ]
     },
     "execution_count": 37,
     "metadata": {},
     "output_type": "execute_result"
    }
   ],
   "source": [
    "sc.plot({'selected': result_selected, 'full': result})"
   ]
  },
  {
   "cell_type": "code",
   "execution_count": 38,
   "id": "45eb3c94-db8f-4a74-9b49-208399feb12b",
   "metadata": {},
   "outputs": [
    {
     "name": "stdout",
     "output_type": "stream",
     "text": [
      "Load-[Notice] Load started\n",
      "ISISRunLogs-[Warning] Cannot find period log. Logs will be not be filtered by current period\n",
      "ISISRunLogs-[Warning] Cannot find periods log. Logs will be not be filtered by current period\n",
      "Load-[Notice] Load successful, Duration 0.91 seconds\n",
      "DeleteWorkspace-[Notice] DeleteWorkspace started\n",
      "DeleteWorkspace-[Notice] DeleteWorkspace successful, Duration 0.00 seconds\n"
     ]
    }
   ],
   "source": [
    "mantid_result = scn.load(f'{path}/ISIS_polymer_mantid_no_solid_angle.nxs')"
   ]
  },
  {
   "cell_type": "code",
   "execution_count": 39,
   "id": "2f11cd8a-5487-4cbf-afb4-c97830bbc2e6",
   "metadata": {},
   "outputs": [],
   "source": [
    "mantid_result.data.unit = 'counts'"
   ]
  },
  {
   "cell_type": "code",
   "execution_count": 40,
   "id": "3fb94b9e-93cc-41bc-afde-adc9db78549e",
   "metadata": {},
   "outputs": [
    {
     "data": {
      "application/vnd.jupyter.widget-view+json": {
       "model_id": "d0e50b87f6d94828a6c351e2b55e8203",
       "version_major": 2,
       "version_minor": 0
      },
      "text/plain": [
       "InteractiveFig(children=(HBar(), HBox(children=(VBar(children=(Toolbar(children=(ButtonTool(icon='home', layou…"
      ]
     },
     "execution_count": 40,
     "metadata": {},
     "output_type": "execute_result"
    }
   ],
   "source": [
    "sc.plot({'scipp': result, 'mantid': 0.3e-10 * mantid_result})"
   ]
  },
  {
   "cell_type": "markdown",
   "id": "57679ad0-d04a-4c30-a2b3-78e9800f5ae0",
   "metadata": {},
   "source": [
    "<div class=\"alert alert-info\">\n",
    "\n",
    "**Note**\n",
    "\n",
    "Instead of `.bins.sum()`,\n",
    "one could use `sc.histogram()` above to define different `Q` bins compared to the ones defined at the top of the notebook.\n",
    "This can be done in event mode, see [here](https://scipp.github.io/user-guide/binned-data/computation.html#Subtraction).\n",
    "\n",
    "There may be performance advantages to first use a coarse `Q` binning when the computing `I(Q)` numerator,\n",
    "and use finer binning for the final results.\n",
    "\n",
    "</div>"
   ]
  },
  {
   "cell_type": "markdown",
   "id": "5c270fd9-beee-4abd-a51a-4d16ad54922e",
   "metadata": {},
   "source": [
    "## Wavelength bands\n",
    "\n",
    "It is often useful to process the data in a small number (~10) of separate wavelength bands.\n",
    "\n",
    "This can be achieved by requesting 10 bands from the `to_I_of_Q` workflow via the `wavelength_bands` argument."
   ]
  },
  {
   "cell_type": "code",
   "execution_count": 41,
   "id": "ca7e75fe-29f6-44c9-88c2-43d870044b4c",
   "metadata": {},
   "outputs": [
    {
     "name": "stderr",
     "output_type": "stream",
     "text": [
      "An interpolation was performed on the direct_beam function. The variances in the direct_beam function have been dropped.\n",
      "An interpolation was performed on the direct_beam function. The variances in the direct_beam function have been dropped.\n"
     ]
    },
    {
     "data": {
      "text/html": [
       "<div><!-- Original source from -->\n",
       "<!-- https://github.com/jsignell/xarray/blob/1d960933ab252e0f79f7e050e6c9261d55568057/xarray/static/html/icons-svg-inline.html -->\n",
       "<svg style=\"position: absolute; width: 0; height: 0; overflow: hidden\">\n",
       "<defs>\n",
       "<symbol id=\"icon-database\" viewBox=\"0 0 32 32\">\n",
       "<title>Show/Hide data repr</title>\n",
       "<path d=\"M16 0c-8.837 0-16 2.239-16 5v4c0 2.761 7.163 5 16 5s16-2.239 16-5v-4c0-2.761-7.163-5-16-5z\"></path>\n",
       "<path d=\"M16 17c-8.837 0-16-2.239-16-5v6c0 2.761 7.163 5 16 5s16-2.239 16-5v-6c0 2.761-7.163 5-16 5z\"></path>\n",
       "<path d=\"M16 26c-8.837 0-16-2.239-16-5v6c0 2.761 7.163 5 16 5s16-2.239 16-5v-6c0 2.761-7.163 5-16 5z\"></path>\n",
       "</symbol>\n",
       "<symbol id=\"icon-file-text2\" viewBox=\"0 0 32 32\">\n",
       "<title>Show/Hide attributes</title>\n",
       "<path d=\"M28.681 7.159c-0.694-0.947-1.662-2.053-2.724-3.116s-2.169-2.030-3.116-2.724c-1.612-1.182-2.393-1.319-2.841-1.319h-15.5c-1.378 0-2.5 1.121-2.5 2.5v27c0 1.378 1.122 2.5 2.5 2.5h23c1.378 0 2.5-1.122 2.5-2.5v-19.5c0-0.448-0.137-1.23-1.319-2.841zM24.543 5.457c0.959 0.959 1.712 1.825 2.268 2.543h-4.811v-4.811c0.718 0.556 1.584 1.309 2.543 2.268zM28 29.5c0 0.271-0.229 0.5-0.5 0.5h-23c-0.271 0-0.5-0.229-0.5-0.5v-27c0-0.271 0.229-0.5 0.5-0.5 0 0 15.499-0 15.5 0v7c0 0.552 0.448 1 1 1h7v19.5z\"></path>\n",
       "<path d=\"M23 26h-14c-0.552 0-1-0.448-1-1s0.448-1 1-1h14c0.552 0 1 0.448 1 1s-0.448 1-1 1z\"></path>\n",
       "<path d=\"M23 22h-14c-0.552 0-1-0.448-1-1s0.448-1 1-1h14c0.552 0 1 0.448 1 1s-0.448 1-1 1z\"></path>\n",
       "<path d=\"M23 18h-14c-0.552 0-1-0.448-1-1s0.448-1 1-1h14c0.552 0 1 0.448 1 1s-0.448 1-1 1z\"></path>\n",
       "</symbol>\n",
       "</defs>\n",
       "</svg><style id=\"scipp-style-sheet\">.sc-root{--sc-background-color0:var(--jp-layout-color0,#fff);--sc-background-color1:var(--jp-layout-color1,#fcfcfc);--sc-background-color2:var(--jp-layout-color2,#efefef);--sc-inverse-background-color0:var(--jp-inverse-layout-color4,#111);--sc-font-color0:var(--jp-content-font-color0,#000);--sc-font-color1:var(--jp-content-font-color1,#555);--sc-font-color2:var(--jp-content-font-color2,#888);--sc-font-color3:var(--jp-content-font-color3,#ccc);--sc-table-data-color:#f6d028;--sc-table-coords-color:#c6e590;--sc-table-masks-color:#c8c8c8;--sc-table-attrs-color:#ff5555;--sc-table-header-font-color:#111111;}.sc-wrap{font-size:14px;min-width:300px;max-width:800px;}.sc-var-attrs .sc-wrap{padding-left:3em;}.sc-header{padding-top:6px;padding-bottom:6px;margin-bottom:4px;border-bottom:solid 1px #ddd;}.sc-header > div,.sc-header > ul{display:inline;margin-top:0;margin-bottom:0;}.sc-obj-type,.sc-array-name{margin-left:2px;margin-right:10px;}.sc-obj-type{color:var(--sc-font-color1);}.sc-underlying-size{color:var(--sc-font-color2);}.sc-sections,.reveal .sc-sections{padding-left:0 !important;display:grid;grid-template-columns:150px auto auto auto 1fr 20px 20px;}.sc-section-item{display:contents;}.sc-section-item input{display:none;}.sc-section-item input:enabled + label{cursor:pointer;color:var(--sc-font-color1);}.sc-section-item input:enabled + label:hover{color:var(--sc-font-color0);}.sc-section-summary{grid-column:1;font-weight:500;}.sc-section-summary > span{display:inline-block;padding-left:0.5em;}.sc-section-summary-in:disabled + label{color:var(--sc-font-color1);}.sc-section-summary-in + label:before{display:inline-block;content:'►';font-size:11px;width:15px;text-align:center;}.sc-section-summary-in:disabled + label:before{color:var(--sc-font-color3);}.sc-section-summary-in:checked + label:before{content:'▼';}.sc-section-summary-in:checked + label > span{display:none;}.sc-section-summary,.sc-section-inline-details{padding-top:4px;padding-bottom:4px;}.sc-section-inline-details{grid-column:2 / 6;}.sc-section-details{display:none;grid-column:1 / -1;margin-bottom:5px;}.sc-section-summary-in:checked ~ .sc-section-details{display:contents;}.sc-array-wrap{grid-column:1 / -1;display:grid;grid-template-columns:20px auto;}.sc-array-wrap > label{grid-column:1;vertical-align:top;}.sc-preview{color:var(--sc-font-color2);}.sc-array-preview,.sc-array-data{padding:0 5px !important;grid-column:2;}.sc-array-data,.sc-array-in:checked ~ .sc-array-preview{display:none;}.sc-array-in:checked ~ .sc-array-data,.sc-array-preview{display:inline-block;}.sc-dim-list{display:inline-block !important;list-style:none;padding:0 !important;margin:0;}.sc-dim-list li{display:inline-block;padding:0;margin:0!important;}.sc-dim-list:before{content:'(';}.sc-dim-list:after{content:')';}.sc-dim-list li:not(:last-child):after{content:',';padding-right:5px;}.sc-dim-list li span,.sc-standalone-var-name > span span,.sc-var-name > span span{padding:0 !important;}.sc-aligned{font-weight:bold;}.sc-var-list,.sc-var-item,.reveal .sc-var-list,.reveal .sc-var-item{display:contents;}.sc-var-item > div,.sc-var-item label,.sc-var-item > .sc-var-name span{background-color:var(--sc-background-color1);margin-bottom:0;}.sc-var-item > .sc-var-name:hover span{padding-right:5px;}.sc-var-list > li:nth-child(odd) > div,.sc-var-list > li:nth-child(odd) > label,.sc-var-list > li:nth-child(odd) > .sc-var-name span{background-color:var(--sc-background-color2);}.sc-var-name{grid-column:1;}.sc-var-dims{grid-column:2;}.sc-var-dtype{grid-column:3;text-align:right;color:var(--sc-font-color2);}.sc-var-unit{grid-column:4;text-align:left;color:var(--sc-font-color1);max-width:50pt;text-overflow:ellipsis;}.sc-value-preview{grid-column:5;}.sc-var-preview-variances{text-align:right;}.sc-sections .sc-section-item .sc-section-summary,.sc-sections .sc-section-item .sc-section-inline-details,.sc-section-item .sc-var-list .sc-var-item > div,.sc-section-item .sc-var-list .sc-var-item > label,.sc-section-details .sc-var-list .sc-var-item > div,.sc-section-details .sc-var-list .sc-var-item > label{margin-top:0;margin-bottom:0;}.sc-var-name,.sc-var-dims,.sc-var-dtype,.sc-var-unit,.sc-preview,.sc-attrs dt{white-space:nowrap;overflow:hidden;text-overflow:ellipsis;padding-right:10px;}.sc-var-name:hover,.sc-var-dims:hover,.sc-var-dtype:hover,.sc-var-unit:hover,.sc-attrs dt:hover{overflow:visible;width:auto;z-index:1;}.sc-var-attrs{display:block;}.sc-var-data,.reveal .sc-var-data{display:none;}.sc-var-attrs,.sc-var-data{background-color:var(--sc-background-color0) !important;padding-bottom:5px !important;}.sc-var-attrs-in:checked ~ .sc-var-attrs{display:none;}.sc-var-data-in:checked ~ .sc-var-data{display:block;}.sc-var-data > table{float:right;}.sc-var-name span,.sc-var-data{padding-left:25px !important;}.sc-var-attrs,.sc-var-data{grid-column:1 / -1;}dl.sc-attrs{padding:0;margin:0;display:grid;grid-template-columns:125px auto;}.sc-attrs dt,dd{padding:0;margin:0;float:left;padding-right:10px;width:auto;}.sc-attrs dt{font-weight:normal;grid-column:1;}.sc-attrs dt:hover span{display:inline-block;padding-right:10px;}.sc-attrs dd{grid-column:2;white-space:pre-wrap;word-break:break-all;}.sc-icon-database,.sc-icon-file-text2{display:inline-block;vertical-align:middle;width:1em;height:1.5em !important;stroke-width:0;stroke:currentColor;fill:currentColor;}label.sc-hide-icon svg{opacity:0;}.sc-standalone-var-name{grid-column:1/3;}.sc-standalone-var-name span{padding-left:25px;padding-right:10px;}.sc-table{border-collapse:collapse;}.sc-title{font-weight:bold;font-size:1.5em;}.sc-subtitle{font-weight:normal;font-style:italic;text-align:left;font-size:1.2em;padding:1px;}.sc-table th,.sc-table td{border:1px solid var(--sc-inverse-background-color0);padding:0 5px 0 5px;}.sc-table th{text-align:center;}.sc-table tr{background-color:var(--sc-background-color1);text-align:right;}.sc-table tr:hover{background-color:var(--sc-background-color2);}.sc-table th.sc-data{background-color:var(--sc-table-data-color);color:var(--sc-table-header-font-color);}.sc-table th.sc-coords{background-color:var(--sc-table-coords-color);color:var(--sc-table-header-font-color);}.sc-table th.sc-masks{background-color:var(--sc-table-masks-color);color:var(--sc-table-header-font-color);}.sc-table th.sc-attrs{background-color:var(--sc-table-attrs-color);color:var(--sc-table-header-font-color);}.sc-table th.sc-subheader{background-color:var(--sc-background-color2);}.sc-table td.sc-padding{background-color:var(--sc-background-color1);border:0 solid var(--sc-background-color1);height:1.2em;}.sc-label{fill:var(--sc-font-color0,#444444);text-anchor:middle;}.sc-name{fill:var(--sc-font-color0,#111111);}.sc-inset-line{stroke:var(--sc-font-color1);stroke-width:0.05;stroke-dasharray:0.2,0.2;}.sc-log-wrap{height:25ex;resize:vertical;overflow-y:scroll;display:flex;flex-direction:column-reverse;border:1px solid;border-color:var(--jp-border-color2);background-color:var(--sc-background-color1);}div.sc-log{line-height:2.5ex;}table.sc-log{table-layout:auto;border-collapse:collapse;}tr.sc-log:nth-child(even){background-color:var(--sc-background-color0);}tr.sc-log > td{vertical-align:top;padding-bottom:0.5ex;}.sc-log-time-stamp{min-width:22ch;font-family:var(--jp-code-font-family);color:var(--sc-font-color2);}.sc-log-level{min-width:10ch;}tr.sc-log-debug td.sc-log-level{color:var(--jp-accent-color1);}tr.sc-log-info td.sc-log-level{color:var(--jp-info-color1);}tr.sc-log-warning td.sc-log-level{color:var(--jp-warn-color1);}tr.sc-log-error td.sc-log-level{font-weight:bold;color:var(--jp-error-color2);}tr.sc-log-critical td.sc-log-level{font-weight:bold;color:var(--sc-background-color0);background-color:var(--jp-error-color1);}.sc-log-message{white-space:pre-wrap;width:100%;}.sc-log-html-payload{white-space:normal;}.sc-log-name{padding-right:0.5em;text-align:right;white-space:pre-wrap;color:var(--sc-font-color3);}</style><div class='sc-wrap sc-root'><div class='sc-header'><div class='sc-obj-type'>scipp.DataArray (13.08 KB)</div></div><ul class='sc-sections'><li class='sc-section-item'><input id='section-bca5027b-ec7e-4394-8581-1d061ee257fd' class='sc-section-summary-in' type='checkbox' disabled ><label for='section-bca5027b-ec7e-4394-8581-1d061ee257fd' class='sc-section-summary'  title='Expand/collapse section'>Dimensions:</label><div class='sc-section-inline-details'><ul class='sc-dim-list'><li><span class='sc-has-index'>Q</span>: 109</li><li><span class='sc-has-index'>wavelength</span>: 9</li></ul></div><div class='sc-section-details'></div></li><li class='sc-section-item'><input id='section-9c3e2785-d700-4b42-a0fc-9e06dd8a0556' class='sc-section-summary-in' type='checkbox'  checked><label for='section-9c3e2785-d700-4b42-a0fc-9e06dd8a0556' class='sc-section-summary' >Coordinates: <span>(10)</span></label><div class='sc-section-inline-details'></div><div class='sc-section-details'><ul class='sc-var-list'><li class='sc-var-item'><div class='sc-var-name'><span>L1</span></div><div class='sc-var-dims'>()</div><div class='sc-var-dtype'>float64</div><div class='sc-var-unit'>m</div><div class='sc-value-preview sc-preview'><span><div>25.61</div></span></div><input id='attrs-8f05ac2c-1eaf-43e7-b013-f77daa8fd8f1' class='sc-var-attrs-in' type='checkbox' disabled><label for='attrs-8f05ac2c-1eaf-43e7-b013-f77daa8fd8f1' class='sc-hide-icon' title='Show/Hide attributes'><svg class='icon sc-icon-file-text2'><use xlink:href='#icon-file-text2'></use></svg></label><input id='data-4fc4e210-10ce-4eca-8ef9-6def8467edb9' class='sc-var-data-in' type='checkbox'><label for='data-4fc4e210-10ce-4eca-8ef9-6def8467edb9' title='Show/Hide data repr'><svg class='icon sc-icon-database'><use xlink:href='#icon-database'></use></svg></label><pre class='sc-var-data'>Values:<br>array(25.61)</pre></span></li><li class='sc-var-item'><div class='sc-var-name'><span class='sc-aligned'>Q</span></div><div class='sc-var-dims'>(Q [bin-edge])</div><div class='sc-var-dtype'>float64</div><div class='sc-var-unit'>1/Å</div><div class='sc-value-preview sc-preview'><span><div>0.004, 0.008, ..., 0.396, 0.4</div></span></div><input id='attrs-72d43853-2155-4ae2-9c16-e66deeef1e99' class='sc-var-attrs-in' type='checkbox' disabled><label for='attrs-72d43853-2155-4ae2-9c16-e66deeef1e99' class='sc-hide-icon' title='Show/Hide attributes'><svg class='icon sc-icon-file-text2'><use xlink:href='#icon-file-text2'></use></svg></label><input id='data-468ed1af-c1c6-42e2-b4a0-146895333859' class='sc-var-data-in' type='checkbox'><label for='data-468ed1af-c1c6-42e2-b4a0-146895333859' title='Show/Hide data repr'><svg class='icon sc-icon-database'><use xlink:href='#icon-database'></use></svg></label><pre class='sc-var-data'>Values:<br>array([0.004     , 0.00763303, 0.01126606, 0.01489908, 0.01853211,\n",
       "       0.02216514, 0.02579817, 0.02943119, 0.03306422, 0.03669725,\n",
       "       0.04033028, 0.0439633 , 0.04759633, 0.05122936, 0.05486239,\n",
       "       0.05849541, 0.06212844, 0.06576147, 0.0693945 , 0.07302752,\n",
       "       0.07666055, 0.08029358, 0.08392661, 0.08755963, 0.09119266,\n",
       "       0.09482569, 0.09845872, 0.10209174, 0.10572477, 0.1093578 ,\n",
       "       0.11299083, 0.11662385, 0.12025688, 0.12388991, 0.12752294,\n",
       "       0.13115596, 0.13478899, 0.13842202, 0.14205505, 0.14568807,\n",
       "       0.1493211 , 0.15295413, 0.15658716, 0.16022018, 0.16385321,\n",
       "       0.16748624, 0.17111927, 0.17475229, 0.17838532, 0.18201835,\n",
       "       0.18565138, 0.1892844 , 0.19291743, 0.19655046, 0.20018349,\n",
       "       0.20381651, 0.20744954, 0.21108257, 0.2147156 , 0.21834862,\n",
       "       0.22198165, 0.22561468, 0.22924771, 0.23288073, 0.23651376,\n",
       "       0.24014679, 0.24377982, 0.24741284, 0.25104587, 0.2546789 ,\n",
       "       0.25831193, 0.26194495, 0.26557798, 0.26921101, 0.27284404,\n",
       "       0.27647706, 0.28011009, 0.28374312, 0.28737615, 0.29100917,\n",
       "       0.2946422 , 0.29827523, 0.30190826, 0.30554128, 0.30917431,\n",
       "       0.31280734, 0.31644037, 0.32007339, 0.32370642, 0.32733945,\n",
       "       0.33097248, 0.3346055 , 0.33823853, 0.34187156, 0.34550459,\n",
       "       0.34913761, 0.35277064, 0.35640367, 0.3600367 , 0.36366972,\n",
       "       0.36730275, 0.37093578, 0.37456881, 0.37820183, 0.38183486,\n",
       "       0.38546789, 0.38910092, 0.39273394, 0.39636697, 0.4       ])</pre></span></li><li class='sc-var-item'><div class='sc-var-name'><span>gravity</span></div><div class='sc-var-dims'>()</div><div class='sc-var-dtype'>vector3</div><div class='sc-var-unit'>m/s^2</div><div class='sc-value-preview sc-preview'><span><div>[ 0.      -9.80665  0.     ]</div></span></div><input id='attrs-dded7105-6a60-43b5-a64d-60f6dd857b67' class='sc-var-attrs-in' type='checkbox' disabled><label for='attrs-dded7105-6a60-43b5-a64d-60f6dd857b67' class='sc-hide-icon' title='Show/Hide attributes'><svg class='icon sc-icon-file-text2'><use xlink:href='#icon-file-text2'></use></svg></label><input id='data-7a9efc3f-3af0-456b-9fad-9a2a63f5bcd7' class='sc-var-data-in' type='checkbox'><label for='data-7a9efc3f-3af0-456b-9fad-9a2a63f5bcd7' title='Show/Hide data repr'><svg class='icon sc-icon-database'><use xlink:href='#icon-database'></use></svg></label><pre class='sc-var-data'>Values:<br>array([ 0.     , -9.80665,  0.     ])</pre></span></li><li class='sc-var-item'><div class='sc-var-name'><span>incident_beam</span></div><div class='sc-var-dims'>()</div><div class='sc-var-dtype'>vector3</div><div class='sc-var-unit'>m</div><div class='sc-value-preview sc-preview'><span><div>[ 0.    0.   25.61]</div></span></div><input id='attrs-86ba8cb1-8bdd-40f6-b406-ea0e388ae053' class='sc-var-attrs-in' type='checkbox' disabled><label for='attrs-86ba8cb1-8bdd-40f6-b406-ea0e388ae053' class='sc-hide-icon' title='Show/Hide attributes'><svg class='icon sc-icon-file-text2'><use xlink:href='#icon-file-text2'></use></svg></label><input id='data-c6a3e646-9b3d-463d-8f1c-28b1b0f7bda9' class='sc-var-data-in' type='checkbox'><label for='data-c6a3e646-9b3d-463d-8f1c-28b1b0f7bda9' title='Show/Hide data repr'><svg class='icon sc-icon-database'><use xlink:href='#icon-database'></use></svg></label><pre class='sc-var-data'>Values:<br>array([ 0.  ,  0.  , 25.61])</pre></span></li><li class='sc-var-item'><div class='sc-var-name'><span class='sc-aligned'>pixel_height</span></div><div class='sc-var-dims'>()</div><div class='sc-var-dtype'>float64</div><div class='sc-var-unit'>m</div><div class='sc-value-preview sc-preview'><span><div>4.144</div></span></div><input id='attrs-60694eeb-0790-4cf7-b131-66b9a5ad8901' class='sc-var-attrs-in' type='checkbox' disabled><label for='attrs-60694eeb-0790-4cf7-b131-66b9a5ad8901' class='sc-hide-icon' title='Show/Hide attributes'><svg class='icon sc-icon-file-text2'><use xlink:href='#icon-file-text2'></use></svg></label><input id='data-02ef55db-5a4e-4402-9ab5-e86d09e6bc19' class='sc-var-data-in' type='checkbox'><label for='data-02ef55db-5a4e-4402-9ab5-e86d09e6bc19' title='Show/Hide data repr'><svg class='icon sc-icon-database'><use xlink:href='#icon-database'></use></svg></label><pre class='sc-var-data'>Values:<br>array(4.144)</pre></span></li><li class='sc-var-item'><div class='sc-var-name'><span class='sc-aligned'>pixel_shape</span></div><div class='sc-var-dims'>()</div><div class='sc-var-dtype'>DatasetView</div><div class='sc-var-unit'></div><div class='sc-value-preview sc-preview'><span><div>binned data [len=1]</div></span></div><input id='attrs-a47a6745-92b1-4c53-89bb-94fe99d3a6d6' class='sc-var-attrs-in' type='checkbox' disabled><label for='attrs-a47a6745-92b1-4c53-89bb-94fe99d3a6d6' class='sc-hide-icon' title='Show/Hide attributes'><svg class='icon sc-icon-file-text2'><use xlink:href='#icon-file-text2'></use></svg></label><input id='data-4d3feec4-0498-4be3-8233-de0a36d57678' class='sc-var-data-in' type='checkbox'><label for='data-4d3feec4-0498-4be3-8233-de0a36d57678' title='Show/Hide data repr'><svg class='icon sc-icon-database'><use xlink:href='#icon-database'></use></svg></label><pre class='sc-var-data'>&lt;scipp.Variable&gt; ()  DatasetView        &lt;no unit&gt;  &lt;scipp.Dataset&gt;\n",
       "Dimensions: Sizes[cylinder:1, ]\n",
       "Data:\n",
       "  face1_center              vector3              [m]  (cylinder)  [(0, 0, 0)]\n",
       "  face1_edge                vector3              [m]  (cylinder)  [(0, -0.00257703, 0.00305923)]\n",
       "  face2_center              vector3              [m]  (cylinder)  [(0.00194919, 0, 0)]\n",
       "\n",
       "</pre></span></li><li class='sc-var-item'><div class='sc-var-name'><span class='sc-aligned'>pixel_width</span></div><div class='sc-var-dims'>()</div><div class='sc-var-dtype'>float64</div><div class='sc-var-unit'>m</div><div class='sc-value-preview sc-preview'><span><div>4.144</div></span></div><input id='attrs-b9376dab-661b-4354-b48f-dc45c41d674c' class='sc-var-attrs-in' type='checkbox' disabled><label for='attrs-b9376dab-661b-4354-b48f-dc45c41d674c' class='sc-hide-icon' title='Show/Hide attributes'><svg class='icon sc-icon-file-text2'><use xlink:href='#icon-file-text2'></use></svg></label><input id='data-22208e5a-61b3-408a-a010-585f258132ec' class='sc-var-data-in' type='checkbox'><label for='data-22208e5a-61b3-408a-a010-585f258132ec' title='Show/Hide data repr'><svg class='icon sc-icon-database'><use xlink:href='#icon-database'></use></svg></label><pre class='sc-var-data'>Values:<br>array(4.144)</pre></span></li><li class='sc-var-item'><div class='sc-var-name'><span>sample_position</span></div><div class='sc-var-dims'>()</div><div class='sc-var-dtype'>vector3</div><div class='sc-var-unit'>m</div><div class='sc-value-preview sc-preview'><span><div>[0. 0. 0.]</div></span></div><input id='attrs-51087e8e-bc5a-4664-99ed-ac3e746e17da' class='sc-var-attrs-in' type='checkbox' disabled><label for='attrs-51087e8e-bc5a-4664-99ed-ac3e746e17da' class='sc-hide-icon' title='Show/Hide attributes'><svg class='icon sc-icon-file-text2'><use xlink:href='#icon-file-text2'></use></svg></label><input id='data-d5fbfbac-6330-4765-be0d-dc7b330efbb9' class='sc-var-data-in' type='checkbox'><label for='data-d5fbfbac-6330-4765-be0d-dc7b330efbb9' title='Show/Hide data repr'><svg class='icon sc-icon-database'><use xlink:href='#icon-database'></use></svg></label><pre class='sc-var-data'>Values:<br>array([0., 0., 0.])</pre></span></li><li class='sc-var-item'><div class='sc-var-name'><span>source_position</span></div><div class='sc-var-dims'>()</div><div class='sc-var-dtype'>vector3</div><div class='sc-var-unit'>m</div><div class='sc-value-preview sc-preview'><span><div>[  0.     0.   -25.61]</div></span></div><input id='attrs-df622c46-53ea-49cf-832b-92aec6aa0515' class='sc-var-attrs-in' type='checkbox' disabled><label for='attrs-df622c46-53ea-49cf-832b-92aec6aa0515' class='sc-hide-icon' title='Show/Hide attributes'><svg class='icon sc-icon-file-text2'><use xlink:href='#icon-file-text2'></use></svg></label><input id='data-55cd8fb0-e474-444f-bcc2-9c3b6c0d7ab2' class='sc-var-data-in' type='checkbox'><label for='data-55cd8fb0-e474-444f-bcc2-9c3b6c0d7ab2' title='Show/Hide data repr'><svg class='icon sc-icon-database'><use xlink:href='#icon-database'></use></svg></label><pre class='sc-var-data'>Values:<br>array([  0.  ,   0.  , -25.61])</pre></span></li><li class='sc-var-item'><div class='sc-var-name'><span class='sc-aligned'>wavelength</span></div><div class='sc-var-dims'>(wavelength [bin-edge])</div><div class='sc-var-dtype'>float64</div><div class='sc-var-unit'>Å</div><div class='sc-value-preview sc-preview'><span><div>2.2, 3.289, ..., 10.911, 12.0</div></span></div><input id='attrs-be9cd0ac-f69d-43c0-bc07-c9ae6a936122' class='sc-var-attrs-in' type='checkbox' disabled><label for='attrs-be9cd0ac-f69d-43c0-bc07-c9ae6a936122' class='sc-hide-icon' title='Show/Hide attributes'><svg class='icon sc-icon-file-text2'><use xlink:href='#icon-file-text2'></use></svg></label><input id='data-4f3a6977-254a-4fe3-a468-f94d6566083f' class='sc-var-data-in' type='checkbox'><label for='data-4f3a6977-254a-4fe3-a468-f94d6566083f' title='Show/Hide data repr'><svg class='icon sc-icon-database'><use xlink:href='#icon-database'></use></svg></label><pre class='sc-var-data'>Values:<br>array([ 2.2       ,  3.28888889,  4.37777778,  5.46666667,  6.55555556,\n",
       "        7.64444444,  8.73333333,  9.82222222, 10.91111111, 12.        ])</pre></span></li></ul></div></li><li class='sc-section-item'><input id='section-ddafc15f-6a92-4259-a269-fc3b13164943' class='sc-section-summary-in' type='checkbox'  checked><label for='section-ddafc15f-6a92-4259-a269-fc3b13164943' class='sc-section-summary' >Data: <span>(1)</span></label><div class='sc-section-inline-details'></div><div class='sc-section-details'><ul class='sc-var-list'><li class='sc-var-item'><div class='sc-var-name'><span></span></div><div class='sc-var-dims'>(Q, wavelength)</div><div class='sc-var-dtype'>float32</div><div class='sc-var-unit'>counts</div><div class='sc-value-preview sc-preview'><span><div>0.0, 0.0, ..., 0.0, 0.0</div></span></div><input id='attrs-44dcf6a0-e755-4da7-9897-168fe269c6fe' class='sc-var-attrs-in' type='checkbox' disabled><label for='attrs-44dcf6a0-e755-4da7-9897-168fe269c6fe' class='sc-hide-icon' title='Show/Hide attributes'><svg class='icon sc-icon-file-text2'><use xlink:href='#icon-file-text2'></use></svg></label><input id='data-7fb64d8d-7bd0-4ef6-9985-b7b4eb9f7c4c' class='sc-var-data-in' type='checkbox'><label for='data-7fb64d8d-7bd0-4ef6-9985-b7b4eb9f7c4c' title='Show/Hide data repr'><svg class='icon sc-icon-database'><use xlink:href='#icon-database'></use></svg></label><pre class='sc-var-data'>Values:<br>array([[0.00000000e+00, 0.00000000e+00, 0.00000000e+00, 0.00000000e+00,\n",
       "        1.12449983e-09, 6.72996270e-10, 7.54016516e-10, 5.85114956e-10,\n",
       "        6.43008979e-10],\n",
       "       [0.00000000e+00, 0.00000000e+00, 1.13158793e-09, 7.68556829e-10,\n",
       "        8.16121948e-10, 6.33754438e-10, 7.10997039e-10, 5.48704415e-10,\n",
       "        6.10949513e-10],\n",
       "       [0.00000000e+00, 9.27179833e-10, 9.60167501e-10, 7.15324411e-10,\n",
       "        7.71284370e-10, 6.02958738e-10, 6.64637234e-10, 5.23078303e-10,\n",
       "        5.64131020e-10],\n",
       "       [1.99457406e-09, 8.52609483e-10, 8.69969818e-10, 6.49755749e-10,\n",
       "        7.07959746e-10, 5.48109835e-10, 6.11101891e-10, 4.77451023e-10,\n",
       "        5.24265797e-10],\n",
       "       [1.58039193e-09, 8.01665789e-10, 7.85630894e-10, 5.89804205e-10,\n",
       "        6.37134401e-10, 4.96337527e-10, 5.47864976e-10, 4.26412017e-10,\n",
       "        4.74384310e-10],\n",
       "       [1.35112033e-09, 7.09711900e-10, 7.00251690e-10, 5.22149712e-10,\n",
       "        5.71434289e-10, 4.45804449e-10, 4.89654206e-10, 3.85933674e-10,\n",
       "        4.27646751e-10],\n",
       "       [1.19459687e-09, 6.25145047e-10, 6.20030693e-10, 4.61203159e-10,\n",
       "        5.04496833e-10, 3.91839616e-10, 4.35873670e-10, 3.41566664e-10,\n",
       "        3.80654397e-10],\n",
       "       [1.07095832e-09, 5.55427315e-10, 5.41254874e-10, 4.05508294e-10,\n",
       "        4.47508031e-10, 3.44279577e-10, 3.83379439e-10, 3.02409459e-10,\n",
       "        3.34034495e-10],\n",
       "       [9.37208089e-10, 4.86299390e-10, 4.77353879e-10, 3.53623492e-10,\n",
       "        3.90411509e-10, 3.05206638e-10, 3.35185268e-10, 2.65572647e-10,\n",
       "        2.95795805e-10],\n",
       "       [8.19752433e-10, 4.24718288e-10, 4.13845264e-10, 3.12026321e-10,\n",
       "        3.42853773e-10, 2.67833838e-10, 2.94766017e-10, 2.31130795e-10,\n",
       "        2.60367616e-10],\n",
       "       [7.27654936e-10, 3.72186643e-10, 3.63559571e-10, 2.73632006e-10,\n",
       "        3.00232200e-10, 2.33282338e-10, 2.60805127e-10, 2.03319375e-10,\n",
       "        2.31281785e-10],\n",
       "       [6.39301168e-10, 3.27673333e-10, 3.18781113e-10, 2.39626680e-10,\n",
       "        2.64589850e-10, 2.06770809e-10, 2.27734456e-10, 1.83200052e-10,\n",
       "        2.03798117e-10],\n",
       "       [5.59997770e-10, 2.87610519e-10, 2.81721119e-10, 2.11700088e-10,\n",
       "        2.33224856e-10, 1.83336069e-10, 2.04856604e-10, 1.62422492e-10,\n",
       "        1.85672325e-10],\n",
       "       [4.95893382e-10, 2.55702570e-10, 2.50741622e-10, 1.87803093e-10,\n",
       "        2.08986467e-10, 1.63170893e-10, 1.81770030e-10, 1.45517653e-10,\n",
       "        1.65553057e-10],\n",
       "       [4.45092657e-10, 2.26828348e-10, 2.22904722e-10, 1.69010306e-10,\n",
       "        1.84473117e-10, 1.46138893e-10, 1.63583799e-10, 1.28344557e-10,\n",
       "        1.51415699e-10],\n",
       "       [4.04588668e-10, 2.02931297e-10, 2.02016751e-10, 1.50422383e-10,\n",
       "        1.64820296e-10, 1.31104488e-10, 1.48411963e-10, 1.18378723e-10,\n",
       "        1.43812171e-10],\n",
       "       [3.59133390e-10, 1.84668073e-10, 1.80342463e-10, 1.35897779e-10,\n",
       "        1.50525689e-10, 1.18567212e-10, 1.35933362e-10, 1.05294391e-10,\n",
       "        1.29822153e-10],\n",
       "       [3.22165822e-10, 1.66311923e-10, 1.62804839e-10, 1.21656754e-10,\n",
       "        1.37219403e-10, 1.08944680e-10, 1.21546107e-10, 9.75377418e-11,\n",
       "        1.19635815e-10],\n",
       "       [2.92695729e-10, 1.51020460e-10, 1.46680695e-10, 1.11212740e-10,\n",
       "        1.24448479e-10, 9.87630117e-11, 1.10457476e-10, 8.68029953e-11,\n",
       "        1.26314903e-10],\n",
       "       [2.69509387e-10, 1.38502057e-10, 1.34171535e-10, 1.02193712e-10,\n",
       "        1.14530704e-10, 8.86473048e-11, 1.07899176e-10, 8.03180508e-11,\n",
       "        1.57373836e-10],\n",
       "       [2.42581455e-10, 1.24723024e-10, 1.23962798e-10, 9.35924185e-11,\n",
       "        1.04631574e-10, 8.21570520e-11, 9.45321182e-11, 7.52758481e-11,\n",
       "        0.00000000e+00],\n",
       "       [2.27280347e-10, 1.15593868e-10, 1.12544127e-10, 8.52982962e-11,\n",
       "        9.66075206e-11, 7.87552107e-11, 9.28659580e-11, 5.55683485e-11,\n",
       "        0.00000000e+00],\n",
       "       [2.07104403e-10, 1.06868694e-10, 1.03684929e-10, 7.97656802e-11,\n",
       "        8.94638599e-11, 6.85831877e-11, 9.07399919e-11, 0.00000000e+00,\n",
       "        0.00000000e+00],\n",
       "       [1.92665689e-10, 9.87653362e-11, 9.70267408e-11, 7.30144140e-11,\n",
       "        8.31722469e-11, 6.31149646e-11, 9.59329768e-11, 0.00000000e+00,\n",
       "        0.00000000e+00],\n",
       "       [1.78064757e-10, 9.10771944e-11, 8.95007332e-11, 6.80791395e-11,\n",
       "        7.65631933e-11, 5.73208113e-11, 9.17313031e-11, 0.00000000e+00,\n",
       "        0.00000000e+00],\n",
       "       [1.66822306e-10, 8.52893173e-11, 8.32213881e-11, 6.32694452e-11,\n",
       "        7.25200316e-11, 5.23828932e-11, 0.00000000e+00, 0.00000000e+00,\n",
       "        0.00000000e+00],\n",
       "       [1.53816654e-10, 7.88824908e-11, 7.84538129e-11, 5.90193658e-11,\n",
       "        6.82890203e-11, 5.39952839e-11, 0.00000000e+00, 0.00000000e+00,\n",
       "        0.00000000e+00],\n",
       "       [1.43945730e-10, 7.42162928e-11, 7.26419688e-11, 5.49875631e-11,\n",
       "        6.40075076e-11, 4.51850155e-11, 0.00000000e+00, 0.00000000e+00,\n",
       "        0.00000000e+00],\n",
       "       [1.35528186e-10, 6.98373373e-11, 6.82290613e-11, 5.13536713e-11,\n",
       "        6.28658098e-11, 4.60284137e-11, 0.00000000e+00, 0.00000000e+00,\n",
       "        0.00000000e+00],\n",
       "       [1.26759422e-10, 6.53266122e-11, 6.37982306e-11, 4.78610276e-11,\n",
       "        5.86899487e-11, 0.00000000e+00, 0.00000000e+00, 0.00000000e+00,\n",
       "        0.00000000e+00],\n",
       "       [1.18328014e-10, 6.17571272e-11, 6.06690601e-11, 4.45129003e-11,\n",
       "        4.92177757e-11, 0.00000000e+00, 0.00000000e+00, 0.00000000e+00,\n",
       "        0.00000000e+00],\n",
       "       [1.11860514e-10, 5.86073620e-11, 5.72401015e-11, 4.12235454e-11,\n",
       "        6.20298188e-11, 0.00000000e+00, 0.00000000e+00, 0.00000000e+00,\n",
       "        0.00000000e+00],\n",
       "       [1.07511805e-10, 5.48797605e-11, 5.31946813e-11, 3.86683845e-11,\n",
       "        9.39147510e-11, 0.00000000e+00, 0.00000000e+00, 0.00000000e+00,\n",
       "        0.00000000e+00],\n",
       "       [1.01559337e-10, 5.26121958e-11, 5.06999477e-11, 3.54994333e-11,\n",
       "                   inf, 0.00000000e+00, 0.00000000e+00, 0.00000000e+00,\n",
       "        0.00000000e+00],\n",
       "       [9.53749787e-11, 4.99810887e-11, 4.82900490e-11, 3.43447354e-11,\n",
       "        0.00000000e+00, 0.00000000e+00, 0.00000000e+00, 0.00000000e+00,\n",
       "        0.00000000e+00],\n",
       "       [9.01780040e-11, 4.69858111e-11, 4.57351622e-11, 3.06179110e-11,\n",
       "        0.00000000e+00, 0.00000000e+00, 0.00000000e+00, 0.00000000e+00,\n",
       "        0.00000000e+00],\n",
       "       [8.60090818e-11, 4.44796318e-11, 4.24637651e-11, 2.64466955e-11,\n",
       "        0.00000000e+00, 0.00000000e+00, 0.00000000e+00, 0.00000000e+00,\n",
       "        0.00000000e+00],\n",
       "       [8.09534592e-11, 4.30551012e-11, 4.17955046e-11, 2.73971765e-11,\n",
       "        0.00000000e+00, 0.00000000e+00, 0.00000000e+00, 0.00000000e+00,\n",
       "        0.00000000e+00],\n",
       "       [7.80067469e-11, 4.05307177e-11, 3.96212230e-11, 2.33610926e-11,\n",
       "        0.00000000e+00, 0.00000000e+00, 0.00000000e+00, 0.00000000e+00,\n",
       "        0.00000000e+00],\n",
       "       [7.42710962e-11, 3.86269870e-11, 3.88667432e-11, 1.25211065e-11,\n",
       "        0.00000000e+00, 0.00000000e+00, 0.00000000e+00, 0.00000000e+00,\n",
       "        0.00000000e+00],\n",
       "       [7.03507669e-11, 3.66291442e-11, 3.75119172e-11, 0.00000000e+00,\n",
       "        0.00000000e+00, 0.00000000e+00, 0.00000000e+00, 0.00000000e+00,\n",
       "        0.00000000e+00],\n",
       "       [6.76773082e-11, 3.53424963e-11, 3.56433320e-11, 0.00000000e+00,\n",
       "        0.00000000e+00, 0.00000000e+00, 0.00000000e+00, 0.00000000e+00,\n",
       "        0.00000000e+00],\n",
       "       [6.45306378e-11, 3.36529242e-11, 3.45480658e-11, 0.00000000e+00,\n",
       "        0.00000000e+00, 0.00000000e+00, 0.00000000e+00, 0.00000000e+00,\n",
       "        0.00000000e+00],\n",
       "       [6.21508192e-11, 3.26842338e-11, 3.52175338e-11, 0.00000000e+00,\n",
       "        0.00000000e+00, 0.00000000e+00, 0.00000000e+00, 0.00000000e+00,\n",
       "        0.00000000e+00],\n",
       "       [5.94594998e-11, 3.08652132e-11, 3.26502853e-11, 0.00000000e+00,\n",
       "        0.00000000e+00, 0.00000000e+00, 0.00000000e+00, 0.00000000e+00,\n",
       "        0.00000000e+00],\n",
       "       [5.80165256e-11, 2.99426421e-11, 3.04635032e-11, 0.00000000e+00,\n",
       "        0.00000000e+00, 0.00000000e+00, 0.00000000e+00, 0.00000000e+00,\n",
       "        0.00000000e+00],\n",
       "       [5.52894501e-11, 2.94879121e-11, 3.17052773e-11, 0.00000000e+00,\n",
       "        0.00000000e+00, 0.00000000e+00, 0.00000000e+00, 0.00000000e+00,\n",
       "        0.00000000e+00],\n",
       "       [5.32917079e-11, 2.81000865e-11, 3.79716363e-11, 0.00000000e+00,\n",
       "        0.00000000e+00, 0.00000000e+00, 0.00000000e+00, 0.00000000e+00,\n",
       "        0.00000000e+00],\n",
       "       [5.20064478e-11, 2.71264625e-11, 3.18391667e-11, 0.00000000e+00,\n",
       "        0.00000000e+00, 0.00000000e+00, 0.00000000e+00, 0.00000000e+00,\n",
       "        0.00000000e+00],\n",
       "       [5.02381851e-11, 2.58052850e-11, 5.72212888e-10, 0.00000000e+00,\n",
       "        0.00000000e+00, 0.00000000e+00, 0.00000000e+00, 0.00000000e+00,\n",
       "        0.00000000e+00],\n",
       "       [4.86983683e-11, 2.43351138e-11, 0.00000000e+00, 0.00000000e+00,\n",
       "        0.00000000e+00, 0.00000000e+00, 0.00000000e+00, 0.00000000e+00,\n",
       "        0.00000000e+00],\n",
       "       [4.69009380e-11, 2.35342301e-11, 0.00000000e+00, 0.00000000e+00,\n",
       "        0.00000000e+00, 0.00000000e+00, 0.00000000e+00, 0.00000000e+00,\n",
       "        0.00000000e+00],\n",
       "       [4.58370876e-11, 2.09231278e-11, 0.00000000e+00, 0.00000000e+00,\n",
       "        0.00000000e+00, 0.00000000e+00, 0.00000000e+00, 0.00000000e+00,\n",
       "        0.00000000e+00],\n",
       "       [4.40413955e-11, 1.96883360e-11, 0.00000000e+00, 0.00000000e+00,\n",
       "        0.00000000e+00, 0.00000000e+00, 0.00000000e+00, 0.00000000e+00,\n",
       "        0.00000000e+00],\n",
       "       [4.24042260e-11, 2.02423252e-11, 0.00000000e+00, 0.00000000e+00,\n",
       "        0.00000000e+00, 0.00000000e+00, 0.00000000e+00, 0.00000000e+00,\n",
       "        0.00000000e+00],\n",
       "       [4.16525286e-11, 1.94899062e-11, 0.00000000e+00, 0.00000000e+00,\n",
       "        0.00000000e+00, 0.00000000e+00, 0.00000000e+00, 0.00000000e+00,\n",
       "        0.00000000e+00],\n",
       "       [4.03174820e-11, 1.76092405e-11, 0.00000000e+00, 0.00000000e+00,\n",
       "        0.00000000e+00, 0.00000000e+00, 0.00000000e+00, 0.00000000e+00,\n",
       "        0.00000000e+00],\n",
       "       [3.96169313e-11, 1.71462618e-11, 0.00000000e+00, 0.00000000e+00,\n",
       "        0.00000000e+00, 0.00000000e+00, 0.00000000e+00, 0.00000000e+00,\n",
       "        0.00000000e+00],\n",
       "       [3.80088738e-11, 1.75934840e-11, 0.00000000e+00, 0.00000000e+00,\n",
       "        0.00000000e+00, 0.00000000e+00, 0.00000000e+00, 0.00000000e+00,\n",
       "        0.00000000e+00],\n",
       "       [3.69675193e-11, 1.53950030e-11, 0.00000000e+00, 0.00000000e+00,\n",
       "        0.00000000e+00, 0.00000000e+00, 0.00000000e+00, 0.00000000e+00,\n",
       "        0.00000000e+00],\n",
       "       [3.65050386e-11, 1.36894263e-11, 0.00000000e+00, 0.00000000e+00,\n",
       "        0.00000000e+00, 0.00000000e+00, 0.00000000e+00, 0.00000000e+00,\n",
       "        0.00000000e+00],\n",
       "       [3.53898334e-11, 1.35400961e-11, 0.00000000e+00, 0.00000000e+00,\n",
       "        0.00000000e+00, 0.00000000e+00, 0.00000000e+00, 0.00000000e+00,\n",
       "        0.00000000e+00],\n",
       "       [3.50512119e-11, 1.20570090e-11, 0.00000000e+00, 0.00000000e+00,\n",
       "        0.00000000e+00, 0.00000000e+00, 0.00000000e+00, 0.00000000e+00,\n",
       "        0.00000000e+00],\n",
       "       [3.46150469e-11, 8.70716086e-12, 0.00000000e+00, 0.00000000e+00,\n",
       "        0.00000000e+00, 0.00000000e+00, 0.00000000e+00, 0.00000000e+00,\n",
       "        0.00000000e+00],\n",
       "       [3.33141986e-11, 9.05212797e-12, 0.00000000e+00, 0.00000000e+00,\n",
       "        0.00000000e+00, 0.00000000e+00, 0.00000000e+00, 0.00000000e+00,\n",
       "        0.00000000e+00],\n",
       "       [3.25747623e-11, 6.25980084e-12, 0.00000000e+00, 0.00000000e+00,\n",
       "        0.00000000e+00, 0.00000000e+00, 0.00000000e+00, 0.00000000e+00,\n",
       "        0.00000000e+00],\n",
       "       [3.31340788e-11, 6.99627509e-12, 0.00000000e+00, 0.00000000e+00,\n",
       "        0.00000000e+00, 0.00000000e+00, 0.00000000e+00, 0.00000000e+00,\n",
       "        0.00000000e+00],\n",
       "       [3.21708389e-11, 0.00000000e+00, 0.00000000e+00, 0.00000000e+00,\n",
       "        0.00000000e+00, 0.00000000e+00, 0.00000000e+00, 0.00000000e+00,\n",
       "        0.00000000e+00],\n",
       "       [3.22631505e-11, 0.00000000e+00, 0.00000000e+00, 0.00000000e+00,\n",
       "        0.00000000e+00, 0.00000000e+00, 0.00000000e+00, 0.00000000e+00,\n",
       "        0.00000000e+00],\n",
       "       [3.04609740e-11, 0.00000000e+00, 0.00000000e+00, 0.00000000e+00,\n",
       "        0.00000000e+00, 0.00000000e+00, 0.00000000e+00, 0.00000000e+00,\n",
       "        0.00000000e+00],\n",
       "       [3.14234645e-11, 0.00000000e+00, 0.00000000e+00, 0.00000000e+00,\n",
       "        0.00000000e+00, 0.00000000e+00, 0.00000000e+00, 0.00000000e+00,\n",
       "        0.00000000e+00],\n",
       "       [3.11189789e-11, 0.00000000e+00, 0.00000000e+00, 0.00000000e+00,\n",
       "        0.00000000e+00, 0.00000000e+00, 0.00000000e+00, 0.00000000e+00,\n",
       "        0.00000000e+00],\n",
       "       [3.08319516e-11, 0.00000000e+00, 0.00000000e+00, 0.00000000e+00,\n",
       "        0.00000000e+00, 0.00000000e+00, 0.00000000e+00, 0.00000000e+00,\n",
       "        0.00000000e+00],\n",
       "       [2.98540220e-11, 0.00000000e+00, 0.00000000e+00, 0.00000000e+00,\n",
       "        0.00000000e+00, 0.00000000e+00, 0.00000000e+00, 0.00000000e+00,\n",
       "        0.00000000e+00],\n",
       "       [3.02092691e-11, 0.00000000e+00, 0.00000000e+00, 0.00000000e+00,\n",
       "        0.00000000e+00, 0.00000000e+00, 0.00000000e+00, 0.00000000e+00,\n",
       "        0.00000000e+00],\n",
       "       [2.89411117e-11, 0.00000000e+00, 0.00000000e+00, 0.00000000e+00,\n",
       "        0.00000000e+00, 0.00000000e+00, 0.00000000e+00, 0.00000000e+00,\n",
       "        0.00000000e+00],\n",
       "       [2.85492584e-11, 0.00000000e+00, 0.00000000e+00, 0.00000000e+00,\n",
       "        0.00000000e+00, 0.00000000e+00, 0.00000000e+00, 0.00000000e+00,\n",
       "        0.00000000e+00],\n",
       "       [2.82635113e-11, 0.00000000e+00, 0.00000000e+00, 0.00000000e+00,\n",
       "        0.00000000e+00, 0.00000000e+00, 0.00000000e+00, 0.00000000e+00,\n",
       "        0.00000000e+00],\n",
       "       [2.93399680e-11, 0.00000000e+00, 0.00000000e+00, 0.00000000e+00,\n",
       "        0.00000000e+00, 0.00000000e+00, 0.00000000e+00, 0.00000000e+00,\n",
       "        0.00000000e+00],\n",
       "       [2.70818021e-11, 0.00000000e+00, 0.00000000e+00, 0.00000000e+00,\n",
       "        0.00000000e+00, 0.00000000e+00, 0.00000000e+00, 0.00000000e+00,\n",
       "        0.00000000e+00],\n",
       "       [2.72179345e-11, 0.00000000e+00, 0.00000000e+00, 0.00000000e+00,\n",
       "        0.00000000e+00, 0.00000000e+00, 0.00000000e+00, 0.00000000e+00,\n",
       "        0.00000000e+00],\n",
       "       [2.93857924e-11, 0.00000000e+00, 0.00000000e+00, 0.00000000e+00,\n",
       "        0.00000000e+00, 0.00000000e+00, 0.00000000e+00, 0.00000000e+00,\n",
       "        0.00000000e+00],\n",
       "       [2.86042856e-11, 0.00000000e+00, 0.00000000e+00, 0.00000000e+00,\n",
       "        0.00000000e+00, 0.00000000e+00, 0.00000000e+00, 0.00000000e+00,\n",
       "        0.00000000e+00],\n",
       "       [2.93116330e-11, 0.00000000e+00, 0.00000000e+00, 0.00000000e+00,\n",
       "        0.00000000e+00, 0.00000000e+00, 0.00000000e+00, 0.00000000e+00,\n",
       "        0.00000000e+00],\n",
       "       [2.72244952e-11, 0.00000000e+00, 0.00000000e+00, 0.00000000e+00,\n",
       "        0.00000000e+00, 0.00000000e+00, 0.00000000e+00, 0.00000000e+00,\n",
       "        0.00000000e+00],\n",
       "       [2.74829187e-11, 0.00000000e+00, 0.00000000e+00, 0.00000000e+00,\n",
       "        0.00000000e+00, 0.00000000e+00, 0.00000000e+00, 0.00000000e+00,\n",
       "        0.00000000e+00],\n",
       "       [2.60382410e-11, 0.00000000e+00, 0.00000000e+00, 0.00000000e+00,\n",
       "        0.00000000e+00, 0.00000000e+00, 0.00000000e+00, 0.00000000e+00,\n",
       "        0.00000000e+00],\n",
       "       [2.54102000e-11, 0.00000000e+00, 0.00000000e+00, 0.00000000e+00,\n",
       "        0.00000000e+00, 0.00000000e+00, 0.00000000e+00, 0.00000000e+00,\n",
       "        0.00000000e+00],\n",
       "       [2.96998155e-11, 0.00000000e+00, 0.00000000e+00, 0.00000000e+00,\n",
       "        0.00000000e+00, 0.00000000e+00, 0.00000000e+00, 0.00000000e+00,\n",
       "        0.00000000e+00],\n",
       "       [2.59132264e-11, 0.00000000e+00, 0.00000000e+00, 0.00000000e+00,\n",
       "        0.00000000e+00, 0.00000000e+00, 0.00000000e+00, 0.00000000e+00,\n",
       "        0.00000000e+00],\n",
       "       [2.60261691e-11, 0.00000000e+00, 0.00000000e+00, 0.00000000e+00,\n",
       "        0.00000000e+00, 0.00000000e+00, 0.00000000e+00, 0.00000000e+00,\n",
       "        0.00000000e+00],\n",
       "       [2.34580584e-11, 0.00000000e+00, 0.00000000e+00, 0.00000000e+00,\n",
       "        0.00000000e+00, 0.00000000e+00, 0.00000000e+00, 0.00000000e+00,\n",
       "        0.00000000e+00],\n",
       "       [2.81363509e-11, 0.00000000e+00, 0.00000000e+00, 0.00000000e+00,\n",
       "        0.00000000e+00, 0.00000000e+00, 0.00000000e+00, 0.00000000e+00,\n",
       "        0.00000000e+00],\n",
       "       [3.16842039e-11, 0.00000000e+00, 0.00000000e+00, 0.00000000e+00,\n",
       "        0.00000000e+00, 0.00000000e+00, 0.00000000e+00, 0.00000000e+00,\n",
       "        0.00000000e+00],\n",
       "       [2.78991014e-11, 0.00000000e+00, 0.00000000e+00, 0.00000000e+00,\n",
       "        0.00000000e+00, 0.00000000e+00, 0.00000000e+00, 0.00000000e+00,\n",
       "        0.00000000e+00],\n",
       "       [3.04054802e-11, 0.00000000e+00, 0.00000000e+00, 0.00000000e+00,\n",
       "        0.00000000e+00, 0.00000000e+00, 0.00000000e+00, 0.00000000e+00,\n",
       "        0.00000000e+00],\n",
       "       [8.65040747e-11, 0.00000000e+00, 0.00000000e+00, 0.00000000e+00,\n",
       "        0.00000000e+00, 0.00000000e+00, 0.00000000e+00, 0.00000000e+00,\n",
       "        0.00000000e+00],\n",
       "       [           nan, 0.00000000e+00, 0.00000000e+00, 0.00000000e+00,\n",
       "        0.00000000e+00, 0.00000000e+00, 0.00000000e+00, 0.00000000e+00,\n",
       "        0.00000000e+00],\n",
       "       [           nan, 0.00000000e+00, 0.00000000e+00, 0.00000000e+00,\n",
       "        0.00000000e+00, 0.00000000e+00, 0.00000000e+00, 0.00000000e+00,\n",
       "        0.00000000e+00],\n",
       "       [           nan, 0.00000000e+00, 0.00000000e+00, 0.00000000e+00,\n",
       "        0.00000000e+00, 0.00000000e+00, 0.00000000e+00, 0.00000000e+00,\n",
       "        0.00000000e+00],\n",
       "       [0.00000000e+00, 0.00000000e+00, 0.00000000e+00, 0.00000000e+00,\n",
       "        0.00000000e+00, 0.00000000e+00, 0.00000000e+00, 0.00000000e+00,\n",
       "        0.00000000e+00],\n",
       "       [0.00000000e+00, 0.00000000e+00, 0.00000000e+00, 0.00000000e+00,\n",
       "        0.00000000e+00, 0.00000000e+00, 0.00000000e+00, 0.00000000e+00,\n",
       "        0.00000000e+00],\n",
       "       [0.00000000e+00, 0.00000000e+00, 0.00000000e+00, 0.00000000e+00,\n",
       "        0.00000000e+00, 0.00000000e+00, 0.00000000e+00, 0.00000000e+00,\n",
       "        0.00000000e+00],\n",
       "       [0.00000000e+00, 0.00000000e+00, 0.00000000e+00, 0.00000000e+00,\n",
       "        0.00000000e+00, 0.00000000e+00, 0.00000000e+00, 0.00000000e+00,\n",
       "        0.00000000e+00],\n",
       "       [0.00000000e+00, 0.00000000e+00, 0.00000000e+00, 0.00000000e+00,\n",
       "        0.00000000e+00, 0.00000000e+00, 0.00000000e+00, 0.00000000e+00,\n",
       "        0.00000000e+00],\n",
       "       [0.00000000e+00, 0.00000000e+00, 0.00000000e+00, 0.00000000e+00,\n",
       "        0.00000000e+00, 0.00000000e+00, 0.00000000e+00, 0.00000000e+00,\n",
       "        0.00000000e+00],\n",
       "       [0.00000000e+00, 0.00000000e+00, 0.00000000e+00, 0.00000000e+00,\n",
       "        0.00000000e+00, 0.00000000e+00, 0.00000000e+00, 0.00000000e+00,\n",
       "        0.00000000e+00],\n",
       "       [0.00000000e+00, 0.00000000e+00, 0.00000000e+00, 0.00000000e+00,\n",
       "        0.00000000e+00, 0.00000000e+00, 0.00000000e+00, 0.00000000e+00,\n",
       "        0.00000000e+00],\n",
       "       [0.00000000e+00, 0.00000000e+00, 0.00000000e+00, 0.00000000e+00,\n",
       "        0.00000000e+00, 0.00000000e+00, 0.00000000e+00, 0.00000000e+00,\n",
       "        0.00000000e+00]], dtype=float32)</pre></li></ul></div></li><li class='sc-section-item'><input id='section-5bb7a384-55c1-4dc9-8fbd-1c06e16abdee' class='sc-section-summary-in' type='checkbox'  checked><label for='section-5bb7a384-55c1-4dc9-8fbd-1c06e16abdee' class='sc-section-summary' >Attributes: <span>(5)</span></label><div class='sc-section-inline-details'></div><div class='sc-section-details'><ul class='sc-var-list'><li class='sc-var-item'><div class='sc-var-name'><span>end_time</span></div><div class='sc-var-dims'>()</div><div class='sc-var-dtype'>string</div><div class='sc-var-unit'></div><div class='sc-value-preview sc-preview'><span><div>2032-02-29T09:15:00.000Z</div></span></div><input id='attrs-af45533b-776c-4b78-8b6d-d5d616f296fe' class='sc-var-attrs-in' type='checkbox' disabled><label for='attrs-af45533b-776c-4b78-8b6d-d5d616f296fe' class='sc-hide-icon' title='Show/Hide attributes'><svg class='icon sc-icon-file-text2'><use xlink:href='#icon-file-text2'></use></svg></label><input id='data-3985a66d-8818-4f52-97ed-9d4c91ed50c0' class='sc-var-data-in' type='checkbox'><label for='data-3985a66d-8818-4f52-97ed-9d4c91ed50c0' title='Show/Hide data repr'><svg class='icon sc-icon-database'><use xlink:href='#icon-database'></use></svg></label><pre class='sc-var-data'>Values:<br>&#x27;2032-02-29T09:15:00.000Z&#x27;</pre></li><li class='sc-var-item'><div class='sc-var-name'><span>experiment_title</span></div><div class='sc-var-dims'>()</div><div class='sc-var-dtype'>string</div><div class='sc-var-unit'></div><div class='sc-value-preview sc-preview'><span><div>My experiment</div></span></div><input id='attrs-7c3d28a3-b82e-4350-9a88-9994f72944ee' class='sc-var-attrs-in' type='checkbox' disabled><label for='attrs-7c3d28a3-b82e-4350-9a88-9994f72944ee' class='sc-hide-icon' title='Show/Hide attributes'><svg class='icon sc-icon-file-text2'><use xlink:href='#icon-file-text2'></use></svg></label><input id='data-59f1f8af-7f55-47f4-b1a2-16d5a01cb25e' class='sc-var-data-in' type='checkbox'><label for='data-59f1f8af-7f55-47f4-b1a2-16d5a01cb25e' title='Show/Hide data repr'><svg class='icon sc-icon-database'><use xlink:href='#icon-database'></use></svg></label><pre class='sc-var-data'>Values:<br>&#x27;My experiment&#x27;</pre></li><li class='sc-var-item'><div class='sc-var-name'><span>position_transformations</span></div><div class='sc-var-dims'>()</div><div class='sc-var-dtype'>Variable</div><div class='sc-var-unit'></div><div class='sc-value-preview sc-preview'><span><div>&lt;scipp.Variable&gt; ()  translation3              [m]  (-0.499023, 0.43556, 4.099)</div></span></div><input id='attrs-10410cd9-21aa-4411-84d1-7612db34f756' class='sc-var-attrs-in' type='checkbox' disabled><label for='attrs-10410cd9-21aa-4411-84d1-7612db34f756' class='sc-hide-icon' title='Show/Hide attributes'><svg class='icon sc-icon-file-text2'><use xlink:href='#icon-file-text2'></use></svg></label><input id='data-11966792-9292-429b-ba4b-c5525db17db9' class='sc-var-data-in' type='checkbox'><label for='data-11966792-9292-429b-ba4b-c5525db17db9' title='Show/Hide data repr'><svg class='icon sc-icon-database'><use xlink:href='#icon-database'></use></svg></label><pre class='sc-var-data'>Values:<br>&lt;scipp.Variable&gt; ()  translation3              [m]  (-0.499023, 0.43556, 4.099)</pre></li><li class='sc-var-item'><div class='sc-var-name'><span>source</span></div><div class='sc-var-dims'>()</div><div class='sc-var-dtype'>PyObject</div><div class='sc-var-unit'></div><div class='sc-value-preview sc-preview'><span><div>DataGroup(sizes={}, keys=[&#x27;name&#x27;, &#x27;probe&#x27;, &#x27;type&#x27;, &#x27;depends_on&#x27;])</div></span></div><input id='attrs-9c49a0ad-5284-4610-9513-4e03e996f47e' class='sc-var-attrs-in' type='checkbox' disabled><label for='attrs-9c49a0ad-5284-4610-9513-4e03e996f47e' class='sc-hide-icon' title='Show/Hide attributes'><svg class='icon sc-icon-file-text2'><use xlink:href='#icon-file-text2'></use></svg></label><input id='data-15526465-9ded-41b9-9ccc-a25f55035495' class='sc-var-data-in' type='checkbox'><label for='data-15526465-9ded-41b9-9ccc-a25f55035495' title='Show/Hide data repr'><svg class='icon sc-icon-database'><use xlink:href='#icon-database'></use></svg></label><pre class='sc-var-data'>Values:<br>DataGroup(sizes={}, keys=[\n",
       "    name: moderato,\n",
       "    probe: neutro,\n",
       "    type: Spallation Neutron Sourc,\n",
       "    depends_on: Variable({}),\n",
       "])</pre></li><li class='sc-var-item'><div class='sc-var-name'><span>start_time</span></div><div class='sc-var-dims'>()</div><div class='sc-var-dtype'>string</div><div class='sc-var-unit'></div><div class='sc-value-preview sc-preview'><span><div>2022-02-28T21:15:00.000Z</div></span></div><input id='attrs-34033763-b19d-413e-b24b-209e50ae49e1' class='sc-var-attrs-in' type='checkbox' disabled><label for='attrs-34033763-b19d-413e-b24b-209e50ae49e1' class='sc-hide-icon' title='Show/Hide attributes'><svg class='icon sc-icon-file-text2'><use xlink:href='#icon-file-text2'></use></svg></label><input id='data-e7fa4400-929d-4a40-ac44-ddef7054fce4' class='sc-var-data-in' type='checkbox'><label for='data-e7fa4400-929d-4a40-ac44-ddef7054fce4' title='Show/Hide data repr'><svg class='icon sc-icon-database'><use xlink:href='#icon-database'></use></svg></label><pre class='sc-var-data'>Values:<br>&#x27;2022-02-28T21:15:00.000Z&#x27;</pre></li></ul></div></li></ul></div></div>"
      ],
      "text/plain": [
       "<scipp.DataArray>\n",
       "Dimensions: Sizes[Q:109, wavelength:9, ]\n",
       "Coordinates:\n",
       "  L1                        float64              [m]  ()  25.61\n",
       "* Q                         float64           [1/Å]  (Q [bin-edge])  [0.004, 0.00763303, ..., 0.396367, 0.4]\n",
       "  gravity                   vector3          [m/s^2]  ()  (0, -9.80665, 0)\n",
       "  incident_beam             vector3              [m]  ()  (0, 0, 25.61)\n",
       "* pixel_height              float64              [m]  ()  4.144\n",
       "* pixel_shape             DatasetView        <no unit>  ()  <scipp.Dataset>\n",
       "Dimensions: Sizes[cylinder:1, ]\n",
       "Data:\n",
       "  face1_center              vector3              [m]  (cylinder)  [(0, 0, 0)]\n",
       "  face1_edge                vector3              [m]  (cylinder)  [(0, -0.00257703, 0.00305923)]\n",
       "  face2_center              vector3              [m]  (cylinder)  [(0.00194919, 0, 0)]\n",
       "\n",
       "\n",
       "* pixel_width               float64              [m]  ()  4.144\n",
       "  sample_position           vector3              [m]  ()  (0, 0, 0)\n",
       "  source_position           vector3              [m]  ()  (0, 0, -25.61)\n",
       "* wavelength                float64             [Å]  (wavelength [bin-edge])  [2.2, 3.28889, ..., 10.9111, 12]\n",
       "Data:\n",
       "                            float32         [counts]  (Q, wavelength)  [0, 0, ..., 0, 0]\n",
       "Attributes:\n",
       "  end_time                   string        <no unit>  ()  \"2032-02-29T09:15:00.000Z\"\n",
       "  experiment_title           string        <no unit>  ()  \"My experiment\"\n",
       "  position_transformations Variable        <no unit>  ()  Variable(dims=(), dtype=translation3, unit=m)\n",
       "  source                   PyObject        <no unit>  ()  DataGroup(sizes={}, keys=['name', 'probe', 'type', 'depends_on'])\n",
       "  start_time                 string        <no unit>  ()  \"2022-02-28T21:15:00.000Z\"\n"
      ]
     },
     "execution_count": 41,
     "metadata": {},
     "output_type": "execute_result"
    }
   ],
   "source": [
    "wavelength_bands = sc.linspace(dim='wavelength', start=2.2, stop=12.0, num=10,\n",
    "                               unit='angstrom')\n",
    "\n",
    "sample_slices = sans.to_I_of_Q(data=ds['sample'],\n",
    "    data_monitors=sample_monitors,\n",
    "    direct_monitors=sample_monitors,\n",
    "    direct_beam=direct_beam,\n",
    "    wavelength_bins=wavelength_bins,\n",
    "    q_bins=q_bins,\n",
    "    gravity=gravity,\n",
    "    wavelength_bands=wavelength_bands,\n",
    "    wavelength_mask=wavelength_mask)\n",
    "\n",
    "background_slices = sans.to_I_of_Q(data=ds['background'],\n",
    "    data_monitors=background_monitors,\n",
    "    direct_monitors=background_monitors,\n",
    "    direct_beam=direct_beam,\n",
    "    wavelength_bins=wavelength_bins,\n",
    "    q_bins=q_bins,\n",
    "    gravity=gravity,\n",
    "    wavelength_bands=wavelength_bands,\n",
    "    wavelength_mask=wavelength_mask)\n",
    "\n",
    "result_slices = sample_slices.bins.sum() - background_slices.bins.sum()\n",
    "result_slices"
   ]
  },
  {
   "cell_type": "code",
   "execution_count": 42,
   "id": "60c03e8c-4533-471e-8483-3c0c555fae7d",
   "metadata": {},
   "outputs": [
    {
     "data": {
      "application/vnd.jupyter.widget-view+json": {
       "model_id": "7b8275f9d5db40f1b7b6ddd71ff0ef40",
       "version_major": 2,
       "version_minor": 0
      },
      "text/plain": [
       "InteractiveFig(children=(HBar(), HBox(children=(VBar(children=(Toolbar(children=(ButtonTool(icon='home', layou…"
      ]
     },
     "execution_count": 42,
     "metadata": {},
     "output_type": "execute_result"
    },
    {
     "data": {
      "application/vnd.jupyter.widget-view+json": {
       "model_id": "7357a28281894b32b322be9383cdf3de",
       "version_major": 2,
       "version_minor": 0
      },
      "image/png": "[encoded data removed]",
      "text/html": [
       "\n",
       "            <div style=\"display: inline-block;\">\n",
       "                <div class=\"jupyter-widgets widget-label\" style=\"text-align: center;\">\n",
       "                    Figure\n",
       "                </div>\n",
       "                <img src='data:image/png;base64,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' width=1000.0/>\n",
       "            </div>\n",
       "        "
      ],
      "text/plain": [
       "Canvas(toolbar=Toolbar(toolitems=[('Home', 'Reset original view', 'home', 'home'), ('Back', 'Back to previous …"
      ]
     },
     "metadata": {},
     "output_type": "display_data"
    }
   ],
   "source": [
    "collapsed = sc.collapse(result_slices, keep='Q')\n",
    "\n",
    "fig2, ax2 = plt.subplots(1, 2, figsize=(10, 4))\n",
    "sc.plot(collapsed, ax=ax2[0])\n",
    "sc.plot(collapsed, norm='log', ax=ax2[1])\n"
   ]
  },
  {
   "cell_type": "markdown",
   "id": "e4169420-cf1a-4a45-a1f9-f36f00e7ee12",
   "metadata": {},
   "source": [
    "### Comparison with Mantid for a single slice\n",
    "- First denominator\n",
    "- Then slice"
   ]
  },
  {
   "cell_type": "code",
   "execution_count": 43,
   "id": "9cffccb3-403e-4a1f-a8fe-68ca1b9e9e91",
   "metadata": {},
   "outputs": [
    {
     "name": "stderr",
     "output_type": "stream",
     "text": [
      "An interpolation was performed on the direct_beam function. The variances in the direct_beam function have been dropped.\n"
     ]
    }
   ],
   "source": [
    "#Calculating denominator for a slice\n",
    "graph = sans.conversions.sans_elastic(gravity=gravity)\n",
    "direct_beam = sans.i_of_q.resample_direct_beam(\n",
    "         direct_beam=direct_beam, wavelength_bins=wavelength_bins)\n",
    "\n",
    "denominator_wav = sans.normalization.iofq_denominator(\n",
    "    data=ds['sample'],\n",
    "    data_transmission_monitor=sample_monitors['transmission'],\n",
    "    direct_incident_monitor=empty_beam_monitors['incident'],\n",
    "    direct_transmission_monitor=empty_beam_monitors['transmission'],\n",
    "    direct_beam=direct_beam\n",
    ")\n",
    "\n",
    "# Insert a copy of coords needed for conversion to Q.\n",
    "# TODO: can this be avoided by copying the Q coords from the converted numerator?\n",
    "for coord in ['position', 'sample_position', 'source_position']:\n",
    "    denominator_wav.coords[coord] = ds['sample'].meta[coord]\n",
    "\n",
    "\n",
    "denominator_q_bands = sans.i_of_q.convert_to_q_and_merge_spectra(\n",
    "        data=denominator_wav,\n",
    "        graph=graph,\n",
    "        wavelength_bands=wavelength_bands,\n",
    "        q_bins=q_bins,\n",
    "        gravity=gravity,\n",
    "    )"
   ]
  },
  {
   "cell_type": "code",
   "execution_count": 44,
   "id": "25ecb231-586c-41f6-8c13-90c381b9078e",
   "metadata": {},
   "outputs": [
    {
     "name": "stdout",
     "output_type": "stream",
     "text": [
      "Load-[Notice] Load started\n",
      "ISISRunLogs-[Warning] Cannot find period log. Logs will be not be filtered by current period\n",
      "ISISRunLogs-[Warning] Cannot find periods log. Logs will be not be filtered by current period\n",
      "Load-[Notice] Load successful, Duration 0.75 seconds\n",
      "DeleteWorkspace-[Notice] DeleteWorkspace started\n",
      "DeleteWorkspace-[Notice] DeleteWorkspace successful, Duration 0.00 seconds\n"
     ]
    }
   ],
   "source": [
    "mantid_denominator_band_1 = scn.load(f'{path}/denominator_2-3.18_sa.nxs')\n",
    "mantid_denominator_band_1.data.unit = 'dimensionless'"
   ]
  },
  {
   "cell_type": "code",
   "execution_count": 45,
   "id": "7ae1a9f4-8f4d-422c-b8b4-c0d9364095d7",
   "metadata": {},
   "outputs": [
    {
     "data": {
      "application/vnd.jupyter.widget-view+json": {
       "model_id": "a8c5ba31412f485d857f675ad97933bb",
       "version_major": 2,
       "version_minor": 0
      },
      "text/plain": [
       "InteractiveFig(children=(HBar(), HBox(children=(VBar(children=(Toolbar(children=(ButtonTool(icon='home', layou…"
      ]
     },
     "execution_count": 45,
     "metadata": {},
     "output_type": "execute_result"
    }
   ],
   "source": [
    "sc.plot({'scipp denominator': 3.4e-8*denominator_q_bands['wavelength', 0], \n",
    "         'mantid denominator' :  8.7e8*mantid_denominator_band_1})"
   ]
  },
  {
   "cell_type": "code",
   "execution_count": 46,
   "id": "ace6ebd7-ae8f-4259-9534-e286d1e1a6b6",
   "metadata": {},
   "outputs": [
    {
     "name": "stdout",
     "output_type": "stream",
     "text": [
      "Load-[Notice] Load started\n",
      "ISISRunLogs-[Warning] Cannot find period log. Logs will be not be filtered by current period\n",
      "ISISRunLogs-[Warning] Cannot find periods log. Logs will be not be filtered by current period\n",
      "Load-[Notice] Load successful, Duration 0.70 seconds\n",
      "DeleteWorkspace-[Notice] DeleteWorkspace started\n",
      "DeleteWorkspace-[Notice] DeleteWorkspace successful, Duration 0.00 seconds\n"
     ]
    }
   ],
   "source": [
    "mantid_slice_0 = scn.load(f'{path}/ISIS_polymer_slice_0.nxs')"
   ]
  },
  {
   "cell_type": "code",
   "execution_count": 47,
   "id": "3f369797-0223-43be-9c93-3eac72c96a79",
   "metadata": {},
   "outputs": [
    {
     "data": {
      "application/vnd.jupyter.widget-view+json": {
       "model_id": "b6375eae1e9244cca5f5f768532f863a",
       "version_major": 2,
       "version_minor": 0
      },
      "text/plain": [
       "InteractiveFig(children=(HBar(), HBox(children=(VBar(children=(Toolbar(children=(ButtonTool(icon='home', layou…"
      ]
     },
     "execution_count": 47,
     "metadata": {},
     "output_type": "execute_result"
    }
   ],
   "source": [
    "result_slices['wavelength', 0].plot()\n",
    "sc.plot({'scipp slice 0': result_slices['wavelength', 0], \n",
    "         'mantid slice 0':  5e-17*mantid_slice_0})"
   ]
  },
  {
   "cell_type": "markdown",
   "id": "99eb897c-416e-479b-b714-4421149ca8f7",
   "metadata": {},
   "source": [
    "## Adding reduced data to scicat"
   ]
  },
  {
   "cell_type": "code",
   "execution_count": 48,
   "id": "7fc4bc46-a92b-4b1f-926b-f2adb4bb8c19",
   "metadata": {},
   "outputs": [],
   "source": [
    "\n",
    "\n",
    "# reduced = sample_local.derive()\n",
    "\n",
    "# reduced.add_local_files('./offspec.ort', base_path='.')\n",
    "# reduced.contact_email = 'andrew.mccluskey@ess.eu'\n",
    "# reduced.input_datasets.append(direct_beam_local.pid)\n",
    "# reduced.name = 'Reduced reflectometry data from QCS sample'\n",
    "# reduced.used_software = ['scipp-23.01.1']\n",
    "# reduced.investigator = 'Andrew R. McCluskey'\n",
    "# reduced.owner_group = sample_local.owner_group\n",
    "\n",
    "# reduced_up = client.upload_new_dataset_now(reduced)\n",
    "\n"
   ]
  },
  {
   "cell_type": "code",
   "execution_count": 49,
   "id": "4875372c-d495-4443-9f09-22d09bc4d53b",
   "metadata": {},
   "outputs": [
    {
     "name": "stdout",
     "output_type": "stream",
     "text": [
      "Load-[Notice] Load started\n",
      "ISISRunLogs-[Warning] Cannot find period log. Logs will be not be filtered by current period\n",
      "ISISRunLogs-[Warning] Cannot find periods log. Logs will be not be filtered by current period\n",
      "Load-[Notice] Load successful, Duration 1.19 seconds\n",
      "DeleteWorkspace-[Notice] DeleteWorkspace started\n",
      "DeleteWorkspace-[Notice] DeleteWorkspace successful, Duration 0.00 seconds\n"
     ]
    }
   ],
   "source": [
    "mantid_sample = scn.load(f'{path}/mantid_sample.nxs')"
   ]
  },
  {
   "cell_type": "code",
   "execution_count": 50,
   "id": "539f2dfc-d149-4a76-a06a-dab3e32b65e3",
   "metadata": {},
   "outputs": [
    {
     "data": {
      "text/html": [
       "<div><!-- Original source from -->\n",
       "<!-- https://github.com/jsignell/xarray/blob/1d960933ab252e0f79f7e050e6c9261d55568057/xarray/static/html/icons-svg-inline.html -->\n",
       "<svg style=\"position: absolute; width: 0; height: 0; overflow: hidden\">\n",
       "<defs>\n",
       "<symbol id=\"icon-database\" viewBox=\"0 0 32 32\">\n",
       "<title>Show/Hide data repr</title>\n",
       "<path d=\"M16 0c-8.837 0-16 2.239-16 5v4c0 2.761 7.163 5 16 5s16-2.239 16-5v-4c0-2.761-7.163-5-16-5z\"></path>\n",
       "<path d=\"M16 17c-8.837 0-16-2.239-16-5v6c0 2.761 7.163 5 16 5s16-2.239 16-5v-6c0 2.761-7.163 5-16 5z\"></path>\n",
       "<path d=\"M16 26c-8.837 0-16-2.239-16-5v6c0 2.761 7.163 5 16 5s16-2.239 16-5v-6c0 2.761-7.163 5-16 5z\"></path>\n",
       "</symbol>\n",
       "<symbol id=\"icon-file-text2\" viewBox=\"0 0 32 32\">\n",
       "<title>Show/Hide attributes</title>\n",
       "<path d=\"M28.681 7.159c-0.694-0.947-1.662-2.053-2.724-3.116s-2.169-2.030-3.116-2.724c-1.612-1.182-2.393-1.319-2.841-1.319h-15.5c-1.378 0-2.5 1.121-2.5 2.5v27c0 1.378 1.122 2.5 2.5 2.5h23c1.378 0 2.5-1.122 2.5-2.5v-19.5c0-0.448-0.137-1.23-1.319-2.841zM24.543 5.457c0.959 0.959 1.712 1.825 2.268 2.543h-4.811v-4.811c0.718 0.556 1.584 1.309 2.543 2.268zM28 29.5c0 0.271-0.229 0.5-0.5 0.5h-23c-0.271 0-0.5-0.229-0.5-0.5v-27c0-0.271 0.229-0.5 0.5-0.5 0 0 15.499-0 15.5 0v7c0 0.552 0.448 1 1 1h7v19.5z\"></path>\n",
       "<path d=\"M23 26h-14c-0.552 0-1-0.448-1-1s0.448-1 1-1h14c0.552 0 1 0.448 1 1s-0.448 1-1 1z\"></path>\n",
       "<path d=\"M23 22h-14c-0.552 0-1-0.448-1-1s0.448-1 1-1h14c0.552 0 1 0.448 1 1s-0.448 1-1 1z\"></path>\n",
       "<path d=\"M23 18h-14c-0.552 0-1-0.448-1-1s0.448-1 1-1h14c0.552 0 1 0.448 1 1s-0.448 1-1 1z\"></path>\n",
       "</symbol>\n",
       "</defs>\n",
       "</svg><style id=\"scipp-style-sheet\">.sc-root{--sc-background-color0:var(--jp-layout-color0,#fff);--sc-background-color1:var(--jp-layout-color1,#fcfcfc);--sc-background-color2:var(--jp-layout-color2,#efefef);--sc-inverse-background-color0:var(--jp-inverse-layout-color4,#111);--sc-font-color0:var(--jp-content-font-color0,#000);--sc-font-color1:var(--jp-content-font-color1,#555);--sc-font-color2:var(--jp-content-font-color2,#888);--sc-font-color3:var(--jp-content-font-color3,#ccc);--sc-table-data-color:#f6d028;--sc-table-coords-color:#c6e590;--sc-table-masks-color:#c8c8c8;--sc-table-attrs-color:#ff5555;--sc-table-header-font-color:#111111;}.sc-wrap{font-size:14px;min-width:300px;max-width:800px;}.sc-var-attrs .sc-wrap{padding-left:3em;}.sc-header{padding-top:6px;padding-bottom:6px;margin-bottom:4px;border-bottom:solid 1px #ddd;}.sc-header > div,.sc-header > ul{display:inline;margin-top:0;margin-bottom:0;}.sc-obj-type,.sc-array-name{margin-left:2px;margin-right:10px;}.sc-obj-type{color:var(--sc-font-color1);}.sc-underlying-size{color:var(--sc-font-color2);}.sc-sections,.reveal .sc-sections{padding-left:0 !important;display:grid;grid-template-columns:150px auto auto auto 1fr 20px 20px;}.sc-section-item{display:contents;}.sc-section-item input{display:none;}.sc-section-item input:enabled + label{cursor:pointer;color:var(--sc-font-color1);}.sc-section-item input:enabled + label:hover{color:var(--sc-font-color0);}.sc-section-summary{grid-column:1;font-weight:500;}.sc-section-summary > span{display:inline-block;padding-left:0.5em;}.sc-section-summary-in:disabled + label{color:var(--sc-font-color1);}.sc-section-summary-in + label:before{display:inline-block;content:'►';font-size:11px;width:15px;text-align:center;}.sc-section-summary-in:disabled + label:before{color:var(--sc-font-color3);}.sc-section-summary-in:checked + label:before{content:'▼';}.sc-section-summary-in:checked + label > span{display:none;}.sc-section-summary,.sc-section-inline-details{padding-top:4px;padding-bottom:4px;}.sc-section-inline-details{grid-column:2 / 6;}.sc-section-details{display:none;grid-column:1 / -1;margin-bottom:5px;}.sc-section-summary-in:checked ~ .sc-section-details{display:contents;}.sc-array-wrap{grid-column:1 / -1;display:grid;grid-template-columns:20px auto;}.sc-array-wrap > label{grid-column:1;vertical-align:top;}.sc-preview{color:var(--sc-font-color2);}.sc-array-preview,.sc-array-data{padding:0 5px !important;grid-column:2;}.sc-array-data,.sc-array-in:checked ~ .sc-array-preview{display:none;}.sc-array-in:checked ~ .sc-array-data,.sc-array-preview{display:inline-block;}.sc-dim-list{display:inline-block !important;list-style:none;padding:0 !important;margin:0;}.sc-dim-list li{display:inline-block;padding:0;margin:0!important;}.sc-dim-list:before{content:'(';}.sc-dim-list:after{content:')';}.sc-dim-list li:not(:last-child):after{content:',';padding-right:5px;}.sc-dim-list li span,.sc-standalone-var-name > span span,.sc-var-name > span span{padding:0 !important;}.sc-aligned{font-weight:bold;}.sc-var-list,.sc-var-item,.reveal .sc-var-list,.reveal .sc-var-item{display:contents;}.sc-var-item > div,.sc-var-item label,.sc-var-item > .sc-var-name span{background-color:var(--sc-background-color1);margin-bottom:0;}.sc-var-item > .sc-var-name:hover span{padding-right:5px;}.sc-var-list > li:nth-child(odd) > div,.sc-var-list > li:nth-child(odd) > label,.sc-var-list > li:nth-child(odd) > .sc-var-name span{background-color:var(--sc-background-color2);}.sc-var-name{grid-column:1;}.sc-var-dims{grid-column:2;}.sc-var-dtype{grid-column:3;text-align:right;color:var(--sc-font-color2);}.sc-var-unit{grid-column:4;text-align:left;color:var(--sc-font-color1);max-width:50pt;text-overflow:ellipsis;}.sc-value-preview{grid-column:5;}.sc-var-preview-variances{text-align:right;}.sc-sections .sc-section-item .sc-section-summary,.sc-sections .sc-section-item .sc-section-inline-details,.sc-section-item .sc-var-list .sc-var-item > div,.sc-section-item .sc-var-list .sc-var-item > label,.sc-section-details .sc-var-list .sc-var-item > div,.sc-section-details .sc-var-list .sc-var-item > label{margin-top:0;margin-bottom:0;}.sc-var-name,.sc-var-dims,.sc-var-dtype,.sc-var-unit,.sc-preview,.sc-attrs dt{white-space:nowrap;overflow:hidden;text-overflow:ellipsis;padding-right:10px;}.sc-var-name:hover,.sc-var-dims:hover,.sc-var-dtype:hover,.sc-var-unit:hover,.sc-attrs dt:hover{overflow:visible;width:auto;z-index:1;}.sc-var-attrs{display:block;}.sc-var-data,.reveal .sc-var-data{display:none;}.sc-var-attrs,.sc-var-data{background-color:var(--sc-background-color0) !important;padding-bottom:5px !important;}.sc-var-attrs-in:checked ~ .sc-var-attrs{display:none;}.sc-var-data-in:checked ~ .sc-var-data{display:block;}.sc-var-data > table{float:right;}.sc-var-name span,.sc-var-data{padding-left:25px !important;}.sc-var-attrs,.sc-var-data{grid-column:1 / -1;}dl.sc-attrs{padding:0;margin:0;display:grid;grid-template-columns:125px auto;}.sc-attrs dt,dd{padding:0;margin:0;float:left;padding-right:10px;width:auto;}.sc-attrs dt{font-weight:normal;grid-column:1;}.sc-attrs dt:hover span{display:inline-block;padding-right:10px;}.sc-attrs dd{grid-column:2;white-space:pre-wrap;word-break:break-all;}.sc-icon-database,.sc-icon-file-text2{display:inline-block;vertical-align:middle;width:1em;height:1.5em !important;stroke-width:0;stroke:currentColor;fill:currentColor;}label.sc-hide-icon svg{opacity:0;}.sc-standalone-var-name{grid-column:1/3;}.sc-standalone-var-name span{padding-left:25px;padding-right:10px;}.sc-table{border-collapse:collapse;}.sc-title{font-weight:bold;font-size:1.5em;}.sc-subtitle{font-weight:normal;font-style:italic;text-align:left;font-size:1.2em;padding:1px;}.sc-table th,.sc-table td{border:1px solid var(--sc-inverse-background-color0);padding:0 5px 0 5px;}.sc-table th{text-align:center;}.sc-table tr{background-color:var(--sc-background-color1);text-align:right;}.sc-table tr:hover{background-color:var(--sc-background-color2);}.sc-table th.sc-data{background-color:var(--sc-table-data-color);color:var(--sc-table-header-font-color);}.sc-table th.sc-coords{background-color:var(--sc-table-coords-color);color:var(--sc-table-header-font-color);}.sc-table th.sc-masks{background-color:var(--sc-table-masks-color);color:var(--sc-table-header-font-color);}.sc-table th.sc-attrs{background-color:var(--sc-table-attrs-color);color:var(--sc-table-header-font-color);}.sc-table th.sc-subheader{background-color:var(--sc-background-color2);}.sc-table td.sc-padding{background-color:var(--sc-background-color1);border:0 solid var(--sc-background-color1);height:1.2em;}.sc-label{fill:var(--sc-font-color0,#444444);text-anchor:middle;}.sc-name{fill:var(--sc-font-color0,#111111);}.sc-inset-line{stroke:var(--sc-font-color1);stroke-width:0.05;stroke-dasharray:0.2,0.2;}.sc-log-wrap{height:25ex;resize:vertical;overflow-y:scroll;display:flex;flex-direction:column-reverse;border:1px solid;border-color:var(--jp-border-color2);background-color:var(--sc-background-color1);}div.sc-log{line-height:2.5ex;}table.sc-log{table-layout:auto;border-collapse:collapse;}tr.sc-log:nth-child(even){background-color:var(--sc-background-color0);}tr.sc-log > td{vertical-align:top;padding-bottom:0.5ex;}.sc-log-time-stamp{min-width:22ch;font-family:var(--jp-code-font-family);color:var(--sc-font-color2);}.sc-log-level{min-width:10ch;}tr.sc-log-debug td.sc-log-level{color:var(--jp-accent-color1);}tr.sc-log-info td.sc-log-level{color:var(--jp-info-color1);}tr.sc-log-warning td.sc-log-level{color:var(--jp-warn-color1);}tr.sc-log-error td.sc-log-level{font-weight:bold;color:var(--jp-error-color2);}tr.sc-log-critical td.sc-log-level{font-weight:bold;color:var(--sc-background-color0);background-color:var(--jp-error-color1);}.sc-log-message{white-space:pre-wrap;width:100%;}.sc-log-html-payload{white-space:normal;}.sc-log-name{padding-right:0.5em;text-align:right;white-space:pre-wrap;color:var(--sc-font-color3);}</style><div class='sc-wrap sc-root'><div class='sc-header'><div class='sc-obj-type'>scipp.DataArray (354.16 MB)</div></div><ul class='sc-sections'><li class='sc-section-item'><input id='section-7cbac216-2488-4f34-963c-eb0923989315' class='sc-section-summary-in' type='checkbox' disabled ><label for='section-7cbac216-2488-4f34-963c-eb0923989315' class='sc-section-summary'  title='Expand/collapse section'>Dimensions:</label><div class='sc-section-inline-details'><ul class='sc-dim-list'><li><span class='sc-has-index'>spectrum</span>: 458752</li><li><span class='sc-has-index'>wavelength</span>: 1</li></ul></div><div class='sc-section-details'></div></li><li class='sc-section-item'><input id='section-93c81c8e-e15f-4759-bf99-7d9f2b6268dd' class='sc-section-summary-in' type='checkbox'  checked><label for='section-93c81c8e-e15f-4759-bf99-7d9f2b6268dd' class='sc-section-summary' >Coordinates: <span>(5)</span></label><div class='sc-section-inline-details'></div><div class='sc-section-details'><ul class='sc-var-list'><li class='sc-var-item'><div class='sc-var-name'><span class='sc-aligned'>position</span></div><div class='sc-var-dims'>(spectrum)</div><div class='sc-var-dtype'>vector3</div><div class='sc-var-unit'>m</div><div class='sc-value-preview sc-preview'><span><div>[ 0.45102344  0.44636185 29.40405757], [ 0.44907031  0.44636185 29.40405757], ..., [-0.54507031 -0.41291916 29.49816725], [-0.54702344 -0.41291916 29.49816725]</div></span></div><input id='attrs-41750ef0-4f30-4be2-b9c0-0c47b2c82ddf' class='sc-var-attrs-in' type='checkbox' disabled><label for='attrs-41750ef0-4f30-4be2-b9c0-0c47b2c82ddf' class='sc-hide-icon' title='Show/Hide attributes'><svg class='icon sc-icon-file-text2'><use xlink:href='#icon-file-text2'></use></svg></label><input id='data-1dfb5ae9-455e-436a-bb96-ee1074c25575' class='sc-var-data-in' type='checkbox'><label for='data-1dfb5ae9-455e-436a-bb96-ee1074c25575' title='Show/Hide data repr'><svg class='icon sc-icon-database'><use xlink:href='#icon-database'></use></svg></label><pre class='sc-var-data'>Values:<br>array([[ 0.45102344,  0.44636185, 29.40405757],\n",
       "       [ 0.44907031,  0.44636185, 29.40405757],\n",
       "       [ 0.44711719,  0.44636185, 29.40405757],\n",
       "       ...,\n",
       "       [-0.54311719, -0.41291916, 29.49816725],\n",
       "       [-0.54507031, -0.41291916, 29.49816725],\n",
       "       [-0.54702344, -0.41291916, 29.49816725]])</pre></span></li><li class='sc-var-item'><div class='sc-var-name'><span class='sc-aligned'>sample_position</span></div><div class='sc-var-dims'>()</div><div class='sc-var-dtype'>vector3</div><div class='sc-var-unit'>m</div><div class='sc-value-preview sc-preview'><span><div>[ 0.    0.   25.61]</div></span></div><input id='attrs-8afc1d4e-9961-4491-aba1-1d88d550ad54' class='sc-var-attrs-in' type='checkbox' disabled><label for='attrs-8afc1d4e-9961-4491-aba1-1d88d550ad54' class='sc-hide-icon' title='Show/Hide attributes'><svg class='icon sc-icon-file-text2'><use xlink:href='#icon-file-text2'></use></svg></label><input id='data-4b6f18fd-1e1c-4058-94c0-df3457343438' class='sc-var-data-in' type='checkbox'><label for='data-4b6f18fd-1e1c-4058-94c0-df3457343438' title='Show/Hide data repr'><svg class='icon sc-icon-database'><use xlink:href='#icon-database'></use></svg></label><pre class='sc-var-data'>Values:<br>array([ 0.  ,  0.  , 25.61])</pre></span></li><li class='sc-var-item'><div class='sc-var-name'><span class='sc-aligned'>source_position</span></div><div class='sc-var-dims'>()</div><div class='sc-var-dtype'>vector3</div><div class='sc-var-unit'>m</div><div class='sc-value-preview sc-preview'><span><div>[0. 0. 0.]</div></span></div><input id='attrs-ee44377d-4ee2-4499-ae40-d508dff981a4' class='sc-var-attrs-in' type='checkbox' disabled><label for='attrs-ee44377d-4ee2-4499-ae40-d508dff981a4' class='sc-hide-icon' title='Show/Hide attributes'><svg class='icon sc-icon-file-text2'><use xlink:href='#icon-file-text2'></use></svg></label><input id='data-21db8d26-99c3-46d3-a453-78429b2d3f1f' class='sc-var-data-in' type='checkbox'><label for='data-21db8d26-99c3-46d3-a453-78429b2d3f1f' title='Show/Hide data repr'><svg class='icon sc-icon-database'><use xlink:href='#icon-database'></use></svg></label><pre class='sc-var-data'>Values:<br>array([0., 0., 0.])</pre></span></li><li class='sc-var-item'><div class='sc-var-name'><span class='sc-aligned'>spectrum</span></div><div class='sc-var-dims'>(spectrum)</div><div class='sc-var-dtype'>int32</div><div class='sc-var-unit'></div><div class='sc-value-preview sc-preview'><span><div>1, 2, ..., 458751, 458752</div></span></div><input id='attrs-8d6b3bf4-1c4d-4fd5-903a-4893eb79c736' class='sc-var-attrs-in' type='checkbox' disabled><label for='attrs-8d6b3bf4-1c4d-4fd5-903a-4893eb79c736' class='sc-hide-icon' title='Show/Hide attributes'><svg class='icon sc-icon-file-text2'><use xlink:href='#icon-file-text2'></use></svg></label><input id='data-cec5a2e2-35b4-47c3-8a17-cb1d3bba46e9' class='sc-var-data-in' type='checkbox'><label for='data-cec5a2e2-35b4-47c3-8a17-cb1d3bba46e9' title='Show/Hide data repr'><svg class='icon sc-icon-database'><use xlink:href='#icon-database'></use></svg></label><pre class='sc-var-data'>Values:<br>array([     1,      2,      3, ..., 458750, 458751, 458752], dtype=int32)</pre></span></li><li class='sc-var-item'><div class='sc-var-name'><span class='sc-aligned'>wavelength</span></div><div class='sc-var-dims'>(wavelength [bin-edge])</div><div class='sc-var-dtype'>float64</div><div class='sc-var-unit'>Å</div><div class='sc-value-preview sc-preview'><span><div>2.2, 12.0</div></span></div><input id='attrs-8c8edd3f-f917-4cf9-bc42-9008db9cf6f1' class='sc-var-attrs-in' type='checkbox' disabled><label for='attrs-8c8edd3f-f917-4cf9-bc42-9008db9cf6f1' class='sc-hide-icon' title='Show/Hide attributes'><svg class='icon sc-icon-file-text2'><use xlink:href='#icon-file-text2'></use></svg></label><input id='data-379e8742-0780-472d-8635-a1fdd47eae93' class='sc-var-data-in' type='checkbox'><label for='data-379e8742-0780-472d-8635-a1fdd47eae93' title='Show/Hide data repr'><svg class='icon sc-icon-database'><use xlink:href='#icon-database'></use></svg></label><pre class='sc-var-data'>Values:<br>array([ 2.2, 12. ])</pre></span></li></ul></div></li><li class='sc-section-item'><input id='section-5f51685a-ce6c-4900-a29c-e4be0f4cdea7' class='sc-section-summary-in' type='checkbox'  checked><label for='section-5f51685a-ce6c-4900-a29c-e4be0f4cdea7' class='sc-section-summary' >Data: <span>(1)</span></label><div class='sc-section-inline-details'></div><div class='sc-section-details'><ul class='sc-var-list'><li class='sc-var-item'><div class='sc-var-name'><span></span></div><div class='sc-var-dims'>(spectrum, wavelength)</div><div class='sc-var-dtype'>DataArrayView</div><div class='sc-var-unit'></div><div class='sc-value-preview sc-preview'><span><div>binned data [len=0, len=0, ..., len=0, len=0]</div></span></div><input id='attrs-db8c0c62-8df8-4d6f-84e4-078ace47d5db' class='sc-var-attrs-in' type='checkbox' disabled><label for='attrs-db8c0c62-8df8-4d6f-84e4-078ace47d5db' class='sc-hide-icon' title='Show/Hide attributes'><svg class='icon sc-icon-file-text2'><use xlink:href='#icon-file-text2'></use></svg></label><input id='data-90bc9f6f-261e-4048-9b0f-aafa9b42a61f' class='sc-var-data-in' type='checkbox'><label for='data-90bc9f6f-261e-4048-9b0f-aafa9b42a61f' title='Show/Hide data repr'><svg class='icon sc-icon-database'><use xlink:href='#icon-database'></use></svg></label><pre class='sc-var-data'>dim=&#x27;event&#x27;,\n",
       "content=DataArray(\n",
       "          dims=(event: 14613075),\n",
       "          data=float32[counts],\n",
       "          coords={&#x27;wavelength&#x27;:float64[Å], &#x27;pulse_time&#x27;:datetime64[ns]})</pre></li></ul></div></li><li class='sc-section-item'><input id='section-38e79cee-7395-4242-8e00-4f3236efe562' class='sc-section-summary-in' type='checkbox'  checked><label for='section-38e79cee-7395-4242-8e00-4f3236efe562' class='sc-section-summary' >Masks: <span>(1)</span></label><div class='sc-section-inline-details'></div><div class='sc-section-details'><ul class='sc-var-list'><li class='sc-var-item'><div class='sc-var-name'><span>spectrum</span></div><div class='sc-var-dims'>(spectrum)</div><div class='sc-var-dtype'>bool</div><div class='sc-var-unit'></div><div class='sc-value-preview sc-preview'><span><div>True, True, ..., True, True</div></span></div><input id='attrs-a8e69df1-b179-4543-a409-9efe8d7add8e' class='sc-var-attrs-in' type='checkbox' disabled><label for='attrs-a8e69df1-b179-4543-a409-9efe8d7add8e' class='sc-hide-icon' title='Show/Hide attributes'><svg class='icon sc-icon-file-text2'><use xlink:href='#icon-file-text2'></use></svg></label><input id='data-97b27f79-66f6-4f01-9b15-bbfb812e91e5' class='sc-var-data-in' type='checkbox'><label for='data-97b27f79-66f6-4f01-9b15-bbfb812e91e5' title='Show/Hide data repr'><svg class='icon sc-icon-database'><use xlink:href='#icon-database'></use></svg></label><pre class='sc-var-data'>Values:<br>array([ True,  True,  True, ...,  True,  True,  True])</pre></span></li></ul></div></li><li class='sc-section-item'><input id='section-2c750ce9-a4ec-47ea-a236-7fedb9f6ae88' class='sc-section-summary-in' type='checkbox'  ><label for='section-2c750ce9-a4ec-47ea-a236-7fedb9f6ae88' class='sc-section-summary' >Attributes: <span>(10)</span></label><div class='sc-section-inline-details'></div><div class='sc-section-details'><ul class='sc-var-list'><li class='sc-var-item'><div class='sc-var-name'><span>Filename</span></div><div class='sc-var-dims'>()</div><div class='sc-var-dtype'>string</div><div class='sc-var-unit'>𝟙</div><div class='sc-value-preview sc-preview'><span><div>/Users/judithhouston/Documents/ESS/LoKi/Design_documents/Detector/Larmor2022/...</div></span></div><input id='attrs-3af5c86c-b10d-43ac-b045-b502383ee0c7' class='sc-var-attrs-in' type='checkbox' disabled><label for='attrs-3af5c86c-b10d-43ac-b045-b502383ee0c7' class='sc-hide-icon' title='Show/Hide attributes'><svg class='icon sc-icon-file-text2'><use xlink:href='#icon-file-text2'></use></svg></label><input id='data-99a948fb-1658-4a0f-b2c7-61654cb3ed86' class='sc-var-data-in' type='checkbox'><label for='data-99a948fb-1658-4a0f-b2c7-61654cb3ed86' title='Show/Hide data repr'><svg class='icon sc-icon-database'><use xlink:href='#icon-database'></use></svg></label><pre class='sc-var-data'>Values:<br>&#x27;/Users/judithhouston/Documents/ESS/LoKi/Design_documents/Detector/Larmor2022/DATA/mantid_alldata/60250-2022-02-28_2215_mantid.nxs&#x27;</pre></li><li class='sc-var-item'><div class='sc-var-name'><span>deltaE-mode</span></div><div class='sc-var-dims'>()</div><div class='sc-var-dtype'>string</div><div class='sc-var-unit'>𝟙</div><div class='sc-value-preview sc-preview'><span><div>Elastic</div></span></div><input id='attrs-d2272097-d5f6-40ec-ade3-dabfdb691dca' class='sc-var-attrs-in' type='checkbox' disabled><label for='attrs-d2272097-d5f6-40ec-ade3-dabfdb691dca' class='sc-hide-icon' title='Show/Hide attributes'><svg class='icon sc-icon-file-text2'><use xlink:href='#icon-file-text2'></use></svg></label><input id='data-8132c003-a7ca-43ac-9acb-a1f6368b269a' class='sc-var-data-in' type='checkbox'><label for='data-8132c003-a7ca-43ac-9acb-a1f6368b269a' title='Show/Hide data repr'><svg class='icon sc-icon-database'><use xlink:href='#icon-database'></use></svg></label><pre class='sc-var-data'>Values:<br>&#x27;Elastic&#x27;</pre></li><li class='sc-var-item'><div class='sc-var-name'><span>end_time</span></div><div class='sc-var-dims'>()</div><div class='sc-var-dtype'>string</div><div class='sc-var-unit'>𝟙</div><div class='sc-value-preview sc-preview'><span><div>2032-02-29T09:15:00</div></span></div><input id='attrs-bfa6f3e0-5769-4e19-a3a5-f0a9b915422e' class='sc-var-attrs-in' type='checkbox' disabled><label for='attrs-bfa6f3e0-5769-4e19-a3a5-f0a9b915422e' class='sc-hide-icon' title='Show/Hide attributes'><svg class='icon sc-icon-file-text2'><use xlink:href='#icon-file-text2'></use></svg></label><input id='data-a67cb79c-e052-4658-b9fe-c6c883289204' class='sc-var-data-in' type='checkbox'><label for='data-a67cb79c-e052-4658-b9fe-c6c883289204' title='Show/Hide data repr'><svg class='icon sc-icon-database'><use xlink:href='#icon-database'></use></svg></label><pre class='sc-var-data'>Values:<br>&#x27;2032-02-29T09:15:00&#x27;</pre></li><li class='sc-var-item'><div class='sc-var-name'><span>experiment_identifier</span></div><div class='sc-var-dims'>()</div><div class='sc-var-dtype'>string</div><div class='sc-var-unit'>𝟙</div><div class='sc-value-preview sc-preview'><span><div>p1234</div></span></div><input id='attrs-b32d6edc-4734-4200-8cd2-1ea2abb86278' class='sc-var-attrs-in' type='checkbox' disabled><label for='attrs-b32d6edc-4734-4200-8cd2-1ea2abb86278' class='sc-hide-icon' title='Show/Hide attributes'><svg class='icon sc-icon-file-text2'><use xlink:href='#icon-file-text2'></use></svg></label><input id='data-234b55dd-114c-44fe-b0aa-2b7506c0f123' class='sc-var-data-in' type='checkbox'><label for='data-234b55dd-114c-44fe-b0aa-2b7506c0f123' title='Show/Hide data repr'><svg class='icon sc-icon-database'><use xlink:href='#icon-database'></use></svg></label><pre class='sc-var-data'>Values:<br>&#x27;p1234&#x27;</pre></li><li class='sc-var-item'><div class='sc-var-name'><span>instrument_name</span></div><div class='sc-var-dims'>()</div><div class='sc-var-dtype'>string</div><div class='sc-var-unit'></div><div class='sc-value-preview sc-preview'><span><div>LOKI_test.xml</div></span></div><input id='attrs-b4ac7492-2536-40e1-b9ed-24a12227f11a' class='sc-var-attrs-in' type='checkbox' disabled><label for='attrs-b4ac7492-2536-40e1-b9ed-24a12227f11a' class='sc-hide-icon' title='Show/Hide attributes'><svg class='icon sc-icon-file-text2'><use xlink:href='#icon-file-text2'></use></svg></label><input id='data-25a5a4b9-4ce0-4129-9b25-e9b1a91e322f' class='sc-var-data-in' type='checkbox'><label for='data-25a5a4b9-4ce0-4129-9b25-e9b1a91e322f' title='Show/Hide data repr'><svg class='icon sc-icon-database'><use xlink:href='#icon-database'></use></svg></label><pre class='sc-var-data'>Values:<br>&#x27;LOKI_test.xml&#x27;</pre></li><li class='sc-var-item'><div class='sc-var-name'><span>run_start</span></div><div class='sc-var-dims'>()</div><div class='sc-var-dtype'>string</div><div class='sc-var-unit'>𝟙</div><div class='sc-value-preview sc-preview'><span><div>2022-02-28T21:15:00</div></span></div><input id='attrs-e135b18b-a98b-4d54-a28d-cce4ac1e4029' class='sc-var-attrs-in' type='checkbox' disabled><label for='attrs-e135b18b-a98b-4d54-a28d-cce4ac1e4029' class='sc-hide-icon' title='Show/Hide attributes'><svg class='icon sc-icon-file-text2'><use xlink:href='#icon-file-text2'></use></svg></label><input id='data-60e31efd-8265-4470-9fb3-90bae537c0c5' class='sc-var-data-in' type='checkbox'><label for='data-60e31efd-8265-4470-9fb3-90bae537c0c5' title='Show/Hide data repr'><svg class='icon sc-icon-database'><use xlink:href='#icon-database'></use></svg></label><pre class='sc-var-data'>Values:<br>&#x27;2022-02-28T21:15:00&#x27;</pre></li><li class='sc-var-item'><div class='sc-var-name'><span>run_title</span></div><div class='sc-var-dims'>()</div><div class='sc-var-dtype'>string</div><div class='sc-var-unit'>𝟙</div><div class='sc-value-preview sc-preview'><span><div>My experiment</div></span></div><input id='attrs-8b3edb0b-7a31-42e9-b1d8-304bc30e3093' class='sc-var-attrs-in' type='checkbox' disabled><label for='attrs-8b3edb0b-7a31-42e9-b1d8-304bc30e3093' class='sc-hide-icon' title='Show/Hide attributes'><svg class='icon sc-icon-file-text2'><use xlink:href='#icon-file-text2'></use></svg></label><input id='data-577582fa-9b66-4da2-86bc-f5cfba1c0254' class='sc-var-data-in' type='checkbox'><label for='data-577582fa-9b66-4da2-86bc-f5cfba1c0254' title='Show/Hide data repr'><svg class='icon sc-icon-database'><use xlink:href='#icon-database'></use></svg></label><pre class='sc-var-data'>Values:<br>&#x27;My experiment&#x27;</pre></li><li class='sc-var-item'><div class='sc-var-name'><span>running</span></div><div class='sc-var-dims'>()</div><div class='sc-var-dtype'>DataArray</div><div class='sc-var-unit'></div><div class='sc-value-preview sc-preview'><span><div>{dims=[time: 1], coords=[time]}</div></span></div><input id='attrs-3fc00e46-d332-42ed-963a-70edf112d6c4' class='sc-var-attrs-in' type='checkbox' disabled><label for='attrs-3fc00e46-d332-42ed-963a-70edf112d6c4' class='sc-hide-icon' title='Show/Hide attributes'><svg class='icon sc-icon-file-text2'><use xlink:href='#icon-file-text2'></use></svg></label><input id='data-cf07609d-3a74-4b1d-bda2-487854572655' class='sc-var-data-in' type='checkbox'><label for='data-cf07609d-3a74-4b1d-bda2-487854572655' title='Show/Hide data repr'><svg class='icon sc-icon-database'><use xlink:href='#icon-database'></use></svg></label><pre class='sc-var-data'>Values:<br>&lt;scipp.DataArray&gt;\n",
       "Dimensions: Sizes[time:1, ]\n",
       "Coordinates:\n",
       "* time                    datetime64             [ns]  (time)  [1990-01-01T00:00:00.000000000]\n",
       "Data:\n",
       "                               bool  [dimensionless]  (time)  [True]\n",
       "\n",
       "</pre></li><li class='sc-var-item'><div class='sc-var-name'><span>sample</span></div><div class='sc-var-dims'>()</div><div class='sc-var-dtype'>PyObject</div><div class='sc-var-unit'></div><div class='sc-value-preview sc-preview'><span><div>&lt;mantid.api._api.Sample object at 0x7fa5025d87b0&gt;</div></span></div><input id='attrs-df941382-261f-4e4d-802d-15fd46384442' class='sc-var-attrs-in' type='checkbox' disabled><label for='attrs-df941382-261f-4e4d-802d-15fd46384442' class='sc-hide-icon' title='Show/Hide attributes'><svg class='icon sc-icon-file-text2'><use xlink:href='#icon-file-text2'></use></svg></label><input id='data-14b34851-93df-4eda-9a29-732b3fa28747' class='sc-var-data-in' type='checkbox'><label for='data-14b34851-93df-4eda-9a29-732b3fa28747' title='Show/Hide data repr'><svg class='icon sc-icon-database'><use xlink:href='#icon-database'></use></svg></label><pre class='sc-var-data'>Values:<br>&lt;mantid.api._api.Sample object at 0x7fa5025d87b0&gt;</pre></li><li class='sc-var-item'><div class='sc-var-name'><span>start_time</span></div><div class='sc-var-dims'>()</div><div class='sc-var-dtype'>string</div><div class='sc-var-unit'>𝟙</div><div class='sc-value-preview sc-preview'><span><div>2022-02-28T21:15:00</div></span></div><input id='attrs-03e8d2df-4993-49ff-a41b-a2e188fb99cb' class='sc-var-attrs-in' type='checkbox' disabled><label for='attrs-03e8d2df-4993-49ff-a41b-a2e188fb99cb' class='sc-hide-icon' title='Show/Hide attributes'><svg class='icon sc-icon-file-text2'><use xlink:href='#icon-file-text2'></use></svg></label><input id='data-2e1ef7d1-6d23-4f9c-b2cc-fff920221d2b' class='sc-var-data-in' type='checkbox'><label for='data-2e1ef7d1-6d23-4f9c-b2cc-fff920221d2b' title='Show/Hide data repr'><svg class='icon sc-icon-database'><use xlink:href='#icon-database'></use></svg></label><pre class='sc-var-data'>Values:<br>&#x27;2022-02-28T21:15:00&#x27;</pre></li></ul></div></li></ul></div></div>"
      ],
      "text/plain": [
       "<scipp.DataArray>\n",
       "Dimensions: Sizes[spectrum:458752, wavelength:1, ]\n",
       "Coordinates:\n",
       "* position                  vector3              [m]  (spectrum)  [(0.451023, 0.446362, 29.4041), (0.44907, 0.446362, 29.4041), ..., (-0.54507, -0.412919, 29.4982), (-0.547023, -0.412919, 29.4982)]\n",
       "* sample_position           vector3              [m]  ()  (0, 0, 25.61)\n",
       "* source_position           vector3              [m]  ()  (0, 0, 0)\n",
       "* spectrum                    int32        <no unit>  (spectrum)  [1, 2, ..., 458751, 458752]\n",
       "* wavelength                float64             [Å]  (wavelength [bin-edge])  [2.2, 12]\n",
       "Data:\n",
       "                          DataArrayView        <no unit>  (spectrum, wavelength)  binned data: dim='event', content=DataArray(\n",
       "          dims=(event: 14613075),\n",
       "          data=float32[counts],\n",
       "          coords={'wavelength':float64[Å], 'pulse_time':datetime64[ns]})\n",
       "Masks:\n",
       "  spectrum                     bool        <no unit>  (spectrum)  [True, True, ..., True, True]\n",
       "Attributes:\n",
       "  Filename                   string  [dimensionless]  ()  \"/Users/judithhouston/Documents/ESS/LoKi/Design_documents/Detector/Larmor2022/...\"\n",
       "  deltaE-mode                string  [dimensionless]  ()  \"Elastic\"\n",
       "  end_time                   string  [dimensionless]  ()  \"2032-02-29T09:15:00\"\n",
       "  experiment_identifier      string  [dimensionless]  ()  \"p1234\"\n",
       "  instrument_name            string        <no unit>  ()  \"LOKI_test.xml\"\n",
       "  run_start                  string  [dimensionless]  ()  \"2022-02-28T21:15:00\"\n",
       "  run_title                  string  [dimensionless]  ()  \"My experiment\"\n",
       "  running                 DataArray        <no unit>  ()  DataArray(dims=(time: 1), dtype=bool, unit=dimensionless)\n",
       "  sample                   PyObject        <no unit>  ()  <mantid.api._api.Sample object at 0x7fa5025d87b0>\n",
       "  start_time                 string  [dimensionless]  ()  \"2022-02-28T21:15:00\"\n"
      ]
     },
     "execution_count": 50,
     "metadata": {},
     "output_type": "execute_result"
    }
   ],
   "source": [
    "mantid_sample "
   ]
  },
  {
   "cell_type": "code",
   "execution_count": 51,
   "id": "3f521cfc-9d0d-4acb-9169-9ecec8945710",
   "metadata": {},
   "outputs": [
    {
     "data": {
      "text/html": [
       "<div><!-- Original source from -->\n",
       "<!-- https://github.com/jsignell/xarray/blob/1d960933ab252e0f79f7e050e6c9261d55568057/xarray/static/html/icons-svg-inline.html -->\n",
       "<svg style=\"position: absolute; width: 0; height: 0; overflow: hidden\">\n",
       "<defs>\n",
       "<symbol id=\"icon-database\" viewBox=\"0 0 32 32\">\n",
       "<title>Show/Hide data repr</title>\n",
       "<path d=\"M16 0c-8.837 0-16 2.239-16 5v4c0 2.761 7.163 5 16 5s16-2.239 16-5v-4c0-2.761-7.163-5-16-5z\"></path>\n",
       "<path d=\"M16 17c-8.837 0-16-2.239-16-5v6c0 2.761 7.163 5 16 5s16-2.239 16-5v-6c0 2.761-7.163 5-16 5z\"></path>\n",
       "<path d=\"M16 26c-8.837 0-16-2.239-16-5v6c0 2.761 7.163 5 16 5s16-2.239 16-5v-6c0 2.761-7.163 5-16 5z\"></path>\n",
       "</symbol>\n",
       "<symbol id=\"icon-file-text2\" viewBox=\"0 0 32 32\">\n",
       "<title>Show/Hide attributes</title>\n",
       "<path d=\"M28.681 7.159c-0.694-0.947-1.662-2.053-2.724-3.116s-2.169-2.030-3.116-2.724c-1.612-1.182-2.393-1.319-2.841-1.319h-15.5c-1.378 0-2.5 1.121-2.5 2.5v27c0 1.378 1.122 2.5 2.5 2.5h23c1.378 0 2.5-1.122 2.5-2.5v-19.5c0-0.448-0.137-1.23-1.319-2.841zM24.543 5.457c0.959 0.959 1.712 1.825 2.268 2.543h-4.811v-4.811c0.718 0.556 1.584 1.309 2.543 2.268zM28 29.5c0 0.271-0.229 0.5-0.5 0.5h-23c-0.271 0-0.5-0.229-0.5-0.5v-27c0-0.271 0.229-0.5 0.5-0.5 0 0 15.499-0 15.5 0v7c0 0.552 0.448 1 1 1h7v19.5z\"></path>\n",
       "<path d=\"M23 26h-14c-0.552 0-1-0.448-1-1s0.448-1 1-1h14c0.552 0 1 0.448 1 1s-0.448 1-1 1z\"></path>\n",
       "<path d=\"M23 22h-14c-0.552 0-1-0.448-1-1s0.448-1 1-1h14c0.552 0 1 0.448 1 1s-0.448 1-1 1z\"></path>\n",
       "<path d=\"M23 18h-14c-0.552 0-1-0.448-1-1s0.448-1 1-1h14c0.552 0 1 0.448 1 1s-0.448 1-1 1z\"></path>\n",
       "</symbol>\n",
       "</defs>\n",
       "</svg><style id=\"scipp-style-sheet\">.sc-root{--sc-background-color0:var(--jp-layout-color0,#fff);--sc-background-color1:var(--jp-layout-color1,#fcfcfc);--sc-background-color2:var(--jp-layout-color2,#efefef);--sc-inverse-background-color0:var(--jp-inverse-layout-color4,#111);--sc-font-color0:var(--jp-content-font-color0,#000);--sc-font-color1:var(--jp-content-font-color1,#555);--sc-font-color2:var(--jp-content-font-color2,#888);--sc-font-color3:var(--jp-content-font-color3,#ccc);--sc-table-data-color:#f6d028;--sc-table-coords-color:#c6e590;--sc-table-masks-color:#c8c8c8;--sc-table-attrs-color:#ff5555;--sc-table-header-font-color:#111111;}.sc-wrap{font-size:14px;min-width:300px;max-width:800px;}.sc-var-attrs .sc-wrap{padding-left:3em;}.sc-header{padding-top:6px;padding-bottom:6px;margin-bottom:4px;border-bottom:solid 1px #ddd;}.sc-header > div,.sc-header > ul{display:inline;margin-top:0;margin-bottom:0;}.sc-obj-type,.sc-array-name{margin-left:2px;margin-right:10px;}.sc-obj-type{color:var(--sc-font-color1);}.sc-underlying-size{color:var(--sc-font-color2);}.sc-sections,.reveal .sc-sections{padding-left:0 !important;display:grid;grid-template-columns:150px auto auto auto 1fr 20px 20px;}.sc-section-item{display:contents;}.sc-section-item input{display:none;}.sc-section-item input:enabled + label{cursor:pointer;color:var(--sc-font-color1);}.sc-section-item input:enabled + label:hover{color:var(--sc-font-color0);}.sc-section-summary{grid-column:1;font-weight:500;}.sc-section-summary > span{display:inline-block;padding-left:0.5em;}.sc-section-summary-in:disabled + label{color:var(--sc-font-color1);}.sc-section-summary-in + label:before{display:inline-block;content:'►';font-size:11px;width:15px;text-align:center;}.sc-section-summary-in:disabled + label:before{color:var(--sc-font-color3);}.sc-section-summary-in:checked + label:before{content:'▼';}.sc-section-summary-in:checked + label > span{display:none;}.sc-section-summary,.sc-section-inline-details{padding-top:4px;padding-bottom:4px;}.sc-section-inline-details{grid-column:2 / 6;}.sc-section-details{display:none;grid-column:1 / -1;margin-bottom:5px;}.sc-section-summary-in:checked ~ .sc-section-details{display:contents;}.sc-array-wrap{grid-column:1 / -1;display:grid;grid-template-columns:20px auto;}.sc-array-wrap > label{grid-column:1;vertical-align:top;}.sc-preview{color:var(--sc-font-color2);}.sc-array-preview,.sc-array-data{padding:0 5px !important;grid-column:2;}.sc-array-data,.sc-array-in:checked ~ .sc-array-preview{display:none;}.sc-array-in:checked ~ .sc-array-data,.sc-array-preview{display:inline-block;}.sc-dim-list{display:inline-block !important;list-style:none;padding:0 !important;margin:0;}.sc-dim-list li{display:inline-block;padding:0;margin:0!important;}.sc-dim-list:before{content:'(';}.sc-dim-list:after{content:')';}.sc-dim-list li:not(:last-child):after{content:',';padding-right:5px;}.sc-dim-list li span,.sc-standalone-var-name > span span,.sc-var-name > span span{padding:0 !important;}.sc-aligned{font-weight:bold;}.sc-var-list,.sc-var-item,.reveal .sc-var-list,.reveal .sc-var-item{display:contents;}.sc-var-item > div,.sc-var-item label,.sc-var-item > .sc-var-name span{background-color:var(--sc-background-color1);margin-bottom:0;}.sc-var-item > .sc-var-name:hover span{padding-right:5px;}.sc-var-list > li:nth-child(odd) > div,.sc-var-list > li:nth-child(odd) > label,.sc-var-list > li:nth-child(odd) > .sc-var-name span{background-color:var(--sc-background-color2);}.sc-var-name{grid-column:1;}.sc-var-dims{grid-column:2;}.sc-var-dtype{grid-column:3;text-align:right;color:var(--sc-font-color2);}.sc-var-unit{grid-column:4;text-align:left;color:var(--sc-font-color1);max-width:50pt;text-overflow:ellipsis;}.sc-value-preview{grid-column:5;}.sc-var-preview-variances{text-align:right;}.sc-sections .sc-section-item .sc-section-summary,.sc-sections .sc-section-item .sc-section-inline-details,.sc-section-item .sc-var-list .sc-var-item > div,.sc-section-item .sc-var-list .sc-var-item > label,.sc-section-details .sc-var-list .sc-var-item > div,.sc-section-details .sc-var-list .sc-var-item > label{margin-top:0;margin-bottom:0;}.sc-var-name,.sc-var-dims,.sc-var-dtype,.sc-var-unit,.sc-preview,.sc-attrs dt{white-space:nowrap;overflow:hidden;text-overflow:ellipsis;padding-right:10px;}.sc-var-name:hover,.sc-var-dims:hover,.sc-var-dtype:hover,.sc-var-unit:hover,.sc-attrs dt:hover{overflow:visible;width:auto;z-index:1;}.sc-var-attrs{display:block;}.sc-var-data,.reveal .sc-var-data{display:none;}.sc-var-attrs,.sc-var-data{background-color:var(--sc-background-color0) !important;padding-bottom:5px !important;}.sc-var-attrs-in:checked ~ .sc-var-attrs{display:none;}.sc-var-data-in:checked ~ .sc-var-data{display:block;}.sc-var-data > table{float:right;}.sc-var-name span,.sc-var-data{padding-left:25px !important;}.sc-var-attrs,.sc-var-data{grid-column:1 / -1;}dl.sc-attrs{padding:0;margin:0;display:grid;grid-template-columns:125px auto;}.sc-attrs dt,dd{padding:0;margin:0;float:left;padding-right:10px;width:auto;}.sc-attrs dt{font-weight:normal;grid-column:1;}.sc-attrs dt:hover span{display:inline-block;padding-right:10px;}.sc-attrs dd{grid-column:2;white-space:pre-wrap;word-break:break-all;}.sc-icon-database,.sc-icon-file-text2{display:inline-block;vertical-align:middle;width:1em;height:1.5em !important;stroke-width:0;stroke:currentColor;fill:currentColor;}label.sc-hide-icon svg{opacity:0;}.sc-standalone-var-name{grid-column:1/3;}.sc-standalone-var-name span{padding-left:25px;padding-right:10px;}.sc-table{border-collapse:collapse;}.sc-title{font-weight:bold;font-size:1.5em;}.sc-subtitle{font-weight:normal;font-style:italic;text-align:left;font-size:1.2em;padding:1px;}.sc-table th,.sc-table td{border:1px solid var(--sc-inverse-background-color0);padding:0 5px 0 5px;}.sc-table th{text-align:center;}.sc-table tr{background-color:var(--sc-background-color1);text-align:right;}.sc-table tr:hover{background-color:var(--sc-background-color2);}.sc-table th.sc-data{background-color:var(--sc-table-data-color);color:var(--sc-table-header-font-color);}.sc-table th.sc-coords{background-color:var(--sc-table-coords-color);color:var(--sc-table-header-font-color);}.sc-table th.sc-masks{background-color:var(--sc-table-masks-color);color:var(--sc-table-header-font-color);}.sc-table th.sc-attrs{background-color:var(--sc-table-attrs-color);color:var(--sc-table-header-font-color);}.sc-table th.sc-subheader{background-color:var(--sc-background-color2);}.sc-table td.sc-padding{background-color:var(--sc-background-color1);border:0 solid var(--sc-background-color1);height:1.2em;}.sc-label{fill:var(--sc-font-color0,#444444);text-anchor:middle;}.sc-name{fill:var(--sc-font-color0,#111111);}.sc-inset-line{stroke:var(--sc-font-color1);stroke-width:0.05;stroke-dasharray:0.2,0.2;}.sc-log-wrap{height:25ex;resize:vertical;overflow-y:scroll;display:flex;flex-direction:column-reverse;border:1px solid;border-color:var(--jp-border-color2);background-color:var(--sc-background-color1);}div.sc-log{line-height:2.5ex;}table.sc-log{table-layout:auto;border-collapse:collapse;}tr.sc-log:nth-child(even){background-color:var(--sc-background-color0);}tr.sc-log > td{vertical-align:top;padding-bottom:0.5ex;}.sc-log-time-stamp{min-width:22ch;font-family:var(--jp-code-font-family);color:var(--sc-font-color2);}.sc-log-level{min-width:10ch;}tr.sc-log-debug td.sc-log-level{color:var(--jp-accent-color1);}tr.sc-log-info td.sc-log-level{color:var(--jp-info-color1);}tr.sc-log-warning td.sc-log-level{color:var(--jp-warn-color1);}tr.sc-log-error td.sc-log-level{font-weight:bold;color:var(--jp-error-color2);}tr.sc-log-critical td.sc-log-level{font-weight:bold;color:var(--sc-background-color0);background-color:var(--jp-error-color1);}.sc-log-message{white-space:pre-wrap;width:100%;}.sc-log-html-payload{white-space:normal;}.sc-log-name{padding-right:0.5em;text-align:right;white-space:pre-wrap;color:var(--sc-font-color3);}</style><div class='sc-wrap sc-root'><div class='sc-header'><div class='sc-obj-type'>scipp.DataArray (492.25 MB)</div></div><ul class='sc-sections'><li class='sc-section-item'><input id='section-0ad65f73-c917-4ef2-a154-d1229c70b3b1' class='sc-section-summary-in' type='checkbox' disabled ><label for='section-0ad65f73-c917-4ef2-a154-d1229c70b3b1' class='sc-section-summary'  title='Expand/collapse section'>Dimensions:</label><div class='sc-section-inline-details'><ul class='sc-dim-list'><li><span class='sc-has-index'>spectrum</span>: 458752</li><li><span class='sc-has-index'>tof</span>: 1</li></ul></div><div class='sc-section-details'></div></li><li class='sc-section-item'><input id='section-c4495ddd-7e71-4086-a483-8782ba19a400' class='sc-section-summary-in' type='checkbox'  checked><label for='section-c4495ddd-7e71-4086-a483-8782ba19a400' class='sc-section-summary' >Coordinates: <span>(8)</span></label><div class='sc-section-inline-details'></div><div class='sc-section-details'><ul class='sc-var-list'><li class='sc-var-item'><div class='sc-var-name'><span class='sc-aligned'>pixel_height</span></div><div class='sc-var-dims'>()</div><div class='sc-var-dtype'>float64</div><div class='sc-var-unit'>m</div><div class='sc-value-preview sc-preview'><span><div>4.144</div></span></div><input id='attrs-ac4a0b75-d541-4202-8fd1-e0128e7a44e0' class='sc-var-attrs-in' type='checkbox' disabled><label for='attrs-ac4a0b75-d541-4202-8fd1-e0128e7a44e0' class='sc-hide-icon' title='Show/Hide attributes'><svg class='icon sc-icon-file-text2'><use xlink:href='#icon-file-text2'></use></svg></label><input id='data-7c2d4019-734f-466f-bf14-c557f5e74c1f' class='sc-var-data-in' type='checkbox'><label for='data-7c2d4019-734f-466f-bf14-c557f5e74c1f' title='Show/Hide data repr'><svg class='icon sc-icon-database'><use xlink:href='#icon-database'></use></svg></label><pre class='sc-var-data'>Values:<br>array(4.144)</pre></span></li><li class='sc-var-item'><div class='sc-var-name'><span class='sc-aligned'>pixel_shape</span></div><div class='sc-var-dims'>()</div><div class='sc-var-dtype'>DatasetView</div><div class='sc-var-unit'></div><div class='sc-value-preview sc-preview'><span><div>binned data [len=1]</div></span></div><input id='attrs-316d9d89-a2a6-4760-a821-d4b6257bb373' class='sc-var-attrs-in' type='checkbox' disabled><label for='attrs-316d9d89-a2a6-4760-a821-d4b6257bb373' class='sc-hide-icon' title='Show/Hide attributes'><svg class='icon sc-icon-file-text2'><use xlink:href='#icon-file-text2'></use></svg></label><input id='data-a1c23a81-724b-4a56-8ccb-5b4e05d7ad03' class='sc-var-data-in' type='checkbox'><label for='data-a1c23a81-724b-4a56-8ccb-5b4e05d7ad03' title='Show/Hide data repr'><svg class='icon sc-icon-database'><use xlink:href='#icon-database'></use></svg></label><pre class='sc-var-data'>&lt;scipp.Variable&gt; ()  DatasetView        &lt;no unit&gt;  &lt;scipp.Dataset&gt;\n",
       "Dimensions: Sizes[cylinder:1, ]\n",
       "Data:\n",
       "  face1_center              vector3              [m]  (cylinder)  [(0, 0, 0)]\n",
       "  face1_edge                vector3              [m]  (cylinder)  [(0, -0.00257703, 0.00305923)]\n",
       "  face2_center              vector3              [m]  (cylinder)  [(0.00194919, 0, 0)]\n",
       "\n",
       "</pre></span></li><li class='sc-var-item'><div class='sc-var-name'><span class='sc-aligned'>pixel_width</span></div><div class='sc-var-dims'>()</div><div class='sc-var-dtype'>float64</div><div class='sc-var-unit'>m</div><div class='sc-value-preview sc-preview'><span><div>4.144</div></span></div><input id='attrs-86fea310-453a-4a93-a3b4-3430a5583099' class='sc-var-attrs-in' type='checkbox' disabled><label for='attrs-86fea310-453a-4a93-a3b4-3430a5583099' class='sc-hide-icon' title='Show/Hide attributes'><svg class='icon sc-icon-file-text2'><use xlink:href='#icon-file-text2'></use></svg></label><input id='data-bb3eb9be-a248-4666-a142-5892467e6c14' class='sc-var-data-in' type='checkbox'><label for='data-bb3eb9be-a248-4666-a142-5892467e6c14' title='Show/Hide data repr'><svg class='icon sc-icon-database'><use xlink:href='#icon-database'></use></svg></label><pre class='sc-var-data'>Values:<br>array(4.144)</pre></span></li><li class='sc-var-item'><div class='sc-var-name'><span class='sc-aligned'>position</span></div><div class='sc-var-dims'>(spectrum)</div><div class='sc-var-dtype'>vector3</div><div class='sc-var-unit'>m</div><div class='sc-value-preview sc-preview'><span><div>[-0.47102349  0.44636999  3.74232989], [-0.4690743   0.44636999  3.74232989], ..., [ 0.52306117 -0.41291     3.83644689], [ 0.5250103  -0.41291     3.83644689]</div></span></div><input id='attrs-0eed1fb3-0985-47e6-ab59-9cdba17d7c09' class='sc-var-attrs-in' type='checkbox' disabled><label for='attrs-0eed1fb3-0985-47e6-ab59-9cdba17d7c09' class='sc-hide-icon' title='Show/Hide attributes'><svg class='icon sc-icon-file-text2'><use xlink:href='#icon-file-text2'></use></svg></label><input id='data-9c24fe09-6980-4741-80a9-2910c49eec0d' class='sc-var-data-in' type='checkbox'><label for='data-9c24fe09-6980-4741-80a9-2910c49eec0d' title='Show/Hide data repr'><svg class='icon sc-icon-database'><use xlink:href='#icon-database'></use></svg></label><pre class='sc-var-data'>Values:<br>array([[-0.47102349,  0.44636999,  3.74232989],\n",
       "       [-0.4690743 ,  0.44636999,  3.74232989],\n",
       "       [-0.46712512,  0.44636999,  3.74232989],\n",
       "       ...,\n",
       "       [ 0.52111198, -0.41291   ,  3.83644689],\n",
       "       [ 0.52306117, -0.41291   ,  3.83644689],\n",
       "       [ 0.5250103 , -0.41291   ,  3.83644689]])</pre></span></li><li class='sc-var-item'><div class='sc-var-name'><span class='sc-aligned'>sample_position</span></div><div class='sc-var-dims'>()</div><div class='sc-var-dtype'>vector3</div><div class='sc-var-unit'>m</div><div class='sc-value-preview sc-preview'><span><div>[0. 0. 0.]</div></span></div><input id='attrs-e32bf847-091e-4ba8-b50c-cb182b4b178c' class='sc-var-attrs-in' type='checkbox' disabled><label for='attrs-e32bf847-091e-4ba8-b50c-cb182b4b178c' class='sc-hide-icon' title='Show/Hide attributes'><svg class='icon sc-icon-file-text2'><use xlink:href='#icon-file-text2'></use></svg></label><input id='data-858b66b3-7236-40d9-a286-6b9a27fd7dad' class='sc-var-data-in' type='checkbox'><label for='data-858b66b3-7236-40d9-a286-6b9a27fd7dad' title='Show/Hide data repr'><svg class='icon sc-icon-database'><use xlink:href='#icon-database'></use></svg></label><pre class='sc-var-data'>Values:<br>array([0., 0., 0.])</pre></span></li><li class='sc-var-item'><div class='sc-var-name'><span class='sc-aligned'>source_position</span></div><div class='sc-var-dims'>()</div><div class='sc-var-dtype'>vector3</div><div class='sc-var-unit'>m</div><div class='sc-value-preview sc-preview'><span><div>[  0.     0.   -25.61]</div></span></div><input id='attrs-5908c7f0-ca55-4567-ae34-86be4f5807c2' class='sc-var-attrs-in' type='checkbox' disabled><label for='attrs-5908c7f0-ca55-4567-ae34-86be4f5807c2' class='sc-hide-icon' title='Show/Hide attributes'><svg class='icon sc-icon-file-text2'><use xlink:href='#icon-file-text2'></use></svg></label><input id='data-e615ae3a-62ca-4fa4-9e37-586951615fc0' class='sc-var-data-in' type='checkbox'><label for='data-e615ae3a-62ca-4fa4-9e37-586951615fc0' title='Show/Hide data repr'><svg class='icon sc-icon-database'><use xlink:href='#icon-database'></use></svg></label><pre class='sc-var-data'>Values:<br>array([  0.  ,   0.  , -25.61])</pre></span></li><li class='sc-var-item'><div class='sc-var-name'><span class='sc-aligned'>spectrum</span></div><div class='sc-var-dims'>(spectrum)</div><div class='sc-var-dtype'>int32</div><div class='sc-var-unit'></div><div class='sc-value-preview sc-preview'><span><div>1, 2, ..., 458751, 458752</div></span></div><input id='attrs-aa82e438-2a5b-468d-b810-02cf69126d04' class='sc-var-attrs-in' type='checkbox' disabled><label for='attrs-aa82e438-2a5b-468d-b810-02cf69126d04' class='sc-hide-icon' title='Show/Hide attributes'><svg class='icon sc-icon-file-text2'><use xlink:href='#icon-file-text2'></use></svg></label><input id='data-d628a133-1c1b-4511-9f2f-0e30455fd362' class='sc-var-data-in' type='checkbox'><label for='data-d628a133-1c1b-4511-9f2f-0e30455fd362' title='Show/Hide data repr'><svg class='icon sc-icon-database'><use xlink:href='#icon-database'></use></svg></label><pre class='sc-var-data'>Values:<br>array([     1,      2,      3, ..., 458750, 458751, 458752], dtype=int32)</pre></span></li><li class='sc-var-item'><div class='sc-var-name'><span class='sc-aligned'>tof</span></div><div class='sc-var-dims'>(tof [bin-edge])</div><div class='sc-var-dtype'>float64</div><div class='sc-var-unit'>ns</div><div class='sc-value-preview sc-preview'><span><div>284.0, 1.000e+08</div></span></div><input id='attrs-31aaffbd-c25e-4f24-a3a2-11373016ddc9' class='sc-var-attrs-in' type='checkbox' disabled><label for='attrs-31aaffbd-c25e-4f24-a3a2-11373016ddc9' class='sc-hide-icon' title='Show/Hide attributes'><svg class='icon sc-icon-file-text2'><use xlink:href='#icon-file-text2'></use></svg></label><input id='data-3a373d4e-b8bc-4d07-aab8-5894e6869616' class='sc-var-data-in' type='checkbox'><label for='data-3a373d4e-b8bc-4d07-aab8-5894e6869616' title='Show/Hide data repr'><svg class='icon sc-icon-database'><use xlink:href='#icon-database'></use></svg></label><pre class='sc-var-data'>Values:<br>array([2.8400000e+02, 9.9999387e+07])</pre></span></li></ul></div></li><li class='sc-section-item'><input id='section-26d99ad3-cc63-494d-9973-f0108efb7be5' class='sc-section-summary-in' type='checkbox'  checked><label for='section-26d99ad3-cc63-494d-9973-f0108efb7be5' class='sc-section-summary' >Data: <span>(1)</span></label><div class='sc-section-inline-details'></div><div class='sc-section-details'><ul class='sc-var-list'><li class='sc-var-item'><div class='sc-var-name'><span></span></div><div class='sc-var-dims'>(spectrum, tof)</div><div class='sc-var-dtype'>DataArrayView</div><div class='sc-var-unit'></div><div class='sc-value-preview sc-preview'><span><div>binned data [len=0, len=0, ..., len=0, len=0]</div></span></div><input id='attrs-0f891c10-05d5-43ef-bffd-57d74350767b' class='sc-var-attrs-in' type='checkbox' disabled><label for='attrs-0f891c10-05d5-43ef-bffd-57d74350767b' class='sc-hide-icon' title='Show/Hide attributes'><svg class='icon sc-icon-file-text2'><use xlink:href='#icon-file-text2'></use></svg></label><input id='data-b71afb5a-4d68-4c81-bdb1-fa4a44e22164' class='sc-var-data-in' type='checkbox'><label for='data-b71afb5a-4d68-4c81-bdb1-fa4a44e22164' title='Show/Hide data repr'><svg class='icon sc-icon-database'><use xlink:href='#icon-database'></use></svg></label><pre class='sc-var-data'>dim=&#x27;event&#x27;,\n",
       "content=DataArray(\n",
       "          dims=(event: 17419279),\n",
       "          data=float32[counts],\n",
       "          coords={&#x27;tof&#x27;:int32[ns], &#x27;pulse_time&#x27;:datetime64[ns]})</pre></li></ul></div></li><li class='sc-section-item'><input id='section-e4b17ce3-1728-4e59-a386-69ecfc4e9194' class='sc-section-summary-in' type='checkbox'  checked><label for='section-e4b17ce3-1728-4e59-a386-69ecfc4e9194' class='sc-section-summary' >Masks: <span>(2)</span></label><div class='sc-section-inline-details'></div><div class='sc-section-details'><ul class='sc-var-list'><li class='sc-var-item'><div class='sc-var-name'><span>all</span></div><div class='sc-var-dims'>(spectrum)</div><div class='sc-var-dtype'>bool</div><div class='sc-var-unit'></div><div class='sc-value-preview sc-preview'><span><div>True, True, ..., True, True</div></span></div><input id='attrs-ee75af66-4465-4520-8675-0fd14cf1ba53' class='sc-var-attrs-in' type='checkbox' disabled><label for='attrs-ee75af66-4465-4520-8675-0fd14cf1ba53' class='sc-hide-icon' title='Show/Hide attributes'><svg class='icon sc-icon-file-text2'><use xlink:href='#icon-file-text2'></use></svg></label><input id='data-7f180ed5-7c21-4de3-97d5-1fbdbffac80d' class='sc-var-data-in' type='checkbox'><label for='data-7f180ed5-7c21-4de3-97d5-1fbdbffac80d' title='Show/Hide data repr'><svg class='icon sc-icon-database'><use xlink:href='#icon-database'></use></svg></label><pre class='sc-var-data'>Values:<br>array([ True,  True,  True, ...,  True,  True,  True])</pre></span></li><li class='sc-var-item'><div class='sc-var-name'><span>straws</span></div><div class='sc-var-dims'>(spectrum)</div><div class='sc-var-dtype'>bool</div><div class='sc-var-unit'></div><div class='sc-value-preview sc-preview'><span><div>False, False, ..., True, True</div></span></div><input id='attrs-ceb830c0-c86a-4679-a216-4826a0904182' class='sc-var-attrs-in' type='checkbox' disabled><label for='attrs-ceb830c0-c86a-4679-a216-4826a0904182' class='sc-hide-icon' title='Show/Hide attributes'><svg class='icon sc-icon-file-text2'><use xlink:href='#icon-file-text2'></use></svg></label><input id='data-2a099407-22b8-4cbc-90e2-9ff75be42e87' class='sc-var-data-in' type='checkbox'><label for='data-2a099407-22b8-4cbc-90e2-9ff75be42e87' title='Show/Hide data repr'><svg class='icon sc-icon-database'><use xlink:href='#icon-database'></use></svg></label><pre class='sc-var-data'>Values:<br>array([False, False, False, ...,  True,  True,  True])</pre></span></li></ul></div></li><li class='sc-section-item'><input id='section-c4b1a22d-fa03-4a5b-8650-5897c1d03c92' class='sc-section-summary-in' type='checkbox'  checked><label for='section-c4b1a22d-fa03-4a5b-8650-5897c1d03c92' class='sc-section-summary' >Attributes: <span>(8)</span></label><div class='sc-section-inline-details'></div><div class='sc-section-details'><ul class='sc-var-list'><li class='sc-var-item'><div class='sc-var-name'><span>base_position</span></div><div class='sc-var-dims'>(spectrum)</div><div class='sc-var-dtype'>vector3</div><div class='sc-var-unit'>m</div><div class='sc-value-preview sc-preview'><span><div>[ 0.      -0.00114 -0.00767], [ 0.00194919 -0.00114    -0.00767   ], ..., [ 0.99408466 -0.86041999  0.086447  ], [ 0.99603379 -0.86041999  0.086447  ]</div></span></div><input id='attrs-62ea0a30-3a6e-4c20-a536-0c566286bbbc' class='sc-var-attrs-in' type='checkbox' disabled><label for='attrs-62ea0a30-3a6e-4c20-a536-0c566286bbbc' class='sc-hide-icon' title='Show/Hide attributes'><svg class='icon sc-icon-file-text2'><use xlink:href='#icon-file-text2'></use></svg></label><input id='data-bae14b44-c057-4297-b135-4bbdd3afdca3' class='sc-var-data-in' type='checkbox'><label for='data-bae14b44-c057-4297-b135-4bbdd3afdca3' title='Show/Hide data repr'><svg class='icon sc-icon-database'><use xlink:href='#icon-database'></use></svg></label><pre class='sc-var-data'>Values:<br>array([[ 0.        , -0.00114   , -0.00767   ],\n",
       "       [ 0.00194919, -0.00114   , -0.00767   ],\n",
       "       [ 0.00389837, -0.00114   , -0.00767   ],\n",
       "       ...,\n",
       "       [ 0.99213547, -0.86041999,  0.086447  ],\n",
       "       [ 0.99408466, -0.86041999,  0.086447  ],\n",
       "       [ 0.99603379, -0.86041999,  0.086447  ]])</pre></li><li class='sc-var-item'><div class='sc-var-name'><span>end_time</span></div><div class='sc-var-dims'>()</div><div class='sc-var-dtype'>string</div><div class='sc-var-unit'></div><div class='sc-value-preview sc-preview'><span><div>2032-02-29T09:15:00.000Z</div></span></div><input id='attrs-a4284f84-d0b0-4c02-8505-fe468963ec28' class='sc-var-attrs-in' type='checkbox' disabled><label for='attrs-a4284f84-d0b0-4c02-8505-fe468963ec28' class='sc-hide-icon' title='Show/Hide attributes'><svg class='icon sc-icon-file-text2'><use xlink:href='#icon-file-text2'></use></svg></label><input id='data-87ea8224-ac92-45e1-a869-43aea57adbb1' class='sc-var-data-in' type='checkbox'><label for='data-87ea8224-ac92-45e1-a869-43aea57adbb1' title='Show/Hide data repr'><svg class='icon sc-icon-database'><use xlink:href='#icon-database'></use></svg></label><pre class='sc-var-data'>Values:<br>&#x27;2032-02-29T09:15:00.000Z&#x27;</pre></li><li class='sc-var-item'><div class='sc-var-name'><span>experiment_title</span></div><div class='sc-var-dims'>()</div><div class='sc-var-dtype'>string</div><div class='sc-var-unit'></div><div class='sc-value-preview sc-preview'><span><div>My experiment</div></span></div><input id='attrs-f52da9dd-6537-406d-bf1f-63e9ea43d8fd' class='sc-var-attrs-in' type='checkbox' disabled><label for='attrs-f52da9dd-6537-406d-bf1f-63e9ea43d8fd' class='sc-hide-icon' title='Show/Hide attributes'><svg class='icon sc-icon-file-text2'><use xlink:href='#icon-file-text2'></use></svg></label><input id='data-82eada1a-3c95-4791-b4f9-6b841d73b7db' class='sc-var-data-in' type='checkbox'><label for='data-82eada1a-3c95-4791-b4f9-6b841d73b7db' title='Show/Hide data repr'><svg class='icon sc-icon-database'><use xlink:href='#icon-database'></use></svg></label><pre class='sc-var-data'>Values:<br>&#x27;My experiment&#x27;</pre></li><li class='sc-var-item'><div class='sc-var-name'><span>monitor_1</span></div><div class='sc-var-dims'>()</div><div class='sc-var-dtype'>DataArray</div><div class='sc-var-unit'></div><div class='sc-value-preview sc-preview'><span><div>{dims=[tof: 1], unit=None, coords=[position]}</div></span></div><input id='attrs-1f65a04b-64b5-4c65-ac55-6343ec516584' class='sc-var-attrs-in' type='checkbox' disabled><label for='attrs-1f65a04b-64b5-4c65-ac55-6343ec516584' class='sc-hide-icon' title='Show/Hide attributes'><svg class='icon sc-icon-file-text2'><use xlink:href='#icon-file-text2'></use></svg></label><input id='data-fa699436-8033-489e-9bec-59591f68165f' class='sc-var-data-in' type='checkbox'><label for='data-fa699436-8033-489e-9bec-59591f68165f' title='Show/Hide data repr'><svg class='icon sc-icon-database'><use xlink:href='#icon-database'></use></svg></label><pre class='sc-var-data'>Values:<br>&lt;scipp.DataArray&gt;\n",
       "Dimensions: Sizes[tof:1, ]\n",
       "Coordinates:\n",
       "* position                  vector3              [m]  ()  (0, 0, -15.7905)\n",
       "Data:\n",
       "                          DataArrayView        &lt;no unit&gt;  (tof)  binned data: dim=&#x27;event&#x27;, content=DataArray(\n",
       "          dims=(event: 10193766),\n",
       "          data=float32[counts],\n",
       "          coords={&#x27;tof&#x27;:int32[ns], &#x27;detector_id&#x27;:int32, &#x27;pulse_time&#x27;:datetime64[ns]})\n",
       "\n",
       "</pre></li><li class='sc-var-item'><div class='sc-var-name'><span>monitor_2</span></div><div class='sc-var-dims'>()</div><div class='sc-var-dtype'>DataArray</div><div class='sc-var-unit'></div><div class='sc-value-preview sc-preview'><span><div>{dims=[tof: 1], unit=None, coords=[position]}</div></span></div><input id='attrs-13a685e6-5bc4-4cb5-87ac-973af2c2e230' class='sc-var-attrs-in' type='checkbox' disabled><label for='attrs-13a685e6-5bc4-4cb5-87ac-973af2c2e230' class='sc-hide-icon' title='Show/Hide attributes'><svg class='icon sc-icon-file-text2'><use xlink:href='#icon-file-text2'></use></svg></label><input id='data-64f4170c-6fdb-4823-9ea4-949275ec3a59' class='sc-var-data-in' type='checkbox'><label for='data-64f4170c-6fdb-4823-9ea4-949275ec3a59' title='Show/Hide data repr'><svg class='icon sc-icon-database'><use xlink:href='#icon-database'></use></svg></label><pre class='sc-var-data'>Values:<br>&lt;scipp.DataArray&gt;\n",
       "Dimensions: Sizes[tof:1, ]\n",
       "Coordinates:\n",
       "* position                  vector3              [m]  ()  (0, 0, 0.15)\n",
       "Data:\n",
       "                          DataArrayView        &lt;no unit&gt;  (tof)  binned data: dim=&#x27;event&#x27;, content=DataArray(\n",
       "          dims=(event: 72455),\n",
       "          data=float32[counts],\n",
       "          coords={&#x27;tof&#x27;:int32[ns], &#x27;detector_id&#x27;:int32, &#x27;pulse_time&#x27;:datetime64[ns]})\n",
       "\n",
       "</pre></li><li class='sc-var-item'><div class='sc-var-name'><span>position_transformations</span></div><div class='sc-var-dims'>()</div><div class='sc-var-dtype'>Variable</div><div class='sc-var-unit'></div><div class='sc-value-preview sc-preview'><span><div>&lt;scipp.Variable&gt; ()  translation3              [m]  (-0.499023, 0.43556, 4.099)</div></span></div><input id='attrs-ac778cce-8771-4a98-9aad-dbd732a5d2e0' class='sc-var-attrs-in' type='checkbox' disabled><label for='attrs-ac778cce-8771-4a98-9aad-dbd732a5d2e0' class='sc-hide-icon' title='Show/Hide attributes'><svg class='icon sc-icon-file-text2'><use xlink:href='#icon-file-text2'></use></svg></label><input id='data-9596861f-0f4c-4757-ad9f-75ab69e52e72' class='sc-var-data-in' type='checkbox'><label for='data-9596861f-0f4c-4757-ad9f-75ab69e52e72' title='Show/Hide data repr'><svg class='icon sc-icon-database'><use xlink:href='#icon-database'></use></svg></label><pre class='sc-var-data'>Values:<br>&lt;scipp.Variable&gt; ()  translation3              [m]  (-0.499023, 0.43556, 4.099)</pre></li><li class='sc-var-item'><div class='sc-var-name'><span>source</span></div><div class='sc-var-dims'>()</div><div class='sc-var-dtype'>PyObject</div><div class='sc-var-unit'></div><div class='sc-value-preview sc-preview'><span><div>DataGroup(sizes={}, keys=[&#x27;name&#x27;, &#x27;probe&#x27;, &#x27;type&#x27;, &#x27;depends_on&#x27;])</div></span></div><input id='attrs-ae5dbd97-32cb-442b-8fd0-62e32c3e1dd8' class='sc-var-attrs-in' type='checkbox' disabled><label for='attrs-ae5dbd97-32cb-442b-8fd0-62e32c3e1dd8' class='sc-hide-icon' title='Show/Hide attributes'><svg class='icon sc-icon-file-text2'><use xlink:href='#icon-file-text2'></use></svg></label><input id='data-731d8bc8-3024-4852-b1c1-d535b28cf01c' class='sc-var-data-in' type='checkbox'><label for='data-731d8bc8-3024-4852-b1c1-d535b28cf01c' title='Show/Hide data repr'><svg class='icon sc-icon-database'><use xlink:href='#icon-database'></use></svg></label><pre class='sc-var-data'>Values:<br>DataGroup(sizes={}, keys=[\n",
       "    name: moderato,\n",
       "    probe: neutro,\n",
       "    type: Spallation Neutron Sourc,\n",
       "    depends_on: Variable({}),\n",
       "])</pre></li><li class='sc-var-item'><div class='sc-var-name'><span>start_time</span></div><div class='sc-var-dims'>()</div><div class='sc-var-dtype'>string</div><div class='sc-var-unit'></div><div class='sc-value-preview sc-preview'><span><div>2022-02-28T21:15:00.000Z</div></span></div><input id='attrs-262b906a-753a-4aba-8961-3254c078cd04' class='sc-var-attrs-in' type='checkbox' disabled><label for='attrs-262b906a-753a-4aba-8961-3254c078cd04' class='sc-hide-icon' title='Show/Hide attributes'><svg class='icon sc-icon-file-text2'><use xlink:href='#icon-file-text2'></use></svg></label><input id='data-a2116132-7784-4055-b6ac-eea8f21acf1e' class='sc-var-data-in' type='checkbox'><label for='data-a2116132-7784-4055-b6ac-eea8f21acf1e' title='Show/Hide data repr'><svg class='icon sc-icon-database'><use xlink:href='#icon-database'></use></svg></label><pre class='sc-var-data'>Values:<br>&#x27;2022-02-28T21:15:00.000Z&#x27;</pre></li></ul></div></li></ul></div></div>"
      ],
      "text/plain": [
       "<scipp.DataArray>\n",
       "Dimensions: Sizes[spectrum:458752, tof:1, ]\n",
       "Coordinates:\n",
       "* pixel_height              float64              [m]  ()  4.144\n",
       "* pixel_shape             DatasetView        <no unit>  ()  <scipp.Dataset>\n",
       "Dimensions: Sizes[cylinder:1, ]\n",
       "Data:\n",
       "  face1_center              vector3              [m]  (cylinder)  [(0, 0, 0)]\n",
       "  face1_edge                vector3              [m]  (cylinder)  [(0, -0.00257703, 0.00305923)]\n",
       "  face2_center              vector3              [m]  (cylinder)  [(0.00194919, 0, 0)]\n",
       "\n",
       "\n",
       "* pixel_width               float64              [m]  ()  4.144\n",
       "* position                  vector3              [m]  (spectrum)  [(-0.471023, 0.44637, 3.74233), (-0.469074, 0.44637, 3.74233), ..., (0.523061, -0.41291, 3.83645), (0.52501, -0.41291, 3.83645)]\n",
       "* sample_position           vector3              [m]  ()  (0, 0, 0)\n",
       "* source_position           vector3              [m]  ()  (0, 0, -25.61)\n",
       "* spectrum                    int32        <no unit>  (spectrum)  [1, 2, ..., 458751, 458752]\n",
       "* tof                       float64             [ns]  (tof [bin-edge])  [284, 9.99994e+07]\n",
       "Data:\n",
       "                          DataArrayView        <no unit>  (spectrum, tof)  binned data: dim='event', content=DataArray(\n",
       "          dims=(event: 17419279),\n",
       "          data=float32[counts],\n",
       "          coords={'tof':int32[ns], 'pulse_time':datetime64[ns]})\n",
       "Masks:\n",
       "  all                          bool        <no unit>  (spectrum)  [True, True, ..., True, True]\n",
       "  straws                       bool        <no unit>  (spectrum)  [False, False, ..., True, True]\n",
       "Attributes:\n",
       "  base_position             vector3              [m]  (spectrum)  [(0, -0.00114, -0.00767), (0.00194919, -0.00114, -0.00767), ..., (0.994085, -0.86042, 0.086447), (0.996034, -0.86042, 0.086447)]\n",
       "  end_time                   string        <no unit>  ()  \"2032-02-29T09:15:00.000Z\"\n",
       "  experiment_title           string        <no unit>  ()  \"My experiment\"\n",
       "  monitor_1               DataArray        <no unit>  ()  DataArray(dims=(tof: 1), dtype=DataArrayView)\n",
       "  monitor_2               DataArray        <no unit>  ()  DataArray(dims=(tof: 1), dtype=DataArrayView)\n",
       "  position_transformations Variable        <no unit>  ()  Variable(dims=(), dtype=translation3, unit=m)\n",
       "  source                   PyObject        <no unit>  ()  DataGroup(sizes={}, keys=['name', 'probe', 'type', 'depends_on'])\n",
       "  start_time                 string        <no unit>  ()  \"2022-02-28T21:15:00.000Z\"\n"
      ]
     },
     "execution_count": 51,
     "metadata": {},
     "output_type": "execute_result"
    }
   ],
   "source": [
    "ds['sample']"
   ]
  },
  {
   "cell_type": "code",
   "execution_count": null,
   "id": "201122ba-faef-4a53-ad55-1ad49b480271",
   "metadata": {},
   "outputs": [],
   "source": []
  }
 ],
 "metadata": {
  "kernelspec": {
   "display_name": "Python 3 (ipykernel)",
   "language": "python",
   "name": "python3"
  },
  "language_info": {
   "codemirror_mode": {
    "name": "ipython",
    "version": 3
   },
   "file_extension": ".py",
   "mimetype": "text/x-python",
   "name": "python",
   "nbconvert_exporter": "python",
   "pygments_lexer": "ipython3",
   "version": "3.8.17"
  }
 },
 "nbformat": 4,
 "nbformat_minor": 5
}
