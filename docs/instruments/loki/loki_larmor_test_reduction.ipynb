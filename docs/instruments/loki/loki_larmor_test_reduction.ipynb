{
 "cells": [
  {
   "cell_type": "markdown",
   "id": "9a935df3-c816-4829-99c3-2afa979b7611",
   "metadata": {},
   "source": [
    "# Data reduction workflow for files generated on Larmor instrument\n",
    "\n",
    "Some addhoc approximations will need to be done in order to satisfy SANS2D workflow, e.g direct measurments, tramsmission fraction. "
   ]
  },
  {
   "cell_type": "code",
   "execution_count": 1,
   "id": "8c7f7cf7-0582-4953-a772-a0f87d1cf0e2",
   "metadata": {},
   "outputs": [],
   "source": [
    "import matplotlib.pyplot as plt\n",
    "import scipp as sc\n",
    "from ess import loki, sans\n",
    "import scippneutron as scn\n",
    "import plopp as pp\n",
    "%matplotlib widget"
   ]
  },
  {
   "cell_type": "markdown",
   "id": "7c6ffa2f-581e-4ed9-a269-5a0eacae9117",
   "metadata": {},
   "source": [
    "## Setting up scicat connection"
   ]
  },
  {
   "cell_type": "code",
   "execution_count": 2,
   "id": "0a21c993-e391-4293-b04d-26ba1a1411cf",
   "metadata": {},
   "outputs": [],
   "source": [
    "#TODO: Placeholder for now\n",
    "\n",
    "# import scitacean\n",
    "# scitacean.__version__\n",
    "\n",
    "\n",
    "# client = FakeClient(file_transfer=FakeFileTransfer(source_folder='/'))\n",
    "\n",
    "# direct_beam_uploaded = get_direct_beam(client)\n",
    "# sample_uploaded = get_sample(client, direct_beam_uploaded)\n",
    "\n",
    "# sample_remote = client.get_dataset(sample_uploaded.pid)\n",
    "# sample_local = client.download_files(sample_remote, target=\".\")\n"
   ]
  },
  {
   "cell_type": "markdown",
   "id": "b5d36f11-9903-48f8-a626-86f137995681",
   "metadata": {},
   "source": [
    "## Define reduction workflow parameters\n",
    "\n",
    "We define here whether to include the effects of gravity,\n",
    "as well as common time-of-flight, wavelength and $Q$ bins for all the measurements.\n",
    "\n",
    "We also define a range of wavelengths for the monitors that are considered to not be part of the background."
   ]
  },
  {
   "cell_type": "code",
   "execution_count": 3,
   "id": "239166d6-d62f-46e9-8316-83c26f0f05ce",
   "metadata": {},
   "outputs": [],
   "source": [
    "# Include effects of gravity?\n",
    "gravity = True\n",
    "\n",
    "#TODO: Using same wavelengths bins as direct beam is defined for but it may be different range (0.9-13.5)\n",
    "wavelength_bins = sc.linspace(dim='wavelength', start=2.2, stop=12.0, num=110,\n",
    "                              unit='angstrom')\n",
    "\n",
    "q_bins = sc.linspace(dim='Q', start=0.004, stop=0.4, num=110, unit='1/angstrom')\n"
   ]
  },
  {
   "cell_type": "markdown",
   "id": "bafd7ab4-d478-4c96-8196-69029fb221c4",
   "metadata": {},
   "source": [
    "## Loading data files\n",
    "\n",
    "We load the following files:\n",
    "\n",
    "- The direct beam function for the main detector (gives detector efficiency as a function of wavelength)\n",
    "- The sample measurement\n",
    "- The direct measurement: this is the run with the empty sample holder/cuvette\n",
    "- the background measurement: this is the run with only the solvent which the sample is placed in"
   ]
  },
  {
   "cell_type": "code",
   "execution_count": 4,
   "id": "2854b56a-8105-412b-bae2-4fc3c527db0f",
   "metadata": {},
   "outputs": [],
   "source": [
    "#Loading Mantid\n",
    "# filename = '60393-mantid-add.nxs'\n",
    "# path = '/Users/wojciechpotrzebowski/SCIPP_SPACE/direct_beam_iterations_2023/'\n",
    "# mantid_sample = scn.load(f'{path}/{filename}')\n",
    "#mantid_sample"
   ]
  },
  {
   "cell_type": "code",
   "execution_count": 5,
   "id": "6b96d1fb-2972-4af1-999a-9cd9817ca3c1",
   "metadata": {},
   "outputs": [],
   "source": [
    "def add_runs(runs, data_path): \n",
    "    \"\"\"\n",
    "    Adding data and monitors from different runs. Iterates over list of runs. \n",
    "    Currently returning two data sets, however it may also be possible to create one in order to use workflows\n",
    "    \"\"\"\n",
    "    input_file1 = f'{data_path}/{runs[0]}-2022-02-28_2215.nxs'\n",
    "    #fixed_file1 = f'{input_file1[:-4]}_fixed.nxs'\n",
    "    data1 = scn.load_nexus(data_file=input_file1)\n",
    "    da1 = data1.squeeze().copy()\n",
    "    summed_data = da1\n",
    "    summed_monitors_1 = da1.attrs['monitor_1'].value\n",
    "    summed_monitors_2 = da1.attrs['monitor_2'].value\n",
    "    #TODO: Should I take tof min and max and use it for setting boundaries\n",
    "\n",
    "    start_tof = data1.coords['tof'][0].values\n",
    "    end_tof = data1.coords['tof'][-1].values\n",
    "    for run in runs[1:]: \n",
    "        input_file2 = f'{data_path}/{run}-2022-02-28_2215.nxs'\n",
    "        #fixed_file2 = f'{input_file2[:-4]}_fixed.nxs'\n",
    "        data2 = scn.load_nexus(data_file=input_file2)\n",
    "        if start_tof <  data2.coords['tof'][0].values:\n",
    "            start_tof =  data1.coords['tof'][0].values\n",
    "        if end_tof > data2.coords['tof'][-1].values:\n",
    "            end_tof = data2.coords['tof'][-1].values\n",
    "        da2 = data2.squeeze().copy()\n",
    "        summed_data = summed_data.bins.concatenate(da2)\n",
    "        summed_monitors_1 = summed_monitors_1.bins.concatenate(da2.attrs['monitor_1'].value)\n",
    "        summed_monitors_2 = summed_monitors_2.bins.concatenate(da2.attrs['monitor_2'].value)\n",
    "\n",
    "    edges=sc.linspace('tof', start_tof, end_tof, 2, unit='ns')\n",
    "    summed_binned_data = sc.bin(summed_data, tof=edges)\n",
    "\n",
    "    #Adding montors from first data set\n",
    "    summed_binned_data.attrs['monitor_1'] = data1.attrs['monitor_1']\n",
    "    summed_binned_data.attrs['monitor_2'] = data1.attrs['monitor_2']\n",
    "    return summed_binned_data"
   ]
  },
  {
   "cell_type": "code",
   "execution_count": 6,
   "id": "0315d002-9cab-4ae4-8f63-c72a532f716b",
   "metadata": {},
   "outputs": [
    {
     "name": "stdout",
     "output_type": "stream",
     "text": [
      "FrameworkManager-[Notice] Welcome to Mantid 6.7.0\n",
      "FrameworkManager-[Notice] Please cite: http://dx.doi.org/10.1016/j.nima.2014.07.029 and this release: http://dx.doi.org/10.5286/Software/Mantid6.7\n",
      "DownloadInstrument-[Notice] All instrument definitions up to date\n",
      "Load-[Notice] Load started\n",
      "Load-[Notice] Load successful, Duration 12.50 seconds\n",
      "DeleteWorkspace-[Notice] DeleteWorkspace started\n",
      "DeleteWorkspace-[Notice] DeleteWorkspace successful, Duration 0.00 seconds\n"
     ]
    }
   ],
   "source": [
    "#ds_id = sc.Dataset()\n",
    "\n",
    "#sample_run_number = 60395\n",
    "sample_runs = [60250, 60264, 60292, 60308, 60322, 60339, 60353, 60367, 60381, 60395]\n",
    "sample_transmission_run_number = 60394\n",
    "background_run_number = 60393\n",
    "background_transmission_run_number = 60392\n",
    "empty_beam_run_number = 60392\n",
    "\n",
    "path = '/Users/wojciechpotrzebowski/SCIPP_SPACE/loki_detector_test/2022-06-24_calibrated_nexus_files/'\n",
    "#direct_beam = loki.io.load_rkh_wav(f'{path}/DirectBeam_20feb_full_v3.dat')\n",
    "direct_beam = scn.load(f'{path}/flat_g4_final_15Jun23_10-17.nxs')\n",
    "\n",
    "#sample = scn.load_nexus(data_file=f'{path}/{sample_run_number}-2022-02-28_2215.nxs')\n",
    "sample = add_runs(sample_runs, path)\n",
    "sample = sample.rename(detector_id = 'spectrum')\n",
    "\n",
    "\n",
    "#Mantid samples don't have montors, so we will need to pass them independently \n",
    "#sample = scn.load(f'{path}/{sample_run_number}-mantid-add.nxs')\n",
    "\n",
    "sample_trans = scn.load_nexus(data_file=f'{path}/{sample_transmission_run_number}-2022-02-28_2215.nxs')\n",
    "sample_trans = sample_trans.rename(detector_id = 'spectrum')\n",
    "\n",
    "#TODO: How about direct?\n",
    "#ds['direct'] = scn.load(filename=f'{path}/LARMOR000{background_run_number}.nxs')\n",
    "empty_beam = scn.load_nexus(data_file=f'{path}/{empty_beam_run_number}-2022-02-28_2215.nxs')\n",
    "empty_beam = empty_beam.rename(detector_id = 'spectrum')\n",
    "\n",
    "background = scn.load_nexus(data_file=f'{path}/{background_run_number}-2022-02-28_2215.nxs')\n",
    "background = background.rename(detector_id = 'spectrum')\n",
    "#background = scn.load(f'{path}/{background_run_number}-mantid-add.nxs')\n",
    "\n",
    "background_trans = scn.load_nexus(data_file=f'{path}/{background_transmission_run_number}-2022-02-28_2215.nxs')\n",
    "background_trans = background_trans.rename(detector_id = 'spectrum')\n",
    "\n",
    "ds = {'sample': sample, 'sample_trans': sample_trans, 'empty_beam': empty_beam, \n",
    "      'background': background, 'background_trans': background_trans}\n",
    "\n",
    "\n"
   ]
  },
  {
   "cell_type": "markdown",
   "id": "e3b0b991-85c4-40fe-a903-74b43716a155",
   "metadata": {},
   "source": [
    "## Apply corrections to pixel positions\n",
    "\n",
    "We apply some corrections to the detector pixel and monitor positions,\n",
    "as the geometry stored in the file is inaccurate."
   ]
  },
  {
   "cell_type": "code",
   "execution_count": 7,
   "id": "b616d643-8504-4eda-ba7a-bb73b85e7b80",
   "metadata": {},
   "outputs": [],
   "source": [
    "#sample_position 0, 0, 0 wrt to source?\n",
    "# Now shift pixels positions to get the correct beam center\n",
    "for da in ds.values():\n",
    "    da.coords[\"sample_position\"] = sc.vector(value=[0.0, 0.0, 0.0], unit='m')\n",
    "    #sample_pos_z_offset = 0.1 * sc.units.m\n",
    "    #bench_pos_y_offset = 0.001 * sc.units.m\n",
    "\n",
    "    da.coords[\"pixel_width\"] = 0.0075 * sc.units.m\n",
    "    da.coords[\"pixel_height\"] = 0.0117188 * sc.units.m\n",
    "\n",
    "    # -0.0035, -0.0035\n",
    "    #x_offset = 0.028 * sc.units.m\n",
    "    #y_offset = 0.01195 * sc.units.m\n",
    "    x_offset = 0.0035 * sc.units.m\n",
    "    y_offset = 0.0035 * sc.units.m\n",
    "    \n",
    "    # Now shift pixels positions to get the correct beam center\n",
    "    da.coords['position'].fields.x += x_offset\n",
    "    da.coords['position'].fields.y += y_offset\n",
    "\n",
    "#Direct beam treated separetly \n",
    "direct_beam.coords[\"sample_position\"] = sc.vector(value=[0.0, 0.0, 0.0], unit='m')\n",
    "direct_beam.coords[\"pixel_width\"] = 0.0075 * sc.units.m\n",
    "direct_beam.coords[\"pixel_height\"] = 0.0117188 * sc.units.m\n",
    "\n",
    "#x_offset = 0.028 * sc.units.m\n",
    "#y_offset = 0.01195 * sc.units.m\n",
    "\n",
    "x_offset = 0.0035 * sc.units.m\n",
    "y_offset = 0.0035 * sc.units.m\n",
    "\n",
    "# Now shift pixels positions to get the correct beam center\n",
    "direct_beam.coords['position'].fields.x += x_offset\n",
    "direct_beam.coords['position'].fields.y += y_offset"
   ]
  },
  {
   "cell_type": "markdown",
   "id": "eeb81dd1-078a-495b-8cff-49c474be65dd",
   "metadata": {},
   "source": [
    "## Masking\n",
    "\n",
    "The next step is to mask noisy and saturated pixels,\n",
    "as well as a time-of-flight range that contains spurious artifacts from the beamline components.\n",
    "\n",
    "**Note:** We use programatic masks here and not those stored in xml files.\n",
    "\n",
    "### Mask bad pixels\n",
    "\n",
    "We mask the edges of the detector, which are usually noisy.\n",
    "We also mask the region close to the center of the beam,\n",
    "so as to not include saturated pixels in our data reduction."
   ]
  },
  {
   "cell_type": "code",
   "execution_count": 8,
   "id": "e54e6899-4842-4b91-82ab-15c5ceef5edb",
   "metadata": {},
   "outputs": [],
   "source": [
    "mask_edges = (\n",
    "    (sc.abs(sample.coords['position'].fields.x - x_offset) > sc.scalar(0.45, unit='m')) |\n",
    "    (sc.abs(sample.coords['position'].fields.y - y_offset) > sc.scalar(0.45, unit='m')))\n",
    "\n",
    "mask_center = sc.sqrt(\n",
    "    sample.coords['position'].fields.x**2 +\n",
    "    sample.coords['position'].fields.y**2) < sc.scalar(0.035, unit='m')\n",
    "\n",
    "for da in ds.values():\n",
    "    da.masks['edges'] = mask_edges\n",
    "    da.masks['center'] = mask_center\n"
   ]
  },
  {
   "cell_type": "markdown",
   "id": "fbdf4c28-1135-4946-a07c-3fe70250a0e4",
   "metadata": {},
   "source": [
    "We can inspect that the coordinate corrections and masking were applied correctly by opening the instrument view."
   ]
  },
  {
   "cell_type": "code",
   "execution_count": 9,
   "id": "d323a004-1f4f-4c8a-9cd8-f81678bb9a91",
   "metadata": {},
   "outputs": [],
   "source": [
    "#scn.instrument_view(sample.hist(), pixel_size=0.0075)"
   ]
  },
  {
   "cell_type": "markdown",
   "id": "eef1cb3a-d3e8-4d5c-88fa-3ea5e3cdeb01",
   "metadata": {},
   "source": [
    "### Mask Bragg peaks in wavelength\n",
    "\n",
    "We will now take out the time regions with Bragg peaks from the beam stop and detector window, although in reality the peaks appear only close to the beam stop, and will make little difference to\n",
    "\n",
    "This could be implemented as masking specific time bins for a specific region in space, but for now we keep it simple."
   ]
  },
  {
   "cell_type": "code",
   "execution_count": 10,
   "id": "dd51368b-82b4-447d-a36a-345f134db264",
   "metadata": {},
   "outputs": [],
   "source": [
    "#TODO: This needs to be established\n",
    "wavelength_mask = sc.DataArray(\n",
    "    data=sc.array(dims=['wavelength'], values=[True]),\n",
    "    coords={\n",
    "        'wavelength': sc.array(\n",
    "            dims=['wavelength'], values=[2.21, 2.59], unit='angstrom'\n",
    "        )\n",
    "    },\n",
    ")"
   ]
  },
  {
   "cell_type": "code",
   "execution_count": 11,
   "id": "a0f807ae-dc15-41cc-92ad-d4f5fb569d2b",
   "metadata": {},
   "outputs": [],
   "source": [
    "#empty_beam.attrs[\"monitor_1\"].value.hist(tof=200).plot()"
   ]
  },
  {
   "cell_type": "markdown",
   "id": "173949b2-3ed5-4a37-9b40-a63491db7865",
   "metadata": {},
   "source": [
    "### Preprocess monitor"
   ]
  },
  {
   "cell_type": "code",
   "execution_count": 12,
   "id": "59591c9f-4d8c-47e9-a75f-0a5fd6d7e3ec",
   "metadata": {},
   "outputs": [],
   "source": [
    "monitors = {}\n",
    "for key, da in ds.items():\n",
    "    #TODO: Check this histogramming!\n",
    "    monitors[f'{key}-incident'] = da.attrs[\"monitor_1\"].value.hist(tof=200)\n",
    "    monitors[f'{key}-transmission'] = da.attrs[\"monitor_2\"].value.hist(tof=200)\n",
    "    monitors[f'{key}-incident'].coords['source_position'] = sc.vector(value=[0.0, 0.0, -9.82], unit='m')\n",
    "    monitors[f'{key}-transmission'].coords['source_position'] = sc.vector(value=[0.0, 0.0, -25.76], unit='m')\n",
    "    monitors[f'{key}-incident'].coords['position'] = sc.vector(value=[0.0, 0.0, 0.0], unit='m')\n",
    "    monitors[f'{key}-transmission'].coords['position'] = sc.vector(value=[0.0, 0.0, 0.0], unit='m')"
   ]
  },
  {
   "cell_type": "code",
   "execution_count": 13,
   "id": "fc8f3af2-d9bf-4f6d-a165-08e6502ad317",
   "metadata": {},
   "outputs": [],
   "source": [
    "monitor_graph = sans.conversions.sans_monitor()\n",
    "\n",
    "monitors = {\n",
    "     key: mon.transform_coords('wavelength', graph=monitor_graph)\n",
    "     for key, mon in monitors.items()\n",
    "}"
   ]
  },
  {
   "cell_type": "code",
   "execution_count": 14,
   "id": "45cbbb91-3611-4c74-95bc-e2ce1dd72fdf",
   "metadata": {},
   "outputs": [
    {
     "data": {
      "application/vnd.jupyter.widget-view+json": {
       "model_id": "5033b67bf03d433bbe876cc064b48a59",
       "version_major": 2,
       "version_minor": 0
      },
      "text/plain": [
       "InteractiveFig(children=(HBar(), HBox(children=(VBar(children=(Toolbar(children=(ButtonTool(icon='home', layou…"
      ]
     },
     "execution_count": 14,
     "metadata": {},
     "output_type": "execute_result"
    }
   ],
   "source": [
    "sc.plot(monitors, norm='log', grid=True)"
   ]
  },
  {
   "cell_type": "code",
   "execution_count": 15,
   "id": "a25919ad-ea90-42d1-9b19-ec2d6c4446bc",
   "metadata": {},
   "outputs": [],
   "source": [
    "\n",
    "# Define range outside of which monitor data is considered to be background\n",
    "non_background_range = sc.array(\n",
    "    dims=['wavelength'], values=[0.6, 13.7], unit='angstrom'\n",
    ")\n",
    "\n",
    "#TODO: It may be required that monitors are histogrammed\n",
    "# Run preprocessing\n",
    "monitors = sans.i_of_q.preprocess_monitor_data(\n",
    "    monitors, non_background_range=non_background_range, wavelength_bins=wavelength_bins\n",
    ")\n",
    "\n",
    "# Unpack monitors to make steps below easier\n",
    "sample_monitors = {\n",
    "    'incident': monitors['sample_trans-incident'],\n",
    "    'transmission': monitors['sample_trans-transmission'],\n",
    "}\n",
    "\n",
    "empty_beam_monitors = {\n",
    "    'incident': monitors['empty_beam-incident'],\n",
    "    'transmission': monitors['empty_beam-transmission'],\n",
    "}\n",
    "\n",
    "#Check this! It seems from Mantid code sample_monitors are the same as backgrounds\n",
    "background_monitors = {\n",
    "    'incident': monitors['background_trans-incident'],\n",
    "    'transmission': monitors['background_trans-transmission'],\n",
    "}"
   ]
  },
  {
   "cell_type": "markdown",
   "id": "9bac49fc-5c7c-418b-95a0-2c3d58ef53e6",
   "metadata": {},
   "source": [
    "### Direct beam midpoints\n",
    "This operation is needed for performing interpolation. Later, this can probably be dome i_of_q module, however we still need to see what exactly the format of direct beam function would be. "
   ]
  },
  {
   "cell_type": "code",
   "execution_count": 16,
   "id": "f6e7f69d-bfac-4b12-8bea-bc3ed548506f",
   "metadata": {},
   "outputs": [],
   "source": [
    "direct_beam = direct_beam.rebin(wavelength=wavelength_bins)\n",
    "direct_beam.coords['wavelength'] = sc.midpoints(direct_beam.coords['wavelength'])"
   ]
  },
  {
   "cell_type": "code",
   "execution_count": 17,
   "id": "00d2dcc5-c6f1-46ae-be98-c45601e65dd7",
   "metadata": {},
   "outputs": [],
   "source": [
    "direct_beam_selected = direct_beam['spectrum', 173162]"
   ]
  },
  {
   "cell_type": "code",
   "execution_count": 18,
   "id": "652aa470-74fe-4036-90e5-4eeead429831",
   "metadata": {},
   "outputs": [
    {
     "name": "stderr",
     "output_type": "stream",
     "text": [
      "An interpolation was performed on the direct_beam function. The variances in the direct_beam function have been dropped.\n"
     ]
    }
   ],
   "source": [
    "#NOTE: direct monitors is the same as sample (and backgroud)\n",
    "sample_q = sans.to_I_of_Q(data=ds['sample'],\n",
    "    data_monitors=sample_monitors,\n",
    "    direct_monitors=empty_beam_monitors,\n",
    "    direct_beam=direct_beam,\n",
    "    wavelength_bins=wavelength_bins,\n",
    "    q_bins=q_bins,\n",
    "    gravity=gravity,\n",
    "    wavelength_mask=wavelength_mask)"
   ]
  },
  {
   "cell_type": "code",
   "execution_count": 19,
   "id": "dba9fe02-5c65-4142-b94b-ccca2df879e2",
   "metadata": {},
   "outputs": [
    {
     "name": "stderr",
     "output_type": "stream",
     "text": [
      "An interpolation was performed on the direct_beam function. The variances in the direct_beam function have been dropped.\n"
     ]
    }
   ],
   "source": [
    "background_q = sans.to_I_of_Q(data=ds['background'],\n",
    "    data_monitors=background_monitors,\n",
    "    direct_monitors=empty_beam_monitors,\n",
    "    direct_beam=direct_beam,\n",
    "    wavelength_bins=wavelength_bins,\n",
    "    q_bins=q_bins,\n",
    "    gravity=gravity,\n",
    "    wavelength_mask=wavelength_mask)"
   ]
  },
  {
   "cell_type": "markdown",
   "id": "d88ac17e-233f-42ff-bc0c-930f797af1c1",
   "metadata": {},
   "source": [
    "We are now in a position to subtract the background from the sample measurement:"
   ]
  },
  {
   "cell_type": "code",
   "execution_count": 20,
   "id": "f3715d62-e58b-410a-97cd-cfc16bc32a28",
   "metadata": {},
   "outputs": [],
   "source": [
    "result = sample_q.bins.sum() - background_q.bins.sum()"
   ]
  },
  {
   "cell_type": "code",
   "execution_count": 21,
   "id": "674d479d-714f-412d-94e6-7469bd36b04c",
   "metadata": {},
   "outputs": [
    {
     "data": {
      "application/vnd.jupyter.widget-view+json": {
       "model_id": "217adb9c7e184d518845ccc2d3f9508f",
       "version_major": 2,
       "version_minor": 0
      },
      "text/plain": [
       "InteractiveFig(children=(HBar(), HBox(children=(VBar(children=(Toolbar(children=(ButtonTool(icon='home', layou…"
      ]
     },
     "execution_count": 21,
     "metadata": {},
     "output_type": "execute_result"
    }
   ],
   "source": [
    "result.plot()"
   ]
  },
  {
   "cell_type": "code",
   "execution_count": 22,
   "id": "68ec0502-76a1-4e4d-8730-c9089befc207",
   "metadata": {},
   "outputs": [
    {
     "name": "stderr",
     "output_type": "stream",
     "text": [
      "An interpolation was performed on the direct_beam function. The variances in the direct_beam function have been dropped.\n"
     ]
    }
   ],
   "source": [
    "#NOTE: direct monitors is the same as sample (and backgroud)\n",
    "sample_q_selected = sans.to_I_of_Q(data=ds['sample'],\n",
    "    data_monitors=sample_monitors,\n",
    "    direct_monitors=empty_beam_monitors,\n",
    "    direct_beam=direct_beam_selected,\n",
    "    wavelength_bins=wavelength_bins,\n",
    "    q_bins=q_bins,\n",
    "    gravity=gravity,\n",
    "    wavelength_mask=wavelength_mask)"
   ]
  },
  {
   "cell_type": "code",
   "execution_count": 23,
   "id": "861cb159-adf1-46d9-9d31-9c4642dfcb35",
   "metadata": {},
   "outputs": [
    {
     "name": "stderr",
     "output_type": "stream",
     "text": [
      "An interpolation was performed on the direct_beam function. The variances in the direct_beam function have been dropped.\n"
     ]
    }
   ],
   "source": [
    "background_q_selected = sans.to_I_of_Q(data=ds['background'],\n",
    "    data_monitors=background_monitors,\n",
    "    direct_monitors=empty_beam_monitors,\n",
    "    direct_beam=direct_beam_selected,\n",
    "    wavelength_bins=wavelength_bins,\n",
    "    q_bins=q_bins,\n",
    "    gravity=gravity,\n",
    "    wavelength_mask=wavelength_mask)"
   ]
  },
  {
   "cell_type": "code",
   "execution_count": 24,
   "id": "b9d854f3-4cc4-4888-8460-88a2ca02a0be",
   "metadata": {},
   "outputs": [],
   "source": [
    "result_selected = sample_q_selected.bins.sum() - background_q_selected.bins.sum()"
   ]
  },
  {
   "cell_type": "code",
   "execution_count": 25,
   "id": "3b07086d-eeb2-4b19-932c-763dd0042608",
   "metadata": {},
   "outputs": [
    {
     "data": {
      "application/vnd.jupyter.widget-view+json": {
       "model_id": "471706f9ef5344adba9494112bd92860",
       "version_major": 2,
       "version_minor": 0
      },
      "text/plain": [
       "InteractiveFig(children=(HBar(), HBox(children=(VBar(children=(Toolbar(children=(ButtonTool(icon='home', layou…"
      ]
     },
     "execution_count": 25,
     "metadata": {},
     "output_type": "execute_result"
    }
   ],
   "source": [
    "sc.plot({'selected': result_selected, 'full': result})"
   ]
  },
  {
   "cell_type": "code",
   "execution_count": 26,
   "id": "45eb3c94-db8f-4a74-9b49-208399feb12b",
   "metadata": {},
   "outputs": [
    {
     "name": "stdout",
     "output_type": "stream",
     "text": [
      "Load-[Notice] Load started\n",
      "ISISRunLogs-[Warning] Cannot find period log. Logs will be not be filtered by current period\n",
      "ISISRunLogs-[Warning] Cannot find periods log. Logs will be not be filtered by current period\n",
      "Load-[Notice] Load successful, Duration 0.90 seconds\n",
      "DeleteWorkspace-[Notice] DeleteWorkspace started\n",
      "DeleteWorkspace-[Notice] DeleteWorkspace successful, Duration 0.00 seconds\n"
     ]
    }
   ],
   "source": [
    "mantid_result = scn.load(f'{path}/ISIS_polymer_mantid.nxs')"
   ]
  },
  {
   "cell_type": "code",
   "execution_count": 27,
   "id": "3fb94b9e-93cc-41bc-afde-adc9db78549e",
   "metadata": {},
   "outputs": [
    {
     "data": {
      "application/vnd.jupyter.widget-view+json": {
       "model_id": "43a59d5f5a32428fafbdfff94ecb1a1d",
       "version_major": 2,
       "version_minor": 0
      },
      "text/plain": [
       "InteractiveFig(children=(HBar(), HBox(children=(VBar(children=(Toolbar(children=(ButtonTool(icon='home', layou…"
      ]
     },
     "execution_count": 27,
     "metadata": {},
     "output_type": "execute_result"
    }
   ],
   "source": [
    "sc.plot({'scipp': result, 'mantid': 0.00009*mantid_result})"
   ]
  },
  {
   "cell_type": "markdown",
   "id": "57679ad0-d04a-4c30-a2b3-78e9800f5ae0",
   "metadata": {},
   "source": [
    "<div class=\"alert alert-info\">\n",
    "\n",
    "**Note**\n",
    "\n",
    "Instead of `.bins.sum()`,\n",
    "one could use `sc.histogram()` above to define different `Q` bins compared to the ones defined at the top of the notebook.\n",
    "This can be done in event mode, see [here](https://scipp.github.io/user-guide/binned-data/computation.html#Subtraction).\n",
    "\n",
    "There may be performance advantages to first use a coarse `Q` binning when the computing `I(Q)` numerator,\n",
    "and use finer binning for the final results.\n",
    "\n",
    "</div>"
   ]
  },
  {
   "cell_type": "markdown",
   "id": "5c270fd9-beee-4abd-a51a-4d16ad54922e",
   "metadata": {},
   "source": [
    "## Wavelength bands\n",
    "\n",
    "It is often useful to process the data in a small number (~10) of separate wavelength bands.\n",
    "\n",
    "This can be achieved by requesting 10 bands from the `to_I_of_Q` workflow via the `wavelength_bands` argument."
   ]
  },
  {
   "cell_type": "code",
   "execution_count": 28,
   "id": "ca7e75fe-29f6-44c9-88c2-43d870044b4c",
   "metadata": {},
   "outputs": [
    {
     "name": "stderr",
     "output_type": "stream",
     "text": [
      "An interpolation was performed on the direct_beam function. The variances in the direct_beam function have been dropped.\n",
      "An interpolation was performed on the direct_beam function. The variances in the direct_beam function have been dropped.\n"
     ]
    },
    {
     "data": {
      "text/html": [
       "<div><!-- Original source from -->\n",
       "<!-- https://github.com/jsignell/xarray/blob/1d960933ab252e0f79f7e050e6c9261d55568057/xarray/static/html/icons-svg-inline.html -->\n",
       "<svg style=\"position: absolute; width: 0; height: 0; overflow: hidden\">\n",
       "<defs>\n",
       "<symbol id=\"icon-database\" viewBox=\"0 0 32 32\">\n",
       "<title>Show/Hide data repr</title>\n",
       "<path d=\"M16 0c-8.837 0-16 2.239-16 5v4c0 2.761 7.163 5 16 5s16-2.239 16-5v-4c0-2.761-7.163-5-16-5z\"></path>\n",
       "<path d=\"M16 17c-8.837 0-16-2.239-16-5v6c0 2.761 7.163 5 16 5s16-2.239 16-5v-6c0 2.761-7.163 5-16 5z\"></path>\n",
       "<path d=\"M16 26c-8.837 0-16-2.239-16-5v6c0 2.761 7.163 5 16 5s16-2.239 16-5v-6c0 2.761-7.163 5-16 5z\"></path>\n",
       "</symbol>\n",
       "<symbol id=\"icon-file-text2\" viewBox=\"0 0 32 32\">\n",
       "<title>Show/Hide attributes</title>\n",
       "<path d=\"M28.681 7.159c-0.694-0.947-1.662-2.053-2.724-3.116s-2.169-2.030-3.116-2.724c-1.612-1.182-2.393-1.319-2.841-1.319h-15.5c-1.378 0-2.5 1.121-2.5 2.5v27c0 1.378 1.122 2.5 2.5 2.5h23c1.378 0 2.5-1.122 2.5-2.5v-19.5c0-0.448-0.137-1.23-1.319-2.841zM24.543 5.457c0.959 0.959 1.712 1.825 2.268 2.543h-4.811v-4.811c0.718 0.556 1.584 1.309 2.543 2.268zM28 29.5c0 0.271-0.229 0.5-0.5 0.5h-23c-0.271 0-0.5-0.229-0.5-0.5v-27c0-0.271 0.229-0.5 0.5-0.5 0 0 15.499-0 15.5 0v7c0 0.552 0.448 1 1 1h7v19.5z\"></path>\n",
       "<path d=\"M23 26h-14c-0.552 0-1-0.448-1-1s0.448-1 1-1h14c0.552 0 1 0.448 1 1s-0.448 1-1 1z\"></path>\n",
       "<path d=\"M23 22h-14c-0.552 0-1-0.448-1-1s0.448-1 1-1h14c0.552 0 1 0.448 1 1s-0.448 1-1 1z\"></path>\n",
       "<path d=\"M23 18h-14c-0.552 0-1-0.448-1-1s0.448-1 1-1h14c0.552 0 1 0.448 1 1s-0.448 1-1 1z\"></path>\n",
       "</symbol>\n",
       "</defs>\n",
       "</svg><style id=\"scipp-style-sheet\">.sc-root{--sc-background-color0:var(--jp-layout-color0,#fff);--sc-background-color1:var(--jp-layout-color1,#fcfcfc);--sc-background-color2:var(--jp-layout-color2,#efefef);--sc-inverse-background-color0:var(--jp-inverse-layout-color4,#111);--sc-font-color0:var(--jp-content-font-color0,#000);--sc-font-color1:var(--jp-content-font-color1,#555);--sc-font-color2:var(--jp-content-font-color2,#888);--sc-font-color3:var(--jp-content-font-color3,#ccc);--sc-table-data-color:#f6d028;--sc-table-coords-color:#c6e590;--sc-table-masks-color:#c8c8c8;--sc-table-attrs-color:#ff5555;--sc-table-header-font-color:#111111;}.sc-wrap{font-size:14px;min-width:300px;max-width:800px;}.sc-var-attrs .sc-wrap{padding-left:3em;}.sc-header{padding-top:6px;padding-bottom:6px;margin-bottom:4px;border-bottom:solid 1px #ddd;}.sc-header > div,.sc-header > ul{display:inline;margin-top:0;margin-bottom:0;}.sc-obj-type,.sc-array-name{margin-left:2px;margin-right:10px;}.sc-obj-type{color:var(--sc-font-color1);}.sc-underlying-size{color:var(--sc-font-color2);}.sc-sections,.reveal .sc-sections{padding-left:0 !important;display:grid;grid-template-columns:150px auto auto auto 1fr 20px 20px;}.sc-section-item{display:contents;}.sc-section-item input{display:none;}.sc-section-item input:enabled + label{cursor:pointer;color:var(--sc-font-color1);}.sc-section-item input:enabled + label:hover{color:var(--sc-font-color0);}.sc-section-summary{grid-column:1;font-weight:500;}.sc-section-summary > span{display:inline-block;padding-left:0.5em;}.sc-section-summary-in:disabled + label{color:var(--sc-font-color1);}.sc-section-summary-in + label:before{display:inline-block;content:'►';font-size:11px;width:15px;text-align:center;}.sc-section-summary-in:disabled + label:before{color:var(--sc-font-color3);}.sc-section-summary-in:checked + label:before{content:'▼';}.sc-section-summary-in:checked + label > span{display:none;}.sc-section-summary,.sc-section-inline-details{padding-top:4px;padding-bottom:4px;}.sc-section-inline-details{grid-column:2 / 6;}.sc-section-details{display:none;grid-column:1 / -1;margin-bottom:5px;}.sc-section-summary-in:checked ~ .sc-section-details{display:contents;}.sc-array-wrap{grid-column:1 / -1;display:grid;grid-template-columns:20px auto;}.sc-array-wrap > label{grid-column:1;vertical-align:top;}.sc-preview{color:var(--sc-font-color2);}.sc-array-preview,.sc-array-data{padding:0 5px !important;grid-column:2;}.sc-array-data,.sc-array-in:checked ~ .sc-array-preview{display:none;}.sc-array-in:checked ~ .sc-array-data,.sc-array-preview{display:inline-block;}.sc-dim-list{display:inline-block !important;list-style:none;padding:0 !important;margin:0;}.sc-dim-list li{display:inline-block;padding:0;margin:0!important;}.sc-dim-list:before{content:'(';}.sc-dim-list:after{content:')';}.sc-dim-list li:not(:last-child):after{content:',';padding-right:5px;}.sc-dim-list li span,.sc-standalone-var-name > span span,.sc-var-name > span span{padding:0 !important;}.sc-aligned{font-weight:bold;}.sc-var-list,.sc-var-item,.reveal .sc-var-list,.reveal .sc-var-item{display:contents;}.sc-var-item > div,.sc-var-item label,.sc-var-item > .sc-var-name span{background-color:var(--sc-background-color1);margin-bottom:0;}.sc-var-item > .sc-var-name:hover span{padding-right:5px;}.sc-var-list > li:nth-child(odd) > div,.sc-var-list > li:nth-child(odd) > label,.sc-var-list > li:nth-child(odd) > .sc-var-name span{background-color:var(--sc-background-color2);}.sc-var-name{grid-column:1;}.sc-var-dims{grid-column:2;}.sc-var-dtype{grid-column:3;text-align:right;color:var(--sc-font-color2);}.sc-var-unit{grid-column:4;text-align:left;color:var(--sc-font-color1);max-width:50pt;text-overflow:ellipsis;}.sc-value-preview{grid-column:5;}.sc-var-preview-variances{text-align:right;}.sc-sections .sc-section-item .sc-section-summary,.sc-sections .sc-section-item .sc-section-inline-details,.sc-section-item .sc-var-list .sc-var-item > div,.sc-section-item .sc-var-list .sc-var-item > label,.sc-section-details .sc-var-list .sc-var-item > div,.sc-section-details .sc-var-list .sc-var-item > label{margin-top:0;margin-bottom:0;}.sc-var-name,.sc-var-dims,.sc-var-dtype,.sc-var-unit,.sc-preview,.sc-attrs dt{white-space:nowrap;overflow:hidden;text-overflow:ellipsis;padding-right:10px;}.sc-var-name:hover,.sc-var-dims:hover,.sc-var-dtype:hover,.sc-var-unit:hover,.sc-attrs dt:hover{overflow:visible;width:auto;z-index:1;}.sc-var-attrs{display:block;}.sc-var-data,.reveal .sc-var-data{display:none;}.sc-var-attrs,.sc-var-data{background-color:var(--sc-background-color0) !important;padding-bottom:5px !important;}.sc-var-attrs-in:checked ~ .sc-var-attrs{display:none;}.sc-var-data-in:checked ~ .sc-var-data{display:block;}.sc-var-data > table{float:right;}.sc-var-name span,.sc-var-data{padding-left:25px !important;}.sc-var-attrs,.sc-var-data{grid-column:1 / -1;}dl.sc-attrs{padding:0;margin:0;display:grid;grid-template-columns:125px auto;}.sc-attrs dt,dd{padding:0;margin:0;float:left;padding-right:10px;width:auto;}.sc-attrs dt{font-weight:normal;grid-column:1;}.sc-attrs dt:hover span{display:inline-block;padding-right:10px;}.sc-attrs dd{grid-column:2;white-space:pre-wrap;word-break:break-all;}.sc-icon-database,.sc-icon-file-text2{display:inline-block;vertical-align:middle;width:1em;height:1.5em !important;stroke-width:0;stroke:currentColor;fill:currentColor;}label.sc-hide-icon svg{opacity:0;}.sc-standalone-var-name{grid-column:1/3;}.sc-standalone-var-name span{padding-left:25px;padding-right:10px;}.sc-table{border-collapse:collapse;}.sc-title{font-weight:bold;font-size:1.5em;}.sc-subtitle{font-weight:normal;font-style:italic;text-align:left;font-size:1.2em;padding:1px;}.sc-table th,.sc-table td{border:1px solid var(--sc-inverse-background-color0);padding:0 5px 0 5px;}.sc-table th{text-align:center;}.sc-table tr{background-color:var(--sc-background-color1);text-align:right;}.sc-table tr:hover{background-color:var(--sc-background-color2);}.sc-table th.sc-data{background-color:var(--sc-table-data-color);color:var(--sc-table-header-font-color);}.sc-table th.sc-coords{background-color:var(--sc-table-coords-color);color:var(--sc-table-header-font-color);}.sc-table th.sc-masks{background-color:var(--sc-table-masks-color);color:var(--sc-table-header-font-color);}.sc-table th.sc-attrs{background-color:var(--sc-table-attrs-color);color:var(--sc-table-header-font-color);}.sc-table th.sc-subheader{background-color:var(--sc-background-color2);}.sc-table td.sc-padding{background-color:var(--sc-background-color1);border:0 solid var(--sc-background-color1);height:1.2em;}.sc-label{fill:var(--sc-font-color0,#444444);text-anchor:middle;}.sc-name{fill:var(--sc-font-color0,#111111);}.sc-inset-line{stroke:var(--sc-font-color1);stroke-width:0.05;stroke-dasharray:0.2,0.2;}.sc-log-wrap{height:25ex;resize:vertical;overflow-y:scroll;display:flex;flex-direction:column-reverse;border:1px solid;border-color:var(--jp-border-color2);background-color:var(--sc-background-color1);}div.sc-log{line-height:2.5ex;}table.sc-log{table-layout:auto;border-collapse:collapse;}tr.sc-log:nth-child(even){background-color:var(--sc-background-color0);}tr.sc-log > td{vertical-align:top;padding-bottom:0.5ex;}.sc-log-time-stamp{min-width:22ch;font-family:var(--jp-code-font-family);color:var(--sc-font-color2);}.sc-log-level{min-width:10ch;}tr.sc-log-debug td.sc-log-level{color:var(--jp-accent-color1);}tr.sc-log-info td.sc-log-level{color:var(--jp-info-color1);}tr.sc-log-warning td.sc-log-level{color:var(--jp-warn-color1);}tr.sc-log-error td.sc-log-level{font-weight:bold;color:var(--jp-error-color2);}tr.sc-log-critical td.sc-log-level{font-weight:bold;color:var(--sc-background-color0);background-color:var(--jp-error-color1);}.sc-log-message{white-space:pre-wrap;width:100%;}.sc-log-html-payload{white-space:normal;}.sc-log-name{padding-right:0.5em;text-align:right;white-space:pre-wrap;color:var(--sc-font-color3);}</style><div class='sc-wrap sc-root'><div class='sc-header'><div class='sc-obj-type'>scipp.DataArray (13.51 KB)</div></div><ul class='sc-sections'><li class='sc-section-item'><input id='section-36653238-ed37-45db-a593-93ac59168dae' class='sc-section-summary-in' type='checkbox' disabled ><label for='section-36653238-ed37-45db-a593-93ac59168dae' class='sc-section-summary'  title='Expand/collapse section'>Dimensions:</label><div class='sc-section-inline-details'><ul class='sc-dim-list'><li><span class='sc-has-index'>Q</span>: 109</li><li><span class='sc-has-index'>wavelength</span>: 10</li></ul></div><div class='sc-section-details'></div></li><li class='sc-section-item'><input id='section-17adb202-d71a-40eb-92b1-54bd4e932b8b' class='sc-section-summary-in' type='checkbox'  checked><label for='section-17adb202-d71a-40eb-92b1-54bd4e932b8b' class='sc-section-summary' >Coordinates: <span>(10)</span></label><div class='sc-section-inline-details'></div><div class='sc-section-details'><ul class='sc-var-list'><li class='sc-var-item'><div class='sc-var-name'><span>L1</span></div><div class='sc-var-dims'>()</div><div class='sc-var-dtype'>float64</div><div class='sc-var-unit'>m</div><div class='sc-value-preview sc-preview'><span><div>25.610000610351562</div></span></div><input id='attrs-bb9e59a2-d581-4b5b-9721-71ca7a11bbb2' class='sc-var-attrs-in' type='checkbox' disabled><label for='attrs-bb9e59a2-d581-4b5b-9721-71ca7a11bbb2' class='sc-hide-icon' title='Show/Hide attributes'><svg class='icon sc-icon-file-text2'><use xlink:href='#icon-file-text2'></use></svg></label><input id='data-5e8e01ff-dbe0-4ed5-a677-6e3b3dc9acbd' class='sc-var-data-in' type='checkbox'><label for='data-5e8e01ff-dbe0-4ed5-a677-6e3b3dc9acbd' title='Show/Hide data repr'><svg class='icon sc-icon-database'><use xlink:href='#icon-database'></use></svg></label><pre class='sc-var-data'>Values:<br>array(25.61000061)</pre></span></li><li class='sc-var-item'><div class='sc-var-name'><span class='sc-aligned'>Q</span></div><div class='sc-var-dims'>(Q [bin-edge])</div><div class='sc-var-dtype'>float64</div><div class='sc-var-unit'>1/Å</div><div class='sc-value-preview sc-preview'><span><div>0.004, 0.008, ..., 0.396, 0.4</div></span></div><input id='attrs-2be70f1a-327e-45d3-aeb9-06119a58324b' class='sc-var-attrs-in' type='checkbox' disabled><label for='attrs-2be70f1a-327e-45d3-aeb9-06119a58324b' class='sc-hide-icon' title='Show/Hide attributes'><svg class='icon sc-icon-file-text2'><use xlink:href='#icon-file-text2'></use></svg></label><input id='data-6c82f3af-787d-413e-9ede-f36414136d52' class='sc-var-data-in' type='checkbox'><label for='data-6c82f3af-787d-413e-9ede-f36414136d52' title='Show/Hide data repr'><svg class='icon sc-icon-database'><use xlink:href='#icon-database'></use></svg></label><pre class='sc-var-data'>Values:<br>array([0.004     , 0.00763303, 0.01126606, 0.01489908, 0.01853211,\n",
       "       0.02216514, 0.02579817, 0.02943119, 0.03306422, 0.03669725,\n",
       "       0.04033028, 0.0439633 , 0.04759633, 0.05122936, 0.05486239,\n",
       "       0.05849541, 0.06212844, 0.06576147, 0.0693945 , 0.07302752,\n",
       "       0.07666055, 0.08029358, 0.08392661, 0.08755963, 0.09119266,\n",
       "       0.09482569, 0.09845872, 0.10209174, 0.10572477, 0.1093578 ,\n",
       "       0.11299083, 0.11662385, 0.12025688, 0.12388991, 0.12752294,\n",
       "       0.13115596, 0.13478899, 0.13842202, 0.14205505, 0.14568807,\n",
       "       0.1493211 , 0.15295413, 0.15658716, 0.16022018, 0.16385321,\n",
       "       0.16748624, 0.17111927, 0.17475229, 0.17838532, 0.18201835,\n",
       "       0.18565138, 0.1892844 , 0.19291743, 0.19655046, 0.20018349,\n",
       "       0.20381651, 0.20744954, 0.21108257, 0.2147156 , 0.21834862,\n",
       "       0.22198165, 0.22561468, 0.22924771, 0.23288073, 0.23651376,\n",
       "       0.24014679, 0.24377982, 0.24741284, 0.25104587, 0.2546789 ,\n",
       "       0.25831193, 0.26194495, 0.26557798, 0.26921101, 0.27284404,\n",
       "       0.27647706, 0.28011009, 0.28374312, 0.28737615, 0.29100917,\n",
       "       0.2946422 , 0.29827523, 0.30190826, 0.30554128, 0.30917431,\n",
       "       0.31280734, 0.31644037, 0.32007339, 0.32370642, 0.32733945,\n",
       "       0.33097248, 0.3346055 , 0.33823853, 0.34187156, 0.34550459,\n",
       "       0.34913761, 0.35277064, 0.35640367, 0.3600367 , 0.36366972,\n",
       "       0.36730275, 0.37093578, 0.37456881, 0.37820183, 0.38183486,\n",
       "       0.38546789, 0.38910092, 0.39273394, 0.39636697, 0.4       ])</pre></span></li><li class='sc-var-item'><div class='sc-var-name'><span>gravity</span></div><div class='sc-var-dims'>()</div><div class='sc-var-dtype'>vector3</div><div class='sc-var-unit'>m/s^2</div><div class='sc-value-preview sc-preview'><span><div>[ 0.      -9.80665  0.     ]</div></span></div><input id='attrs-fb8a46ae-3030-4890-b00f-f497ac117c91' class='sc-var-attrs-in' type='checkbox' disabled><label for='attrs-fb8a46ae-3030-4890-b00f-f497ac117c91' class='sc-hide-icon' title='Show/Hide attributes'><svg class='icon sc-icon-file-text2'><use xlink:href='#icon-file-text2'></use></svg></label><input id='data-9301a281-b79e-46bc-bf3f-7afed4b05c2f' class='sc-var-data-in' type='checkbox'><label for='data-9301a281-b79e-46bc-bf3f-7afed4b05c2f' title='Show/Hide data repr'><svg class='icon sc-icon-database'><use xlink:href='#icon-database'></use></svg></label><pre class='sc-var-data'>Values:<br>array([ 0.     , -9.80665,  0.     ])</pre></span></li><li class='sc-var-item'><div class='sc-var-name'><span>incident_beam</span></div><div class='sc-var-dims'>()</div><div class='sc-var-dtype'>vector3</div><div class='sc-var-unit'>m</div><div class='sc-value-preview sc-preview'><span><div>[ 0.          0.         25.61000061]</div></span></div><input id='attrs-8df5f84f-4329-4d76-9ff8-00c578661249' class='sc-var-attrs-in' type='checkbox' disabled><label for='attrs-8df5f84f-4329-4d76-9ff8-00c578661249' class='sc-hide-icon' title='Show/Hide attributes'><svg class='icon sc-icon-file-text2'><use xlink:href='#icon-file-text2'></use></svg></label><input id='data-d15ac4a7-92f3-4779-ac9c-9c0f5125b0f2' class='sc-var-data-in' type='checkbox'><label for='data-d15ac4a7-92f3-4779-ac9c-9c0f5125b0f2' title='Show/Hide data repr'><svg class='icon sc-icon-database'><use xlink:href='#icon-database'></use></svg></label><pre class='sc-var-data'>Values:<br>array([ 0.        ,  0.        , 25.61000061])</pre></span></li><li class='sc-var-item'><div class='sc-var-name'><span class='sc-aligned'>pixel_height</span></div><div class='sc-var-dims'>()</div><div class='sc-var-dtype'>float64</div><div class='sc-var-unit'>m</div><div class='sc-value-preview sc-preview'><span><div>0.0117188</div></span></div><input id='attrs-3ad73016-8641-436f-b651-4eadcdbead9e' class='sc-var-attrs-in' type='checkbox' disabled><label for='attrs-3ad73016-8641-436f-b651-4eadcdbead9e' class='sc-hide-icon' title='Show/Hide attributes'><svg class='icon sc-icon-file-text2'><use xlink:href='#icon-file-text2'></use></svg></label><input id='data-95c03510-cf55-43f0-8a31-88d4fa69c22a' class='sc-var-data-in' type='checkbox'><label for='data-95c03510-cf55-43f0-8a31-88d4fa69c22a' title='Show/Hide data repr'><svg class='icon sc-icon-database'><use xlink:href='#icon-database'></use></svg></label><pre class='sc-var-data'>Values:<br>array(0.0117188)</pre></span></li><li class='sc-var-item'><div class='sc-var-name'><span class='sc-aligned'>pixel_shape</span></div><div class='sc-var-dims'>()</div><div class='sc-var-dtype'>DatasetView</div><div class='sc-var-unit'></div><div class='sc-value-preview sc-preview'><span><div>binned data [len=1]</div></span></div><input id='attrs-7e9d9362-a446-4764-afbc-a7d138322367' class='sc-var-attrs-in' type='checkbox' disabled><label for='attrs-7e9d9362-a446-4764-afbc-a7d138322367' class='sc-hide-icon' title='Show/Hide attributes'><svg class='icon sc-icon-file-text2'><use xlink:href='#icon-file-text2'></use></svg></label><input id='data-f080eb9b-d98f-4165-99ed-f85a2f399794' class='sc-var-data-in' type='checkbox'><label for='data-f080eb9b-d98f-4165-99ed-f85a2f399794' title='Show/Hide data repr'><svg class='icon sc-icon-database'><use xlink:href='#icon-database'></use></svg></label><pre class='sc-var-data'>&lt;scipp.Variable&gt; ()  DatasetView        &lt;no unit&gt;  &lt;scipp.Dataset&gt;\n",
       "Dimensions: Sizes[cylinder:1, ]\n",
       "Data:\n",
       "  face1_center              vector3              [m]  (cylinder)  [(0, 0, 0)]\n",
       "  face1_edge                vector3              [m]  (cylinder)  [(0, -0.00257703, 0.00305923)]\n",
       "  face2_center              vector3              [m]  (cylinder)  [(0.00194919, 0, 0)]\n",
       "\n",
       "</pre></span></li><li class='sc-var-item'><div class='sc-var-name'><span class='sc-aligned'>pixel_width</span></div><div class='sc-var-dims'>()</div><div class='sc-var-dtype'>float64</div><div class='sc-var-unit'>m</div><div class='sc-value-preview sc-preview'><span><div>0.0075</div></span></div><input id='attrs-1caab14b-37cb-4482-9abc-4fbf2d5399a6' class='sc-var-attrs-in' type='checkbox' disabled><label for='attrs-1caab14b-37cb-4482-9abc-4fbf2d5399a6' class='sc-hide-icon' title='Show/Hide attributes'><svg class='icon sc-icon-file-text2'><use xlink:href='#icon-file-text2'></use></svg></label><input id='data-b7622461-2d30-49a1-9bc0-13db8cd729f6' class='sc-var-data-in' type='checkbox'><label for='data-b7622461-2d30-49a1-9bc0-13db8cd729f6' title='Show/Hide data repr'><svg class='icon sc-icon-database'><use xlink:href='#icon-database'></use></svg></label><pre class='sc-var-data'>Values:<br>array(0.0075)</pre></span></li><li class='sc-var-item'><div class='sc-var-name'><span>sample_position</span></div><div class='sc-var-dims'>()</div><div class='sc-var-dtype'>vector3</div><div class='sc-var-unit'>m</div><div class='sc-value-preview sc-preview'><span><div>[0. 0. 0.]</div></span></div><input id='attrs-973f08aa-8389-4b48-9d7a-c1d96a71b0e7' class='sc-var-attrs-in' type='checkbox' disabled><label for='attrs-973f08aa-8389-4b48-9d7a-c1d96a71b0e7' class='sc-hide-icon' title='Show/Hide attributes'><svg class='icon sc-icon-file-text2'><use xlink:href='#icon-file-text2'></use></svg></label><input id='data-ab6e0a36-c87d-4888-beba-367b18823032' class='sc-var-data-in' type='checkbox'><label for='data-ab6e0a36-c87d-4888-beba-367b18823032' title='Show/Hide data repr'><svg class='icon sc-icon-database'><use xlink:href='#icon-database'></use></svg></label><pre class='sc-var-data'>Values:<br>array([0., 0., 0.])</pre></span></li><li class='sc-var-item'><div class='sc-var-name'><span>source_position</span></div><div class='sc-var-dims'>()</div><div class='sc-var-dtype'>vector3</div><div class='sc-var-unit'>m</div><div class='sc-value-preview sc-preview'><span><div>[  0.           0.         -25.61000061]</div></span></div><input id='attrs-b8d98dd5-2972-4b88-abf6-5637c478ce07' class='sc-var-attrs-in' type='checkbox' disabled><label for='attrs-b8d98dd5-2972-4b88-abf6-5637c478ce07' class='sc-hide-icon' title='Show/Hide attributes'><svg class='icon sc-icon-file-text2'><use xlink:href='#icon-file-text2'></use></svg></label><input id='data-5d832ef2-7ce4-41ed-b5bc-9de311dea7ec' class='sc-var-data-in' type='checkbox'><label for='data-5d832ef2-7ce4-41ed-b5bc-9de311dea7ec' title='Show/Hide data repr'><svg class='icon sc-icon-database'><use xlink:href='#icon-database'></use></svg></label><pre class='sc-var-data'>Values:<br>array([  0.        ,   0.        , -25.61000061])</pre></span></li><li class='sc-var-item'><div class='sc-var-name'><span class='sc-aligned'>wavelength</span></div><div class='sc-var-dims'>(wavelength [bin-edge])</div><div class='sc-var-dtype'>float64</div><div class='sc-var-unit'>Å</div><div class='sc-value-preview sc-preview'><span><div>2.0, 3.4, ..., 14.6, 16.0</div></span></div><input id='attrs-a3bd98ac-eb07-4d09-bc7c-20a17aa83d41' class='sc-var-attrs-in' type='checkbox' disabled><label for='attrs-a3bd98ac-eb07-4d09-bc7c-20a17aa83d41' class='sc-hide-icon' title='Show/Hide attributes'><svg class='icon sc-icon-file-text2'><use xlink:href='#icon-file-text2'></use></svg></label><input id='data-cbb7d462-bbd7-4114-b05a-f3288ed06a2c' class='sc-var-data-in' type='checkbox'><label for='data-cbb7d462-bbd7-4114-b05a-f3288ed06a2c' title='Show/Hide data repr'><svg class='icon sc-icon-database'><use xlink:href='#icon-database'></use></svg></label><pre class='sc-var-data'>Values:<br>array([ 2. ,  3.4,  4.8,  6.2,  7.6,  9. , 10.4, 11.8, 13.2, 14.6, 16. ])</pre></span></li></ul></div></li><li class='sc-section-item'><input id='section-ef9782fd-539c-407a-86bb-c6f42bc8c9b6' class='sc-section-summary-in' type='checkbox'  checked><label for='section-ef9782fd-539c-407a-86bb-c6f42bc8c9b6' class='sc-section-summary' >Data: <span>(1)</span></label><div class='sc-section-inline-details'></div><div class='sc-section-details'><ul class='sc-var-list'><li class='sc-var-item'><div class='sc-var-name'><span></span></div><div class='sc-var-dims'>(Q, wavelength)</div><div class='sc-var-dtype'>float32</div><div class='sc-var-unit'>𝟙</div><div class='sc-value-preview sc-preview'><span><div>0.0, 0.0, ..., 0.0, 0.0</div></span></div><input id='attrs-95820558-f3d8-4a77-b1e2-10ff868a99ec' class='sc-var-attrs-in' type='checkbox' disabled><label for='attrs-95820558-f3d8-4a77-b1e2-10ff868a99ec' class='sc-hide-icon' title='Show/Hide attributes'><svg class='icon sc-icon-file-text2'><use xlink:href='#icon-file-text2'></use></svg></label><input id='data-15caac58-d00e-441f-a524-fa7ba7d71ace' class='sc-var-data-in' type='checkbox'><label for='data-15caac58-d00e-441f-a524-fa7ba7d71ace' title='Show/Hide data repr'><svg class='icon sc-icon-database'><use xlink:href='#icon-database'></use></svg></label><pre class='sc-var-data'>Values:<br>array([[0.        , 0.        , 0.        , ..., 0.01894929,        nan,\n",
       "        0.        ],\n",
       "       [0.        , 0.00307318, 0.00355238, ..., 0.0125839 ,        nan,\n",
       "        0.        ],\n",
       "       [0.        , 0.00338587, 0.00335077, ..., 0.01121702,        nan,\n",
       "        0.        ],\n",
       "       ...,\n",
       "       [       nan, 0.        , 0.        , ..., 0.        , 0.        ,\n",
       "        0.        ],\n",
       "       [       nan, 0.        , 0.        , ..., 0.        , 0.        ,\n",
       "        0.        ],\n",
       "       [       nan, 0.        , 0.        , ..., 0.        , 0.        ,\n",
       "        0.        ]], dtype=float32)</pre></li></ul></div></li><li class='sc-section-item'><input id='section-bba9c05c-c818-4a60-b4a8-bcbc4225001a' class='sc-section-summary-in' type='checkbox'  checked><label for='section-bba9c05c-c818-4a60-b4a8-bcbc4225001a' class='sc-section-summary' >Attributes: <span>(5)</span></label><div class='sc-section-inline-details'></div><div class='sc-section-details'><ul class='sc-var-list'><li class='sc-var-item'><div class='sc-var-name'><span>end_time</span></div><div class='sc-var-dims'>()</div><div class='sc-var-dtype'>string</div><div class='sc-var-unit'></div><div class='sc-value-preview sc-preview'><span><div>2032-02-29T09:15:00.000Z</div></span></div><input id='attrs-087f211f-72af-41f2-bceb-6305b01e033b' class='sc-var-attrs-in' type='checkbox' disabled><label for='attrs-087f211f-72af-41f2-bceb-6305b01e033b' class='sc-hide-icon' title='Show/Hide attributes'><svg class='icon sc-icon-file-text2'><use xlink:href='#icon-file-text2'></use></svg></label><input id='data-2bea6ec9-7b82-4c31-a03f-db43b537e4f6' class='sc-var-data-in' type='checkbox'><label for='data-2bea6ec9-7b82-4c31-a03f-db43b537e4f6' title='Show/Hide data repr'><svg class='icon sc-icon-database'><use xlink:href='#icon-database'></use></svg></label><pre class='sc-var-data'>Values:<br>&#x27;2032-02-29T09:15:00.000Z&#x27;</pre></li><li class='sc-var-item'><div class='sc-var-name'><span>experiment_title</span></div><div class='sc-var-dims'>()</div><div class='sc-var-dtype'>string</div><div class='sc-var-unit'></div><div class='sc-value-preview sc-preview'><span><div>My experiment</div></span></div><input id='attrs-36bb5e9d-9ad2-4350-aa1f-e9416aa99434' class='sc-var-attrs-in' type='checkbox' disabled><label for='attrs-36bb5e9d-9ad2-4350-aa1f-e9416aa99434' class='sc-hide-icon' title='Show/Hide attributes'><svg class='icon sc-icon-file-text2'><use xlink:href='#icon-file-text2'></use></svg></label><input id='data-611670cb-64e6-4103-8e54-ef22e16da1c8' class='sc-var-data-in' type='checkbox'><label for='data-611670cb-64e6-4103-8e54-ef22e16da1c8' title='Show/Hide data repr'><svg class='icon sc-icon-database'><use xlink:href='#icon-database'></use></svg></label><pre class='sc-var-data'>Values:<br>&#x27;My experiment&#x27;</pre></li><li class='sc-var-item'><div class='sc-var-name'><span>position_transformations</span></div><div class='sc-var-dims'>()</div><div class='sc-var-dtype'>Variable</div><div class='sc-var-unit'></div><div class='sc-value-preview sc-preview'><span><div>&lt;scipp.Variable&gt; ()  translation3              [m]  (-0.499023, 0.43556, 4.099)</div></span></div><input id='attrs-212f406f-ec54-4a53-9c35-9539d1e7e81f' class='sc-var-attrs-in' type='checkbox' disabled><label for='attrs-212f406f-ec54-4a53-9c35-9539d1e7e81f' class='sc-hide-icon' title='Show/Hide attributes'><svg class='icon sc-icon-file-text2'><use xlink:href='#icon-file-text2'></use></svg></label><input id='data-df7734d1-35bd-4096-95d5-34099706415c' class='sc-var-data-in' type='checkbox'><label for='data-df7734d1-35bd-4096-95d5-34099706415c' title='Show/Hide data repr'><svg class='icon sc-icon-database'><use xlink:href='#icon-database'></use></svg></label><pre class='sc-var-data'>Values:<br>&lt;scipp.Variable&gt; ()  translation3              [m]  (-0.499023, 0.43556, 4.099)</pre></li><li class='sc-var-item'><div class='sc-var-name'><span>source</span></div><div class='sc-var-dims'>()</div><div class='sc-var-dtype'>PyObject</div><div class='sc-var-unit'></div><div class='sc-value-preview sc-preview'><span><div>DataGroup(sizes={}, keys=[&#x27;name&#x27;, &#x27;probe&#x27;, &#x27;type&#x27;, &#x27;depends_on&#x27;])</div></span></div><input id='attrs-ab0fd7b6-2763-474b-bcf4-9b22ee571cdf' class='sc-var-attrs-in' type='checkbox' disabled><label for='attrs-ab0fd7b6-2763-474b-bcf4-9b22ee571cdf' class='sc-hide-icon' title='Show/Hide attributes'><svg class='icon sc-icon-file-text2'><use xlink:href='#icon-file-text2'></use></svg></label><input id='data-674c87ee-32a4-4626-99d2-5a40e975f119' class='sc-var-data-in' type='checkbox'><label for='data-674c87ee-32a4-4626-99d2-5a40e975f119' title='Show/Hide data repr'><svg class='icon sc-icon-database'><use xlink:href='#icon-database'></use></svg></label><pre class='sc-var-data'>Values:<br>DataGroup(sizes={}, keys=[\n",
       "    name: moderato,\n",
       "    probe: neutro,\n",
       "    type: Spallation Neutron Sourc,\n",
       "    depends_on: Variable({}),\n",
       "])</pre></li><li class='sc-var-item'><div class='sc-var-name'><span>start_time</span></div><div class='sc-var-dims'>()</div><div class='sc-var-dtype'>string</div><div class='sc-var-unit'></div><div class='sc-value-preview sc-preview'><span><div>2022-02-28T21:15:00.000Z</div></span></div><input id='attrs-fa4c73c2-a326-4334-9b35-2f56afbb16ed' class='sc-var-attrs-in' type='checkbox' disabled><label for='attrs-fa4c73c2-a326-4334-9b35-2f56afbb16ed' class='sc-hide-icon' title='Show/Hide attributes'><svg class='icon sc-icon-file-text2'><use xlink:href='#icon-file-text2'></use></svg></label><input id='data-3163d951-deba-4f3a-9d3a-2e15ee171789' class='sc-var-data-in' type='checkbox'><label for='data-3163d951-deba-4f3a-9d3a-2e15ee171789' title='Show/Hide data repr'><svg class='icon sc-icon-database'><use xlink:href='#icon-database'></use></svg></label><pre class='sc-var-data'>Values:<br>&#x27;2022-02-28T21:15:00.000Z&#x27;</pre></li></ul></div></li></ul></div></div>"
      ],
      "text/plain": [
       "<scipp.DataArray>\n",
       "Dimensions: Sizes[Q:109, wavelength:10, ]\n",
       "Coordinates:\n",
       "  L1                        float64              [m]  ()  25.61\n",
       "* Q                         float64           [1/Å]  (Q [bin-edge])  [0.004, 0.00763303, ..., 0.396367, 0.4]\n",
       "  gravity                   vector3          [m/s^2]  ()  (0, -9.80665, 0)\n",
       "  incident_beam             vector3              [m]  ()  (0, 0, 25.61)\n",
       "* pixel_height              float64              [m]  ()  0.0117188\n",
       "* pixel_shape             DatasetView        <no unit>  ()  <scipp.Dataset>\n",
       "Dimensions: Sizes[cylinder:1, ]\n",
       "Data:\n",
       "  face1_center              vector3              [m]  (cylinder)  [(0, 0, 0)]\n",
       "  face1_edge                vector3              [m]  (cylinder)  [(0, -0.00257703, 0.00305923)]\n",
       "  face2_center              vector3              [m]  (cylinder)  [(0.00194919, 0, 0)]\n",
       "\n",
       "\n",
       "* pixel_width               float64              [m]  ()  0.0075\n",
       "  sample_position           vector3              [m]  ()  (0, 0, 0)\n",
       "  source_position           vector3              [m]  ()  (0, 0, -25.61)\n",
       "* wavelength                float64             [Å]  (wavelength [bin-edge])  [2, 3.4, ..., 14.6, 16]\n",
       "Data:\n",
       "                            float32  [dimensionless]  (Q, wavelength)  [0, 0, ..., 0, 0]\n",
       "Attributes:\n",
       "  end_time                   string        <no unit>  ()  \"2032-02-29T09:15:00.000Z\"\n",
       "  experiment_title           string        <no unit>  ()  \"My experiment\"\n",
       "  position_transformations Variable        <no unit>  ()  Variable(dims=(), dtype=translation3, unit=m)\n",
       "  source                   PyObject        <no unit>  ()  DataGroup(sizes={}, keys=['name', 'probe', 'type', 'depends_on'])\n",
       "  start_time                 string        <no unit>  ()  \"2022-02-28T21:15:00.000Z\"\n"
      ]
     },
     "execution_count": 28,
     "metadata": {},
     "output_type": "execute_result"
    }
   ],
   "source": [
    "wavelength_bands = sc.linspace(dim='wavelength', start=2.0, stop=16.0, num=11,\n",
    "                               unit='angstrom')\n",
    "\n",
    "sample_slices = sans.to_I_of_Q(data=ds['sample'],\n",
    "    data_monitors=sample_monitors,\n",
    "    direct_monitors=sample_monitors,\n",
    "    direct_beam=direct_beam,\n",
    "    wavelength_bins=wavelength_bins,\n",
    "    q_bins=q_bins,\n",
    "    gravity=gravity,\n",
    "    wavelength_bands=wavelength_bands,\n",
    "    wavelength_mask=wavelength_mask)\n",
    "\n",
    "background_slices = sans.to_I_of_Q(data=ds['background'],\n",
    "    data_monitors=background_monitors,\n",
    "    direct_monitors=background_monitors,\n",
    "    direct_beam=direct_beam,\n",
    "    wavelength_bins=wavelength_bins,\n",
    "    q_bins=q_bins,\n",
    "    gravity=gravity,\n",
    "    wavelength_bands=wavelength_bands,\n",
    "    wavelength_mask=wavelength_mask)\n",
    "\n",
    "result_slices = sample_slices.bins.sum() - background_slices.bins.sum()\n",
    "result_slices"
   ]
  },
  {
   "cell_type": "code",
   "execution_count": 29,
   "id": "60c03e8c-4533-471e-8483-3c0c555fae7d",
   "metadata": {},
   "outputs": [
    {
     "data": {
      "application/vnd.jupyter.widget-view+json": {
       "model_id": "ee744d29511c48cda9e6f30e8312b408",
       "version_major": 2,
       "version_minor": 0
      },
      "text/plain": [
       "InteractiveFig(children=(HBar(), HBox(children=(VBar(children=(Toolbar(children=(ButtonTool(icon='home', layou…"
      ]
     },
     "execution_count": 29,
     "metadata": {},
     "output_type": "execute_result"
    },
    {
     "data": {
      "application/vnd.jupyter.widget-view+json": {
       "model_id": "7fd7640a2f484f31b31a302d3c51862c",
       "version_major": 2,
       "version_minor": 0
      },
      "image/png": "[encoded data removed]",
      "text/html": [
       "\n",
       "            <div style=\"display: inline-block;\">\n",
       "                <div class=\"jupyter-widgets widget-label\" style=\"text-align: center;\">\n",
       "                    Figure\n",
       "                </div>\n",
       "                <img src='data:image/png;base64,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' width=1000.0/>\n",
       "            </div>\n",
       "        "
      ],
      "text/plain": [
       "Canvas(toolbar=Toolbar(toolitems=[('Home', 'Reset original view', 'home', 'home'), ('Back', 'Back to previous …"
      ]
     },
     "metadata": {},
     "output_type": "display_data"
    }
   ],
   "source": [
    "collapsed = sc.collapse(result_slices, keep='Q')\n",
    "\n",
    "fig2, ax2 = plt.subplots(1, 2, figsize=(10, 4))\n",
    "sc.plot(collapsed, ax=ax2[0])\n",
    "sc.plot(collapsed, norm='log', ax=ax2[1])\n"
   ]
  },
  {
   "cell_type": "markdown",
   "id": "99eb897c-416e-479b-b714-4421149ca8f7",
   "metadata": {},
   "source": [
    "## Adding reduced data to scicat"
   ]
  },
  {
   "cell_type": "code",
   "execution_count": 30,
   "id": "7fc4bc46-a92b-4b1f-926b-f2adb4bb8c19",
   "metadata": {},
   "outputs": [],
   "source": [
    "\n",
    "\n",
    "# reduced = sample_local.derive()\n",
    "\n",
    "# reduced.add_local_files('./offspec.ort', base_path='.')\n",
    "# reduced.contact_email = 'andrew.mccluskey@ess.eu'\n",
    "# reduced.input_datasets.append(direct_beam_local.pid)\n",
    "# reduced.name = 'Reduced reflectometry data from QCS sample'\n",
    "# reduced.used_software = ['scipp-23.01.1']\n",
    "# reduced.investigator = 'Andrew R. McCluskey'\n",
    "# reduced.owner_group = sample_local.owner_group\n",
    "\n",
    "# reduced_up = client.upload_new_dataset_now(reduced)\n",
    "\n"
   ]
  },
  {
   "cell_type": "markdown",
   "id": "50c9e31c-c174-4db8-8f1b-aa87e8f81408",
   "metadata": {},
   "source": [
    "## References"
   ]
  },
  {
   "cell_type": "markdown",
   "id": "88bd6494-80f4-4bf7-b026-f14a1849bf53",
   "metadata": {},
   "source": [
    "<div id=\"manasi2021\"></div>\n",
    "\n",
    "Manasi I., Andalibi M. R., Atri R. S., Hooton J., King S. M., Edler K. J., **2021**,\n",
    "*Self-assembly of ionic and non-ionic surfactants in type IV cerium nitrate and urea based deep eutectic solvent*,\n",
    "[J. Chem. Phys. 155, 084902](https://doi.org/10.1063/5.0059238)"
   ]
  }
 ],
 "metadata": {
  "kernelspec": {
   "display_name": "Python 3 (ipykernel)",
   "language": "python",
   "name": "python3"
  },
  "language_info": {
   "codemirror_mode": {
    "name": "ipython",
    "version": 3
   },
   "file_extension": ".py",
   "mimetype": "text/x-python",
   "name": "python",
   "nbconvert_exporter": "python",
   "pygments_lexer": "ipython3",
   "version": "3.8.17"
  }
 },
 "nbformat": 4,
 "nbformat_minor": 5
}
