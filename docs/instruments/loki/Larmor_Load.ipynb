{
 "cells": [
  {
   "cell_type": "code",
   "execution_count": null,
   "id": "1fd3c280-083f-4eab-9609-68ac46f29692",
   "metadata": {},
   "outputs": [],
   "source": [
    "import scipp as sc\n",
    "import scippneutron as scn\n",
    "import numpy as np\n",
    "import h5py as h5\n",
    "from shutil import copyfile\n",
    "import sys\n",
    "from ipyfilechooser import FileChooser"
   ]
  },
  {
   "cell_type": "code",
   "execution_count": null,
   "id": "b4294149-d9a5-49a2-bc28-80a58a034970",
   "metadata": {},
   "outputs": [],
   "source": [
    "def fix_nexus_scipp(infile, outfile):\n",
    "    \"\"\"\n",
    "    Currently there are some tweaks to make file working in scipp. This function won't be necessary in the future\n",
    "    \"\"\"\n",
    "\n",
    "    copyfile(infile, outfile)\n",
    "    with h5.File(outfile, 'r+') as f:\n",
    "         \n",
    "        group = f['entry/instrument']\n",
    "        for monitor_name in filter(lambda k: k.startswith('monitor'), group):\n",
    "            monitor_group = group[monitor_name]\n",
    "            monitor_event_group = monitor_group[f'{monitor_name}_events']\n",
    "            for key in list(monitor_event_group):\n",
    "                monitor_group[key] = monitor_event_group.pop(key)\n",
    "            del monitor_group[f'{monitor_name}_events']\n"
   ]
  },
  {
   "cell_type": "code",
   "execution_count": null,
   "id": "84ae102b-84ef-4c64-9dc0-bb277d2ef9cb",
   "metadata": {},
   "outputs": [],
   "source": [
    "def fix_nexus_mantid(infile, outfile, didx):\n",
    "    \"\"\"\n",
    "    Additional tweaks for loading into Mantid\n",
    "    \"\"\"\n",
    "\n",
    "    copyfile(infile, outfile)\n",
    "    with h5.File(outfile, 'r+') as f:\n",
    "        \n",
    "        f['entry/instrument/name'] = 'LARMOR'\n",
    "\n",
    "        group_entry = f['entry']\n",
    "        nx_class = group_entry.create_group('sample')\n",
    "        nx_class.attrs[\"NX_class\"] = 'NXsample'\n",
    "       \n",
    "        f['entry/larmor_detector_events'] = f['entry/instrument/larmor_detector/larmor_detector_events']\n",
    "        \n",
    "        #TODO: Adding detector_id. Not sure if this is 100% correct\n",
    "        f['entry']['instrument']['monitor_1']['detector_id'] = np.array(didx+1)\n",
    "        f['entry']['instrument']['monitor_2']['detector_id'] = np.array(didx+2)\n",
    "        \n",
    "        group = f['entry/instrument']\n",
    "        for monitor_name in filter(lambda k: k.startswith('monitor'), group):\n",
    "            monitor_group = group[monitor_name]\n",
    "            monitor_event_group = monitor_group[f'{monitor_name}_events']\n",
    "            for key in list(monitor_event_group):\n",
    "                monitor_group[key] = monitor_event_group.pop(key)\n",
    "            del monitor_group[f'{monitor_name}_events']\n"
   ]
  },
  {
   "cell_type": "code",
   "execution_count": null,
   "id": "5a37efeb-5294-41ed-a80c-b6f3e4bf68ef",
   "metadata": {},
   "outputs": [],
   "source": [
    "# Create and display a FileChooser widget\n",
    "fc = FileChooser('/Users/wojciechpotrzebowski/SCIPP_SPACE/loki_detector_test/2022-06-24_calibrated_nexus_files/')\n",
    "display(fc)"
   ]
  },
  {
   "cell_type": "markdown",
   "id": "47c4fbf0-1bab-4c37-8e2a-c454f1168756",
   "metadata": {},
   "source": [
    "### Load and show data"
   ]
  },
  {
   "cell_type": "code",
   "execution_count": null,
   "id": "64523d8e-d265-4598-8712-7d316f2c8a5e",
   "metadata": {},
   "outputs": [],
   "source": [
    "input_file = fc.selected\n",
    "fixed_file = f'{input_file[:-4]}_fixed.nxs'\n",
    "fixed_mantid_file = f'{input_file[:-4]}_mantid.nxs'"
   ]
  },
  {
   "cell_type": "code",
   "execution_count": null,
   "id": "a8e6c586-deae-4afa-bae2-aee73792ff76",
   "metadata": {},
   "outputs": [],
   "source": [
    "fix_nexus_scipp(input_file, fixed_file)"
   ]
  },
  {
   "cell_type": "code",
   "execution_count": null,
   "id": "83705f52-944c-4a8c-a2b6-67fe8cb80445",
   "metadata": {},
   "outputs": [],
   "source": [
    "data = scn.load_nexus(data_file=fixed_file)"
   ]
  },
  {
   "cell_type": "code",
   "execution_count": null,
   "id": "feea511d-30ca-41df-b28f-bea19f5e7082",
   "metadata": {},
   "outputs": [],
   "source": [
    "data"
   ]
  },
  {
   "cell_type": "markdown",
   "id": "05f59779-afa7-4765-995a-302209891664",
   "metadata": {},
   "source": [
    "## Tweaking file so it works in Mantid"
   ]
  },
  {
   "cell_type": "code",
   "execution_count": null,
   "id": "c241a833-f387-44cf-9d5e-66c22f2b8e91",
   "metadata": {},
   "outputs": [],
   "source": [
    "fix_nexus_mantid(input_file, fixed_mantid_file, len(data.coords['position']))"
   ]
  },
  {
   "cell_type": "markdown",
   "id": "309557e7-194d-4858-bae8-b4fa1b444af9",
   "metadata": {},
   "source": [
    "### Instrument view"
   ]
  },
  {
   "cell_type": "code",
   "execution_count": null,
   "id": "1bfed756-515f-421e-b11c-106766a1eb6b",
   "metadata": {},
   "outputs": [],
   "source": [
    "scn.instrument_view(data, pixel_size=0.01, norm='log')"
   ]
  },
  {
   "cell_type": "markdown",
   "id": "71d6611d-35ba-469f-8082-8ec4a1fbe59e",
   "metadata": {},
   "source": [
    "### Histograming data"
   ]
  },
  {
   "cell_type": "code",
   "execution_count": null,
   "id": "1f93b3e3-75ba-4f2f-a6ab-c491c92fb0f9",
   "metadata": {},
   "outputs": [],
   "source": [
    "start_tof = data.coords['tof'][0].values\n",
    "end_tof = data.coords['tof'][-1].values\n",
    "nbins = 100"
   ]
  },
  {
   "cell_type": "code",
   "execution_count": null,
   "id": "13270566-e4e8-40f3-b0db-c53a3b2f3b1c",
   "metadata": {},
   "outputs": [],
   "source": [
    "tof_edges = sc.linspace(dim='tof', start=start_tof, stop=end_tof, num=nbins, unit='ns')\n",
    "histogrammed = sc.histogram(data, bins=tof_edges)"
   ]
  },
  {
   "cell_type": "code",
   "execution_count": null,
   "id": "9209d597-fad1-4fa7-b4d9-2d7b9065dda9",
   "metadata": {},
   "outputs": [],
   "source": [
    "histogrammed.sum('detector_id').plot()"
   ]
  },
  {
   "cell_type": "code",
   "execution_count": null,
   "id": "3d030837-1218-48a5-88be-f3b2ec120346",
   "metadata": {},
   "outputs": [],
   "source": [
    "scn.instrument_view(histogrammed, pixel_size=0.01, norm='log')"
   ]
  },
  {
   "cell_type": "markdown",
   "id": "e2c1c759-3802-43a8-ad94-e035b84c3e32",
   "metadata": {},
   "source": [
    "## Sorting out monitors"
   ]
  },
  {
   "cell_type": "code",
   "execution_count": null,
   "id": "d20b6489-336b-4b6f-b7d8-4d4e8cc76d3c",
   "metadata": {},
   "outputs": [],
   "source": [
    "monitors = {\n",
    "    'sample': {'incident': data.attrs[\"monitor_1\"].value,\n",
    "               'transmission': data.attrs[\"monitor_2\"].value}\n",
    "}"
   ]
  },
  {
   "cell_type": "code",
   "execution_count": null,
   "id": "aa857ea1-da1e-46e9-92a0-8acfd552edcd",
   "metadata": {},
   "outputs": [],
   "source": [
    "monitors['sample']['incident'].coords['position'] = sc.vector(value = np.array([0, 0, 0.0]), unit = sc.units.m)\n",
    "monitors['sample']['incident'].coords['source_position'] = sc.vector(value = np.array([0, 0, -25.3]), unit = sc.units.m)\n",
    "monitors['sample']['transmission'].coords['position'] = sc.vector(value = np.array([0, 0, 0.0]), unit = sc.units.m)\n",
    "monitors['sample']['transmission'].coords['source_position'] = sc.vector(value = np.array([0, 0, -25.3]), unit = sc.units.m)"
   ]
  },
  {
   "cell_type": "code",
   "execution_count": null,
   "id": "1d64d6d5-0829-475c-98ea-3f99a0fe0a46",
   "metadata": {},
   "outputs": [],
   "source": [
    "tof_edges = sc.linspace(dim='tof', start=start_tof, stop=end_tof, num=nbins, unit='ns')\n",
    "histogrammed_monitor1 = sc.histogram(monitors['sample']['incident'], bins=tof_edges)\n",
    "histogrammed_monitor2 = sc.histogram(monitors['sample']['transmission'], bins=tof_edges)"
   ]
  },
  {
   "cell_type": "code",
   "execution_count": null,
   "id": "1f567c76-47eb-4132-93a4-72cae361a680",
   "metadata": {},
   "outputs": [],
   "source": [
    "sc.plot({'monitor1':histogrammed_monitor1, 'monitor2':histogrammed_monitor2})"
   ]
  },
  {
   "cell_type": "code",
   "execution_count": null,
   "id": "bf9b8695-ac41-447b-89a5-cb4ee566efc3",
   "metadata": {},
   "outputs": [],
   "source": []
  }
 ],
 "metadata": {
  "kernelspec": {
   "display_name": "Python 3 (ipykernel)",
   "language": "python",
   "name": "python3"
  },
  "language_info": {
   "codemirror_mode": {
    "name": "ipython",
    "version": 3
   },
   "file_extension": ".py",
   "mimetype": "text/x-python",
   "name": "python",
   "nbconvert_exporter": "python",
   "pygments_lexer": "ipython3",
   "version": "3.8.12"
  }
 },
 "nbformat": 4,
 "nbformat_minor": 5
}
