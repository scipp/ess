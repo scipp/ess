{
 "cells": [
  {
   "cell_type": "markdown",
   "id": "92ba6acc-d0db-43b5-ab18-07106ea09e48",
   "metadata": {},
   "source": [
    "Notebook describes how to add event data. This can be achieved by rebinning or by removing TOF dimenssion. \n",
    "The distadvantage of the latter approach is that it will most likely be needed for making TOF mask data. \n",
    "It still is probably fine for nomivator"
   ]
  },
  {
   "cell_type": "code",
   "execution_count": 1,
   "id": "2ce77d80-d086-4a7f-a58b-4814750c4d5f",
   "metadata": {},
   "outputs": [
    {
     "name": "stdout",
     "output_type": "stream",
     "text": [
      "FrameworkManager-[Notice] Welcome to Mantid 6.3.0\n",
      "FrameworkManager-[Notice] Please cite: http://dx.doi.org/10.1016/j.nima.2014.07.029 and this release: http://dx.doi.org/10.5286/Software/Mantid6.3\n",
      "CheckMantidVersion-[Notice] A new version of Mantid(6.4.0) is available for download from https://download.mantidproject.org\n",
      "DownloadInstrument-[Notice] All instrument definitions up to date\n"
     ]
    }
   ],
   "source": [
    "import scipp as sc\n",
    "import scippneutron as scn\n",
    "import mantid.simpleapi as mantid"
   ]
  },
  {
   "cell_type": "code",
   "execution_count": 2,
   "id": "31eb751b-e602-4dff-829d-4cbf5d5354e1",
   "metadata": {},
   "outputs": [
    {
     "name": "stderr",
     "output_type": "stream",
     "text": [
      "Skipped load of axis /entry/instrument/monitor_1/cue_index due to:\n",
      "Expected dimension to be in [pulse:1987, ], got dim_0.\n",
      "Skipped load of axis /entry/instrument/monitor_1/cue_timestamp_zero due to:\n",
      "Expected dimension to be in [pulse:1987, ], got dim_0.\n",
      "Skipped load of axis /entry/instrument/monitor_2/cue_index due to:\n",
      "Expected dimension to be in [pulse:1987, ], got dim_0.\n",
      "Skipped load of axis /entry/instrument/monitor_2/cue_timestamp_zero due to:\n",
      "Expected dimension to be in [pulse:1987, ], got dim_0.\n",
      "Skipped load of axis /entry/instrument/monitor_1/cue_index due to:\n",
      "Expected dimension to be in [pulse:495, ], got dim_0.\n",
      "Skipped load of axis /entry/instrument/monitor_1/cue_timestamp_zero due to:\n",
      "Expected dimension to be in [pulse:495, ], got dim_0.\n",
      "Skipped load of axis /entry/instrument/monitor_2/cue_index due to:\n",
      "Expected dimension to be in [pulse:495, ], got dim_0.\n",
      "Skipped load of axis /entry/instrument/monitor_2/cue_timestamp_zero due to:\n",
      "Expected dimension to be in [pulse:495, ], got dim_0.\n"
     ]
    }
   ],
   "source": [
    "input_file1 = 'Larmor_data/60322-2022-03-02_2205.nxs'\n",
    "fixed_file1 = f'{input_file1[:-4]}_fixed.nxs'\n",
    "\n",
    "input_file2 = 'Larmor_data/60329-2022-03-03_0036.nxs'\n",
    "fixed_file2 = f'{input_file2[:-4]}_fixed.nxs'\n",
    "data1 = scn.load_nexus(data_file=fixed_file1)\n",
    "data2 = scn.load_nexus(data_file=fixed_file2)"
   ]
  },
  {
   "cell_type": "code",
   "execution_count": 3,
   "id": "8c388ade-abf6-41f2-81b4-c542ee8fda6e",
   "metadata": {},
   "outputs": [],
   "source": [
    "#Squeezing to remove tof dimenssion (and moving to attributes) and concatenating\n",
    "da1 = data1.squeeze().copy()\n",
    "da2 = data2.squeeze().copy()\n",
    "summed_data = da1.bins.concatenate(da2)"
   ]
  },
  {
   "cell_type": "code",
   "execution_count": 4,
   "id": "33847089-7464-4b74-a809-181aedde39e1",
   "metadata": {},
   "outputs": [],
   "source": [
    "#The same with monitors\n",
    "summed_monitors = da1.attrs['monitor_1'].value.bins.concatenate(da2.attrs['monitor_1'].value)"
   ]
  },
  {
   "cell_type": "code",
   "execution_count": 5,
   "id": "45c2acd0-fc77-41b6-a576-cb8908163b24",
   "metadata": {},
   "outputs": [],
   "source": [
    "edges=sc.linspace('tof', 91, 1e8, 100, unit='ns')"
   ]
  },
  {
   "cell_type": "code",
   "execution_count": 6,
   "id": "826604d4-0777-4e95-b5f7-1ee35a8aa859",
   "metadata": {},
   "outputs": [],
   "source": [
    "#Binning is still possinble as tof data is preserved in \n",
    "binned_data = sc.bin(summed_data, edges=[edges])\n",
    "binned_monitors = sc.bin(summed_monitors, edges=[edges])"
   ]
  },
  {
   "cell_type": "code",
   "execution_count": 7,
   "id": "ca7c3f65-e4d9-4403-b63c-53e449326398",
   "metadata": {},
   "outputs": [
    {
     "data": {
      "application/vnd.jupyter.widget-view+json": {
       "model_id": "ef58d440609d474a8481016aaf187c69",
       "version_major": 2,
       "version_minor": 0
      },
      "text/plain": [
       "VBox(children=(HBox(children=(VBox(children=(Button(icon='home', layout=Layout(padding='0px 0px 0px 0px', widt…"
      ]
     },
     "metadata": {},
     "output_type": "display_data"
    }
   ],
   "source": [
    "scn.instrument_view(binned_data, pixel_size=0.01, norm='log')"
   ]
  },
  {
   "cell_type": "code",
   "execution_count": 8,
   "id": "265273d0-4d01-4e84-a7fc-34ca5ea42cae",
   "metadata": {},
   "outputs": [
    {
     "data": {
      "application/vnd.jupyter.widget-view+json": {
       "model_id": "79b10803a9ef4cbf8b47e2b41d51de48",
       "version_major": 2,
       "version_minor": 0
      },
      "text/plain": [
       "VBox(children=(HBox(children=(VBox(children=(Button(icon='home', layout=Layout(padding='0px 0px 0px 0px', widt…"
      ]
     },
     "metadata": {},
     "output_type": "display_data"
    }
   ],
   "source": [
    "binned_monitors.plot()"
   ]
  },
  {
   "cell_type": "code",
   "execution_count": null,
   "id": "bd605646-ce54-4ca8-959d-6d02a2799fd0",
   "metadata": {},
   "outputs": [],
   "source": []
  }
 ],
 "metadata": {
  "kernelspec": {
   "display_name": "Python 3 (ipykernel)",
   "language": "python",
   "name": "python3"
  },
  "language_info": {
   "codemirror_mode": {
    "name": "ipython",
    "version": 3
   },
   "file_extension": ".py",
   "mimetype": "text/x-python",
   "name": "python",
   "nbconvert_exporter": "python",
   "pygments_lexer": "ipython3",
   "version": "3.8.12"
  }
 },
 "nbformat": 4,
 "nbformat_minor": 5
}
