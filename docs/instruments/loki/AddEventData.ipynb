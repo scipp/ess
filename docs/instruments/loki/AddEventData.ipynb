{
 "cells": [
  {
   "cell_type": "markdown",
   "id": "92ba6acc-d0db-43b5-ab18-07106ea09e48",
   "metadata": {},
   "source": [
    "Notebook describes how to add event data. This can be achieved by rebinning or by removing TOF dimenssion. \n",
    "The distadvantage of the latter approach is that it will most likely be needed for making TOF mask data. \n",
    "It still is probably fine for nomivator"
   ]
  },
  {
   "cell_type": "code",
   "execution_count": null,
   "id": "2ce77d80-d086-4a7f-a58b-4814750c4d5f",
   "metadata": {},
   "outputs": [],
   "source": [
    "import scipp as sc\n",
    "import scippneutron as scn\n",
    "import mantid.simpleapi as mantid"
   ]
  },
  {
   "cell_type": "code",
   "execution_count": null,
   "id": "bd605646-ce54-4ca8-959d-6d02a2799fd0",
   "metadata": {},
   "outputs": [],
   "source": [
    "def add_runs(runs, data_path): \n",
    "    \"\"\"\n",
    "    Adding data and monitors from different runs. Iterates over list of runs. \n",
    "    Currently returning two data sets, however it may also be possible to create one in order to use workflows\n",
    "    \"\"\"\n",
    "    input_file1 = f'{data_path}/{runs[0]}-2022-02-28_2215.nxs'\n",
    "    fixed_file1 = f'{input_file1[:-4]}_fixed.nxs'\n",
    "    data1 = scn.load_nexus(data_file=fixed_file1)\n",
    "    da1 = data1.squeeze().copy()\n",
    "    summed_data = da1\n",
    "    summed_monitors_1 = da1.attrs['monitor_1'].value\n",
    "    summed_monitors_2 = da1.attrs['monitor_2'].value\n",
    "    for run in runs[1:]: \n",
    "        print(f'Run: {run}')\n",
    "        input_file2 = f'{data_path}/{run}-2022-02-28_2215.nxs'\n",
    "        fixed_file2 = f'{input_file2[:-4]}_fixed.nxs'\n",
    "        data2 = scn.load_nexus(data_file=fixed_file2)\n",
    "        \n",
    "        da2 = data2.squeeze().copy()\n",
    "        summed_data = summed_data.bins.concatenate(da2)\n",
    "        summed_monitors_1 = summed_monitors_1.bins.concatenate(da2.attrs['monitor_1'].value)\n",
    "        summed_monitors_2 = summed_monitors_2.bins.concatenate(da2.attrs['monitor_2'].value)\n",
    "        \n",
    "    return summed_data, summed_monitors_1, summed_monitors_2"
   ]
  },
  {
   "cell_type": "code",
   "execution_count": null,
   "id": "a92c4273-018c-49d7-8e33-6e978255472d",
   "metadata": {},
   "outputs": [],
   "source": [
    "#runs = ['60323', '60329', '60353']\n",
    "runs = ['60250','60264','60292','60308','60322','60339','60353','60367','60381','60395']"
   ]
  },
  {
   "cell_type": "code",
   "execution_count": null,
   "id": "0bc84689-b439-4fbc-af0c-9bc4d85bdd51",
   "metadata": {},
   "outputs": [],
   "source": [
    "data_path = '/Users/wojciechpotrzebowski/SCIPP_SPACE/loki_detector_test/2022-06-24_calibrated_nexus_files'"
   ]
  },
  {
   "cell_type": "code",
   "execution_count": null,
   "id": "b968ebc4-2397-4d5e-9fad-e5c4d68c2adc",
   "metadata": {},
   "outputs": [],
   "source": [
    "summed_data, summed_monitors_1, summed_monitors_2 = add_runs(runs, data_path)"
   ]
  },
  {
   "cell_type": "code",
   "execution_count": null,
   "id": "effe87ca-b1a2-4290-b828-134239fda9d8",
   "metadata": {},
   "outputs": [],
   "source": [
    "edges=sc.linspace('tof', 91, 1e8, 100, unit='ns')\n",
    "binned_data = sc.bin(summed_data, edges=[edges])"
   ]
  },
  {
   "cell_type": "code",
   "execution_count": null,
   "id": "c7b924ce-8314-4d7e-9379-e44420be3ed4",
   "metadata": {},
   "outputs": [],
   "source": [
    "binned_data.sum('detector_id').plot() "
   ]
  },
  {
   "cell_type": "code",
   "execution_count": null,
   "id": "25bfa679-b01a-4250-ad0c-1e525a499dac",
   "metadata": {},
   "outputs": [],
   "source": [
    "scn.instrument_view(binned_data, pixel_size=0.01, norm='log')"
   ]
  },
  {
   "cell_type": "markdown",
   "id": "dda3354d-b637-4be7-9234-850bf6350338",
   "metadata": {},
   "source": [
    "### Comparison with mantid addition"
   ]
  },
  {
   "cell_type": "code",
   "execution_count": null,
   "id": "e02f9d5e-c193-4ac4-877f-104323ff2f9c",
   "metadata": {},
   "outputs": [],
   "source": [
    "mantid_file_path = '/Users/wojciechpotrzebowski/SCIPP_SPACE/loki_detector_test/merged_files'\n",
    "mantid_file = scn.load(f'{mantid_file_path}/60395-mantid-add.nxs')"
   ]
  },
  {
   "cell_type": "code",
   "execution_count": null,
   "id": "90bfb60f-5cc5-4053-bda8-1140a4b77ff6",
   "metadata": {},
   "outputs": [],
   "source": [
    "monitors_mantid_file = scn.load(f'{mantid_file_path}/60395-monitors-add.nxs')"
   ]
  },
  {
   "cell_type": "code",
   "execution_count": null,
   "id": "68b7c3f8-0f78-458a-ad88-9bf593c54aa4",
   "metadata": {},
   "outputs": [],
   "source": [
    "edges_us=sc.to_unit(edges, unit='us')"
   ]
  },
  {
   "cell_type": "code",
   "execution_count": null,
   "id": "78db71ab-a0a9-4845-bad7-c4b153fcc5b8",
   "metadata": {},
   "outputs": [],
   "source": [
    "binned_mantid_data= sc.bin(mantid_file, edges=[edges_us])"
   ]
  },
  {
   "cell_type": "code",
   "execution_count": null,
   "id": "181e2615-0a6f-4573-af0c-ccdc82b3e4dc",
   "metadata": {},
   "outputs": [],
   "source": [
    "binned_mantid_data.sum('spectrum').plot()"
   ]
  },
  {
   "cell_type": "raw",
   "id": "68c6e2ff-c54b-4d74-848e-6de38c876e71",
   "metadata": {},
   "source": [
    "import matplotlib.pyplot as plt\n",
    "tof_values = sc.midpoints(edges).values\n",
    "counts_scipp = binned_data.sum('detector_id').values\n",
    "counts_mantid = binned_mantid_data.sum('spectrum').values\n",
    "#plt.plot(tof_values,counts_scipp, label='scipp')\n",
    "plt.plot(tof_values,counts_mantid, label='mantid')\n",
    "plt.xlabel(\"TOF [ns]\")\n",
    "plt.ylabel(\"counts\")\n",
    "plt.legend(loc=\"upper right\")\n",
    "plt.show()"
   ]
  },
  {
   "cell_type": "code",
   "execution_count": null,
   "id": "d7e0b95a-0505-4149-b172-7cde7db59130",
   "metadata": {},
   "outputs": [],
   "source": []
  },
  {
   "cell_type": "code",
   "execution_count": null,
   "id": "e6c0e9ca-1d79-4190-8663-0cb67ef2580a",
   "metadata": {},
   "outputs": [],
   "source": []
  }
 ],
 "metadata": {
  "kernelspec": {
   "display_name": "Python 3 (ipykernel)",
   "language": "python",
   "name": "python3"
  },
  "language_info": {
   "codemirror_mode": {
    "name": "ipython",
    "version": 3
   },
   "file_extension": ".py",
   "mimetype": "text/x-python",
   "name": "python",
   "nbconvert_exporter": "python",
   "pygments_lexer": "ipython3",
   "version": "3.8.12"
  }
 },
 "nbformat": 4,
 "nbformat_minor": 5
}
