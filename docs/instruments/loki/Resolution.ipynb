{
 "cells": [
  {
   "cell_type": "code",
   "execution_count": 1,
   "id": "b4f21d32-9d67-4c7d-9bbf-1adbdbcea272",
   "metadata": {},
   "outputs": [],
   "source": [
    "import scipp as sc\n",
    "import scippneutron as scn\n",
    "from ess import loki, sans\n",
    "from scippneutron.tof.conversions import elastic_wavelength, elastic_Q, beamline\n",
    "from scipp.constants import m_n, h"
   ]
  },
  {
   "cell_type": "code",
   "execution_count": 2,
   "id": "b2d27476-f47d-497e-bc81-f23edf149ce9",
   "metadata": {},
   "outputs": [],
   "source": [
    "def to_bin_edges(d, dim):\n",
    "    centers = d.coords[dim].copy()\n",
    "    del d.coords[dim]\n",
    "    first = 1.5*centers[dim, 0] - 0.5*centers[dim, 1]\n",
    "    last = 1.5*centers[dim, -1] - 0.5*centers[dim, -2]\n",
    "    bulk = 0.5 * (centers[dim, 1:] + centers[dim, :-1])\n",
    "    edges = sc.concat([first, bulk], dim)\n",
    "    edges = sc.concat([edges, last], dim)\n",
    "    d.coords[dim] = edges"
   ]
  },
  {
   "cell_type": "code",
   "execution_count": 3,
   "id": "4f1b834c-b711-4693-b23f-ca20cfe62599",
   "metadata": {},
   "outputs": [],
   "source": [
    "def get_wavelength_independent_factor(l2, l_collimation, r1, r2, dr):\n",
    "      \n",
    "    inv_l3 = (l_collimation + l2) / (l_collimation * l2)\n",
    "    \n",
    "    # Terms in Mildner and Carpenter equation.\n",
    "    # See https://docs.mantidproject.org/nightly/algorithms/TOFSANSResolutionByPixel-v1.html\n",
    "    a1 = (r1/l_collimation)*(r1/l_collimation) * 3.0\n",
    "    a2 = (r2*inv_l3)*(r2*inv_l3) * 3.0\n",
    "    a3 = (dr/l2) * (dr/l2) \n",
    "    \n",
    "    wav_independent = (4.0 * sc.constants.pi / 12) * (a1 + a2 + a3) \n",
    "    return wav_independent, a1, a2, a3\n",
    "    "
   ]
  },
  {
   "cell_type": "code",
   "execution_count": 4,
   "id": "1bc99fa8-574a-4c17-969b-e50056d8eb87",
   "metadata": {},
   "outputs": [],
   "source": [
    "def generate_gaussian(sigma, term_name, num_points):\n",
    "    \"\"\"\n",
    "    Generates gaussian function based on given sigma.\n",
    "    Currently for visualization purposes. \n",
    "    In the future it may be used for numerical integration of Mildner-Carpenter terms \n",
    "    \"\"\"\n",
    "    import scipy.stats as stats\n",
    "    xpoints = sc.linspace('x', -3*sigma, 3*sigma, num=num_points)\n",
    "    pdf_result = stats.norm.pdf(xpoints.values,loc=0,scale=sigma.value)\n",
    "    gauss_data = sc.Dataset(\n",
    "    data={\n",
    "        term_name:sc.array(dims=['x'], values=pdf_result)}, \n",
    "    coords={\n",
    "        'x':sc.array(dims=['x'], values=xpoints.values)} )\n",
    "    return gauss_data"
   ]
  },
  {
   "cell_type": "code",
   "execution_count": 5,
   "id": "30f4fdb9-968b-4b80-8aa6-10c9351b6d72",
   "metadata": {},
   "outputs": [],
   "source": [
    "def get_sigma_q_value(data, d_lam, lam, wav_independent, moderatorValue, q, l1, l2):\n",
    "\n",
    "     \n",
    "    #sigModerator = Moderator time spread (microseconds) as afunction of wavelength (Angstroms)\n",
    "    sig_moderator = moderatorValue * 3.9560 / (1000.0 * (l1 + l2));\n",
    "    sig_moderator.unit = sc.units.angstrom\n",
    "    \n",
    "    #TODO: replace with q from cooridnate transformations \n",
    "    theta = scn.two_theta(data) \n",
    "    q_sq = 4.0 * sc.constants.pi * sc.sin(0.5*theta) * sc.reciprocal(lam)\n",
    "    q_sq *= q_sq\n",
    "    \n",
    "    std_dev_lam_sq = q_sq \n",
    "    std_dev_lam_sq *= (d_lam * d_lam)/12 + sig_moderator * sig_moderator\n",
    "    std_dev_lam_sq *= sc.reciprocal(lam * lam)\n",
    "    \n",
    "    std_dev_lam_independent = sc.DataArray((wav_independent * sc.reciprocal(lam * lam) ),\n",
    "                    coords={'wavelength':std_dev_lam_sq.coords['wavelength']}) \n",
    "   \n",
    "    dq_sq = sc.sqrt(std_dev_lam_independent + std_dev_lam_sq)\n",
    "    return dq_sq   \n"
   ]
  },
  {
   "cell_type": "code",
   "execution_count": 6,
   "id": "8c4f70ac-2ed8-4035-97bf-2c27015da67d",
   "metadata": {},
   "outputs": [],
   "source": [
    "def q_resolution(wavelength_bins, moderator, data, q):\n",
    "    \n",
    "    l_collimation = 4.0*sc.units.m\n",
    "    r2 = 0.004*sc.units.m\n",
    "    r1 = 0.01*sc.units.m\n",
    "    dr = 0.008*sc.units.m\n",
    "    \n",
    "    d_lam = wavelength_bins['wavelength', 1:] - wavelength_bins['wavelength', :-1] # bin widths\n",
    "    lam = sc.midpoints(wavelength_bins)\n",
    "    l2 = scn.L2(data)\n",
    "    l1 = scn.L1(data)\n",
    "    \n",
    "    wav_independent, a1, a2, a3 = get_wavelength_independent_factor(l2, l_collimation, r1, r2, dr)\n",
    "    \n",
    "    to_bin_edges(moderator, 'wavelength')\n",
    "    moderatorValue = sc.rebin(moderator, 'wavelength', wavelength_bins)\n",
    "    \n",
    "    dq_sq = get_sigma_q_value(data, d_lam, lam, wav_independent, moderatorValue, q, l1, l2)\n",
    "    \n",
    "    return a1, a2, a3, dq_sq "
   ]
  },
  {
   "cell_type": "code",
   "execution_count": 7,
   "id": "d3dfe1f4-6180-46a1-9aea-e0f25ddce50d",
   "metadata": {},
   "outputs": [],
   "source": [
    "# Estimate qresolution function\n",
    "\n",
    "wavelength_bins = sc.linspace(dim='wavelength', start=2.0, stop=16.0, num=141, unit='angstrom')\n",
    "\n",
    "path = 'SANS2D_data'\n",
    "moderator_file = 'ModeratorStdDev_TS2_SANS_LETexptl_07Aug2015.txt'\n",
    "moderator = loki.io.load_rkh_wav(filename=f'{path}/{moderator_file}')\n",
    "\n",
    "#q resolution params\n",
    "l_collimation = 4.0*sc.units.m\n",
    "r2 = 0.004*sc.units.m\n",
    "r1 = 0.01*sc.units.m\n",
    "dr = 0.008*sc.units.m\n",
    "\n",
    "# Using only one-fourth of the full spectra 245760 (reserved for first detector)\n",
    "#spectrum_size =  245760//4\n",
    "\n",
    "# Sample measurement\n",
    "#sample = loki.io.load_sans2d(filename=f'{path}/SANS2D00063114.nxs',\n",
    "#                             spectrum_size=spectrum_size)\n",
    "\n",
    "#d - data is normalized and reduced data\n",
    "\n",
    "#dq_sq = q_resolution(wavelength_bins, moderator, sample, l_collimation, r1, r2, dr)\n",
    "\n",
    "#Dense example data - still needs to make it working for event data \n",
    "da = scn.data.tutorial_dense_data()"
   ]
  },
  {
   "cell_type": "code",
   "execution_count": 8,
   "id": "cb180e71-9888-4f80-a79d-d9529dbdf567",
   "metadata": {},
   "outputs": [],
   "source": [
    "def two_theta(gravity, wavelength, incident_beam, scattered_beam):\n",
    "    # Arbitrary internal convention: beam=z, gravity=y\n",
    "    g = sc.norm(gravity)\n",
    "    L2 = sc.norm(scattered_beam)\n",
    "    y = sc.dot(scattered_beam, gravity) / g\n",
    "    n = sc.cross(incident_beam, gravity)\n",
    "    n /= sc.norm(n)\n",
    "    x = sc.dot(scattered_beam, n)\n",
    "    wavelength = sc.to_unit(wavelength, \"m\", copy=False)\n",
    "    drop = g * m_n ** 2 / (2 * h ** 2) * wavelength ** 2 * L2 ** 2\n",
    "    return sc.asin(sc.sqrt(x ** 2 + (y + drop) ** 2) / L2)"
   ]
  },
  {
   "cell_type": "code",
   "execution_count": 9,
   "id": "af16df99-ba3f-4626-b959-dd482d14933d",
   "metadata": {},
   "outputs": [],
   "source": [
    "#Conversion of the data \n",
    "q_with_gravity = {**beamline(scatter=True),\n",
    "                  **elastic_Q(\"tof\")}\n",
    "q_with_gravity[\"two_theta\"] = two_theta\n",
    "da.coords[\"gravity\"] = sans.i_of_q.gravity_vector()\n",
    "da.coords[\"tof\"] = 0.5 * (da.coords[\"tof\"][\"tof\", :-1] + da.coords[\"tof\"][\"tof\", 1:])\n",
    "data_q = da.transform_coords(\"Q\", graph=q_with_gravity)\n"
   ]
  },
  {
   "cell_type": "code",
   "execution_count": 10,
   "id": "440fe78e-f584-4b12-a9dd-b155cf55831c",
   "metadata": {},
   "outputs": [],
   "source": [
    "# Q binning\n",
    "q_bins = sc.linspace(dim='Q', start=0.01, stop=0.6, num=141, unit='1/angstrom')\n",
    "data_q = data_q.flatten(to=\"Q\").hist(Q=q_bins)"
   ]
  },
  {
   "cell_type": "code",
   "execution_count": 20,
   "id": "6b7db772-7cb1-4d4c-9d8f-17ae0e73408e",
   "metadata": {},
   "outputs": [
    {
     "data": {
      "application/vnd.jupyter.widget-view+json": {
       "model_id": "45b59381ae98440d9fe89124a60ab2ef",
       "version_major": 2,
       "version_minor": 0
      },
      "text/plain": [
       "VBox(children=(HBox(children=(VBox(children=(Button(icon='home', layout=Layout(padding='0px 0px 0px 0px', widt…"
      ]
     },
     "metadata": {},
     "output_type": "display_data"
    }
   ],
   "source": [
    "data_q.plot(norm=\"log\")"
   ]
  },
  {
   "cell_type": "code",
   "execution_count": 11,
   "id": "71f46dbf-822b-4da1-b45b-17de2008f4d5",
   "metadata": {},
   "outputs": [
    {
     "data": {
      "text/html": [
       "<div><!-- Original source from -->\n",
       "<!-- https://github.com/jsignell/xarray/blob/1d960933ab252e0f79f7e050e6c9261d55568057/xarray/static/html/icons-svg-inline.html -->\n",
       "<svg style=\"position: absolute; width: 0; height: 0; overflow: hidden\">\n",
       "<defs>\n",
       "<symbol id=\"icon-database\" viewBox=\"0 0 32 32\">\n",
       "<title>Show/Hide data repr</title>\n",
       "<path d=\"M16 0c-8.837 0-16 2.239-16 5v4c0 2.761 7.163 5 16 5s16-2.239 16-5v-4c0-2.761-7.163-5-16-5z\"></path>\n",
       "<path d=\"M16 17c-8.837 0-16-2.239-16-5v6c0 2.761 7.163 5 16 5s16-2.239 16-5v-6c0 2.761-7.163 5-16 5z\"></path>\n",
       "<path d=\"M16 26c-8.837 0-16-2.239-16-5v6c0 2.761 7.163 5 16 5s16-2.239 16-5v-6c0 2.761-7.163 5-16 5z\"></path>\n",
       "</symbol>\n",
       "<symbol id=\"icon-file-text2\" viewBox=\"0 0 32 32\">\n",
       "<title>Show/Hide attributes</title>\n",
       "<path d=\"M28.681 7.159c-0.694-0.947-1.662-2.053-2.724-3.116s-2.169-2.030-3.116-2.724c-1.612-1.182-2.393-1.319-2.841-1.319h-15.5c-1.378 0-2.5 1.121-2.5 2.5v27c0 1.378 1.122 2.5 2.5 2.5h23c1.378 0 2.5-1.122 2.5-2.5v-19.5c0-0.448-0.137-1.23-1.319-2.841zM24.543 5.457c0.959 0.959 1.712 1.825 2.268 2.543h-4.811v-4.811c0.718 0.556 1.584 1.309 2.543 2.268zM28 29.5c0 0.271-0.229 0.5-0.5 0.5h-23c-0.271 0-0.5-0.229-0.5-0.5v-27c0-0.271 0.229-0.5 0.5-0.5 0 0 15.499-0 15.5 0v7c0 0.552 0.448 1 1 1h7v19.5z\"></path>\n",
       "<path d=\"M23 26h-14c-0.552 0-1-0.448-1-1s0.448-1 1-1h14c0.552 0 1 0.448 1 1s-0.448 1-1 1z\"></path>\n",
       "<path d=\"M23 22h-14c-0.552 0-1-0.448-1-1s0.448-1 1-1h14c0.552 0 1 0.448 1 1s-0.448 1-1 1z\"></path>\n",
       "<path d=\"M23 18h-14c-0.552 0-1-0.448-1-1s0.448-1 1-1h14c0.552 0 1 0.448 1 1s-0.448 1-1 1z\"></path>\n",
       "</symbol>\n",
       "</defs>\n",
       "</svg><style id=\"scipp-style-sheet\">.sc-root{--sc-background-color0:var(--jp-layout-color0,#fff);--sc-background-color1:var(--jp-layout-color1,#fcfcfc);--sc-background-color2:var(--jp-layout-color2,#efefef);--sc-inverse-background-color0:var(--jp-inverse-layout-color4,#111);--sc-font-color0:var(--jp-content-font-color0,#000);--sc-font-color1:var(--jp-content-font-color1,#555);--sc-font-color2:var(--jp-content-font-color2,#888);--sc-font-color3:var(--jp-content-font-color3,#ccc);--sc-table-data-color:#f6d028;--sc-table-coords-color:#c6e590;--sc-table-masks-color:#c8c8c8;--sc-table-attrs-color:#ff5555;--sc-table-header-font-color:#111111;}.sc-wrap{font-size:14px;min-width:300px;max-width:800px;}.sc-var-attrs .sc-wrap{padding-left:3em;}.sc-header{padding-top:6px;padding-bottom:6px;margin-bottom:4px;border-bottom:solid 1px #ddd;}.sc-header > div,.sc-header > ul{display:inline;margin-top:0;margin-bottom:0;}.sc-obj-type,.sc-array-name{margin-left:2px;margin-right:10px;}.sc-obj-type{color:var(--sc-font-color1);}.sc-underlying-size{color:var(--sc-font-color2);}.sc-sections,.reveal .sc-sections{padding-left:0 !important;display:grid;grid-template-columns:150px auto auto auto 1fr 20px 20px;}.sc-section-item{display:contents;}.sc-section-item input{display:none;}.sc-section-item input:enabled + label{cursor:pointer;color:var(--sc-font-color1);}.sc-section-item input:enabled + label:hover{color:var(--sc-font-color0);}.sc-section-summary{grid-column:1;font-weight:500;}.sc-section-summary > span{display:inline-block;padding-left:0.5em;}.sc-section-summary-in:disabled + label{color:var(--sc-font-color1);}.sc-section-summary-in + label:before{display:inline-block;content:'►';font-size:11px;width:15px;text-align:center;}.sc-section-summary-in:disabled + label:before{color:var(--sc-font-color3);}.sc-section-summary-in:checked + label:before{content:'▼';}.sc-section-summary-in:checked + label > span{display:none;}.sc-section-summary,.sc-section-inline-details{padding-top:4px;padding-bottom:4px;}.sc-section-inline-details{grid-column:2 / 6;}.sc-section-details{display:none;grid-column:1 / -1;margin-bottom:5px;}.sc-section-summary-in:checked ~ .sc-section-details{display:contents;}.sc-array-wrap{grid-column:1 / -1;display:grid;grid-template-columns:20px auto;}.sc-array-wrap > label{grid-column:1;vertical-align:top;}.sc-preview{color:var(--sc-font-color2);}.sc-array-preview,.sc-array-data{padding:0 5px !important;grid-column:2;}.sc-array-data,.sc-array-in:checked ~ .sc-array-preview{display:none;}.sc-array-in:checked ~ .sc-array-data,.sc-array-preview{display:inline-block;}.sc-dim-list{display:inline-block !important;list-style:none;padding:0 !important;margin:0;}.sc-dim-list li{display:inline-block;padding:0;margin:0!important;}.sc-dim-list:before{content:'(';}.sc-dim-list:after{content:')';}.sc-dim-list li:not(:last-child):after{content:',';padding-right:5px;}.sc-has-index{font-weight:bold;}.sc-var-list,.sc-var-item,.reveal .sc-var-list,.reveal .sc-var-item{display:contents;}.sc-var-item > div,.sc-var-item label,.sc-var-item > .sc-var-name span{background-color:var(--sc-background-color1);margin-bottom:0;}.sc-var-item > .sc-var-name:hover span{padding-right:5px;}.sc-var-list > li:nth-child(odd) > div,.sc-var-list > li:nth-child(odd) > label,.sc-var-list > li:nth-child(odd) > .sc-var-name span{background-color:var(--sc-background-color2);}.sc-var-name{grid-column:1;}.sc-var-dims{grid-column:2;}.sc-var-dtype{grid-column:3;text-align:right;color:var(--sc-font-color2);}.sc-var-unit{grid-column:4;text-align:left;color:var(--sc-font-color1);max-width:50pt;text-overflow:ellipsis;}.sc-value-preview{grid-column:5;}.sc-var-preview-variances{text-align:right;}.sc-sections .sc-section-item .sc-section-summary,.sc-sections .sc-section-item .sc-section-inline-details,.sc-section-item .sc-var-list .sc-var-item > div,.sc-section-item .sc-var-list .sc-var-item > label,.sc-section-details .sc-var-list .sc-var-item > div,.sc-section-details .sc-var-list .sc-var-item > label{margin-top:0;margin-bottom:0;}.sc-var-name,.sc-var-dims,.sc-var-dtype,.sc-var-unit,.sc-preview,.sc-attrs dt{white-space:nowrap;overflow:hidden;text-overflow:ellipsis;padding-right:10px;}.sc-var-name:hover,.sc-var-dims:hover,.sc-var-dtype:hover,.sc-var-unit:hover,.sc-attrs dt:hover{overflow:visible;width:auto;z-index:1;}.sc-var-attrs{display:block;}.sc-var-data,.reveal .sc-var-data{display:none;}.sc-var-attrs,.sc-var-data{background-color:var(--sc-background-color0) !important;padding-bottom:5px !important;}.sc-var-attrs-in:checked ~ .sc-var-attrs{display:none;}.sc-var-data-in:checked ~ .sc-var-data{display:block;}.sc-var-data > table{float:right;}.sc-var-name span,.sc-var-data{padding-left:25px !important;}.sc-var-attrs,.sc-var-data{grid-column:1 / -1;}dl.sc-attrs{padding:0;margin:0;display:grid;grid-template-columns:125px auto;}.sc-attrs dt,dd{padding:0;margin:0;float:left;padding-right:10px;width:auto;}.sc-attrs dt{font-weight:normal;grid-column:1;}.sc-attrs dt:hover span{display:inline-block;padding-right:10px;}.sc-attrs dd{grid-column:2;white-space:pre-wrap;word-break:break-all;}.sc-icon-database,.sc-icon-file-text2{display:inline-block;vertical-align:middle;width:1em;height:1.5em !important;stroke-width:0;stroke:currentColor;fill:currentColor;}label.sc-hide-icon svg{opacity:0;}.sc-standalone-var-name{grid-column:1/3;}.sc-standalone-var-name span{padding-left:25px;padding-right:10px;}.sc-table{border-collapse:collapse;}.sc-title{font-weight:bold;font-size:1.5em;}.sc-subtitle{font-weight:normal;font-style:italic;text-align:left;font-size:1.2em;padding:1px;}.sc-table th,.sc-table td{border:1px solid var(--sc-inverse-background-color0);padding:0 5px 0 5px;}.sc-table th{text-align:center;}.sc-table tr{background-color:var(--sc-background-color1);text-align:right;}.sc-table tr:hover{background-color:var(--sc-background-color2);}.sc-table th.sc-data{background-color:var(--sc-table-data-color);color:var(--sc-table-header-font-color);}.sc-table th.sc-coords{background-color:var(--sc-table-coords-color);color:var(--sc-table-header-font-color);}.sc-table th.sc-masks{background-color:var(--sc-table-masks-color);color:var(--sc-table-header-font-color);}.sc-table th.sc-attrs{background-color:var(--sc-table-attrs-color);color:var(--sc-table-header-font-color);}.sc-table th.sc-subheader{background-color:var(--sc-background-color2);}.sc-table td.sc-padding{background-color:var(--sc-background-color1);border:0 solid var(--sc-background-color1);height:1.2em;}.sc-label{fill:var(--sc-font-color0,#444444);text-anchor:middle;}.sc-name{fill:var(--sc-font-color0,#111111);}.sc-inset-line{stroke:var(--sc-font-color1);stroke-width:0.05;stroke-dasharray:0.2,0.2;}.sc-log-wrap{height:25ex;resize:vertical;overflow-y:scroll;display:flex;flex-direction:column-reverse;border:1px solid;border-color:var(--jp-border-color2);background-color:var(--sc-background-color1);}div.sc-log{line-height:2.5ex;}table.sc-log{table-layout:auto;border-collapse:collapse;}tr.sc-log:nth-child(even){background-color:var(--sc-background-color0);}tr.sc-log > td{vertical-align:top;padding-bottom:0.5ex;}.sc-log-time-stamp{min-width:22ch;font-family:var(--jp-code-font-family);color:var(--sc-font-color2);}.sc-log-level{min-width:10ch;}tr.sc-log-debug td.sc-log-level{color:var(--jp-accent-color1);}tr.sc-log-info td.sc-log-level{color:var(--jp-info-color1);}tr.sc-log-warning td.sc-log-level{color:var(--jp-warn-color1);}tr.sc-log-error td.sc-log-level{font-weight:bold;color:var(--jp-error-color2);}tr.sc-log-critical td.sc-log-level{font-weight:bold;color:var(--sc-background-color0);background-color:var(--jp-error-color1);}.sc-log-message{white-space:pre-wrap;width:100%;}.sc-log-html-payload{white-space:normal;}.sc-log-name{padding-right:0.5em;text-align:right;white-space:pre-wrap;color:var(--sc-font-color3);}</style><div class='sc-wrap sc-root'><div class='sc-header'><div class='sc-obj-type'>scipp.Variable (1.10 KB)</div></div><ul class='sc-sections'><li class='sc-section-item'><ul class='sc-var-list'><li class='sc-var-item'><div class='sc-standalone-var-name'><span>(Q: 141)</span></div><div class='sc-var-dtype'>float64</div><div class='sc-var-unit'>1/Å</div><div class='sc-value-preview sc-preview'><span><div>0.01, 0.014, ..., 0.596, 0.6</div></span></div><input id='attrs-3aa6849a-016e-4ec4-83e3-c290a49be74e' class='sc-var-attrs-in' type='checkbox' disabled><label for='attrs-3aa6849a-016e-4ec4-83e3-c290a49be74e' class='sc-hide-icon' title='Show/Hide attributes'><svg class='icon sc-icon-file-text2'><use xlink:href='#icon-file-text2'></use></svg></label><input id='data-89972335-125a-417d-845b-82701b1277d1' class='sc-var-data-in' type='checkbox'><label for='data-89972335-125a-417d-845b-82701b1277d1' title='Show/Hide data repr'><svg class='icon sc-icon-database'><use xlink:href='#icon-database'></use></svg></label><pre class='sc-var-data'>Values:<br>array([0.01      , 0.01421429, 0.01842857, 0.02264286, 0.02685714,\n",
       "       0.03107143, 0.03528571, 0.0395    , 0.04371429, 0.04792857,\n",
       "       0.05214286, 0.05635714, 0.06057143, 0.06478571, 0.069     ,\n",
       "       0.07321429, 0.07742857, 0.08164286, 0.08585714, 0.09007143,\n",
       "       0.09428571, 0.0985    , 0.10271429, 0.10692857, 0.11114286,\n",
       "       0.11535714, 0.11957143, 0.12378571, 0.128     , 0.13221429,\n",
       "       0.13642857, 0.14064286, 0.14485714, 0.14907143, 0.15328571,\n",
       "       0.1575    , 0.16171429, 0.16592857, 0.17014286, 0.17435714,\n",
       "       0.17857143, 0.18278571, 0.187     , 0.19121429, 0.19542857,\n",
       "       0.19964286, 0.20385714, 0.20807143, 0.21228571, 0.2165    ,\n",
       "       0.22071429, 0.22492857, 0.22914286, 0.23335714, 0.23757143,\n",
       "       0.24178571, 0.246     , 0.25021429, 0.25442857, 0.25864286,\n",
       "       0.26285714, 0.26707143, 0.27128571, 0.2755    , 0.27971429,\n",
       "       0.28392857, 0.28814286, 0.29235714, 0.29657143, 0.30078571,\n",
       "       0.305     , 0.30921429, 0.31342857, 0.31764286, 0.32185714,\n",
       "       0.32607143, 0.33028571, 0.3345    , 0.33871429, 0.34292857,\n",
       "       0.34714286, 0.35135714, 0.35557143, 0.35978571, 0.364     ,\n",
       "       0.36821429, 0.37242857, 0.37664286, 0.38085714, 0.38507143,\n",
       "       0.38928571, 0.3935    , 0.39771429, 0.40192857, 0.40614286,\n",
       "       0.41035714, 0.41457143, 0.41878571, 0.423     , 0.42721429,\n",
       "       0.43142857, 0.43564286, 0.43985714, 0.44407143, 0.44828571,\n",
       "       0.4525    , 0.45671429, 0.46092857, 0.46514286, 0.46935714,\n",
       "       0.47357143, 0.47778571, 0.482     , 0.48621429, 0.49042857,\n",
       "       0.49464286, 0.49885714, 0.50307143, 0.50728571, 0.5115    ,\n",
       "       0.51571429, 0.51992857, 0.52414286, 0.52835714, 0.53257143,\n",
       "       0.53678571, 0.541     , 0.54521429, 0.54942857, 0.55364286,\n",
       "       0.55785714, 0.56207143, 0.56628571, 0.5705    , 0.57471429,\n",
       "       0.57892857, 0.58314286, 0.58735714, 0.59157143, 0.59578571,\n",
       "       0.6       ])</pre></li></ul></li></ul></div></div>"
      ],
      "text/plain": [
       "<scipp.Variable> (Q: 141)    float64           [1/Å]  [0.01, 0.0142143, ..., 0.595786, 0.6]"
      ]
     },
     "execution_count": 11,
     "metadata": {},
     "output_type": "execute_result"
    }
   ],
   "source": [
    "data_q.coords['Q']"
   ]
  },
  {
   "cell_type": "code",
   "execution_count": 12,
   "id": "21c475fb-92cc-4388-b808-73a7f8f02e2c",
   "metadata": {},
   "outputs": [
    {
     "name": "stderr",
     "output_type": "stream",
     "text": [
      "The 'bins' keyword argument and positional syntax for setting bin edges is deprecated. Use, e.g., 'sc.rebin(da, x=x_edges)'. See the documentation for details.\n"
     ]
    }
   ],
   "source": [
    "a1, a2, a3, dq_sq = q_resolution(wavelength_bins, moderator, da, data_q.coords['Q'])"
   ]
  },
  {
   "cell_type": "markdown",
   "id": "87d59dec-f22a-49a3-85bc-e3a3542a238e",
   "metadata": {},
   "source": [
    "### Plotting individual resolution terms \n",
    "a2, a3 are generated per spectrum, so they are not easy to plot unless summed/collapsed?"
   ]
  },
  {
   "cell_type": "code",
   "execution_count": 13,
   "id": "e3e32cfa-0d3f-4c82-a782-037c53214288",
   "metadata": {},
   "outputs": [],
   "source": [
    "gauss_data = generate_gaussian(a1, 'a1', 100)"
   ]
  },
  {
   "cell_type": "code",
   "execution_count": 14,
   "id": "e6f43dbd-61fc-46eb-96ab-94cf06a58c7b",
   "metadata": {},
   "outputs": [
    {
     "data": {
      "application/vnd.jupyter.widget-view+json": {
       "model_id": "43a99d38d1e24e44b3c6df54697418aa",
       "version_major": 2,
       "version_minor": 0
      },
      "text/plain": [
       "VBox(children=(HBox(children=(VBox(children=(Button(icon='home', layout=Layout(padding='0px 0px 0px 0px', widt…"
      ]
     },
     "metadata": {},
     "output_type": "display_data"
    }
   ],
   "source": [
    "gauss_data['a1'].plot()"
   ]
  },
  {
   "cell_type": "markdown",
   "id": "b61607ce-a9b9-4608-b8b6-47e6c799f708",
   "metadata": {},
   "source": [
    "### At the end we convert to Q and want to have dq in the function of Q (as a single number). "
   ]
  },
  {
   "cell_type": "code",
   "execution_count": 15,
   "id": "4d64d0e6-01bf-47ab-8564-361c5be3c477",
   "metadata": {},
   "outputs": [],
   "source": [
    "dq_sq.coords['sample_position'] = da.coords['sample_position']\n",
    "dq_sq.coords['source_position'] = da.coords['source_position']\n",
    "dq_sq.coords['position'] = da.coords['position']\n",
    "dq_sq.coords[\"gravity\"] = sans.i_of_q.gravity_vector()"
   ]
  },
  {
   "cell_type": "code",
   "execution_count": 16,
   "id": "fea8ddd1-0f22-4bdc-bd92-36235b82c4f5",
   "metadata": {},
   "outputs": [],
   "source": [
    "dq = dq_sq.transform_coords(\"Q\", graph=q_with_gravity)"
   ]
  },
  {
   "cell_type": "code",
   "execution_count": 27,
   "id": "ab411ce2-8103-44d2-9de1-f8137eac21fc",
   "metadata": {},
   "outputs": [
    {
     "data": {
      "text/plain": [
       "array([3.96382015e+06, 4.88722935e+06, 5.07247919e+06, 4.81532304e+06,\n",
       "       4.39399085e+06, 3.91496561e+06, 3.45800449e+06, 3.02335670e+06,\n",
       "       2.62877336e+06, 2.29613845e+06, 1.98955931e+06, 1.73581709e+06,\n",
       "       1.51296387e+06, 1.32416115e+06, 1.15854122e+06, 1.01571268e+06,\n",
       "       8.89397185e+05, 7.83915992e+05, 6.89225341e+05, 6.06450443e+05,\n",
       "       5.37306603e+05, 4.74335883e+05, 4.22952789e+05, 3.74812007e+05,\n",
       "       3.35164482e+05, 2.98459787e+05, 2.67467836e+05, 2.40879758e+05,\n",
       "       2.15789402e+05, 1.95586824e+05, 1.76415294e+05, 1.59554564e+05,\n",
       "       1.43679424e+05, 1.30265975e+05, 1.17691067e+05, 1.06403513e+05,\n",
       "       9.57862120e+04, 8.66190448e+04, 7.79654913e+04, 7.05073405e+04,\n",
       "       6.32696903e+04, 5.71802758e+04, 5.13576638e+04, 4.59680135e+04,\n",
       "       4.18178963e+04, 3.72859723e+04, 3.37506157e+04, 3.00611727e+04,\n",
       "       2.69701018e+04, 2.43564430e+04, 2.20799962e+04, 2.00224890e+04,\n",
       "       1.84248863e+04, 1.68168485e+04, 1.53067703e+04, 1.40647135e+04,\n",
       "       1.30631188e+04, 1.20651085e+04, 1.13394158e+04, 1.07604355e+04,\n",
       "       9.62912075e+03, 9.31715450e+03, 8.74009425e+03, 8.13940625e+03,\n",
       "       7.79567800e+03, 7.17727200e+03, 6.88263525e+03, 6.68496375e+03,\n",
       "       6.27760575e+03, 6.09892575e+03, 5.59832100e+03, 5.39051750e+03,\n",
       "       5.16977650e+03, 4.90057000e+03, 4.53468325e+03, 4.46748700e+03,\n",
       "       4.27769875e+03, 4.06323400e+03, 3.90576175e+03, 3.60251075e+03,\n",
       "       3.60449550e+03, 3.30513200e+03, 3.26773800e+03, 3.17304950e+03,\n",
       "       2.84314025e+03, 2.70098400e+03, 2.64600700e+03, 2.57591650e+03,\n",
       "       2.41760400e+03, 2.43838750e+03, 2.23657400e+03, 2.07377950e+03,\n",
       "       2.03384150e+03, 1.94270200e+03, 1.83278725e+03, 1.90062050e+03,\n",
       "       1.75055925e+03, 1.68753850e+03, 1.59272325e+03, 1.48686900e+03,\n",
       "       1.47676425e+03, 1.42693150e+03, 1.33981625e+03, 1.34263725e+03,\n",
       "       1.30303925e+03, 1.19406625e+03, 1.16692675e+03, 1.05995025e+03,\n",
       "       1.07355125e+03, 9.92901750e+02, 1.05373400e+03, 9.53833250e+02,\n",
       "       9.55886750e+02, 9.11671250e+02, 8.85811000e+02, 8.63938000e+02,\n",
       "       8.35880250e+02, 7.90861500e+02, 7.45956750e+02, 7.13826250e+02,\n",
       "       7.26718250e+02, 6.59919250e+02, 6.59676500e+02, 6.09990250e+02,\n",
       "       6.40976000e+02, 6.20934000e+02, 5.73891750e+02, 5.51932750e+02,\n",
       "       5.40935250e+02, 5.03116500e+02, 5.12885750e+02, 4.90947500e+02,\n",
       "       4.98946750e+02, 4.72987250e+02, 4.54930750e+02, 4.37915000e+02,\n",
       "       3.97892250e+02, 4.39984250e+02, 4.38042250e+02, 4.15867500e+02])"
      ]
     },
     "execution_count": 27,
     "metadata": {},
     "output_type": "execute_result"
    }
   ],
   "source": [
    "data_q.values"
   ]
  },
  {
   "cell_type": "code",
   "execution_count": 32,
   "id": "ee0be75e-7173-485c-b24c-6a992fd69fe1",
   "metadata": {},
   "outputs": [
    {
     "data": {
      "text/plain": [
       "array([0.00551715, 0.00508172, 0.00470245, 0.00436976, 0.00407599,\n",
       "       0.00381537, 0.00358299, 0.00337496, 0.00318779, 0.00301856,\n",
       "       0.0028651 , 0.00272545, 0.00259805, 0.00248135, 0.00237404,\n",
       "       0.00227518, 0.00218388, 0.00209941, 0.00202101, 0.00194801,\n",
       "       0.00187994, 0.00181637, 0.00175693, 0.0017012 , 0.00164879,\n",
       "       0.00159947, 0.001553  , 0.00150919, 0.00146779, 0.00142854,\n",
       "       0.00139135, 0.00135605, 0.00132255, 0.00129069, 0.0012603 ,\n",
       "       0.00123132, 0.00120367, 0.00117728, 0.00115205, 0.00112786,\n",
       "       0.00110468, 0.00108246, 0.00106116, 0.00104071, 0.00102101,\n",
       "       0.00100207, 0.00098383, 0.00096629, 0.00094938, 0.00093304,\n",
       "       0.00091727, 0.00090204, 0.00088734, 0.00087313, 0.00085936,\n",
       "       0.00084602, 0.00083311, 0.00082061, 0.0008085 , 0.00079673,\n",
       "       0.00078531, 0.00077422, 0.00076347, 0.00075302, 0.00074284,\n",
       "       0.00073294, 0.00072332, 0.00071396, 0.00070485, 0.00069596,\n",
       "       0.0006873 , 0.00067886, 0.00067065, 0.00066263, 0.0006548 ,\n",
       "       0.00064716, 0.0006397 , 0.00063242, 0.00062532, 0.00061836,\n",
       "       0.00061156, 0.00060492, 0.00059843, 0.00059208, 0.00058586,\n",
       "       0.00057978, 0.00057382, 0.00056799, 0.00056229, 0.00055669,\n",
       "       0.00055121, 0.00054584, 0.00054058, 0.00053542, 0.00053036,\n",
       "       0.00052539, 0.00052052, 0.00051575, 0.00051106, 0.00050646,\n",
       "       0.00050194, 0.0004975 , 0.00049315, 0.00048887, 0.00048467,\n",
       "       0.00048054, 0.00047647, 0.00047249, 0.00046857, 0.00046471,\n",
       "       0.00046092, 0.00045719, 0.00045353, 0.00044992, 0.00044637,\n",
       "       0.00044288, 0.00043944, 0.00043606, 0.00043273, 0.00042945,\n",
       "       0.00042622, 0.00042304, 0.00041991, 0.00041683, 0.00041379,\n",
       "       0.0004108 , 0.00040784, 0.00040494, 0.00040208, 0.00039925,\n",
       "       0.00039647, 0.00039372, 0.00039102, 0.00038835, 0.00038572,\n",
       "       0.00038312, 0.00038056, 0.00037804, 0.00037555, 0.00037309])"
      ]
     },
     "execution_count": 32,
     "metadata": {},
     "output_type": "execute_result"
    }
   ],
   "source": [
    "dq['spectrum', 100].values"
   ]
  },
  {
   "cell_type": "code",
   "execution_count": 18,
   "id": "48b8b05f-ed47-42f7-9357-cf5ca0f48ef3",
   "metadata": {},
   "outputs": [
    {
     "data": {
      "application/vnd.jupyter.widget-view+json": {
       "model_id": "2a69c77d6fac4ed7a65f94830b8098b1",
       "version_major": 2,
       "version_minor": 0
      },
      "text/plain": [
       "VBox(children=(HBox(children=(VBox(children=(Button(icon='home', layout=Layout(padding='0px 0px 0px 0px', widt…"
      ]
     },
     "metadata": {},
     "output_type": "display_data"
    }
   ],
   "source": [
    "dq['spectrum',100].plot()"
   ]
  },
  {
   "cell_type": "code",
   "execution_count": 36,
   "id": "2725d625-4691-4619-9b89-eb5c94ee0a7b",
   "metadata": {},
   "outputs": [],
   "source": [
    "dq_copy = dq"
   ]
  },
  {
   "cell_type": "code",
   "execution_count": 42,
   "id": "5d5bf2a7-130b-43b0-9898-3bc904334f86",
   "metadata": {},
   "outputs": [],
   "source": [
    "dq_copy.values = dq.values/data_q.values"
   ]
  },
  {
   "cell_type": "code",
   "execution_count": 43,
   "id": "1dfe253b-7067-47e3-8583-8c88145c63d3",
   "metadata": {},
   "outputs": [
    {
     "data": {
      "text/html": [
       "<div><!-- Original source from -->\n",
       "<!-- https://github.com/jsignell/xarray/blob/1d960933ab252e0f79f7e050e6c9261d55568057/xarray/static/html/icons-svg-inline.html -->\n",
       "<svg style=\"position: absolute; width: 0; height: 0; overflow: hidden\">\n",
       "<defs>\n",
       "<symbol id=\"icon-database\" viewBox=\"0 0 32 32\">\n",
       "<title>Show/Hide data repr</title>\n",
       "<path d=\"M16 0c-8.837 0-16 2.239-16 5v4c0 2.761 7.163 5 16 5s16-2.239 16-5v-4c0-2.761-7.163-5-16-5z\"></path>\n",
       "<path d=\"M16 17c-8.837 0-16-2.239-16-5v6c0 2.761 7.163 5 16 5s16-2.239 16-5v-6c0 2.761-7.163 5-16 5z\"></path>\n",
       "<path d=\"M16 26c-8.837 0-16-2.239-16-5v6c0 2.761 7.163 5 16 5s16-2.239 16-5v-6c0 2.761-7.163 5-16 5z\"></path>\n",
       "</symbol>\n",
       "<symbol id=\"icon-file-text2\" viewBox=\"0 0 32 32\">\n",
       "<title>Show/Hide attributes</title>\n",
       "<path d=\"M28.681 7.159c-0.694-0.947-1.662-2.053-2.724-3.116s-2.169-2.030-3.116-2.724c-1.612-1.182-2.393-1.319-2.841-1.319h-15.5c-1.378 0-2.5 1.121-2.5 2.5v27c0 1.378 1.122 2.5 2.5 2.5h23c1.378 0 2.5-1.122 2.5-2.5v-19.5c0-0.448-0.137-1.23-1.319-2.841zM24.543 5.457c0.959 0.959 1.712 1.825 2.268 2.543h-4.811v-4.811c0.718 0.556 1.584 1.309 2.543 2.268zM28 29.5c0 0.271-0.229 0.5-0.5 0.5h-23c-0.271 0-0.5-0.229-0.5-0.5v-27c0-0.271 0.229-0.5 0.5-0.5 0 0 15.499-0 15.5 0v7c0 0.552 0.448 1 1 1h7v19.5z\"></path>\n",
       "<path d=\"M23 26h-14c-0.552 0-1-0.448-1-1s0.448-1 1-1h14c0.552 0 1 0.448 1 1s-0.448 1-1 1z\"></path>\n",
       "<path d=\"M23 22h-14c-0.552 0-1-0.448-1-1s0.448-1 1-1h14c0.552 0 1 0.448 1 1s-0.448 1-1 1z\"></path>\n",
       "<path d=\"M23 18h-14c-0.552 0-1-0.448-1-1s0.448-1 1-1h14c0.552 0 1 0.448 1 1s-0.448 1-1 1z\"></path>\n",
       "</symbol>\n",
       "</defs>\n",
       "</svg><style id=\"scipp-style-sheet\">.sc-root{--sc-background-color0:var(--jp-layout-color0,#fff);--sc-background-color1:var(--jp-layout-color1,#fcfcfc);--sc-background-color2:var(--jp-layout-color2,#efefef);--sc-inverse-background-color0:var(--jp-inverse-layout-color4,#111);--sc-font-color0:var(--jp-content-font-color0,#000);--sc-font-color1:var(--jp-content-font-color1,#555);--sc-font-color2:var(--jp-content-font-color2,#888);--sc-font-color3:var(--jp-content-font-color3,#ccc);--sc-table-data-color:#f6d028;--sc-table-coords-color:#c6e590;--sc-table-masks-color:#c8c8c8;--sc-table-attrs-color:#ff5555;--sc-table-header-font-color:#111111;}.sc-wrap{font-size:14px;min-width:300px;max-width:800px;}.sc-var-attrs .sc-wrap{padding-left:3em;}.sc-header{padding-top:6px;padding-bottom:6px;margin-bottom:4px;border-bottom:solid 1px #ddd;}.sc-header > div,.sc-header > ul{display:inline;margin-top:0;margin-bottom:0;}.sc-obj-type,.sc-array-name{margin-left:2px;margin-right:10px;}.sc-obj-type{color:var(--sc-font-color1);}.sc-underlying-size{color:var(--sc-font-color2);}.sc-sections,.reveal .sc-sections{padding-left:0 !important;display:grid;grid-template-columns:150px auto auto auto 1fr 20px 20px;}.sc-section-item{display:contents;}.sc-section-item input{display:none;}.sc-section-item input:enabled + label{cursor:pointer;color:var(--sc-font-color1);}.sc-section-item input:enabled + label:hover{color:var(--sc-font-color0);}.sc-section-summary{grid-column:1;font-weight:500;}.sc-section-summary > span{display:inline-block;padding-left:0.5em;}.sc-section-summary-in:disabled + label{color:var(--sc-font-color1);}.sc-section-summary-in + label:before{display:inline-block;content:'►';font-size:11px;width:15px;text-align:center;}.sc-section-summary-in:disabled + label:before{color:var(--sc-font-color3);}.sc-section-summary-in:checked + label:before{content:'▼';}.sc-section-summary-in:checked + label > span{display:none;}.sc-section-summary,.sc-section-inline-details{padding-top:4px;padding-bottom:4px;}.sc-section-inline-details{grid-column:2 / 6;}.sc-section-details{display:none;grid-column:1 / -1;margin-bottom:5px;}.sc-section-summary-in:checked ~ .sc-section-details{display:contents;}.sc-array-wrap{grid-column:1 / -1;display:grid;grid-template-columns:20px auto;}.sc-array-wrap > label{grid-column:1;vertical-align:top;}.sc-preview{color:var(--sc-font-color2);}.sc-array-preview,.sc-array-data{padding:0 5px !important;grid-column:2;}.sc-array-data,.sc-array-in:checked ~ .sc-array-preview{display:none;}.sc-array-in:checked ~ .sc-array-data,.sc-array-preview{display:inline-block;}.sc-dim-list{display:inline-block !important;list-style:none;padding:0 !important;margin:0;}.sc-dim-list li{display:inline-block;padding:0;margin:0!important;}.sc-dim-list:before{content:'(';}.sc-dim-list:after{content:')';}.sc-dim-list li:not(:last-child):after{content:',';padding-right:5px;}.sc-has-index{font-weight:bold;}.sc-var-list,.sc-var-item,.reveal .sc-var-list,.reveal .sc-var-item{display:contents;}.sc-var-item > div,.sc-var-item label,.sc-var-item > .sc-var-name span{background-color:var(--sc-background-color1);margin-bottom:0;}.sc-var-item > .sc-var-name:hover span{padding-right:5px;}.sc-var-list > li:nth-child(odd) > div,.sc-var-list > li:nth-child(odd) > label,.sc-var-list > li:nth-child(odd) > .sc-var-name span{background-color:var(--sc-background-color2);}.sc-var-name{grid-column:1;}.sc-var-dims{grid-column:2;}.sc-var-dtype{grid-column:3;text-align:right;color:var(--sc-font-color2);}.sc-var-unit{grid-column:4;text-align:left;color:var(--sc-font-color1);max-width:50pt;text-overflow:ellipsis;}.sc-value-preview{grid-column:5;}.sc-var-preview-variances{text-align:right;}.sc-sections .sc-section-item .sc-section-summary,.sc-sections .sc-section-item .sc-section-inline-details,.sc-section-item .sc-var-list .sc-var-item > div,.sc-section-item .sc-var-list .sc-var-item > label,.sc-section-details .sc-var-list .sc-var-item > div,.sc-section-details .sc-var-list .sc-var-item > label{margin-top:0;margin-bottom:0;}.sc-var-name,.sc-var-dims,.sc-var-dtype,.sc-var-unit,.sc-preview,.sc-attrs dt{white-space:nowrap;overflow:hidden;text-overflow:ellipsis;padding-right:10px;}.sc-var-name:hover,.sc-var-dims:hover,.sc-var-dtype:hover,.sc-var-unit:hover,.sc-attrs dt:hover{overflow:visible;width:auto;z-index:1;}.sc-var-attrs{display:block;}.sc-var-data,.reveal .sc-var-data{display:none;}.sc-var-attrs,.sc-var-data{background-color:var(--sc-background-color0) !important;padding-bottom:5px !important;}.sc-var-attrs-in:checked ~ .sc-var-attrs{display:none;}.sc-var-data-in:checked ~ .sc-var-data{display:block;}.sc-var-data > table{float:right;}.sc-var-name span,.sc-var-data{padding-left:25px !important;}.sc-var-attrs,.sc-var-data{grid-column:1 / -1;}dl.sc-attrs{padding:0;margin:0;display:grid;grid-template-columns:125px auto;}.sc-attrs dt,dd{padding:0;margin:0;float:left;padding-right:10px;width:auto;}.sc-attrs dt{font-weight:normal;grid-column:1;}.sc-attrs dt:hover span{display:inline-block;padding-right:10px;}.sc-attrs dd{grid-column:2;white-space:pre-wrap;word-break:break-all;}.sc-icon-database,.sc-icon-file-text2{display:inline-block;vertical-align:middle;width:1em;height:1.5em !important;stroke-width:0;stroke:currentColor;fill:currentColor;}label.sc-hide-icon svg{opacity:0;}.sc-standalone-var-name{grid-column:1/3;}.sc-standalone-var-name span{padding-left:25px;padding-right:10px;}.sc-table{border-collapse:collapse;}.sc-title{font-weight:bold;font-size:1.5em;}.sc-subtitle{font-weight:normal;font-style:italic;text-align:left;font-size:1.2em;padding:1px;}.sc-table th,.sc-table td{border:1px solid var(--sc-inverse-background-color0);padding:0 5px 0 5px;}.sc-table th{text-align:center;}.sc-table tr{background-color:var(--sc-background-color1);text-align:right;}.sc-table tr:hover{background-color:var(--sc-background-color2);}.sc-table th.sc-data{background-color:var(--sc-table-data-color);color:var(--sc-table-header-font-color);}.sc-table th.sc-coords{background-color:var(--sc-table-coords-color);color:var(--sc-table-header-font-color);}.sc-table th.sc-masks{background-color:var(--sc-table-masks-color);color:var(--sc-table-header-font-color);}.sc-table th.sc-attrs{background-color:var(--sc-table-attrs-color);color:var(--sc-table-header-font-color);}.sc-table th.sc-subheader{background-color:var(--sc-background-color2);}.sc-table td.sc-padding{background-color:var(--sc-background-color1);border:0 solid var(--sc-background-color1);height:1.2em;}.sc-label{fill:var(--sc-font-color0,#444444);text-anchor:middle;}.sc-name{fill:var(--sc-font-color0,#111111);}.sc-inset-line{stroke:var(--sc-font-color1);stroke-width:0.05;stroke-dasharray:0.2,0.2;}.sc-log-wrap{height:25ex;resize:vertical;overflow-y:scroll;display:flex;flex-direction:column-reverse;border:1px solid;border-color:var(--jp-border-color2);background-color:var(--sc-background-color1);}div.sc-log{line-height:2.5ex;}table.sc-log{table-layout:auto;border-collapse:collapse;}tr.sc-log:nth-child(even){background-color:var(--sc-background-color0);}tr.sc-log > td{vertical-align:top;padding-bottom:0.5ex;}.sc-log-time-stamp{min-width:22ch;font-family:var(--jp-code-font-family);color:var(--sc-font-color2);}.sc-log-level{min-width:10ch;}tr.sc-log-debug td.sc-log-level{color:var(--jp-accent-color1);}tr.sc-log-info td.sc-log-level{color:var(--jp-info-color1);}tr.sc-log-warning td.sc-log-level{color:var(--jp-warn-color1);}tr.sc-log-error td.sc-log-level{font-weight:bold;color:var(--jp-error-color2);}tr.sc-log-critical td.sc-log-level{font-weight:bold;color:var(--sc-background-color0);background-color:var(--jp-error-color1);}.sc-log-message{white-space:pre-wrap;width:100%;}.sc-log-html-payload{white-space:normal;}.sc-log-name{padding-right:0.5em;text-align:right;white-space:pre-wrap;color:var(--sc-font-color3);}</style><div class='sc-wrap sc-root'><div class='sc-header'><div class='sc-obj-type'>scipp.DataArray (497.00 MB)</div></div><ul class='sc-sections'><li class='sc-section-item'><input id='section-ca9649dc-5ec0-4025-9241-e47ce44a9f83' class='sc-section-summary-in' type='checkbox' disabled ><label for='section-ca9649dc-5ec0-4025-9241-e47ce44a9f83' class='sc-section-summary'  title='Expand/collapse section'>Dimensions:</label><div class='sc-section-inline-details'><ul class='sc-dim-list'><li><span>spectrum</span>: 114688</li><li><span class='sc-has-index'>Q</span>: 140</li></ul></div><div class='sc-section-details'></div></li><li class='sc-section-item'><input id='section-3774b6aa-dc94-4e32-88b9-728a595c8ea1' class='sc-section-summary-in' type='checkbox'  checked><label for='section-3774b6aa-dc94-4e32-88b9-728a595c8ea1' class='sc-section-summary' >Coordinates: <span>(1)</span></label><div class='sc-section-inline-details'></div><div class='sc-section-details'><ul class='sc-var-list'><li class='sc-var-item'><div class='sc-var-name'><span class='sc-has-index'>Q</span></div><div class='sc-var-dims'>(Q [bin-edge], spectrum)</div><div class='sc-var-dtype'>float64</div><div class='sc-var-unit'>1/Å</div><div class='sc-value-preview sc-preview'><span><div>0.538, 0.536, ..., 0.048, 0.048</div></span></div><input id='attrs-a5667bfc-6dba-4220-9489-a277d0f69868' class='sc-var-attrs-in' type='checkbox' disabled><label for='attrs-a5667bfc-6dba-4220-9489-a277d0f69868' class='sc-hide-icon' title='Show/Hide attributes'><svg class='icon sc-icon-file-text2'><use xlink:href='#icon-file-text2'></use></svg></label><input id='data-6514b9e2-0f59-4175-b9ea-34cc7435cd87' class='sc-var-data-in' type='checkbox'><label for='data-6514b9e2-0f59-4175-b9ea-34cc7435cd87' title='Show/Hide data repr'><svg class='icon sc-icon-database'><use xlink:href='#icon-database'></use></svg></label><pre class='sc-var-data'>Values:<br>array([[0.53763781, 0.53570774, 0.53377742, ..., 0.38119825, 0.38275619,\n",
       "        0.38431393],\n",
       "       [0.51203571, 0.51019755, 0.50835914, ..., 0.36304602, 0.36452978,\n",
       "        0.36601333],\n",
       "       [0.48876106, 0.48700645, 0.48525161, ..., 0.34654401, 0.34796031,\n",
       "        0.34937644],\n",
       "       ...,\n",
       "       [0.06803189, 0.0677875 , 0.06754307, ..., 0.04825897, 0.04845616,\n",
       "        0.04865332],\n",
       "       [0.06760372, 0.06736086, 0.06711797, ..., 0.04795554, 0.04815148,\n",
       "        0.0483474 ],\n",
       "       [0.06718089, 0.06693955, 0.06669818, ..., 0.0476559 , 0.04785062,\n",
       "        0.04804531]])</pre></span></li></ul></div></li><li class='sc-section-item'><input id='section-9816b10a-1252-41f4-803e-6a1816105a7f' class='sc-section-summary-in' type='checkbox'  checked><label for='section-9816b10a-1252-41f4-803e-6a1816105a7f' class='sc-section-summary' >Data: <span>(1)</span></label><div class='sc-section-inline-details'></div><div class='sc-section-details'><ul class='sc-var-list'><li class='sc-var-item'><div class='sc-var-name'><span></span></div><div class='sc-var-dims'>(spectrum, Q)</div><div class='sc-var-dtype'>float64</div><div class='sc-var-unit'>1/Å</div><div class='sc-value-preview sc-preview'><span><div>1.997e-09, 1.482e-09, ..., 8.578e-07, 8.975e-07</div></span><span><div>σ = 0.0, 0.0, ..., 0.0, 0.0</div></span></div><input id='attrs-a86e1592-39f6-4f5a-ab3c-302f7a86fff5' class='sc-var-attrs-in' type='checkbox' disabled><label for='attrs-a86e1592-39f6-4f5a-ab3c-302f7a86fff5' class='sc-hide-icon' title='Show/Hide attributes'><svg class='icon sc-icon-file-text2'><use xlink:href='#icon-file-text2'></use></svg></label><input id='data-c494dce7-2b1f-4333-b1f2-19d584f4a063' class='sc-var-data-in' type='checkbox'><label for='data-c494dce7-2b1f-4333-b1f2-19d584f4a063' title='Show/Hide data repr'><svg class='icon sc-icon-database'><use xlink:href='#icon-database'></use></svg></label><pre class='sc-var-data'>Values:<br>array([[1.99674698e-09, 1.48171461e-09, 1.31219403e-09, ...,\n",
       "        8.85305718e-07, 8.83054895e-07, 9.23709517e-07],\n",
       "       [1.99050433e-09, 1.47714123e-09, 1.30819722e-09, ...,\n",
       "        8.84993340e-07, 8.82746968e-07, 9.23391295e-07],\n",
       "       [1.98426376e-09, 1.47256956e-09, 1.30420205e-09, ...,\n",
       "        8.84681935e-07, 8.82440000e-07, 9.23074067e-07],\n",
       "       ...,\n",
       "       [1.50159116e-09, 1.11959058e-09, 9.96273244e-10, ...,\n",
       "        8.59316367e-07, 8.57387628e-07, 8.97132420e-07],\n",
       "       [1.50634552e-09, 1.12305730e-09, 9.99288587e-10, ...,\n",
       "        8.59501555e-07, 8.57570129e-07, 8.97320970e-07],\n",
       "       [1.51110361e-09, 1.12652698e-09, 1.00230671e-09, ...,\n",
       "        8.59687435e-07, 8.57753312e-07, 8.97510226e-07]])<br><br>Variances (σ²):<br>array([[0., 0., 0., ..., 0., 0., 0.],\n",
       "       [0., 0., 0., ..., 0., 0., 0.],\n",
       "       [0., 0., 0., ..., 0., 0., 0.],\n",
       "       ...,\n",
       "       [0., 0., 0., ..., 0., 0., 0.],\n",
       "       [0., 0., 0., ..., 0., 0., 0.],\n",
       "       [0., 0., 0., ..., 0., 0., 0.]])</pre></li></ul></div></li><li class='sc-section-item'><input id='section-dcba56c5-a3a4-48c6-b6fc-4c20934eb546' class='sc-section-summary-in' type='checkbox'  checked><label for='section-dcba56c5-a3a4-48c6-b6fc-4c20934eb546' class='sc-section-summary' >Attributes: <span>(8)</span></label><div class='sc-section-inline-details'></div><div class='sc-section-details'><ul class='sc-var-list'><li class='sc-var-item'><div class='sc-var-name'><span>gravity</span></div><div class='sc-var-dims'>()</div><div class='sc-var-dtype'>vector3</div><div class='sc-var-unit'>m/s^2</div><div class='sc-value-preview sc-preview'><span><div>[ 0.      -9.80665  0.     ]</div></span></div><input id='attrs-7c73ae1f-1d86-4594-8947-6b9697b79a05' class='sc-var-attrs-in' type='checkbox' disabled><label for='attrs-7c73ae1f-1d86-4594-8947-6b9697b79a05' class='sc-hide-icon' title='Show/Hide attributes'><svg class='icon sc-icon-file-text2'><use xlink:href='#icon-file-text2'></use></svg></label><input id='data-26db0768-0927-4ffc-8bcc-df29f28bb050' class='sc-var-data-in' type='checkbox'><label for='data-26db0768-0927-4ffc-8bcc-df29f28bb050' title='Show/Hide data repr'><svg class='icon sc-icon-database'><use xlink:href='#icon-database'></use></svg></label><pre class='sc-var-data'>Values:<br>array([ 0.     , -9.80665,  0.     ])</pre></li><li class='sc-var-item'><div class='sc-var-name'><span>incident_beam</span></div><div class='sc-var-dims'>()</div><div class='sc-var-dtype'>vector3</div><div class='sc-var-unit'>m</div><div class='sc-value-preview sc-preview'><span><div>[ 0.   0.  25.3]</div></span></div><input id='attrs-b098c663-96e4-4959-b7b6-271e39610a46' class='sc-var-attrs-in' type='checkbox' disabled><label for='attrs-b098c663-96e4-4959-b7b6-271e39610a46' class='sc-hide-icon' title='Show/Hide attributes'><svg class='icon sc-icon-file-text2'><use xlink:href='#icon-file-text2'></use></svg></label><input id='data-3ff13a9d-8464-4ba5-8070-9d746f18036c' class='sc-var-data-in' type='checkbox'><label for='data-3ff13a9d-8464-4ba5-8070-9d746f18036c' title='Show/Hide data repr'><svg class='icon sc-icon-database'><use xlink:href='#icon-database'></use></svg></label><pre class='sc-var-data'>Values:<br>array([ 0. ,  0. , 25.3])</pre></li><li class='sc-var-item'><div class='sc-var-name'><span>position</span></div><div class='sc-var-dims'>(spectrum)</div><div class='sc-var-dtype'>vector3</div><div class='sc-var-unit'>m</div><div class='sc-value-preview sc-preview'><span><div>[ 0.778       0.13046651 29.85877813], [ 0.77506458  0.13046651 29.85877813], ..., [-5.69651663e-01 -2.28657089e-02  2.99532831e+01], [-5.72000000e-01 -2.28657089e-02  2.99532831e+01]</div></span></div><input id='attrs-ac82d887-428c-4a6a-801d-320f8a46c4bd' class='sc-var-attrs-in' type='checkbox' disabled><label for='attrs-ac82d887-428c-4a6a-801d-320f8a46c4bd' class='sc-hide-icon' title='Show/Hide attributes'><svg class='icon sc-icon-file-text2'><use xlink:href='#icon-file-text2'></use></svg></label><input id='data-87e7936b-5208-4487-bbe8-f00f0496c912' class='sc-var-data-in' type='checkbox'><label for='data-87e7936b-5208-4487-bbe8-f00f0496c912' title='Show/Hide data repr'><svg class='icon sc-icon-database'><use xlink:href='#icon-database'></use></svg></label><pre class='sc-var-data'>Values:<br>array([[ 7.78000000e-01,  1.30466508e-01,  2.98587781e+01],\n",
       "       [ 7.75064579e-01,  1.30466508e-01,  2.98587781e+01],\n",
       "       [ 7.72129159e-01,  1.30466508e-01,  2.98587781e+01],\n",
       "       ...,\n",
       "       [-5.67303327e-01, -2.28657089e-02,  2.99532831e+01],\n",
       "       [-5.69651663e-01, -2.28657089e-02,  2.99532831e+01],\n",
       "       [-5.72000000e-01, -2.28657089e-02,  2.99532831e+01]])</pre></li><li class='sc-var-item'><div class='sc-var-name'><span>sample_position</span></div><div class='sc-var-dims'>()</div><div class='sc-var-dtype'>vector3</div><div class='sc-var-unit'>m</div><div class='sc-value-preview sc-preview'><span><div>[ 0.   0.  25.3]</div></span></div><input id='attrs-6c735631-1845-4892-a26a-0c0ff2dad2ee' class='sc-var-attrs-in' type='checkbox' disabled><label for='attrs-6c735631-1845-4892-a26a-0c0ff2dad2ee' class='sc-hide-icon' title='Show/Hide attributes'><svg class='icon sc-icon-file-text2'><use xlink:href='#icon-file-text2'></use></svg></label><input id='data-98b676a6-7c6f-4896-ad22-139d2e44b0d7' class='sc-var-data-in' type='checkbox'><label for='data-98b676a6-7c6f-4896-ad22-139d2e44b0d7' title='Show/Hide data repr'><svg class='icon sc-icon-database'><use xlink:href='#icon-database'></use></svg></label><pre class='sc-var-data'>Values:<br>array([ 0. ,  0. , 25.3])</pre></li><li class='sc-var-item'><div class='sc-var-name'><span>scattered_beam</span></div><div class='sc-var-dims'>(spectrum)</div><div class='sc-var-dtype'>vector3</div><div class='sc-var-unit'>m</div><div class='sc-value-preview sc-preview'><span><div>[0.778      0.13046651 4.55877813], [0.77506458 0.13046651 4.55877813], ..., [-0.56965166 -0.02286571  4.6532831 ], [-0.572      -0.02286571  4.6532831 ]</div></span></div><input id='attrs-25ffefa5-0959-4540-9c62-7d7843bce0f5' class='sc-var-attrs-in' type='checkbox' disabled><label for='attrs-25ffefa5-0959-4540-9c62-7d7843bce0f5' class='sc-hide-icon' title='Show/Hide attributes'><svg class='icon sc-icon-file-text2'><use xlink:href='#icon-file-text2'></use></svg></label><input id='data-290a8c32-376f-4188-90a6-2fa5c2fc8fa7' class='sc-var-data-in' type='checkbox'><label for='data-290a8c32-376f-4188-90a6-2fa5c2fc8fa7' title='Show/Hide data repr'><svg class='icon sc-icon-database'><use xlink:href='#icon-database'></use></svg></label><pre class='sc-var-data'>Values:<br>array([[ 0.778     ,  0.13046651,  4.55877813],\n",
       "       [ 0.77506458,  0.13046651,  4.55877813],\n",
       "       [ 0.77212916,  0.13046651,  4.55877813],\n",
       "       ...,\n",
       "       [-0.56730333, -0.02286571,  4.6532831 ],\n",
       "       [-0.56965166, -0.02286571,  4.6532831 ],\n",
       "       [-0.572     , -0.02286571,  4.6532831 ]])</pre></li><li class='sc-var-item'><div class='sc-var-name'><span>source_position</span></div><div class='sc-var-dims'>()</div><div class='sc-var-dtype'>vector3</div><div class='sc-var-unit'>m</div><div class='sc-value-preview sc-preview'><span><div>[0. 0. 0.]</div></span></div><input id='attrs-892f3398-3f57-4c92-a72f-05c151ce8304' class='sc-var-attrs-in' type='checkbox' disabled><label for='attrs-892f3398-3f57-4c92-a72f-05c151ce8304' class='sc-hide-icon' title='Show/Hide attributes'><svg class='icon sc-icon-file-text2'><use xlink:href='#icon-file-text2'></use></svg></label><input id='data-c9d8ff0f-4fbf-4dee-b0aa-33f16f304ea6' class='sc-var-data-in' type='checkbox'><label for='data-c9d8ff0f-4fbf-4dee-b0aa-33f16f304ea6' title='Show/Hide data repr'><svg class='icon sc-icon-database'><use xlink:href='#icon-database'></use></svg></label><pre class='sc-var-data'>Values:<br>array([0., 0., 0.])</pre></li><li class='sc-var-item'><div class='sc-var-name'><span>two_theta</span></div><div class='sc-var-dims'>(Q [bin-edge], spectrum)</div><div class='sc-var-dtype'>float64</div><div class='sc-var-unit'>rad</div><div class='sc-value-preview sc-preview'><span><div>0.171, 0.171, ..., 0.122, 0.122</div></span></div><input id='attrs-9a04e2bf-3f95-429e-9652-c29064fcd7f6' class='sc-var-attrs-in' type='checkbox' disabled><label for='attrs-9a04e2bf-3f95-429e-9652-c29064fcd7f6' class='sc-hide-icon' title='Show/Hide attributes'><svg class='icon sc-icon-file-text2'><use xlink:href='#icon-file-text2'></use></svg></label><input id='data-57b2e577-a03d-4261-8d0a-576ac92944a6' class='sc-var-data-in' type='checkbox'><label for='data-57b2e577-a03d-4261-8d0a-576ac92944a6' title='Show/Hide data repr'><svg class='icon sc-icon-database'><use xlink:href='#icon-database'></use></svg></label><pre class='sc-var-data'>Values:<br>array([[0.17134496, 0.17072835, 0.17011167, ..., 0.12141373, 0.12191056,\n",
       "        0.12240733],\n",
       "       [0.17134486, 0.17072825, 0.17011157, ..., 0.12141376, 0.12191058,\n",
       "        0.12240735],\n",
       "       [0.17134475, 0.17072814, 0.17011146, ..., 0.12141378, 0.12191061,\n",
       "        0.12240738],\n",
       "       ...,\n",
       "       [0.17128557, 0.17066876, 0.17005187, ..., 0.12142893, 0.12192569,\n",
       "        0.1224224 ],\n",
       "       [0.17128481, 0.17066799, 0.1700511 , ..., 0.12142913, 0.1219259 ,\n",
       "        0.1224226 ],\n",
       "       [0.17128405, 0.17066722, 0.17005033, ..., 0.12142934, 0.1219261 ,\n",
       "        0.12242281]])</pre></li><li class='sc-var-item'><div class='sc-var-name'><span>wavelength</span></div><div class='sc-var-dims'>(Q [bin-edge])</div><div class='sc-var-dtype'>float64</div><div class='sc-var-unit'>Å</div><div class='sc-value-preview sc-preview'><span><div>2.0, 2.1, ..., 15.9, 16.0</div></span></div><input id='attrs-dd853b1c-a615-4453-aa8b-5a6eb4388bf7' class='sc-var-attrs-in' type='checkbox' disabled><label for='attrs-dd853b1c-a615-4453-aa8b-5a6eb4388bf7' class='sc-hide-icon' title='Show/Hide attributes'><svg class='icon sc-icon-file-text2'><use xlink:href='#icon-file-text2'></use></svg></label><input id='data-9e81f25e-9e60-4699-9a14-9a2a57e024bd' class='sc-var-data-in' type='checkbox'><label for='data-9e81f25e-9e60-4699-9a14-9a2a57e024bd' title='Show/Hide data repr'><svg class='icon sc-icon-database'><use xlink:href='#icon-database'></use></svg></label><pre class='sc-var-data'>Values:<br>array([ 2. ,  2.1,  2.2,  2.3,  2.4,  2.5,  2.6,  2.7,  2.8,  2.9,  3. ,\n",
       "        3.1,  3.2,  3.3,  3.4,  3.5,  3.6,  3.7,  3.8,  3.9,  4. ,  4.1,\n",
       "        4.2,  4.3,  4.4,  4.5,  4.6,  4.7,  4.8,  4.9,  5. ,  5.1,  5.2,\n",
       "        5.3,  5.4,  5.5,  5.6,  5.7,  5.8,  5.9,  6. ,  6.1,  6.2,  6.3,\n",
       "        6.4,  6.5,  6.6,  6.7,  6.8,  6.9,  7. ,  7.1,  7.2,  7.3,  7.4,\n",
       "        7.5,  7.6,  7.7,  7.8,  7.9,  8. ,  8.1,  8.2,  8.3,  8.4,  8.5,\n",
       "        8.6,  8.7,  8.8,  8.9,  9. ,  9.1,  9.2,  9.3,  9.4,  9.5,  9.6,\n",
       "        9.7,  9.8,  9.9, 10. , 10.1, 10.2, 10.3, 10.4, 10.5, 10.6, 10.7,\n",
       "       10.8, 10.9, 11. , 11.1, 11.2, 11.3, 11.4, 11.5, 11.6, 11.7, 11.8,\n",
       "       11.9, 12. , 12.1, 12.2, 12.3, 12.4, 12.5, 12.6, 12.7, 12.8, 12.9,\n",
       "       13. , 13.1, 13.2, 13.3, 13.4, 13.5, 13.6, 13.7, 13.8, 13.9, 14. ,\n",
       "       14.1, 14.2, 14.3, 14.4, 14.5, 14.6, 14.7, 14.8, 14.9, 15. , 15.1,\n",
       "       15.2, 15.3, 15.4, 15.5, 15.6, 15.7, 15.8, 15.9, 16. ])</pre></li></ul></div></li></ul></div></div>"
      ],
      "text/plain": [
       "<scipp.DataArray>\n",
       "Dimensions: Sizes[spectrum:114688, Q:140, ]\n",
       "Coordinates:\n",
       "  Q                         float64           [1/Å]  (Q [bin-edge], spectrum)  [0.537638, 0.535708, ..., 0.0478506, 0.0480453]\n",
       "Data:\n",
       "                            float64           [1/Å]  (spectrum, Q)  [1.99675e-09, 1.48171e-09, ..., 8.57753e-07, 8.9751e-07]  [0, 0, ..., 0, 0]\n",
       "Attributes:\n",
       "  gravity                   vector3          [m/s^2]  ()  [(0, -9.80665, 0)]\n",
       "  incident_beam             vector3              [m]  ()  [(0, 0, 25.3)]\n",
       "  position                  vector3              [m]  (spectrum)  [(0.778, 0.130467, 29.8588), (0.775065, 0.130467, 29.8588), ..., (-0.569652, -0.0228657, 29.9533), (-0.572, -0.0228657, 29.9533)]\n",
       "  sample_position           vector3              [m]  ()  [(0, 0, 25.3)]\n",
       "  scattered_beam            vector3              [m]  (spectrum)  [(0.778, 0.130467, 4.55878), (0.775065, 0.130467, 4.55878), ..., (-0.569652, -0.0228657, 4.65328), (-0.572, -0.0228657, 4.65328)]\n",
       "  source_position           vector3              [m]  ()  [(0, 0, 0)]\n",
       "  two_theta                 float64            [rad]  (Q [bin-edge], spectrum)  [0.171345, 0.170728, ..., 0.121926, 0.122423]\n",
       "  wavelength                float64             [Å]  (Q [bin-edge])  [2, 2.1, ..., 15.9, 16]\n"
      ]
     },
     "execution_count": 43,
     "metadata": {},
     "output_type": "execute_result"
    }
   ],
   "source": [
    "dq_copy"
   ]
  },
  {
   "cell_type": "code",
   "execution_count": 46,
   "id": "c4c2dc0f-a3f9-4cc7-aaf3-5e3515285168",
   "metadata": {},
   "outputs": [
    {
     "data": {
      "application/vnd.jupyter.widget-view+json": {
       "model_id": "705811611844467396a9b7e74fa71750",
       "version_major": 2,
       "version_minor": 0
      },
      "text/plain": [
       "VBox(children=(HBox(children=(VBox(children=(Button(icon='home', layout=Layout(padding='0px 0px 0px 0px', widt…"
      ]
     },
     "metadata": {},
     "output_type": "display_data"
    }
   ],
   "source": [
    "dq_copy.mean('spectrum').plot()"
   ]
  },
  {
   "cell_type": "code",
   "execution_count": null,
   "id": "fad90420-502e-46eb-8921-5a0ba86bc69e",
   "metadata": {},
   "outputs": [],
   "source": []
  }
 ],
 "metadata": {
  "kernelspec": {
   "display_name": "Python 3",
   "language": "python",
   "name": "python3"
  },
  "language_info": {
   "codemirror_mode": {
    "name": "ipython",
    "version": 3
   },
   "file_extension": ".py",
   "mimetype": "text/x-python",
   "name": "python",
   "nbconvert_exporter": "python",
   "pygments_lexer": "ipython3",
   "version": "3.8.12"
  }
 },
 "nbformat": 4,
 "nbformat_minor": 5
}
