{
 "cells": [
  {
   "cell_type": "code",
   "execution_count": 1,
   "id": "b4f21d32-9d67-4c7d-9bbf-1adbdbcea272",
   "metadata": {},
   "outputs": [],
   "source": [
    "import scipp as sc\n",
    "import scippneutron as scn\n",
    "from ess import loki, sans\n",
    "from scippneutron.tof.conversions import elastic_wavelength, elastic_Q, beamline\n",
    "from scipp.constants import m_n, h"
   ]
  },
  {
   "cell_type": "code",
   "execution_count": 2,
   "id": "b2d27476-f47d-497e-bc81-f23edf149ce9",
   "metadata": {},
   "outputs": [],
   "source": [
    "def to_bin_edges(d, dim):\n",
    "    centers = d.coords[dim].copy()\n",
    "    del d.coords[dim]\n",
    "    first = 1.5*centers[dim, 0] - 0.5*centers[dim, 1]\n",
    "    last = 1.5*centers[dim, -1] - 0.5*centers[dim, -2]\n",
    "    bulk = 0.5 * (centers[dim, 1:] + centers[dim, :-1])\n",
    "    edges = sc.concat([first, bulk], dim)\n",
    "    edges = sc.concat([edges, last], dim)\n",
    "    d.coords[dim] = edges"
   ]
  },
  {
   "cell_type": "code",
   "execution_count": 3,
   "id": "4f1b834c-b711-4693-b23f-ca20cfe62599",
   "metadata": {},
   "outputs": [],
   "source": [
    "def get_wavelength_independent_factor(l2, l_collimation, r1, r2, dr):\n",
    "      \n",
    "    inv_l3 = (l_collimation + l2) / (l_collimation * l2)\n",
    "    \n",
    "    # Terms in Mildner and Carpenter equation.\n",
    "    # See https://docs.mantidproject.org/nightly/algorithms/TOFSANSResolutionByPixel-v1.html\n",
    "    a1 = (r1/l_collimation)*(r1/l_collimation) * 3.0\n",
    "    a2 = (r2*inv_l3)*(r2*inv_l3) * 3.0\n",
    "    a3 = (dr/l2) * (dr/l2) \n",
    "    \n",
    "    wav_independent = (4.0 * sc.constants.pi / 12) * (a1 + a2 + a3) \n",
    "    return wav_independent, a1, a2, a3\n",
    "    "
   ]
  },
  {
   "cell_type": "code",
   "execution_count": 4,
   "id": "1bc99fa8-574a-4c17-969b-e50056d8eb87",
   "metadata": {},
   "outputs": [],
   "source": [
    "def generate_gaussian(sigma, term_name, num_points):\n",
    "    \"\"\"\n",
    "    Generates gaussian function based on supplied sigma\n",
    "    \"\"\"\n",
    "    import scipy.stats as stats\n",
    "    xpoints = sc.linspace('x', -3*sigma, 3*sigma, num=num_points)\n",
    "    pdf_result = stats.norm.pdf(xpoints.values,loc=0,scale=sigma.value)\n",
    "    gauss_data = sc.Dataset(\n",
    "    data={\n",
    "        term_name:sc.array(dims=['x'], values=pdf_result)}, \n",
    "    coords={\n",
    "        'x':sc.array(dims=['x'], values=xpoints.values)} )\n",
    "    return gauss_data"
   ]
  },
  {
   "cell_type": "code",
   "execution_count": 5,
   "id": "30f4fdb9-968b-4b80-8aa6-10c9351b6d72",
   "metadata": {},
   "outputs": [],
   "source": [
    "def get_sigma_q_value(data, d_lam, lam, wav_independent, moderatorValue, q, l1, l2):\n",
    "\n",
    "     \n",
    "    #sigModerator = Moderator time spread (microseconds) as afunction of wavelength (Angstroms)\n",
    "    sig_moderator = moderatorValue * 3.9560 / (1000.0 * (l1 + l2));\n",
    "    sig_moderator.unit = sc.units.angstrom\n",
    "    \n",
    "    #TODO: replace with q from cooridnate transformations \n",
    "    theta = scn.two_theta(data) \n",
    "    q_sq = 4.0 * sc.constants.pi * sc.sin(0.5*theta) * sc.reciprocal(lam)\n",
    "    q_sq *= q_sq\n",
    "    \n",
    "    std_dev_lam_sq = q_sq \n",
    "    std_dev_lam_sq *= (d_lam * d_lam)/12 + sig_moderator * sig_moderator\n",
    "    std_dev_lam_sq *= sc.reciprocal(lam * lam)\n",
    "    \n",
    "    std_dev_lam_independent = sc.DataArray((wav_independent * sc.reciprocal(lam * lam) ),\n",
    "                    coords={'wavelength':std_dev_lam_sq.coords['wavelength']}) \n",
    "   \n",
    "    dq_sq = sc.sqrt(std_dev_lam_independent + std_dev_lam_sq)\n",
    "    return dq_sq   \n"
   ]
  },
  {
   "cell_type": "code",
   "execution_count": 6,
   "id": "8c4f70ac-2ed8-4035-97bf-2c27015da67d",
   "metadata": {},
   "outputs": [],
   "source": [
    "def q_resolution(wavelength_bins, moderator, data, q):\n",
    "    \n",
    "    l_collimation = 4.0*sc.units.m\n",
    "    r2 = 0.004*sc.units.m\n",
    "    r1 = 0.01*sc.units.m\n",
    "    dr = 0.008*sc.units.m\n",
    "    \n",
    "    d_lam = wavelength_bins['wavelength', 1:] - wavelength_bins['wavelength', :-1] # bin widths\n",
    "    lam = sc.midpoints(wavelength_bins)\n",
    "    l2 = scn.L2(data)\n",
    "    l1 = scn.L1(data)\n",
    "    \n",
    "    wav_independent, a1, a2, a3 = get_wavelength_independent_factor(l2, l_collimation, r1, r2, dr)\n",
    "    \n",
    "    to_bin_edges(moderator, 'wavelength')\n",
    "    moderatorValue = sc.rebin(moderator, 'wavelength', wavelength_bins)\n",
    "    \n",
    "    dq_sq = get_sigma_q_value(data, d_lam, lam, wav_independent, moderatorValue, q, l1, l2)\n",
    "    \n",
    "    return a1, a2, a3, dq_sq "
   ]
  },
  {
   "cell_type": "code",
   "execution_count": 7,
   "id": "d3dfe1f4-6180-46a1-9aea-e0f25ddce50d",
   "metadata": {},
   "outputs": [],
   "source": [
    "# Estimate qresolution function\n",
    "\n",
    "wavelength_bins = sc.linspace(dim='wavelength', start=2.0, stop=16.0, num=141, unit='angstrom')\n",
    "\n",
    "path = 'SANS2D_data'\n",
    "moderator_file = 'ModeratorStdDev_TS2_SANS_LETexptl_07Aug2015.txt'\n",
    "moderator = loki.io.load_rkh_wav(filename=f'{path}/{moderator_file}')\n",
    "\n",
    "#q resolution params\n",
    "l_collimation = 4.0*sc.units.m\n",
    "r2 = 0.004*sc.units.m\n",
    "r1 = 0.01*sc.units.m\n",
    "dr = 0.008*sc.units.m\n",
    "\n",
    "# Using only one-fourth of the full spectra 245760 (reserved for first detector)\n",
    "#spectrum_size =  245760//4\n",
    "\n",
    "# Sample measurement\n",
    "#sample = loki.io.load_sans2d(filename=f'{path}/SANS2D00063114.nxs',\n",
    "#                             spectrum_size=spectrum_size)\n",
    "\n",
    "#d - data is normalized and reduced data\n",
    "\n",
    "#dq_sq = q_resolution(wavelength_bins, moderator, sample, l_collimation, r1, r2, dr)\n",
    "\n",
    "#Dense example data - still needs to make it working for event data \n",
    "da = scn.data.tutorial_dense_data()"
   ]
  },
  {
   "cell_type": "code",
   "execution_count": 8,
   "id": "cb180e71-9888-4f80-a79d-d9529dbdf567",
   "metadata": {},
   "outputs": [],
   "source": [
    "def two_theta(gravity, wavelength, incident_beam, scattered_beam):\n",
    "    # Arbitrary internal convention: beam=z, gravity=y\n",
    "    g = sc.norm(gravity)\n",
    "    L2 = sc.norm(scattered_beam)\n",
    "    y = sc.dot(scattered_beam, gravity) / g\n",
    "    n = sc.cross(incident_beam, gravity)\n",
    "    n /= sc.norm(n)\n",
    "    x = sc.dot(scattered_beam, n)\n",
    "    wavelength = sc.to_unit(wavelength, \"m\", copy=False)\n",
    "    drop = g * m_n ** 2 / (2 * h ** 2) * wavelength ** 2 * L2 ** 2\n",
    "    return sc.asin(sc.sqrt(x ** 2 + (y + drop) ** 2) / L2)"
   ]
  },
  {
   "cell_type": "code",
   "execution_count": 9,
   "id": "af16df99-ba3f-4626-b959-dd482d14933d",
   "metadata": {},
   "outputs": [],
   "source": [
    "#Conversion of the data \n",
    "q_with_gravity = {**beamline(scatter=True),\n",
    "                  **elastic_Q(\"tof\")}\n",
    "q_with_gravity[\"two_theta\"] = two_theta\n",
    "da.coords[\"gravity\"] = sans.i_of_q.gravity_vector()\n",
    "data_q = da.transform_coords(\"Q\", graph=q_with_gravity)\n"
   ]
  },
  {
   "cell_type": "code",
   "execution_count": 10,
   "id": "21c475fb-92cc-4388-b808-73a7f8f02e2c",
   "metadata": {},
   "outputs": [
    {
     "name": "stderr",
     "output_type": "stream",
     "text": [
      "The 'bins' keyword argument and positional syntax for setting bin edges is deprecated. Use, e.g., 'sc.rebin(da, x=x_edges)'. See the documentation for details.\n"
     ]
    }
   ],
   "source": [
    "a1, a2, a3, dq_sq = q_resolution(wavelength_bins, moderator, da, data_q.coords['Q'])"
   ]
  },
  {
   "cell_type": "markdown",
   "id": "87d59dec-f22a-49a3-85bc-e3a3542a238e",
   "metadata": {},
   "source": [
    "### Plotting individual resolution terms "
   ]
  },
  {
   "cell_type": "code",
   "execution_count": 11,
   "id": "e3e32cfa-0d3f-4c82-a782-037c53214288",
   "metadata": {},
   "outputs": [],
   "source": [
    "gauss_data = generate_gaussian(a1, 'a1', 100)"
   ]
  },
  {
   "cell_type": "code",
   "execution_count": 12,
   "id": "e6f43dbd-61fc-46eb-96ab-94cf06a58c7b",
   "metadata": {},
   "outputs": [
    {
     "data": {
      "application/vnd.jupyter.widget-view+json": {
       "model_id": "807c361564d845bbb5ef968c96e0119c",
       "version_major": 2,
       "version_minor": 0
      },
      "text/plain": [
       "VBox(children=(HBox(children=(VBox(children=(Button(icon='home', layout=Layout(padding='0px 0px 0px 0px', widt…"
      ]
     },
     "metadata": {},
     "output_type": "display_data"
    }
   ],
   "source": [
    "gauss_data['a1'].plot()"
   ]
  },
  {
   "cell_type": "markdown",
   "id": "b61607ce-a9b9-4608-b8b6-47e6c799f708",
   "metadata": {},
   "source": [
    "### At the end we need to bin to desired q_bins *"
   ]
  },
  {
   "cell_type": "code",
   "execution_count": 56,
   "id": "4d64d0e6-01bf-47ab-8564-361c5be3c477",
   "metadata": {},
   "outputs": [],
   "source": [
    "dq_sq.coords['sample_position'] = da.coords['sample_position']\n",
    "dq_sq.coords['source_position'] = da.coords['source_position']\n",
    "dq_sq.coords['position'] = da.coords['position']\n",
    "dq_sq.coords[\"gravity\"] = sans.i_of_q.gravity_vector()"
   ]
  },
  {
   "cell_type": "code",
   "execution_count": 57,
   "id": "fea8ddd1-0f22-4bdc-bd92-36235b82c4f5",
   "metadata": {},
   "outputs": [],
   "source": [
    "dqq = dq_sq.transform_coords(\"Q\", graph=q_with_gravity)"
   ]
  },
  {
   "cell_type": "code",
   "execution_count": 60,
   "id": "8285104b-a33a-4e10-af73-607b624956a9",
   "metadata": {},
   "outputs": [
    {
     "data": {
      "text/html": [
       "<div><!-- Original source from -->\n",
       "<!-- https://github.com/jsignell/xarray/blob/1d960933ab252e0f79f7e050e6c9261d55568057/xarray/static/html/icons-svg-inline.html -->\n",
       "<svg style=\"position: absolute; width: 0; height: 0; overflow: hidden\">\n",
       "<defs>\n",
       "<symbol id=\"icon-database\" viewBox=\"0 0 32 32\">\n",
       "<title>Show/Hide data repr</title>\n",
       "<path d=\"M16 0c-8.837 0-16 2.239-16 5v4c0 2.761 7.163 5 16 5s16-2.239 16-5v-4c0-2.761-7.163-5-16-5z\"></path>\n",
       "<path d=\"M16 17c-8.837 0-16-2.239-16-5v6c0 2.761 7.163 5 16 5s16-2.239 16-5v-6c0 2.761-7.163 5-16 5z\"></path>\n",
       "<path d=\"M16 26c-8.837 0-16-2.239-16-5v6c0 2.761 7.163 5 16 5s16-2.239 16-5v-6c0 2.761-7.163 5-16 5z\"></path>\n",
       "</symbol>\n",
       "<symbol id=\"icon-file-text2\" viewBox=\"0 0 32 32\">\n",
       "<title>Show/Hide attributes</title>\n",
       "<path d=\"M28.681 7.159c-0.694-0.947-1.662-2.053-2.724-3.116s-2.169-2.030-3.116-2.724c-1.612-1.182-2.393-1.319-2.841-1.319h-15.5c-1.378 0-2.5 1.121-2.5 2.5v27c0 1.378 1.122 2.5 2.5 2.5h23c1.378 0 2.5-1.122 2.5-2.5v-19.5c0-0.448-0.137-1.23-1.319-2.841zM24.543 5.457c0.959 0.959 1.712 1.825 2.268 2.543h-4.811v-4.811c0.718 0.556 1.584 1.309 2.543 2.268zM28 29.5c0 0.271-0.229 0.5-0.5 0.5h-23c-0.271 0-0.5-0.229-0.5-0.5v-27c0-0.271 0.229-0.5 0.5-0.5 0 0 15.499-0 15.5 0v7c0 0.552 0.448 1 1 1h7v19.5z\"></path>\n",
       "<path d=\"M23 26h-14c-0.552 0-1-0.448-1-1s0.448-1 1-1h14c0.552 0 1 0.448 1 1s-0.448 1-1 1z\"></path>\n",
       "<path d=\"M23 22h-14c-0.552 0-1-0.448-1-1s0.448-1 1-1h14c0.552 0 1 0.448 1 1s-0.448 1-1 1z\"></path>\n",
       "<path d=\"M23 18h-14c-0.552 0-1-0.448-1-1s0.448-1 1-1h14c0.552 0 1 0.448 1 1s-0.448 1-1 1z\"></path>\n",
       "</symbol>\n",
       "</defs>\n",
       "</svg><style id=\"scipp-style-sheet\">.sc-root{--sc-background-color0:var(--jp-layout-color0,#fff);--sc-background-color1:var(--jp-layout-color1,#fcfcfc);--sc-background-color2:var(--jp-layout-color2,#efefef);--sc-inverse-background-color0:var(--jp-inverse-layout-color4,#111);--sc-font-color0:var(--jp-content-font-color0,#000);--sc-font-color1:var(--jp-content-font-color1,#555);--sc-font-color2:var(--jp-content-font-color2,#888);--sc-font-color3:var(--jp-content-font-color3,#ccc);--sc-table-data-color:#f6d028;--sc-table-coords-color:#c6e590;--sc-table-masks-color:#c8c8c8;--sc-table-attrs-color:#ff5555;--sc-table-header-font-color:#111111;}.sc-wrap{font-size:14px;min-width:300px;max-width:800px;}.sc-var-attrs .sc-wrap{padding-left:3em;}.sc-header{padding-top:6px;padding-bottom:6px;margin-bottom:4px;border-bottom:solid 1px #ddd;}.sc-header > div,.sc-header > ul{display:inline;margin-top:0;margin-bottom:0;}.sc-obj-type,.sc-array-name{margin-left:2px;margin-right:10px;}.sc-obj-type{color:var(--sc-font-color1);}.sc-underlying-size{color:var(--sc-font-color2);}.sc-sections,.reveal .sc-sections{padding-left:0 !important;display:grid;grid-template-columns:150px auto auto auto 1fr 20px 20px;}.sc-section-item{display:contents;}.sc-section-item input{display:none;}.sc-section-item input:enabled + label{cursor:pointer;color:var(--sc-font-color1);}.sc-section-item input:enabled + label:hover{color:var(--sc-font-color0);}.sc-section-summary{grid-column:1;font-weight:500;}.sc-section-summary > span{display:inline-block;padding-left:0.5em;}.sc-section-summary-in:disabled + label{color:var(--sc-font-color1);}.sc-section-summary-in + label:before{display:inline-block;content:'►';font-size:11px;width:15px;text-align:center;}.sc-section-summary-in:disabled + label:before{color:var(--sc-font-color3);}.sc-section-summary-in:checked + label:before{content:'▼';}.sc-section-summary-in:checked + label > span{display:none;}.sc-section-summary,.sc-section-inline-details{padding-top:4px;padding-bottom:4px;}.sc-section-inline-details{grid-column:2 / 6;}.sc-section-details{display:none;grid-column:1 / -1;margin-bottom:5px;}.sc-section-summary-in:checked ~ .sc-section-details{display:contents;}.sc-array-wrap{grid-column:1 / -1;display:grid;grid-template-columns:20px auto;}.sc-array-wrap > label{grid-column:1;vertical-align:top;}.sc-preview{color:var(--sc-font-color2);}.sc-array-preview,.sc-array-data{padding:0 5px !important;grid-column:2;}.sc-array-data,.sc-array-in:checked ~ .sc-array-preview{display:none;}.sc-array-in:checked ~ .sc-array-data,.sc-array-preview{display:inline-block;}.sc-dim-list{display:inline-block !important;list-style:none;padding:0 !important;margin:0;}.sc-dim-list li{display:inline-block;padding:0;margin:0!important;}.sc-dim-list:before{content:'(';}.sc-dim-list:after{content:')';}.sc-dim-list li:not(:last-child):after{content:',';padding-right:5px;}.sc-has-index{font-weight:bold;}.sc-var-list,.sc-var-item,.reveal .sc-var-list,.reveal .sc-var-item{display:contents;}.sc-var-item > div,.sc-var-item label,.sc-var-item > .sc-var-name span{background-color:var(--sc-background-color1);margin-bottom:0;}.sc-var-item > .sc-var-name:hover span{padding-right:5px;}.sc-var-list > li:nth-child(odd) > div,.sc-var-list > li:nth-child(odd) > label,.sc-var-list > li:nth-child(odd) > .sc-var-name span{background-color:var(--sc-background-color2);}.sc-var-name{grid-column:1;}.sc-var-dims{grid-column:2;}.sc-var-dtype{grid-column:3;text-align:right;color:var(--sc-font-color2);}.sc-var-unit{grid-column:4;text-align:left;color:var(--sc-font-color1);max-width:50pt;text-overflow:ellipsis;}.sc-value-preview{grid-column:5;}.sc-var-preview-variances{text-align:right;}.sc-sections .sc-section-item .sc-section-summary,.sc-sections .sc-section-item .sc-section-inline-details,.sc-section-item .sc-var-list .sc-var-item > div,.sc-section-item .sc-var-list .sc-var-item > label,.sc-section-details .sc-var-list .sc-var-item > div,.sc-section-details .sc-var-list .sc-var-item > label{margin-top:0;margin-bottom:0;}.sc-var-name,.sc-var-dims,.sc-var-dtype,.sc-var-unit,.sc-preview,.sc-attrs dt{white-space:nowrap;overflow:hidden;text-overflow:ellipsis;padding-right:10px;}.sc-var-name:hover,.sc-var-dims:hover,.sc-var-dtype:hover,.sc-var-unit:hover,.sc-attrs dt:hover{overflow:visible;width:auto;z-index:1;}.sc-var-attrs{display:block;}.sc-var-data,.reveal .sc-var-data{display:none;}.sc-var-attrs,.sc-var-data{background-color:var(--sc-background-color0) !important;padding-bottom:5px !important;}.sc-var-attrs-in:checked ~ .sc-var-attrs{display:none;}.sc-var-data-in:checked ~ .sc-var-data{display:block;}.sc-var-data > table{float:right;}.sc-var-name span,.sc-var-data{padding-left:25px !important;}.sc-var-attrs,.sc-var-data{grid-column:1 / -1;}dl.sc-attrs{padding:0;margin:0;display:grid;grid-template-columns:125px auto;}.sc-attrs dt,dd{padding:0;margin:0;float:left;padding-right:10px;width:auto;}.sc-attrs dt{font-weight:normal;grid-column:1;}.sc-attrs dt:hover span{display:inline-block;padding-right:10px;}.sc-attrs dd{grid-column:2;white-space:pre-wrap;word-break:break-all;}.sc-icon-database,.sc-icon-file-text2{display:inline-block;vertical-align:middle;width:1em;height:1.5em !important;stroke-width:0;stroke:currentColor;fill:currentColor;}label.sc-hide-icon svg{opacity:0;}.sc-standalone-var-name{grid-column:1/3;}.sc-standalone-var-name span{padding-left:25px;padding-right:10px;}.sc-table{border-collapse:collapse;}.sc-title{font-weight:bold;font-size:1.5em;}.sc-subtitle{font-weight:normal;font-style:italic;text-align:left;font-size:1.2em;padding:1px;}.sc-table th,.sc-table td{border:1px solid var(--sc-inverse-background-color0);padding:0 5px 0 5px;}.sc-table th{text-align:center;}.sc-table tr{background-color:var(--sc-background-color1);text-align:right;}.sc-table tr:hover{background-color:var(--sc-background-color2);}.sc-table th.sc-data{background-color:var(--sc-table-data-color);color:var(--sc-table-header-font-color);}.sc-table th.sc-coords{background-color:var(--sc-table-coords-color);color:var(--sc-table-header-font-color);}.sc-table th.sc-masks{background-color:var(--sc-table-masks-color);color:var(--sc-table-header-font-color);}.sc-table th.sc-attrs{background-color:var(--sc-table-attrs-color);color:var(--sc-table-header-font-color);}.sc-table th.sc-subheader{background-color:var(--sc-background-color2);}.sc-table td.sc-padding{background-color:var(--sc-background-color1);border:0 solid var(--sc-background-color1);height:1.2em;}.sc-label{fill:var(--sc-font-color0,#444444);text-anchor:middle;}.sc-name{fill:var(--sc-font-color0,#111111);}.sc-inset-line{stroke:var(--sc-font-color1);stroke-width:0.05;stroke-dasharray:0.2,0.2;}.sc-log-wrap{height:25ex;resize:vertical;overflow-y:scroll;display:flex;flex-direction:column-reverse;border:1px solid;border-color:var(--jp-border-color2);background-color:var(--sc-background-color1);}div.sc-log{line-height:2.5ex;}table.sc-log{table-layout:auto;border-collapse:collapse;}tr.sc-log:nth-child(even){background-color:var(--sc-background-color0);}tr.sc-log > td{vertical-align:top;padding-bottom:0.5ex;}.sc-log-time-stamp{min-width:22ch;font-family:var(--jp-code-font-family);color:var(--sc-font-color2);}.sc-log-level{min-width:10ch;}tr.sc-log-debug td.sc-log-level{color:var(--jp-accent-color1);}tr.sc-log-info td.sc-log-level{color:var(--jp-info-color1);}tr.sc-log-warning td.sc-log-level{color:var(--jp-warn-color1);}tr.sc-log-error td.sc-log-level{font-weight:bold;color:var(--jp-error-color2);}tr.sc-log-critical td.sc-log-level{font-weight:bold;color:var(--sc-background-color0);background-color:var(--jp-error-color1);}.sc-log-message{white-space:pre-wrap;width:100%;}.sc-log-html-payload{white-space:normal;}.sc-log-name{padding-right:0.5em;text-align:right;white-space:pre-wrap;color:var(--sc-font-color3);}</style><div class='sc-wrap sc-root'><div class='sc-header'><div class='sc-obj-type'>scipp.Variable (8 Bytes)</div></div><ul class='sc-sections'><li class='sc-section-item'><ul class='sc-var-list'><li class='sc-var-item'><div class='sc-standalone-var-name'><span>()</span></div><div class='sc-var-dtype'>float64</div><div class='sc-var-unit'>1/Å</div><div class='sc-value-preview sc-preview'><span><div>0.5383575293941625</div></span></div><input id='attrs-c15144b5-9da1-48d6-a51f-bc61d50dc0ee' class='sc-var-attrs-in' type='checkbox' disabled><label for='attrs-c15144b5-9da1-48d6-a51f-bc61d50dc0ee' class='sc-hide-icon' title='Show/Hide attributes'><svg class='icon sc-icon-file-text2'><use xlink:href='#icon-file-text2'></use></svg></label><input id='data-dca90590-48db-47ef-bd0a-c597ba67c11c' class='sc-var-data-in' type='checkbox'><label for='data-dca90590-48db-47ef-bd0a-c597ba67c11c' title='Show/Hide data repr'><svg class='icon sc-icon-database'><use xlink:href='#icon-database'></use></svg></label><pre class='sc-var-data'>Values:<br>array(0.53835753)</pre></li></ul></li></ul></div></div>"
      ],
      "text/plain": [
       "<scipp.Variable> ()    float64           [1/Å]  [0.538358]"
      ]
     },
     "execution_count": 60,
     "metadata": {},
     "output_type": "execute_result"
    }
   ],
   "source": [
    "sc.max(dqq.coords['Q'])"
   ]
  },
  {
   "cell_type": "code",
   "execution_count": 61,
   "id": "83fbc4d0-0d64-4e38-adc3-7b254d77865d",
   "metadata": {},
   "outputs": [
    {
     "ename": "BinnedDataError",
     "evalue": "Binning is only implemented for 1-dimensional data. Consider using groupby, it might be able to do what you need.",
     "output_type": "error",
     "traceback": [
      "\u001b[0;31m---------------------------------------------------------------------------\u001b[0m",
      "\u001b[0;31mBinnedDataError\u001b[0m                           Traceback (most recent call last)",
      "Input \u001b[0;32mIn [61]\u001b[0m, in \u001b[0;36m<cell line: 1>\u001b[0;34m()\u001b[0m\n\u001b[0;32m----> 1\u001b[0m \u001b[43msc\u001b[49m\u001b[38;5;241;43m.\u001b[39;49m\u001b[43mbinning\u001b[49m\u001b[38;5;241;43m.\u001b[39;49m\u001b[43mmake_binned\u001b[49m\u001b[43m(\u001b[49m\u001b[43mdqq\u001b[49m\u001b[43m,\u001b[49m\u001b[43m \u001b[49m\u001b[43medges\u001b[49m\u001b[38;5;241;43m=\u001b[39;49m\u001b[43m[\u001b[49m\u001b[43mq_bins\u001b[49m\u001b[43m]\u001b[49m\u001b[43m)\u001b[49m\n",
      "File \u001b[0;32m~/opt/anaconda3/envs/ess_0.8/lib/python3.8/site-packages/scipp/core/binning.py:108\u001b[0m, in \u001b[0;36mmake_binned\u001b[0;34m(x, edges, groups, erase)\u001b[0m\n\u001b[1;32m    106\u001b[0m     data \u001b[38;5;241m=\u001b[39m scalar(\u001b[38;5;241m1.0\u001b[39m, unit\u001b[38;5;241m=\u001b[39m\u001b[38;5;124m'\u001b[39m\u001b[38;5;124mcounts\u001b[39m\u001b[38;5;124m'\u001b[39m)\u001b[38;5;241m.\u001b[39mbroadcast(sizes\u001b[38;5;241m=\u001b[39mx\u001b[38;5;241m.\u001b[39msizes)\u001b[38;5;241m.\u001b[39mcopy()\n\u001b[1;32m    107\u001b[0m     x \u001b[38;5;241m=\u001b[39m _cpp\u001b[38;5;241m.\u001b[39mDataArray(data, coords\u001b[38;5;241m=\u001b[39m{coords[\u001b[38;5;241m0\u001b[39m]\u001b[38;5;241m.\u001b[39mdim: x})\n\u001b[0;32m--> 108\u001b[0m \u001b[38;5;28;01mreturn\u001b[39;00m \u001b[43m_cpp\u001b[49m\u001b[38;5;241;43m.\u001b[39;49m\u001b[43mbin\u001b[49m\u001b[43m(\u001b[49m\u001b[43mx\u001b[49m\u001b[43m,\u001b[49m\u001b[43m \u001b[49m\u001b[43medges\u001b[49m\u001b[43m,\u001b[49m\u001b[43m \u001b[49m\u001b[43mgroups\u001b[49m\u001b[43m,\u001b[49m\u001b[43m \u001b[49m\u001b[43merase\u001b[49m\u001b[43m)\u001b[49m\n",
      "\u001b[0;31mBinnedDataError\u001b[0m: Binning is only implemented for 1-dimensional data. Consider using groupby, it might be able to do what you need."
     ]
    }
   ],
   "source": [
    "sc.binning.make_binned(dqq, edges=[q_bins])"
   ]
  },
  {
   "cell_type": "code",
   "execution_count": 41,
   "id": "3956e603-3d70-4916-ae29-fb2dfbdfd551",
   "metadata": {},
   "outputs": [],
   "source": [
    "q_bins = sc.linspace(dim='Q', start=0.01, stop=0.6, num=141, unit='1/angstrom')\n",
    "wavelength_bins = sc.linspace(dim='wavelength', start=2.0, stop=16.0, num=141, unit='angstrom')\n",
    "wavelength_bands = sc.concat(\n",
    "            [wavelength_bins.min(), wavelength_bins.max()], dim='wavelength')"
   ]
  },
  {
   "cell_type": "markdown",
   "id": "39d47b73-7524-40e9-9a40-25a57da84e6b",
   "metadata": {},
   "source": [
    "### Note: a2 and a3 have \"spectrum\" dimension - not a single value to be plotted"
   ]
  },
  {
   "cell_type": "raw",
   "id": "df309469-85c2-4462-9a1e-7297ea5034ee",
   "metadata": {},
   "source": [
    "tof = moderator.data.copy()\n",
    "    tof.variances = None # shortcoming of Mantid or Mantid converter?\n",
    "    tof.rename_dims({'wavelength':'tof'}) # TODO overly restrictive check in convert (rename)\n",
    "    tof.unit = sc.units.us\n",
    "    mod = sc.Dataset(coords={\n",
    "      'tof':tof,\n",
    "      'position':d.coords['position'],\n",
    "      'source_position':d.coords['source_position'],\n",
    "      'sample_position':d.coords['sample_position']})\n",
    "    \n",
    "    dummy = sc.DataArray(sc.empty(sizes=mod.sizes), coords=mod.coords)\n",
    "    wav = dummy.transform_coords('wavelength', {**elastic_wavelength('tof'), **beamline(scatter=True)})\n",
    "    wav_coords = wav.coords['wavelength']\n",
    "    \n",
    "    #Mantid does it through theta\n",
    "    qvec = dummy.transform_coords('Q', {**elastic_Q('tof'), **beamline(scatter=True)})\n",
    "    qvec_coords = qvec.coords['Q']"
   ]
  },
  {
   "cell_type": "code",
   "execution_count": null,
   "id": "ae62d535-cec3-4c82-b225-9d427b830ca7",
   "metadata": {},
   "outputs": [],
   "source": []
  }
 ],
 "metadata": {
  "kernelspec": {
   "display_name": "Python 3",
   "language": "python",
   "name": "python3"
  },
  "language_info": {
   "codemirror_mode": {
    "name": "ipython",
    "version": 3
   },
   "file_extension": ".py",
   "mimetype": "text/x-python",
   "name": "python",
   "nbconvert_exporter": "python",
   "pygments_lexer": "ipython3",
   "version": "3.8.12"
  }
 },
 "nbformat": 4,
 "nbformat_minor": 5
}
