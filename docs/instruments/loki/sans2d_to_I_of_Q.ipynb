{
 "cells": [
  {
   "cell_type": "markdown",
   "id": "9a935df3-c816-4829-99c3-2afa979b7611",
   "metadata": {},
   "source": [
    "# SANS2D: I(Q) workflow for a single run (sample)\n",
    "\n",
    "This notebook describes in detail the steps that are undertaken in the `sans.to_I_of_Q` workflow.\n",
    "\n",
    "It assumes the detector data has been recorded in event mode, while the monitor data has been histogrammed.\n",
    "\n",
    "The data used in this notebook has been published in [Manasi et al. (2021)](#manasi2021),\n",
    "and we kindly thank the authors for allowing us to use their data.\n",
    "\n",
    "**Note:** It uses sample run for simplicity and it is not intended to describe complete data reduction pipeline.\n",
    "The complete pipeline is described in [SANS2D reduction](sans2d_reduction.ipynb).\n",
    "\n",
    "**Outline:**\n",
    "\n",
    "- We will begin by loading the data files containing the sample and the direct (empty sample holder) measurements.\n",
    "- We will then apply some corrections to beamline components specific to the SANS2D beamline.\n",
    "- This will be followed by some masking of some saturated or defect detector pixels\n",
    "- Both sample and direct measurement, as well as their monitors, will then be converted to wavelength\n",
    "- From the direct run, and the direct beam function, the normalization term will be computed\n",
    "- Both sample measurement and normalization term will be converted to $Q$\n",
    "- Finally, the sample counts (as a function of $Q$) will be divided by the normalization term (as a function of $Q$)"
   ]
  },
  {
   "cell_type": "code",
   "execution_count": null,
   "id": "8c7f7cf7-0582-4953-a772-a0f87d1cf0e2",
   "metadata": {
    "tags": []
   },
   "outputs": [],
   "source": [
    "import scipp as sc\n",
    "from ess import loki, sans\n",
    "from ess.logging import configure_workflow\n",
    "import scippneutron as scn"
   ]
  },
  {
   "cell_type": "markdown",
   "id": "42f0d79d-0147-4928-bd45-c0932a33fae1",
   "metadata": {},
   "source": [
    "Set up the logging systems of scipp (including scippneutron and ess) and Mantid."
   ]
  },
  {
   "cell_type": "code",
   "execution_count": null,
   "id": "760adfde-01e6-4d25-bc8d-b8bbd20c0467",
   "metadata": {
    "tags": []
   },
   "outputs": [],
   "source": [
    "logger = configure_workflow('sans2d_I_of_Q', filename='sans2d.log')"
   ]
  },
  {
   "cell_type": "markdown",
   "id": "c21564a8-e742-4183-9edc-2c70c51d5863",
   "metadata": {},
   "source": [
    "## Define reduction parameters\n",
    "\n",
    "We define here whether to include the effects of gravity, and the binning in wavelength and in $Q$ to be used."
   ]
  },
  {
   "cell_type": "code",
   "execution_count": null,
   "id": "bc2fffe1-a694-43b7-9234-e31da42d6df3",
   "metadata": {
    "tags": []
   },
   "outputs": [],
   "source": [
    "# Include effects of gravity?\n",
    "gravity = True\n",
    "\n",
    "# Wavelength binning\n",
    "wavelength_bins = sc.linspace(dim='wavelength', start=2.0, stop=16.0, num=141, unit='angstrom')\n",
    "\n",
    "# Q binning\n",
    "q_bins = sc.linspace(dim='Q', start=0.01, stop=0.6, num=141, unit='1/angstrom')"
   ]
  },
  {
   "cell_type": "markdown",
   "id": "bafd7ab4-d478-4c96-8196-69029fb221c4",
   "metadata": {},
   "source": [
    "## Loading data files\n",
    "\n",
    "We load a sample measurement file (`SANS2D00063114.hdf5`) and a direct measurement file (`SANS2D00063091.hdf5`).\n",
    "We also load the direct beam measurement, which gives a measure of the efficiency of the detector pixels as a function of wavelength."
   ]
  },
  {
   "cell_type": "code",
   "execution_count": null,
   "id": "0315d002-9cab-4ae4-8f63-c72a532f716b",
   "metadata": {
    "tags": []
   },
   "outputs": [],
   "source": [
    "# Sample measurement\n",
    "sample = loki.io.load_sans2d(loki.data.get_path('SANS2D00063114.hdf5'))\n",
    "# Direct measurement is with the empty sample holder/cuvette\n",
    "direct = loki.io.load_sans2d(filename=loki.data.get_path('SANS2D00063091.hdf5'))\n",
    "# Load direct beam function for main detector\n",
    "direct_beam = sc.io.open_hdf5(loki.data.get_path('DIRECT_SANS2D_REAR_34327_4m_8mm_16Feb16.hdf5'))\n",
    "# Inspect sample data\n",
    "sample"
   ]
  },
  {
   "cell_type": "markdown",
   "id": "c4569a53-a19a-440e-8aa0-63df29f67d05",
   "metadata": {},
   "source": [
    "## Inspect monitor data\n",
    "\n",
    "The monitor counts play a major role in normalizing the detector counts.\n",
    "From the two loaded runs, we extract the data from the incident and transmission monitors."
   ]
  },
  {
   "cell_type": "code",
   "execution_count": null,
   "id": "b042699e-4061-4f04-87f0-d52ff3cbf3dc",
   "metadata": {
    "tags": []
   },
   "outputs": [],
   "source": [
    "monitors = {\n",
    "    'sample-incident': sample.attrs[\"monitor2\"].value,\n",
    "    'sample-transmission': sample.attrs[\"monitor4\"].value,\n",
    "    'direct-incident': direct.attrs[\"monitor2\"].value,\n",
    "    'direct-transmission': direct.attrs[\"monitor4\"].value\n",
    "}"
   ]
  },
  {
   "cell_type": "markdown",
   "id": "69cbfa68-9c30-4464-a73a-a6ab0bec72f9",
   "metadata": {},
   "source": [
    "The monitor data contains background noise, which should be removed for best results when normalizing.\n",
    "Because incident and transmission monitors are located at different distances along the beamline path,\n",
    "it is more useful to inspect the counts as a function of wavelength instead of time-of-flight.\n",
    "\n",
    "To compute the wavelength of the neutrons,\n",
    "we use Scipp's `transform_coords` method\n",
    "(see [here](https://scipp.github.io/scippneutron/user-guide/coordinate-transformations.html)\n",
    "for more information about using `transform_coords`).\n",
    "In order to use `transform_coords`, we need to define a coordinate transformation graph.\n",
    "The `sans` module provides some pre-defined graphs, one of which is applicable for monitors."
   ]
  },
  {
   "cell_type": "code",
   "execution_count": null,
   "id": "104a4762-3338-4f4f-8b16-fe374423e520",
   "metadata": {
    "tags": []
   },
   "outputs": [],
   "source": [
    "monitor_graph = sans.conversions.sans_monitor()\n",
    "sc.show_graph(monitor_graph, simplified=True)"
   ]
  },
  {
   "cell_type": "markdown",
   "id": "e1d1ae6f-df9a-4670-b6ff-2c8ba02604ce",
   "metadata": {},
   "source": [
    "It is then trivial to convert the monitor data to wavelength using"
   ]
  },
  {
   "cell_type": "code",
   "execution_count": null,
   "id": "b7b31094-add2-4530-a669-284c758c2e1f",
   "metadata": {
    "tags": []
   },
   "outputs": [],
   "source": [
    "monitors = {\n",
    "    key: mon.transform_coords('wavelength', graph=monitor_graph)\n",
    "    for key, mon in monitors.items()\n",
    "}"
   ]
  },
  {
   "cell_type": "markdown",
   "id": "a894f339-0b5f-4334-a926-c3f7d9e23744",
   "metadata": {},
   "source": [
    "We now plot them on the same figure to asses the level of background noise"
   ]
  },
  {
   "cell_type": "code",
   "execution_count": null,
   "id": "2916c3b6-5629-428e-8b8e-95bc8e2d24d8",
   "metadata": {
    "tags": []
   },
   "outputs": [],
   "source": [
    "sc.plot(monitors, norm='log', grid=True)"
   ]
  },
  {
   "cell_type": "markdown",
   "id": "8df4a4f6-4680-4cee-92d9-e548bc4ee06d",
   "metadata": {},
   "source": [
    "From this, we define a wavelength range between 0.7 &#8491; and 17.1 &#8491; where data is not considered to be background."
   ]
  },
  {
   "cell_type": "code",
   "execution_count": null,
   "id": "d836b2e7-e02d-4ba0-bc76-a82e8965e23c",
   "metadata": {
    "tags": []
   },
   "outputs": [],
   "source": [
    "non_background_range = sc.array(dims=['wavelength'], values=[0.7, 17.1], unit='angstrom')"
   ]
  },
  {
   "cell_type": "markdown",
   "id": "6027051e-9838-4c18-a39f-7d8dc6b34bf6",
   "metadata": {},
   "source": [
    "Then, we subtract a mean background value from each monitor,\n",
    "and rebin the data to the wavelength binning defined at the start of the notebook."
   ]
  },
  {
   "cell_type": "code",
   "execution_count": null,
   "id": "18e59e55-988e-4a56-b566-072908ed3d7f",
   "metadata": {
    "tags": []
   },
   "outputs": [],
   "source": [
    "monitors = sans.i_of_q.preprocess_monitor_data(\n",
    "    monitors,\n",
    "    non_background_range=non_background_range,\n",
    "    wavelength_bins=wavelength_bins)\n",
    "\n",
    "sample_monitors = {\n",
    "    'incident': monitors['sample-incident'],\n",
    "    'transmission': monitors['sample-transmission']\n",
    "}\n",
    "direct_monitors = {\n",
    "    'incident': monitors['direct-incident'],\n",
    "    'transmission': monitors['direct-transmission']\n",
    "}"
   ]
  },
  {
   "cell_type": "markdown",
   "id": "eeb81dd1-078a-495b-8cff-49c474be65dd",
   "metadata": {},
   "source": [
    "## Masking bad detector pixels\n",
    "\n",
    "**Note:** We use programmatic masks here and not those stored in xml files.\n",
    "\n",
    "Now that the monitor data is cleaned and binned to the correct wavelength range, we turn to the detector data.\n",
    "The first step is to mask noisy and saturated pixels.\n",
    "We mask the edges of the square-shaped detector panel with a simple distance relation.\n",
    "We also mask the region close to the beam center,\n",
    "where the sample holder is visible as a dark patch with an arm extending to the north-east."
   ]
  },
  {
   "cell_type": "code",
   "execution_count": null,
   "id": "e54e6899-4842-4b91-82ab-15c5ceef5edb",
   "metadata": {
    "tags": []
   },
   "outputs": [],
   "source": [
    "mask_edges = (\n",
    "    (sc.abs(sample.coords['position'].fields.x) > sc.scalar(0.48, unit='m')) |\n",
    "    (sc.abs(sample.coords['position'].fields.y) > sc.scalar(0.45, unit='m')))\n",
    "\n",
    "summed = sample.sum('tof')\n",
    "holder_mask = (summed.data < sc.scalar(100, unit='counts')) & \\\n",
    "              (sample.coords['position'].fields.x > sc.scalar(0, unit='m')) & \\\n",
    "              (sample.coords['position'].fields.x < sc.scalar(0.42, unit='m')) & \\\n",
    "              (sample.coords['position'].fields.y < sc.scalar(0.05, unit='m')) & \\\n",
    "              (sample.coords['position'].fields.y > sc.scalar(-0.15, unit='m'))\n",
    "\n",
    "sample.masks['edges'] = mask_edges\n",
    "sample.masks['holder_mask'] = holder_mask"
   ]
  },
  {
   "cell_type": "markdown",
   "id": "f0a455d3-c60a-4069-bab7-5aba9a67fbdd",
   "metadata": {},
   "source": [
    "A good sanity check is to view the masks on the instrument view:"
   ]
  },
  {
   "cell_type": "code",
   "execution_count": null,
   "id": "685b6317-3293-4cba-bef3-51cb797e6ed1",
   "metadata": {
    "tags": []
   },
   "outputs": [],
   "source": [
    "scn.instrument_view(sample.hist(), pixel_size=0.0075)"
   ]
  },
  {
   "cell_type": "markdown",
   "id": "f6b9c630-edcf-4f9f-af43-786c3c868555",
   "metadata": {},
   "source": [
    "## Beam center finder\n",
    "\n",
    "The beam is not guaranteed to travel through the center of the detector panel,\n",
    "and we thus have to apply a horizontal and vertical offset to our pixel positions so that the beam centre is at `x = y = 0`.\n",
    "This is necessary for subsequent azimuthal averaging of the data counts into $Q$ bins.\n",
    "\n",
    "The `beam_center` utility in the `sans` module is designed for this.\n",
    "It requires us to define a $Q$ range over which convergence will be checked,\n",
    "as well as a radius to be used for applying a circular mask on the detector panel around the beam center\n",
    "(this ensures that contributions to the $Q$ bins are uniform, as the diagonals of the square panel contribute more counts)."
   ]
  },
  {
   "cell_type": "code",
   "execution_count": null,
   "id": "dc179ced-9cd5-4b3b-a8e3-6c5911c76120",
   "metadata": {
    "tags": []
   },
   "outputs": [],
   "source": [
    "masking_radius = sc.scalar(0.35, unit='m')\n",
    "q_range = sc.linspace('Q', 0.02, 0.25, 65, unit='1/angstrom')\n",
    "\n",
    "center = sans.beam_center(data=sample,\n",
    "                          data_monitors=sample_monitors,\n",
    "                          direct_monitors=direct_monitors,\n",
    "                          wavelength_bins=wavelength_bins,\n",
    "                          q_bins=q_range,\n",
    "                          masking_radius=masking_radius,\n",
    "                          gravity=gravity)\n",
    "print(center)\n",
    "\n",
    "# Now shift pixels positions to get the correct beam center\n",
    "sample.coords['position'] -= center"
   ]
  },
  {
   "cell_type": "markdown",
   "id": "8b8af915-c570-4dc0-b9dd-bfa441162c73",
   "metadata": {},
   "source": [
    "We once again use the instrument view to verify the beam center has been found and applied correctly."
   ]
  },
  {
   "cell_type": "code",
   "execution_count": null,
   "id": "2033055d-f8fa-4b13-86af-736a95c66771",
   "metadata": {
    "tags": []
   },
   "outputs": [],
   "source": [
    "scn.instrument_view(sample.hist(), pixel_size=0.0075)"
   ]
  },
  {
   "cell_type": "markdown",
   "id": "533022da-6b36-4864-b911-887c341f28ab",
   "metadata": {},
   "source": [
    "## Coordinate transformation graph\n",
    "\n",
    "To compute the wavelength $\\lambda$, the scattering angle $\\theta$, and the $Q$ vector for our data,\n",
    "we construct a coordinate transformation graph.\n",
    "\n",
    "It is based on classical conversions from `tof` and pixel `position` to $\\lambda$ (`wavelength`),\n",
    "$\\theta$ (`theta`) and $Q$ (`Q`),\n",
    "but takes into account the Earth's gravitational field, which bends the flight path of the neutrons,\n",
    "to compute the scattering angle $\\theta$.\n",
    "\n",
    "The angle can be found using the following expression ([Seeger & Hjelm 1991](#seeger1991))\n",
    "\n",
    "$$\\theta = \\frac{1}{2}\\sin^{-1}\\left(\\frac{\\sqrt{ x^{2} + \\left( y + \\frac{g m_{\\rm n}}{2 h^{2}} \\lambda^{2} L_{2}^{2} \\right)^{2} } }{L_{2}}\\right)$$\n",
    "\n",
    "where $x$ and $y$ are the spatial coordinates of the pixels in the horizontal and vertical directions, respectively,\n",
    "$m_{\\rm n}$ is the neutron mass,\n",
    "$L_{2}$ is the distance between the sample and a detector pixel,\n",
    "$g$ is the acceleration due to gravity,\n",
    "and $h$ is Planck's constant.\n",
    "\n",
    "The monitors require a slightly different conversion graph,\n",
    "as the flight path of the neutrons hitting them does not scatter through the sample,\n",
    "it links the source to the monitor with a straight line.\n",
    "\n",
    "The conversion graphs for the detectors and the monitors are defined in the `sans` module,\n",
    "and can be obtained via"
   ]
  },
  {
   "cell_type": "code",
   "execution_count": null,
   "id": "652aa470-74fe-4036-90e5-4eeead429831",
   "metadata": {
    "tags": []
   },
   "outputs": [],
   "source": [
    "graph = sans.conversions.sans_elastic(gravity=gravity)\n",
    "\n",
    "sc.show_graph(graph, simplified=True)"
   ]
  },
  {
   "cell_type": "markdown",
   "id": "0d796fca-d5ae-4af7-96ca-10e186a38cd4",
   "metadata": {},
   "source": [
    "## Convert the data to wavelength\n",
    "\n",
    "To convert the sample data to wavelength,\n",
    "we use once again the `transform_coords` utility."
   ]
  },
  {
   "cell_type": "code",
   "execution_count": null,
   "id": "4c2b0c90-a518-4982-8629-b2c09b4e29e0",
   "metadata": {
    "tags": []
   },
   "outputs": [],
   "source": [
    "sample = sample.transform_coords(\"wavelength\", graph=graph)\n",
    "sample"
   ]
  },
  {
   "cell_type": "markdown",
   "id": "a09e0590-00b2-4639-b94c-0b6c7111684f",
   "metadata": {},
   "source": [
    "## Mask Bragg edges in wavelength\n",
    "\n",
    "We will now take out the wavelength regions with Bragg peaks from the beam stop and detector window,\n",
    "although in reality the peaks appear only close to the beam stop,\n",
    "and will make little difference to $I(Q)$.\n",
    "\n",
    "This could be implemented as masking specific wavelength bins for a specific region in space,\n",
    "but for now we keep it simple."
   ]
  },
  {
   "cell_type": "code",
   "execution_count": null,
   "id": "71ff9766-dd34-47ce-808a-1a259109744d",
   "metadata": {
    "tags": []
   },
   "outputs": [],
   "source": [
    "mask = sc.DataArray(data=sc.array(dims=['wavelength'], values=[True]),\n",
    "                    coords={'wavelength': sc.array(dims=['wavelength'], values=[2.21, 2.59], unit='angstrom')})\n",
    "masking_args = dict(mask=mask, name='bragg_peaks')\n",
    "sample = sans.common.mask_range(sample.bin(wavelength=1), **masking_args)\n",
    "\n",
    "sample.hist(wavelength=200).sum('spectrum').plot()"
   ]
  },
  {
   "cell_type": "markdown",
   "id": "e44f7c23-dcd7-4a7e-b71f-1e29c73b63e9",
   "metadata": {},
   "source": [
    "### Adding wavelength masks the monitor data\n",
    "\n",
    "Because the monitor data is histogrammed (it does not contain events),\n",
    "the wavelength masking is applied slightly differently."
   ]
  },
  {
   "cell_type": "code",
   "execution_count": null,
   "id": "4cce4097-8afe-4728-a438-c38c3bee5279",
   "metadata": {
    "tags": []
   },
   "outputs": [],
   "source": [
    "sample_monitors = {key: sans.common.mask_range(mon, **masking_args)\n",
    "                   for key, mon in sample_monitors.items()}\n",
    "direct_monitors = {key: sans.common.mask_range(mon, **masking_args)\n",
    "                   for key, mon in direct_monitors.items()}"
   ]
  },
  {
   "cell_type": "markdown",
   "id": "165804a4-209b-4282-ac45-4fe05029d9d6",
   "metadata": {},
   "source": [
    "## Compute normalization term\n",
    "\n",
    "In a SANS experiment, the scattering cross section $I(Q)$ is defined as ([Heenan et al. 1997](#heenan1997))\n",
    "\n",
    "$$ I(Q) = \\frac{\\partial\\Sigma{Q}}{\\partial\\Omega} = \\frac{A_{H} \\Sigma_{R,\\lambda\\subset Q} C(R, \\lambda)}{A_{M} t \\Sigma_{R,\\lambda\\subset Q}M(\\lambda)T(\\lambda)D(\\lambda)\\Omega(R)} $$\n",
    "\n",
    "where $A_{H}$ is the area of a mask (which avoids saturating the detector) placed between the monitor of area $A_{M}$ and the main detector.\n",
    "$\\Omega$ is the detector solid angle, and $C$ is the count rate on the main detector, which depends on the position $R$ and the wavelength.\n",
    "$t$ is the sample thickness, $M$ represents the incident monitor count rate, and $T$ is known as the transmission fraction.\n",
    "Finally, $D$ is the 'direct beam function', and is defined as\n",
    "\n",
    "$$ D(\\lambda) = \\frac{\\eta(\\lambda)}{\\eta_{M}(\\lambda)} \\frac{A_{H}}{A_{M}} $$\n",
    "\n",
    "where $\\eta$ and $\\eta_{M}$ are the detector and monitor efficiencies, respectively.\n",
    "\n",
    "Hence, in order to normalize the main detector counts $C$, we need compute the transmission fraction $T(\\lambda)$,\n",
    "the direct beam function $D(\\lambda)$ and the solid angle $\\Omega(R)$."
   ]
  },
  {
   "cell_type": "markdown",
   "id": "b333f700-6f39-43a8-b996-d8c9ede2021c",
   "metadata": {},
   "source": [
    "### Transmission fraction\n",
    "\n",
    "The transmission fraction is computed from the monitor counts.\n",
    "It essentially compares the neutron counts before the sample, and after the sample,\n",
    "to give an absorption profile of the sample as a function of wavelength.\n",
    "\n",
    "It is defined as the ratio of counts between on the transmission monitor to the counts on the incident monitor for the sample run,\n",
    "multiplied by the inverse ratio for the direct run, i.e.\n",
    "\n",
    "$$ T(\\lambda) = \\frac{M_{\\rm sample}^{\\rm transmission}}{M_{\\rm sample}^{\\rm incident}} \\frac{M_{\\rm direct}^{\\rm incident}}{M_{\\rm direct}^{\\rm transmission}} $$\n",
    "\n",
    "The transmission fraction is finally computed by using "
   ]
  },
  {
   "cell_type": "code",
   "execution_count": null,
   "id": "3fd4314d-af44-41ea-b06c-b2c6dcf3c3ae",
   "metadata": {
    "tags": []
   },
   "outputs": [],
   "source": [
    "transmission_fraction = sans.normalization.transmission_fraction(\n",
    "    data_monitors=sample_monitors, direct_monitors=direct_monitors)\n",
    "transmission_fraction"
   ]
  },
  {
   "cell_type": "code",
   "execution_count": null,
   "id": "65c3a796-cb82-400b-adb7-1baa1d2b98f1",
   "metadata": {
    "tags": []
   },
   "outputs": [],
   "source": [
    "transmission_fraction.plot()"
   ]
  },
  {
   "cell_type": "markdown",
   "id": "4fe0e50d-260c-480b-969f-6c1d929dd01f",
   "metadata": {},
   "source": [
    "### Direct beam function\n",
    "\n",
    "The direct beam function is a parameter of the instrument that is well-known to the instrument scientist,\n",
    "and does not vary much over time.\n",
    "It is usually stored in a file, and updated a small number of times per year.\n",
    "\n",
    "Here, we use the direct beam function for the SANS2D instrument from file (loaded at the top of the notebook),\n",
    "and perform an interpolation so that it spans the same wavelength range as the one requested at the top of the notebook."
   ]
  },
  {
   "cell_type": "code",
   "execution_count": null,
   "id": "994533d8-2c49-48d7-9a1d-969368343c2c",
   "metadata": {
    "tags": []
   },
   "outputs": [],
   "source": [
    "direct_beam = sans.i_of_q.resample_direct_beam(\n",
    "    direct_beam=direct_beam,\n",
    "    wavelength_bins=wavelength_bins)\n",
    "\n",
    "sc.plot(direct_beam)"
   ]
  },
  {
   "cell_type": "markdown",
   "id": "894e8329-8987-4565-b070-5d262af746d8",
   "metadata": {},
   "source": [
    "### Solid Angle\n",
    "\n",
    "The `sans.normalization` module also provides a utility to compute the solid angles of rectangular detector pixels:"
   ]
  },
  {
   "cell_type": "code",
   "execution_count": null,
   "id": "e126e749-3dad-4ad8-a6f9-2d446e0153e4",
   "metadata": {
    "tags": []
   },
   "outputs": [],
   "source": [
    "solid_angle = sans.normalization.solid_angle_of_rectangular_pixels(\n",
    "    sample,\n",
    "    pixel_width=sample.coords['pixel_width'],\n",
    "    pixel_height=sample.coords['pixel_height'])\n",
    "solid_angle"
   ]
  },
  {
   "cell_type": "markdown",
   "id": "92b7cba6-c4aa-458f-8564-a0c265cf4332",
   "metadata": {},
   "source": [
    "### The denominator term\n",
    "\n",
    "We combine all the terms above to compute the `denominator`.\n",
    "We then attach to the denominator some coordinates required to perform the conversion to $Q$."
   ]
  },
  {
   "cell_type": "code",
   "execution_count": null,
   "id": "30250d51-0d6f-4265-b372-881900a16e2a",
   "metadata": {
    "tags": []
   },
   "outputs": [],
   "source": [
    "denominator = sans.normalization.compute_denominator(\n",
    "        direct_beam=direct_beam,\n",
    "        data_incident_monitor=sample_monitors['incident'],\n",
    "        transmission_fraction=transmission_fraction,\n",
    "        solid_angle=solid_angle)\n",
    "# Insert a copy of coords needed for conversion to Q.\n",
    "# TODO: can this be avoided by copying the Q coords from the converted numerator?\n",
    "for coord in ['position', 'sample_position', 'source_position']:\n",
    "    denominator.coords[coord] = sample.meta[coord]\n",
    "\n",
    "denominator"
   ]
  },
  {
   "cell_type": "code",
   "execution_count": null,
   "id": "2405279b-3b7a-41f1-a3b0-86c732d5d01b",
   "metadata": {
    "tags": []
   },
   "outputs": [],
   "source": [
    "sc.plot(denominator.sum('spectrum'), norm='log')"
   ]
  },
  {
   "cell_type": "markdown",
   "id": "bf70d4d7-024f-4663-952e-ec258578076d",
   "metadata": {},
   "source": [
    "## Convert to Q\n",
    "\n",
    "Using the coordinate transformation graph as above,\n",
    "we can compute the momentum vector $Q$, and then merge all the events in the detector pixel bins,\n",
    "so as to obtain an intensity that depends only on $Q$.\n",
    "\n",
    "This is done with the `convert_to_q_and_merge_spectra` helper."
   ]
  },
  {
   "cell_type": "code",
   "execution_count": null,
   "id": "7e01975c-6116-46cf-81f3-b6fa6eb09589",
   "metadata": {
    "tags": []
   },
   "outputs": [],
   "source": [
    "wavelength_bands = sc.concat(\n",
    "            [wavelength_bins.min(), wavelength_bins.max()], dim='wavelength')"
   ]
  },
  {
   "cell_type": "code",
   "execution_count": null,
   "id": "4be0e428-ca1d-4840-a787-642e43dda383",
   "metadata": {
    "tags": []
   },
   "outputs": [],
   "source": [
    "sample_q = sans.i_of_q.convert_to_q_and_merge_spectra(\n",
    "    data=sample,\n",
    "    graph=graph,\n",
    "    wavelength_bands=wavelength_bands,\n",
    "    q_bins=q_bins,\n",
    "    gravity=gravity)"
   ]
  },
  {
   "cell_type": "code",
   "execution_count": null,
   "id": "25543ffd-82be-487b-8783-79e1d65b0dc9",
   "metadata": {
    "tags": []
   },
   "outputs": [],
   "source": [
    "sc.plot(sample_q.hist(), norm='log')"
   ]
  },
  {
   "cell_type": "markdown",
   "id": "8aa0302c-08bb-4c15-b600-744d5496ebda",
   "metadata": {},
   "source": [
    "### Convert denominator to Q\n",
    "\n",
    "Converting the denominator to $Q$ is achieved in the same way"
   ]
  },
  {
   "cell_type": "code",
   "execution_count": null,
   "id": "bba0fad5-73c7-45a1-913b-1d71fd7c365e",
   "metadata": {
    "tags": []
   },
   "outputs": [],
   "source": [
    "denominator_q = sans.i_of_q.convert_to_q_and_merge_spectra(\n",
    "    data=denominator,\n",
    "    graph=graph,\n",
    "    wavelength_bands=wavelength_bands,\n",
    "    q_bins=q_bins,\n",
    "    gravity=gravity)\n",
    "\n",
    "sc.plot(denominator_q, norm='log')"
   ]
  },
  {
   "cell_type": "markdown",
   "id": "d5339095-3de4-4727-bcc5-6ca982f58b94",
   "metadata": {},
   "source": [
    "## Normalize the sample\n",
    "\n",
    "Finally, we normalize the sample with the denominator as a function of $Q$."
   ]
  },
  {
   "cell_type": "code",
   "execution_count": null,
   "id": "a1f82882-8142-4cdd-9c65-b2327eb445ba",
   "metadata": {
    "tags": []
   },
   "outputs": [],
   "source": [
    "sample_normalized = sans.normalization.normalize(\n",
    "    numerator=sample_q,\n",
    "    denominator=denominator_q)\n",
    "sample_normalized"
   ]
  },
  {
   "cell_type": "code",
   "execution_count": null,
   "id": "a82c11fe-ecfc-41d2-ac4e-f127ff358b11",
   "metadata": {
    "tags": []
   },
   "outputs": [],
   "source": [
    "sc.plot(sample_normalized.hist())"
   ]
  },
  {
   "cell_type": "markdown",
   "id": "77f8cc16-6019-4d59-aa69-633de690accf",
   "metadata": {},
   "source": [
    "## References"
   ]
  },
  {
   "cell_type": "markdown",
   "id": "faf45578-6b6a-4046-82aa-4864a2e8bb8b",
   "metadata": {},
   "source": [
    "<div id='heenan1997'></div>\n",
    "\n",
    "Heenan R. K., Penfold J., King S. M., **1997**,\n",
    "*SANS at Pulsed Neutron Sources: Present and Future Prospects*,\n",
    "[J. Appl. Cryst., 30, 1140-1147](https://doi.org/10.1107/S0021889897002173)"
   ]
  },
  {
   "cell_type": "markdown",
   "id": "4ca6948e-ed72-49de-8529-4faf1474535c",
   "metadata": {},
   "source": [
    "<div id='manasi2021'></div>\n",
    "\n",
    "Manasi I., Andalibi M. R., Atri R. S., Hooton J., King S. M., Edler K. J., **2021**,\n",
    "*Self-assembly of ionic and non-ionic surfactants in type IV cerium nitrate and urea based deep eutectic solvent*,\n",
    "[J. Chem. Phys. 155, 084902](https://doi.org/10.1063/5.0059238)"
   ]
  },
  {
   "cell_type": "markdown",
   "id": "9d8de3c2-6905-4cb8-99a1-8b4fd5973287",
   "metadata": {},
   "source": [
    "<div id='seeger1991'></div>\n",
    "\n",
    "Seeger P. A., Hjelm R. P. Jnr, **1991**,\n",
    "*Small-angle neutron scattering at pulsed spallation sources*,\n",
    "[J. Appl. Cryst., 24, 467-478](https://doi.org/10.1107/S0021889891004764)"
   ]
  }
 ],
 "metadata": {
  "kernelspec": {
   "display_name": "Python 3 (ipykernel)",
   "language": "python",
   "name": "python3"
  },
  "language_info": {
   "codemirror_mode": {
    "name": "ipython",
    "version": 3
   },
   "file_extension": ".py",
   "mimetype": "text/x-python",
   "name": "python",
   "nbconvert_exporter": "python",
   "pygments_lexer": "ipython3"
  }
 },
 "nbformat": 4,
 "nbformat_minor": 5
}
