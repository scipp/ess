{
 "cells": [
  {
   "cell_type": "markdown",
   "metadata": {},
   "source": [
    "# Demonstration of functions operating on UV spectra for NurF"
   ]
  },
  {
   "cell_type": "code",
   "execution_count": null,
   "metadata": {},
   "outputs": [],
   "source": [
    "from ess.loki.nurf import utils, uv, plot\n",
    "from ess.loki.nurf import ill_auxilliary_funcs as ill \n",
    "\n",
    "# standard library imports\n",
    "import itertools\n",
    "import os\n",
    "from typing import Optional, Type, Union\n",
    "\n",
    "# related third party imports\n",
    "import numpy as np\n",
    "import matplotlib.pyplot as plt\n",
    "from matplotlib import cm\n",
    "import matplotlib.gridspec as gridspec\n",
    "from IPython.display import display, HTML\n",
    "from scipy.optimize import leastsq  # needed for fitting of turbidity\n",
    "\n",
    "# local application imports\n",
    "import scippnexus as snx\n",
    "import scipp as sc\n"
   ]
  },
  {
   "cell_type": "code",
   "execution_count": null,
   "metadata": {},
   "outputs": [],
   "source": [
    "# Prepare for export to .dat for uv and fluo\n",
    "\n",
    "# path to LOKI-like files\n",
    "process_folder='/Users/gudlo523/Library/CloudStorage/OneDrive-LundUniversity/UU/ILL_947_June_2021/212/d22/exp_9-13-947/processed/ess_version'\n",
    "# change to folder\n",
    "os.chdir(process_folder)\n",
    "\n",
    "# export path for .dat files\n",
    "path_output='/Users/gudlo523/Library/CloudStorage/OneDrive-LundUniversity/UU/ILL_947_June_2021/212/d22/exp_9-13-947/processed/ess_version/dat-files'\n",
    "graphpath_output='/Users/gudlo523/Library/CloudStorage/OneDrive-LundUniversity/UU/ILL_947_June_2021/212/d22/exp_9-13-947/processed/ess_version/graphs'\n",
    "\n",
    "# experimental data sets\n",
    "exp5= [66017, 66020, 66023, 66026, 66029, 66032, 66034, 66037, 66040, 66043, 66046]\n",
    "exp6= [66050, 66053, 66056, 66059, 66062, 66065, 66068, 66071, 66074, 66077, 66080]\n",
    "\n",
    "exp2= [65925, 65927, 65930, 65933, 65936, 65939, 65942, 65945, 65948, 65951, 65954, 65957]\n",
    "exp3= [65962, 65965, 65968, 65971, 65974, 65977, 65980, 65983, 65986, 65989, 65992]\n",
    "\n",
    "exp7= [66083, 66086, 66089, 66092, 66095, 66098, 66101, 66104, 66107, 66110, 66113]\n",
    "exp8= [66116, 66119, 66122, 66125, 66128, 66131, 66134, 66137, 66140, 66143, 66146]"
   ]
  },
  {
   "cell_type": "code",
   "execution_count": null,
   "metadata": {},
   "outputs": [],
   "source": [
    "filesetlist=ill.complete_fname(exp5)\n",
    "fig=plot.plot_multiple_uv_peak_int(filesetlist, wavelength= sc.scalar(280, unit='nm'))\n",
    "\n",
    "graph_name=f\"UV_peak_exp5.pdf\"\n",
    "graph_out=os.path.join(graphpath_output, graph_name)\n",
    "plt.savefig(graph_out,dpi=1200,bbox_inches='tight')\n",
    "\n"
   ]
  },
  {
   "cell_type": "code",
   "execution_count": null,
   "metadata": {},
   "outputs": [],
   "source": [
    "#params = {\n",
    "#    'font.size': 40,\n",
    "#}\n",
    "#plt.rcParams.update(params)\n",
    "\n",
    "ax0=fig.get_axes()[0]\n",
    "extent = ax0.get_window_extent().transformed(fig.dpi_scale_trans.inverted())\n",
    "graph_name=f\"UV_peak_exp5_subplot_0.pdf\"\n",
    "graph_out_subplot=os.path.join(graphpath_output, graph_name)\n",
    "\n",
    "fig.savefig(graph_out_subplot, bbox_inches=extent.expanded(1.2, 1.38), dpi=1200)"
   ]
  },
  {
   "cell_type": "code",
   "execution_count": null,
   "metadata": {},
   "outputs": [],
   "source": [
    "from ess.loki.nurf import ill_auxilliary_funcs\n",
    "\n",
    "name='066017.nxs'\n",
    "name='066029.nxs'\n",
    "exp_meth='uv'\n",
    "\n",
    "# load a file and caluclate corrected uv spectra\n",
    "uv_dict=utils.load_nurfloki_file(name,exp_meth)\n",
    "uv_da=uv.normalize_uv(**uv_dict)\n",
    "\n",
    "display(uv_da)\n",
    "\n",
    "#quick plot\n",
    "!pwd\n",
    "\n",
    "graph_name=f\"UV_spectra_{name}.pdf\"\n",
    "graph_out=os.path.join(graphpath_output, graph_name)\n",
    "cm = 1/2.54  # centimeters in inches\n",
    "figsize_b=8\n",
    "figsize_a=1.333*figsize_b\n",
    "dpi=300\n",
    "\n",
    "\n",
    "fig, ax1 = plt.subplots(1, 1, constrained_layout=True, figsize=(figsize_a*cm, figsize_b*cm) )\n",
    "out1=sc.plot(sc.collapse(uv_da, keep=\"wavelength\"),\n",
    "      linestyle=\"dashed\",\n",
    "        grid=True,\n",
    "        marker='.',\n",
    "        title=f\"UV - {name}\",\n",
    "        ylabel='Abs [dimensionless]',\n",
    "        #filename=graph_out,\n",
    "        ax=ax1)   \n",
    "#out1.ax.set_xlim(300,400)\n",
    "\n",
    "#out1.ax.set_ylim([np.nanmin(uv_da.data.values), np.nanmax(np.nanmin(uv_da.data.values))])\n",
    "out1.ax.set_xlim([np.min(uv_da.coords[\"wavelength\"].values)*0.98, np.max(uv_da.coords[\"wavelength\"].values)])\n",
    "out1.ax.set_ylim([np.nanmin(uv_da.data.values)*0.9, np.nanmax(uv_da.data.values)*1.1])\n",
    "\n",
    "plt.tight_layout()\n",
    "plt.savefig(graph_out, dpi=dpi,bbox_inches='tight')\n",
    "\n",
    "\n",
    "sc.show(uv_da)\n",
    "\n",
    "\n",
    "#better plot\n",
    "plot.plot_uv(name)\n",
    "\n"
   ]
  },
  {
   "cell_type": "markdown",
   "metadata": {},
   "source": [
    "## Cell belows shows how to plot all UV spectra in a single series"
   ]
  },
  {
   "cell_type": "code",
   "execution_count": null,
   "metadata": {},
   "outputs": [],
   "source": [
    "for i in exp2:\n",
    "    name=ill_auxilliary_funcs.complete_fname(i)\n",
    "    plot.plot_uv(name)\n",
    "\n",
    "for m in exp3:\n",
    "    name=ill_auxilliary_funcs.complete_fname(m)\n",
    "    plot.plot_uv(name)\n",
    "\n"
   ]
  },
  {
   "cell_type": "code",
   "execution_count": null,
   "metadata": {},
   "outputs": [],
   "source": [
    "# extract value for given wavelength\n",
    "wavelength=sc.scalar(280,unit='nm')\n",
    "tol= sc.scalar(0.5,unit='nm')\n",
    "res=uv.uv_peak_int(uv_da, wavelength, tol=None)\n",
    "#returns a dict, #TODO: do we want a Dataset here? \n",
    "print(res)"
   ]
  },
  {
   "cell_type": "markdown",
   "metadata": {},
   "source": [
    "How to average mutliple UV spectra in one Loki.nxs file?"
   ]
  },
  {
   "cell_type": "code",
   "execution_count": null,
   "metadata": {},
   "outputs": [],
   "source": [
    "name='066017.nxs'\n",
    "#How to average multiple UV spectra in one LoKI.nxs file?\n",
    "\n",
    "out1=uv.load_and_normalize_uv(name)\n",
    "display(out1)\n",
    "\n",
    "# Apply uv.average_uv function to Loki.nxs\n",
    "out2=uv.average_uv(name)\n",
    "display(out2)\n",
    "\n"
   ]
  },
  {
   "cell_type": "markdown",
   "metadata": {},
   "source": [
    "Cell below shows how to perform a turbidity correction on data from a single input file. If the user wishes to apply a median_filter beforehand, the user can apply this manually by adding one line of code, see next cell."
   ]
  },
  {
   "cell_type": "code",
   "execution_count": null,
   "metadata": {},
   "outputs": [],
   "source": [
    "name='066017.nxs'\n",
    "name='066029.nxs'\n",
    "\n",
    "#How to perform a turbiity correction on one input file?\n",
    "#uv_dict=utils.load_nurfloki_file(name,exp_meth)\n",
    "#uv_da=uv.normalize_uv(**uv_dict)\n",
    "\n",
    "# Or load like this:\n",
    "uv_da=uv.load_and_normalize_uv(name)\n",
    "\n",
    "uv_turb_corr=uv.uv_turbidity_fit(uv_da, fit_llim=None, fit_ulim=None, b_llim=None, b_ulim=None, m=None)\n",
    "display(uv_turb_corr)\n",
    "\n",
    "\n",
    "print(\"Turbidity\")\n",
    "\n",
    "graph_name_turbcorr=f\"UV_spectra_{name}_turbcorr.pdf\"\n",
    "graph_out_turbcorr=os.path.join(graphpath_output, graph_name_turbcorr)\n",
    "cm = 1/2.54  # centimeters in inches\n",
    "figsize_b=8\n",
    "figsize_a=1.333*figsize_b\n",
    "dpi=1200\n",
    "\n",
    "\n",
    "fig3, ax3 = plt.subplots(1, 1, constrained_layout=True, figsize=(figsize_a*cm, figsize_b*cm) )\n",
    "\n",
    "turb_corr=sc.plot(sc.collapse(uv_turb_corr,keep=\"wavelength\"),\n",
    "        linestyle=\"dashed\",\n",
    "        grid=True,\n",
    "        marker='.',\n",
    "        title=f\"UV - {name} - turbidity corrected\",\n",
    "        ylabel='Abs [dimensionless]',\n",
    "        ax=ax3\n",
    "\n",
    ")\n",
    "\n",
    "turb_corr.ax.set_xlim([np.min(uv_turb_corr.coords[\"wavelength\"].values)*0.98, np.max(uv_turb_corr.coords[\"wavelength\"].values)])\n",
    "turb_corr.ax.set_ylim([np.nanmin(uv_turb_corr.data.values)*0.9, np.nanmax(uv_turb_corr.data.values)*1.1])\n",
    "\n",
    "plt.tight_layout()\n",
    "plt.savefig(graph_out_turbcorr, dpi=dpi,bbox_inches='tight')\n",
    "plt.show()\n",
    "\n",
    "\n",
    "\n",
    "#How to plot the turbidity correction for visual inspection? \n",
    "#plot.plot_uv_turbidity_fit(uv_da, fit_llim=None, fit_ulim=None, b_llim=None, b_ulim=None, m=None)\n"
   ]
  },
  {
   "cell_type": "markdown",
   "metadata": {},
   "source": [
    "Cell below shows how to perform a turbidity correction on data from a single input file. Here is the example where a median filter is applied before hand."
   ]
  },
  {
   "cell_type": "code",
   "execution_count": null,
   "metadata": {},
   "outputs": [],
   "source": [
    "name='066017.nxs'\n",
    "\n",
    "# Or load like this:\n",
    "uv_da=uv.load_and_normalize_uv(name)\n",
    "\n",
    "# How to apply a median filter?\n",
    "kernel_size=10\n",
    "#uv_da=utils.nurf_median_filter(uv_da, kernel_size=kernel_size)\n",
    "\n",
    "#uv_turb_corr_mfilt=uv.uv_turbidity_fit(uv_da, fit_llim=None, fit_ulim=None, b_llim=None, b_ulim=None, m=None)\n",
    "#display(uv_turb_corr_mfilt)\n",
    "\n",
    "# Median filter in one line with turbdity_fit\n",
    "uv_turb_corr_mfilt=uv.uv_turbidity_fit(utils.nurf_median_filter(uv_da, kernel_size=kernel_size), fit_llim=None, fit_ulim=None, b_llim=None, b_ulim=None, m=None)\n",
    "\n",
    "\n",
    "#How to plot the turbidity correction for visual inspection? \n",
    "plot.plot_uv_turbidity_fit(uv_turb_corr_mfilt, fit_llim=None, fit_ulim=None, b_llim=None, b_ulim=None, m=None)\n"
   ]
  },
  {
   "cell_type": "markdown",
   "metadata": {},
   "source": [
    "Cell below shows how to perform a turbidity fit on multiple input files **without** previous applying a median filter"
   ]
  },
  {
   "cell_type": "code",
   "execution_count": null,
   "metadata": {},
   "outputs": [],
   "source": [
    "\n",
    "scanlist = [66017, 66020]\n",
    "filelist=ill.complete_fname(scanlist)\n",
    "\n",
    "# apply turbidity correction to multiple files\n",
    "# create first a dict of sc.DataArray, where each array corresponds to a Loki.file\n",
    "dict_da={name:uv.load_and_normalize_uv(name) for name in [name for name in filelist]} \n",
    "# alternative that works, but maybe not so nice :-)\n",
    "#d={name:uv.load_and_normalize_uv(name) for name in [name for name in ill.complete_fname(scanlist)]} \n",
    "\n",
    "\n",
    "# apply turbidity fit to all spectra inside each Loki.file and to multiple files at once\n",
    "res_da=uv.uv_multi_turbidity_fit(dict_da)\n",
    "\n",
    "display(res_da)\n",
    "\n",
    "# plot turbidity corrected files\n",
    "plot.plot_uv_multi_turbidity_fit(dict_da)"
   ]
  },
  {
   "cell_type": "markdown",
   "metadata": {},
   "source": [
    "Cell below shows how to perform a turbidity fit on multiple input files **with** applying a median filter"
   ]
  },
  {
   "cell_type": "code",
   "execution_count": null,
   "metadata": {},
   "outputs": [],
   "source": [
    "scanlist = [66017, 66020]\n",
    "filelist=ill.complete_fname(scanlist)\n",
    "\n",
    "kernel_size=15\n",
    "\n",
    "# apply turbidity correction to multiple files\n",
    "# create first a dict of sc.DataArray, where each array corresponds to a Loki.file\n",
    "# for each sc.DataArray the nurf_median_filter is applied with above kernel_size\n",
    "dict_da={name:utils.nurf_median_filter(uv.load_and_normalize_uv(name), kernel_size=kernel_size) for name in [name for name in filelist]} \n",
    "\n",
    "\n",
    "# apply turbidity fit to all spectra inside each Loki.file and to multiple files at once\n",
    "res_da=uv.uv_multi_turbidity_fit(dict_da)\n",
    "\n",
    "display(res_da)\n",
    "\n",
    "# plot turbidity corrected files\n",
    "plot.plot_uv_multi_turbidity_fit(dict_da)"
   ]
  },
  {
   "cell_type": "markdown",
   "metadata": {},
   "source": [
    "How to gather the spectra of multiple files in one sc.DataArray or in one sc.Dataset?\n"
   ]
  },
  {
   "cell_type": "code",
   "execution_count": null,
   "metadata": {},
   "outputs": [],
   "source": [
    "#How to gather the spectra of multiple files in one sc.DataArray or in one sc.Dataset?\n",
    "filesetlist=ill.complete_fname(exp5)\n",
    "uv_da=uv.gather_uv_set(filesetlist)\n",
    "display(uv_da)\n",
    "\n",
    "#if all files contain the same number of UV spectra, a sc.DataSet is returned \n",
    "filesetlist_3files=ill.complete_fname([66017, 66020, 66023])\n",
    "uv_ds=uv.gather_uv_set(filesetlist_3files)\n",
    "display(uv_ds)\n"
   ]
  },
  {
   "cell_type": "code",
   "execution_count": null,
   "metadata": {},
   "outputs": [],
   "source": [
    "%%time\n",
    "\n",
    "name='066017.nxs'\n",
    "da = uv.load_and_normalize_uv(name)\n",
    "\n",
    "#How to apply the scipp.ndimage.median_filter to an sc.DataArray? \n",
    "#Current NUrF has non-equaled spaced data, only int is accepeted.\n",
    "#Otherwise: kernel_size=sc.scalar(2.5, units='nm') as example should work.\n",
    "kernel_size=15 \n",
    "da_filt=utils.nurf_median_filter(da, kernel_size=kernel_size)\n",
    "\n",
    "#plot all contributions\n",
    "legend_props = {\"show\": True, \"loc\": 1}\n",
    "fig1=sc.plot(sc.collapse(da, keep='wavelength'),title='before any median filter',legend=legend_props, marker='.')\n",
    "fig2=sc.plot(sc.collapse(da_filt, keep='wavelength'), marker='.', title=f'after median filter - scipp, size={kernel_size} ',legend=legend_props)\n",
    "\n",
    "display(fig1,fig2)\n",
    "\n",
    "\n"
   ]
  },
  {
   "cell_type": "code",
   "execution_count": null,
   "metadata": {},
   "outputs": [],
   "source": [
    "filesetlist=ill.complete_fname(exp5)\n",
    "plot.plot_multiple_uv_peak_int(filesetlist, wavelength= sc.scalar(280, unit='nm'))\n",
    "graph_name=f\"UV_peak_exp5.pdf\"\n",
    "graph_out=os.path.join(graphpath_output, graph_name)\n",
    "plt.savefig(graph_out,dpi=1200,bbox_inches='tight')"
   ]
  },
  {
   "cell_type": "code",
   "execution_count": null,
   "metadata": {},
   "outputs": [],
   "source": []
  }
 ],
 "metadata": {
  "kernelspec": {
   "display_name": "Python 3.9.13 ('dev')",
   "language": "python",
   "name": "python3"
  },
  "language_info": {
   "codemirror_mode": {
    "name": "ipython",
    "version": 3
   },
   "file_extension": ".py",
   "mimetype": "text/x-python",
   "name": "python",
   "nbconvert_exporter": "python",
   "pygments_lexer": "ipython3",
   "version": "3.9.13"
  },
  "orig_nbformat": 4,
  "vscode": {
   "interpreter": {
    "hash": "4396f389b93e7269692bd3bea4c62813bbe379469bde939b058805f538feec11"
   }
  }
 },
 "nbformat": 4,
 "nbformat_minor": 2
}
