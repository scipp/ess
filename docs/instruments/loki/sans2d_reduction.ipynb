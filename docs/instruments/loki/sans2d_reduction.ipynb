{
 "cells": [
  {
   "cell_type": "markdown",
   "id": "9a935df3-c816-4829-99c3-2afa979b7611",
   "metadata": {},
   "source": [
    "# SANS2D: I(Q) for sample and background\n",
    "\n",
    "In this notebook, we will be reducing a sample and a background measurements to a one-dimensional $I(Q)$.\n",
    "\n",
    "It assumes the detector data has been recorded in event mode, while the monitor data has been histogrammed.\n",
    "\n",
    "The data used in this notebook has been published in [Manasi et al. (2021)](#manasi2021),\n",
    "and we kindly thank the authors for allowing us to use their data.\n",
    "\n",
    "**Outline:**\n",
    "\n",
    "- We will begin by loading the data files containing the sample, direct, and background measurements.\n",
    "- We will then apply some corrections to beamline components specific to the SANS2D beamline.\n",
    "- This will be followed by some masking of some saturated or defect detector pixels\n",
    "- Finally, the sample and background measurement will be converted to the $Q$ dimension"
   ]
  },
  {
   "cell_type": "code",
   "execution_count": null,
   "id": "8c7f7cf7-0582-4953-a772-a0f87d1cf0e2",
   "metadata": {
    "tags": []
   },
   "outputs": [],
   "source": [
    "import matplotlib.pyplot as plt\n",
    "import scipp as sc\n",
    "from ess import loki, sans\n",
    "from ess.logging import configure_workflow\n",
    "import scippneutron as scn"
   ]
  },
  {
   "cell_type": "code",
   "execution_count": null,
   "id": "f55b66b3-d206-45a5-be17-bd51893f654b",
   "metadata": {
    "tags": []
   },
   "outputs": [],
   "source": [
    "logger = configure_workflow('sans2d_reduction', filename='sans2d.log')"
   ]
  },
  {
   "cell_type": "markdown",
   "id": "b5d36f11-9903-48f8-a626-86f137995681",
   "metadata": {},
   "source": [
    "## Define reduction workflow parameters\n",
    "\n",
    "We define here whether to include the effects of gravity,\n",
    "as well as common wavelength and $Q$ bins for all the measurements."
   ]
  },
  {
   "cell_type": "code",
   "execution_count": null,
   "id": "239166d6-d62f-46e9-8316-83c26f0f05ce",
   "metadata": {
    "tags": []
   },
   "outputs": [],
   "source": [
    "# Include effects of gravity?\n",
    "gravity = True\n",
    "\n",
    "# Wavelength binning\n",
    "wavelength_bins = sc.linspace(dim='wavelength', start=2.0, stop=16.0, num=141,\n",
    "                              unit='angstrom')\n",
    "\n",
    "# Q binning\n",
    "q_bins = sc.linspace(dim='Q', start=0.01, stop=0.5, num=141, unit='1/angstrom')"
   ]
  },
  {
   "cell_type": "markdown",
   "id": "bafd7ab4-d478-4c96-8196-69029fb221c4",
   "metadata": {},
   "source": [
    "## Loading data files\n",
    "\n",
    "We load the following files:\n",
    "\n",
    "- The direct beam function for the main detector (gives detector efficiency as a function of wavelength)\n",
    "- The sample measurement\n",
    "- The direct measurement: this is the run with the empty sample holder/cuvette\n",
    "- The background measurement: this is the run with only the solvent which the sample is placed in"
   ]
  },
  {
   "cell_type": "code",
   "execution_count": null,
   "id": "0315d002-9cab-4ae4-8f63-c72a532f716b",
   "metadata": {
    "tags": []
   },
   "outputs": [],
   "source": [
    "direct_beam = sc.io.open_hdf5(loki.data.get_path('DIRECT_SANS2D_REAR_34327_4m_8mm_16Feb16.hdf5'))\n",
    "sample = loki.io.load_sans2d(filename=loki.data.get_path('SANS2D00063114.hdf5'))\n",
    "direct = loki.io.load_sans2d(filename=loki.data.get_path('SANS2D00063091.hdf5'))\n",
    "background = loki.io.load_sans2d(filename=loki.data.get_path('SANS2D00063159.hdf5'))\n",
    "dg = {'sample': sample, 'direct': direct, 'background': background}"
   ]
  },
  {
   "cell_type": "markdown",
   "id": "28022e3d-ddac-4082-9dfa-be53475f7912",
   "metadata": {},
   "source": [
    "## Pre-process monitor data\n",
    "\n",
    "We convert the monitor data from time-of-flight to wavelength, remove background noise,\n",
    "and rebin to the requested wavelength binning using the `preprocess_monitor_data` helper function from the `i_of_q` submodule:"
   ]
  },
  {
   "cell_type": "code",
   "execution_count": null,
   "id": "b26d2154-89bc-4379-8b33-e649e3dcc2a0",
   "metadata": {
    "tags": []
   },
   "outputs": [],
   "source": [
    "monitors = {}\n",
    "for key, da in dg.items():\n",
    "    monitors[f'{key}-incident'] = da.attrs[\"monitor2\"].value\n",
    "    monitors[f'{key}-transmission'] = da.attrs[\"monitor4\"].value\n",
    "\n",
    "# Define range outside of which monitor data is considered to be background\n",
    "non_background_range = sc.array(dims=['wavelength'], values=[0.7, 17.1], unit='angstrom')\n",
    "\n",
    "# Run preprocessing\n",
    "monitors = sans.i_of_q.preprocess_monitor_data(\n",
    "    monitors,\n",
    "    non_background_range=non_background_range,\n",
    "    wavelength_bins=wavelength_bins)\n",
    "\n",
    "# Unpack monitors to make steps below easier\n",
    "sample_monitors = {'incident': monitors['sample-incident'],\n",
    "                   'transmission': monitors['sample-transmission']}\n",
    "direct_monitors = {'incident': monitors['direct-incident'],\n",
    "                   'transmission': monitors['direct-transmission']}\n",
    "background_monitors = {'incident': monitors['background-incident'],\n",
    "                       'transmission': monitors['background-transmission']}"
   ]
  },
  {
   "cell_type": "markdown",
   "id": "68631b69-129d-4651-b6b0-3d9b3388477d",
   "metadata": {},
   "source": [
    "## Masking bad detector pixels\n",
    "\n",
    "**Note:** We use programmatic masks here and not those stored in xml files.\n",
    "\n",
    "Now that the monitor data is cleaned and binned to the correct wavelength range, we turn to the detector data.\n",
    "The first step is to mask noisy and saturated pixels.\n",
    "We mask the edges of the square-shaped detector panel with a simple distance relation.\n",
    "We also mask the region close to the beam center,\n",
    "where the sample holder is visible as a dark patch with an arm extending to the north-east."
   ]
  },
  {
   "cell_type": "code",
   "execution_count": null,
   "id": "5106e023-6f90-4d4c-87a4-8b2bf577254a",
   "metadata": {
    "tags": []
   },
   "outputs": [],
   "source": [
    "mask_edges = (\n",
    "    (sc.abs(sample.coords['position'].fields.x) > sc.scalar(0.48, unit='m')) |\n",
    "    (sc.abs(sample.coords['position'].fields.y) > sc.scalar(0.45, unit='m')))\n",
    "\n",
    "summed = sample.sum('tof')\n",
    "holder_mask = (summed.data < sc.scalar(100, unit='counts')) & \\\n",
    "              (sample.coords['position'].fields.x > sc.scalar(0, unit='m')) & \\\n",
    "              (sample.coords['position'].fields.x < sc.scalar(0.42, unit='m')) & \\\n",
    "              (sample.coords['position'].fields.y < sc.scalar(0.05, unit='m')) & \\\n",
    "              (sample.coords['position'].fields.y > sc.scalar(-0.15, unit='m'))\n",
    "\n",
    "for da in dg.values():\n",
    "    da.masks['edges'] = mask_edges\n",
    "    da.masks['holder_mask'] = holder_mask"
   ]
  },
  {
   "cell_type": "markdown",
   "id": "c26a9ffc-3e20-49c2-90db-9e0f614a7ec6",
   "metadata": {},
   "source": [
    "A good sanity check is to view the masks on the instrument view:"
   ]
  },
  {
   "cell_type": "code",
   "execution_count": null,
   "id": "3f791904-3bf1-4891-866d-69acb28bce8e",
   "metadata": {
    "tags": []
   },
   "outputs": [],
   "source": [
    "scn.instrument_view(sample.hist(), pixel_size=0.0075)"
   ]
  },
  {
   "cell_type": "markdown",
   "id": "1f4141de-883d-4145-b831-6d8b6ffc3cce",
   "metadata": {},
   "source": [
    "### Beam center finder\n",
    "\n",
    "The beam is not guaranteed to travel through the center of the detector panel,\n",
    "and we thus have to apply a horizontal and vertical offset to our pixel positions so that the beam centre is at `x = y = 0`.\n",
    "This is necessary for subsequent azimuthal averaging of the data counts into $Q$ bins.\n",
    "\n",
    "The `beam_center` utility in the `sans` module is designed for this.\n",
    "It requires us to define a $Q$ range over which convergence will be checked."
   ]
  },
  {
   "cell_type": "code",
   "execution_count": null,
   "id": "1b1640d4-2e4f-413f-bad8-545c8a0f678f",
   "metadata": {
    "tags": []
   },
   "outputs": [],
   "source": [
    "q_range = sc.linspace('Q', 0.02, 0.3, 71, unit='1/angstrom')\n",
    "\n",
    "center = sans.beam_center(data=dg['sample'],\n",
    "                          data_monitors=sample_monitors,\n",
    "                          direct_monitors=direct_monitors,\n",
    "                          wavelength_bins=wavelength_bins,\n",
    "                          q_bins=q_range,\n",
    "                          gravity=gravity)\n",
    "\n",
    "print(center)\n",
    "\n",
    "# Now shift pixels positions to get the correct beam center\n",
    "for da in dg.values():\n",
    "    da.coords['position'] -= center"
   ]
  },
  {
   "cell_type": "markdown",
   "id": "eef1cb3a-d3e8-4d5c-88fa-3ea5e3cdeb01",
   "metadata": {},
   "source": [
    "## Mask Bragg peaks in wavelength\n",
    "\n",
    "We will now take out the time regions with Bragg peaks from the beam stop and detector window,\n",
    "although in reality the peaks appear only close to the beam stop,\n",
    "and will make little difference to $I(Q)$.\n",
    "\n",
    "This could be implemented as masking specific time bins for a specific region in space,\n",
    "but for now we keep it simple."
   ]
  },
  {
   "cell_type": "code",
   "execution_count": null,
   "id": "cf0c7256-3ae7-49c3-a4bf-851e0326c011",
   "metadata": {
    "tags": []
   },
   "outputs": [],
   "source": [
    "wavelength_mask = sc.DataArray(\n",
    "    data=sc.array(dims=['wavelength'], values=[True]),\n",
    "    coords={'wavelength': sc.array(dims=['wavelength'], values=[2.21, 2.59], unit='angstrom')})"
   ]
  },
  {
   "cell_type": "markdown",
   "id": "c0a74b36-1f4e-472f-b279-83e75064e6ff",
   "metadata": {},
   "source": [
    "## Use to_I_of_Q workflow\n",
    "\n",
    "We now reduce the sample and the background measurements to `Q` using the `sans.to_I_of_Q` workflow.\n",
    "\n",
    "In that process,\n",
    "the intensity as a function of `Q` is normalized using the direct measurement and direct beam function.\n",
    "\n",
    "We call the workflow on both the sample and background runs:"
   ]
  },
  {
   "cell_type": "code",
   "execution_count": null,
   "id": "652aa470-74fe-4036-90e5-4eeead429831",
   "metadata": {
    "tags": []
   },
   "outputs": [],
   "source": [
    "sample_q = sans.to_I_of_Q(data=dg['sample'],\n",
    "    data_monitors=sample_monitors,\n",
    "    direct_monitors=direct_monitors,\n",
    "    direct_beam=direct_beam,\n",
    "    wavelength_bins=wavelength_bins,\n",
    "    q_bins=q_bins,\n",
    "    gravity=gravity,\n",
    "    wavelength_mask=wavelength_mask)\n",
    "sample_q.hist().plot()"
   ]
  },
  {
   "cell_type": "code",
   "execution_count": null,
   "id": "dba9fe02-5c65-4142-b94b-ccca2df879e2",
   "metadata": {
    "tags": []
   },
   "outputs": [],
   "source": [
    "background_q = sans.to_I_of_Q(data=dg['background'],\n",
    "    data_monitors=background_monitors,\n",
    "    direct_monitors=direct_monitors,\n",
    "    direct_beam=direct_beam,\n",
    "    wavelength_bins=wavelength_bins,\n",
    "    q_bins=q_bins,\n",
    "    gravity=gravity,\n",
    "    wavelength_mask=wavelength_mask)\n",
    "background_q.hist().plot()"
   ]
  },
  {
   "cell_type": "markdown",
   "id": "d88ac17e-233f-42ff-bc0c-930f797af1c1",
   "metadata": {},
   "source": [
    "We are now in a position to subtract the background from the sample measurement:"
   ]
  },
  {
   "cell_type": "code",
   "execution_count": null,
   "id": "f3715d62-e58b-410a-97cd-cfc16bc32a28",
   "metadata": {
    "tags": []
   },
   "outputs": [],
   "source": [
    "result = sample_q.bins.sum() - background_q.bins.sum()\n",
    "result"
   ]
  },
  {
   "cell_type": "code",
   "execution_count": null,
   "id": "4e3d8e09-465d-4470-8e1b-a3bc6ff4f374",
   "metadata": {
    "tags": []
   },
   "outputs": [],
   "source": [
    "fig1, ax1 = plt.subplots(1, 2, figsize=(10, 4))\n",
    "sc.plot(result, ax=ax1[0])\n",
    "sc.plot(result, norm='log', ax=ax1[1])"
   ]
  },
  {
   "cell_type": "markdown",
   "id": "57679ad0-d04a-4c30-a2b3-78e9800f5ae0",
   "metadata": {},
   "source": [
    "<div class=\"alert alert-info\">\n",
    "\n",
    "**Note**\n",
    "\n",
    "Instead of `.bins.sum()`,\n",
    "one could use `sc.histogram()` above to define different `Q` bins compared to the ones defined at the top of the notebook.\n",
    "This can be done in event mode, see [here](https://scipp.github.io/user-guide/binned-data/computation.html#Subtraction).\n",
    "\n",
    "There may be performance advantages to first use a coarse `Q` binning when the computing `I(Q)` numerator,\n",
    "and use finer binning for the final results.\n",
    "\n",
    "</div>"
   ]
  },
  {
   "cell_type": "markdown",
   "id": "5c270fd9-beee-4abd-a51a-4d16ad54922e",
   "metadata": {},
   "source": [
    "## Wavelength bands\n",
    "\n",
    "It is often useful to process the data in a small number (~10) of separate wavelength bands.\n",
    "\n",
    "This can be achieved by requesting 10 bands from the `to_I_of_Q` workflow via the `wavelength_bands` argument."
   ]
  },
  {
   "cell_type": "code",
   "execution_count": null,
   "id": "ca7e75fe-29f6-44c9-88c2-43d870044b4c",
   "metadata": {
    "tags": []
   },
   "outputs": [],
   "source": [
    "wavelength_bands = sc.linspace(dim='wavelength', start=2.0, stop=16.0, num=11,\n",
    "                               unit='angstrom')\n",
    "\n",
    "sample_slices = sans.to_I_of_Q(data=dg['sample'],\n",
    "    data_monitors=sample_monitors,\n",
    "    direct_monitors=direct_monitors,\n",
    "    direct_beam=direct_beam,\n",
    "    wavelength_bins=wavelength_bins,\n",
    "    q_bins=q_bins,\n",
    "    gravity=gravity,\n",
    "    wavelength_bands=wavelength_bands,\n",
    "    wavelength_mask=wavelength_mask)\n",
    "\n",
    "background_slices = sans.to_I_of_Q(data=dg['background'],\n",
    "    data_monitors=background_monitors,\n",
    "    direct_monitors=direct_monitors,\n",
    "    direct_beam=direct_beam,\n",
    "    wavelength_bins=wavelength_bins,\n",
    "    q_bins=q_bins,\n",
    "    gravity=gravity,\n",
    "    wavelength_bands=wavelength_bands,\n",
    "    wavelength_mask=wavelength_mask)\n",
    "\n",
    "result_slices = sample_slices.bins.sum() - background_slices.bins.sum()\n",
    "result_slices"
   ]
  },
  {
   "cell_type": "code",
   "execution_count": null,
   "id": "60c03e8c-4533-471e-8483-3c0c555fae7d",
   "metadata": {
    "tags": []
   },
   "outputs": [],
   "source": [
    "collapsed = sc.collapse(result_slices, keep='Q')\n",
    "\n",
    "fig2, ax2 = plt.subplots(1, 2, figsize=(10, 4))\n",
    "sc.plot(collapsed, ax=ax2[0])\n",
    "sc.plot(collapsed, norm='log', ax=ax2[1])"
   ]
  },
  {
   "cell_type": "markdown",
   "id": "50c9e31c-c174-4db8-8f1b-aa87e8f81408",
   "metadata": {},
   "source": [
    "## References"
   ]
  },
  {
   "cell_type": "markdown",
   "id": "88bd6494-80f4-4bf7-b026-f14a1849bf53",
   "metadata": {},
   "source": [
    "<div id=\"manasi2021\"></div>\n",
    "\n",
    "Manasi I., Andalibi M. R., Atri R. S., Hooton J., King S. M., Edler K. J., **2021**,\n",
    "*Self-assembly of ionic and non-ionic surfactants in type IV cerium nitrate and urea based deep eutectic solvent*,\n",
    "[J. Chem. Phys. 155, 084902](https://doi.org/10.1063/5.0059238)"
   ]
  }
 ],
 "metadata": {
  "kernelspec": {
   "display_name": "Python 3 (ipykernel)",
   "language": "python",
   "name": "python3"
  },
  "language_info": {
   "codemirror_mode": {
    "name": "ipython",
    "version": 3
   },
   "file_extension": ".py",
   "mimetype": "text/x-python",
   "name": "python",
   "nbconvert_exporter": "python",
   "pygments_lexer": "ipython3"
  }
 },
 "nbformat": 4,
 "nbformat_minor": 5
}
