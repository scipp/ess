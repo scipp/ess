{
 "cells": [
  {
   "cell_type": "markdown",
   "id": "4852fe41-3f9a-4cdb-8aba-ff7c7f198e6c",
   "metadata": {},
   "source": [
    "# DREAM diagnostics"
   ]
  },
  {
   "cell_type": "code",
   "execution_count": null,
   "id": "3f416595-83b4-44d1-b506-9ba73bf0786e",
   "metadata": {},
   "outputs": [],
   "source": [
    "%matplotlib widget\n",
    "import pandas as pd\n",
    "import scipp as sc\n",
    "import plopp as pp\n",
    "import matplotlib.pyplot as plt\n",
    "from ess.dream import diagnostics as diags\n",
    "from ess import dream"
   ]
  },
  {
   "cell_type": "code",
   "execution_count": null,
   "id": "ebef41be-fe1c-46d8-80d6-da43b4ff9a73",
   "metadata": {},
   "outputs": [],
   "source": [
    "filename = 'data_dream_HF_mil_closed_alldets_1e9.csv.zip'\n",
    "df = pd.read_table(filename)\n",
    "ds = sc.compat.from_pandas(df)\n",
    "del ds.coords['row']  # we have no use for this row index\n",
    "for key in list(ds):\n",
    "    name, *remainder = key.split(' ')\n",
    "    ds[name] = ds.pop(key)\n",
    "    ds[name].unit = remainder[0][1:-1] if remainder else None\n",
    "ds['lambda'].unit = 'angstrom'\n",
    "table = sc.DataArray(sc.ones(sizes=ds.sizes, unit='counts'))\n",
    "for name in ds:\n",
    "    table.coords[name] = ds[name].data\n",
    "\n",
    "mapping = {'sumo0': 0, 'sumo1': 1, 'sumo2': 2, 'sumo3': 3, 'mantle': 4, 'high_res': 5}\n",
    "da = table.group('det')\n",
    "dg = sc.DataGroup({key: da['det', val] for key, val in mapping.items()})\n",
    "dg = sc.DataGroup({key: diags.to_logical_dims(da) for key, da in dg.items()})\n",
    "for da in dg.values():\n",
    "    da.coords['x'] = da.bins.coords.pop('x_pos').bins.mean()\n",
    "    da.coords['y'] = da.bins.coords.pop('y_pos').bins.mean()\n",
    "    da.coords['z'] = da.bins.coords.pop('z_pos').bins.mean()\n",
    "dg"
   ]
  },
  {
   "cell_type": "code",
   "execution_count": null,
   "id": "01ec9dda-6537-405e-afa3-0240268f5b3e",
   "metadata": {},
   "outputs": [],
   "source": [
    "fig, ax = plt.subplots(4, len(dg), figsize=(len(dg) * 3, 4 * 3))\n",
    "for i, (name, da) in enumerate(dg.items()):\n",
    "    da.bins.concat(list(set(da.dims) - {'module'})).hist().plot(ax=ax[0, i], title=name)\n",
    "    diags.module_vs_segment(da).hist().plot(ax=ax[1, i])\n",
    "    da.bins.concat(list(set(da.dims) - {'strip'})).hist().plot(ax=ax[2, i])\n",
    "    diags.wire_vs_strip(da).hist().plot(ax=ax[3, i])\n",
    "fig.subplots_adjust(wspace=0.5, hspace=0.5)"
   ]
  },
  {
   "cell_type": "code",
   "execution_count": null,
   "id": "dd768225-1776-41e3-9fe0-03dae565e5b9",
   "metadata": {},
   "outputs": [],
   "source": [
    "dream.instrument_view(dg, dim='tof', bins=10)"
   ]
  }
 ],
 "metadata": {
  "kernelspec": {
   "display_name": "Python 3 (ipykernel)",
   "language": "python",
   "name": "python3"
  },
  "language_info": {
   "codemirror_mode": {
    "name": "ipython",
    "version": 3
   },
   "file_extension": ".py",
   "mimetype": "text/x-python",
   "name": "python",
   "nbconvert_exporter": "python",
   "pygments_lexer": "ipython3"
  }
 },
 "nbformat": 4,
 "nbformat_minor": 5
}
