{
 "cells": [
  {
   "cell_type": "markdown",
   "id": "4852fe41-3f9a-4cdb-8aba-ff7c7f198e6c",
   "metadata": {},
   "source": [
    "# DREAM diagnostics\n",
    "\n",
    "This notebook contains a set of visualizations for the DREAM detectors.\n",
    "The main purpose of such visualizations are to provide quick diagnostics on the detector data,\n",
    "which help determine if some of the detector components (wires, strips, modules...) are faulty or broken."
   ]
  },
  {
   "cell_type": "code",
   "execution_count": null,
   "id": "3f416595-83b4-44d1-b506-9ba73bf0786e",
   "metadata": {},
   "outputs": [],
   "source": [
    "import pandas as pd\n",
    "import scipp as sc\n",
    "import plopp as pp\n",
    "import matplotlib.pyplot as plt\n",
    "from ess.dream import diagnostics as diags\n",
    "from ess import dream"
   ]
  },
  {
   "cell_type": "markdown",
   "id": "228a23dc-17f2-4273-a4c9-3e3276db8c54",
   "metadata": {},
   "source": [
    "## Load and reshape the data\n",
    "\n",
    "We load a data set from a Geant4 simulation (stored as a `.csv` file).\n",
    "After loading, we manipulate and reshape the data to obtain a data group that contains one entry per detector bank.\n",
    "In each detector bank, the data is organised by `wire`, `strip`, `module`, `segment`, and `counter`.\n",
    "\n",
    "It is assumed that Nexus files from the DREAM beamline will be loaded as such by Scippnexus,\n",
    "and that the manipulations required below would not be needed for production datasets."
   ]
  },
  {
   "cell_type": "code",
   "execution_count": null,
   "id": "ebef41be-fe1c-46d8-80d6-da43b4ff9a73",
   "metadata": {},
   "outputs": [],
   "source": [
    "filename = dream.data['data_dream_HF_mil_closed_alldets_1e9.csv.zip']\n",
    "df = pd.read_table(filename)\n",
    "ds = sc.compat.from_pandas(df)\n",
    "del ds.coords['row']  # we have no use for this row index\n",
    "# Some logic to parse units in the file header\n",
    "for key in list(ds):\n",
    "    name, *remainder = key.split(' ')\n",
    "    ds[name] = ds.pop(key)\n",
    "    ds[name].unit = remainder[0][1:-1] if remainder else None\n",
    "ds['lambda'].unit = 'angstrom'\n",
    "table = sc.DataArray(sc.ones(sizes=ds.sizes, unit='counts'))\n",
    "for name in ds:\n",
    "    table.coords[name] = ds[name].data\n",
    "# Group pixels according to their bank identifier\n",
    "mapping = {'sumo0': 0, 'sumo1': 1, 'sumo2': 2, 'sumo3': 3, 'mantle': 4, 'high_res': 5}\n",
    "da = table.group('det')\n",
    "dg = sc.DataGroup({key: da['det', val] for key, val in mapping.items()})\n",
    "dg = sc.DataGroup({key: diags.to_logical_dims(da) for key, da in dg.items()})\n",
    "for da in dg.values():\n",
    "    da.coords['x'] = da.bins.coords.pop('x_pos').bins.mean()\n",
    "    da.coords['y'] = da.bins.coords.pop('y_pos').bins.mean()\n",
    "    da.coords['z'] = da.bins.coords.pop('z_pos').bins.mean()\n",
    "dg"
   ]
  },
  {
   "cell_type": "markdown",
   "id": "5ac73609-f473-4c73-b445-7a92fe9de45a",
   "metadata": {},
   "source": [
    "## Detector diagnostic plots\n",
    "\n",
    "We now make a single large figure showing some of the most commonly used plots,\n",
    "with one column per detector bank."
   ]
  },
  {
   "cell_type": "code",
   "execution_count": null,
   "id": "01ec9dda-6537-405e-afa3-0240268f5b3e",
   "metadata": {},
   "outputs": [],
   "source": [
    "fig, ax = plt.subplots(4, len(dg), figsize=(len(dg) * 3, 4 * 3))\n",
    "for i, (name, da) in enumerate(dg.items()):\n",
    "    da.bins.concat(list(set(da.dims) - {'module'})).hist().plot(ax=ax[0, i], title=name)\n",
    "    diags.module_vs_segment(da).hist().plot(ax=ax[1, i])\n",
    "    da.bins.concat(list(set(da.dims) - {'strip'})).hist().plot(ax=ax[2, i])\n",
    "    diags.wire_vs_strip(da).hist().plot(ax=ax[3, i])\n",
    "fig.subplots_adjust(wspace=0.5, hspace=0.5)"
   ]
  },
  {
   "cell_type": "markdown",
   "id": "49595486-ab4e-4662-86f7-d301aedcf974",
   "metadata": {},
   "source": [
    "## Instrument view\n",
    "\n",
    "We also show the 3D view of the instrument pixels.\n",
    "The DREAM-specific instrument view is also capable of slicing the data along the `tof` dimension by using the argument `dim='tof'`\n",
    "(use the `bins` argument to change how many bins will be used to histogram the `tof` dimension)."
   ]
  },
  {
   "cell_type": "code",
   "execution_count": null,
   "id": "34d80492-7593-4969-ae97-f292bde5f66b",
   "metadata": {
    "nbsphinx": "hidden"
   },
   "outputs": [],
   "source": [
    "# In order to keep the size of the doc pages down, we only keep 1 in 10 pixels\n",
    "dg = sc.DataGroup({key: da['pixel', ::10] for key, da in dg.flatten(to='pixel').items()})"
   ]
  },
  {
   "cell_type": "code",
   "execution_count": null,
   "id": "dd768225-1776-41e3-9fe0-03dae565e5b9",
   "metadata": {},
   "outputs": [],
   "source": [
    "dream.instrument_view(dg, dim='tof', bins=10, pixel_size=20)"
   ]
  },
  {
   "cell_type": "markdown",
   "id": "76d53a44-979c-4968-902e-e625ef5a0cbd",
   "metadata": {},
   "source": [
    "Finally, it is also possible to look at a single bank using"
   ]
  },
  {
   "cell_type": "code",
   "execution_count": null,
   "id": "43f9ffbc-6bf5-4407-b3ad-5d1626efc43d",
   "metadata": {},
   "outputs": [],
   "source": [
    "dream.instrument_view(dg['mantle'], pixel_size=20)"
   ]
  }
 ],
 "metadata": {
  "kernelspec": {
   "display_name": "Python 3 (ipykernel)",
   "language": "python",
   "name": "python3"
  },
  "language_info": {
   "codemirror_mode": {
    "name": "ipython",
    "version": 3
   },
   "file_extension": ".py",
   "mimetype": "text/x-python",
   "name": "python",
   "nbconvert_exporter": "python",
   "pygments_lexer": "ipython3"
  }
 },
 "nbformat": 4,
 "nbformat_minor": 5
}
