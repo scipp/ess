{
 "cells": [
  {
   "cell_type": "markdown",
   "id": "4852fe41-3f9a-4cdb-8aba-ff7c7f198e6c",
   "metadata": {},
   "source": [
    "# DREAM instrument view\n",
    "\n",
    "This notebook is a simple example on how to use the instrument view for the DREAM instrument.\n",
    "\n",
    "- The DREAM-specific instrument view is capable of slicing the data with a slider widget along a dimension (e.g. `tof`) by using the `dim` argument.\n",
    "- There are also checkboxes to hide/show the different modules that make up the DREAM detectors."
   ]
  },
  {
   "cell_type": "code",
   "execution_count": null,
   "id": "3f416595-83b4-44d1-b506-9ba73bf0786e",
   "metadata": {},
   "outputs": [],
   "source": [
    "import pandas as pd\n",
    "import scipp as sc\n",
    "from ess import dream"
   ]
  },
  {
   "cell_type": "markdown",
   "id": "228a23dc-17f2-4273-a4c9-3e3276db8c54",
   "metadata": {},
   "source": [
    "## Load and reshape the data\n",
    "\n",
    "We load a data set from a Geant4 simulation (stored as a `.csv` file).\n",
    "After loading, we manipulate and reshape the data to obtain a data group that contains one entry per detector bank.\n",
    "In each detector bank, the data is organised by `wire`, `strip`, `module`, `segment`, and `counter`.\n",
    "\n",
    "It is assumed that Nexus files from the DREAM beamline will be loaded as such by Scippnexus,\n",
    "and that the manipulations required below would not be needed for production datasets."
   ]
  },
  {
   "cell_type": "code",
   "execution_count": null,
   "id": "ebef41be-fe1c-46d8-80d6-da43b4ff9a73",
   "metadata": {
    "editable": true,
    "slideshow": {
     "slide_type": ""
    },
    "tags": []
   },
   "outputs": [],
   "source": [
    "df = pd.read_table(dream.data.get_path('data_dream_HF_mil_closed_alldets_1e9.csv.zip'))\n",
    "ds = sc.compat.from_pandas(df)\n",
    "# Some logic to parse units in the file header\n",
    "for key in list(ds):\n",
    "    name, *remainder = key.split(' ')\n",
    "    ds[name] = ds.pop(key)\n",
    "    ds[name].unit = remainder[0][1:-1] if remainder else None\n",
    "ds['lambda'].unit = 'angstrom'\n",
    "table = sc.DataArray(sc.ones(sizes=ds.sizes, unit='counts'))\n",
    "for name in ds:\n",
    "    table.coords[name] = ds[name].data\n",
    "table.coords['tof'] = table.coords['tof'].to(dtype=float, unit='us')\n",
    "# Group pixels according to their bank identifier\n",
    "mapping = {'sumo0': 0, 'sumo1': 1, 'sumo2': 2, 'sumo3': 3, 'mantle': 4, 'high_res': 5}\n",
    "da = table[::5].copy().group('det')  # Limit number of points rendered for docs size\n",
    "dg = sc.DataGroup({key: da['det', val] for key, val in mapping.items()})\n",
    "dg = sc.DataGroup(\n",
    "    {\n",
    "        key: da.group('module', 'segment', 'counter', 'wire', 'strip')\n",
    "        for key, da in dg.items()\n",
    "    }\n",
    ")\n",
    "for da in dg.values():\n",
    "    da.coords['x'] = da.bins.coords.pop('x_pos').bins.mean()\n",
    "    da.coords['y'] = da.bins.coords.pop('y_pos').bins.mean()\n",
    "    da.coords['z'] = da.bins.coords.pop('z_pos').bins.mean()\n",
    "dg"
   ]
  },
  {
   "cell_type": "markdown",
   "id": "49595486-ab4e-4662-86f7-d301aedcf974",
   "metadata": {
    "editable": true,
    "slideshow": {
     "slide_type": ""
    },
    "tags": []
   },
   "source": [
    "## Instrument view\n",
    "\n",
    "We first histogram the data along the time-of-flight (`tof`) dimension,\n",
    "making sure the same bins are used for all modules:"
   ]
  },
  {
   "cell_type": "code",
   "execution_count": null,
   "id": "e85a8364-e0a1-4c10-8cae-c873f297e651",
   "metadata": {
    "editable": true,
    "slideshow": {
     "slide_type": ""
    },
    "tags": []
   },
   "outputs": [],
   "source": [
    "tof_edges = sc.linspace('tof', 1.0e4, 1.0e5, 51, unit='us')\n",
    "data = dg.hist(tof=tof_edges)"
   ]
  },
  {
   "cell_type": "markdown",
   "id": "d08ca911-b1a4-4f17-ba1e-355971531ffe",
   "metadata": {
    "editable": true,
    "slideshow": {
     "slide_type": ""
    },
    "tags": []
   },
   "source": [
    "We now use the `instrument_view` function to show the 3D view of the instrument pixels,\n",
    "specifying that we wish to have a slider along the `tof` dimension:"
   ]
  },
  {
   "cell_type": "code",
   "execution_count": null,
   "id": "43f9ffbc-6bf5-4407-b3ad-5d1626efc43d",
   "metadata": {
    "editable": true,
    "slideshow": {
     "slide_type": ""
    },
    "tags": []
   },
   "outputs": [],
   "source": [
    "full_view = dream.instrument_view(data, dim='tof')\n",
    "full_view"
   ]
  },
  {
   "cell_type": "code",
   "execution_count": null,
   "id": "a7030d56-a375-47b5-898c-28fd06c2f361",
   "metadata": {
    "editable": true,
    "nbsphinx": "hidden",
    "slideshow": {
     "slide_type": ""
    },
    "tags": []
   },
   "outputs": [],
   "source": [
    "full_view[2].controls['tof']['slider'].value = 35"
   ]
  },
  {
   "cell_type": "markdown",
   "id": "c0b29ebf-21ff-4385-bf8b-0e4fa14dfaf9",
   "metadata": {
    "editable": true,
    "slideshow": {
     "slide_type": ""
    },
    "tags": []
   },
   "source": [
    "It is also possible to view a single detector module using"
   ]
  },
  {
   "cell_type": "code",
   "execution_count": null,
   "id": "b417011e-0d12-4287-91d5-c1fb6ecc7cac",
   "metadata": {
    "editable": true,
    "slideshow": {
     "slide_type": ""
    },
    "tags": []
   },
   "outputs": [],
   "source": [
    "mantle_view = dream.instrument_view(data['mantle'], dim='tof')\n",
    "mantle_view"
   ]
  },
  {
   "cell_type": "code",
   "execution_count": null,
   "id": "299ec404-fb18-4533-ad96-e23bf8ba24d6",
   "metadata": {
    "editable": true,
    "nbsphinx": "hidden",
    "slideshow": {
     "slide_type": ""
    },
    "tags": []
   },
   "outputs": [],
   "source": [
    "mantle_view[1].controls['tof']['slider'].value = 35"
   ]
  }
 ],
 "metadata": {
  "kernelspec": {
   "display_name": "Python 3 (ipykernel)",
   "language": "python",
   "name": "python3"
  },
  "language_info": {
   "codemirror_mode": {
    "name": "ipython",
    "version": 3
   },
   "file_extension": ".py",
   "mimetype": "text/x-python",
   "name": "python",
   "nbconvert_exporter": "python",
   "pygments_lexer": "ipython3"
  }
 },
 "nbformat": 4,
 "nbformat_minor": 5
}
