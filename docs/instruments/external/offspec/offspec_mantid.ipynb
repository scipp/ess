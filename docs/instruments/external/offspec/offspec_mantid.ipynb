{
 "cells": [
  {
   "cell_type": "markdown",
   "id": "12f10da7-2913-42d2-9cb2-752c1f83faa7",
   "metadata": {},
   "source": [
    "# Collimated data reduction for OFFSPEC\n",
    "\n",
    "This notebook implements a reduction workflow for reflectometry data collected from the ISIS instrument [OFFSPEC](https://www.isis.stfc.ac.uk/Pages/Offspec.aspx) using a collimated beam.\n",
    "This workflow implements the same procedure as the corresponding workflow in Mantid, see https://docs.mantidproject.org/nightly/techniques/ISIS_Reflectometry.html."
   ]
  },
  {
   "cell_type": "code",
   "execution_count": null,
   "id": "91bd074f-db83-4c33-92fd-c476d6ba9d04",
   "metadata": {
    "tags": []
   },
   "outputs": [],
   "source": [
    "from datetime import datetime\n",
    "import platform\n",
    "\n",
    "import numpy as np\n",
    "import plopp as pp\n",
    "import scipp as sc\n",
    "import scippneutron as scn\n",
    "from orsopy import fileio\n",
    "\n",
    "import ess\n",
    "from ess import reflectometry\n",
    "from ess.external import offspec"
   ]
  },
  {
   "cell_type": "code",
   "execution_count": null,
   "id": "c7db3153-e60f-4036-a592-d073e4f77328",
   "metadata": {
    "tags": []
   },
   "outputs": [],
   "source": [
    "logger = ess.logging.configure_workflow('offspec_reduction',\n",
    "                                        filename='offspec.log')"
   ]
  },
  {
   "cell_type": "markdown",
   "id": "2f94ef8d-1dcb-4c68-9153-ae5a245cc86d",
   "metadata": {},
   "source": [
    "## Loading the data\n",
    "\n",
    "In this example, we load some test data provided by the `offspec` package.\n",
    "We need a sample measurement (the sample is `Air | Si(790 A) | Cu(300 A) | SiO2`) and a direct beam measurement.\n",
    "The latter was obtained by positioning the detector directly in the beam of incident neutrons and moving the sample out of the way.\n",
    "It gives an estimate for the ISIS pulse structure as a function of time-of-flight. "
   ]
  },
  {
   "cell_type": "code",
   "execution_count": null,
   "id": "875e5233-95f8-4556-a564-e9fbece9eb42",
   "metadata": {
    "tags": []
   },
   "outputs": [],
   "source": [
    "sample_full = scn.load_with_mantid(offspec.data.sample(), mantid_args={\"LoadMonitors\": True})\n",
    "sample = sample_full['data']\n",
    "sample.coords['theta'] = sample_full.pop('Theta')[-1].data"
   ]
  },
  {
   "cell_type": "code",
   "execution_count": null,
   "id": "f0742bb7-4cd1-4af1-931c-48c3dd6f3467",
   "metadata": {},
   "outputs": [],
   "source": [
    "direct_beam_full = scn.load_with_mantid(offspec.data.direct_beam(), mantid_args={\"LoadMonitors\": True})\n",
    "direct_beam = direct_beam_full['data']\n",
    "direct_beam.coords['theta'] = direct_beam_full.pop('Theta')[-1].data"
   ]
  },
  {
   "cell_type": "code",
   "execution_count": null,
   "id": "5d765608-5217-4d04-9160-03096204c723",
   "metadata": {},
   "outputs": [],
   "source": [
    "sample"
   ]
  },
  {
   "cell_type": "markdown",
   "id": "3e383994-463a-4da9-8217-8968b41fb6aa",
   "metadata": {},
   "source": [
    "## Populating the ORSO header\n",
    "\n",
    "We will write the reduced data file following the [ORSO `.ort` standard](https://www.reflectometry.org/file_format/specification), to enable a metadata rich header. \n",
    "We will create an empty header and then populate this. \n",
    "\n",
    "### The data source information"
   ]
  },
  {
   "cell_type": "code",
   "execution_count": null,
   "id": "6871f4ea-ee69-4baa-a483-289703314771",
   "metadata": {
    "tags": []
   },
   "outputs": [],
   "source": [
    "header = fileio.orso.Orso.empty()\n",
    "\n",
    "header.data_source.owner = fileio.base.Person(\n",
    "    name=\"Joshanial F. K. Cooper\",\n",
    "    affiliation=\"ISIS Neutron and Muon Source\",\n",
    "    contact=\"jos.cooper@stfc.ac.uk\",\n",
    ")\n",
    "header.data_source.experiment = fileio.data_source.Experiment(\n",
    "    title=\"OFFSPEC Sample Data\",\n",
    "    instrument=\"OFFSPEC\",\n",
    "    start_date=\"2020-12-14T10:34:02\",\n",
    "    probe=\"neutron\",\n",
    "    facility=\"RAL/ISIS/OFFSPEC\",\n",
    ")\n",
    "header.data_source.sample = fileio.data_source.Sample(\n",
    "    name=\"QCS sample\",\n",
    "    category=\"gas/solid\",\n",
    "    composition=\"Air | Si(790 A) | Cu(300 A) | SiO2\",\n",
    ")\n",
    "header.data_source.measurement = fileio.data_source.Measurement(\n",
    "    instrument_settings=fileio.data_source.InstrumentSettings(\n",
    "        incident_angle=fileio.base.Value(\n",
    "            sample.coords[\"theta\"].value, sample.coords[\"theta\"].unit\n",
    "        ),\n",
    "        wavelength=None,\n",
    "        polarization=\"unpolarized\",\n",
    "    ),\n",
    "    data_files=[\n",
    "        offspec.data.sample().rsplit(\"/\", 1)[-1],\n",
    "        offspec.data.direct_beam().rsplit(\"/\", 1)[-1],\n",
    "    ],\n",
    "    scheme=\"energy-dispersive\",\n",
    ")"
   ]
  },
  {
   "cell_type": "markdown",
   "id": "cd4be8fc-626d-4e89-aa07-7dcf1498639c",
   "metadata": {},
   "source": [
    "### The reduction details\n",
    "\n",
    "The `reduction` section can start to be populated also. \n",
    "Entries such as `corrections` will be filled up through the reduction process. "
   ]
  },
  {
   "cell_type": "code",
   "execution_count": null,
   "id": "c63834ef-4e25-4031-91ed-df7724a16ea2",
   "metadata": {
    "tags": []
   },
   "outputs": [],
   "source": [
    "header.reduction.software = fileio.reduction.Software(\n",
    "    name=\"ess\", version=ess.__version__, platform=platform.platform()\n",
    ")\n",
    "header.reduction.timestamp = datetime.now()\n",
    "header.reduction.creator = fileio.base.Person(\n",
    "    name=\"I. D. Scientist\",\n",
    "    affiliation=\"European Spallation Source\",\n",
    "    contact=\"i.d.scientist@ess.eu\",\n",
    ")\n",
    "header.reduction.corrections = []\n",
    "header.reduction.computer = platform.node()\n",
    "header.reduction.script = \"offspec_mantid.ipynb\""
   ]
  },
  {
   "cell_type": "markdown",
   "id": "3e936fdd-195f-40e7-9816-b49b987f45cd",
   "metadata": {},
   "source": [
    "To ensure that the header object is carried through the process, we assign it to the sample `scipp.DataArray`. \n",
    "The direct beam header object will be overwritten at the normalisation step so we will keep this empty. "
   ]
  },
  {
   "cell_type": "code",
   "execution_count": null,
   "id": "f28c7d12-925c-461d-99c7-3d16050fb3e9",
   "metadata": {
    "tags": []
   },
   "outputs": [],
   "source": [
    "sample.attrs['orso'] = sc.scalar(header)\n",
    "direct_beam.attrs['orso'] = sc.scalar(fileio.orso.Orso.empty())"
   ]
  },
  {
   "cell_type": "markdown",
   "id": "16562ab9-0f20-47fd-b9fd-e5d3ca8019da",
   "metadata": {
    "tags": []
   },
   "source": [
    "### Correcting the position of detector pixels\n",
    "\n",
    "The pixel positions in the sample data must be modified to account for the transformation on the detector by rotating it around the sample. \n",
    "We can achieve this by understanding that the sample has been rotated by some amount (as discussed above) and that sample measurement has the specular peak at the same pixel as the direct beam measurement has the direct beam. \n",
    "Therefore, we move the sample detector along the arc of the sample rotation by $2\\omega$ (in the OFFSPEC files, $\\omega$ is called `'Theta'`, which we stored as `'theta'` earlier). "
   ]
  },
  {
   "cell_type": "code",
   "execution_count": null,
   "id": "cfec8102-c1de-4284-933e-5edac3b847f4",
   "metadata": {
    "tags": []
   },
   "outputs": [],
   "source": [
    "from scipp.spatial import rotations_from_rotvecs\n",
    "\n",
    "def pixel_position_correction(data: sc.DataArray):\n",
    "    rotation = rotations_from_rotvecs(rotation_vectors=sc.vector(value=[-2.0 * data.coords['theta'].value, 0, 0], unit=sc.units.deg))\n",
    "    return rotation * (data.coords['position'] - data.coords['sample_position'])"
   ]
  },
  {
   "cell_type": "code",
   "execution_count": null,
   "id": "eb66a525-bf3f-4c99-8d4e-28811ea93b6b",
   "metadata": {
    "tags": []
   },
   "outputs": [],
   "source": [
    "logger.info(\"Correcting pixel positions in 'sample.nxs'\")\n",
    "sample.coords['position'] = pixel_position_correction(sample)\n",
    "sample.attrs['orso'].value.data_source.measurement.comment = 'Pixel positions corrected'"
   ]
  },
  {
   "cell_type": "markdown",
   "id": "cd0710db-79ad-4ee0-9e6c-1019edb4830f",
   "metadata": {},
   "source": [
    "We can visualize the data with a plot. \n",
    "In this plot of `sample`, we can see the specular intensity at around spectrum numbers 400-410. \n",
    "There is a more intense region, closer to spectrum number 300, which comes from the direct beam of neutrons traveling straight through our sample. "
   ]
  },
  {
   "cell_type": "code",
   "execution_count": null,
   "id": "2a5fde1a-d509-4914-a2f2-bb605f533706",
   "metadata": {
    "tags": []
   },
   "outputs": [],
   "source": [
    "sample.hist(tof=50).plot(norm='log')"
   ]
  },
  {
   "cell_type": "markdown",
   "id": "3034804e-be92-4a62-b7e6-ce87bb1482a6",
   "metadata": {},
   "source": [
    "A region of interest is then defined for the detector. \n",
    "This is defined as twenty-five pixels around the specular peak or the direct beam. \n",
    "The `scipp.DataArray` is concatenated along the `'spectrum'` coordinate at this stage, essentially collapsing all of the events onto a single pixel."
   ]
  },
  {
   "cell_type": "code",
   "execution_count": null,
   "id": "c70eea4a-a996-4376-9cf7-79a12f6558ef",
   "metadata": {
    "tags": []
   },
   "outputs": [],
   "source": [
    "sample_roi = sample['spectrum', 389:415].bins.concat('spectrum')\n",
    "direct_beam_roi = direct_beam['spectrum', 389:415].bins.concat('spectrum')\n",
    "\n",
    "sample_roi.attrs['orso'].value.reduction.corrections += ['region of interest defined as spectrum 389:415']"
   ]
  },
  {
   "cell_type": "markdown",
   "id": "6b6d0f3a-8e25-4279-8b26-279ce64a55b9",
   "metadata": {},
   "source": [
    "The position of these events is then defined as the centre of the region of interest. "
   ]
  },
  {
   "cell_type": "code",
   "execution_count": null,
   "id": "4390197d-b626-4398-a6e3-e1a7fff2482c",
   "metadata": {
    "tags": []
   },
   "outputs": [],
   "source": [
    "sample_roi.coords['position'] = sample.coords['position'][401]\n",
    "direct_beam_roi.coords['position'] = direct_beam.coords['position'][401]"
   ]
  },
  {
   "cell_type": "markdown",
   "id": "2570112a-cdb2-4149-8072-f36e5bd25194",
   "metadata": {
    "tags": []
   },
   "source": [
    "## Coordinate transform graph\n",
    "\n",
    "To compute the wavelength $\\lambda$, the scattering angle $\\theta$, and the $Q$ vector for our data we can use a coordinate transform graph. \n",
    "The reflectometry graph is discussed in detail in the [Amor reduction notebook](https://scipp.github.io/ess/instruments/amor/amor_reduction.html) and the one used here is nearly identical.\n",
    "The only difference is the Amor instrument uses choppers to define the pulse of neutrons, which is not the case here. \n",
    "The OFFSPEC graph is the standard reflectometry graph, shown below. "
   ]
  },
  {
   "cell_type": "code",
   "execution_count": null,
   "id": "e7b4fbe4-bfd0-493e-8228-06854ea74a04",
   "metadata": {},
   "outputs": [],
   "source": [
    "graph = {**reflectometry.conversions.specular_reflection()}\n",
    "sc.show_graph(graph, simplified=True)"
   ]
  },
  {
   "cell_type": "markdown",
   "id": "5b08294f-a07f-402f-8334-069ed821293c",
   "metadata": {},
   "source": [
    "## Computing the wavelength\n",
    "\n",
    "The neutron wavelengths can be computed with `transform_coords` and the graph shown above. \n",
    "We will only use neutrons in the wavelength range of 2 Å to 15.0 Å. "
   ]
  },
  {
   "cell_type": "code",
   "execution_count": null,
   "id": "a9a9db09-dd4d-4760-b325-a27fd8d18e63",
   "metadata": {
    "tags": []
   },
   "outputs": [],
   "source": [
    "wavelength_edges = sc.linspace(dim='wavelength', start=2, stop=15, num=2, unit='angstrom')\n",
    "sample_wav = reflectometry.conversions.tof_to_wavelength(sample_roi, wavelength_edges,graph=graph)"
   ]
  },
  {
   "cell_type": "markdown",
   "id": "1ba9deea-94ef-4c47-9b1a-29bc7548ed0f",
   "metadata": {},
   "source": [
    "Since the direct beam measurement is **not** a reflectometry measurement, we use the `no_scatter_graph` to convert this to wavelength."
   ]
  },
  {
   "cell_type": "code",
   "execution_count": null,
   "id": "3c79540f-1cc1-4e4f-9db7-8da1c2c730ee",
   "metadata": {
    "tags": []
   },
   "outputs": [],
   "source": [
    "no_scatter_graph = {**scn.conversion.graph.beamline.beamline(scatter=False),\n",
    "                    **scn.conversion.graph.tof.elastic_wavelength(start='tof')}\n",
    "sc.show_graph(no_scatter_graph, simplified=True)\n",
    "\n",
    "direct_beam_wav = direct_beam_roi.transform_coords('wavelength', graph=no_scatter_graph)\n",
    "direct_beam_wav = direct_beam_wav.bin(wavelength=wavelength_edges)"
   ]
  },
  {
   "cell_type": "markdown",
   "id": "40f49aac-ee99-4468-8cb9-c0ba761096ac",
   "metadata": {
    "tags": []
   },
   "source": [
    "## Normalization by monitor\n",
    "\n",
    "It is necessary to normalize the sample and direct beam measurements by the summed monitor counts, which accounts for different lengths of measurement and long-timescale natural variation in the pulse. \n",
    "This will ensure that the final data has the correct scaling when the reflectivity data is normalized.\n",
    "First, we convert the data to wavelength, using the `no_scatter_graph` used previously for the direct beam.\n",
    "\n",
    "The most reliable monitor for the OFFSPEC instrument is `'monitor2'` in the file, therefore this is used. "
   ]
  },
  {
   "cell_type": "code",
   "execution_count": null,
   "id": "d8f75be4-7776-4a86-a4b7-97be33bb76c7",
   "metadata": {
    "tags": []
   },
   "outputs": [],
   "source": [
    "sample_mon_wav = sample_full[\"monitors\"][\"monitor2\"][\"data\"].transform_coords(\n",
    "    \"wavelength\", graph=no_scatter_graph\n",
    ")\n",
    "direct_beam_mon_wav = direct_beam_full[\"monitors\"][\"monitor2\"][\"data\"].transform_coords(\n",
    "    \"wavelength\", graph=no_scatter_graph\n",
    ")"
   ]
  },
  {
   "cell_type": "markdown",
   "id": "4b2d70f2-a372-44f8-a5c2-3bd8736f17a0",
   "metadata": {},
   "source": [
    "A background subtraction is then performed on the monitor data, where the background as taken as any counts at wavelengths greater than 15 Å. "
   ]
  },
  {
   "cell_type": "code",
   "execution_count": null,
   "id": "73cf74fb-e2da-40b9-87df-66f1a36b719a",
   "metadata": {
    "tags": []
   },
   "outputs": [],
   "source": [
    "sample_mon_wav -= sc.values(sample_mon_wav['wavelength', 15 * sc.units.angstrom:].mean())\n",
    "direct_beam_mon_wav -= sc.values(direct_beam_mon_wav['wavelength', 15 * sc.units.angstrom:].mean())\n",
    "sample_wav.attrs['orso'].value.reduction.corrections += ['monitor background subtraction, background above 15 Å']"
   ]
  },
  {
   "cell_type": "markdown",
   "id": "e61477dc-48ec-4680-936a-068d8c88e41f",
   "metadata": {},
   "source": [
    "The monitors are then summed along the `'wavelength'` and this value is used to normalise the data. "
   ]
  },
  {
   "cell_type": "code",
   "execution_count": null,
   "id": "011129a4-c67c-40c8-b651-52c5e36932a4",
   "metadata": {
    "tags": []
   },
   "outputs": [],
   "source": [
    "sample_mon_wav_sum = sample_mon_wav['wavelength', 2 * sc.units.angstrom:15 * sc.units.angstrom].sum()\n",
    "direct_beam_mon_wav_sum = direct_beam_mon_wav['wavelength', 2 * sc.units.angstrom:15 * sc.units.angstrom].sum()\n",
    "sample_norm = sample_wav / sc.values(sample_mon_wav_sum)\n",
    "direct_beam_norm = direct_beam_wav / sc.values(direct_beam_mon_wav_sum)\n",
    "sample_wav.attrs['orso'].value.reduction.corrections += ['normalisation by summed monitor']"
   ]
  },
  {
   "cell_type": "markdown",
   "id": "3a664135-125b-4bce-ba17-79d12b3644d7",
   "metadata": {},
   "source": [
    "## Normalisation of sample by direct beam\n",
    "\n",
    "The sample and direct beam measurements (which have been normalised by monitor counts) are then histogrammed in wavelength to 100 geometrically spaced points. \n",
    "The histogrammed direct beam is then used to normalised the sample. \n",
    "\n",
    "Importantly, some relevant metadata (including the ORSO header object) is carried over. "
   ]
  },
  {
   "cell_type": "code",
   "execution_count": null,
   "id": "cf1198ec-1b10-4976-85f9-2bbaead79099",
   "metadata": {
    "tags": []
   },
   "outputs": [],
   "source": [
    "sample_norm_hist = sample_norm.hist(\n",
    "    wavelength=sc.geomspace(\n",
    "        dim=\"wavelength\", start=2, stop=14, num=100, unit=sc.units.angstrom\n",
    "    )\n",
    ")\n",
    "sample_norm_hist.coords.set_aligned('theta', False)\n",
    "direct_beam_norm_hist = direct_beam_norm.hist(\n",
    "    wavelength=sc.geomspace(\n",
    "        dim=\"wavelength\", start=2, stop=14, num=100, unit=sc.units.angstrom\n",
    "    )\n",
    ")\n",
    "direct_beam_norm_hist.coords.set_aligned('theta', False)\n",
    "\n",
    "norm_wav = sample_norm_hist / direct_beam_norm_hist\n",
    "norm_wav.attrs[\"orso\"] = sample_wav.attrs[\"orso\"]\n",
    "norm_wav.coords[\"theta\"] = sample_wav.coords[\"theta\"]\n",
    "\n",
    "norm_wav.attrs[\"orso\"].value.reduction.corrections += [\"normalisation by direct beam\"]"
   ]
  },
  {
   "cell_type": "markdown",
   "id": "25212545-7607-4f5f-a67b-19e15ecb77ae",
   "metadata": {
    "tags": []
   },
   "source": [
    "## Conversion to $Q$\n",
    "\n",
    "This normalised data can then be used to compute the reflectivity as a function of the scattering vector $Q$. "
   ]
  },
  {
   "cell_type": "code",
   "execution_count": null,
   "id": "fc236e0c-5ad7-42cc-a688-44be302ef386",
   "metadata": {
    "tags": []
   },
   "outputs": [],
   "source": [
    "norm_q = reflectometry.conversions.theta_to_q(norm_wav, graph=graph)"
   ]
  },
  {
   "cell_type": "markdown",
   "id": "5bc90a7c-f027-49ed-b454-d53568ae4af8",
   "metadata": {},
   "source": [
    "Which we can visualise."
   ]
  },
  {
   "cell_type": "code",
   "execution_count": null,
   "id": "32f26240-3ccd-4b91-bbe2-7c65be094dfe",
   "metadata": {
    "tags": []
   },
   "outputs": [],
   "source": [
    "norm_q.plot(norm='log')"
   ]
  },
  {
   "cell_type": "markdown",
   "id": "ade4c9de-d224-4019-85d6-da91f7015402",
   "metadata": {},
   "source": [
    "## Saving the scipp-reduced data as .ort\n",
    "\n",
    "We constructed the ORSO header through the reduction process. \n",
    "We can now make use of this when we save our .ort file. \n",
    "\n",
    "First, we will assume a 3 % of $Q$ resolution function to be included in our file."
   ]
  },
  {
   "cell_type": "code",
   "execution_count": null,
   "id": "eeeb212a-7eb0-407c-a2a6-2050c9bd8f95",
   "metadata": {
    "tags": []
   },
   "outputs": [],
   "source": [
    "norm_q.coords['sigma_Q'] = sc.midpoints(norm_q.coords['Q']) * 0.03"
   ]
  },
  {
   "cell_type": "markdown",
   "id": "ad72a94f-2c84-4f6c-8d41-2db872245a40",
   "metadata": {},
   "source": [
    "Then, due a [bug in orsopy](https://github.com/reflectivity/orsopy/pull/101), we need to overwrite the incident angle and wavelength that have been out-populated by the reduction. "
   ]
  },
  {
   "cell_type": "code",
   "execution_count": null,
   "id": "8e713266-43bf-40db-b425-174c50ad77b6",
   "metadata": {
    "tags": []
   },
   "outputs": [],
   "source": [
    "incident_angle = norm_q.attrs['orso'].value.data_source.measurement.instrument_settings.incident_angle\n",
    "wavelength = norm_q.attrs['orso'].value.data_source.measurement.instrument_settings.wavelength\n",
    "\n",
    "norm_q.attrs['orso'].value.data_source.measurement.instrument_settings.wavelength = fileio.base.ValueRange(min=float(wavelength.min), max=float(wavelength.max), unit=wavelength.unit)\n",
    "norm_q.attrs['orso'].value.data_source.measurement.instrument_settings.incident_angle = fileio.base.Value(magnitude=float(incident_angle.magnitude), unit=incident_angle.unit)"
   ]
  },
  {
   "cell_type": "markdown",
   "id": "17eb0a70-bb67-4471-b5d5-f2ab9f6eeccd",
   "metadata": {},
   "source": [
    "And it is necessary to add the column for our uncertainties, which details the **meaning** of the uncertainty values we have given. "
   ]
  },
  {
   "cell_type": "code",
   "execution_count": null,
   "id": "4637821d-d557-40f7-95da-629e032bc54a",
   "metadata": {
    "tags": []
   },
   "outputs": [],
   "source": [
    "norm_q.attrs['orso'].value.columns.append(fileio.base.ErrorColumn(error_of='R', error_type='uncertainty', value_is='sigma'))\n",
    "norm_q.attrs['orso'].value.columns.append(fileio.base.ErrorColumn(error_of='Q', error_type='resolution', value_is='sigma'))"
   ]
  },
  {
   "cell_type": "markdown",
   "id": "714a7851-d63b-495c-a378-86832af1065b",
   "metadata": {},
   "source": [
    "Finally, we can save the file."
   ]
  },
  {
   "cell_type": "code",
   "execution_count": null,
   "id": "60297e29-1eb6-4807-b869-c76b441bbc05",
   "metadata": {
    "tags": []
   },
   "outputs": [],
   "source": [
    "reflectometry.io.save_ort(norm_q, 'offspec.ort')"
   ]
  },
  {
   "cell_type": "code",
   "execution_count": null,
   "id": "8f5c6057-bf57-490b-a4d3-6a378a920ee7",
   "metadata": {
    "tags": []
   },
   "outputs": [],
   "source": [
    "!head offspec.ort"
   ]
  }
 ],
 "metadata": {
  "kernelspec": {
   "display_name": "Python 3 (ipykernel)",
   "language": "python",
   "name": "python3"
  },
  "language_info": {
   "codemirror_mode": {
    "name": "ipython",
    "version": 3
   },
   "file_extension": ".py",
   "mimetype": "text/x-python",
   "name": "python",
   "nbconvert_exporter": "python",
   "pygments_lexer": "ipython3",
   "version": "3.8.17"
  }
 },
 "nbformat": 4,
 "nbformat_minor": 5
}
