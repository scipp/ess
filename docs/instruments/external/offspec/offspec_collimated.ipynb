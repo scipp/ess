{
 "cells": [
  {
   "cell_type": "markdown",
   "id": "aadfd561-1c24-4c8b-90b3-28fd1569c29d",
   "metadata": {
    "tags": []
   },
   "source": [
    "# Collimated data reduction for OFFSPEC\n",
    "\n",
    "[OFFSPEC](https://www.isis.stfc.ac.uk/Pages/Offspec.aspx) is a reflectometry instrument at the ISIS Neutron and Muon Source, which can measure reflectometry with a collimated beam. \n",
    "In this notebook, we will look at reducing data from the OFFSPEC reflectometer, with the aim of reproducing reduction from the [mantid reduction software](https://docs.mantidproject.org/nightly/algorithms/ReflectometryReductionOne-v2.html)\n",
    "This is a living document and there are plans to update this as necessary with changes in the data reduction methodology and code.\n",
    "We thank Jos Cooper (ISIS Neutron and Muon Source) for sharing the data used in this notebook and for insight into the reduction process.\n",
    "\n",
    "First, we import the necessary modules for this notebook. "
   ]
  },
  {
   "cell_type": "code",
   "execution_count": null,
   "id": "91bd074f-db83-4c33-92fd-c476d6ba9d04",
   "metadata": {
    "tags": []
   },
   "outputs": [],
   "source": [
    "import scipp as sc\n",
    "import scippneutron as scn\n",
    "import plopp as pp\n",
    "from ess import amor, reflectometry\n",
    "import numpy as np\n",
    "import ess\n",
    "\n",
    "pp.patch_scipp()"
   ]
  },
  {
   "cell_type": "code",
   "execution_count": null,
   "id": "c7db3153-e60f-4036-a592-d073e4f77328",
   "metadata": {
    "tags": []
   },
   "outputs": [],
   "source": [
    "logger = ess.logging.configure_workflow('offspec_reduction',\n",
    "                                        filename='offspec.log')"
   ]
  },
  {
   "cell_type": "markdown",
   "id": "911277c1-17c9-4f9f-b550-06c5753a0b2f",
   "metadata": {
    "tags": []
   },
   "source": [
    "## The OFFSPEC beamline\n",
    "\n",
    "At the OFFSPEC instrument, a collimated beam of neutrons is incident on the sample at a grazing angle. \n",
    "These neutrons are reflected through the specular condition, that is the angle of incidence is equal to the angle of reflection. \n",
    "The neutrons are then detected at the detector (this is shown diagramtically below). \n",
    "\n",
    "[ TODO: Insert diagram here ]\n",
    "\n",
    "## Setting the experiment metadata\n",
    "\n",
    "For writing reduced data files, we will use the [orso reflectometry standard](https://www.reflectometry.org/file_format/specification), which we can achieve using the [orsopy](https://orsopy.readthedocs.io/en/latest/) Python package.\n",
    "The orsopy object is also important for storing relevant metadata to be written in the reduced file. "
   ]
  },
  {
   "cell_type": "code",
   "execution_count": null,
   "id": "72f1d802-d84e-43ae-a2d4-71119fe2cdd5",
   "metadata": {
    "tags": []
   },
   "outputs": [],
   "source": [
    "from orsopy import fileio\n",
    "from ess.amor.orso import make_orso\n",
    "\n",
    "owner = fileio.base.Person('Jos Cooper', 'ISIS Neutron and Muon Source', 'jos.cooper@stfc.ac.uk')\n",
    "sample = fileio.data_source.Sample('Fringy ', 'gas/solid', 'air | (Ni | Ti) * 5 | Si')\n",
    "creator = fileio.base.Person('Andrew R. McCluskey', 'European Spallation Source', 'andrew.mccluskey@ess.eu')\n",
    "\n",
    "orso = make_orso(owner=owner,\n",
    "                 sample=sample,\n",
    "                 creator=creator,\n",
    "                 reduction_script='https://github.com/scipp/ess/blob/main/docs/instruments/external/offspec/offspec_collimated.ipynb')"
   ]
  },
  {
   "cell_type": "markdown",
   "id": "2f94ef8d-1dcb-4c68-9153-ae5a245cc86d",
   "metadata": {},
   "source": [
    "## Loading the data\n",
    "\n",
    "The sample measurement has been saved in the `sample.nxs` file, while the `direct_beam.nxs` file contains data from the direct beam, achieved by positioning the detector directly in the beam of incident neutrons and moving the sample out of the way. \n",
    "The direct beam measurement gives an estimate for the ISIS pulse structure as a function of time-of-flight. \n",
    "We load these files below. "
   ]
  },
  {
   "cell_type": "code",
   "execution_count": null,
   "id": "c040c0cc-ed83-4bfe-b59e-83086dfd96c1",
   "metadata": {
    "tags": []
   },
   "outputs": [],
   "source": [
    "# TODO: Replace with pooch loading and the reflectometry loader?\n",
    "\n",
    "sample = scn.load(\"../../../../data/sample.nxs\", mantid_args={\"LoadMonitors\": True})\n",
    "direct_beam = scn.load(\"../../../../data/direct_beam.nxs\", mantid_args={\"LoadMonitors\": True})\n",
    "sample.attrs['orso'] = sc.scalar(orso)\n",
    "direct_beam.attrs['orso'] = sc.scalar(orso)"
   ]
  },
  {
   "cell_type": "markdown",
   "id": "16562ab9-0f20-47fd-b9fd-e5d3ca8019da",
   "metadata": {},
   "source": [
    "### Correcting the position of detector pixels\n",
    "\n",
    "The pixel positions in `sample.nxs` must be modified to account for the transformation on the detector by moving it up. \n",
    "We can achieve this by understanding that the sample has been rotated by some amount (as discussed above) and that sample measurement has the specular peak at the same pixel as the direct beam measurement has the direct beam. \n",
    "Therefore, we move the sample detector up by the tangent of $2\\omega$ (in the OFFSPEC files, $\\omega$ is called `'Theta'`). "
   ]
  },
  {
   "cell_type": "code",
   "execution_count": null,
   "id": "eb66a525-bf3f-4c99-8d4e-28811ea93b6b",
   "metadata": {
    "tags": []
   },
   "outputs": [],
   "source": [
    "logger.info(\"Correcting pixel positions in 'sample.nxs'\")\n",
    "def pixel_position_correction(data: sc.DataArray):\n",
    "    return (data.coords['position'] - data.coords['sample_position']).fields.z * sc.tan(2.0 * data.attrs['Theta'].value.data[-1])\n",
    "\n",
    "sample.coords['position'].fields.y += pixel_position_correction(sample)\n",
    "sample.attrs['orso'].value.data_source.measurement.comment = 'Pixel positions corrected'"
   ]
  },
  {
   "cell_type": "markdown",
   "id": "cd0710db-79ad-4ee0-9e6c-1019edb4830f",
   "metadata": {},
   "source": [
    "We can visualise the data with a plot. \n",
    "In this plot, which comes from the sample, we can see the specular intensity at around spectrum numbers 400-410. \n",
    "There is a more intense region, closer to spectrum number 300, which comes from the direct beam of neutrons travelling straight through our sample. "
   ]
  },
  {
   "cell_type": "code",
   "execution_count": null,
   "id": "2a5fde1a-d509-4914-a2f2-bb605f533706",
   "metadata": {
    "tags": []
   },
   "outputs": [],
   "source": [
    "sample.hist(tof=50).plot(norm='log')"
   ]
  },
  {
   "cell_type": "markdown",
   "id": "2570112a-cdb2-4149-8072-f36e5bd25194",
   "metadata": {},
   "source": [
    "## Coordinate transform graph\n",
    "\n",
    "To compute the wavelength $\\lambda$, the scattering angle $\\theta$, and the $Q$ vector for our data we can use a coordinate transform graph. \n",
    "The reflectometry graph is discussed in detail in the [Amor reduction notebook](https://scipp.github.io/ess/instruments/amor/amor_reduction.html) and the one used here is nearly identical.\n",
    "The only difference is the Amor instrument uses choppers to define the pulse of neutrons, which is not the case here. \n",
    "The OFFSPEC graph is the standard reflectometry graph, shown below. "
   ]
  },
  {
   "cell_type": "code",
   "execution_count": null,
   "id": "e7b4fbe4-bfd0-493e-8228-06854ea74a04",
   "metadata": {},
   "outputs": [],
   "source": [
    "graph = {**reflectometry.conversions.specular_reflection()}\n",
    "sc.show_graph(graph, simplified=True)"
   ]
  },
  {
   "cell_type": "markdown",
   "id": "5b08294f-a07f-402f-8334-069ed821293c",
   "metadata": {},
   "source": [
    "## Computing the wavelength\n",
    "\n",
    "The neutron wavelengths can be computed with `transform_coords` and the graph shown above. \n",
    "We will only use neutron was a wavelength range of 1.5 Å to 12.0 Å. "
   ]
  },
  {
   "cell_type": "code",
   "execution_count": null,
   "id": "a9a9db09-dd4d-4760-b325-a27fd8d18e63",
   "metadata": {
    "tags": []
   },
   "outputs": [],
   "source": [
    "wavelength_edges = sc.array(dims=['wavelength'], \n",
    "                            values=[1.5, 12], \n",
    "                            unit='angstrom')\n",
    "sample_wav = reflectometry.conversions.tof_to_wavelength(sample, wavelength_edges, graph=graph)"
   ]
  },
  {
   "cell_type": "code",
   "execution_count": null,
   "id": "3c79540f-1cc1-4e4f-9db7-8da1c2c730ee",
   "metadata": {
    "tags": []
   },
   "outputs": [],
   "source": [
    "sample_wav.bins.concat('spectrum').hist(wavelength=200).plot()"
   ]
  },
  {
   "cell_type": "markdown",
   "id": "ab94aadb-cfe6-4b8e-a759-c484549ee68a",
   "metadata": {},
   "source": [
    "For the direct beam, we use a non-scattering graph, shown below. "
   ]
  },
  {
   "cell_type": "code",
   "execution_count": null,
   "id": "15e32790-328a-4e75-917b-37b0d1b734d1",
   "metadata": {
    "tags": []
   },
   "outputs": [],
   "source": [
    "no_scatter_graph = {**scn.conversion.graph.beamline.beamline(scatter=False),\n",
    "                    **scn.conversion.graph.tof.elastic_wavelength(start='tof')}\n",
    "sc.show_graph(no_scatter_graph, simplified=True)"
   ]
  },
  {
   "cell_type": "markdown",
   "id": "df26286e-e5d3-48ac-bc9a-1281b555d901",
   "metadata": {},
   "source": [
    "Given that we are measuring the *direct beam*, we can concatenate all spectrums to the pixel that is in the path of the direct beam. \n",
    "The wavelength transformation is then performed. "
   ]
  },
  {
   "cell_type": "code",
   "execution_count": null,
   "id": "3ded6f69-12b8-496d-9ad2-76c360d52593",
   "metadata": {
    "tags": []
   },
   "outputs": [],
   "source": [
    "direct_beam_flat = direct_beam.bins.concat('spectrum')\n",
    "direct_beam_flat.coords['position'] = sc.vector([0, 0, direct_beam.coords['position'].fields.z.nanmean().value], unit='m')\n",
    "direct_beam_wav = direct_beam_flat.transform_coords('wavelength', graph=no_scatter_graph)"
   ]
  },
  {
   "cell_type": "markdown",
   "id": "40f49aac-ee99-4468-8cb9-c0ba761096ac",
   "metadata": {
    "tags": []
   },
   "source": [
    "## Normalization\n",
    "\n",
    "It is necessary to normalize the sample and direct beam measurements by the monitor and the proton charge. \n",
    "This will ensure that the final data has the correct scaling, i.e. the reflectivity data is normalized."
   ]
  },
  {
   "cell_type": "code",
   "execution_count": null,
   "id": "416558c8-b7cf-4810-adaf-ebcce4fc28ca",
   "metadata": {
    "tags": []
   },
   "outputs": [],
   "source": [
    "sample_mon = sample_wav.attrs['monitor2'].value * sample_wav.attrs['gd_prtn_chrg'].value\n",
    "sample_mon_wav = sample_mon.transform_coords('wavelength', graph=no_scatter_graph)\n",
    "direct_beam_mon = direct_beam_wav.attrs['monitor2'].value * direct_beam_wav.attrs['gd_prtn_chrg'].value\n",
    "direct_beam_mon_wav = direct_beam_mon.transform_coords('wavelength', graph=no_scatter_graph)"
   ]
  },
  {
   "cell_type": "markdown",
   "id": "0e353a7f-718c-4053-b68b-84fc4751b87c",
   "metadata": {},
   "source": [
    "For the monitor values, we can drop the variances because [ TODO : explain the dropping the variances ]. \n",
    "Then we perform the normalisation as follows. "
   ]
  },
  {
   "cell_type": "code",
   "execution_count": null,
   "id": "537e524f-44c1-4516-8a68-1031c9485c02",
   "metadata": {
    "tags": []
   },
   "outputs": [],
   "source": [
    "sample_norm_wav = sample_wav.bins / sc.lookup(sc.values(sample_mon_wav), dim='wavelength')\n",
    "direct_beam_norm_wav = direct_beam_wav.bins / sc.lookup(sc.values(direct_beam_mon_wav), dim='wavelength')"
   ]
  },
  {
   "cell_type": "markdown",
   "id": "f2c3bc92-cd5d-4ca0-a11e-e7b2088c2a0a",
   "metadata": {
    "tags": []
   },
   "source": [
    "## Normalisation by the direct beam\n",
    "\n",
    "With both the sample and the direct beam normalised by their monitors and proton charge we can now normalise the sample by the direct beam. \n",
    "It it necessary to carry the `'sample_rotation'`, `'position'` and `'orso'` attributes to the normalised data array. "
   ]
  },
  {
   "cell_type": "code",
   "execution_count": null,
   "id": "f8dbd247-b569-45c7-af55-1e4fe48c1fc1",
   "metadata": {
    "tags": []
   },
   "outputs": [],
   "source": [
    "db = sc.values(direct_beam_norm_wav).hist(wavelength=sample_norm_wav.coords['wavelength'])\n",
    "\n",
    "norm_wav = sample_norm_wav / db\n",
    "norm_wav.coords['sample_rotation'] = sample_wav.attrs['Theta'].value[-1].data\n",
    "norm_wav.attrs['position'] = sample_wav.attrs['position']\n",
    "norm_wav.attrs['orso'] = sample_wav.attrs['orso']"
   ]
  },
  {
   "cell_type": "markdown",
   "id": "9b0c429d-2445-4a40-9fcb-76f477e2b5a2",
   "metadata": {},
   "source": [
    "## Region of interest\n",
    "\n",
    "The pixel coverage of the OFFSPEC detector is very large, we can see this by plotting the normalised data. "
   ]
  },
  {
   "cell_type": "code",
   "execution_count": null,
   "id": "468a5d51-c8c6-4dda-94bb-d2cd89a7d5d4",
   "metadata": {
    "tags": []
   },
   "outputs": [],
   "source": [
    "norm_wav.hist(wavelength=50).plot(norm='log')"
   ]
  },
  {
   "cell_type": "markdown",
   "id": "e5f99aa8-22ad-4351-9516-57bfd97e61d3",
   "metadata": {},
   "source": [
    "A result of this is that we can see the transmission direct beam on the measurements (as mentioned above). \n",
    "Therefore, we want to create region of interest around the specular pixel, which is spectrum index 405.\n",
    "We will make the region of interest 30 pixels wide. "
   ]
  },
  {
   "cell_type": "code",
   "execution_count": null,
   "id": "07a19ef2-1b90-4e35-a10a-3e428e2d2dc4",
   "metadata": {
    "tags": []
   },
   "outputs": [],
   "source": [
    "width = 15\n",
    "specular_index = 405 \n",
    "\n",
    "norm_wav_crop = norm_wav['spectrum', sc.index(specular_index-width): sc.index(specular_index+width)].copy()"
   ]
  },
  {
   "cell_type": "markdown",
   "id": "3e522a22-ecc7-4f26-89d0-8bddb6e9174e",
   "metadata": {},
   "source": [
    "Plotting this, gives a much more informative image. "
   ]
  },
  {
   "cell_type": "code",
   "execution_count": null,
   "id": "37660f2a-0c3e-41b9-8a91-7d9a34bed949",
   "metadata": {
    "tags": []
   },
   "outputs": [],
   "source": [
    "norm_wav_crop.hist(wavelength=50).plot(norm='log')"
   ]
  },
  {
   "cell_type": "markdown",
   "id": "68cdf0ae-3455-4296-97f8-b5b391886369",
   "metadata": {
    "tags": []
   },
   "source": [
    "## Computing theta and Q\n",
    "\n",
    "Again, we can use the reflectometry conversions to compute theta $\\theta$, the angle of incidence.\n",
    "To ensure that the necessary gravity correction is performed, we must create the `'gravity'` attribute. "
   ]
  },
  {
   "cell_type": "code",
   "execution_count": null,
   "id": "62f3dd14-9501-488f-9335-52db27ac8035",
   "metadata": {},
   "outputs": [],
   "source": [
    "norm_wav_crop.attrs['gravity'] = sc.vector([0, -1, 0]) * sc.constants.g\n",
    "norm_theta = reflectometry.conversions.wavelength_to_theta(norm_wav_crop, graph=graph)"
   ]
  },
  {
   "cell_type": "markdown",
   "id": "45a2b00b-cd59-44c2-a7a5-6f18f0df8eca",
   "metadata": {
    "tags": []
   },
   "source": [
    "This can then be used to compute the reflectivity as a function of the scattering vector $Q$. "
   ]
  },
  {
   "cell_type": "code",
   "execution_count": null,
   "id": "fc236e0c-5ad7-42cc-a688-44be302ef386",
   "metadata": {
    "tags": []
   },
   "outputs": [],
   "source": [
    "norm_q = reflectometry.conversions.theta_to_q(norm_theta, graph=graph)"
   ]
  },
  {
   "cell_type": "markdown",
   "id": "509d3328",
   "metadata": {},
   "source": [
    "Finally, we can plot the data as a function of a logarithmic $Q$ axis by histogramming in $Q$, summing over the spectrum dimension, and normalising by the bin width and interval."
   ]
  },
  {
   "cell_type": "code",
   "execution_count": null,
   "id": "d00606b2",
   "metadata": {},
   "outputs": [],
   "source": [
    "q_values = sc.geomspace('Q', start=0.0075, stop=0.035, num=100, unit=sc.Unit('1/Å'))\n",
    "norm_q_bin = norm_q.hist(Q=q_values).sum('spectrum')\n",
    "width = (qq[1:] - qq[:-1])\n",
    "width /= qq[-1] - qq[0]\n",
    "(norm_q_bin / width).plot(norm='log')"
   ]
  }
 ],
 "metadata": {
  "kernelspec": {
   "display_name": "Python 3 (ipykernel)",
   "language": "python",
   "name": "python3"
  },
  "language_info": {
   "codemirror_mode": {
    "name": "ipython",
    "version": 3
   },
   "file_extension": ".py",
   "mimetype": "text/x-python",
   "name": "python",
   "nbconvert_exporter": "python",
   "pygments_lexer": "ipython3",
   "version": "3.8.12"
  }
 },
 "nbformat": 4,
 "nbformat_minor": 5
}
