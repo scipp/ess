{
 "cells": [
  {
   "cell_type": "markdown",
   "id": "aadfd561-1c24-4c8b-90b3-28fd1569c29d",
   "metadata": {},
   "source": [
    "# Offspect collimated reduction\n",
    "\n",
    "Trying to reproduce https://docs.mantidproject.org/nightly/algorithms/ReflectometryReductionOne-v2.html"
   ]
  },
  {
   "cell_type": "code",
   "execution_count": null,
   "id": "91bd074f-db83-4c33-92fd-c476d6ba9d04",
   "metadata": {
    "tags": []
   },
   "outputs": [],
   "source": [
    "import scipp as sc\n",
    "import scippneutron as scn\n",
    "import plopp as pp\n",
    "from ess import amor, reflectometry\n",
    "import numpy as np\n",
    "import ess\n",
    "\n",
    "pp.patch_scipp()\n",
    "%matplotlib widget"
   ]
  },
  {
   "cell_type": "code",
   "execution_count": null,
   "id": "c7db3153-e60f-4036-a592-d073e4f77328",
   "metadata": {
    "tags": []
   },
   "outputs": [],
   "source": [
    "logger = ess.logging.configure_workflow('offspec_reduction',\n",
    "                                        filename=None)"
   ]
  },
  {
   "cell_type": "markdown",
   "id": "2f94ef8d-1dcb-4c68-9153-ae5a245cc86d",
   "metadata": {},
   "source": [
    "## Load data"
   ]
  },
  {
   "cell_type": "code",
   "execution_count": null,
   "id": "c040c0cc-ed83-4bfe-b59e-83086dfd96c1",
   "metadata": {
    "tags": []
   },
   "outputs": [],
   "source": [
    "sample = scn.load(\"../../../../data/OFFSPEC00062107.nxs\", mantid_args={\"LoadMonitors\": True})"
   ]
  },
  {
   "cell_type": "code",
   "execution_count": null,
   "id": "72cc4bf4-c706-40f8-a311-45619c11d4f4",
   "metadata": {
    "tags": []
   },
   "outputs": [],
   "source": [
    "direct_beam = scn.load(\"../../../../data/OFFSPEC00062163.nxs\", mantid_args={\"LoadMonitors\": True},)"
   ]
  },
  {
   "cell_type": "code",
   "execution_count": null,
   "id": "bf023d3d-77e0-427d-bba7-4a69f8c46e10",
   "metadata": {
    "tags": []
   },
   "outputs": [],
   "source": [
    "sample"
   ]
  },
  {
   "cell_type": "code",
   "execution_count": null,
   "id": "79662241-da62-49de-a995-aaa7dfcb8cd8",
   "metadata": {
    "tags": []
   },
   "outputs": [],
   "source": [
    "direct_beam"
   ]
  },
  {
   "cell_type": "markdown",
   "id": "7f451700-5067-48fa-8623-21d5cf90524a",
   "metadata": {},
   "source": [
    "TODO use actual metadata"
   ]
  },
  {
   "cell_type": "code",
   "execution_count": null,
   "id": "1b03f5a7-8b3c-4fee-b059-fb0ab8e91474",
   "metadata": {
    "tags": []
   },
   "outputs": [],
   "source": [
    "from orsopy import fileio\n",
    "from ess.amor.orso import make_orso\n",
    "\n",
    "owner = fileio.base.Person('Jochen Stahn', 'Paul Scherrer Institut', 'jochen.stahn@psi.ch')\n",
    "creator = fileio.base.Person('Andrew R. McCluskey', 'European Spallation Source', 'andrew.mccluskey@ess.eu')\n",
    "\n",
    "orso = make_orso(owner=owner,\n",
    "                 sample=fileio.data_source.Sample('Ni/Ti Multilayer', 'gas/solid', 'air | (Ni | Ti) * 5 | Si'),\n",
    "                 creator=creator,\n",
    "                 reduction_script='https://github.com/scipp/ess/blob/main/docs/instruments/amor/amor_reduction.ipynb')"
   ]
  },
  {
   "cell_type": "code",
   "execution_count": null,
   "id": "de68c213-3cc9-46bc-85f5-c4b678adbab5",
   "metadata": {
    "tags": []
   },
   "outputs": [],
   "source": [
    "sample.attrs['orso'] = sc.scalar(orso)\n",
    "direct_beam.attrs['orso'] = sc.scalar(orso)"
   ]
  },
  {
   "cell_type": "code",
   "execution_count": null,
   "id": "f9f9c550-8a20-4c6d-b7f8-4d605ceef2e2",
   "metadata": {
    "tags": []
   },
   "outputs": [],
   "source": [
    "sample.hist(tof=200).plot()"
   ]
  },
  {
   "cell_type": "code",
   "execution_count": null,
   "id": "9e50d349-7abf-48fe-b0ee-51e0ea429603",
   "metadata": {
    "tags": []
   },
   "outputs": [],
   "source": [
    "direct_beam.hist(tof=200).sum('spectrum').plot()"
   ]
  },
  {
   "cell_type": "markdown",
   "id": "b1309b6a-0ae7-4799-a1e4-b3625c32329d",
   "metadata": {},
   "source": [
    "sample and direct_beam are misaligned in spectrum."
   ]
  },
  {
   "cell_type": "code",
   "execution_count": null,
   "id": "1d899de6-51c2-42da-93e1-efb9416c58cc",
   "metadata": {
    "tags": []
   },
   "outputs": [],
   "source": [
    "s = sample.hist(tof=200)\n",
    "d = direct_beam.hist(tof=s.coords['tof'])\n",
    "r = s / d\n",
    "r.plot()"
   ]
  },
  {
   "cell_type": "markdown",
   "id": "2570112a-cdb2-4149-8072-f36e5bd25194",
   "metadata": {},
   "source": [
    "## Convert to wavelength"
   ]
  },
  {
   "cell_type": "code",
   "execution_count": null,
   "id": "79439e35-b512-4a20-9651-e37cdd1271c6",
   "metadata": {
    "tags": []
   },
   "outputs": [],
   "source": [
    "graph = {**reflectometry.conversions.specular_reflection()}"
   ]
  },
  {
   "cell_type": "code",
   "execution_count": null,
   "id": "a9a9db09-dd4d-4760-b325-a27fd8d18e63",
   "metadata": {
    "tags": []
   },
   "outputs": [],
   "source": [
    "wavelength_edges = sc.linspace('wavelength', 1, 14.0, 1000, unit='Å')\n",
    "w_sample = reflectometry.conversions.tof_to_wavelength(sample, wavelength_edges)"
   ]
  },
  {
   "cell_type": "code",
   "execution_count": null,
   "id": "050993e5-8ac1-4e1c-a083-6b93d1916759",
   "metadata": {
    "tags": []
   },
   "outputs": [],
   "source": [
    "w_sample.hist().plot()"
   ]
  },
  {
   "cell_type": "markdown",
   "id": "025ebf32-af8d-4f1b-912e-5aa20eb94c69",
   "metadata": {},
   "source": [
    "Sum all spectra in direct beam (like Mantid).\n",
    "Summing (`bins.concat`) removes the position coord. Since the direct beam should be detected at theta=0, we use this to define the position. `specular_pixel` finds the spectrum index for the specular peak."
   ]
  },
  {
   "cell_type": "code",
   "execution_count": null,
   "id": "28dafe74-498a-44bb-83f4-29a134e1dfcb",
   "metadata": {
    "tags": []
   },
   "outputs": [],
   "source": [
    "def specular_pixel(da):\n",
    "    dims = list(da.dims)\n",
    "    del dims[dims.index('spectrum')]\n",
    "    dim, = dims\n",
    "    return np.argmax(da.sum(dim).values) + da.coords['spectrum'].min().value"
   ]
  },
  {
   "cell_type": "code",
   "execution_count": null,
   "id": "15e32790-328a-4e75-917b-37b0d1b734d1",
   "metadata": {
    "tags": []
   },
   "outputs": [],
   "source": [
    "no_scatter_graph = {**scn.conversion.graph.beamline.beamline(scatter=False),\n",
    "                     **scn.conversion.graph.tof.elastic_wavelength(start='tof')}"
   ]
  },
  {
   "cell_type": "code",
   "execution_count": null,
   "id": "50c20a33-9e4a-4626-8ab9-8d45f8b8783b",
   "metadata": {
    "tags": []
   },
   "outputs": [],
   "source": [
    "da = direct_beam.bins.concat('spectrum')\n",
    "da.coords['position'] = direct_beam.coords['position'][specular_pixel(direct_beam)]\n",
    "w_direct_beam = da.transform_coords('wavelength', no_scatter_graph)"
   ]
  },
  {
   "cell_type": "markdown",
   "id": "40f49aac-ee99-4468-8cb9-c0ba761096ac",
   "metadata": {},
   "source": [
    "## Normalise by monitor\n",
    "\n",
    "Mantid does not normalise the direct beam by monitor."
   ]
  },
  {
   "cell_type": "code",
   "execution_count": null,
   "id": "416558c8-b7cf-4810-adaf-ebcce4fc28ca",
   "metadata": {
    "tags": []
   },
   "outputs": [],
   "source": [
    "sample_mon = sample.attrs['monitor2'].value\n",
    "w_sample_mon = sample_mon.transform_coords('wavelength', graph=no_scatter_graph)\n",
    "direct_beam_mon = direct_beam.attrs['monitor2'].value\n",
    "w_direct_beam_mon = direct_beam_mon.transform_coords('wavelength', graph=no_scatter_graph)"
   ]
  },
  {
   "cell_type": "markdown",
   "id": "0e353a7f-718c-4053-b68b-84fc4751b87c",
   "metadata": {},
   "source": [
    "Drop variances.\n",
    "The alpha value seems to be low enough."
   ]
  },
  {
   "cell_type": "code",
   "execution_count": null,
   "id": "f7e1d4b3-e0dc-40cb-ad36-7cd9c9a1842c",
   "metadata": {
    "tags": []
   },
   "outputs": [],
   "source": [
    "w_sample_mon = sc.values(w_sample_mon)\n",
    "w_direct_beam_mon = sc.values(w_direct_beam_mon)"
   ]
  },
  {
   "cell_type": "code",
   "execution_count": null,
   "id": "537e524f-44c1-4516-8a68-1031c9485c02",
   "metadata": {
    "tags": []
   },
   "outputs": [],
   "source": [
    "w_sample_norm_mon = w_sample.bins / sc.lookup(w_sample_mon, dim='wavelength')\n",
    "w_direct_beam_norm_mon = w_direct_beam.bins / sc.lookup(w_direct_beam_mon, dim='wavelength')"
   ]
  },
  {
   "cell_type": "markdown",
   "id": "19fec76b-e09e-4a74-8322-a5bbdc936107",
   "metadata": {},
   "source": [
    "## Normalise by direct beam"
   ]
  },
  {
   "cell_type": "markdown",
   "id": "2a7b53ca-8024-4001-9845-0c0abbc178c9",
   "metadata": {},
   "source": [
    "Align sample and direct_beam by cropping both in spectrum around the specular peak.\n",
    "Then pretend that the direct beam was measured at the same pixels ('spectrum' and 'position') as the sample."
   ]
  },
  {
   "cell_type": "code",
   "execution_count": null,
   "id": "0a053cab-94fd-4b56-afe5-d302a76278c0",
   "metadata": {
    "tags": []
   },
   "outputs": [],
   "source": [
    "# sample_specular_pixel = np.argmax(w_sample_norm_mon.sum('wavelength').values) + w_sample_norm_mon.coords['spectrum'].min().value\n",
    "# direct_beam_specular_pixel = np.argmax(w_direct_beam.sum('wavelength').values) + w_direct_beam.coords['spectrum'].min().value\n",
    "# width = 15\n",
    "# cropped_sample = w_sample_norm_mon['spectrum', sc.index(sample_specular_pixel-width): sc.index(sample_specular_pixel+width)].copy()\n",
    "# cropped_direct_beam = w_direct_beam['spectrum', sc.index(direct_beam_specular_pixel-width): sc.index(direct_beam_specular_pixel+width)].copy()\n",
    "# cropped_direct_beam.coords['spectrum'] = cropped_sample.coords['spectrum'].copy()\n",
    "# cropped_direct_beam.attrs['position'] = cropped_sample.attrs['position'].copy()"
   ]
  },
  {
   "cell_type": "code",
   "execution_count": null,
   "id": "3f2242e4-1183-44b3-8aa8-19e7472447fc",
   "metadata": {
    "tags": []
   },
   "outputs": [],
   "source": [
    "# using CROPPED\n",
    "# ref = sc.values(cropped_direct_beam).hist()\n",
    "# w_norm = cropped_sample / ref\n",
    "# w_norm.masks['no_reference_neutrons'] = (ref == sc.scalar(0, unit='count')).data\n",
    "# w_norm.coords['sample_rotation'] = sample.attrs['Theta'].value[-1].data"
   ]
  },
  {
   "cell_type": "code",
   "execution_count": null,
   "id": "f8dbd247-b569-45c7-af55-1e4fe48c1fc1",
   "metadata": {
    "tags": []
   },
   "outputs": [],
   "source": [
    "ref = sc.values(w_direct_beam_norm_mon).hist(wavelength=w_sample.coords['wavelength'])\n",
    "# ??? w_norm has no position even with this del\n",
    "# del ref.attrs['position']\n",
    "w_norm = w_sample / ref\n",
    "w_norm.masks['no_reference_neutrons'] = (ref == sc.scalar(0, unit='one')).data\n",
    "w_norm.coords['sample_rotation'] = sample.attrs['Theta'].value[-1].data\n",
    "w_norm.attrs['position'] = w_sample.attrs['position']\n",
    "w_norm.attrs['orso'] = w_sample.attrs['orso']"
   ]
  },
  {
   "cell_type": "code",
   "execution_count": null,
   "id": "07a19ef2-1b90-4e35-a10a-3e428e2d2dc4",
   "metadata": {
    "tags": []
   },
   "outputs": [],
   "source": [
    "width = 15\n",
    "crop_w_norm = w_sample_norm_mon['spectrum', sc.index(404-width): sc.index(404+width)].copy()"
   ]
  },
  {
   "cell_type": "code",
   "execution_count": null,
   "id": "a4f61e27-bcad-4cc0-8815-d3158b53d045",
   "metadata": {
    "tags": []
   },
   "outputs": [],
   "source": [
    "crop_w_norm.hist().plot(norm='log')"
   ]
  },
  {
   "cell_type": "code",
   "execution_count": null,
   "id": "653b4978-f373-484e-88a5-cfb52d3b912c",
   "metadata": {
    "tags": []
   },
   "outputs": [],
   "source": [
    "crop_w_norm.hist().sum('spectrum').plot(norm='log')"
   ]
  },
  {
   "cell_type": "code",
   "execution_count": null,
   "id": "b3898e71-7f69-4e96-9881-982a02c7207a",
   "metadata": {
    "tags": []
   },
   "outputs": [],
   "source": [
    "x = crop_w_norm.copy(deep=False)\n",
    "x.attrs['gravity'] = sc.vector([0, -1, 0]) * sc.constants.g\n",
    "x.coords['sample_rotation'] = sample.attrs['Theta'].values[-1].data\n",
    "theta_norm = reflectometry.conversions.wavelength_to_theta(x, graph=graph)"
   ]
  },
  {
   "cell_type": "markdown",
   "id": "7d1c12cf-20fa-49ca-a371-696a6ae59f52",
   "metadata": {},
   "source": [
    "WHY ARE THESE NEGATIVE?"
   ]
  },
  {
   "cell_type": "code",
   "execution_count": null,
   "id": "c7f900b4-c0bf-4cbd-b00d-030fb580c48a",
   "metadata": {},
   "outputs": [],
   "source": [
    "theta_norm.coords['theta']"
   ]
  },
  {
   "cell_type": "code",
   "execution_count": null,
   "id": "83dda91e-ec23-4e57-a248-5c09f25ffd2f",
   "metadata": {
    "tags": []
   },
   "outputs": [],
   "source": [
    "theta_norm.hist().sum('spectrum').plot(norm='log')"
   ]
  },
  {
   "cell_type": "markdown",
   "id": "45a2b00b-cd59-44c2-a7a5-6f18f0df8eca",
   "metadata": {
    "tags": []
   },
   "source": [
    "## Convert to Q"
   ]
  },
  {
   "cell_type": "markdown",
   "id": "b9ab84cd-c370-4b5a-8761-dcbbd75abe3e",
   "metadata": {},
   "source": [
    "Gravity seems to be in -y direction."
   ]
  },
  {
   "cell_type": "code",
   "execution_count": null,
   "id": "fc236e0c-5ad7-42cc-a688-44be302ef386",
   "metadata": {
    "tags": []
   },
   "outputs": [],
   "source": [
    "norm_q = theta_norm.transform_coords(['Q'], graph=graph)"
   ]
  },
  {
   "cell_type": "code",
   "execution_count": null,
   "id": "2ce7708b-a160-4e74-9569-c49741703e61",
   "metadata": {
    "tags": []
   },
   "outputs": [],
   "source": [
    "norm_q"
   ]
  },
  {
   "cell_type": "code",
   "execution_count": null,
   "id": "1fcb62a1-c90d-4a0d-b5bb-a94bd4cb8856",
   "metadata": {
    "tags": []
   },
   "outputs": [],
   "source": [
    "norm_q.hist().plot(norm='log')"
   ]
  },
  {
   "cell_type": "code",
   "execution_count": null,
   "id": "0f02f9bd-272b-4097-9ab4-1f5cfb9e6f60",
   "metadata": {
    "tags": []
   },
   "outputs": [],
   "source": [
    "norm_q.hist().sum('spectrum').plot(norm='log')"
   ]
  },
  {
   "cell_type": "markdown",
   "id": "6e0cf8bf-c5e1-49a8-a0be-72c6c6ac4a74",
   "metadata": {},
   "source": [
    "# Compare with Mantid"
   ]
  },
  {
   "cell_type": "markdown",
   "id": "80381a34-56f1-47e9-b993-b999f6ba0c5f",
   "metadata": {},
   "source": [
    "## I vs tof\n",
    "\n",
    "showing a normalised histogram to compare with mantid's plots"
   ]
  },
  {
   "cell_type": "code",
   "execution_count": null,
   "id": "4509d65e-43ab-413d-b302-274c0cf3a673",
   "metadata": {
    "tags": []
   },
   "outputs": [],
   "source": [
    "da = direct_beam.bins.concat('spectrum').hist(tof=200)\n",
    "assert sc.islinspace(da.coords['tof'], 'tof').value\n",
    "x = sc.midpoints(da.coords['tof']).values\n",
    "y = da.data.values / (x[1]-x[0])\n",
    "import matplotlib.pyplot as plt\n",
    "f = plt.figure()\n",
    "ax = f.add_subplot(111)\n",
    "ax.plot(x, y)"
   ]
  },
  {
   "cell_type": "markdown",
   "id": "da8a0d13-e324-46f0-bad9-94619fc5f049",
   "metadata": {},
   "source": [
    "## i vs wavelength"
   ]
  },
  {
   "cell_type": "code",
   "execution_count": null,
   "id": "40ec6846-7dcb-4d16-b8da-84175e1fb98c",
   "metadata": {
    "tags": []
   },
   "outputs": [],
   "source": [
    "w_sample.bins.concat('spectrum').hist().plot()"
   ]
  },
  {
   "cell_type": "code",
   "execution_count": null,
   "id": "583a0b8a-806d-47be-a36a-0b19f68dbcca",
   "metadata": {
    "tags": []
   },
   "outputs": [],
   "source": [
    "w_direct_beam.hist(wavelength=1000).plot()"
   ]
  },
  {
   "cell_type": "markdown",
   "id": "3ba2a6de-ccb5-44e6-8779-5db2e38a733f",
   "metadata": {},
   "source": [
    "## sample normalised by direct beam"
   ]
  },
  {
   "cell_type": "code",
   "execution_count": null,
   "id": "307dc405-b6ab-4f2f-a050-017747563954",
   "metadata": {
    "tags": []
   },
   "outputs": [],
   "source": [
    "x = w_sample / sc.values(w_direct_beam.hist(wavelength=wavelength_edges))\n",
    "x.bins.concat('spectrum').hist().plot()"
   ]
  },
  {
   "cell_type": "code",
   "execution_count": null,
   "id": "a347bd54-c921-4018-abb3-2157c31f3ef6",
   "metadata": {},
   "outputs": [],
   "source": []
  }
 ],
 "metadata": {
  "kernelspec": {
   "display_name": "Python 3 (ipykernel)",
   "language": "python",
   "name": "python3"
  },
  "language_info": {
   "codemirror_mode": {
    "name": "ipython",
    "version": 3
   },
   "file_extension": ".py",
   "mimetype": "text/x-python",
   "name": "python",
   "nbconvert_exporter": "python",
   "pygments_lexer": "ipython3",
   "version": "3.8.12"
  }
 },
 "nbformat": 4,
 "nbformat_minor": 5
}
