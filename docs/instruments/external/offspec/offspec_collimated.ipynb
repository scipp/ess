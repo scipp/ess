{
 "cells": [
  {
   "cell_type": "markdown",
   "id": "aadfd561-1c24-4c8b-90b3-28fd1569c29d",
   "metadata": {},
   "source": [
    "# Offspect collimated reduction"
   ]
  },
  {
   "cell_type": "code",
   "execution_count": null,
   "id": "91bd074f-db83-4c33-92fd-c476d6ba9d04",
   "metadata": {
    "tags": []
   },
   "outputs": [],
   "source": [
    "import scipp as sc\n",
    "import scippneutron as scn\n",
    "import plopp as pp\n",
    "from ess import amor, reflectometry\n",
    "import numpy as np\n",
    "import ess\n",
    "\n",
    "pp.patch_scipp()\n",
    "%matplotlib widget"
   ]
  },
  {
   "cell_type": "code",
   "execution_count": null,
   "id": "c7db3153-e60f-4036-a592-d073e4f77328",
   "metadata": {
    "tags": []
   },
   "outputs": [],
   "source": [
    "logger = ess.logging.configure_workflow('offspec_reduction',\n",
    "                                        filename=None)"
   ]
  },
  {
   "cell_type": "code",
   "execution_count": null,
   "id": "c040c0cc-ed83-4bfe-b59e-83086dfd96c1",
   "metadata": {
    "tags": []
   },
   "outputs": [],
   "source": [
    "sample = scn.load(\"../../../../data/OFFSPEC00062118.nxs\", mantid_args={\"LoadMonitors\": True})"
   ]
  },
  {
   "cell_type": "code",
   "execution_count": null,
   "id": "72cc4bf4-c706-40f8-a311-45619c11d4f4",
   "metadata": {
    "tags": []
   },
   "outputs": [],
   "source": [
    "direct_beam = scn.load(\"../../../../data/OFFSPEC00062163.nxs\", mantid_args={\"LoadMonitors\": True},)"
   ]
  },
  {
   "cell_type": "code",
   "execution_count": null,
   "id": "bf023d3d-77e0-427d-bba7-4a69f8c46e10",
   "metadata": {
    "tags": []
   },
   "outputs": [],
   "source": [
    "sample"
   ]
  },
  {
   "cell_type": "markdown",
   "id": "7f451700-5067-48fa-8623-21d5cf90524a",
   "metadata": {},
   "source": [
    "TODO use actual metadata"
   ]
  },
  {
   "cell_type": "code",
   "execution_count": null,
   "id": "1b03f5a7-8b3c-4fee-b059-fb0ab8e91474",
   "metadata": {
    "tags": []
   },
   "outputs": [],
   "source": [
    "from orsopy import fileio\n",
    "from ess.amor.orso import make_orso\n",
    "\n",
    "owner = fileio.base.Person('Jochen Stahn', 'Paul Scherrer Institut', 'jochen.stahn@psi.ch')\n",
    "creator = fileio.base.Person('Andrew R. McCluskey', 'European Spallation Source', 'andrew.mccluskey@ess.eu')\n",
    "\n",
    "orso = make_orso(owner=owner,\n",
    "                 sample=fileio.data_source.Sample('Ni/Ti Multilayer', 'gas/solid', 'air | (Ni | Ti) * 5 | Si'),\n",
    "                 creator=creator,\n",
    "                 reduction_script='https://github.com/scipp/ess/blob/main/docs/instruments/amor/amor_reduction.ipynb')"
   ]
  },
  {
   "cell_type": "code",
   "execution_count": null,
   "id": "de68c213-3cc9-46bc-85f5-c4b678adbab5",
   "metadata": {
    "tags": []
   },
   "outputs": [],
   "source": [
    "sample.attrs['orso'] = sc.scalar(orso)\n",
    "direct_beam.attrs['orso'] = sc.scalar(orso)"
   ]
  },
  {
   "cell_type": "code",
   "execution_count": null,
   "id": "f9f9c550-8a20-4c6d-b7f8-4d605ceef2e2",
   "metadata": {
    "tags": []
   },
   "outputs": [],
   "source": [
    "sample.hist(tof=200).plot()"
   ]
  },
  {
   "cell_type": "code",
   "execution_count": null,
   "id": "4509d65e-43ab-413d-b302-274c0cf3a673",
   "metadata": {
    "tags": []
   },
   "outputs": [],
   "source": [
    "sample.hist(tof=200).sum('spectrum').plot()"
   ]
  },
  {
   "cell_type": "code",
   "execution_count": null,
   "id": "9e50d349-7abf-48fe-b0ee-51e0ea429603",
   "metadata": {
    "tags": []
   },
   "outputs": [],
   "source": [
    "direct_beam.hist(tof=200).sum('spectrum').plot()"
   ]
  },
  {
   "cell_type": "markdown",
   "id": "b1309b6a-0ae7-4799-a1e4-b3625c32329d",
   "metadata": {},
   "source": [
    "sample and direct_beam are misaligned in spectrum."
   ]
  },
  {
   "cell_type": "code",
   "execution_count": null,
   "id": "1d899de6-51c2-42da-93e1-efb9416c58cc",
   "metadata": {
    "tags": []
   },
   "outputs": [],
   "source": [
    "s = sample.hist(tof=200)\n",
    "d = direct_beam.hist(tof=s.coords['tof'])\n",
    "r = s / d\n",
    "r.plot()"
   ]
  },
  {
   "cell_type": "code",
   "execution_count": null,
   "id": "79439e35-b512-4a20-9651-e37cdd1271c6",
   "metadata": {
    "tags": []
   },
   "outputs": [],
   "source": [
    "graph = {**reflectometry.conversions.specular_reflection()}"
   ]
  },
  {
   "cell_type": "code",
   "execution_count": null,
   "id": "a9a9db09-dd4d-4760-b325-a27fd8d18e63",
   "metadata": {
    "tags": []
   },
   "outputs": [],
   "source": [
    "wavelength_edges = sc.linspace('wavelength', 0.8, 14.0, 1000, unit='Å')\n",
    "w_sample = reflectometry.conversions.tof_to_wavelength(sample, wavelength_edges)"
   ]
  },
  {
   "cell_type": "code",
   "execution_count": null,
   "id": "050993e5-8ac1-4e1c-a083-6b93d1916759",
   "metadata": {
    "tags": []
   },
   "outputs": [],
   "source": [
    "w_sample.hist().plot()"
   ]
  },
  {
   "cell_type": "code",
   "execution_count": null,
   "id": "50c20a33-9e4a-4626-8ab9-8d45f8b8783b",
   "metadata": {
    "tags": []
   },
   "outputs": [],
   "source": [
    "w_direct_beam = reflectometry.conversions.tof_to_wavelength(direct_beam, wavelength_edges)"
   ]
  },
  {
   "cell_type": "markdown",
   "id": "2a7b53ca-8024-4001-9845-0c0abbc178c9",
   "metadata": {},
   "source": [
    "Align sample and direct_beam by cropping both in spectrum around the specular peak.\n",
    "Then pretend that the direct beam was measured at the same pixels ('spectrum' and 'position') as the sample."
   ]
  },
  {
   "cell_type": "code",
   "execution_count": null,
   "id": "0a053cab-94fd-4b56-afe5-d302a76278c0",
   "metadata": {
    "tags": []
   },
   "outputs": [],
   "source": [
    "sample_specular_pixel = np.argmax(w_sample.sum('wavelength').values) + w_sample.coords['spectrum'].min().value\n",
    "direct_beam_specular_pixel = np.argmax(w_direct_beam.sum('wavelength').values) + w_direct_beam.coords['spectrum'].min().value\n",
    "width = 15\n",
    "cropped_sample = w_sample['spectrum', sc.index(sample_specular_pixel-width): sc.index(sample_specular_pixel+width)].copy()\n",
    "cropped_direct_beam = w_direct_beam['spectrum', sc.index(direct_beam_specular_pixel-width): sc.index(direct_beam_specular_pixel+width)].copy()\n",
    "cropped_direct_beam.coords['spectrum'] = cropped_sample.coords['spectrum'].copy()\n",
    "cropped_direct_beam.attrs['position'] = cropped_sample.attrs['position'].copy()"
   ]
  },
  {
   "cell_type": "markdown",
   "id": "d2bee272-ee84-4be7-8aa9-4245dba8b670",
   "metadata": {},
   "source": [
    "TODO normalise sample and direct_beam by current (proton charge) and monitor 2 (monitor 1 and 3 are unused)"
   ]
  },
  {
   "cell_type": "code",
   "execution_count": null,
   "id": "3f2242e4-1183-44b3-8aa8-19e7472447fc",
   "metadata": {
    "tags": []
   },
   "outputs": [],
   "source": [
    "ref = sc.values(cropped_direct_beam).hist()\n",
    "w_norm = cropped_sample / ref\n",
    "w_norm.masks['no_reference_neutrons'] = (ref == sc.scalar(0, unit='count')).data\n",
    "w_norm.coords['sample_rotation'] = sample.attrs['Theta'].value[-1].data"
   ]
  },
  {
   "cell_type": "code",
   "execution_count": null,
   "id": "a4f61e27-bcad-4cc0-8815-d3158b53d045",
   "metadata": {
    "tags": []
   },
   "outputs": [],
   "source": [
    "w_norm.hist().plot()"
   ]
  },
  {
   "cell_type": "code",
   "execution_count": null,
   "id": "5e5bf9a6-cfe1-4e0e-8601-9087b270984c",
   "metadata": {
    "tags": []
   },
   "outputs": [],
   "source": [
    "w_norm"
   ]
  },
  {
   "cell_type": "markdown",
   "id": "b9ab84cd-c370-4b5a-8761-dcbbd75abe3e",
   "metadata": {},
   "source": [
    "Gravity seems to be in -y direction."
   ]
  },
  {
   "cell_type": "code",
   "execution_count": null,
   "id": "fc236e0c-5ad7-42cc-a688-44be302ef386",
   "metadata": {
    "tags": []
   },
   "outputs": [],
   "source": [
    "x = w_norm.copy(deep=False)\n",
    "x.attrs['gravity'] = sc.vector([0, -1, 0]) * sc.constants.g\n",
    "norm_q = reflectometry.conversions.theta_to_q(x, q_edges=sc.geomspace('Q', 0.0004, 0.016, 200, unit='1/Å'), graph=graph)"
   ]
  },
  {
   "cell_type": "code",
   "execution_count": null,
   "id": "1fcb62a1-c90d-4a0d-b5bb-a94bd4cb8856",
   "metadata": {
    "tags": []
   },
   "outputs": [],
   "source": [
    "norm_q.hist().plot(norm='log')"
   ]
  },
  {
   "cell_type": "code",
   "execution_count": null,
   "id": "0f02f9bd-272b-4097-9ab4-1f5cfb9e6f60",
   "metadata": {
    "tags": []
   },
   "outputs": [],
   "source": [
    "norm_q.hist().sum('spectrum').plot(norm='log')"
   ]
  }
 ],
 "metadata": {
  "kernelspec": {
   "display_name": "Python 3 (ipykernel)",
   "language": "python",
   "name": "python3"
  },
  "language_info": {
   "codemirror_mode": {
    "name": "ipython",
    "version": 3
   },
   "file_extension": ".py",
   "mimetype": "text/x-python",
   "name": "python",
   "nbconvert_exporter": "python",
   "pygments_lexer": "ipython3",
   "version": "3.8.12"
  }
 },
 "nbformat": 4,
 "nbformat_minor": 5
}
