{
 "cells": [
  {
   "cell_type": "markdown",
   "id": "ffbf4d7c-6eec-4be3-aa60-9235e226304c",
   "metadata": {},
   "source": [
    "# Preprocess POWGEN files\n",
    "\n",
    "Loads test data files with Mantid and stores them as Scipp HDF5 files to be used in the example workflow."
   ]
  },
  {
   "cell_type": "code",
   "execution_count": null,
   "id": "b58104c6-a196-4576-b3f0-9fb6fb1216e9",
   "metadata": {
    "tags": []
   },
   "outputs": [],
   "source": [
    "import scipp as sc\n",
    "import scippneutron as scn\n",
    "import plopp as pp\n",
    "\n",
    "import ess\n",
    "from ess.diffraction.external import load_calibration\n",
    "from ess.diffraction import powder\n",
    "from ess import diffraction\n",
    "from ess.external import powgen"
   ]
  },
  {
   "cell_type": "code",
   "execution_count": null,
   "id": "c88d48df-272a-4f83-8b4a-43450a365b1f",
   "metadata": {
    "tags": []
   },
   "outputs": [],
   "source": [
    "ess.logging.configure_workflow('powgen_preprocess', filename=None)"
   ]
  },
  {
   "cell_type": "markdown",
   "id": "136323fc-b86c-46b3-a4f8-632151d4fb9a",
   "metadata": {},
   "source": [
    "## Sample"
   ]
  },
  {
   "cell_type": "code",
   "execution_count": null,
   "id": "122e026b-09ce-45d0-bbb6-f839faa534b6",
   "metadata": {},
   "outputs": [],
   "source": [
    "sample = scn.load(powgen.data.mantid_sample_file(),\n",
    "                  advanced_geometry=True,\n",
    "                  load_pulse_times=False,\n",
    "                  mantid_args={\"LoadMonitors\": False})"
   ]
  },
  {
   "cell_type": "code",
   "execution_count": null,
   "id": "d11a14a8-0fb7-4857-a234-e055d61d06ff",
   "metadata": {},
   "outputs": [],
   "source": [
    "sample"
   ]
  },
  {
   "cell_type": "code",
   "execution_count": null,
   "id": "ab654cbe-44e4-4925-8e51-3695bc6fc193",
   "metadata": {},
   "outputs": [],
   "source": [
    "sample.coords['gd_prtn_chrg'] = sample.attrs.pop('gd_prtn_chrg')\n",
    "sample.coords.set_aligned('gd_prtn_chrg', False)\n",
    "sample.attrs.clear()\n",
    "sample_dg = sc.DataGroup({\n",
    "    'data': sample,\n",
    "    'detector_info': sample.coords.pop('detector_info').value,\n",
    "})"
   ]
  },
  {
   "cell_type": "code",
   "execution_count": null,
   "id": "2d878953-7056-48c5-8f2c-870f8f980046",
   "metadata": {},
   "outputs": [],
   "source": [
    "sample_dg"
   ]
  },
  {
   "cell_type": "code",
   "execution_count": null,
   "id": "f63e67ec-3199-426b-8e0e-e5ac835f3548",
   "metadata": {},
   "outputs": [],
   "source": [
    "sample_dg.save_hdf5('PG3_4844_event.h5')"
   ]
  },
  {
   "cell_type": "code",
   "execution_count": null,
   "id": "2b3863ed-ee5e-4cc0-a8fb-6ed8cdc66687",
   "metadata": {},
   "outputs": [],
   "source": [
    "sc.io.load_hdf5('PG3_4844_event.h5')"
   ]
  },
  {
   "cell_type": "markdown",
   "id": "6ba80e9c-9e09-4f8d-8c8b-0fab13a65483",
   "metadata": {},
   "source": [
    "## Vana"
   ]
  },
  {
   "cell_type": "code",
   "execution_count": null,
   "id": "be8ed197-1b2d-442f-9f0e-ca64aa128c7d",
   "metadata": {},
   "outputs": [],
   "source": [
    "vana = scn.load(powgen.data.mantid_vanadium_file(),\n",
    "                advanced_geometry=False,\n",
    "                load_pulse_times=True,\n",
    "                mantid_args={\"LoadMonitors\": False})"
   ]
  },
  {
   "cell_type": "code",
   "execution_count": null,
   "id": "5dde24e6-57ca-4d23-b7b2-b3937c6f61be",
   "metadata": {},
   "outputs": [],
   "source": [
    "vana.coords['gd_prtn_chrg'] = vana.attrs.pop('gd_prtn_chrg')\n",
    "vana.coords.set_aligned('gd_prtn_chrg', False)\n",
    "vana_dg = sc.DataGroup({\n",
    "    'data': vana,\n",
    "    'proton_charge': vana.attrs.pop('proton_charge').value.rename(time='pulse_time')\n",
    "})\n",
    "vana.attrs.clear()"
   ]
  },
  {
   "cell_type": "code",
   "execution_count": null,
   "id": "4e35b7d7-7f65-4551-bf9a-99c4fd1118e6",
   "metadata": {},
   "outputs": [],
   "source": [
    "vana_dg"
   ]
  },
  {
   "cell_type": "code",
   "execution_count": null,
   "id": "0065ddd4-4d7e-4b06-b133-f56b43b9aa18",
   "metadata": {},
   "outputs": [],
   "source": [
    "vana_dg['data'].bins.constituents['data']"
   ]
  },
  {
   "cell_type": "code",
   "execution_count": null,
   "id": "ec0493a6-1b1f-42da-bc05-f5f511a95866",
   "metadata": {},
   "outputs": [],
   "source": [
    "vana_dg['data'].bins.constituents['data'].coords['tof']"
   ]
  },
  {
   "cell_type": "code",
   "execution_count": null,
   "id": "dd961cbf-ba31-499f-9d8b-f28764f7314f",
   "metadata": {},
   "outputs": [],
   "source": [
    "vana_dg.save_hdf5('PG3_4866_event.h5')"
   ]
  },
  {
   "cell_type": "code",
   "execution_count": null,
   "id": "a85a87e6-0cd8-4b9d-9a70-b9046da32973",
   "metadata": {},
   "outputs": [],
   "source": [
    "sc.io.load_hdf5('PG3_4866_event.h5')"
   ]
  },
  {
   "cell_type": "markdown",
   "id": "237910ef-43c0-4de1-b020-780cf99239de",
   "metadata": {},
   "source": [
    "## Calibration"
   ]
  },
  {
   "cell_type": "code",
   "execution_count": null,
   "id": "6a667f13-667a-4674-b6ab-b64ebd6b2ee5",
   "metadata": {},
   "outputs": [],
   "source": [
    "cal = load_calibration(\n",
    "    powgen.data.mantid_calibration_file(),\n",
    "    instrument_filename='POWGEN_Definition_2011-02-25.xml',\n",
    ")"
   ]
  },
  {
   "cell_type": "code",
   "execution_count": null,
   "id": "b8039daf-c52e-4e6e-9fa1-212807de45ec",
   "metadata": {},
   "outputs": [],
   "source": [
    "cal"
   ]
  },
  {
   "cell_type": "code",
   "execution_count": null,
   "id": "e0a850c2-56ec-4aa9-b8fa-9b59223dfcc3",
   "metadata": {},
   "outputs": [],
   "source": [
    "cal.save_hdf5('PG3_FERNS_d4832_2011_08_24.h5')"
   ]
  },
  {
   "cell_type": "code",
   "execution_count": null,
   "id": "6ba4e3e4-da92-40d9-92cb-e38afc8a339c",
   "metadata": {},
   "outputs": [],
   "source": [
    "sc.io.load_hdf5('PG3_FERNS_d4832_2011_08_24.h5')"
   ]
  }
 ],
 "metadata": {
  "kernelspec": {
   "display_name": "Python 3 (ipykernel)",
   "language": "python",
   "name": "python3"
  },
  "language_info": {
   "codemirror_mode": {
    "name": "ipython",
    "version": 3
   },
   "file_extension": ".py",
   "mimetype": "text/x-python",
   "name": "python",
   "nbconvert_exporter": "python",
   "pygments_lexer": "ipython3",
   "version": "3.8.17"
  }
 },
 "nbformat": 4,
 "nbformat_minor": 5
}
