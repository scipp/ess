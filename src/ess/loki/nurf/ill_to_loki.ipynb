{
 "cells": [
  {
   "cell_type": "code",
   "execution_count": null,
   "metadata": {},
   "outputs": [],
   "source": [
    "from nurf import *\n",
    "from ill_auxilliary_funcs import *"
   ]
  },
  {
   "cell_type": "code",
   "execution_count": null,
   "metadata": {},
   "outputs": [],
   "source": [
    "# Location processed files\n",
    "process_folder='/Users/gudlo523/Library/CloudStorage/OneDrive-LundUniversity/UU/ILL_947_June_2021/212/d22/exp_9-13-947/processed/ess_version'\n",
    "\n",
    "# Location for LOKI_basic.nxs\n",
    "path_to_loki_file=process_folder\n",
    "\n",
    "# create LOKI_basic.nxs\n",
    "loki_file='LOKI_basic.nxs'\n",
    "loki_file_creator(path_to_loki_file, loki_file)\n",
    "\n",
    "# Location raw data files\n",
    "path_rawdata='/Users/gudlo523/Library/CloudStorage/OneDrive-LundUniversity/UU/ILL_947_June_2021/212/d22/exp_9-13-947/rawdata'\n",
    "os.chdir(path_rawdata)\n",
    "\n",
    "\n",
    "flist=os.listdir(path_rawdata)\n",
    "print(type(flist), flist[0], os.path.splitext(flist[0])[0])\n",
    "# get only filenumbers\n",
    "flist_num=[os.path.splitext(fnumber)[0] for fnumber in flist]\n",
    "\n",
    "# file numbers for ILL experiment 947\n",
    "#scan numbers in exp 5 \n",
    "exp5=[66017, 66020, 66023, 66026, 66029, 66032, 66034, 66037, 66040, 66043, 66046]\n",
    "#scan numbers in exp 6\n",
    "exp6= [66050, 66053, 66056, 66059, 66062, 66065, 66068, 66071, 66074, 66077, 66080]\n",
    "scan_numbers=[exp5, exp6]\n",
    "for i in scan_numbers:\n",
    "    convert_ill2loki(i, path_to_loki_file, loki_file, path_rawdata, process_folder)\n",
    "\n",
    "\n",
    "# scan number in exp 7 and exp8\n",
    "exp7= [66083, 66086, 66089, 66092, 66095, 66098, 66101, 66104, 66107, 66110, 66113]\n",
    "exp8= [66116, 66119, 66122, 66125, 66128, 66131, 66134, 66137, 66140, 66143, 66146]\n",
    "\n",
    "scan_numbers= [exp7, exp8]\n",
    "\n",
    "for i in scan_numbers:\n",
    "    convert_ill2loki(i, path_to_loki_file, loki_file, path_rawdata, process_folder)\n",
    "\n",
    "#exp2 \n",
    "exp2=[65925, 65927, 65930, 65933, 65936, 65939, 65942, 65945, 65948, 65951, 65954, 65957]\n",
    "exp3= [65962, 65965, 65968, 65971, 65974, 65977, 65980, 65983, 65986, 65989, 65992]\n",
    "\n",
    "scan_numbers= [exp2, exp3]\n",
    "\n",
    "for i in scan_numbers:\n",
    "    convert_ill2loki(i, path_to_loki_file, loki_file, path_rawdata, process_folder)\n",
    "\n",
    "\n",
    "\n",
    "\n",
    "\n",
    "   "
   ]
  },
  {
   "cell_type": "code",
   "execution_count": null,
   "metadata": {},
   "outputs": [],
   "source": []
  }
 ],
 "metadata": {
  "kernelspec": {
   "display_name": "Python 3.8.12 ('scippneutron')",
   "language": "python",
   "name": "python3"
  },
  "language_info": {
   "codemirror_mode": {
    "name": "ipython",
    "version": 3
   },
   "file_extension": ".py",
   "mimetype": "text/x-python",
   "name": "python",
   "nbconvert_exporter": "python",
   "pygments_lexer": "ipython3",
   "version": "3.8.12"
  },
  "orig_nbformat": 4,
  "vscode": {
   "interpreter": {
    "hash": "410bfb39d85b3112e66f48ab3e53bb74ad7e7b3fb364f756ca860b5a3cf79ca2"
   }
  }
 },
 "nbformat": 4,
 "nbformat_minor": 2
}
